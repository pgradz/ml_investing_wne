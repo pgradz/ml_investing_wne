{
 "cells": [
  {
   "cell_type": "code",
   "execution_count": 1,
   "id": "9624b17c-1363-4935-8253-c8f2a06b247f",
   "metadata": {},
   "outputs": [
    {
     "name": "stderr",
     "output_type": "stream",
     "text": [
      "2022-08-22 14:40:58.889612: W tensorflow/stream_executor/platform/default/dso_loader.cc:64] Could not load dynamic library 'libcudart.so.11.0'; dlerror: libcudart.so.11.0: cannot open shared object file: No such file or directory\n",
      "2022-08-22 14:40:58.889666: I tensorflow/stream_executor/cuda/cudart_stub.cc:29] Ignore above cudart dlerror if you do not have a GPU set up on your machine.\n"
     ]
    }
   ],
   "source": [
    "import datetime\n",
    "import os\n",
    "import random\n",
    "import numpy as np\n",
    "from keras.callbacks import ModelCheckpoint, EarlyStopping, CSVLogger\n",
    "from tensorflow.keras.utils import plot_model\n",
    "from tensorflow.keras.models import load_model\n",
    "import tensorflow as tf\n",
    "import mlflow.keras\n",
    "import importlib\n",
    "import joblib\n",
    "from sklearn.metrics import roc_auc_score, f1_score\n",
    "\n",
    "import ml_investing_wne.config as config\n",
    "from ml_investing_wne.data_engineering.load_data import get_hist_data\n",
    "from ml_investing_wne.data_engineering.prepare_dataset import prepare_processed_dataset\n",
    "from ml_investing_wne.train_test_val_split import train_test_val_split\n",
    "from ml_investing_wne.helper import confusion_matrix_plot, compute_profitability_classes\n",
    "from ml_investing_wne.utils import get_logger"
   ]
  },
  {
   "cell_type": "code",
   "execution_count": 2,
   "id": "d2749e7c-7db1-4b56-9158-2e0a29454843",
   "metadata": {},
   "outputs": [],
   "source": [
    "seed = 12345\n",
    "random.seed(seed)\n",
    "np.random.seed(seed)\n",
    "tf.random.set_seed(seed)"
   ]
  },
  {
   "cell_type": "code",
   "execution_count": 3,
   "id": "9bd9a03b-4610-4892-bf81-2e2aec0908ec",
   "metadata": {},
   "outputs": [
    {
     "name": "stderr",
     "output_type": "stream",
     "text": [
      "2022/08/22 14:41:02 WARNING mlflow.utils.autologging_utils: You are using an unsupported version of tensorflow. If you encounter errors during autologging, try upgrading / downgrading tensorflow to a supported version, or try upgrading MLflow.\n"
     ]
    }
   ],
   "source": [
    "build_model = getattr(importlib.import_module('ml_investing_wne.cnn.{}'.format(config.model)),\n",
    "                      'build_model')\n",
    "\n",
    "# autlog ends run after keras.fit, hence all logging later will be added to another run. This is\n",
    "# inconvenient, but the alternative is to manually create run and replicate functionalities of autlog\n",
    "mlflow.tensorflow.autolog()\n",
    "\n",
    "df = get_hist_data(currency=config.currency)\n",
    "df = prepare_processed_dataset(df=df, features=False)\n",
    "X, y, X_val, y_val, X_test, y_test, y_cat, y_val_cat, y_test_cat, train = train_test_val_split(df)\n"
   ]
  },
  {
   "cell_type": "code",
   "execution_count": 4,
   "id": "369d3869-8d46-4b64-b33a-381af2bbc4b8",
   "metadata": {},
   "outputs": [
    {
     "data": {
      "text/html": [
       "<div>\n",
       "<style scoped>\n",
       "    .dataframe tbody tr th:only-of-type {\n",
       "        vertical-align: middle;\n",
       "    }\n",
       "\n",
       "    .dataframe tbody tr th {\n",
       "        vertical-align: top;\n",
       "    }\n",
       "\n",
       "    .dataframe thead th {\n",
       "        text-align: right;\n",
       "    }\n",
       "</style>\n",
       "<table border=\"1\" class=\"dataframe\">\n",
       "  <thead>\n",
       "    <tr style=\"text-align: right;\">\n",
       "      <th></th>\n",
       "      <th>datetime</th>\n",
       "      <th>open</th>\n",
       "      <th>high</th>\n",
       "      <th>low</th>\n",
       "      <th>close</th>\n",
       "      <th>y_pred</th>\n",
       "    </tr>\n",
       "  </thead>\n",
       "  <tbody>\n",
       "    <tr>\n",
       "      <th>0</th>\n",
       "      <td>2010-01-03 17:00:00</td>\n",
       "      <td>1.4832</td>\n",
       "      <td>1.4832</td>\n",
       "      <td>1.4822</td>\n",
       "      <td>1.4824</td>\n",
       "      <td>1</td>\n",
       "    </tr>\n",
       "    <tr>\n",
       "      <th>1</th>\n",
       "      <td>2010-01-03 18:00:00</td>\n",
       "      <td>1.4824</td>\n",
       "      <td>1.4836</td>\n",
       "      <td>1.4823</td>\n",
       "      <td>1.4834</td>\n",
       "      <td>0</td>\n",
       "    </tr>\n",
       "    <tr>\n",
       "      <th>2</th>\n",
       "      <td>2010-01-03 19:00:00</td>\n",
       "      <td>1.4833</td>\n",
       "      <td>1.4847</td>\n",
       "      <td>1.4807</td>\n",
       "      <td>1.4825</td>\n",
       "      <td>1</td>\n",
       "    </tr>\n",
       "    <tr>\n",
       "      <th>3</th>\n",
       "      <td>2010-01-03 20:00:00</td>\n",
       "      <td>1.4825</td>\n",
       "      <td>1.4831</td>\n",
       "      <td>1.4814</td>\n",
       "      <td>1.4829</td>\n",
       "      <td>0</td>\n",
       "    </tr>\n",
       "    <tr>\n",
       "      <th>4</th>\n",
       "      <td>2010-01-03 21:00:00</td>\n",
       "      <td>1.4830</td>\n",
       "      <td>1.4832</td>\n",
       "      <td>1.4811</td>\n",
       "      <td>1.4824</td>\n",
       "      <td>0</td>\n",
       "    </tr>\n",
       "  </tbody>\n",
       "</table>\n",
       "</div>"
      ],
      "text/plain": [
       "             datetime    open    high     low   close  y_pred\n",
       "0 2010-01-03 17:00:00  1.4832  1.4832  1.4822  1.4824       1\n",
       "1 2010-01-03 18:00:00  1.4824  1.4836  1.4823  1.4834       0\n",
       "2 2010-01-03 19:00:00  1.4833  1.4847  1.4807  1.4825       1\n",
       "3 2010-01-03 20:00:00  1.4825  1.4831  1.4814  1.4829       0\n",
       "4 2010-01-03 21:00:00  1.4830  1.4832  1.4811  1.4824       0"
      ]
     },
     "execution_count": 4,
     "metadata": {},
     "output_type": "execute_result"
    }
   ],
   "source": [
    "df.head()"
   ]
  },
  {
   "cell_type": "code",
   "execution_count": 5,
   "id": "e6d0e181-bffa-406d-abef-67cf33e9e1f0",
   "metadata": {},
   "outputs": [
    {
     "data": {
      "text/plain": [
       "(62058, 96, 4)"
      ]
     },
     "execution_count": 5,
     "metadata": {},
     "output_type": "execute_result"
    }
   ],
   "source": [
    "X.shape"
   ]
  },
  {
   "cell_type": "code",
   "execution_count": 6,
   "id": "9f7b8ff2-5094-44d3-8cd3-59b2c6644446",
   "metadata": {},
   "outputs": [],
   "source": [
    "early_stop = EarlyStopping(monitor='val_accuracy', patience=config.patience, restore_best_weights=True)\n",
    "csv_logger = CSVLogger(os.path.join(config.package_directory, 'logs', 'keras_log.csv'), append=True,\n",
    "                       separator=';')\n",
    "callbacks = [early_stop, csv_logger]"
   ]
  },
  {
   "cell_type": "code",
   "execution_count": 7,
   "id": "c25474ae-d67d-4b33-adc9-9e9d22e08aa6",
   "metadata": {},
   "outputs": [
    {
     "name": "stderr",
     "output_type": "stream",
     "text": [
      "2022-08-22 14:42:27.362564: W tensorflow/stream_executor/platform/default/dso_loader.cc:64] Could not load dynamic library 'libcuda.so.1'; dlerror: libcuda.so.1: cannot open shared object file: No such file or directory\n",
      "2022-08-22 14:42:27.362611: W tensorflow/stream_executor/cuda/cuda_driver.cc:269] failed call to cuInit: UNKNOWN ERROR (303)\n",
      "2022-08-22 14:42:27.362634: I tensorflow/stream_executor/cuda/cuda_diagnostics.cc:156] kernel driver does not appear to be running on this host (python-20220811): /proc/driver/nvidia/version does not exist\n",
      "2022-08-22 14:42:27.362880: I tensorflow/core/platform/cpu_feature_guard.cc:142] This TensorFlow binary is optimized with oneAPI Deep Neural Network Library (oneDNN) to use the following CPU instructions in performance-critical operations:  AVX2 AVX512F FMA\n",
      "To enable them in other operations, rebuild TensorFlow with the appropriate compiler flags.\n"
     ]
    }
   ],
   "source": [
    "model = build_model(input_shape=(config.seq_len, 4), head_size=64, num_heads=4, ff_dim=64,\n",
    "                    num_transformer_blocks=4, mlp_units=[128], mlp_dropout=0.25, dropout=0.25)"
   ]
  },
  {
   "cell_type": "code",
   "execution_count": 8,
   "id": "99f96a27-3d66-4066-9682-06f950edbbcb",
   "metadata": {},
   "outputs": [
    {
     "name": "stderr",
     "output_type": "stream",
     "text": [
      "2022/08/22 14:42:28 INFO mlflow.utils.autologging_utils: Created MLflow autologging run with ID 'bbc6d10eac044278993961a66f9424c7', which will track hyperparameters, performance metrics, model artifacts, and lineage information for the current tensorflow workflow\n",
      "2022-08-22 14:42:28.870302: I tensorflow/core/profiler/lib/profiler_session.cc:131] Profiler session initializing.\n",
      "2022-08-22 14:42:28.870393: I tensorflow/core/profiler/lib/profiler_session.cc:146] Profiler session started.\n",
      "2022-08-22 14:42:28.871102: I tensorflow/core/profiler/lib/profiler_session.cc:164] Profiler session tear down.\n",
      "2022-08-22 14:42:29.353351: I tensorflow/compiler/mlir/mlir_graph_optimization_pass.cc:185] None of the MLIR Optimization Passes are enabled (registered 2)\n"
     ]
    },
    {
     "name": "stdout",
     "output_type": "stream",
     "text": [
      "Epoch 1/100\n"
     ]
    },
    {
     "name": "stderr",
     "output_type": "stream",
     "text": [
      "2022-08-22 14:42:34.600074: I tensorflow/core/profiler/lib/profiler_session.cc:131] Profiler session initializing.\n",
      "2022-08-22 14:42:34.600135: I tensorflow/core/profiler/lib/profiler_session.cc:146] Profiler session started.\n",
      "2022-08-22 14:42:35.063088: I tensorflow/core/profiler/lib/profiler_session.cc:66] Profiler session collecting data.\n",
      "2022-08-22 14:42:35.069495: I tensorflow/core/profiler/lib/profiler_session.cc:164] Profiler session tear down.\n",
      "2022-08-22 14:42:35.081602: I tensorflow/core/profiler/rpc/client/save_profile.cc:136] Creating directory: /tmp/tmp9ex32rh5/train/plugins/profile/2022_08_22_14_42_35\n",
      "\n",
      "2022-08-22 14:42:35.087961: I tensorflow/core/profiler/rpc/client/save_profile.cc:142] Dumped gzipped tool data for trace.json.gz to /tmp/tmp9ex32rh5/train/plugins/profile/2022_08_22_14_42_35/python-20220811.trace.json.gz\n",
      "2022-08-22 14:42:35.101539: I tensorflow/core/profiler/rpc/client/save_profile.cc:136] Creating directory: /tmp/tmp9ex32rh5/train/plugins/profile/2022_08_22_14_42_35\n",
      "\n",
      "2022-08-22 14:42:35.101857: I tensorflow/core/profiler/rpc/client/save_profile.cc:142] Dumped gzipped tool data for memory_profile.json.gz to /tmp/tmp9ex32rh5/train/plugins/profile/2022_08_22_14_42_35/python-20220811.memory_profile.json.gz\n",
      "2022-08-22 14:42:35.103818: I tensorflow/core/profiler/rpc/client/capture_profile.cc:251] Creating directory: /tmp/tmp9ex32rh5/train/plugins/profile/2022_08_22_14_42_35\n",
      "Dumped tool data for xplane.pb to /tmp/tmp9ex32rh5/train/plugins/profile/2022_08_22_14_42_35/python-20220811.xplane.pb\n",
      "Dumped tool data for overview_page.pb to /tmp/tmp9ex32rh5/train/plugins/profile/2022_08_22_14_42_35/python-20220811.overview_page.pb\n",
      "Dumped tool data for input_pipeline.pb to /tmp/tmp9ex32rh5/train/plugins/profile/2022_08_22_14_42_35/python-20220811.input_pipeline.pb\n",
      "Dumped tool data for tensorflow_stats.pb to /tmp/tmp9ex32rh5/train/plugins/profile/2022_08_22_14_42_35/python-20220811.tensorflow_stats.pb\n",
      "Dumped tool data for kernel_stats.pb to /tmp/tmp9ex32rh5/train/plugins/profile/2022_08_22_14_42_35/python-20220811.kernel_stats.pb\n",
      "\n"
     ]
    },
    {
     "name": "stdout",
     "output_type": "stream",
     "text": [
      "970/970 - 420s - loss: 0.7089 - accuracy: 0.4960 - val_loss: 0.6932 - val_accuracy: 0.4947\n",
      "Epoch 2/100\n",
      "970/970 - 403s - loss: 0.6934 - accuracy: 0.5035 - val_loss: 0.6932 - val_accuracy: 0.5053\n",
      "Epoch 3/100\n",
      "970/970 - 403s - loss: 0.6931 - accuracy: 0.5065 - val_loss: 0.6932 - val_accuracy: 0.5053\n",
      "Epoch 4/100\n",
      "970/970 - 403s - loss: 0.6931 - accuracy: 0.5058 - val_loss: 0.6931 - val_accuracy: 0.5053\n",
      "Epoch 5/100\n",
      "970/970 - 405s - loss: 0.6933 - accuracy: 0.5049 - val_loss: 0.6931 - val_accuracy: 0.5053\n",
      "Epoch 6/100\n",
      "970/970 - 407s - loss: 0.6931 - accuracy: 0.5040 - val_loss: 0.6931 - val_accuracy: 0.5053\n",
      "Epoch 7/100\n",
      "970/970 - 402s - loss: 0.6931 - accuracy: 0.5057 - val_loss: 0.6931 - val_accuracy: 0.5053\n",
      "Epoch 8/100\n",
      "970/970 - 403s - loss: 0.6931 - accuracy: 0.5054 - val_loss: 0.6931 - val_accuracy: 0.5053\n",
      "Epoch 9/100\n",
      "970/970 - 404s - loss: 0.6933 - accuracy: 0.5031 - val_loss: 0.6931 - val_accuracy: 0.5053\n",
      "Epoch 10/100\n",
      "970/970 - 404s - loss: 0.6931 - accuracy: 0.5045 - val_loss: 0.6931 - val_accuracy: 0.5053\n",
      "Epoch 11/100\n",
      "970/970 - 405s - loss: 0.6931 - accuracy: 0.5051 - val_loss: 0.6931 - val_accuracy: 0.5053\n",
      "Epoch 12/100\n",
      "970/970 - 409s - loss: 0.6931 - accuracy: 0.5057 - val_loss: 0.6931 - val_accuracy: 0.5053\n",
      "Epoch 13/100\n",
      "970/970 - 406s - loss: 0.6931 - accuracy: 0.5049 - val_loss: 0.6931 - val_accuracy: 0.5053\n",
      "Epoch 14/100\n",
      "970/970 - 403s - loss: 0.6931 - accuracy: 0.5058 - val_loss: 0.6931 - val_accuracy: 0.5053\n",
      "Epoch 15/100\n",
      "970/970 - 402s - loss: 0.6931 - accuracy: 0.5039 - val_loss: 0.6931 - val_accuracy: 0.5053\n",
      "Epoch 16/100\n",
      "970/970 - 403s - loss: 0.6931 - accuracy: 0.5048 - val_loss: 0.6931 - val_accuracy: 0.5053\n",
      "Epoch 17/100\n",
      "970/970 - 405s - loss: 0.6931 - accuracy: 0.5057 - val_loss: 0.6931 - val_accuracy: 0.5053\n"
     ]
    },
    {
     "name": "stderr",
     "output_type": "stream",
     "text": [
      "2022-08-22 16:37:20.682430: W tensorflow/python/util/util.cc:348] Sets are not currently considered sequences, but this may change in the future, so consider avoiding using them.\n",
      "WARNING:absl:Found untraced functions such as embedding_layer_call_and_return_conditional_losses, embedding_layer_call_fn, query_layer_call_and_return_conditional_losses, query_layer_call_fn, key_layer_call_and_return_conditional_losses while saving (showing 5 of 125). These functions will not be directly callable after loading.\n"
     ]
    },
    {
     "name": "stdout",
     "output_type": "stream",
     "text": [
      "INFO:tensorflow:Assets written to: /tmp/tmp0_3wxao2/model/data/model/assets\n"
     ]
    },
    {
     "name": "stderr",
     "output_type": "stream",
     "text": [
      "INFO:tensorflow:Assets written to: /tmp/tmp0_3wxao2/model/data/model/assets\n"
     ]
    }
   ],
   "source": [
    "history = model.fit(X, y_cat, batch_size=64, epochs=config.epochs, verbose=2,\n",
    "                    validation_data=(X_val, y_val_cat), callbacks=callbacks)"
   ]
  },
  {
   "cell_type": "code",
   "execution_count": null,
   "id": "961f7940-a8b8-44d5-a6e2-ecac2dc6bb5b",
   "metadata": {},
   "outputs": [],
   "source": []
  }
 ],
 "metadata": {
  "environment": {
   "kernel": "python3",
   "name": "common-cpu.m95",
   "type": "gcloud",
   "uri": "gcr.io/deeplearning-platform-release/base-cpu:m95"
  },
  "kernelspec": {
   "display_name": "Python 3",
   "language": "python",
   "name": "python3"
  },
  "language_info": {
   "codemirror_mode": {
    "name": "ipython",
    "version": 3
   },
   "file_extension": ".py",
   "mimetype": "text/x-python",
   "name": "python",
   "nbconvert_exporter": "python",
   "pygments_lexer": "ipython3",
   "version": "3.7.12"
  }
 },
 "nbformat": 4,
 "nbformat_minor": 5
}
