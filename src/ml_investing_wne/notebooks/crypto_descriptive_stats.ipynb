{
 "cells": [
  {
   "cell_type": "code",
   "execution_count": 1,
   "metadata": {},
   "outputs": [],
   "source": [
    "import pandas as pd\n",
    "import ml_investing_wne.config as config"
   ]
  },
  {
   "cell_type": "code",
   "execution_count": 2,
   "metadata": {},
   "outputs": [
    {
     "data": {
      "text/plain": [
       "datetime.datetime(2022, 1, 1, 0, 0)"
      ]
     },
     "execution_count": 2,
     "metadata": {},
     "output_type": "execute_result"
    }
   ],
   "source": [
    "config.train_end"
   ]
  },
  {
   "cell_type": "code",
   "execution_count": 20,
   "metadata": {},
   "outputs": [],
   "source": [
    "def descriptive_stats(crypto, interval):\n",
    "    path = config.processed_data_path + f'/binance_{crypto}/time_aggregated_{interval}min.csv'\n",
    "    df = pd.read_csv(path, parse_dates=['datetime'])\n",
    "    df = df.loc[df['datetime'] < config.train_end]\n",
    "    print(df['volume'].describe())\n"
   ]
  },
  {
   "cell_type": "code",
   "execution_count": 21,
   "metadata": {},
   "outputs": [
    {
     "name": "stdout",
     "output_type": "stream",
     "text": [
      "count     35064.000000\n",
      "mean      24747.880911\n",
      "std       28920.881730\n",
      "min           0.000000\n",
      "25%        7963.355803\n",
      "50%       16158.404390\n",
      "75%       30434.545453\n",
      "max      493227.882820\n",
      "Name: volume, dtype: float64\n"
     ]
    }
   ],
   "source": [
    "descriptive_stats('ETHUSDT', '60')"
   ]
  },
  {
   "cell_type": "code",
   "execution_count": 22,
   "metadata": {},
   "outputs": [
    {
     "name": "stdout",
     "output_type": "stream",
     "text": [
      "count    2.922000e+03\n",
      "mean     2.969746e+05\n",
      "std      2.696309e+05\n",
      "min      0.000000e+00\n",
      "25%      1.162914e+05\n",
      "50%      2.210164e+05\n",
      "75%      3.905031e+05\n",
      "max      2.868591e+06\n",
      "Name: volume, dtype: float64\n"
     ]
    }
   ],
   "source": [
    "descriptive_stats('ETHUSDT', '720')"
   ]
  },
  {
   "cell_type": "code",
   "execution_count": 24,
   "metadata": {},
   "outputs": [
    {
     "name": "stdout",
     "output_type": "stream",
     "text": [
      "count    2.342400e+04\n",
      "mean     1.779039e+07\n",
      "std      3.167630e+07\n",
      "min      0.000000e+00\n",
      "25%      4.540502e+06\n",
      "50%      9.228354e+06\n",
      "75%      1.941331e+07\n",
      "max      1.481561e+09\n",
      "Name: volume, dtype: float64\n"
     ]
    }
   ],
   "source": [
    "descriptive_stats('MATICUSDT', '60')"
   ]
  },
  {
   "cell_type": "code",
   "execution_count": 25,
   "metadata": {},
   "outputs": [
    {
     "data": {
      "text/plain": [
       "17790390.0"
      ]
     },
     "execution_count": 25,
     "metadata": {},
     "output_type": "execute_result"
    }
   ],
   "source": [
    "1.779039e+07"
   ]
  },
  {
   "cell_type": "code",
   "execution_count": 26,
   "metadata": {},
   "outputs": [
    {
     "name": "stdout",
     "output_type": "stream",
     "text": [
      "count    3.506000e+04\n",
      "mean     2.662919e+04\n",
      "std      4.122890e+04\n",
      "min      0.000000e+00\n",
      "25%      6.289276e+03\n",
      "50%      1.352284e+04\n",
      "75%      3.069094e+04\n",
      "max      2.249842e+06\n",
      "Name: volume, dtype: float64\n"
     ]
    }
   ],
   "source": [
    "descriptive_stats('LTCUSDT', '60')"
   ]
  },
  {
   "cell_type": "code",
   "execution_count": 27,
   "metadata": {},
   "outputs": [
    {
     "data": {
      "text/plain": [
       "26629.19"
      ]
     },
     "execution_count": 27,
     "metadata": {},
     "output_type": "execute_result"
    }
   ],
   "source": [
    "2.662919e+04"
   ]
  },
  {
   "cell_type": "code",
   "execution_count": null,
   "metadata": {},
   "outputs": [],
   "source": []
  }
 ],
 "metadata": {
  "kernelspec": {
   "display_name": "Python 3",
   "language": "python",
   "name": "python3"
  },
  "language_info": {
   "codemirror_mode": {
    "name": "ipython",
    "version": 3
   },
   "file_extension": ".py",
   "mimetype": "text/x-python",
   "name": "python",
   "nbconvert_exporter": "python",
   "pygments_lexer": "ipython3",
   "version": "3.8.16"
  },
  "orig_nbformat": 4
 },
 "nbformat": 4,
 "nbformat_minor": 2
}
