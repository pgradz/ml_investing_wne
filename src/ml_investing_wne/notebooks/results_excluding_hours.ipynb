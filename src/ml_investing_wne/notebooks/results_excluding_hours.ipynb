{
 "cells": [
  {
   "cell_type": "code",
   "execution_count": 6,
   "id": "1f5e27f8-30f3-45c8-919b-1dc5bdd5f598",
   "metadata": {},
   "outputs": [],
   "source": [
    "import datetime\n",
    "import os\n",
    "import random\n",
    "import numpy as np\n",
    "from tensorflow.keras.models import load_model\n",
    "import tensorflow as tf\n",
    "\n",
    "import ml_investing_wne.config as config\n",
    "from ml_investing_wne.data_engineering.load_data import get_hist_data\n",
    "from ml_investing_wne.data_engineering.prepare_dataset import prepare_processed_dataset\n",
    "from ml_investing_wne.train_test_val_split import train_test_val_split\n",
    "from ml_investing_wne.helper import confusion_matrix_plot, compute_profitability_classes, \\\n",
    "    get_final_model_path, add_cost, load_test_dates\n",
    "from ml_investing_wne.utils import get_logger\n",
    "\n",
    "\n",
    "seed = 12345\n",
    "random.seed(seed)\n",
    "np.random.seed(seed)\n",
    "tf.random.set_seed(seed)\n",
    "                   \n",
    "logger = get_logger()"
   ]
  },
  {
   "cell_type": "code",
   "execution_count": 2,
   "id": "ada56578-4ebe-4e36-a920-131e8b55673c",
   "metadata": {},
   "outputs": [
    {
     "name": "stderr",
     "output_type": "stream",
     "text": [
      "2022-11-01 15:11:57,796 - ml_investing_wne.data_engineering.prepare_dataset - exported to /Users/i0495036/Documents/sandbox/ml_investing_wne/ml_investing_wne/src/ml_investing_wne/data/processed/EURCHF/EURCHF_processed_60min.csv\n",
      "2022-11-01 15:11:57,933 - ml_investing_wne.train_test_val_split - first sequence begins: 2010-01-05 02:00:00\n",
      "2022-11-01 15:11:57,933 - ml_investing_wne.train_test_val_split - first sequence ends: 2010-01-11 00:00:00\n",
      "2022-11-01 15:11:58,204 - ml_investing_wne.train_test_val_split - last sequence begins: 2019-12-24 09:00:00\n",
      "2022-11-01 15:11:58,205 - ml_investing_wne.train_test_val_split - last sequence ends: 2019-12-30 23:00:00\n",
      "2022-11-01 15:11:59,117 - ml_investing_wne.train_test_val_split - first sequence begins: 2019-12-27 01:00:00\n",
      "2022-11-01 15:11:59,118 - ml_investing_wne.train_test_val_split - first sequence ends: 2020-01-03 00:00:00\n",
      "2022-11-01 15:11:59,143 - ml_investing_wne.train_test_val_split - last sequence begins: 2020-12-24 10:00:00\n",
      "2022-11-01 15:11:59,144 - ml_investing_wne.train_test_val_split - last sequence ends: 2020-12-30 23:00:00\n",
      "2022-11-01 15:11:59,248 - ml_investing_wne.train_test_val_split - first sequence begins: 2020-12-27 17:00:00\n",
      "2022-11-01 15:11:59,249 - ml_investing_wne.train_test_val_split - first sequence ends: 2020-12-31 16:00:00\n",
      "2022-11-01 15:11:59,273 - ml_investing_wne.train_test_val_split - last sequence begins: 2021-12-20 16:00:00\n",
      "2022-11-01 15:11:59,275 - ml_investing_wne.train_test_val_split - last sequence ends: 2021-12-24 15:00:00\n"
     ]
    }
   ],
   "source": [
    "df = get_hist_data(currency=config.currency)\n",
    "df = prepare_processed_dataset(df=df)\n",
    "X, y, X_val, y_val, X_test, y_test, y_cat, y_val_cat, y_test_cat, train = train_test_val_split(df)"
   ]
  },
  {
   "cell_type": "code",
   "execution_count": 3,
   "id": "dafc4bcf",
   "metadata": {},
   "outputs": [
    {
     "name": "stderr",
     "output_type": "stream",
     "text": [
      "2022-11-01 15:12:05.821070: I tensorflow/core/platform/cpu_feature_guard.cc:142] This TensorFlow binary is optimized with oneAPI Deep Neural Network Library (oneDNN) to use the following CPU instructions in performance-critical operations:  AVX2 FMA\n",
      "To enable them in other operations, rebuild TensorFlow with the appropriate compiler flags.\n"
     ]
    }
   ],
   "source": [
    "model_name = get_final_model_path()\n",
    "model = load_model(model_name)"
   ]
  },
  {
   "cell_type": "code",
   "execution_count": 7,
   "id": "8712b0d4-8d1a-4f26-a450-59e1417bb625",
   "metadata": {},
   "outputs": [
    {
     "name": "stderr",
     "output_type": "stream",
     "text": [
      "2022-11-01 15:15:19,809 - ml_investing_wne.helper - share_of_time_active for bounds 0.25-0.75 is 0.01 and hit ratio is 0.8750\n",
      "2022-11-01 15:15:19,809 - ml_investing_wne.helper - share_of_time_active for bounds 0.25-0.75 is 0.01 and hit ratio is 0.8750\n",
      "2022-11-01 15:15:19,813 - ml_investing_wne.helper - Portfolio result:  101\n",
      "2022-11-01 15:15:19,813 - ml_investing_wne.helper - Portfolio result:  101\n",
      "2022-11-01 15:15:22,906 - ml_investing_wne.helper - share_of_time_active for bounds 0.30-0.70 is 0.03 and hit ratio is 0.8438\n",
      "2022-11-01 15:15:22,906 - ml_investing_wne.helper - share_of_time_active for bounds 0.30-0.70 is 0.03 and hit ratio is 0.8438\n",
      "2022-11-01 15:15:22,907 - ml_investing_wne.helper - Portfolio result:  102\n",
      "2022-11-01 15:15:22,907 - ml_investing_wne.helper - Portfolio result:  102\n",
      "2022-11-01 15:15:25,879 - ml_investing_wne.helper - share_of_time_active for bounds 0.35-0.65 is 0.06 and hit ratio is 0.7938\n",
      "2022-11-01 15:15:25,879 - ml_investing_wne.helper - share_of_time_active for bounds 0.35-0.65 is 0.06 and hit ratio is 0.7938\n",
      "2022-11-01 15:15:25,880 - ml_investing_wne.helper - Portfolio result:  105\n",
      "2022-11-01 15:15:25,880 - ml_investing_wne.helper - Portfolio result:  105\n",
      "2022-11-01 15:15:28,912 - ml_investing_wne.helper - share_of_time_active for bounds 0.40-0.60 is 0.11 and hit ratio is 0.7081\n",
      "2022-11-01 15:15:28,912 - ml_investing_wne.helper - share_of_time_active for bounds 0.40-0.60 is 0.11 and hit ratio is 0.7081\n",
      "2022-11-01 15:15:28,914 - ml_investing_wne.helper - Portfolio result:  104\n",
      "2022-11-01 15:15:28,914 - ml_investing_wne.helper - Portfolio result:  104\n",
      "2022-11-01 15:15:32,051 - ml_investing_wne.helper - share_of_time_active for bounds 0.45-0.55 is 0.27 and hit ratio is 0.6313\n",
      "2022-11-01 15:15:32,051 - ml_investing_wne.helper - share_of_time_active for bounds 0.45-0.55 is 0.27 and hit ratio is 0.6313\n",
      "2022-11-01 15:15:32,052 - ml_investing_wne.helper - Portfolio result:  101\n",
      "2022-11-01 15:15:32,052 - ml_investing_wne.helper - Portfolio result:  101\n",
      "2022-11-01 15:15:35,369 - ml_investing_wne.helper - share_of_time_active for bounds 0.50-0.50 is 1.00 and hit ratio is 0.5498\n",
      "2022-11-01 15:15:35,369 - ml_investing_wne.helper - share_of_time_active for bounds 0.50-0.50 is 1.00 and hit ratio is 0.5498\n",
      "2022-11-01 15:15:35,370 - ml_investing_wne.helper - Portfolio result:  98\n",
      "2022-11-01 15:15:35,370 - ml_investing_wne.helper - Portfolio result:  98\n"
     ]
    }
   ],
   "source": [
    "y_pred = model.predict(X_test)\n",
    "y_pred_class = y_pred.argmax(axis=-1)\n",
    "\n",
    "df = add_cost(df)\n",
    "\n",
    "start_date, end_date = load_test_dates()\n",
    "lower_bounds = [0.25, 0.3, 0.35, 0.4, 0.45, 0.5]\n",
    "upper_bounds = [1 - lower for lower in lower_bounds]\n",
    "\n",
    "for lower_bound, upper_bound in zip(lower_bounds, upper_bounds):\n",
    "    portfolio_result, hit_ratio, time_active = compute_profitability_classes(df, y_pred, start_date,\n",
    "                                                                             end_date, lower_bound,\n",
    "                                                                             upper_bound)"
   ]
  },
  {
   "cell_type": "code",
   "execution_count": 9,
   "id": "991bf5b8-5c47-4176-8862-c2618c585024",
   "metadata": {},
   "outputs": [
    {
     "name": "stderr",
     "output_type": "stream",
     "text": [
      "2022-11-01 15:24:14,473 - ml_investing_wne.helper - share_of_time_active for bounds 0.25-0.75 is 0.00 and hit ratio is 1.0000\n",
      "2022-11-01 15:24:14,473 - ml_investing_wne.helper - share_of_time_active for bounds 0.25-0.75 is 0.00 and hit ratio is 1.0000\n",
      "2022-11-01 15:24:14,476 - ml_investing_wne.helper - Portfolio result:  99\n",
      "2022-11-01 15:24:14,476 - ml_investing_wne.helper - Portfolio result:  99\n",
      "2022-11-01 15:24:17,803 - ml_investing_wne.helper - share_of_time_active for bounds 0.30-0.70 is 0.00 and hit ratio is 0.6667\n",
      "2022-11-01 15:24:17,803 - ml_investing_wne.helper - share_of_time_active for bounds 0.30-0.70 is 0.00 and hit ratio is 0.6667\n",
      "2022-11-01 15:24:17,806 - ml_investing_wne.helper - Portfolio result:  99\n",
      "2022-11-01 15:24:17,806 - ml_investing_wne.helper - Portfolio result:  99\n",
      "2022-11-01 15:24:21,014 - ml_investing_wne.helper - share_of_time_active for bounds 0.35-0.65 is 0.01 and hit ratio is 0.6500\n",
      "2022-11-01 15:24:21,014 - ml_investing_wne.helper - share_of_time_active for bounds 0.35-0.65 is 0.01 and hit ratio is 0.6500\n",
      "2022-11-01 15:24:21,015 - ml_investing_wne.helper - Portfolio result:  99\n",
      "2022-11-01 15:24:21,015 - ml_investing_wne.helper - Portfolio result:  99\n",
      "2022-11-01 15:24:24,311 - ml_investing_wne.helper - share_of_time_active for bounds 0.40-0.60 is 0.04 and hit ratio is 0.5514\n",
      "2022-11-01 15:24:24,311 - ml_investing_wne.helper - share_of_time_active for bounds 0.40-0.60 is 0.04 and hit ratio is 0.5514\n",
      "2022-11-01 15:24:24,312 - ml_investing_wne.helper - Portfolio result:  97\n",
      "2022-11-01 15:24:24,312 - ml_investing_wne.helper - Portfolio result:  97\n",
      "2022-11-01 15:24:27,335 - ml_investing_wne.helper - share_of_time_active for bounds 0.45-0.55 is 0.17 and hit ratio is 0.5481\n",
      "2022-11-01 15:24:27,335 - ml_investing_wne.helper - share_of_time_active for bounds 0.45-0.55 is 0.17 and hit ratio is 0.5481\n",
      "2022-11-01 15:24:27,337 - ml_investing_wne.helper - Portfolio result:  90\n",
      "2022-11-01 15:24:27,337 - ml_investing_wne.helper - Portfolio result:  90\n",
      "2022-11-01 15:24:30,480 - ml_investing_wne.helper - share_of_time_active for bounds 0.50-0.50 is 0.88 and hit ratio is 0.5231\n",
      "2022-11-01 15:24:30,480 - ml_investing_wne.helper - share_of_time_active for bounds 0.50-0.50 is 0.88 and hit ratio is 0.5231\n",
      "2022-11-01 15:24:30,481 - ml_investing_wne.helper - Portfolio result:  85\n",
      "2022-11-01 15:24:30,481 - ml_investing_wne.helper - Portfolio result:  85\n"
     ]
    }
   ],
   "source": [
    "lower_bounds = [0.25, 0.3, 0.35, 0.4, 0.45, 0.5]\n",
    "upper_bounds = [1 - lower for lower in lower_bounds]\n",
    "# hours_to_exclude = [datetime.time(21,0,0), datetime.time(22,0,0),  datetime.time(23,0,0)] # 60  - wrong\n",
    "hours_to_exclude = [datetime.time(20,0,0), datetime.time(21,0,0),  datetime.time(22,0,0)] # 60 - correct, we have to consider that trade is opened at the end of interval for the next hour\n",
    "# hours_to_exclude = [datetime.time(19,0,0), datetime.time(21,0,0)] # 120 min\n",
    "\n",
    "\n",
    "for lower_bound, upper_bound in zip(lower_bounds, upper_bounds):\n",
    "    portfolio_result, hit_ratio, time_active = compute_profitability_classes(df, y_pred, start_date,\n",
    "                                                                             end_date, lower_bound,\n",
    "                                                                             upper_bound, hours_exclude=hours_to_exclude)"
   ]
  }
 ],
 "metadata": {
  "environment": {
   "kernel": "python3",
   "name": "common-cpu.m95",
   "type": "gcloud",
   "uri": "gcr.io/deeplearning-platform-release/base-cpu:m95"
  },
  "kernelspec": {
   "display_name": "Python 3.8.12 ('venv': venv)",
   "language": "python",
   "name": "python3"
  },
  "language_info": {
   "codemirror_mode": {
    "name": "ipython",
    "version": 3
   },
   "file_extension": ".py",
   "mimetype": "text/x-python",
   "name": "python",
   "nbconvert_exporter": "python",
   "pygments_lexer": "ipython3",
   "version": "3.8.12"
  },
  "vscode": {
   "interpreter": {
    "hash": "40fa23d89b9b1c49769aff46680f764eee324141ae966b6198b581676b17e30e"
   }
  }
 },
 "nbformat": 4,
 "nbformat_minor": 5
}
