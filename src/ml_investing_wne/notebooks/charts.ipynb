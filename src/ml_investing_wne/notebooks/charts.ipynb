{
 "cells": [
  {
   "cell_type": "code",
   "execution_count": 1,
   "metadata": {},
   "outputs": [],
   "source": [
    "import pandas as pd\n",
    "import datetime as datetime\n",
    "import plotly.graph_objects as go\n",
    "import plotly.io as pio\n",
    "from plotly.subplots import make_subplots"
   ]
  },
  {
   "cell_type": "code",
   "execution_count": 2,
   "metadata": {},
   "outputs": [],
   "source": [
    "date_start = datetime.datetime(2022, 4, 6)\n",
    "date_end = datetime.datetime(2022, 4, 20)\n"
   ]
  },
  {
   "cell_type": "code",
   "execution_count": 124,
   "metadata": {},
   "outputs": [],
   "source": [
    "btc_1_min = pd.read_csv('/Users/i0495036/Documents/sandbox/ml_investing_wne/src/ml_investing_wne/data/processed/binance_BTCUSDT/time_aggregated_1min.csv', parse_dates=['datetime'])"
   ]
  },
  {
   "cell_type": "code",
   "execution_count": 125,
   "metadata": {},
   "outputs": [],
   "source": [
    "btc_60_min = pd.read_csv('/Users/i0495036/Documents/sandbox/ml_investing_wne/src/ml_investing_wne/data/processed/binance_BTCUSDT/time_aggregated_60min.csv', parse_dates=['datetime'])"
   ]
  },
  {
   "cell_type": "code",
   "execution_count": 126,
   "metadata": {},
   "outputs": [],
   "source": [
    "btc_720_min = pd.read_csv('/Users/i0495036/Documents/sandbox/ml_investing_wne/src/ml_investing_wne/data/processed/binance_BTCUSDT/time_aggregated_720min.csv', parse_dates=['datetime'])"
   ]
  },
  {
   "cell_type": "code",
   "execution_count": 127,
   "metadata": {},
   "outputs": [],
   "source": [
    "btc_cumsum = pd.read_csv('/Users/i0495036/Documents/sandbox/ml_investing_wne/src/ml_investing_wne/data/processed/binance_BTCUSDT/cumsum_0.02.csv', parse_dates=['datetime'])"
   ]
  },
  {
   "cell_type": "code",
   "execution_count": 128,
   "metadata": {},
   "outputs": [],
   "source": [
    "btc_vol = pd.read_csv('/Users/i0495036/Documents/sandbox/ml_investing_wne/src/ml_investing_wne/data/processed/binance_BTCUSDT/volume_bars_5000.csv', parse_dates=['datetime'])"
   ]
  },
  {
   "cell_type": "code",
   "execution_count": 144,
   "metadata": {},
   "outputs": [],
   "source": [
    "btc_val = pd.read_csv('/Users/i0495036/Documents/sandbox/ml_investing_wne/src/ml_investing_wne/data/processed/binance_BTCUSDT/dollar_bars_50000000.csv', parse_dates=['datetime'])"
   ]
  },
  {
   "cell_type": "code",
   "execution_count": 129,
   "metadata": {},
   "outputs": [
    {
     "data": {
      "text/html": [
       "<div>\n",
       "<style scoped>\n",
       "    .dataframe tbody tr th:only-of-type {\n",
       "        vertical-align: middle;\n",
       "    }\n",
       "\n",
       "    .dataframe tbody tr th {\n",
       "        vertical-align: top;\n",
       "    }\n",
       "\n",
       "    .dataframe thead th {\n",
       "        text-align: right;\n",
       "    }\n",
       "</style>\n",
       "<table border=\"1\" class=\"dataframe\">\n",
       "  <thead>\n",
       "    <tr style=\"text-align: right;\">\n",
       "      <th></th>\n",
       "      <th>datetime</th>\n",
       "      <th>open</th>\n",
       "      <th>high</th>\n",
       "      <th>low</th>\n",
       "      <th>close</th>\n",
       "      <th>volume</th>\n",
       "      <th>seconds</th>\n",
       "    </tr>\n",
       "  </thead>\n",
       "  <tbody>\n",
       "    <tr>\n",
       "      <th>0</th>\n",
       "      <td>2018-01-01 13:58:15.807</td>\n",
       "      <td>13715.65</td>\n",
       "      <td>13818.55</td>\n",
       "      <td>12815.70</td>\n",
       "      <td>12994.87</td>\n",
       "      <td>5000.053381</td>\n",
       "      <td>50288.789</td>\n",
       "    </tr>\n",
       "    <tr>\n",
       "      <th>1</th>\n",
       "      <td>2018-01-02 02:27:05.502</td>\n",
       "      <td>12994.91</td>\n",
       "      <td>13850.00</td>\n",
       "      <td>12750.00</td>\n",
       "      <td>13503.95</td>\n",
       "      <td>5000.770708</td>\n",
       "      <td>44929.380</td>\n",
       "    </tr>\n",
       "    <tr>\n",
       "      <th>2</th>\n",
       "      <td>2018-01-02 09:25:57.879</td>\n",
       "      <td>13514.97</td>\n",
       "      <td>13583.00</td>\n",
       "      <td>12890.02</td>\n",
       "      <td>13432.02</td>\n",
       "      <td>5000.052810</td>\n",
       "      <td>25132.167</td>\n",
       "    </tr>\n",
       "    <tr>\n",
       "      <th>3</th>\n",
       "      <td>2018-01-02 16:04:53.133</td>\n",
       "      <td>13423.34</td>\n",
       "      <td>13894.86</td>\n",
       "      <td>13366.80</td>\n",
       "      <td>13769.99</td>\n",
       "      <td>5000.241391</td>\n",
       "      <td>23932.822</td>\n",
       "    </tr>\n",
       "    <tr>\n",
       "      <th>4</th>\n",
       "      <td>2018-01-02 19:59:42.272</td>\n",
       "      <td>13769.99</td>\n",
       "      <td>15473.49</td>\n",
       "      <td>13503.00</td>\n",
       "      <td>14710.00</td>\n",
       "      <td>5000.837506</td>\n",
       "      <td>14089.139</td>\n",
       "    </tr>\n",
       "    <tr>\n",
       "      <th>...</th>\n",
       "      <td>...</td>\n",
       "      <td>...</td>\n",
       "      <td>...</td>\n",
       "      <td>...</td>\n",
       "      <td>...</td>\n",
       "      <td>...</td>\n",
       "      <td>...</td>\n",
       "    </tr>\n",
       "    <tr>\n",
       "      <th>32749</th>\n",
       "      <td>2023-06-30 15:54:27.733</td>\n",
       "      <td>30073.56</td>\n",
       "      <td>30213.00</td>\n",
       "      <td>30000.02</td>\n",
       "      <td>30008.20</td>\n",
       "      <td>5000.112880</td>\n",
       "      <td>4304.855</td>\n",
       "    </tr>\n",
       "    <tr>\n",
       "      <th>32750</th>\n",
       "      <td>2023-06-30 16:47:11.413</td>\n",
       "      <td>30008.20</td>\n",
       "      <td>30449.80</td>\n",
       "      <td>29925.50</td>\n",
       "      <td>30330.01</td>\n",
       "      <td>5000.497910</td>\n",
       "      <td>3163.680</td>\n",
       "    </tr>\n",
       "    <tr>\n",
       "      <th>32751</th>\n",
       "      <td>2023-06-30 17:21:02.726</td>\n",
       "      <td>30330.01</td>\n",
       "      <td>30683.86</td>\n",
       "      <td>30313.36</td>\n",
       "      <td>30660.90</td>\n",
       "      <td>5000.180790</td>\n",
       "      <td>2031.313</td>\n",
       "    </tr>\n",
       "    <tr>\n",
       "      <th>32752</th>\n",
       "      <td>2023-06-30 18:09:46.694</td>\n",
       "      <td>30660.88</td>\n",
       "      <td>30748.08</td>\n",
       "      <td>30388.10</td>\n",
       "      <td>30390.67</td>\n",
       "      <td>5000.052420</td>\n",
       "      <td>2923.968</td>\n",
       "    </tr>\n",
       "    <tr>\n",
       "      <th>32753</th>\n",
       "      <td>2023-06-30 20:27:30.430</td>\n",
       "      <td>30390.67</td>\n",
       "      <td>30499.99</td>\n",
       "      <td>30288.01</td>\n",
       "      <td>30499.98</td>\n",
       "      <td>5000.120840</td>\n",
       "      <td>8263.736</td>\n",
       "    </tr>\n",
       "  </tbody>\n",
       "</table>\n",
       "<p>32754 rows × 7 columns</p>\n",
       "</div>"
      ],
      "text/plain": [
       "                     datetime      open      high       low     close  \\\n",
       "0     2018-01-01 13:58:15.807  13715.65  13818.55  12815.70  12994.87   \n",
       "1     2018-01-02 02:27:05.502  12994.91  13850.00  12750.00  13503.95   \n",
       "2     2018-01-02 09:25:57.879  13514.97  13583.00  12890.02  13432.02   \n",
       "3     2018-01-02 16:04:53.133  13423.34  13894.86  13366.80  13769.99   \n",
       "4     2018-01-02 19:59:42.272  13769.99  15473.49  13503.00  14710.00   \n",
       "...                       ...       ...       ...       ...       ...   \n",
       "32749 2023-06-30 15:54:27.733  30073.56  30213.00  30000.02  30008.20   \n",
       "32750 2023-06-30 16:47:11.413  30008.20  30449.80  29925.50  30330.01   \n",
       "32751 2023-06-30 17:21:02.726  30330.01  30683.86  30313.36  30660.90   \n",
       "32752 2023-06-30 18:09:46.694  30660.88  30748.08  30388.10  30390.67   \n",
       "32753 2023-06-30 20:27:30.430  30390.67  30499.99  30288.01  30499.98   \n",
       "\n",
       "            volume    seconds  \n",
       "0      5000.053381  50288.789  \n",
       "1      5000.770708  44929.380  \n",
       "2      5000.052810  25132.167  \n",
       "3      5000.241391  23932.822  \n",
       "4      5000.837506  14089.139  \n",
       "...            ...        ...  \n",
       "32749  5000.112880   4304.855  \n",
       "32750  5000.497910   3163.680  \n",
       "32751  5000.180790   2031.313  \n",
       "32752  5000.052420   2923.968  \n",
       "32753  5000.120840   8263.736  \n",
       "\n",
       "[32754 rows x 7 columns]"
      ]
     },
     "execution_count": 129,
     "metadata": {},
     "output_type": "execute_result"
    }
   ],
   "source": [
    "btc_vol"
   ]
  },
  {
   "cell_type": "code",
   "execution_count": 130,
   "metadata": {},
   "outputs": [
    {
     "data": {
      "text/html": [
       "<div>\n",
       "<style scoped>\n",
       "    .dataframe tbody tr th:only-of-type {\n",
       "        vertical-align: middle;\n",
       "    }\n",
       "\n",
       "    .dataframe tbody tr th {\n",
       "        vertical-align: top;\n",
       "    }\n",
       "\n",
       "    .dataframe thead th {\n",
       "        text-align: right;\n",
       "    }\n",
       "</style>\n",
       "<table border=\"1\" class=\"dataframe\">\n",
       "  <thead>\n",
       "    <tr style=\"text-align: right;\">\n",
       "      <th></th>\n",
       "      <th>datetime</th>\n",
       "      <th>open</th>\n",
       "      <th>high</th>\n",
       "      <th>low</th>\n",
       "      <th>close</th>\n",
       "      <th>volume</th>\n",
       "      <th>seconds</th>\n",
       "    </tr>\n",
       "  </thead>\n",
       "  <tbody>\n",
       "    <tr>\n",
       "      <th>16824</th>\n",
       "      <td>2022-04-06 00:01:02.140</td>\n",
       "      <td>45975.53</td>\n",
       "      <td>46107.58</td>\n",
       "      <td>45353.81</td>\n",
       "      <td>45423.13</td>\n",
       "      <td>5000.00396</td>\n",
       "      <td>14202.498</td>\n",
       "    </tr>\n",
       "  </tbody>\n",
       "</table>\n",
       "</div>"
      ],
      "text/plain": [
       "                     datetime      open      high       low     close  \\\n",
       "16824 2022-04-06 00:01:02.140  45975.53  46107.58  45353.81  45423.13   \n",
       "\n",
       "           volume    seconds  \n",
       "16824  5000.00396  14202.498  "
      ]
     },
     "execution_count": 130,
     "metadata": {},
     "output_type": "execute_result"
    }
   ],
   "source": [
    "btc_vol_subset = btc_vol.loc[(btc_vol['datetime'] >= date_start) & (btc_vol['datetime'] <= date_end)]\n",
    "btc_vol_subset.head(1)"
   ]
  },
  {
   "cell_type": "code",
   "execution_count": 131,
   "metadata": {},
   "outputs": [
    {
     "data": {
      "text/html": [
       "<div>\n",
       "<style scoped>\n",
       "    .dataframe tbody tr th:only-of-type {\n",
       "        vertical-align: middle;\n",
       "    }\n",
       "\n",
       "    .dataframe tbody tr th {\n",
       "        vertical-align: top;\n",
       "    }\n",
       "\n",
       "    .dataframe thead th {\n",
       "        text-align: right;\n",
       "    }\n",
       "</style>\n",
       "<table border=\"1\" class=\"dataframe\">\n",
       "  <thead>\n",
       "    <tr style=\"text-align: right;\">\n",
       "      <th></th>\n",
       "      <th>datetime</th>\n",
       "      <th>open</th>\n",
       "      <th>high</th>\n",
       "      <th>low</th>\n",
       "      <th>close</th>\n",
       "      <th>volume</th>\n",
       "    </tr>\n",
       "  </thead>\n",
       "  <tbody>\n",
       "    <tr>\n",
       "      <th>10311</th>\n",
       "      <td>2022-04-06 00:08:00</td>\n",
       "      <td>46173.89</td>\n",
       "      <td>46220.21</td>\n",
       "      <td>45250.68</td>\n",
       "      <td>45250.68</td>\n",
       "      <td>22017.05436</td>\n",
       "    </tr>\n",
       "  </tbody>\n",
       "</table>\n",
       "</div>"
      ],
      "text/plain": [
       "                 datetime      open      high       low     close       volume\n",
       "10311 2022-04-06 00:08:00  46173.89  46220.21  45250.68  45250.68  22017.05436"
      ]
     },
     "execution_count": 131,
     "metadata": {},
     "output_type": "execute_result"
    }
   ],
   "source": [
    "btc_cumsum_subset = btc_cumsum.loc[(btc_cumsum['datetime'] >= date_start) & (btc_cumsum['datetime'] <= date_end)]\n",
    "btc_cumsum_subset.head(1)"
   ]
  },
  {
   "cell_type": "code",
   "execution_count": 132,
   "metadata": {},
   "outputs": [
    {
     "data": {
      "text/html": [
       "<div>\n",
       "<style scoped>\n",
       "    .dataframe tbody tr th:only-of-type {\n",
       "        vertical-align: middle;\n",
       "    }\n",
       "\n",
       "    .dataframe tbody tr th {\n",
       "        vertical-align: top;\n",
       "    }\n",
       "\n",
       "    .dataframe thead th {\n",
       "        text-align: right;\n",
       "    }\n",
       "</style>\n",
       "<table border=\"1\" class=\"dataframe\">\n",
       "  <thead>\n",
       "    <tr style=\"text-align: right;\">\n",
       "      <th></th>\n",
       "      <th>datetime</th>\n",
       "      <th>open</th>\n",
       "      <th>high</th>\n",
       "      <th>low</th>\n",
       "      <th>close</th>\n",
       "      <th>volume</th>\n",
       "    </tr>\n",
       "  </thead>\n",
       "  <tbody>\n",
       "    <tr>\n",
       "      <th>37344</th>\n",
       "      <td>2022-04-06</td>\n",
       "      <td>45497.54</td>\n",
       "      <td>45506.67</td>\n",
       "      <td>44412.0</td>\n",
       "      <td>45005.88</td>\n",
       "      <td>6445.51922</td>\n",
       "    </tr>\n",
       "  </tbody>\n",
       "</table>\n",
       "</div>"
      ],
      "text/plain": [
       "        datetime      open      high      low     close      volume\n",
       "37344 2022-04-06  45497.54  45506.67  44412.0  45005.88  6445.51922"
      ]
     },
     "execution_count": 132,
     "metadata": {},
     "output_type": "execute_result"
    }
   ],
   "source": [
    "btc_60_min_subset = btc_60_min.loc[(btc_60_min['datetime'] >= date_start) & (btc_60_min['datetime'] <= date_end)]\n",
    "btc_60_min_subset.head(1)"
   ]
  },
  {
   "cell_type": "code",
   "execution_count": 133,
   "metadata": {},
   "outputs": [
    {
     "data": {
      "text/html": [
       "<div>\n",
       "<style scoped>\n",
       "    .dataframe tbody tr th:only-of-type {\n",
       "        vertical-align: middle;\n",
       "    }\n",
       "\n",
       "    .dataframe tbody tr th {\n",
       "        vertical-align: top;\n",
       "    }\n",
       "\n",
       "    .dataframe thead th {\n",
       "        text-align: right;\n",
       "    }\n",
       "</style>\n",
       "<table border=\"1\" class=\"dataframe\">\n",
       "  <thead>\n",
       "    <tr style=\"text-align: right;\">\n",
       "      <th></th>\n",
       "      <th>datetime</th>\n",
       "      <th>open</th>\n",
       "      <th>high</th>\n",
       "      <th>low</th>\n",
       "      <th>close</th>\n",
       "      <th>volume</th>\n",
       "    </tr>\n",
       "  </thead>\n",
       "  <tbody>\n",
       "    <tr>\n",
       "      <th>0</th>\n",
       "      <td>2018-01-01</td>\n",
       "      <td>13715.65</td>\n",
       "      <td>13818.55</td>\n",
       "      <td>13001.13</td>\n",
       "      <td>13220.56</td>\n",
       "      <td>4298.175574</td>\n",
       "    </tr>\n",
       "  </tbody>\n",
       "</table>\n",
       "</div>"
      ],
      "text/plain": [
       "    datetime      open      high       low     close       volume\n",
       "0 2018-01-01  13715.65  13818.55  13001.13  13220.56  4298.175574"
      ]
     },
     "execution_count": 133,
     "metadata": {},
     "output_type": "execute_result"
    }
   ],
   "source": [
    "btc_720_min_subset = btc_720_min.loc[(btc_720_min['datetime'] >= date_start) & (btc_720_min['datetime'] <= date_end)]\n",
    "btc_720_min.head(1)"
   ]
  },
  {
   "cell_type": "code",
   "execution_count": 134,
   "metadata": {},
   "outputs": [],
   "source": [
    "btc_1_min_subset = btc_1_min.loc[(btc_1_min['datetime'] >= date_start) & (btc_1_min['datetime'] <= date_end)]"
   ]
  },
  {
   "cell_type": "code",
   "execution_count": 145,
   "metadata": {},
   "outputs": [],
   "source": [
    "btc_val_subset = btc_val.loc[(btc_val['datetime'] >= date_start) & (btc_val['datetime'] <= date_end)]"
   ]
  },
  {
   "cell_type": "code",
   "execution_count": 135,
   "metadata": {},
   "outputs": [
    {
     "data": {
      "text/html": [
       "<div>\n",
       "<style scoped>\n",
       "    .dataframe tbody tr th:only-of-type {\n",
       "        vertical-align: middle;\n",
       "    }\n",
       "\n",
       "    .dataframe tbody tr th {\n",
       "        vertical-align: top;\n",
       "    }\n",
       "\n",
       "    .dataframe thead th {\n",
       "        text-align: right;\n",
       "    }\n",
       "</style>\n",
       "<table border=\"1\" class=\"dataframe\">\n",
       "  <thead>\n",
       "    <tr style=\"text-align: right;\">\n",
       "      <th></th>\n",
       "      <th>datetime</th>\n",
       "      <th>open</th>\n",
       "      <th>high</th>\n",
       "      <th>low</th>\n",
       "      <th>close</th>\n",
       "      <th>volume</th>\n",
       "    </tr>\n",
       "  </thead>\n",
       "  <tbody>\n",
       "    <tr>\n",
       "      <th>0</th>\n",
       "      <td>2018-01-01</td>\n",
       "      <td>13715.65</td>\n",
       "      <td>13715.65</td>\n",
       "      <td>13681.0</td>\n",
       "      <td>13707.92</td>\n",
       "      <td>2.844266</td>\n",
       "    </tr>\n",
       "  </tbody>\n",
       "</table>\n",
       "</div>"
      ],
      "text/plain": [
       "    datetime      open      high      low     close    volume\n",
       "0 2018-01-01  13715.65  13715.65  13681.0  13707.92  2.844266"
      ]
     },
     "execution_count": 135,
     "metadata": {},
     "output_type": "execute_result"
    }
   ],
   "source": [
    "btc_1_min.head(1)"
   ]
  },
  {
   "cell_type": "code",
   "execution_count": 142,
   "metadata": {},
   "outputs": [],
   "source": [
    "def plot_candlestick_with_volume(df, filename):\n",
    "\n",
    "    fig = make_subplots(rows=2,\n",
    "                    cols=1,\n",
    "                    shared_xaxes=True,\n",
    "                    vertical_spacing=0.1,\n",
    "                    # subplot_titles=('OHLC', 'Volume'),\n",
    "                    row_width=[0.3, 0.7])\n",
    "\n",
    "    # candlestick\n",
    "    fig.add_trace(\n",
    "        go.Candlestick(\n",
    "            x=df.datetime,\n",
    "            open=df.open,\n",
    "            high=df.high,\n",
    "            low=df.low,\n",
    "            close=df.close,\n",
    "            showlegend=False),\n",
    "        row=1,\n",
    "        col=1\n",
    "    )\n",
    "\n",
    "    # volume\n",
    "    fig.add_trace(\n",
    "        go.Bar(x=df.datetime,\n",
    "            y=df.volume,\n",
    "            showlegend=False),\n",
    "        row=2,\n",
    "        col=1\n",
    "    )\n",
    "    fig.update_traces(marker_color='lightsteelblue', row=2, col=1)\n",
    "\n",
    "    fig.update_yaxes(showline=True,\n",
    "            mirror=True,\n",
    "            linewidth=1,\n",
    "            linecolor='gray',\n",
    "            showgrid=True,\n",
    "            gridcolor='lightgray')\n",
    "    fig.update_xaxes(\n",
    "                linewidth=1,\n",
    "                linecolor='lightgray',\n",
    "                mirror=True,\n",
    "                showgrid=True,\n",
    "            gridcolor='lightgray')\n",
    "\n",
    "    fig.update_yaxes(title_text=\"Price (USD)\", row=1, col=1)\n",
    "    fig.update_yaxes(title_text=\"Volume\", row=2, col=1)\n",
    "\n",
    "    fig.update_layout(# title=\"BTCUSDT: 60-minute OHLCV\",\n",
    "                    paper_bgcolor='white',\n",
    "                    plot_bgcolor='white',\n",
    "                    width=900,\n",
    "                    height=600)\n",
    "\n",
    "\n",
    "    # hide the slide bar\n",
    "    fig.update(layout_xaxis_rangeslider_visible=False)\n",
    "    pio.write_image(fig,  filename + '.png',scale=3, width=1600, height=800)\n",
    "    fig.show()"
   ]
  },
  {
   "cell_type": "code",
   "execution_count": 66,
   "metadata": {},
   "outputs": [
    {
     "data": {
      "application/vnd.plotly.v1+json": {
       "config": {
        "plotlyServerURL": "https://plot.ly"
       },
       "data": [
        {
         "close": [
          44819.19,
          43170.47,
          43766.74,
          43444.19,
          43298.79,
          42252.01,
          42445.1,
          42753.97,
          42680.36,
          42158.85,
          41067.63,
          39530.45,
          40378,
          40074.94,
          39722.64,
          41147.79,
          40919.99,
          39942.38,
          40220,
          40551.9,
          40416.95,
          40378.71,
          40464.77,
          39678.12,
          38998.54,
          40801.13,
          40687.3,
          41493.18,
          42090
         ],
         "high": [
          45507.14,
          44999.99,
          43834.52,
          43900.99,
          43970.62,
          43961.99,
          42640,
          42800,
          42896.64,
          43410.3,
          42414.71,
          41246.61,
          40464,
          40699,
          40275,
          41561.31,
          41500,
          41300,
          40449.96,
          40870.36,
          40709.35,
          40699.55,
          40529.79,
          40595.67,
          39896.98,
          41116.73,
          41263.43,
          41760,
          42199
         ],
         "low": [
          44412,
          43121,
          42727.35,
          43024.86,
          43260.76,
          42107.14,
          42125.48,
          42158.67,
          42433.49,
          41868,
          40968.11,
          39200,
          39290,
          39254.63,
          39588.54,
          39622.87,
          40851.5,
          39551.94,
          39766.4,
          39900,
          40277,
          39991.55,
          40122.05,
          39546.17,
          38536.51,
          38998.54,
          40571,
          40662.26,
          41229.96
         ],
         "open": [
          45497.54,
          44819.19,
          43170.47,
          43766.75,
          43444.2,
          43298.79,
          42252.02,
          42445.09,
          42753.96,
          42680.35,
          42158.85,
          41067.64,
          39530.45,
          40378,
          40074.95,
          39722.63,
          41147.78,
          40919.99,
          39942.37,
          40220,
          40551.9,
          40416.94,
          40378.7,
          40464.77,
          39678.11,
          38998.54,
          40801.13,
          40687.3,
          41493.19
         ],
         "showlegend": false,
         "type": "candlestick",
         "x": [
          "2022-04-06T00:00:00",
          "2022-04-06T12:00:00",
          "2022-04-07T00:00:00",
          "2022-04-07T12:00:00",
          "2022-04-08T00:00:00",
          "2022-04-08T12:00:00",
          "2022-04-09T00:00:00",
          "2022-04-09T12:00:00",
          "2022-04-10T00:00:00",
          "2022-04-10T12:00:00",
          "2022-04-11T00:00:00",
          "2022-04-11T12:00:00",
          "2022-04-12T00:00:00",
          "2022-04-12T12:00:00",
          "2022-04-13T00:00:00",
          "2022-04-13T12:00:00",
          "2022-04-14T00:00:00",
          "2022-04-14T12:00:00",
          "2022-04-15T00:00:00",
          "2022-04-15T12:00:00",
          "2022-04-16T00:00:00",
          "2022-04-16T12:00:00",
          "2022-04-17T00:00:00",
          "2022-04-17T12:00:00",
          "2022-04-18T00:00:00",
          "2022-04-18T12:00:00",
          "2022-04-19T00:00:00",
          "2022-04-19T12:00:00",
          "2022-04-20T00:00:00"
         ],
         "xaxis": "x",
         "yaxis": "y"
        },
        {
         "marker": {
          "color": "lightsteelblue"
         },
         "showlegend": false,
         "type": "bar",
         "x": [
          "2022-04-06T00:00:00",
          "2022-04-06T12:00:00",
          "2022-04-07T00:00:00",
          "2022-04-07T12:00:00",
          "2022-04-08T00:00:00",
          "2022-04-08T12:00:00",
          "2022-04-09T00:00:00",
          "2022-04-09T12:00:00",
          "2022-04-10T00:00:00",
          "2022-04-10T12:00:00",
          "2022-04-11T00:00:00",
          "2022-04-11T12:00:00",
          "2022-04-12T00:00:00",
          "2022-04-12T12:00:00",
          "2022-04-13T00:00:00",
          "2022-04-13T12:00:00",
          "2022-04-14T00:00:00",
          "2022-04-14T12:00:00",
          "2022-04-15T00:00:00",
          "2022-04-15T12:00:00",
          "2022-04-16T00:00:00",
          "2022-04-16T12:00:00",
          "2022-04-17T00:00:00",
          "2022-04-17T12:00:00",
          "2022-04-18T00:00:00",
          "2022-04-18T12:00:00",
          "2022-04-19T00:00:00",
          "2022-04-19T12:00:00",
          "2022-04-20T00:00:00"
         ],
         "xaxis": "x2",
         "y": [
          21664.14134,
          39185.18802,
          18928.83641,
          18467.70515,
          13594.6535,
          28780.38853,
          9055.50852,
          8836.15195,
          6290.36292,
          16480.73111,
          26295.49578,
          37264.95143,
          24897.18662,
          32853.83116,
          13517.59808,
          27824.67446,
          13732.05945,
          23074.95456,
          12210.63102,
          11815.72637,
          6859.74463,
          8945.70255,
          5347.77689,
          14640.7157,
          20624.30923,
          33619.18652,
          13272.15716,
          22516.70127,
          17503.23987
         ],
         "yaxis": "y2"
        }
       ],
       "layout": {
        "height": 600,
        "paper_bgcolor": "white",
        "plot_bgcolor": "white",
        "template": {
         "data": {
          "bar": [
           {
            "error_x": {
             "color": "#2a3f5f"
            },
            "error_y": {
             "color": "#2a3f5f"
            },
            "marker": {
             "line": {
              "color": "#E5ECF6",
              "width": 0.5
             },
             "pattern": {
              "fillmode": "overlay",
              "size": 10,
              "solidity": 0.2
             }
            },
            "type": "bar"
           }
          ],
          "barpolar": [
           {
            "marker": {
             "line": {
              "color": "#E5ECF6",
              "width": 0.5
             },
             "pattern": {
              "fillmode": "overlay",
              "size": 10,
              "solidity": 0.2
             }
            },
            "type": "barpolar"
           }
          ],
          "carpet": [
           {
            "aaxis": {
             "endlinecolor": "#2a3f5f",
             "gridcolor": "white",
             "linecolor": "white",
             "minorgridcolor": "white",
             "startlinecolor": "#2a3f5f"
            },
            "baxis": {
             "endlinecolor": "#2a3f5f",
             "gridcolor": "white",
             "linecolor": "white",
             "minorgridcolor": "white",
             "startlinecolor": "#2a3f5f"
            },
            "type": "carpet"
           }
          ],
          "choropleth": [
           {
            "colorbar": {
             "outlinewidth": 0,
             "ticks": ""
            },
            "type": "choropleth"
           }
          ],
          "contour": [
           {
            "colorbar": {
             "outlinewidth": 0,
             "ticks": ""
            },
            "colorscale": [
             [
              0,
              "#0d0887"
             ],
             [
              0.1111111111111111,
              "#46039f"
             ],
             [
              0.2222222222222222,
              "#7201a8"
             ],
             [
              0.3333333333333333,
              "#9c179e"
             ],
             [
              0.4444444444444444,
              "#bd3786"
             ],
             [
              0.5555555555555556,
              "#d8576b"
             ],
             [
              0.6666666666666666,
              "#ed7953"
             ],
             [
              0.7777777777777778,
              "#fb9f3a"
             ],
             [
              0.8888888888888888,
              "#fdca26"
             ],
             [
              1,
              "#f0f921"
             ]
            ],
            "type": "contour"
           }
          ],
          "contourcarpet": [
           {
            "colorbar": {
             "outlinewidth": 0,
             "ticks": ""
            },
            "type": "contourcarpet"
           }
          ],
          "heatmap": [
           {
            "colorbar": {
             "outlinewidth": 0,
             "ticks": ""
            },
            "colorscale": [
             [
              0,
              "#0d0887"
             ],
             [
              0.1111111111111111,
              "#46039f"
             ],
             [
              0.2222222222222222,
              "#7201a8"
             ],
             [
              0.3333333333333333,
              "#9c179e"
             ],
             [
              0.4444444444444444,
              "#bd3786"
             ],
             [
              0.5555555555555556,
              "#d8576b"
             ],
             [
              0.6666666666666666,
              "#ed7953"
             ],
             [
              0.7777777777777778,
              "#fb9f3a"
             ],
             [
              0.8888888888888888,
              "#fdca26"
             ],
             [
              1,
              "#f0f921"
             ]
            ],
            "type": "heatmap"
           }
          ],
          "heatmapgl": [
           {
            "colorbar": {
             "outlinewidth": 0,
             "ticks": ""
            },
            "colorscale": [
             [
              0,
              "#0d0887"
             ],
             [
              0.1111111111111111,
              "#46039f"
             ],
             [
              0.2222222222222222,
              "#7201a8"
             ],
             [
              0.3333333333333333,
              "#9c179e"
             ],
             [
              0.4444444444444444,
              "#bd3786"
             ],
             [
              0.5555555555555556,
              "#d8576b"
             ],
             [
              0.6666666666666666,
              "#ed7953"
             ],
             [
              0.7777777777777778,
              "#fb9f3a"
             ],
             [
              0.8888888888888888,
              "#fdca26"
             ],
             [
              1,
              "#f0f921"
             ]
            ],
            "type": "heatmapgl"
           }
          ],
          "histogram": [
           {
            "marker": {
             "pattern": {
              "fillmode": "overlay",
              "size": 10,
              "solidity": 0.2
             }
            },
            "type": "histogram"
           }
          ],
          "histogram2d": [
           {
            "colorbar": {
             "outlinewidth": 0,
             "ticks": ""
            },
            "colorscale": [
             [
              0,
              "#0d0887"
             ],
             [
              0.1111111111111111,
              "#46039f"
             ],
             [
              0.2222222222222222,
              "#7201a8"
             ],
             [
              0.3333333333333333,
              "#9c179e"
             ],
             [
              0.4444444444444444,
              "#bd3786"
             ],
             [
              0.5555555555555556,
              "#d8576b"
             ],
             [
              0.6666666666666666,
              "#ed7953"
             ],
             [
              0.7777777777777778,
              "#fb9f3a"
             ],
             [
              0.8888888888888888,
              "#fdca26"
             ],
             [
              1,
              "#f0f921"
             ]
            ],
            "type": "histogram2d"
           }
          ],
          "histogram2dcontour": [
           {
            "colorbar": {
             "outlinewidth": 0,
             "ticks": ""
            },
            "colorscale": [
             [
              0,
              "#0d0887"
             ],
             [
              0.1111111111111111,
              "#46039f"
             ],
             [
              0.2222222222222222,
              "#7201a8"
             ],
             [
              0.3333333333333333,
              "#9c179e"
             ],
             [
              0.4444444444444444,
              "#bd3786"
             ],
             [
              0.5555555555555556,
              "#d8576b"
             ],
             [
              0.6666666666666666,
              "#ed7953"
             ],
             [
              0.7777777777777778,
              "#fb9f3a"
             ],
             [
              0.8888888888888888,
              "#fdca26"
             ],
             [
              1,
              "#f0f921"
             ]
            ],
            "type": "histogram2dcontour"
           }
          ],
          "mesh3d": [
           {
            "colorbar": {
             "outlinewidth": 0,
             "ticks": ""
            },
            "type": "mesh3d"
           }
          ],
          "parcoords": [
           {
            "line": {
             "colorbar": {
              "outlinewidth": 0,
              "ticks": ""
             }
            },
            "type": "parcoords"
           }
          ],
          "pie": [
           {
            "automargin": true,
            "type": "pie"
           }
          ],
          "scatter": [
           {
            "fillpattern": {
             "fillmode": "overlay",
             "size": 10,
             "solidity": 0.2
            },
            "type": "scatter"
           }
          ],
          "scatter3d": [
           {
            "line": {
             "colorbar": {
              "outlinewidth": 0,
              "ticks": ""
             }
            },
            "marker": {
             "colorbar": {
              "outlinewidth": 0,
              "ticks": ""
             }
            },
            "type": "scatter3d"
           }
          ],
          "scattercarpet": [
           {
            "marker": {
             "colorbar": {
              "outlinewidth": 0,
              "ticks": ""
             }
            },
            "type": "scattercarpet"
           }
          ],
          "scattergeo": [
           {
            "marker": {
             "colorbar": {
              "outlinewidth": 0,
              "ticks": ""
             }
            },
            "type": "scattergeo"
           }
          ],
          "scattergl": [
           {
            "marker": {
             "colorbar": {
              "outlinewidth": 0,
              "ticks": ""
             }
            },
            "type": "scattergl"
           }
          ],
          "scattermapbox": [
           {
            "marker": {
             "colorbar": {
              "outlinewidth": 0,
              "ticks": ""
             }
            },
            "type": "scattermapbox"
           }
          ],
          "scatterpolar": [
           {
            "marker": {
             "colorbar": {
              "outlinewidth": 0,
              "ticks": ""
             }
            },
            "type": "scatterpolar"
           }
          ],
          "scatterpolargl": [
           {
            "marker": {
             "colorbar": {
              "outlinewidth": 0,
              "ticks": ""
             }
            },
            "type": "scatterpolargl"
           }
          ],
          "scatterternary": [
           {
            "marker": {
             "colorbar": {
              "outlinewidth": 0,
              "ticks": ""
             }
            },
            "type": "scatterternary"
           }
          ],
          "surface": [
           {
            "colorbar": {
             "outlinewidth": 0,
             "ticks": ""
            },
            "colorscale": [
             [
              0,
              "#0d0887"
             ],
             [
              0.1111111111111111,
              "#46039f"
             ],
             [
              0.2222222222222222,
              "#7201a8"
             ],
             [
              0.3333333333333333,
              "#9c179e"
             ],
             [
              0.4444444444444444,
              "#bd3786"
             ],
             [
              0.5555555555555556,
              "#d8576b"
             ],
             [
              0.6666666666666666,
              "#ed7953"
             ],
             [
              0.7777777777777778,
              "#fb9f3a"
             ],
             [
              0.8888888888888888,
              "#fdca26"
             ],
             [
              1,
              "#f0f921"
             ]
            ],
            "type": "surface"
           }
          ],
          "table": [
           {
            "cells": {
             "fill": {
              "color": "#EBF0F8"
             },
             "line": {
              "color": "white"
             }
            },
            "header": {
             "fill": {
              "color": "#C8D4E3"
             },
             "line": {
              "color": "white"
             }
            },
            "type": "table"
           }
          ]
         },
         "layout": {
          "annotationdefaults": {
           "arrowcolor": "#2a3f5f",
           "arrowhead": 0,
           "arrowwidth": 1
          },
          "autotypenumbers": "strict",
          "coloraxis": {
           "colorbar": {
            "outlinewidth": 0,
            "ticks": ""
           }
          },
          "colorscale": {
           "diverging": [
            [
             0,
             "#8e0152"
            ],
            [
             0.1,
             "#c51b7d"
            ],
            [
             0.2,
             "#de77ae"
            ],
            [
             0.3,
             "#f1b6da"
            ],
            [
             0.4,
             "#fde0ef"
            ],
            [
             0.5,
             "#f7f7f7"
            ],
            [
             0.6,
             "#e6f5d0"
            ],
            [
             0.7,
             "#b8e186"
            ],
            [
             0.8,
             "#7fbc41"
            ],
            [
             0.9,
             "#4d9221"
            ],
            [
             1,
             "#276419"
            ]
           ],
           "sequential": [
            [
             0,
             "#0d0887"
            ],
            [
             0.1111111111111111,
             "#46039f"
            ],
            [
             0.2222222222222222,
             "#7201a8"
            ],
            [
             0.3333333333333333,
             "#9c179e"
            ],
            [
             0.4444444444444444,
             "#bd3786"
            ],
            [
             0.5555555555555556,
             "#d8576b"
            ],
            [
             0.6666666666666666,
             "#ed7953"
            ],
            [
             0.7777777777777778,
             "#fb9f3a"
            ],
            [
             0.8888888888888888,
             "#fdca26"
            ],
            [
             1,
             "#f0f921"
            ]
           ],
           "sequentialminus": [
            [
             0,
             "#0d0887"
            ],
            [
             0.1111111111111111,
             "#46039f"
            ],
            [
             0.2222222222222222,
             "#7201a8"
            ],
            [
             0.3333333333333333,
             "#9c179e"
            ],
            [
             0.4444444444444444,
             "#bd3786"
            ],
            [
             0.5555555555555556,
             "#d8576b"
            ],
            [
             0.6666666666666666,
             "#ed7953"
            ],
            [
             0.7777777777777778,
             "#fb9f3a"
            ],
            [
             0.8888888888888888,
             "#fdca26"
            ],
            [
             1,
             "#f0f921"
            ]
           ]
          },
          "colorway": [
           "#636efa",
           "#EF553B",
           "#00cc96",
           "#ab63fa",
           "#FFA15A",
           "#19d3f3",
           "#FF6692",
           "#B6E880",
           "#FF97FF",
           "#FECB52"
          ],
          "font": {
           "color": "#2a3f5f"
          },
          "geo": {
           "bgcolor": "white",
           "lakecolor": "white",
           "landcolor": "#E5ECF6",
           "showlakes": true,
           "showland": true,
           "subunitcolor": "white"
          },
          "hoverlabel": {
           "align": "left"
          },
          "hovermode": "closest",
          "mapbox": {
           "style": "light"
          },
          "paper_bgcolor": "white",
          "plot_bgcolor": "#E5ECF6",
          "polar": {
           "angularaxis": {
            "gridcolor": "white",
            "linecolor": "white",
            "ticks": ""
           },
           "bgcolor": "#E5ECF6",
           "radialaxis": {
            "gridcolor": "white",
            "linecolor": "white",
            "ticks": ""
           }
          },
          "scene": {
           "xaxis": {
            "backgroundcolor": "#E5ECF6",
            "gridcolor": "white",
            "gridwidth": 2,
            "linecolor": "white",
            "showbackground": true,
            "ticks": "",
            "zerolinecolor": "white"
           },
           "yaxis": {
            "backgroundcolor": "#E5ECF6",
            "gridcolor": "white",
            "gridwidth": 2,
            "linecolor": "white",
            "showbackground": true,
            "ticks": "",
            "zerolinecolor": "white"
           },
           "zaxis": {
            "backgroundcolor": "#E5ECF6",
            "gridcolor": "white",
            "gridwidth": 2,
            "linecolor": "white",
            "showbackground": true,
            "ticks": "",
            "zerolinecolor": "white"
           }
          },
          "shapedefaults": {
           "line": {
            "color": "#2a3f5f"
           }
          },
          "ternary": {
           "aaxis": {
            "gridcolor": "white",
            "linecolor": "white",
            "ticks": ""
           },
           "baxis": {
            "gridcolor": "white",
            "linecolor": "white",
            "ticks": ""
           },
           "bgcolor": "#E5ECF6",
           "caxis": {
            "gridcolor": "white",
            "linecolor": "white",
            "ticks": ""
           }
          },
          "title": {
           "x": 0.05
          },
          "xaxis": {
           "automargin": true,
           "gridcolor": "white",
           "linecolor": "white",
           "ticks": "",
           "title": {
            "standoff": 15
           },
           "zerolinecolor": "white",
           "zerolinewidth": 2
          },
          "yaxis": {
           "automargin": true,
           "gridcolor": "white",
           "linecolor": "white",
           "ticks": "",
           "title": {
            "standoff": 15
           },
           "zerolinecolor": "white",
           "zerolinewidth": 2
          }
         }
        },
        "width": 900,
        "xaxis": {
         "anchor": "y",
         "domain": [
          0,
          1
         ],
         "gridcolor": "lightgray",
         "linecolor": "lightgray",
         "linewidth": 1,
         "matches": "x2",
         "mirror": true,
         "rangeslider": {
          "visible": false
         },
         "showgrid": true,
         "showticklabels": false
        },
        "xaxis2": {
         "anchor": "y2",
         "domain": [
          0,
          1
         ],
         "gridcolor": "lightgray",
         "linecolor": "lightgray",
         "linewidth": 1,
         "mirror": true,
         "showgrid": true
        },
        "yaxis": {
         "anchor": "x",
         "domain": [
          0.37,
          1
         ],
         "gridcolor": "lightgray",
         "linecolor": "gray",
         "linewidth": 1,
         "showgrid": true,
         "showline": false,
         "title": {
          "text": "Price (USD)"
         }
        },
        "yaxis2": {
         "anchor": "x2",
         "domain": [
          0,
          0.27
         ],
         "gridcolor": "lightgray",
         "linecolor": "gray",
         "linewidth": 1,
         "showgrid": true,
         "showline": false,
         "title": {
          "text": "Volume"
         }
        }
       }
      }
     },
     "metadata": {},
     "output_type": "display_data"
    }
   ],
   "source": [
    "plot_candlestick_with_volume(btc_720_min_subset, 'btc_720min')"
   ]
  },
  {
   "cell_type": "code",
   "execution_count": 64,
   "metadata": {},
   "outputs": [
    {
     "data": {
      "application/vnd.plotly.v1+json": {
       "config": {
        "plotlyServerURL": "https://plot.ly"
       },
       "data": [
        {
         "close": [
          45005.88,
          45188.86,
          45220.87,
          45215.88,
          45335.34,
          45375,
          45464.26,
          45276.04,
          45366.85,
          45330.2,
          45072.53,
          44819.19,
          44751,
          44165.9,
          44258.99,
          44168.35,
          43781.3,
          43815.28,
          43837.63,
          43754.57,
          43877.45,
          43845.82,
          43511.33,
          43170.47,
          42894.3,
          43374.97,
          43350.91,
          43294.04,
          43395.57,
          43399.99,
          43380.94,
          43445.33,
          43521.92,
          43457.98,
          43409.73,
          43766.74,
          43554.97,
          43659.98,
          43420.69,
          43331.81,
          43494,
          43657.68,
          43702.95,
          43388.92,
          43567.36,
          43520.07,
          43629.73,
          43444.19,
          43327.46,
          43607.61,
          43615.63,
          43605.96,
          43543.02,
          43654.3,
          43573.45,
          43763.52,
          43700.33,
          43588.73,
          43558.51,
          43298.79,
          43151.75,
          42906.67,
          43750.14,
          43648.01,
          43433.71,
          43004.38,
          42957.57,
          42730.84,
          42798.74,
          42563.36,
          42300.99,
          42252.01,
          42435.02,
          42433.4,
          42180,
          42380,
          42406.82,
          42586.04,
          42440,
          42481.09,
          42463.51,
          42443.11,
          42480.56,
          42445.1,
          42506.35,
          42456.86,
          42460,
          42260.77,
          42445.64,
          42575.67,
          42467.82,
          42511.94,
          42423.18,
          42558.06,
          42543.42,
          42753.97,
          42632.32,
          42767.23,
          42833.03,
          42785.72,
          42740.86,
          42656.7,
          42785.32,
          42633.59,
          42642.54,
          42523.95,
          42530,
          42680.36,
          42590,
          42575.53,
          42698.38,
          42747.47,
          42784.43,
          43103.62,
          43107.6,
          43235.77,
          43101.23,
          42706,
          42111.94,
          42158.85,
          42303.26,
          42159.32,
          41929.34,
          42111.22,
          42259.43,
          42287.6,
          42250,
          42305.75,
          42200,
          41416.22,
          41595.99,
          41067.63,
          41145.46,
          41141.13,
          40803.87,
          40581.51,
          40764.79,
          40459.07,
          40509.98,
          39985.33,
          39838.26,
          39395.29,
          39766.39,
          39530.45,
          39544.31,
          39504.54,
          39490,
          39747.13,
          39921.19,
          40105.78,
          39935.23,
          40183.97,
          40182.03,
          40212.26,
          40149.99,
          40378,
          40618.37,
          40401.03,
          39990.39,
          40179.13,
          40097.23,
          40014.72,
          39667.85,
          39303.1,
          39519.99,
          39693.79,
          39827.96,
          40074.94,
          39936.17,
          39882.9,
          40059.14,
          40076.05,
          40134.51,
          40187.9,
          39958.45,
          40130,
          40162.32,
          40079.99,
          39808.11,
          39722.64,
          39700.01,
          40521.75,
          40642.1,
          41158.18,
          41005.58,
          41043.91,
          41363.01,
          41059.3,
          41241.16,
          41219.72,
          41279.05,
          41147.79,
          41186.23,
          41470.01,
          41419.99,
          41320,
          41290.81,
          41308.44,
          41195.39,
          41271.66,
          41172.72,
          41186.69,
          40946.47,
          40919.99,
          41149.98,
          40605.62,
          40435.04,
          39964.02,
          39951.1,
          39986.83,
          39659,
          39775.82,
          39909.99,
          39970,
          39843.71,
          39942.38,
          39859.99,
          39941,
          40017.2,
          40200.94,
          40103.26,
          40132.73,
          40040,
          40239.43,
          40153.97,
          40112.16,
          40268.24,
          40220,
          40149.99,
          40039.87,
          40450,
          40412.2,
          40383.09,
          40436.01,
          40388.11,
          40313.35,
          40396.69,
          40426,
          40467.48,
          40551.9,
          40560,
          40579.99,
          40522.34,
          40434.12,
          40539.47,
          40456.82,
          40419.52,
          40393.77,
          40369.99,
          40328.79,
          40413.91,
          40416.95,
          40449.11,
          40438.15,
          40493.32,
          40062.68,
          40203.33,
          40153,
          40183.9,
          40210,
          40280,
          40485.28,
          40405.86,
          40378.71,
          40374.13,
          40387.43,
          40166.93,
          40230.86,
          40282.58,
          40364.48,
          40323.16,
          40285.15,
          40390.16,
          40419.82,
          40412.88,
          40464.77,
          40421.72,
          40306.56,
          40359.19,
          40445.3,
          40200.01,
          40101.72,
          40119.99,
          40370.46,
          40263.19,
          40208.14,
          40000,
          39678.12,
          39732.92,
          39752.13,
          39796.91,
          39813.17,
          38819.06,
          38922.21,
          38980.39,
          38919.85,
          38874.87,
          38976.39,
          38923.98,
          38998.54,
          39400.02,
          39326.13,
          39340,
          39254.5,
          39464.46,
          40211.03,
          40646.01,
          40680.68,
          40664.26,
          40801.3,
          40923.74,
          40801.13,
          40880.79,
          40750.05,
          40611,
          40693.79,
          40864.27,
          40660.96,
          40711.6,
          40683.14,
          40725.91,
          40665.4,
          40795.62,
          40687.3,
          40975.11,
          41451.52,
          41565.91,
          41445.87,
          41342.26,
          41345.63,
          41400.55,
          41417.24,
          41293.15,
          41313.07,
          41395.39,
          41493.18,
          41295.37
         ],
         "high": [
          45506.67,
          45365.48,
          45368.29,
          45289.48,
          45375.38,
          45444.83,
          45482.5,
          45507.14,
          45399.28,
          45393.25,
          45453.94,
          45114.27,
          44999.99,
          44965.83,
          44496.97,
          44305.39,
          44274.8,
          43940.38,
          44298.61,
          43973.01,
          44041.1,
          43999,
          43865.27,
          43609.56,
          43559.09,
          43410.16,
          43430,
          43409.96,
          43494.48,
          43465.18,
          43497.63,
          43545.74,
          43553.14,
          43521.93,
          43484.27,
          43834.52,
          43900.99,
          43683.86,
          43781.97,
          43572.81,
          43497.28,
          43695.12,
          43819.99,
          43772.52,
          43600.06,
          43596.3,
          43635.24,
          43750,
          43527.36,
          43647.92,
          43694.15,
          43691.83,
          43659.83,
          43678.2,
          43672.53,
          43780.32,
          43970.62,
          43772.45,
          43621.85,
          43561.37,
          43417.96,
          43193.9,
          43846.15,
          43961.99,
          43714.97,
          43457.18,
          43320.76,
          43192.67,
          42870.7,
          42862.06,
          42660.03,
          42370.06,
          42455.66,
          42466.87,
          42448.16,
          42439.22,
          42560.99,
          42640,
          42601.84,
          42515,
          42509.04,
          42485.44,
          42485.44,
          42540,
          42522.44,
          42519.29,
          42500.2,
          42466.91,
          42522.57,
          42613.8,
          42631.69,
          42583.9,
          42638,
          42584.49,
          42634.88,
          42800,
          42776.62,
          42786.02,
          42896.64,
          42891.91,
          42791.24,
          42799,
          42793.21,
          42796.01,
          42716.75,
          42655.94,
          42563.62,
          42715.84,
          42850,
          42663.68,
          42748.08,
          42776.77,
          42799,
          43310.15,
          43258.83,
          43290,
          43410.3,
          43198.2,
          42740.88,
          42434.51,
          42394.71,
          42414.71,
          42225.77,
          42148.69,
          42283.45,
          42312.75,
          42340.09,
          42350.29,
          42350,
          42202.79,
          41646.55,
          41595.99,
          41246.61,
          41184,
          41220.9,
          40989.99,
          40832.55,
          40896.83,
          40520.45,
          40598.43,
          40269.6,
          39916.45,
          39978.62,
          39840.39,
          39852.95,
          39727.8,
          39550.48,
          39750.01,
          39950,
          40145,
          40186.36,
          40196.39,
          40344.6,
          40245.48,
          40273.24,
          40464,
          40699,
          40627.48,
          40436.31,
          40370,
          40376.8,
          40227.03,
          40056.52,
          39721.7,
          39597.94,
          39750.15,
          39927,
          40289.02,
          40189,
          39936.17,
          40189.27,
          40275,
          40142.6,
          40211.9,
          40228.41,
          40226.07,
          40200.03,
          40212.75,
          40142.11,
          39990,
          39935.3,
          40569.99,
          40957,
          41411,
          41347.69,
          41141.57,
          41374.2,
          41561.31,
          41319.86,
          41337,
          41404.58,
          41340,
          41272.19,
          41500,
          41473.24,
          41450,
          41413.11,
          41343.62,
          41332.7,
          41360,
          41324.93,
          41218.7,
          41225,
          41070.76,
          41186.9,
          41300,
          40659.82,
          40483.66,
          40069,
          40060.05,
          40028.94,
          39847.79,
          39910,
          40000,
          40017.26,
          39946.94,
          40180,
          39978.66,
          40075.35,
          40207.25,
          40266.47,
          40214.59,
          40164.19,
          40449.96,
          40396.59,
          40194.67,
          40399,
          40363.01,
          40258.26,
          40234.81,
          40870.36,
          40578.16,
          40449.23,
          40650.01,
          40472.25,
          40395.5,
          40403.26,
          40465,
          40504.67,
          40602,
          40573.68,
          40709.35,
          40595.02,
          40522.34,
          40563.46,
          40539.47,
          40456.82,
          40450,
          40447.71,
          40414.58,
          40484.7,
          40492.91,
          40472.01,
          40461.73,
          40505.52,
          40577.57,
          40236.01,
          40236.01,
          40197.42,
          40250,
          40394.39,
          40600,
          40699.55,
          40499,
          40413.14,
          40423,
          40387.44,
          40295,
          40340,
          40430,
          40391.71,
          40359.74,
          40424.01,
          40529.79,
          40461.64,
          40485,
          40490.88,
          40595.67,
          40421.15,
          40485.82,
          40476.07,
          40276,
          40160,
          40450,
          40459.52,
          40285.56,
          40340.22,
          40002.97,
          39784.98,
          39828.62,
          39838.45,
          39896.98,
          39847.24,
          38986.2,
          39070.05,
          39068.96,
          39064.97,
          38990.89,
          39138.49,
          39107.99,
          39529.77,
          39620.8,
          39569.92,
          39370,
          39622.15,
          40370.8,
          41116.73,
          40747.02,
          40909.08,
          41099,
          40949.93,
          40972.77,
          41263.43,
          40935.96,
          40764.92,
          40790.85,
          40883.99,
          40877.5,
          40805.69,
          40750,
          40854.82,
          40768.42,
          40815.87,
          41026.89,
          41104,
          41472.34,
          41687.14,
          41760,
          41546.63,
          41370.01,
          41503.76,
          41547.65,
          41417.25,
          41391.24,
          41460.52,
          41539.9,
          41541.23
         ],
         "low": [
          44412,
          44963.13,
          45150,
          45139.93,
          45119,
          45302,
          45251.43,
          45233.59,
          45177.48,
          45205.01,
          45008.02,
          44665.91,
          44670.01,
          44130.12,
          43769.17,
          43705.64,
          43566.01,
          43393.74,
          43177.11,
          43527.09,
          43725.34,
          43792.47,
          43484.71,
          43121,
          42727.35,
          42868.81,
          43120.14,
          43157,
          43210.47,
          43225,
          43300,
          43366.01,
          43421.31,
          43269.5,
          43328.99,
          43302.01,
          43551.74,
          43330.09,
          43352.98,
          43024.86,
          43266.68,
          43472.05,
          43514.01,
          43375.36,
          43376.23,
          43208,
          43466.64,
          43425.22,
          43305.57,
          43310,
          43566.38,
          43550,
          43491.46,
          43476.97,
          43484.28,
          43416.74,
          43650,
          43499.83,
          43500.1,
          43260.76,
          43079.05,
          42751.01,
          42888.8,
          43587.23,
          43395.9,
          42801.26,
          42414,
          42657.5,
          42532.96,
          42450.88,
          42241,
          42107.14,
          42160,
          42294.33,
          42160.63,
          42125.48,
          42341.79,
          42406.01,
          42399.72,
          42364.25,
          42372.54,
          42397.66,
          42322.72,
          42434.36,
          42397.39,
          42445.72,
          42361.01,
          42158.67,
          42183.6,
          42410,
          42454.62,
          42448.11,
          42423.18,
          42390,
          42501.31,
          42488.23,
          42591,
          42597.9,
          42731.1,
          42775.74,
          42706.35,
          42650,
          42645.5,
          42575.4,
          42564.2,
          42489.01,
          42433.49,
          42517.01,
          42525,
          42525.44,
          42541.5,
          42650.02,
          42659.64,
          42784.43,
          43080,
          43075,
          43101.19,
          42654.93,
          41868,
          41980.28,
          41755,
          42153.06,
          41800,
          41828.74,
          42084.56,
          42183.5,
          42153.8,
          42161.45,
          42079.56,
          41392.8,
          41215,
          40968.11,
          40916.01,
          40684.8,
          40716.37,
          40560,
          40485.12,
          40250,
          40238,
          39770.35,
          39500,
          39275.68,
          39200,
          39372.35,
          39357.64,
          39408.16,
          39290,
          39478.73,
          39624.71,
          39870.71,
          39834.98,
          39866.31,
          40108.31,
          40016.09,
          40094.66,
          40105,
          40196.48,
          40154.99,
          39800,
          39959.21,
          39922.98,
          39940.02,
          39632,
          39261.39,
          39254.63,
          39473.91,
          39555.51,
          39819,
          39892.43,
          39588.54,
          39706.19,
          40013.79,
          39931.51,
          40063.51,
          39858.34,
          39910.07,
          40005,
          40029.86,
          39728.59,
          39656.1,
          39648.78,
          39622.87,
          40365,
          40640,
          40938.14,
          40829,
          40990.62,
          41024.49,
          41000,
          41080.01,
          41151.71,
          41075.04,
          41064.35,
          41177.94,
          41347.58,
          41271.08,
          41230.56,
          41242.97,
          41161.12,
          41156.9,
          41165,
          40973.51,
          40941.69,
          40851.5,
          40873.66,
          40516.48,
          40310.41,
          39925.21,
          39772.58,
          39842,
          39626.06,
          39551.94,
          39662.46,
          39861.31,
          39806.25,
          39828.95,
          39766.4,
          39833.87,
          39909.06,
          40000,
          40062.61,
          40081.41,
          39967.72,
          39953.2,
          40100,
          40036.06,
          40087.47,
          40100,
          40106.54,
          40010.2,
          39900,
          40354.54,
          40203.68,
          40356.71,
          40360.14,
          40276,
          40281.35,
          40362.37,
          40341.12,
          40420,
          40468.25,
          40525.67,
          40499.7,
          40410.75,
          40417.29,
          40373.91,
          40367.5,
          40353.54,
          40344.92,
          40277,
          40310.05,
          40390.55,
          40341.83,
          40377,
          40400,
          39991.55,
          40005.78,
          40096.4,
          40106.98,
          40170,
          40185.45,
          40280,
          40392.5,
          40360.11,
          40300.84,
          40326.87,
          40122.05,
          40124.99,
          40226.55,
          40253.1,
          40311.66,
          40234.79,
          40280,
          40390.15,
          40377.77,
          40363.6,
          40366.98,
          40250.02,
          40200,
          40321.92,
          40125.89,
          40050,
          39833.31,
          40087.19,
          40232.62,
          40127,
          39932.66,
          39546.17,
          39580.05,
          39667.63,
          39721.24,
          39743.64,
          38673.18,
          38536.51,
          38883.88,
          38791.73,
          38851.57,
          38799,
          38920.62,
          38923.98,
          38998.54,
          39233.13,
          39302.15,
          39122.78,
          39000,
          39463.21,
          40211.03,
          40421.67,
          40632.51,
          40664.25,
          40710,
          40721.25,
          40792.45,
          40699.09,
          40601,
          40609.3,
          40658.15,
          40649.15,
          40660.96,
          40571,
          40666.9,
          40580,
          40636.74,
          40665.05,
          40662.26,
          40841.65,
          41380.5,
          41371.81,
          41236.55,
          41167.92,
          41312.31,
          41362.02,
          41212.94,
          41260,
          41265.86,
          41395.38,
          41250.26
         ],
         "open": [
          45497.54,
          45005.88,
          45188.87,
          45220.86,
          45215.88,
          45335.34,
          45374.99,
          45464.27,
          45276.04,
          45366.85,
          45330.19,
          45072.54,
          44819.19,
          44751,
          44165.9,
          44258.99,
          44168.36,
          43781.3,
          43815.28,
          43837.64,
          43754.56,
          43877.45,
          43845.81,
          43511.33,
          43170.47,
          42894.3,
          43374.97,
          43350.92,
          43294.04,
          43395.57,
          43399.99,
          43380.94,
          43445.34,
          43521.92,
          43457.98,
          43409.74,
          43766.75,
          43554.97,
          43659.98,
          43420.69,
          43331.82,
          43494,
          43657.68,
          43702.96,
          43388.93,
          43567.35,
          43520.07,
          43629.72,
          43444.2,
          43327.47,
          43607.61,
          43615.63,
          43605.95,
          43543.03,
          43654.3,
          43573.45,
          43763.53,
          43700.33,
          43588.72,
          43558.51,
          43298.79,
          43151.75,
          42906.66,
          43750.15,
          43648.01,
          43433.71,
          43004.37,
          42957.56,
          42730.84,
          42798.75,
          42563.36,
          42300.98,
          42252.02,
          42435.03,
          42433.4,
          42180,
          42380,
          42406.82,
          42586.04,
          42440.01,
          42481.08,
          42463.5,
          42443.11,
          42480.56,
          42445.09,
          42506.34,
          42456.86,
          42459.99,
          42253.02,
          42445.65,
          42575.67,
          42467.82,
          42511.95,
          42423.18,
          42558.06,
          42543.42,
          42753.96,
          42632.31,
          42767.22,
          42833.03,
          42785.72,
          42740.86,
          42656.7,
          42785.33,
          42633.59,
          42642.55,
          42523.94,
          42530,
          42680.35,
          42589.99,
          42575.54,
          42698.38,
          42747.48,
          42784.43,
          43103.61,
          43107.61,
          43235.77,
          43101.23,
          42706.71,
          42111.93,
          42158.85,
          42303.26,
          42159.32,
          41929.33,
          42111.21,
          42259.44,
          42287.61,
          42249.99,
          42305.74,
          42200,
          41416.22,
          41595.98,
          41067.64,
          41145.45,
          41141.13,
          40803.86,
          40581.52,
          40764.79,
          40459.07,
          40509.97,
          39985.34,
          39838.26,
          39395.29,
          39766.39,
          39530.45,
          39544.32,
          39504.54,
          39489.99,
          39747.14,
          39921.18,
          40105.78,
          39935.24,
          40183.97,
          40182.02,
          40212.25,
          40150,
          40378,
          40618.37,
          40401.03,
          39990.38,
          40179.12,
          40097.23,
          40014.71,
          39667.85,
          39303.1,
          39519.99,
          39693.8,
          39827.97,
          40074.95,
          39936.17,
          39882.9,
          40059.15,
          40076.05,
          40134.5,
          40187.89,
          39958.44,
          40129.99,
          40162.32,
          40080,
          39808.1,
          39722.63,
          39700.01,
          40521.75,
          40642.1,
          41158.18,
          41005.59,
          41043.91,
          41363.01,
          41059.31,
          41241.17,
          41219.73,
          41279.04,
          41147.78,
          41186.22,
          41470,
          41420,
          41320,
          41290.81,
          41308.45,
          41195.39,
          41271.66,
          41172.72,
          41186.7,
          40946.47,
          40919.99,
          41149.98,
          40605.63,
          40435.03,
          39964.01,
          39951.11,
          39986.84,
          39658.99,
          39775.81,
          39909.99,
          39969.99,
          39843.71,
          39942.37,
          39859.99,
          39941.01,
          40017.19,
          40200.95,
          40103.25,
          40132.74,
          40040,
          40239.43,
          40153.98,
          40112.17,
          40268.23,
          40220,
          40150,
          40039.87,
          40450,
          40412.21,
          40383.1,
          40436.01,
          40388.11,
          40313.35,
          40396.7,
          40425.99,
          40467.48,
          40551.9,
          40560,
          40579.99,
          40522.34,
          40434.11,
          40539.46,
          40456.82,
          40419.52,
          40393.77,
          40370,
          40328.8,
          40413.91,
          40416.94,
          40449.1,
          40438.16,
          40493.31,
          40062.67,
          40203.33,
          40152.99,
          40183.91,
          40210.01,
          40280,
          40485.28,
          40405.85,
          40378.7,
          40374.13,
          40387.44,
          40166.93,
          40230.87,
          40282.58,
          40364.47,
          40323.15,
          40285.15,
          40390.15,
          40419.82,
          40412.89,
          40464.77,
          40421.72,
          40306.53,
          40359.19,
          40445.3,
          40200,
          40101.72,
          40119.99,
          40370.46,
          40263.19,
          40208.15,
          39999.99,
          39678.11,
          39732.92,
          39752.13,
          39796.91,
          39813.17,
          38819.07,
          38922.21,
          38980.4,
          38919.85,
          38874.87,
          38976.39,
          38923.98,
          38998.54,
          39400.01,
          39326.13,
          39340,
          39254.5,
          39464.46,
          40211.03,
          40646.01,
          40680.68,
          40664.25,
          40801.29,
          40923.75,
          40801.13,
          40880.79,
          40750.05,
          40611.01,
          40693.79,
          40864.27,
          40660.96,
          40711.61,
          40683.13,
          40725.91,
          40665.4,
          40795.61,
          40687.3,
          40975.12,
          41451.52,
          41565.92,
          41445.88,
          41342.25,
          41345.63,
          41400.56,
          41417.23,
          41293.15,
          41313.08,
          41395.38,
          41493.19
         ],
         "showlegend": false,
         "type": "candlestick",
         "x": [
          "2022-04-06T00:00:00",
          "2022-04-06T01:00:00",
          "2022-04-06T02:00:00",
          "2022-04-06T03:00:00",
          "2022-04-06T04:00:00",
          "2022-04-06T05:00:00",
          "2022-04-06T06:00:00",
          "2022-04-06T07:00:00",
          "2022-04-06T08:00:00",
          "2022-04-06T09:00:00",
          "2022-04-06T10:00:00",
          "2022-04-06T11:00:00",
          "2022-04-06T12:00:00",
          "2022-04-06T13:00:00",
          "2022-04-06T14:00:00",
          "2022-04-06T15:00:00",
          "2022-04-06T16:00:00",
          "2022-04-06T17:00:00",
          "2022-04-06T18:00:00",
          "2022-04-06T19:00:00",
          "2022-04-06T20:00:00",
          "2022-04-06T21:00:00",
          "2022-04-06T22:00:00",
          "2022-04-06T23:00:00",
          "2022-04-07T00:00:00",
          "2022-04-07T01:00:00",
          "2022-04-07T02:00:00",
          "2022-04-07T03:00:00",
          "2022-04-07T04:00:00",
          "2022-04-07T05:00:00",
          "2022-04-07T06:00:00",
          "2022-04-07T07:00:00",
          "2022-04-07T08:00:00",
          "2022-04-07T09:00:00",
          "2022-04-07T10:00:00",
          "2022-04-07T11:00:00",
          "2022-04-07T12:00:00",
          "2022-04-07T13:00:00",
          "2022-04-07T14:00:00",
          "2022-04-07T15:00:00",
          "2022-04-07T16:00:00",
          "2022-04-07T17:00:00",
          "2022-04-07T18:00:00",
          "2022-04-07T19:00:00",
          "2022-04-07T20:00:00",
          "2022-04-07T21:00:00",
          "2022-04-07T22:00:00",
          "2022-04-07T23:00:00",
          "2022-04-08T00:00:00",
          "2022-04-08T01:00:00",
          "2022-04-08T02:00:00",
          "2022-04-08T03:00:00",
          "2022-04-08T04:00:00",
          "2022-04-08T05:00:00",
          "2022-04-08T06:00:00",
          "2022-04-08T07:00:00",
          "2022-04-08T08:00:00",
          "2022-04-08T09:00:00",
          "2022-04-08T10:00:00",
          "2022-04-08T11:00:00",
          "2022-04-08T12:00:00",
          "2022-04-08T13:00:00",
          "2022-04-08T14:00:00",
          "2022-04-08T15:00:00",
          "2022-04-08T16:00:00",
          "2022-04-08T17:00:00",
          "2022-04-08T18:00:00",
          "2022-04-08T19:00:00",
          "2022-04-08T20:00:00",
          "2022-04-08T21:00:00",
          "2022-04-08T22:00:00",
          "2022-04-08T23:00:00",
          "2022-04-09T00:00:00",
          "2022-04-09T01:00:00",
          "2022-04-09T02:00:00",
          "2022-04-09T03:00:00",
          "2022-04-09T04:00:00",
          "2022-04-09T05:00:00",
          "2022-04-09T06:00:00",
          "2022-04-09T07:00:00",
          "2022-04-09T08:00:00",
          "2022-04-09T09:00:00",
          "2022-04-09T10:00:00",
          "2022-04-09T11:00:00",
          "2022-04-09T12:00:00",
          "2022-04-09T13:00:00",
          "2022-04-09T14:00:00",
          "2022-04-09T15:00:00",
          "2022-04-09T16:00:00",
          "2022-04-09T17:00:00",
          "2022-04-09T18:00:00",
          "2022-04-09T19:00:00",
          "2022-04-09T20:00:00",
          "2022-04-09T21:00:00",
          "2022-04-09T22:00:00",
          "2022-04-09T23:00:00",
          "2022-04-10T00:00:00",
          "2022-04-10T01:00:00",
          "2022-04-10T02:00:00",
          "2022-04-10T03:00:00",
          "2022-04-10T04:00:00",
          "2022-04-10T05:00:00",
          "2022-04-10T06:00:00",
          "2022-04-10T07:00:00",
          "2022-04-10T08:00:00",
          "2022-04-10T09:00:00",
          "2022-04-10T10:00:00",
          "2022-04-10T11:00:00",
          "2022-04-10T12:00:00",
          "2022-04-10T13:00:00",
          "2022-04-10T14:00:00",
          "2022-04-10T15:00:00",
          "2022-04-10T16:00:00",
          "2022-04-10T17:00:00",
          "2022-04-10T18:00:00",
          "2022-04-10T19:00:00",
          "2022-04-10T20:00:00",
          "2022-04-10T21:00:00",
          "2022-04-10T22:00:00",
          "2022-04-10T23:00:00",
          "2022-04-11T00:00:00",
          "2022-04-11T01:00:00",
          "2022-04-11T02:00:00",
          "2022-04-11T03:00:00",
          "2022-04-11T04:00:00",
          "2022-04-11T05:00:00",
          "2022-04-11T06:00:00",
          "2022-04-11T07:00:00",
          "2022-04-11T08:00:00",
          "2022-04-11T09:00:00",
          "2022-04-11T10:00:00",
          "2022-04-11T11:00:00",
          "2022-04-11T12:00:00",
          "2022-04-11T13:00:00",
          "2022-04-11T14:00:00",
          "2022-04-11T15:00:00",
          "2022-04-11T16:00:00",
          "2022-04-11T17:00:00",
          "2022-04-11T18:00:00",
          "2022-04-11T19:00:00",
          "2022-04-11T20:00:00",
          "2022-04-11T21:00:00",
          "2022-04-11T22:00:00",
          "2022-04-11T23:00:00",
          "2022-04-12T00:00:00",
          "2022-04-12T01:00:00",
          "2022-04-12T02:00:00",
          "2022-04-12T03:00:00",
          "2022-04-12T04:00:00",
          "2022-04-12T05:00:00",
          "2022-04-12T06:00:00",
          "2022-04-12T07:00:00",
          "2022-04-12T08:00:00",
          "2022-04-12T09:00:00",
          "2022-04-12T10:00:00",
          "2022-04-12T11:00:00",
          "2022-04-12T12:00:00",
          "2022-04-12T13:00:00",
          "2022-04-12T14:00:00",
          "2022-04-12T15:00:00",
          "2022-04-12T16:00:00",
          "2022-04-12T17:00:00",
          "2022-04-12T18:00:00",
          "2022-04-12T19:00:00",
          "2022-04-12T20:00:00",
          "2022-04-12T21:00:00",
          "2022-04-12T22:00:00",
          "2022-04-12T23:00:00",
          "2022-04-13T00:00:00",
          "2022-04-13T01:00:00",
          "2022-04-13T02:00:00",
          "2022-04-13T03:00:00",
          "2022-04-13T04:00:00",
          "2022-04-13T05:00:00",
          "2022-04-13T06:00:00",
          "2022-04-13T07:00:00",
          "2022-04-13T08:00:00",
          "2022-04-13T09:00:00",
          "2022-04-13T10:00:00",
          "2022-04-13T11:00:00",
          "2022-04-13T12:00:00",
          "2022-04-13T13:00:00",
          "2022-04-13T14:00:00",
          "2022-04-13T15:00:00",
          "2022-04-13T16:00:00",
          "2022-04-13T17:00:00",
          "2022-04-13T18:00:00",
          "2022-04-13T19:00:00",
          "2022-04-13T20:00:00",
          "2022-04-13T21:00:00",
          "2022-04-13T22:00:00",
          "2022-04-13T23:00:00",
          "2022-04-14T00:00:00",
          "2022-04-14T01:00:00",
          "2022-04-14T02:00:00",
          "2022-04-14T03:00:00",
          "2022-04-14T04:00:00",
          "2022-04-14T05:00:00",
          "2022-04-14T06:00:00",
          "2022-04-14T07:00:00",
          "2022-04-14T08:00:00",
          "2022-04-14T09:00:00",
          "2022-04-14T10:00:00",
          "2022-04-14T11:00:00",
          "2022-04-14T12:00:00",
          "2022-04-14T13:00:00",
          "2022-04-14T14:00:00",
          "2022-04-14T15:00:00",
          "2022-04-14T16:00:00",
          "2022-04-14T17:00:00",
          "2022-04-14T18:00:00",
          "2022-04-14T19:00:00",
          "2022-04-14T20:00:00",
          "2022-04-14T21:00:00",
          "2022-04-14T22:00:00",
          "2022-04-14T23:00:00",
          "2022-04-15T00:00:00",
          "2022-04-15T01:00:00",
          "2022-04-15T02:00:00",
          "2022-04-15T03:00:00",
          "2022-04-15T04:00:00",
          "2022-04-15T05:00:00",
          "2022-04-15T06:00:00",
          "2022-04-15T07:00:00",
          "2022-04-15T08:00:00",
          "2022-04-15T09:00:00",
          "2022-04-15T10:00:00",
          "2022-04-15T11:00:00",
          "2022-04-15T12:00:00",
          "2022-04-15T13:00:00",
          "2022-04-15T14:00:00",
          "2022-04-15T15:00:00",
          "2022-04-15T16:00:00",
          "2022-04-15T17:00:00",
          "2022-04-15T18:00:00",
          "2022-04-15T19:00:00",
          "2022-04-15T20:00:00",
          "2022-04-15T21:00:00",
          "2022-04-15T22:00:00",
          "2022-04-15T23:00:00",
          "2022-04-16T00:00:00",
          "2022-04-16T01:00:00",
          "2022-04-16T02:00:00",
          "2022-04-16T03:00:00",
          "2022-04-16T04:00:00",
          "2022-04-16T05:00:00",
          "2022-04-16T06:00:00",
          "2022-04-16T07:00:00",
          "2022-04-16T08:00:00",
          "2022-04-16T09:00:00",
          "2022-04-16T10:00:00",
          "2022-04-16T11:00:00",
          "2022-04-16T12:00:00",
          "2022-04-16T13:00:00",
          "2022-04-16T14:00:00",
          "2022-04-16T15:00:00",
          "2022-04-16T16:00:00",
          "2022-04-16T17:00:00",
          "2022-04-16T18:00:00",
          "2022-04-16T19:00:00",
          "2022-04-16T20:00:00",
          "2022-04-16T21:00:00",
          "2022-04-16T22:00:00",
          "2022-04-16T23:00:00",
          "2022-04-17T00:00:00",
          "2022-04-17T01:00:00",
          "2022-04-17T02:00:00",
          "2022-04-17T03:00:00",
          "2022-04-17T04:00:00",
          "2022-04-17T05:00:00",
          "2022-04-17T06:00:00",
          "2022-04-17T07:00:00",
          "2022-04-17T08:00:00",
          "2022-04-17T09:00:00",
          "2022-04-17T10:00:00",
          "2022-04-17T11:00:00",
          "2022-04-17T12:00:00",
          "2022-04-17T13:00:00",
          "2022-04-17T14:00:00",
          "2022-04-17T15:00:00",
          "2022-04-17T16:00:00",
          "2022-04-17T17:00:00",
          "2022-04-17T18:00:00",
          "2022-04-17T19:00:00",
          "2022-04-17T20:00:00",
          "2022-04-17T21:00:00",
          "2022-04-17T22:00:00",
          "2022-04-17T23:00:00",
          "2022-04-18T00:00:00",
          "2022-04-18T01:00:00",
          "2022-04-18T02:00:00",
          "2022-04-18T03:00:00",
          "2022-04-18T04:00:00",
          "2022-04-18T05:00:00",
          "2022-04-18T06:00:00",
          "2022-04-18T07:00:00",
          "2022-04-18T08:00:00",
          "2022-04-18T09:00:00",
          "2022-04-18T10:00:00",
          "2022-04-18T11:00:00",
          "2022-04-18T12:00:00",
          "2022-04-18T13:00:00",
          "2022-04-18T14:00:00",
          "2022-04-18T15:00:00",
          "2022-04-18T16:00:00",
          "2022-04-18T17:00:00",
          "2022-04-18T18:00:00",
          "2022-04-18T19:00:00",
          "2022-04-18T20:00:00",
          "2022-04-18T21:00:00",
          "2022-04-18T22:00:00",
          "2022-04-18T23:00:00",
          "2022-04-19T00:00:00",
          "2022-04-19T01:00:00",
          "2022-04-19T02:00:00",
          "2022-04-19T03:00:00",
          "2022-04-19T04:00:00",
          "2022-04-19T05:00:00",
          "2022-04-19T06:00:00",
          "2022-04-19T07:00:00",
          "2022-04-19T08:00:00",
          "2022-04-19T09:00:00",
          "2022-04-19T10:00:00",
          "2022-04-19T11:00:00",
          "2022-04-19T12:00:00",
          "2022-04-19T13:00:00",
          "2022-04-19T14:00:00",
          "2022-04-19T15:00:00",
          "2022-04-19T16:00:00",
          "2022-04-19T17:00:00",
          "2022-04-19T18:00:00",
          "2022-04-19T19:00:00",
          "2022-04-19T20:00:00",
          "2022-04-19T21:00:00",
          "2022-04-19T22:00:00",
          "2022-04-19T23:00:00",
          "2022-04-20T00:00:00"
         ],
         "xaxis": "x",
         "yaxis": "y"
        },
        {
         "marker": {
          "color": "lightsteelblue"
         },
         "showlegend": false,
         "type": "bar",
         "x": [
          "2022-04-06T00:00:00",
          "2022-04-06T01:00:00",
          "2022-04-06T02:00:00",
          "2022-04-06T03:00:00",
          "2022-04-06T04:00:00",
          "2022-04-06T05:00:00",
          "2022-04-06T06:00:00",
          "2022-04-06T07:00:00",
          "2022-04-06T08:00:00",
          "2022-04-06T09:00:00",
          "2022-04-06T10:00:00",
          "2022-04-06T11:00:00",
          "2022-04-06T12:00:00",
          "2022-04-06T13:00:00",
          "2022-04-06T14:00:00",
          "2022-04-06T15:00:00",
          "2022-04-06T16:00:00",
          "2022-04-06T17:00:00",
          "2022-04-06T18:00:00",
          "2022-04-06T19:00:00",
          "2022-04-06T20:00:00",
          "2022-04-06T21:00:00",
          "2022-04-06T22:00:00",
          "2022-04-06T23:00:00",
          "2022-04-07T00:00:00",
          "2022-04-07T01:00:00",
          "2022-04-07T02:00:00",
          "2022-04-07T03:00:00",
          "2022-04-07T04:00:00",
          "2022-04-07T05:00:00",
          "2022-04-07T06:00:00",
          "2022-04-07T07:00:00",
          "2022-04-07T08:00:00",
          "2022-04-07T09:00:00",
          "2022-04-07T10:00:00",
          "2022-04-07T11:00:00",
          "2022-04-07T12:00:00",
          "2022-04-07T13:00:00",
          "2022-04-07T14:00:00",
          "2022-04-07T15:00:00",
          "2022-04-07T16:00:00",
          "2022-04-07T17:00:00",
          "2022-04-07T18:00:00",
          "2022-04-07T19:00:00",
          "2022-04-07T20:00:00",
          "2022-04-07T21:00:00",
          "2022-04-07T22:00:00",
          "2022-04-07T23:00:00",
          "2022-04-08T00:00:00",
          "2022-04-08T01:00:00",
          "2022-04-08T02:00:00",
          "2022-04-08T03:00:00",
          "2022-04-08T04:00:00",
          "2022-04-08T05:00:00",
          "2022-04-08T06:00:00",
          "2022-04-08T07:00:00",
          "2022-04-08T08:00:00",
          "2022-04-08T09:00:00",
          "2022-04-08T10:00:00",
          "2022-04-08T11:00:00",
          "2022-04-08T12:00:00",
          "2022-04-08T13:00:00",
          "2022-04-08T14:00:00",
          "2022-04-08T15:00:00",
          "2022-04-08T16:00:00",
          "2022-04-08T17:00:00",
          "2022-04-08T18:00:00",
          "2022-04-08T19:00:00",
          "2022-04-08T20:00:00",
          "2022-04-08T21:00:00",
          "2022-04-08T22:00:00",
          "2022-04-08T23:00:00",
          "2022-04-09T00:00:00",
          "2022-04-09T01:00:00",
          "2022-04-09T02:00:00",
          "2022-04-09T03:00:00",
          "2022-04-09T04:00:00",
          "2022-04-09T05:00:00",
          "2022-04-09T06:00:00",
          "2022-04-09T07:00:00",
          "2022-04-09T08:00:00",
          "2022-04-09T09:00:00",
          "2022-04-09T10:00:00",
          "2022-04-09T11:00:00",
          "2022-04-09T12:00:00",
          "2022-04-09T13:00:00",
          "2022-04-09T14:00:00",
          "2022-04-09T15:00:00",
          "2022-04-09T16:00:00",
          "2022-04-09T17:00:00",
          "2022-04-09T18:00:00",
          "2022-04-09T19:00:00",
          "2022-04-09T20:00:00",
          "2022-04-09T21:00:00",
          "2022-04-09T22:00:00",
          "2022-04-09T23:00:00",
          "2022-04-10T00:00:00",
          "2022-04-10T01:00:00",
          "2022-04-10T02:00:00",
          "2022-04-10T03:00:00",
          "2022-04-10T04:00:00",
          "2022-04-10T05:00:00",
          "2022-04-10T06:00:00",
          "2022-04-10T07:00:00",
          "2022-04-10T08:00:00",
          "2022-04-10T09:00:00",
          "2022-04-10T10:00:00",
          "2022-04-10T11:00:00",
          "2022-04-10T12:00:00",
          "2022-04-10T13:00:00",
          "2022-04-10T14:00:00",
          "2022-04-10T15:00:00",
          "2022-04-10T16:00:00",
          "2022-04-10T17:00:00",
          "2022-04-10T18:00:00",
          "2022-04-10T19:00:00",
          "2022-04-10T20:00:00",
          "2022-04-10T21:00:00",
          "2022-04-10T22:00:00",
          "2022-04-10T23:00:00",
          "2022-04-11T00:00:00",
          "2022-04-11T01:00:00",
          "2022-04-11T02:00:00",
          "2022-04-11T03:00:00",
          "2022-04-11T04:00:00",
          "2022-04-11T05:00:00",
          "2022-04-11T06:00:00",
          "2022-04-11T07:00:00",
          "2022-04-11T08:00:00",
          "2022-04-11T09:00:00",
          "2022-04-11T10:00:00",
          "2022-04-11T11:00:00",
          "2022-04-11T12:00:00",
          "2022-04-11T13:00:00",
          "2022-04-11T14:00:00",
          "2022-04-11T15:00:00",
          "2022-04-11T16:00:00",
          "2022-04-11T17:00:00",
          "2022-04-11T18:00:00",
          "2022-04-11T19:00:00",
          "2022-04-11T20:00:00",
          "2022-04-11T21:00:00",
          "2022-04-11T22:00:00",
          "2022-04-11T23:00:00",
          "2022-04-12T00:00:00",
          "2022-04-12T01:00:00",
          "2022-04-12T02:00:00",
          "2022-04-12T03:00:00",
          "2022-04-12T04:00:00",
          "2022-04-12T05:00:00",
          "2022-04-12T06:00:00",
          "2022-04-12T07:00:00",
          "2022-04-12T08:00:00",
          "2022-04-12T09:00:00",
          "2022-04-12T10:00:00",
          "2022-04-12T11:00:00",
          "2022-04-12T12:00:00",
          "2022-04-12T13:00:00",
          "2022-04-12T14:00:00",
          "2022-04-12T15:00:00",
          "2022-04-12T16:00:00",
          "2022-04-12T17:00:00",
          "2022-04-12T18:00:00",
          "2022-04-12T19:00:00",
          "2022-04-12T20:00:00",
          "2022-04-12T21:00:00",
          "2022-04-12T22:00:00",
          "2022-04-12T23:00:00",
          "2022-04-13T00:00:00",
          "2022-04-13T01:00:00",
          "2022-04-13T02:00:00",
          "2022-04-13T03:00:00",
          "2022-04-13T04:00:00",
          "2022-04-13T05:00:00",
          "2022-04-13T06:00:00",
          "2022-04-13T07:00:00",
          "2022-04-13T08:00:00",
          "2022-04-13T09:00:00",
          "2022-04-13T10:00:00",
          "2022-04-13T11:00:00",
          "2022-04-13T12:00:00",
          "2022-04-13T13:00:00",
          "2022-04-13T14:00:00",
          "2022-04-13T15:00:00",
          "2022-04-13T16:00:00",
          "2022-04-13T17:00:00",
          "2022-04-13T18:00:00",
          "2022-04-13T19:00:00",
          "2022-04-13T20:00:00",
          "2022-04-13T21:00:00",
          "2022-04-13T22:00:00",
          "2022-04-13T23:00:00",
          "2022-04-14T00:00:00",
          "2022-04-14T01:00:00",
          "2022-04-14T02:00:00",
          "2022-04-14T03:00:00",
          "2022-04-14T04:00:00",
          "2022-04-14T05:00:00",
          "2022-04-14T06:00:00",
          "2022-04-14T07:00:00",
          "2022-04-14T08:00:00",
          "2022-04-14T09:00:00",
          "2022-04-14T10:00:00",
          "2022-04-14T11:00:00",
          "2022-04-14T12:00:00",
          "2022-04-14T13:00:00",
          "2022-04-14T14:00:00",
          "2022-04-14T15:00:00",
          "2022-04-14T16:00:00",
          "2022-04-14T17:00:00",
          "2022-04-14T18:00:00",
          "2022-04-14T19:00:00",
          "2022-04-14T20:00:00",
          "2022-04-14T21:00:00",
          "2022-04-14T22:00:00",
          "2022-04-14T23:00:00",
          "2022-04-15T00:00:00",
          "2022-04-15T01:00:00",
          "2022-04-15T02:00:00",
          "2022-04-15T03:00:00",
          "2022-04-15T04:00:00",
          "2022-04-15T05:00:00",
          "2022-04-15T06:00:00",
          "2022-04-15T07:00:00",
          "2022-04-15T08:00:00",
          "2022-04-15T09:00:00",
          "2022-04-15T10:00:00",
          "2022-04-15T11:00:00",
          "2022-04-15T12:00:00",
          "2022-04-15T13:00:00",
          "2022-04-15T14:00:00",
          "2022-04-15T15:00:00",
          "2022-04-15T16:00:00",
          "2022-04-15T17:00:00",
          "2022-04-15T18:00:00",
          "2022-04-15T19:00:00",
          "2022-04-15T20:00:00",
          "2022-04-15T21:00:00",
          "2022-04-15T22:00:00",
          "2022-04-15T23:00:00",
          "2022-04-16T00:00:00",
          "2022-04-16T01:00:00",
          "2022-04-16T02:00:00",
          "2022-04-16T03:00:00",
          "2022-04-16T04:00:00",
          "2022-04-16T05:00:00",
          "2022-04-16T06:00:00",
          "2022-04-16T07:00:00",
          "2022-04-16T08:00:00",
          "2022-04-16T09:00:00",
          "2022-04-16T10:00:00",
          "2022-04-16T11:00:00",
          "2022-04-16T12:00:00",
          "2022-04-16T13:00:00",
          "2022-04-16T14:00:00",
          "2022-04-16T15:00:00",
          "2022-04-16T16:00:00",
          "2022-04-16T17:00:00",
          "2022-04-16T18:00:00",
          "2022-04-16T19:00:00",
          "2022-04-16T20:00:00",
          "2022-04-16T21:00:00",
          "2022-04-16T22:00:00",
          "2022-04-16T23:00:00",
          "2022-04-17T00:00:00",
          "2022-04-17T01:00:00",
          "2022-04-17T02:00:00",
          "2022-04-17T03:00:00",
          "2022-04-17T04:00:00",
          "2022-04-17T05:00:00",
          "2022-04-17T06:00:00",
          "2022-04-17T07:00:00",
          "2022-04-17T08:00:00",
          "2022-04-17T09:00:00",
          "2022-04-17T10:00:00",
          "2022-04-17T11:00:00",
          "2022-04-17T12:00:00",
          "2022-04-17T13:00:00",
          "2022-04-17T14:00:00",
          "2022-04-17T15:00:00",
          "2022-04-17T16:00:00",
          "2022-04-17T17:00:00",
          "2022-04-17T18:00:00",
          "2022-04-17T19:00:00",
          "2022-04-17T20:00:00",
          "2022-04-17T21:00:00",
          "2022-04-17T22:00:00",
          "2022-04-17T23:00:00",
          "2022-04-18T00:00:00",
          "2022-04-18T01:00:00",
          "2022-04-18T02:00:00",
          "2022-04-18T03:00:00",
          "2022-04-18T04:00:00",
          "2022-04-18T05:00:00",
          "2022-04-18T06:00:00",
          "2022-04-18T07:00:00",
          "2022-04-18T08:00:00",
          "2022-04-18T09:00:00",
          "2022-04-18T10:00:00",
          "2022-04-18T11:00:00",
          "2022-04-18T12:00:00",
          "2022-04-18T13:00:00",
          "2022-04-18T14:00:00",
          "2022-04-18T15:00:00",
          "2022-04-18T16:00:00",
          "2022-04-18T17:00:00",
          "2022-04-18T18:00:00",
          "2022-04-18T19:00:00",
          "2022-04-18T20:00:00",
          "2022-04-18T21:00:00",
          "2022-04-18T22:00:00",
          "2022-04-18T23:00:00",
          "2022-04-19T00:00:00",
          "2022-04-19T01:00:00",
          "2022-04-19T02:00:00",
          "2022-04-19T03:00:00",
          "2022-04-19T04:00:00",
          "2022-04-19T05:00:00",
          "2022-04-19T06:00:00",
          "2022-04-19T07:00:00",
          "2022-04-19T08:00:00",
          "2022-04-19T09:00:00",
          "2022-04-19T10:00:00",
          "2022-04-19T11:00:00",
          "2022-04-19T12:00:00",
          "2022-04-19T13:00:00",
          "2022-04-19T14:00:00",
          "2022-04-19T15:00:00",
          "2022-04-19T16:00:00",
          "2022-04-19T17:00:00",
          "2022-04-19T18:00:00",
          "2022-04-19T19:00:00",
          "2022-04-19T20:00:00",
          "2022-04-19T21:00:00",
          "2022-04-19T22:00:00",
          "2022-04-19T23:00:00",
          "2022-04-20T00:00:00"
         ],
         "xaxis": "x2",
         "y": [
          6445.51922,
          1677.29334,
          848.14718,
          736.20798,
          875.62253,
          735.96483,
          1327.43298,
          1262.25479,
          1214.65814,
          842.65329,
          1997.85052,
          3700.53654,
          2355.35781,
          4798.23749,
          6039.95689,
          3945.39906,
          3986.53099,
          3205.11503,
          6483.66757,
          2766.10858,
          1353.94246,
          977.96036,
          1126.17817,
          2146.73361,
          3738.44955,
          2224.9679,
          1226.51086,
          1255.75246,
          1169.59279,
          1217.55336,
          929.11382,
          1246.42515,
          964.22773,
          1191.87092,
          954.90136,
          2809.47051,
          1631.63551,
          2268.17802,
          2109.61707,
          2804.13397,
          1567.91119,
          1634.74431,
          1635.98052,
          1261.65436,
          714.68054,
          954.30979,
          800.61276,
          1084.24711,
          1004.29322,
          1021.10737,
          772.47903,
          547.4576500000001,
          509.97862,
          659.14366,
          1187.43884,
          1556.4029,
          2334.89149,
          1233.32916,
          887.9580100000001,
          1880.17355,
          1713.44905,
          3636.19827,
          3948.19621,
          2407.37189,
          1490.41591,
          3040.57954,
          4995.30505,
          1959.31305,
          1269.49201,
          997.61688,
          1803.83308,
          1518.61759,
          1403.09674,
          748.41319,
          894.66743,
          1000.62984,
          849.16273,
          721.2542100000001,
          606.86637,
          596.68457,
          594.39467,
          475.82385,
          584.01232,
          580.5026,
          707.57097,
          576.5279,
          892.78165,
          1331.57722,
          1228.98827,
          694.01053,
          436.61166,
          609.0946,
          419.45489,
          425.13616,
          439.09087,
          1075.30723,
          609.62172,
          489.67289,
          507.70146,
          507.09099,
          345.20871,
          471.15811,
          439.85009,
          568.83472,
          513.84297,
          630.29251,
          592.10781,
          614.98094,
          1188.11992,
          563.57179,
          647.81139,
          651.20995,
          745.74316,
          2448.37291,
          863.39192,
          645.97898,
          924.48097,
          1103.88956,
          4409.45383,
          2288.70673,
          2724.82272,
          1029.59676,
          3752.11732,
          1326.16362,
          989.29185,
          830.96408,
          824.20199,
          963.65274,
          1452.29216,
          3808.12893,
          4364.96597,
          4229.29764,
          2739.34023,
          4059.87941,
          2705.43168,
          2062.3939,
          3114.81231,
          3270.42247,
          1441.60443,
          5230.21519,
          4362.21223,
          2737.45528,
          3367.38574,
          2173.79856,
          3026.11925,
          2077.08447,
          1836.21963,
          1654.82549,
          2169.61794,
          2447.21004,
          2016.83778,
          2746.76562,
          2076.09475,
          1472.44762,
          1387.97695,
          1985.98708,
          5896.31434,
          4269.32189,
          3856.304,
          2422.61727,
          2470.46725,
          1921.53762,
          2529.40412,
          3111.24907,
          1716.66943,
          1252.26075,
          1626.56329,
          1781.12213,
          1168.21926,
          1514.99829,
          1295.7161,
          954.46905,
          672.83924,
          763.44194,
          984.30171,
          1293.85167,
          1092.54646,
          918.60258,
          1421.31832,
          1437.29346,
          1843.9893,
          4002.65579,
          4840.88732,
          4436.77629,
          2487.51173,
          2550.19169,
          1420.36184,
          2088.3285,
          1093.07359,
          687.31731,
          1099.34099,
          1274.24011,
          1275.32515,
          1489.01258,
          1016.68136,
          1036.40448,
          975.51404,
          551.62149,
          947.46841,
          934.16859,
          1020.29445,
          1661.27352,
          1601.70113,
          1222.59425,
          1754.23484,
          3760.4247,
          3552.21665,
          3229.43185,
          3049.26909,
          1440.41784,
          1719.77026,
          1463.19751,
          1191.67137,
          629.27941,
          877.56531,
          407.47573,
          1357.42561,
          940.72787,
          642.37189,
          829.28757,
          784.39545,
          719.80807,
          766.7563,
          1858.30014,
          1633.77665,
          774.88876,
          1032.42238,
          870.47033,
          754.45673,
          1166.26078,
          2711.56276,
          1614.52281,
          1206.55006,
          1323.42996,
          598.67288,
          581.56669,
          412.66455,
          387.30679,
          558.3651,
          500.36726,
          548.17832,
          656.88441,
          502.06116,
          563.82673,
          518.75393,
          531.50506,
          402.69155,
          467.82541,
          443.87433,
          825.48297,
          712.24734,
          686.41342,
          756.47976,
          579.16652,
          497.09589,
          2329.14942,
          763.54151,
          447.04961,
          305.51699,
          442.46418,
          415.06685,
          703.25763,
          1271.72769,
          435.1865,
          505.34015,
          240.24556,
          693.66937,
          434.99368,
          291.55063,
          325.65266,
          358.55481,
          337.17292,
          573.226,
          688.77151,
          396.17757,
          502.42203,
          437.96495,
          1647.94177,
          804.50541,
          645.51978,
          996.43042,
          926.98236,
          1660.56701,
          1028.90747,
          734.27847,
          587.11214,
          1788.05433,
          3382.45159,
          1597.81786,
          936.15216,
          836.6054,
          694.52326,
          5910.36415,
          2664.91735,
          1252.17316,
          1801.61014,
          1140.00086,
          1362.37489,
          1290.77413,
          1136.99587,
          2598.94732,
          3524.72302,
          2647.31019,
          1857.04882,
          2649.34546,
          6018.08022,
          6382.58595,
          2392.74189,
          1637.34137,
          1731.3162,
          976.57394,
          1203.17214,
          2760.44917,
          829.5274900000001,
          943.03519,
          1045.17887,
          894.52211,
          644.4931,
          696.79506,
          1022.86614,
          939.91756,
          1032.06058,
          1102.04205,
          1361.26984,
          1843.39091,
          4784.33766,
          3945.51147,
          2627.42342,
          2102.87183,
          1420.25709,
          1132.24277,
          1340.95499,
          1157.40014,
          609.70504,
          702.11,
          850.49595,
          1226.31947
         ],
         "yaxis": "y2"
        }
       ],
       "layout": {
        "height": 600,
        "paper_bgcolor": "white",
        "plot_bgcolor": "white",
        "template": {
         "data": {
          "bar": [
           {
            "error_x": {
             "color": "#2a3f5f"
            },
            "error_y": {
             "color": "#2a3f5f"
            },
            "marker": {
             "line": {
              "color": "#E5ECF6",
              "width": 0.5
             },
             "pattern": {
              "fillmode": "overlay",
              "size": 10,
              "solidity": 0.2
             }
            },
            "type": "bar"
           }
          ],
          "barpolar": [
           {
            "marker": {
             "line": {
              "color": "#E5ECF6",
              "width": 0.5
             },
             "pattern": {
              "fillmode": "overlay",
              "size": 10,
              "solidity": 0.2
             }
            },
            "type": "barpolar"
           }
          ],
          "carpet": [
           {
            "aaxis": {
             "endlinecolor": "#2a3f5f",
             "gridcolor": "white",
             "linecolor": "white",
             "minorgridcolor": "white",
             "startlinecolor": "#2a3f5f"
            },
            "baxis": {
             "endlinecolor": "#2a3f5f",
             "gridcolor": "white",
             "linecolor": "white",
             "minorgridcolor": "white",
             "startlinecolor": "#2a3f5f"
            },
            "type": "carpet"
           }
          ],
          "choropleth": [
           {
            "colorbar": {
             "outlinewidth": 0,
             "ticks": ""
            },
            "type": "choropleth"
           }
          ],
          "contour": [
           {
            "colorbar": {
             "outlinewidth": 0,
             "ticks": ""
            },
            "colorscale": [
             [
              0,
              "#0d0887"
             ],
             [
              0.1111111111111111,
              "#46039f"
             ],
             [
              0.2222222222222222,
              "#7201a8"
             ],
             [
              0.3333333333333333,
              "#9c179e"
             ],
             [
              0.4444444444444444,
              "#bd3786"
             ],
             [
              0.5555555555555556,
              "#d8576b"
             ],
             [
              0.6666666666666666,
              "#ed7953"
             ],
             [
              0.7777777777777778,
              "#fb9f3a"
             ],
             [
              0.8888888888888888,
              "#fdca26"
             ],
             [
              1,
              "#f0f921"
             ]
            ],
            "type": "contour"
           }
          ],
          "contourcarpet": [
           {
            "colorbar": {
             "outlinewidth": 0,
             "ticks": ""
            },
            "type": "contourcarpet"
           }
          ],
          "heatmap": [
           {
            "colorbar": {
             "outlinewidth": 0,
             "ticks": ""
            },
            "colorscale": [
             [
              0,
              "#0d0887"
             ],
             [
              0.1111111111111111,
              "#46039f"
             ],
             [
              0.2222222222222222,
              "#7201a8"
             ],
             [
              0.3333333333333333,
              "#9c179e"
             ],
             [
              0.4444444444444444,
              "#bd3786"
             ],
             [
              0.5555555555555556,
              "#d8576b"
             ],
             [
              0.6666666666666666,
              "#ed7953"
             ],
             [
              0.7777777777777778,
              "#fb9f3a"
             ],
             [
              0.8888888888888888,
              "#fdca26"
             ],
             [
              1,
              "#f0f921"
             ]
            ],
            "type": "heatmap"
           }
          ],
          "heatmapgl": [
           {
            "colorbar": {
             "outlinewidth": 0,
             "ticks": ""
            },
            "colorscale": [
             [
              0,
              "#0d0887"
             ],
             [
              0.1111111111111111,
              "#46039f"
             ],
             [
              0.2222222222222222,
              "#7201a8"
             ],
             [
              0.3333333333333333,
              "#9c179e"
             ],
             [
              0.4444444444444444,
              "#bd3786"
             ],
             [
              0.5555555555555556,
              "#d8576b"
             ],
             [
              0.6666666666666666,
              "#ed7953"
             ],
             [
              0.7777777777777778,
              "#fb9f3a"
             ],
             [
              0.8888888888888888,
              "#fdca26"
             ],
             [
              1,
              "#f0f921"
             ]
            ],
            "type": "heatmapgl"
           }
          ],
          "histogram": [
           {
            "marker": {
             "pattern": {
              "fillmode": "overlay",
              "size": 10,
              "solidity": 0.2
             }
            },
            "type": "histogram"
           }
          ],
          "histogram2d": [
           {
            "colorbar": {
             "outlinewidth": 0,
             "ticks": ""
            },
            "colorscale": [
             [
              0,
              "#0d0887"
             ],
             [
              0.1111111111111111,
              "#46039f"
             ],
             [
              0.2222222222222222,
              "#7201a8"
             ],
             [
              0.3333333333333333,
              "#9c179e"
             ],
             [
              0.4444444444444444,
              "#bd3786"
             ],
             [
              0.5555555555555556,
              "#d8576b"
             ],
             [
              0.6666666666666666,
              "#ed7953"
             ],
             [
              0.7777777777777778,
              "#fb9f3a"
             ],
             [
              0.8888888888888888,
              "#fdca26"
             ],
             [
              1,
              "#f0f921"
             ]
            ],
            "type": "histogram2d"
           }
          ],
          "histogram2dcontour": [
           {
            "colorbar": {
             "outlinewidth": 0,
             "ticks": ""
            },
            "colorscale": [
             [
              0,
              "#0d0887"
             ],
             [
              0.1111111111111111,
              "#46039f"
             ],
             [
              0.2222222222222222,
              "#7201a8"
             ],
             [
              0.3333333333333333,
              "#9c179e"
             ],
             [
              0.4444444444444444,
              "#bd3786"
             ],
             [
              0.5555555555555556,
              "#d8576b"
             ],
             [
              0.6666666666666666,
              "#ed7953"
             ],
             [
              0.7777777777777778,
              "#fb9f3a"
             ],
             [
              0.8888888888888888,
              "#fdca26"
             ],
             [
              1,
              "#f0f921"
             ]
            ],
            "type": "histogram2dcontour"
           }
          ],
          "mesh3d": [
           {
            "colorbar": {
             "outlinewidth": 0,
             "ticks": ""
            },
            "type": "mesh3d"
           }
          ],
          "parcoords": [
           {
            "line": {
             "colorbar": {
              "outlinewidth": 0,
              "ticks": ""
             }
            },
            "type": "parcoords"
           }
          ],
          "pie": [
           {
            "automargin": true,
            "type": "pie"
           }
          ],
          "scatter": [
           {
            "fillpattern": {
             "fillmode": "overlay",
             "size": 10,
             "solidity": 0.2
            },
            "type": "scatter"
           }
          ],
          "scatter3d": [
           {
            "line": {
             "colorbar": {
              "outlinewidth": 0,
              "ticks": ""
             }
            },
            "marker": {
             "colorbar": {
              "outlinewidth": 0,
              "ticks": ""
             }
            },
            "type": "scatter3d"
           }
          ],
          "scattercarpet": [
           {
            "marker": {
             "colorbar": {
              "outlinewidth": 0,
              "ticks": ""
             }
            },
            "type": "scattercarpet"
           }
          ],
          "scattergeo": [
           {
            "marker": {
             "colorbar": {
              "outlinewidth": 0,
              "ticks": ""
             }
            },
            "type": "scattergeo"
           }
          ],
          "scattergl": [
           {
            "marker": {
             "colorbar": {
              "outlinewidth": 0,
              "ticks": ""
             }
            },
            "type": "scattergl"
           }
          ],
          "scattermapbox": [
           {
            "marker": {
             "colorbar": {
              "outlinewidth": 0,
              "ticks": ""
             }
            },
            "type": "scattermapbox"
           }
          ],
          "scatterpolar": [
           {
            "marker": {
             "colorbar": {
              "outlinewidth": 0,
              "ticks": ""
             }
            },
            "type": "scatterpolar"
           }
          ],
          "scatterpolargl": [
           {
            "marker": {
             "colorbar": {
              "outlinewidth": 0,
              "ticks": ""
             }
            },
            "type": "scatterpolargl"
           }
          ],
          "scatterternary": [
           {
            "marker": {
             "colorbar": {
              "outlinewidth": 0,
              "ticks": ""
             }
            },
            "type": "scatterternary"
           }
          ],
          "surface": [
           {
            "colorbar": {
             "outlinewidth": 0,
             "ticks": ""
            },
            "colorscale": [
             [
              0,
              "#0d0887"
             ],
             [
              0.1111111111111111,
              "#46039f"
             ],
             [
              0.2222222222222222,
              "#7201a8"
             ],
             [
              0.3333333333333333,
              "#9c179e"
             ],
             [
              0.4444444444444444,
              "#bd3786"
             ],
             [
              0.5555555555555556,
              "#d8576b"
             ],
             [
              0.6666666666666666,
              "#ed7953"
             ],
             [
              0.7777777777777778,
              "#fb9f3a"
             ],
             [
              0.8888888888888888,
              "#fdca26"
             ],
             [
              1,
              "#f0f921"
             ]
            ],
            "type": "surface"
           }
          ],
          "table": [
           {
            "cells": {
             "fill": {
              "color": "#EBF0F8"
             },
             "line": {
              "color": "white"
             }
            },
            "header": {
             "fill": {
              "color": "#C8D4E3"
             },
             "line": {
              "color": "white"
             }
            },
            "type": "table"
           }
          ]
         },
         "layout": {
          "annotationdefaults": {
           "arrowcolor": "#2a3f5f",
           "arrowhead": 0,
           "arrowwidth": 1
          },
          "autotypenumbers": "strict",
          "coloraxis": {
           "colorbar": {
            "outlinewidth": 0,
            "ticks": ""
           }
          },
          "colorscale": {
           "diverging": [
            [
             0,
             "#8e0152"
            ],
            [
             0.1,
             "#c51b7d"
            ],
            [
             0.2,
             "#de77ae"
            ],
            [
             0.3,
             "#f1b6da"
            ],
            [
             0.4,
             "#fde0ef"
            ],
            [
             0.5,
             "#f7f7f7"
            ],
            [
             0.6,
             "#e6f5d0"
            ],
            [
             0.7,
             "#b8e186"
            ],
            [
             0.8,
             "#7fbc41"
            ],
            [
             0.9,
             "#4d9221"
            ],
            [
             1,
             "#276419"
            ]
           ],
           "sequential": [
            [
             0,
             "#0d0887"
            ],
            [
             0.1111111111111111,
             "#46039f"
            ],
            [
             0.2222222222222222,
             "#7201a8"
            ],
            [
             0.3333333333333333,
             "#9c179e"
            ],
            [
             0.4444444444444444,
             "#bd3786"
            ],
            [
             0.5555555555555556,
             "#d8576b"
            ],
            [
             0.6666666666666666,
             "#ed7953"
            ],
            [
             0.7777777777777778,
             "#fb9f3a"
            ],
            [
             0.8888888888888888,
             "#fdca26"
            ],
            [
             1,
             "#f0f921"
            ]
           ],
           "sequentialminus": [
            [
             0,
             "#0d0887"
            ],
            [
             0.1111111111111111,
             "#46039f"
            ],
            [
             0.2222222222222222,
             "#7201a8"
            ],
            [
             0.3333333333333333,
             "#9c179e"
            ],
            [
             0.4444444444444444,
             "#bd3786"
            ],
            [
             0.5555555555555556,
             "#d8576b"
            ],
            [
             0.6666666666666666,
             "#ed7953"
            ],
            [
             0.7777777777777778,
             "#fb9f3a"
            ],
            [
             0.8888888888888888,
             "#fdca26"
            ],
            [
             1,
             "#f0f921"
            ]
           ]
          },
          "colorway": [
           "#636efa",
           "#EF553B",
           "#00cc96",
           "#ab63fa",
           "#FFA15A",
           "#19d3f3",
           "#FF6692",
           "#B6E880",
           "#FF97FF",
           "#FECB52"
          ],
          "font": {
           "color": "#2a3f5f"
          },
          "geo": {
           "bgcolor": "white",
           "lakecolor": "white",
           "landcolor": "#E5ECF6",
           "showlakes": true,
           "showland": true,
           "subunitcolor": "white"
          },
          "hoverlabel": {
           "align": "left"
          },
          "hovermode": "closest",
          "mapbox": {
           "style": "light"
          },
          "paper_bgcolor": "white",
          "plot_bgcolor": "#E5ECF6",
          "polar": {
           "angularaxis": {
            "gridcolor": "white",
            "linecolor": "white",
            "ticks": ""
           },
           "bgcolor": "#E5ECF6",
           "radialaxis": {
            "gridcolor": "white",
            "linecolor": "white",
            "ticks": ""
           }
          },
          "scene": {
           "xaxis": {
            "backgroundcolor": "#E5ECF6",
            "gridcolor": "white",
            "gridwidth": 2,
            "linecolor": "white",
            "showbackground": true,
            "ticks": "",
            "zerolinecolor": "white"
           },
           "yaxis": {
            "backgroundcolor": "#E5ECF6",
            "gridcolor": "white",
            "gridwidth": 2,
            "linecolor": "white",
            "showbackground": true,
            "ticks": "",
            "zerolinecolor": "white"
           },
           "zaxis": {
            "backgroundcolor": "#E5ECF6",
            "gridcolor": "white",
            "gridwidth": 2,
            "linecolor": "white",
            "showbackground": true,
            "ticks": "",
            "zerolinecolor": "white"
           }
          },
          "shapedefaults": {
           "line": {
            "color": "#2a3f5f"
           }
          },
          "ternary": {
           "aaxis": {
            "gridcolor": "white",
            "linecolor": "white",
            "ticks": ""
           },
           "baxis": {
            "gridcolor": "white",
            "linecolor": "white",
            "ticks": ""
           },
           "bgcolor": "#E5ECF6",
           "caxis": {
            "gridcolor": "white",
            "linecolor": "white",
            "ticks": ""
           }
          },
          "title": {
           "x": 0.05
          },
          "xaxis": {
           "automargin": true,
           "gridcolor": "white",
           "linecolor": "white",
           "ticks": "",
           "title": {
            "standoff": 15
           },
           "zerolinecolor": "white",
           "zerolinewidth": 2
          },
          "yaxis": {
           "automargin": true,
           "gridcolor": "white",
           "linecolor": "white",
           "ticks": "",
           "title": {
            "standoff": 15
           },
           "zerolinecolor": "white",
           "zerolinewidth": 2
          }
         }
        },
        "width": 900,
        "xaxis": {
         "anchor": "y",
         "domain": [
          0,
          1
         ],
         "gridcolor": "lightgray",
         "linecolor": "lightgray",
         "linewidth": 1,
         "matches": "x2",
         "mirror": true,
         "rangeslider": {
          "visible": false
         },
         "showgrid": true,
         "showticklabels": false
        },
        "xaxis2": {
         "anchor": "y2",
         "domain": [
          0,
          1
         ],
         "gridcolor": "lightgray",
         "linecolor": "lightgray",
         "linewidth": 1,
         "mirror": true,
         "showgrid": true
        },
        "yaxis": {
         "anchor": "x",
         "domain": [
          0.37,
          1
         ],
         "gridcolor": "lightgray",
         "linecolor": "gray",
         "linewidth": 1,
         "showgrid": true,
         "showline": false,
         "title": {
          "text": "Price (USD)"
         }
        },
        "yaxis2": {
         "anchor": "x2",
         "domain": [
          0,
          0.27
         ],
         "gridcolor": "lightgray",
         "linecolor": "gray",
         "linewidth": 1,
         "showgrid": true,
         "showline": false,
         "title": {
          "text": "Volume"
         }
        }
       }
      }
     },
     "metadata": {},
     "output_type": "display_data"
    }
   ],
   "source": [
    "plot_candlestick_with_volume(btc_60_min_subset, 'btc_60min')"
   ]
  },
  {
   "cell_type": "code",
   "execution_count": 143,
   "metadata": {},
   "outputs": [
    {
     "data": {
      "application/vnd.plotly.v1+json": {
       "config": {
        "plotlyServerURL": "https://plot.ly"
       },
       "data": [
        {
         "close": [
          45423.13,
          44908.51,
          45352,
          45389.98,
          44675.15,
          44771.55,
          44033,
          44205.21,
          43900.05,
          43714.31,
          43453.61,
          43783.6,
          43355.46,
          42974.71,
          43422.2,
          43386.19,
          43888.65,
          43388.14,
          43425.59,
          43554.03,
          43576.82,
          43555.21,
          43442.95,
          42911.59,
          43357.68,
          43376.87,
          42601.01,
          42800,
          42225.84,
          42512.45,
          42496.45,
          42609.39,
          42829.8,
          42850,
          43194.3,
          42650,
          42284.99,
          42152.83,
          42106.83,
          42219.39,
          41295.26,
          41137.99,
          41177.3,
          40952.56,
          40692.83,
          40349.99,
          39814.67,
          39993.63,
          39377.72,
          39610.92,
          39507.91,
          39749.16,
          39924.48,
          40100,
          40388.89,
          40615.65,
          40337.2,
          40284.12,
          39995.17,
          39570.01,
          39718.73,
          39758.99,
          39950,
          39951.74,
          40260.03,
          40591.98,
          41330.1,
          41046.28,
          41169.13,
          41185.28,
          41280.87,
          41212.62,
          41197.51,
          40464.46,
          39932.03,
          39888.25,
          39882.37,
          40146.47,
          40147.28,
          40044.55,
          40316.18,
          40500.85,
          40303,
          40112.05,
          40405.86,
          40427.26,
          40303.69,
          40176.05,
          39693,
          39641.52,
          38880.42,
          38958.45,
          38951.91,
          39489.62,
          39350.49,
          39762.61,
          40289.76,
          40791.84,
          40840,
          40897.94,
          40660.9,
          40667.79,
          40914.53,
          41480,
          41491.53,
          41363.76,
          41439.57
         ],
         "high": [
          46107.58,
          45496.27,
          45368.29,
          45507.14,
          45453.94,
          45063.94,
          44807,
          44496.97,
          44274.8,
          43929.91,
          44298.61,
          43973.01,
          44041.1,
          43559.09,
          43430,
          43553.14,
          43900.99,
          43888.65,
          43572.81,
          43819.99,
          43750,
          43694.15,
          43970.62,
          43516.7,
          43663.75,
          43961.99,
          43416.85,
          43320.76,
          42870.7,
          42514.51,
          42640,
          42613.8,
          42896.64,
          42891.91,
          43197.23,
          43410.3,
          42656.81,
          42434.51,
          42225.77,
          42350.29,
          42236.3,
          41646.55,
          41299.97,
          41223.89,
          40989.99,
          40896.83,
          40598.43,
          40087.85,
          40269.6,
          39978.62,
          39852.95,
          39901.89,
          40186.36,
          40344.6,
          40464,
          40699,
          40629.87,
          40379.25,
          40376.8,
          40056.52,
          39839.3,
          40289.02,
          40275,
          40226.07,
          40350,
          40957,
          41411,
          41347.69,
          41561.31,
          41404.58,
          41500,
          41360,
          41285.23,
          41300,
          40659.82,
          40069,
          40017.26,
          40266.47,
          40449.96,
          40399,
          40870.36,
          40650.01,
          40709.35,
          40577.57,
          40699.55,
          40529.79,
          40595.67,
          40459.52,
          40340.22,
          39896.98,
          39670,
          39070.05,
          39138.49,
          39529.77,
          39620.8,
          39799.8,
          40370.8,
          41116.73,
          40909.08,
          41099,
          41263.43,
          40883.99,
          41104,
          41510.35,
          41760,
          41547.25,
          41547.65
         ],
         "low": [
          45353.81,
          44412,
          44760.28,
          45177.48,
          44674.85,
          44665.91,
          44004.13,
          43769.17,
          43705.64,
          43393.74,
          43177.11,
          43432.53,
          43227.61,
          42727.35,
          42932.47,
          43225,
          43269.5,
          43330.09,
          43024.86,
          43375.36,
          43208,
          43416.74,
          43442.95,
          42882.28,
          42751.01,
          43354.43,
          42414,
          42533.82,
          42107.14,
          42116.31,
          42322.72,
          42158.67,
          42390,
          42433.49,
          42525,
          42559.47,
          41868,
          41755,
          41800,
          42079.56,
          41234,
          41111.01,
          40916.01,
          40684.8,
          40501,
          40250,
          39803.1,
          39500,
          39200,
          39372.35,
          39357.64,
          39290,
          39706.69,
          39866.31,
          40016.09,
          40196.48,
          40154.99,
          39800,
          39922.98,
          39393.5,
          39254.63,
          39555.51,
          39706.19,
          39728.59,
          39622.87,
          40228.59,
          40365,
          40829,
          40877.61,
          41064.35,
          41176.75,
          40973.51,
          40851.5,
          40310.41,
          39886.14,
          39772.58,
          39551.94,
          39766.4,
          39953.2,
          40010.2,
          39900,
          40276,
          40277,
          40112.05,
          39991.55,
          40122.05,
          40200,
          39833.31,
          39546.17,
          39580.05,
          38673.18,
          38536.51,
          38791.73,
          38951.92,
          39233.13,
          39000,
          39740.66,
          40200,
          40421.67,
          40632.51,
          40601,
          40571,
          40611.76,
          40841.65,
          41450.46,
          41167.92,
          41212.94
         ],
         "open": [
          45975.53,
          45420.62,
          44908.5,
          45352,
          45389.98,
          44675.15,
          44771.58,
          44033,
          44205.2,
          43900.05,
          43713.92,
          43453.62,
          43783.6,
          43355.46,
          42974.71,
          43422.46,
          43386.2,
          43888.65,
          43388.14,
          43428,
          43554.03,
          43576.83,
          43555.21,
          43442.96,
          42911.59,
          43357.68,
          43376.87,
          42601.01,
          42800,
          42225.84,
          42512.96,
          42496.45,
          42609.39,
          42829.8,
          42849.99,
          43194.3,
          42649.93,
          42284.99,
          42152.83,
          42106.82,
          42219.36,
          41295.26,
          41137.99,
          41178.37,
          40952.56,
          40692.83,
          40349.99,
          39814.67,
          39993.63,
          39377.72,
          39611.47,
          39507.91,
          39748.97,
          39923.9,
          40100,
          40388.89,
          40615.65,
          40337.2,
          40284.12,
          39995.17,
          39570.01,
          39718.73,
          39758.99,
          39950,
          39951.75,
          40259.97,
          40591.98,
          41328.16,
          41046.28,
          41169,
          41185.28,
          41280.87,
          41212.62,
          41197.51,
          40464.07,
          39931.92,
          39888.25,
          39882.37,
          40146.29,
          40147.28,
          40044.54,
          40316.16,
          40501.03,
          40303,
          40112,
          40405.86,
          40427.23,
          40303.69,
          40176.06,
          39693,
          39641.52,
          38880.42,
          38958.46,
          38951.92,
          39489.62,
          39350.49,
          39762.62,
          40289.77,
          40790.82,
          40840.77,
          40899.99,
          40660.89,
          40667.91,
          40914.43,
          41480,
          41491.53,
          41363.75
         ],
         "showlegend": false,
         "type": "candlestick",
         "x": [
          "2022-04-06T00:01:02.140000",
          "2022-04-06T00:30:45.929000",
          "2022-04-06T04:19:38.633000",
          "2022-04-06T08:59:38.487000",
          "2022-04-06T11:28:52.444000",
          "2022-04-06T13:38:21.562000",
          "2022-04-06T14:04:45.740000",
          "2022-04-06T15:04:46.087000",
          "2022-04-06T16:25:36.228000",
          "2022-04-06T17:31:46.751000",
          "2022-04-06T18:30:29.490000",
          "2022-04-06T19:55:05.051000",
          "2022-04-06T23:44:49.946000",
          "2022-04-07T01:04:30.375000",
          "2022-04-07T04:49:13.372000",
          "2022-04-07T09:12:00.859000",
          "2022-04-07T12:10:33.818000",
          "2022-04-07T14:41:04.231000",
          "2022-04-07T16:58:13.068000",
          "2022-04-07T20:38:34.565000",
          "2022-04-08T01:46:38.077000",
          "2022-04-08T07:52:35.893000",
          "2022-04-08T11:04:34.892000",
          "2022-04-08T13:26:05.034000",
          "2022-04-08T14:50:19.145000",
          "2022-04-08T17:04:02.670000",
          "2022-04-08T18:16:15.064000",
          "2022-04-08T20:02:17.843000",
          "2022-04-08T23:30:48.538000",
          "2022-04-09T04:24:27.318000",
          "2022-04-09T12:35:22.543000",
          "2022-04-09T18:01:51.351000",
          "2022-04-10T03:01:07.803000",
          "2022-04-10T12:07:28.558000",
          "2022-04-10T17:35:52.850000",
          "2022-04-10T22:10:04.705000",
          "2022-04-10T23:17:52.773000",
          "2022-04-11T02:02:53.789000",
          "2022-04-11T04:00:56.565000",
          "2022-04-11T08:56:58.657000",
          "2022-04-11T10:02:29.082000",
          "2022-04-11T11:32:06.570000",
          "2022-04-11T12:51:57.628000",
          "2022-04-11T14:18:20.093000",
          "2022-04-11T16:13:43.831000",
          "2022-04-11T17:43:43.787000",
          "2022-04-11T19:31:25.330000",
          "2022-04-11T20:28:43.142000",
          "2022-04-11T22:13:26.859000",
          "2022-04-12T00:03:12.264000",
          "2022-04-12T02:08:34.325000",
          "2022-04-12T04:51:20.759000",
          "2022-04-12T07:01:36.499000",
          "2022-04-12T09:06:00.287000",
          "2022-04-12T12:10:07.234000",
          "2022-04-12T12:53:33.751000",
          "2022-04-12T14:04:23.490000",
          "2022-04-12T15:28:20.188000",
          "2022-04-12T17:46:12.854000",
          "2022-04-12T19:37:07.242000",
          "2022-04-12T22:36:15.628000",
          "2022-04-13T01:50:15.171000",
          "2022-04-13T07:08:32.729000",
          "2022-04-13T11:20:21.255000",
          "2022-04-13T13:45:13.023000",
          "2022-04-13T14:29:53.672000",
          "2022-04-13T15:34:21.110000",
          "2022-04-13T17:26:11.414000",
          "2022-04-13T20:18:15.967000",
          "2022-04-14T00:54:13.735000",
          "2022-04-14T05:41:07.876000",
          "2022-04-14T10:16:40.386000",
          "2022-04-14T13:27:10.729000",
          "2022-04-14T14:22:16.972000",
          "2022-04-14T16:00:55.278000",
          "2022-04-14T18:27:58.725000",
          "2022-04-14T22:46:57.565000",
          "2022-04-15T04:51:22.169000",
          "2022-04-15T08:51:47.602000",
          "2022-04-15T14:25:08.589000",
          "2022-04-15T16:44:49.708000",
          "2022-04-16T00:40:33.805000",
          "2022-04-16T09:54:40.546000",
          "2022-04-16T15:38:26.761000",
          "2022-04-16T23:00:00.895000",
          "2022-04-17T10:18:41.030000",
          "2022-04-17T16:55:56.417000",
          "2022-04-17T21:29:00.027000",
          "2022-04-17T23:51:56.454000",
          "2022-04-18T04:14:49.887000",
          "2022-04-18T04:52:27.138000",
          "2022-04-18T07:26:24.483000",
          "2022-04-18T11:06:20.335000",
          "2022-04-18T13:31:47.587000",
          "2022-04-18T15:07:11.453000",
          "2022-04-18T17:09:28.109000",
          "2022-04-18T17:56:48.597000",
          "2022-04-18T18:30:09.170000",
          "2022-04-18T20:15:02.922000",
          "2022-04-19T00:03:11.747000",
          "2022-04-19T03:38:25.721000",
          "2022-04-19T09:32:25.687000",
          "2022-04-19T13:03:38.681000",
          "2022-04-19T14:01:37.581000",
          "2022-04-19T15:26:19.468000",
          "2022-04-19T18:17:02.052000",
          "2022-04-19T23:30:06.808000"
         ],
         "xaxis": "x",
         "yaxis": "y"
        },
        {
         "marker": {
          "color": "lightsteelblue"
         },
         "showlegend": false,
         "type": "bar",
         "x": [
          "2022-04-06T00:01:02.140000",
          "2022-04-06T00:30:45.929000",
          "2022-04-06T04:19:38.633000",
          "2022-04-06T08:59:38.487000",
          "2022-04-06T11:28:52.444000",
          "2022-04-06T13:38:21.562000",
          "2022-04-06T14:04:45.740000",
          "2022-04-06T15:04:46.087000",
          "2022-04-06T16:25:36.228000",
          "2022-04-06T17:31:46.751000",
          "2022-04-06T18:30:29.490000",
          "2022-04-06T19:55:05.051000",
          "2022-04-06T23:44:49.946000",
          "2022-04-07T01:04:30.375000",
          "2022-04-07T04:49:13.372000",
          "2022-04-07T09:12:00.859000",
          "2022-04-07T12:10:33.818000",
          "2022-04-07T14:41:04.231000",
          "2022-04-07T16:58:13.068000",
          "2022-04-07T20:38:34.565000",
          "2022-04-08T01:46:38.077000",
          "2022-04-08T07:52:35.893000",
          "2022-04-08T11:04:34.892000",
          "2022-04-08T13:26:05.034000",
          "2022-04-08T14:50:19.145000",
          "2022-04-08T17:04:02.670000",
          "2022-04-08T18:16:15.064000",
          "2022-04-08T20:02:17.843000",
          "2022-04-08T23:30:48.538000",
          "2022-04-09T04:24:27.318000",
          "2022-04-09T12:35:22.543000",
          "2022-04-09T18:01:51.351000",
          "2022-04-10T03:01:07.803000",
          "2022-04-10T12:07:28.558000",
          "2022-04-10T17:35:52.850000",
          "2022-04-10T22:10:04.705000",
          "2022-04-10T23:17:52.773000",
          "2022-04-11T02:02:53.789000",
          "2022-04-11T04:00:56.565000",
          "2022-04-11T08:56:58.657000",
          "2022-04-11T10:02:29.082000",
          "2022-04-11T11:32:06.570000",
          "2022-04-11T12:51:57.628000",
          "2022-04-11T14:18:20.093000",
          "2022-04-11T16:13:43.831000",
          "2022-04-11T17:43:43.787000",
          "2022-04-11T19:31:25.330000",
          "2022-04-11T20:28:43.142000",
          "2022-04-11T22:13:26.859000",
          "2022-04-12T00:03:12.264000",
          "2022-04-12T02:08:34.325000",
          "2022-04-12T04:51:20.759000",
          "2022-04-12T07:01:36.499000",
          "2022-04-12T09:06:00.287000",
          "2022-04-12T12:10:07.234000",
          "2022-04-12T12:53:33.751000",
          "2022-04-12T14:04:23.490000",
          "2022-04-12T15:28:20.188000",
          "2022-04-12T17:46:12.854000",
          "2022-04-12T19:37:07.242000",
          "2022-04-12T22:36:15.628000",
          "2022-04-13T01:50:15.171000",
          "2022-04-13T07:08:32.729000",
          "2022-04-13T11:20:21.255000",
          "2022-04-13T13:45:13.023000",
          "2022-04-13T14:29:53.672000",
          "2022-04-13T15:34:21.110000",
          "2022-04-13T17:26:11.414000",
          "2022-04-13T20:18:15.967000",
          "2022-04-14T00:54:13.735000",
          "2022-04-14T05:41:07.876000",
          "2022-04-14T10:16:40.386000",
          "2022-04-14T13:27:10.729000",
          "2022-04-14T14:22:16.972000",
          "2022-04-14T16:00:55.278000",
          "2022-04-14T18:27:58.725000",
          "2022-04-14T22:46:57.565000",
          "2022-04-15T04:51:22.169000",
          "2022-04-15T08:51:47.602000",
          "2022-04-15T14:25:08.589000",
          "2022-04-15T16:44:49.708000",
          "2022-04-16T00:40:33.805000",
          "2022-04-16T09:54:40.546000",
          "2022-04-16T15:38:26.761000",
          "2022-04-16T23:00:00.895000",
          "2022-04-17T10:18:41.030000",
          "2022-04-17T16:55:56.417000",
          "2022-04-17T21:29:00.027000",
          "2022-04-17T23:51:56.454000",
          "2022-04-18T04:14:49.887000",
          "2022-04-18T04:52:27.138000",
          "2022-04-18T07:26:24.483000",
          "2022-04-18T11:06:20.335000",
          "2022-04-18T13:31:47.587000",
          "2022-04-18T15:07:11.453000",
          "2022-04-18T17:09:28.109000",
          "2022-04-18T17:56:48.597000",
          "2022-04-18T18:30:09.170000",
          "2022-04-18T20:15:02.922000",
          "2022-04-19T00:03:11.747000",
          "2022-04-19T03:38:25.721000",
          "2022-04-19T09:32:25.687000",
          "2022-04-19T13:03:38.681000",
          "2022-04-19T14:01:37.581000",
          "2022-04-19T15:26:19.468000",
          "2022-04-19T18:17:02.052000",
          "2022-04-19T23:30:06.808000"
         ],
         "xaxis": "x2",
         "y": [
          5000.003960000835,
          5000.01169000006,
          5000.2025799999055,
          5001.380629999615,
          5000.394230000073,
          5000.23316000018,
          5002.5295000002525,
          5000.084360000335,
          5000.053020000111,
          5000.193670000686,
          5000.286310001102,
          5000.026640000316,
          5000.059930001047,
          5000.484600000443,
          5000.000380000843,
          5000.015020000824,
          5000.230430000196,
          5000.1244300004355,
          5000.0169000004225,
          5000.172960000507,
          5000.030940000819,
          5000.0860000004695,
          5000.281800000531,
          5000.623650001351,
          5000.479070000661,
          5000.1199600008185,
          5000.0257300017165,
          5000.1399600005325,
          5000.167570000762,
          5002.0484700005245,
          5000.077310000386,
          5000.10749000028,
          5000.278130000457,
          5000.019920000248,
          5000.147440000085,
          5000.546270000281,
          5000.020800000197,
          5000.663010001847,
          5000.607799999881,
          5000.906150000808,
          5000.047360001309,
          5000.962990000429,
          5000.050880000875,
          5000.67456000021,
          5000.014910000416,
          5000.136660000584,
          5000.721840002101,
          5000.027720001125,
          5000.020640000433,
          5000.051780000489,
          5000.023010000179,
          5000.500440000273,
          5000.598400000772,
          5000.902940000239,
          5000.191010000345,
          5000.009860000413,
          5000.543730000405,
          5000.435940000251,
          5000.71937000116,
          5000.135720000621,
          5000.169640000304,
          5000.047480000931,
          5001.100640000581,
          5000.022930000438,
          5000.086610000701,
          5000.016560000981,
          5000.122400000326,
          5000.078770000575,
          5000.018670000562,
          5000.436470000129,
          5001.10775000004,
          5000.891740001051,
          5000.001500000419,
          5000.293550000167,
          5000.562330000133,
          5000.180389999733,
          5001.679000000209,
          5000.34654999977,
          5000.014010000381,
          5000.150890000674,
          5000.084169999995,
          5000.075969999792,
          5000.097190000081,
          5000.084129999845,
          5000.157619999893,
          5000.016499999737,
          5000.111419999562,
          5000.000530000637,
          5000.601359999997,
          5000.784069999962,
          5000.047170000147,
          5000.00660000065,
          5000.001750000157,
          5000.1452500003215,
          5000.003660000509,
          5000.318230000566,
          5000.069610000111,
          5000.0006700003805,
          5000.016840000203,
          5000.173670000644,
          5000.020210000941,
          5002.860650000522,
          5000.127660000091,
          5000.099690000172,
          5000.484580000421,
          5000.002580000905,
          5000.123530000932
         ],
         "yaxis": "y2"
        }
       ],
       "layout": {
        "height": 600,
        "paper_bgcolor": "white",
        "plot_bgcolor": "white",
        "template": {
         "data": {
          "bar": [
           {
            "error_x": {
             "color": "#2a3f5f"
            },
            "error_y": {
             "color": "#2a3f5f"
            },
            "marker": {
             "line": {
              "color": "#E5ECF6",
              "width": 0.5
             },
             "pattern": {
              "fillmode": "overlay",
              "size": 10,
              "solidity": 0.2
             }
            },
            "type": "bar"
           }
          ],
          "barpolar": [
           {
            "marker": {
             "line": {
              "color": "#E5ECF6",
              "width": 0.5
             },
             "pattern": {
              "fillmode": "overlay",
              "size": 10,
              "solidity": 0.2
             }
            },
            "type": "barpolar"
           }
          ],
          "carpet": [
           {
            "aaxis": {
             "endlinecolor": "#2a3f5f",
             "gridcolor": "white",
             "linecolor": "white",
             "minorgridcolor": "white",
             "startlinecolor": "#2a3f5f"
            },
            "baxis": {
             "endlinecolor": "#2a3f5f",
             "gridcolor": "white",
             "linecolor": "white",
             "minorgridcolor": "white",
             "startlinecolor": "#2a3f5f"
            },
            "type": "carpet"
           }
          ],
          "choropleth": [
           {
            "colorbar": {
             "outlinewidth": 0,
             "ticks": ""
            },
            "type": "choropleth"
           }
          ],
          "contour": [
           {
            "colorbar": {
             "outlinewidth": 0,
             "ticks": ""
            },
            "colorscale": [
             [
              0,
              "#0d0887"
             ],
             [
              0.1111111111111111,
              "#46039f"
             ],
             [
              0.2222222222222222,
              "#7201a8"
             ],
             [
              0.3333333333333333,
              "#9c179e"
             ],
             [
              0.4444444444444444,
              "#bd3786"
             ],
             [
              0.5555555555555556,
              "#d8576b"
             ],
             [
              0.6666666666666666,
              "#ed7953"
             ],
             [
              0.7777777777777778,
              "#fb9f3a"
             ],
             [
              0.8888888888888888,
              "#fdca26"
             ],
             [
              1,
              "#f0f921"
             ]
            ],
            "type": "contour"
           }
          ],
          "contourcarpet": [
           {
            "colorbar": {
             "outlinewidth": 0,
             "ticks": ""
            },
            "type": "contourcarpet"
           }
          ],
          "heatmap": [
           {
            "colorbar": {
             "outlinewidth": 0,
             "ticks": ""
            },
            "colorscale": [
             [
              0,
              "#0d0887"
             ],
             [
              0.1111111111111111,
              "#46039f"
             ],
             [
              0.2222222222222222,
              "#7201a8"
             ],
             [
              0.3333333333333333,
              "#9c179e"
             ],
             [
              0.4444444444444444,
              "#bd3786"
             ],
             [
              0.5555555555555556,
              "#d8576b"
             ],
             [
              0.6666666666666666,
              "#ed7953"
             ],
             [
              0.7777777777777778,
              "#fb9f3a"
             ],
             [
              0.8888888888888888,
              "#fdca26"
             ],
             [
              1,
              "#f0f921"
             ]
            ],
            "type": "heatmap"
           }
          ],
          "heatmapgl": [
           {
            "colorbar": {
             "outlinewidth": 0,
             "ticks": ""
            },
            "colorscale": [
             [
              0,
              "#0d0887"
             ],
             [
              0.1111111111111111,
              "#46039f"
             ],
             [
              0.2222222222222222,
              "#7201a8"
             ],
             [
              0.3333333333333333,
              "#9c179e"
             ],
             [
              0.4444444444444444,
              "#bd3786"
             ],
             [
              0.5555555555555556,
              "#d8576b"
             ],
             [
              0.6666666666666666,
              "#ed7953"
             ],
             [
              0.7777777777777778,
              "#fb9f3a"
             ],
             [
              0.8888888888888888,
              "#fdca26"
             ],
             [
              1,
              "#f0f921"
             ]
            ],
            "type": "heatmapgl"
           }
          ],
          "histogram": [
           {
            "marker": {
             "pattern": {
              "fillmode": "overlay",
              "size": 10,
              "solidity": 0.2
             }
            },
            "type": "histogram"
           }
          ],
          "histogram2d": [
           {
            "colorbar": {
             "outlinewidth": 0,
             "ticks": ""
            },
            "colorscale": [
             [
              0,
              "#0d0887"
             ],
             [
              0.1111111111111111,
              "#46039f"
             ],
             [
              0.2222222222222222,
              "#7201a8"
             ],
             [
              0.3333333333333333,
              "#9c179e"
             ],
             [
              0.4444444444444444,
              "#bd3786"
             ],
             [
              0.5555555555555556,
              "#d8576b"
             ],
             [
              0.6666666666666666,
              "#ed7953"
             ],
             [
              0.7777777777777778,
              "#fb9f3a"
             ],
             [
              0.8888888888888888,
              "#fdca26"
             ],
             [
              1,
              "#f0f921"
             ]
            ],
            "type": "histogram2d"
           }
          ],
          "histogram2dcontour": [
           {
            "colorbar": {
             "outlinewidth": 0,
             "ticks": ""
            },
            "colorscale": [
             [
              0,
              "#0d0887"
             ],
             [
              0.1111111111111111,
              "#46039f"
             ],
             [
              0.2222222222222222,
              "#7201a8"
             ],
             [
              0.3333333333333333,
              "#9c179e"
             ],
             [
              0.4444444444444444,
              "#bd3786"
             ],
             [
              0.5555555555555556,
              "#d8576b"
             ],
             [
              0.6666666666666666,
              "#ed7953"
             ],
             [
              0.7777777777777778,
              "#fb9f3a"
             ],
             [
              0.8888888888888888,
              "#fdca26"
             ],
             [
              1,
              "#f0f921"
             ]
            ],
            "type": "histogram2dcontour"
           }
          ],
          "mesh3d": [
           {
            "colorbar": {
             "outlinewidth": 0,
             "ticks": ""
            },
            "type": "mesh3d"
           }
          ],
          "parcoords": [
           {
            "line": {
             "colorbar": {
              "outlinewidth": 0,
              "ticks": ""
             }
            },
            "type": "parcoords"
           }
          ],
          "pie": [
           {
            "automargin": true,
            "type": "pie"
           }
          ],
          "scatter": [
           {
            "fillpattern": {
             "fillmode": "overlay",
             "size": 10,
             "solidity": 0.2
            },
            "type": "scatter"
           }
          ],
          "scatter3d": [
           {
            "line": {
             "colorbar": {
              "outlinewidth": 0,
              "ticks": ""
             }
            },
            "marker": {
             "colorbar": {
              "outlinewidth": 0,
              "ticks": ""
             }
            },
            "type": "scatter3d"
           }
          ],
          "scattercarpet": [
           {
            "marker": {
             "colorbar": {
              "outlinewidth": 0,
              "ticks": ""
             }
            },
            "type": "scattercarpet"
           }
          ],
          "scattergeo": [
           {
            "marker": {
             "colorbar": {
              "outlinewidth": 0,
              "ticks": ""
             }
            },
            "type": "scattergeo"
           }
          ],
          "scattergl": [
           {
            "marker": {
             "colorbar": {
              "outlinewidth": 0,
              "ticks": ""
             }
            },
            "type": "scattergl"
           }
          ],
          "scattermapbox": [
           {
            "marker": {
             "colorbar": {
              "outlinewidth": 0,
              "ticks": ""
             }
            },
            "type": "scattermapbox"
           }
          ],
          "scatterpolar": [
           {
            "marker": {
             "colorbar": {
              "outlinewidth": 0,
              "ticks": ""
             }
            },
            "type": "scatterpolar"
           }
          ],
          "scatterpolargl": [
           {
            "marker": {
             "colorbar": {
              "outlinewidth": 0,
              "ticks": ""
             }
            },
            "type": "scatterpolargl"
           }
          ],
          "scatterternary": [
           {
            "marker": {
             "colorbar": {
              "outlinewidth": 0,
              "ticks": ""
             }
            },
            "type": "scatterternary"
           }
          ],
          "surface": [
           {
            "colorbar": {
             "outlinewidth": 0,
             "ticks": ""
            },
            "colorscale": [
             [
              0,
              "#0d0887"
             ],
             [
              0.1111111111111111,
              "#46039f"
             ],
             [
              0.2222222222222222,
              "#7201a8"
             ],
             [
              0.3333333333333333,
              "#9c179e"
             ],
             [
              0.4444444444444444,
              "#bd3786"
             ],
             [
              0.5555555555555556,
              "#d8576b"
             ],
             [
              0.6666666666666666,
              "#ed7953"
             ],
             [
              0.7777777777777778,
              "#fb9f3a"
             ],
             [
              0.8888888888888888,
              "#fdca26"
             ],
             [
              1,
              "#f0f921"
             ]
            ],
            "type": "surface"
           }
          ],
          "table": [
           {
            "cells": {
             "fill": {
              "color": "#EBF0F8"
             },
             "line": {
              "color": "white"
             }
            },
            "header": {
             "fill": {
              "color": "#C8D4E3"
             },
             "line": {
              "color": "white"
             }
            },
            "type": "table"
           }
          ]
         },
         "layout": {
          "annotationdefaults": {
           "arrowcolor": "#2a3f5f",
           "arrowhead": 0,
           "arrowwidth": 1
          },
          "autotypenumbers": "strict",
          "coloraxis": {
           "colorbar": {
            "outlinewidth": 0,
            "ticks": ""
           }
          },
          "colorscale": {
           "diverging": [
            [
             0,
             "#8e0152"
            ],
            [
             0.1,
             "#c51b7d"
            ],
            [
             0.2,
             "#de77ae"
            ],
            [
             0.3,
             "#f1b6da"
            ],
            [
             0.4,
             "#fde0ef"
            ],
            [
             0.5,
             "#f7f7f7"
            ],
            [
             0.6,
             "#e6f5d0"
            ],
            [
             0.7,
             "#b8e186"
            ],
            [
             0.8,
             "#7fbc41"
            ],
            [
             0.9,
             "#4d9221"
            ],
            [
             1,
             "#276419"
            ]
           ],
           "sequential": [
            [
             0,
             "#0d0887"
            ],
            [
             0.1111111111111111,
             "#46039f"
            ],
            [
             0.2222222222222222,
             "#7201a8"
            ],
            [
             0.3333333333333333,
             "#9c179e"
            ],
            [
             0.4444444444444444,
             "#bd3786"
            ],
            [
             0.5555555555555556,
             "#d8576b"
            ],
            [
             0.6666666666666666,
             "#ed7953"
            ],
            [
             0.7777777777777778,
             "#fb9f3a"
            ],
            [
             0.8888888888888888,
             "#fdca26"
            ],
            [
             1,
             "#f0f921"
            ]
           ],
           "sequentialminus": [
            [
             0,
             "#0d0887"
            ],
            [
             0.1111111111111111,
             "#46039f"
            ],
            [
             0.2222222222222222,
             "#7201a8"
            ],
            [
             0.3333333333333333,
             "#9c179e"
            ],
            [
             0.4444444444444444,
             "#bd3786"
            ],
            [
             0.5555555555555556,
             "#d8576b"
            ],
            [
             0.6666666666666666,
             "#ed7953"
            ],
            [
             0.7777777777777778,
             "#fb9f3a"
            ],
            [
             0.8888888888888888,
             "#fdca26"
            ],
            [
             1,
             "#f0f921"
            ]
           ]
          },
          "colorway": [
           "#636efa",
           "#EF553B",
           "#00cc96",
           "#ab63fa",
           "#FFA15A",
           "#19d3f3",
           "#FF6692",
           "#B6E880",
           "#FF97FF",
           "#FECB52"
          ],
          "font": {
           "color": "#2a3f5f"
          },
          "geo": {
           "bgcolor": "white",
           "lakecolor": "white",
           "landcolor": "#E5ECF6",
           "showlakes": true,
           "showland": true,
           "subunitcolor": "white"
          },
          "hoverlabel": {
           "align": "left"
          },
          "hovermode": "closest",
          "mapbox": {
           "style": "light"
          },
          "paper_bgcolor": "white",
          "plot_bgcolor": "#E5ECF6",
          "polar": {
           "angularaxis": {
            "gridcolor": "white",
            "linecolor": "white",
            "ticks": ""
           },
           "bgcolor": "#E5ECF6",
           "radialaxis": {
            "gridcolor": "white",
            "linecolor": "white",
            "ticks": ""
           }
          },
          "scene": {
           "xaxis": {
            "backgroundcolor": "#E5ECF6",
            "gridcolor": "white",
            "gridwidth": 2,
            "linecolor": "white",
            "showbackground": true,
            "ticks": "",
            "zerolinecolor": "white"
           },
           "yaxis": {
            "backgroundcolor": "#E5ECF6",
            "gridcolor": "white",
            "gridwidth": 2,
            "linecolor": "white",
            "showbackground": true,
            "ticks": "",
            "zerolinecolor": "white"
           },
           "zaxis": {
            "backgroundcolor": "#E5ECF6",
            "gridcolor": "white",
            "gridwidth": 2,
            "linecolor": "white",
            "showbackground": true,
            "ticks": "",
            "zerolinecolor": "white"
           }
          },
          "shapedefaults": {
           "line": {
            "color": "#2a3f5f"
           }
          },
          "ternary": {
           "aaxis": {
            "gridcolor": "white",
            "linecolor": "white",
            "ticks": ""
           },
           "baxis": {
            "gridcolor": "white",
            "linecolor": "white",
            "ticks": ""
           },
           "bgcolor": "#E5ECF6",
           "caxis": {
            "gridcolor": "white",
            "linecolor": "white",
            "ticks": ""
           }
          },
          "title": {
           "x": 0.05
          },
          "xaxis": {
           "automargin": true,
           "gridcolor": "white",
           "linecolor": "white",
           "ticks": "",
           "title": {
            "standoff": 15
           },
           "zerolinecolor": "white",
           "zerolinewidth": 2
          },
          "yaxis": {
           "automargin": true,
           "gridcolor": "white",
           "linecolor": "white",
           "ticks": "",
           "title": {
            "standoff": 15
           },
           "zerolinecolor": "white",
           "zerolinewidth": 2
          }
         }
        },
        "width": 900,
        "xaxis": {
         "anchor": "y",
         "domain": [
          0,
          1
         ],
         "gridcolor": "lightgray",
         "linecolor": "lightgray",
         "linewidth": 1,
         "matches": "x2",
         "mirror": true,
         "rangeslider": {
          "visible": false
         },
         "showgrid": true,
         "showticklabels": false
        },
        "xaxis2": {
         "anchor": "y2",
         "domain": [
          0,
          1
         ],
         "gridcolor": "lightgray",
         "linecolor": "lightgray",
         "linewidth": 1,
         "mirror": true,
         "showgrid": true
        },
        "yaxis": {
         "anchor": "x",
         "domain": [
          0.37,
          1
         ],
         "gridcolor": "lightgray",
         "linecolor": "gray",
         "linewidth": 1,
         "mirror": true,
         "showgrid": true,
         "showline": true,
         "title": {
          "text": "Price (USD)"
         }
        },
        "yaxis2": {
         "anchor": "x2",
         "domain": [
          0,
          0.27
         ],
         "gridcolor": "lightgray",
         "linecolor": "gray",
         "linewidth": 1,
         "mirror": true,
         "showgrid": true,
         "showline": true,
         "title": {
          "text": "Volume"
         }
        }
       }
      }
     },
     "metadata": {},
     "output_type": "display_data"
    }
   ],
   "source": [
    "plot_candlestick_with_volume(btc_vol_subset, 'btc_vol_5000')"
   ]
  },
  {
   "cell_type": "code",
   "execution_count": 146,
   "metadata": {},
   "outputs": [
    {
     "data": {
      "application/vnd.plotly.v1+json": {
       "config": {
        "plotlyServerURL": "https://plot.ly"
       },
       "data": [
        {
         "close": [
          45281,
          45000,
          44843.98,
          44544.25,
          44831.14,
          45050.19,
          45345.99,
          45268.71,
          45240,
          45374.7,
          45307.51,
          45471.93,
          45260.41,
          45363.48,
          45182.06,
          45307.89,
          44927.66,
          44814.49,
          44914.57,
          44744,
          44996.47,
          44817.58,
          44782.99,
          44500,
          44250,
          44364.24,
          44120.81,
          43829,
          44025.6,
          44118.81,
          44257.48,
          44152.27,
          43935.52,
          43954.83,
          44159.99,
          43885.16,
          43694.44,
          43627.36,
          43500,
          43575.41,
          43830,
          44190.89,
          43811.22,
          43377.77,
          43464.47,
          43767.65,
          43844.89,
          43820.53,
          43648.94,
          43794.47,
          43967.14,
          43756.08,
          43500.53,
          43175,
          43314.41,
          43061.79,
          42747.37,
          43023.72,
          43297.26,
          43142.62,
          43288.04,
          43305.24,
          43302.97,
          43382.52,
          43499.69,
          43474.86,
          43328.65,
          43410.01,
          43494.05,
          43678.24,
          43833,
          43626.43,
          43373.92,
          43605.51,
          43538.44,
          43418.57,
          43248.83,
          43246.67,
          43442.33,
          43572.78,
          43537.05,
          43629.81,
          43618.18,
          43459.73,
          43514.41,
          43630.21,
          43449.95,
          43470.13,
          43643.08,
          43542.21,
          43625.71,
          43623.65,
          43750.88,
          43866.23,
          43923.64,
          43557.23,
          43570.03,
          43412.27,
          43330.02,
          43135,
          43011.06,
          42811.66,
          42946.67,
          43289.9,
          43595.25,
          43629.59,
          43902.59,
          43900,
          43677.61,
          43432.82,
          42900,
          42935.47,
          42888,
          42445,
          42752.13,
          42926.74,
          42908.44,
          42831.38,
          42709.78,
          42803.24,
          42397.71,
          42344.42,
          42172.91,
          42236.41,
          42387.59,
          42169.5,
          42394.79,
          42525.64,
          42365.42,
          42414.92,
          42457.35,
          42507.46,
          42450.31,
          42207,
          42518.79,
          42515.62,
          42396.31,
          42703.65,
          42706.2,
          42827.52,
          42694.23,
          42624.18,
          42543.78,
          42680.35,
          42537.08,
          42718.12,
          42789.17,
          43087.44,
          43155.04,
          43141.16,
          43328.96,
          42975.23,
          42561.77,
          42284.95,
          41905.01,
          42122.84,
          42311.78,
          42080,
          41793.52,
          42249.23,
          42179.73,
          41900,
          41900,
          41900,
          41995.46,
          42151.03,
          42274.1,
          42188.4,
          42225.92,
          42068.17,
          41888.87,
          41678.45,
          41515.42,
          41340.37,
          41501.76,
          41425.44,
          41453.93,
          41117.72,
          41074.19,
          41150.42,
          41179.84,
          41235.57,
          41037.1,
          40794.84,
          41150,
          41114.54,
          40932.67,
          40849.39,
          40758.01,
          40709.13,
          40533.8,
          40789.99,
          40385.25,
          40531.1,
          40286.09,
          40546.62,
          40111,
          39959,
          39799.97,
          40000.13,
          39513.41,
          39834,
          40001,
          39829.84,
          39558.14,
          39426.14,
          39811.49,
          39754.42,
          39629.39,
          39457.52,
          39640.59,
          39772.38,
          39634.77,
          39480.97,
          39314.28,
          39553.06,
          39776.72,
          39779.5,
          39969.26,
          40009.99,
          40133.13,
          39857.79,
          40036.66,
          40106.83,
          40293.16,
          40220.02,
          40159.21,
          40261.94,
          40337.97,
          40350.49,
          40533,
          40431.32,
          40420.01,
          40515.85,
          40543.91,
          40463.75,
          40247.24,
          40441.9,
          40159.32,
          39917.68,
          39990.63,
          40172.59,
          40289.97,
          40274.87,
          39964.55,
          40094.26,
          39980,
          39717.18,
          39607.72,
          39422.33,
          39374.02,
          39505,
          39645.42,
          39622.75,
          39872.59,
          40028.39,
          40081.26,
          39725.62,
          40089.11,
          40127.53,
          40113.5,
          39905.65,
          40111,
          40130.01,
          40000,
          39889.99,
          39737.98,
          39773.96,
          39823.55,
          40200,
          40454.97,
          40510,
          40900,
          40850,
          40549.86,
          40881.52,
          41154.75,
          41298.52,
          41162.41,
          41289.37,
          41051.79,
          41059.29,
          40937.16,
          41207.1,
          41500,
          41165.03,
          41192.65,
          41215.3,
          41158.17,
          41170,
          41235.24,
          41475.46,
          41334.89,
          41384.98,
          41258.29,
          41195.69,
          41194.05,
          41000,
          41196.89,
          41019.01,
          40888.85,
          41019.89,
          41116.93,
          40768.64,
          40702.18,
          40492.5,
          40397.69,
          40390.44,
          40345.5,
          40116.78,
          39973.6,
          39940.96,
          39783.86,
          39913.51,
          39964.99,
          39629.94,
          39788.48,
          39874.53,
          39908.05,
          40052.79,
          39930.34,
          40000,
          40198.5,
          40140,
          40109.76,
          40263.04,
          40126.7,
          40120.01,
          40272.14,
          40150.2,
          40045,
          40517.82,
          40501,
          40527.73,
          40260.4,
          40452.86,
          40379.1,
          40395.04,
          40530.01,
          40580,
          40479.69,
          40394.83,
          40355.7,
          40415.97,
          40459.49,
          40456.71,
          40254.19,
          40073,
          40114.76,
          40369.46,
          40590.59,
          40354.18,
          40179,
          40364.22,
          40486.33,
          40432.48,
          40561.76,
          40306.49,
          40440.41,
          40260.44,
          39867.55,
          40148.1,
          40405.01,
          40156.96,
          40035.4,
          39761.4,
          39627.01,
          39620,
          39714.96,
          39785.57,
          39829.99,
          39359.97,
          38944.61,
          38764.33,
          38933.91,
          38646.44,
          38889.87,
          38910.24,
          39020.66,
          38882.8,
          38889.99,
          38944.88,
          38941.11,
          39010.74,
          39264.48,
          39404,
          39493.64,
          39399.14,
          39432.55,
          39470.64,
          39322.78,
          39267.06,
          39179.54,
          39590.17,
          39800,
          40185.29,
          39981.87,
          39860.82,
          40334.81,
          40350.06,
          41000,
          40819.52,
          40771.74,
          40685.71,
          40490,
          40434.94,
          40735.9,
          40815.99,
          40773.82,
          40919.85,
          40833.17,
          40900.59,
          40892.04,
          40714.74,
          40730.08,
          40765.64,
          40766.87,
          40657.71,
          40731.58,
          40701.98,
          40770.71,
          40858.55,
          40962.1,
          40990.77,
          41100,
          41350,
          41389.93,
          41560.38,
          41529.68,
          41537.99,
          41703.79,
          41388.04,
          41517.27,
          41317.25,
          41225.88,
          41432.17,
          41483.33,
          41277.47,
          41330.92,
          41471.35
         ],
         "high": [
          45627.55,
          45363.93,
          45263.98,
          44855.72,
          44983.93,
          45107.35,
          45348.25,
          45365.48,
          45368.29,
          45375.38,
          45444.83,
          45499,
          45507.14,
          45399.28,
          45393.25,
          45453.94,
          45307.89,
          45027.07,
          44989.99,
          45063.94,
          44999.99,
          44996.47,
          44965.83,
          44807,
          44525,
          44379.99,
          44399,
          44121.32,
          44095.93,
          44163.89,
          44496.97,
          44389.37,
          44187.65,
          44108.49,
          44272.54,
          44274.8,
          43991.46,
          43808.61,
          43832.29,
          43641.12,
          43883.99,
          44197.51,
          44298.61,
          43848.35,
          43555.1,
          43787.87,
          43965.18,
          43973.01,
          43826.17,
          44041.1,
          43999,
          43996.2,
          43756.09,
          43564.15,
          43347.41,
          43559.09,
          43062.62,
          43095.92,
          43300,
          43430,
          43409.96,
          43391.16,
          43494.48,
          43441.24,
          43523.3,
          43545.74,
          43553.14,
          43488.98,
          43747.05,
          43700,
          43837.86,
          43900.99,
          43634.86,
          43670.92,
          43781.97,
          43598.99,
          43572.81,
          43356.27,
          43494.22,
          43591.99,
          43695.12,
          43819.99,
          43772.52,
          43619.11,
          43600.06,
          43646.91,
          43750,
          43564.15,
          43664.73,
          43694.15,
          43678.2,
          43649.84,
          43751.86,
          43875,
          43970.62,
          43923.64,
          43621.85,
          43570.04,
          43417.96,
          43408.82,
          43216.12,
          43089.63,
          42982.32,
          43382.23,
          43600,
          43663.75,
          43961.99,
          43955,
          43931.61,
          43714.97,
          43517.1,
          43070.91,
          43044.4,
          42934.21,
          42817.16,
          42926.74,
          43320.76,
          43192.67,
          42933.36,
          42862.06,
          42850.93,
          42452.54,
          42463.09,
          42390.92,
          42466.87,
          42448.16,
          42439.22,
          42560.99,
          42640,
          42515,
          42540,
          42522.44,
          42508.59,
          42466.91,
          42522.57,
          42631.69,
          42638,
          42703.65,
          42800,
          42896.64,
          42891.91,
          42796.01,
          42716.75,
          42715.84,
          42850,
          42748.08,
          42789.17,
          43131.57,
          43310.15,
          43258.83,
          43410.3,
          43380,
          42996.56,
          42564.06,
          42332.41,
          42202.82,
          42373.25,
          42434.51,
          42236.81,
          42394.71,
          42414.71,
          42225.77,
          42000,
          42088.14,
          42083.19,
          42189.99,
          42312.75,
          42340.09,
          42350.29,
          42259.38,
          42083.01,
          41989.59,
          41750.76,
          41547.25,
          41549.66,
          41646.55,
          41607.67,
          41460.98,
          41159.92,
          41299.97,
          41200.29,
          41235.57,
          41246.61,
          41064.41,
          41150.01,
          41220.9,
          41114.54,
          40940.88,
          40989.99,
          40758.02,
          40808.32,
          40832.55,
          40896.83,
          40536.91,
          40560,
          40598.43,
          40586.46,
          40127.33,
          39996.39,
          40077.78,
          40087.85,
          39855,
          40269.6,
          40017.35,
          39844,
          39715.49,
          39848.44,
          39978.62,
          39878.43,
          39689.84,
          39717.1,
          39852.95,
          39799.99,
          39727.8,
          39550.48,
          39631.62,
          39800,
          39901.89,
          39969.27,
          40144.04,
          40149.22,
          40186.36,
          40059.48,
          40196.39,
          40344.6,
          40306.79,
          40220.02,
          40273.24,
          40340,
          40464,
          40533,
          40699,
          40662.34,
          40612.97,
          40640.06,
          40575.92,
          40506.58,
          40511.68,
          40452.52,
          40174.59,
          40064.08,
          40200,
          40370,
          40376.8,
          40310,
          40227.03,
          40118.12,
          39984,
          39780,
          39610.7,
          39633.97,
          39597.94,
          39750.15,
          39743.85,
          39963.38,
          40289.02,
          40189,
          40080.98,
          40090,
          40275,
          40179.89,
          40228.41,
          40226.07,
          40200.03,
          40212.75,
          40018.79,
          39990,
          39935.3,
          39851.45,
          40200,
          40458.51,
          40600,
          40900,
          40957,
          40850,
          40883.88,
          41177.59,
          41400,
          41411,
          41347.69,
          41289.37,
          41059.3,
          41129.3,
          41230,
          41500,
          41561.31,
          41230.14,
          41337,
          41404.58,
          41208.88,
          41272.19,
          41495.92,
          41500,
          41400.23,
          41413.11,
          41332.7,
          41360,
          41275.13,
          41218.7,
          41225,
          41070.76,
          41098.42,
          41285.23,
          41300,
          40869.23,
          40757.7,
          40500,
          40659.82,
          40483.66,
          40468.07,
          40122.93,
          40069,
          40000,
          39975.37,
          40060.05,
          39973.91,
          39799.99,
          39894.94,
          40017.26,
          40055,
          40180,
          40075.35,
          40266.47,
          40214.59,
          40164.19,
          40449.96,
          40396.59,
          40197.71,
          40399,
          40284.45,
          40234.81,
          40517.82,
          40870.36,
          40578.16,
          40535,
          40650.01,
          40548.52,
          40444,
          40602,
          40709.35,
          40595.02,
          40563.46,
          40450,
          40484.7,
          40492.91,
          40505.52,
          40577.57,
          40310,
          40236.01,
          40394.39,
          40699.55,
          40595.9,
          40423,
          40430,
          40507,
          40529.79,
          40585,
          40595.67,
          40485.82,
          40474.32,
          40260.1,
          40155.83,
          40459.52,
          40432.31,
          40340.22,
          40053.18,
          39843.45,
          39751.96,
          39784.98,
          39828.62,
          39896.98,
          39867.24,
          39394.69,
          39151,
          39020.5,
          38998.45,
          38904.81,
          38986.2,
          39070.05,
          39039.19,
          39064.97,
          38990.89,
          39138.49,
          39107.99,
          39325.92,
          39529.77,
          39525.3,
          39620.8,
          39455,
          39569.92,
          39480,
          39358.71,
          39266.76,
          39622.15,
          39800,
          40370.8,
          40227.79,
          40000.01,
          40349.22,
          40441.27,
          41000,
          41116.73,
          40992.93,
          40866.58,
          40747.02,
          40744.53,
          40909.08,
          40841.21,
          41099,
          40972.77,
          40936.28,
          41099.39,
          41263.43,
          40941.65,
          40790.85,
          40798.81,
          40883.99,
          40805.69,
          40854.82,
          40743.99,
          40846.13,
          41026.89,
          41104,
          41018.61,
          41100,
          41350,
          41472.34,
          41626.77,
          41687.14,
          41615.46,
          41760,
          41717.44,
          41540.06,
          41546.63,
          41403.39,
          41444,
          41547.65,
          41498.41,
          41391.24,
          41500.04
         ],
         "low": [
          45281,
          45000,
          44828.93,
          44412,
          44535,
          44760.28,
          44963.13,
          45132.16,
          45139.93,
          45119,
          45251.43,
          45302.11,
          45226.9,
          45177.48,
          45178.57,
          45008.02,
          44860,
          44777.77,
          44665.91,
          44732.75,
          44670.01,
          44751.33,
          44720,
          44500,
          44130.12,
          44156.67,
          44058.72,
          43800,
          43769.17,
          43941.45,
          44093.14,
          44100,
          43847.83,
          43705.64,
          43927.03,
          43885.16,
          43694.44,
          43566.01,
          43500,
          43393.74,
          43575.41,
          43750.62,
          43800.2,
          43377.77,
          43177.11,
          43432.53,
          43677.22,
          43644.1,
          43527.09,
          43610,
          43760,
          43661.56,
          43280,
          43175,
          43111,
          43061.79,
          42747.21,
          42727.35,
          42932.47,
          43120.14,
          43142.62,
          43157,
          43269.38,
          43225,
          43350.1,
          43421.31,
          43269.5,
          43325.58,
          43328.99,
          43302.01,
          43666,
          43599,
          43351.4,
          43330.09,
          43473.65,
          43352.98,
          43129.42,
          43024.86,
          43220,
          43266.68,
          43520.06,
          43514.48,
          43514.01,
          43375.36,
          43208,
          43383.01,
          43325.99,
          43305.57,
          43470.13,
          43542.2,
          43476.97,
          43484.28,
          43416.74,
          43678.57,
          43650,
          43557.22,
          43499.83,
          43344.41,
          43260.76,
          43079.05,
          42929.01,
          42801,
          42751.01,
          42865,
          43190.46,
          43300.12,
          43629.58,
          43766.09,
          43587.23,
          43395.9,
          42900,
          42801.26,
          42888,
          42425.76,
          42414,
          42633.33,
          42840.93,
          42831.38,
          42657.5,
          42532.96,
          42397.71,
          42241,
          42107.14,
          42116.31,
          42175.99,
          42169.5,
          42125.48,
          42390,
          42364.25,
          42364.59,
          42322.72,
          42397.39,
          42361.01,
          42158.67,
          42183.6,
          42410,
          42396.3,
          42390,
          42632.25,
          42591,
          42670.4,
          42575.4,
          42489.01,
          42433.49,
          42525,
          42525.44,
          42650.02,
          42748.08,
          42977.15,
          42967.79,
          43075,
          42944,
          42559.47,
          42232.23,
          41900,
          41868,
          41980.28,
          42080,
          41755,
          41786.69,
          42175.11,
          41897.97,
          41859.44,
          41899.99,
          41800,
          41909.62,
          42130.58,
          42153.8,
          42170,
          42068.17,
          41830.5,
          41678.45,
          41392.8,
          41234,
          41215,
          41350.05,
          41421.91,
          41111.01,
          40968.11,
          40977.84,
          40916.01,
          41029.41,
          40980.69,
          40684.8,
          40762.11,
          41052.46,
          40780.02,
          40716.37,
          40725,
          40501,
          40485.12,
          40520,
          40380,
          40250,
          40257.55,
          40238,
          40111,
          39900,
          39770.35,
          39793.71,
          39501,
          39500,
          39734.1,
          39705.58,
          39275.68,
          39269.89,
          39200,
          39752.01,
          39570.21,
          39372.35,
          39357.64,
          39602.46,
          39408.16,
          39458,
          39290,
          39293,
          39510,
          39624.71,
          39706.69,
          39948.38,
          40010.03,
          39857.79,
          39834.98,
          39971.7,
          40090,
          40110.33,
          40016.09,
          40094.66,
          40105,
          40304.19,
          40196.48,
          40266.03,
          40405.71,
          40374.79,
          40470.72,
          40431.24,
          40154.99,
          40222.21,
          40123.05,
          39800,
          39860.39,
          39956.67,
          40154.19,
          40057.25,
          39922.98,
          39964.55,
          39940.02,
          39657.02,
          39569,
          39413.71,
          39349.85,
          39254.63,
          39280,
          39563.02,
          39555.51,
          39863.09,
          39961.04,
          39588.54,
          39706.19,
          39989.99,
          39931.51,
          39873.71,
          39858.34,
          40005,
          40000,
          39728.59,
          39656.1,
          39648.78,
          39622.87,
          39790.08,
          40199,
          40426.66,
          40478.77,
          40784.54,
          40365,
          40549.86,
          40829.58,
          41154.74,
          41100,
          41084.5,
          41026.99,
          40829,
          40877.61,
          40879.57,
          41159.99,
          41129.45,
          41000,
          41080.01,
          41140.47,
          41064.35,
          41096.43,
          41220.64,
          41334.89,
          41271.08,
          41230.56,
          41156.9,
          41186.87,
          41000,
          40973.51,
          40941.69,
          40879.35,
          40851.5,
          41020,
          40675,
          40573.88,
          40441.76,
          40310.41,
          40320.39,
          40345.49,
          40044,
          39925.21,
          39855.75,
          39772.58,
          39776.26,
          39842,
          39629.94,
          39551.94,
          39662.46,
          39855,
          39806.25,
          39766.4,
          39870.47,
          39978,
          40062.61,
          39953.2,
          40086.93,
          40100,
          40036.06,
          40087.47,
          40100,
          40010.2,
          39900,
          40444,
          40354.54,
          40203.68,
          40253.63,
          40360.14,
          40276,
          40341.12,
          40468.25,
          40410.75,
          40367.5,
          40337.91,
          40277,
          40341.83,
          40377,
          40120.03,
          39991.55,
          40021.21,
          40114.76,
          40350.24,
          40350.53,
          40122.05,
          40160.6,
          40234.79,
          40363.6,
          40340.65,
          40200,
          40302.13,
          40125.89,
          39833.31,
          39843.33,
          40115.85,
          40031.75,
          39932.66,
          39710.67,
          39555.13,
          39546.17,
          39580.05,
          39667.63,
          39743.64,
          39350,
          38832.53,
          38752,
          38673.18,
          38622,
          38536.51,
          38867.57,
          38907.69,
          38791.73,
          38833.35,
          38799,
          38938.2,
          38920.62,
          39003.35,
          39243.91,
          39303.63,
          39309.2,
          39233.13,
          39370.24,
          39302.18,
          39122.78,
          39000,
          39151.34,
          39431.99,
          39740.66,
          39960,
          39785.33,
          39854.39,
          40200,
          40349.56,
          40777.61,
          40703.39,
          40573.18,
          40466,
          40421.67,
          40423.9,
          40632.51,
          40721.49,
          40710,
          40721.25,
          40794.28,
          40877.28,
          40699.09,
          40601,
          40643.62,
          40649.15,
          40571,
          40640,
          40580,
          40686.76,
          40662.26,
          40838.73,
          40841.65,
          40859.09,
          41083.56,
          41315,
          41380.17,
          41476.13,
          41473.64,
          41528.28,
          41388.04,
          41371.81,
          41236.55,
          41167.92,
          41207.71,
          41362.02,
          41269.99,
          41212.94,
          41265.86
         ],
         "open": [
          45568.13,
          45281,
          45000,
          44843.98,
          44545.6,
          44831.14,
          45050.1,
          45345.99,
          45268.71,
          45240,
          45375.38,
          45307.51,
          45471.93,
          45260,
          45363.48,
          45182.06,
          45307.89,
          44927.46,
          44814.49,
          44914.57,
          44744,
          44996.47,
          44813.7,
          44782.99,
          44500,
          44250,
          44365.52,
          44120.8,
          43832.24,
          44025.6,
          44118.81,
          44257.48,
          44152.27,
          43935.52,
          43955.29,
          44159.99,
          43885.16,
          43694.44,
          43627.36,
          43500,
          43575.42,
          43830,
          44190.89,
          43811.07,
          43377.76,
          43464.47,
          43764.88,
          43844.86,
          43820.54,
          43648.94,
          43794.47,
          43967.14,
          43756.08,
          43500.53,
          43175,
          43314.41,
          43061.62,
          42747.22,
          43026.63,
          43297.26,
          43142.62,
          43289.35,
          43305.24,
          43302.97,
          43385.37,
          43499.35,
          43474.86,
          43328.66,
          43410.01,
          43494.05,
          43678.24,
          43833,
          43626.43,
          43373.92,
          43605.51,
          43536.3,
          43418.57,
          43249.99,
          43246.67,
          43441.8,
          43572.78,
          43537.05,
          43629.42,
          43618.18,
          43459.73,
          43514.41,
          43630.21,
          43449.95,
          43470.13,
          43643.09,
          43542.21,
          43625.71,
          43623.61,
          43751,
          43865.79,
          43923.63,
          43557.23,
          43570.03,
          43412.28,
          43330.01,
          43135.5,
          43011.06,
          42805.65,
          42946.67,
          43289.9,
          43595.25,
          43629.59,
          43902.59,
          43898.85,
          43677.62,
          43432.83,
          42900,
          42935.47,
          42888,
          42450.91,
          42752.13,
          42926.74,
          42908.44,
          42831.38,
          42709.57,
          42804.78,
          42397.66,
          42344.41,
          42172.91,
          42236.41,
          42385.9,
          42169.5,
          42394.78,
          42525.65,
          42365.79,
          42414.92,
          42457.51,
          42507.46,
          42450.32,
          42208.67,
          42518.79,
          42515.63,
          42396.31,
          42703.65,
          42705.9,
          42827.52,
          42694.23,
          42624.18,
          42540.82,
          42680.35,
          42537.08,
          42718.12,
          42789.26,
          43086.77,
          43155.04,
          43141.16,
          43328.96,
          42975.23,
          42561.77,
          42284.95,
          41905.01,
          42122.84,
          42311.78,
          42080,
          41793.52,
          42249.23,
          42179.73,
          41900,
          41900,
          41900,
          41995.45,
          42151.02,
          42273.84,
          42187.76,
          42225.92,
          42068.17,
          41888.88,
          41678.4,
          41515.42,
          41338.46,
          41501.76,
          41425.44,
          41453.93,
          41117.72,
          41074.19,
          41150.68,
          41179.84,
          41235.59,
          41036.17,
          40794.91,
          41150,
          41114.53,
          40932.67,
          40849.39,
          40758.02,
          40709.13,
          40533.8,
          40789.99,
          40385.24,
          40531.1,
          40286.09,
          40546.19,
          40111,
          39959,
          39799.97,
          40000.13,
          39513.41,
          39834,
          40001,
          39829.84,
          39558.14,
          39427,
          39811.5,
          39754.42,
          39629.39,
          39457.52,
          39640.59,
          39772.38,
          39635.25,
          39480.86,
          39314.28,
          39553.06,
          39776.72,
          39779.5,
          39969.26,
          40010.58,
          40133.13,
          39857.8,
          40036.66,
          40106.83,
          40293.16,
          40220.02,
          40159.21,
          40261.94,
          40337.97,
          40350.5,
          40533,
          40431.32,
          40422.78,
          40515.85,
          40542.9,
          40463.75,
          40247.24,
          40441.89,
          40159.32,
          39917.68,
          39990.63,
          40171.97,
          40289.98,
          40274.87,
          39964.55,
          40093.98,
          39980,
          39717.19,
          39610.7,
          39422.33,
          39371.99,
          39505,
          39645.42,
          39622.75,
          39871.74,
          40028.99,
          40080.98,
          39725.62,
          40089.11,
          40127.23,
          40113.5,
          39905.65,
          40111.41,
          40130.01,
          40000,
          39889.99,
          39737.98,
          39773.96,
          39823.58,
          40200,
          40454.99,
          40510,
          40900,
          40850,
          40549.86,
          40880.25,
          41154.75,
          41298.52,
          41162.41,
          41289.37,
          41051.79,
          41059.3,
          40936.18,
          41207.1,
          41500,
          41165.03,
          41192.65,
          41215.31,
          41158.17,
          41170,
          41235.24,
          41475.46,
          41334.9,
          41384.97,
          41258.6,
          41195.69,
          41193.3,
          41000,
          41196.89,
          41018.49,
          40888.85,
          41020,
          41116.93,
          40769.71,
          40702.18,
          40491.68,
          40397.69,
          40390.44,
          40345.5,
          40116.96,
          39973.61,
          39940.97,
          39783.86,
          39913.52,
          39964.99,
          39629.81,
          39789.27,
          39874.53,
          39908.05,
          40052.39,
          39930.34,
          40000,
          40198.5,
          40139.99,
          40110,
          40263.04,
          40126.7,
          40120.01,
          40272.14,
          40150.2,
          40045,
          40516,
          40501,
          40527.73,
          40260.36,
          40452.86,
          40379.1,
          40381.13,
          40530.01,
          40580,
          40479.69,
          40394.83,
          40355.59,
          40415.97,
          40459.3,
          40456.71,
          40255.62,
          40073,
          40114.76,
          40369.46,
          40590.77,
          40354.18,
          40179,
          40364.22,
          40486.33,
          40431.46,
          40561.9,
          40306.49,
          40440.41,
          40260.1,
          39867.54,
          40148.09,
          40405,
          40157.79,
          40036.13,
          39761.4,
          39627,
          39620,
          39714.96,
          39785.57,
          39830,
          39353.11,
          38944.61,
          38756,
          38933.91,
          38646.44,
          38889.87,
          38910.24,
          39020,
          38882.79,
          38889.99,
          38944.88,
          38941.11,
          39010.74,
          39264.48,
          39404,
          39493.64,
          39399.14,
          39435.67,
          39470.63,
          39322.77,
          39266.76,
          39179.54,
          39590.52,
          39800,
          40186.68,
          39982.28,
          39860.82,
          40334.81,
          40352.37,
          41000,
          40819.53,
          40773.41,
          40685.61,
          40490.02,
          40434.94,
          40735.91,
          40815.99,
          40773.8,
          40919.53,
          40833.23,
          40900.59,
          40892.04,
          40714.74,
          40730.08,
          40765.64,
          40767.82,
          40657.71,
          40731.56,
          40701.98,
          40770.71,
          40858.55,
          40961.37,
          40990.77,
          41100,
          41350,
          41389.93,
          41560.37,
          41529.68,
          41537.99,
          41703.79,
          41387.99,
          41517.27,
          41317.25,
          41226.04,
          41432.17,
          41483.33,
          41277.47,
          41331.46
         ],
         "showlegend": false,
         "type": "candlestick",
         "x": [
          "2022-04-06T00:07:59.635000",
          "2022-04-06T00:14:28.056000",
          "2022-04-06T00:19:48.676000",
          "2022-04-06T00:22:20.527000",
          "2022-04-06T00:31:09.340000",
          "2022-04-06T00:54:43.043000",
          "2022-04-06T01:22:37.713000",
          "2022-04-06T02:21:25.722000",
          "2022-04-06T03:49:36.249000",
          "2022-04-06T05:09:05.984000",
          "2022-04-06T06:26:12.776000",
          "2022-04-06T07:10:31.357000",
          "2022-04-06T08:02:20.887000",
          "2022-04-06T08:59:37.469000",
          "2022-04-06T10:15:04.850000",
          "2022-04-06T10:36:38.556000",
          "2022-04-06T11:03:38.484000",
          "2022-04-06T11:18:54.321000",
          "2022-04-06T11:34:42.898000",
          "2022-04-06T12:01:56.134000",
          "2022-04-06T12:22:39.700000",
          "2022-04-06T12:58:26.765000",
          "2022-04-06T13:38:21.130000",
          "2022-04-06T13:48:18.155000",
          "2022-04-06T13:49:39.392000",
          "2022-04-06T13:56:14.180000",
          "2022-04-06T14:03:36.996000",
          "2022-04-06T14:05:11.454000",
          "2022-04-06T14:11:53.970000",
          "2022-04-06T14:25:41.430000",
          "2022-04-06T14:42:16.911000",
          "2022-04-06T15:07:00.610000",
          "2022-04-06T15:21:52.314000",
          "2022-04-06T15:34:14.449000",
          "2022-04-06T15:56:00.989000",
          "2022-04-06T16:22:06.020000",
          "2022-04-06T16:38:22.547000",
          "2022-04-06T16:46:35.594000",
          "2022-04-06T17:04:25.136000",
          "2022-04-06T17:15:20.657000",
          "2022-04-06T17:46:04.602000",
          "2022-04-06T18:02:08.593000",
          "2022-04-06T18:10:00.595000",
          "2022-04-06T18:23:59.167000",
          "2022-04-06T18:30:35.844000",
          "2022-04-06T18:44:26.536000",
          "2022-04-06T18:58:42.857000",
          "2022-04-06T19:15:24.028000",
          "2022-04-06T19:41:11.808000",
          "2022-04-06T20:16:26.639000",
          "2022-04-06T21:28:08.015000",
          "2022-04-06T22:30:12.249000",
          "2022-04-06T23:11:24.546000",
          "2022-04-06T23:51:54.252000",
          "2022-04-07T00:12:52.008000",
          "2022-04-07T00:51:23.183000",
          "2022-04-07T00:53:11.252000",
          "2022-04-07T01:04:01.301000",
          "2022-04-07T01:36:52.956000",
          "2022-04-07T02:30:38.393000",
          "2022-04-07T03:24:28.984000",
          "2022-04-07T04:21:53.218000",
          "2022-04-07T05:10:22.557000",
          "2022-04-07T06:18:30.888000",
          "2022-04-07T07:26:36.416000",
          "2022-04-07T08:24:50.344000",
          "2022-04-07T09:29:29.146000",
          "2022-04-07T10:29:38.211000",
          "2022-04-07T11:10:00.903000",
          "2022-04-07T11:35:09.143000",
          "2022-04-07T12:09:17.900000",
          "2022-04-07T12:51:56.759000",
          "2022-04-07T13:29:06.984000",
          "2022-04-07T13:55:20.123000",
          "2022-04-07T14:25:56.099000",
          "2022-04-07T14:59:48.287000",
          "2022-04-07T15:14:59.110000",
          "2022-04-07T15:39:19.328000",
          "2022-04-07T16:16:47.984000",
          "2022-04-07T17:06:07.136000",
          "2022-04-07T17:48:33.015000",
          "2022-04-07T18:31:47.178000",
          "2022-04-07T19:20:04.061000",
          "2022-04-07T20:30:07.084000",
          "2022-04-07T21:39:10.357000",
          "2022-04-07T23:07:10.422000",
          "2022-04-08T00:03:42.792000",
          "2022-04-08T01:07:27.027000",
          "2022-04-08T02:39:54.266000",
          "2022-04-08T04:40:11.487000",
          "2022-04-08T06:14:07.706000",
          "2022-04-08T07:19:29.194000",
          "2022-04-08T07:57:24.787000",
          "2022-04-08T08:18:49.396000",
          "2022-04-08T08:50:11.179000",
          "2022-04-08T09:51:47.063000",
          "2022-04-08T10:57:05.185000",
          "2022-04-08T11:32:29.101000",
          "2022-04-08T12:23:16.218000",
          "2022-04-08T12:53:57.501000",
          "2022-04-08T13:15:10.666000",
          "2022-04-08T13:33:48.877000",
          "2022-04-08T13:50:44.981000",
          "2022-04-08T14:10:20.273000",
          "2022-04-08T14:31:14.335000",
          "2022-04-08T14:51:38.261000",
          "2022-04-08T15:03:08.142000",
          "2022-04-08T15:33:07.948000",
          "2022-04-08T16:07:15.735000",
          "2022-04-08T16:52:43.277000",
          "2022-04-08T17:17:48.123000",
          "2022-04-08T17:36:22.211000",
          "2022-04-08T18:07:56.337000",
          "2022-04-08T18:13:06.846000",
          "2022-04-08T18:24:34.897000",
          "2022-04-08T18:47:49.394000",
          "2022-04-08T18:59:35.647000",
          "2022-04-08T19:40:03.720000",
          "2022-04-08T20:20:44.242000",
          "2022-04-08T21:20:14.012000",
          "2022-04-08T22:16:44.110000",
          "2022-04-08T22:46:29.639000",
          "2022-04-08T23:29:14.415000",
          "2022-04-09T00:17:33.193000",
          "2022-04-09T01:31:09.937000",
          "2022-04-09T02:58:06.836000",
          "2022-04-09T04:14:23.291000",
          "2022-04-09T05:39:50.302000",
          "2022-04-09T07:33:39.638000",
          "2022-04-09T09:41:14.775000",
          "2022-04-09T11:40:17.065000",
          "2022-04-09T13:32:20.595000",
          "2022-04-09T15:02:00.191000",
          "2022-04-09T15:56:11.959000",
          "2022-04-09T16:51:01.269000",
          "2022-04-09T18:39:58.936000",
          "2022-04-09T21:00:52.372000",
          "2022-04-09T23:33:26.382000",
          "2022-04-10T00:45:37.379000",
          "2022-04-10T02:58:32.920000",
          "2022-04-10T05:31:13.639000",
          "2022-04-10T08:00:27.674000",
          "2022-04-10T10:00:19.723000",
          "2022-04-10T12:00:09.308000",
          "2022-04-10T12:58:39.314000",
          "2022-04-10T14:52:39.493000",
          "2022-04-10T16:43:07.250000",
          "2022-04-10T17:22:50.387000",
          "2022-04-10T17:44:08.509000",
          "2022-04-10T18:47:50.424000",
          "2022-04-10T20:18:46.866000",
          "2022-04-10T21:52:30.605000",
          "2022-04-10T22:17:06.144000",
          "2022-04-10T22:32:24.440000",
          "2022-04-10T22:45:30.791000",
          "2022-04-10T22:56:19.729000",
          "2022-04-10T23:15:58.551000",
          "2022-04-10T23:58:27.486000",
          "2022-04-11T00:22:41.045000",
          "2022-04-11T00:44:54.479000",
          "2022-04-11T01:50:17.270000",
          "2022-04-11T02:20:59.415000",
          "2022-04-11T02:21:29.774000",
          "2022-04-11T02:50:29.660000",
          "2022-04-11T03:33:23.093000",
          "2022-04-11T04:31:18.696000",
          "2022-04-11T05:58:36.034000",
          "2022-04-11T07:15:04.110000",
          "2022-04-11T08:20:13.777000",
          "2022-04-11T09:17:58.362000",
          "2022-04-11T09:38:39.805000",
          "2022-04-11T09:58:33.919000",
          "2022-04-11T10:00:08.477000",
          "2022-04-11T10:03:17.801000",
          "2022-04-11T10:13:04.111000",
          "2022-04-11T10:41:10.710000",
          "2022-04-11T11:15:42.511000",
          "2022-04-11T11:31:31.329000",
          "2022-04-11T11:39:01.999000",
          "2022-04-11T11:59:36.691000",
          "2022-04-11T12:18:46.579000",
          "2022-04-11T12:47:50.103000",
          "2022-04-11T13:24:34.533000",
          "2022-04-11T13:34:30.555000",
          "2022-04-11T13:49:28.690000",
          "2022-04-11T14:12:21.530000",
          "2022-04-11T14:35:35.015000",
          "2022-04-11T15:04:41.426000",
          "2022-04-11T15:55:00.142000",
          "2022-04-11T16:04:47.510000",
          "2022-04-11T16:30:11.207000",
          "2022-04-11T16:58:29.904000",
          "2022-04-11T17:16:45.175000",
          "2022-04-11T17:32:20.510000",
          "2022-04-11T18:16:52.577000",
          "2022-04-11T19:03:32.597000",
          "2022-04-11T19:27:29.460000",
          "2022-04-11T19:30:08.980000",
          "2022-04-11T19:36:52.603000",
          "2022-04-11T19:59:00.258000",
          "2022-04-11T20:07:13.854000",
          "2022-04-11T20:20:33.332000",
          "2022-04-11T20:41:36.874000",
          "2022-04-11T21:17:23.633000",
          "2022-04-11T21:43:23.489000",
          "2022-04-11T22:07:36.909000",
          "2022-04-11T22:24:45.060000",
          "2022-04-11T22:48:39.308000",
          "2022-04-11T23:20:12.429000",
          "2022-04-11T23:54:54.007000",
          "2022-04-12T00:17:32.996000",
          "2022-04-12T00:44:54.286000",
          "2022-04-12T01:16:51.056000",
          "2022-04-12T01:53:55.564000",
          "2022-04-12T02:34:31.561000",
          "2022-04-12T03:18:59.995000",
          "2022-04-12T04:02:28.626000",
          "2022-04-12T04:45:42.213000",
          "2022-04-12T05:16:28.233000",
          "2022-04-12T05:41:02.411000",
          "2022-04-12T06:16:31.530000",
          "2022-04-12T06:50:26.155000",
          "2022-04-12T07:17:21.722000",
          "2022-04-12T07:45:51.824000",
          "2022-04-12T08:14:34.098000",
          "2022-04-12T08:57:46.762000",
          "2022-04-12T09:48:31.496000",
          "2022-04-12T10:39:44.350000",
          "2022-04-12T11:31:37.177000",
          "2022-04-12T12:02:31.607000",
          "2022-04-12T12:30:05.684000",
          "2022-04-12T12:32:11.467000",
          "2022-04-12T12:37:07.393000",
          "2022-04-12T12:48:14.177000",
          "2022-04-12T13:06:52.405000",
          "2022-04-12T13:31:01.067000",
          "2022-04-12T13:40:53.018000",
          "2022-04-12T13:57:48.836000",
          "2022-04-12T14:18:50.879000",
          "2022-04-12T14:30:34.149000",
          "2022-04-12T14:53:11.255000",
          "2022-04-12T15:19:58.906000",
          "2022-04-12T15:51:43.293000",
          "2022-04-12T16:19:11.692000",
          "2022-04-12T16:48:08.158000",
          "2022-04-12T17:35:30.825000",
          "2022-04-12T18:10:44.511000",
          "2022-04-12T18:34:21.047000",
          "2022-04-12T19:06:25.386000",
          "2022-04-12T19:25:37.543000",
          "2022-04-12T19:58:04.493000",
          "2022-04-12T20:37:58.739000",
          "2022-04-12T21:20:00.897000",
          "2022-04-12T22:20:09.979000",
          "2022-04-12T23:05:17.661000",
          "2022-04-12T23:41:17.636000",
          "2022-04-13T00:45:08.014000",
          "2022-04-13T01:33:44.500000",
          "2022-04-13T02:36:40.878000",
          "2022-04-13T03:31:55.941000",
          "2022-04-13T05:19:07.006000",
          "2022-04-13T06:53:04.977000",
          "2022-04-13T07:44:15.807000",
          "2022-04-13T08:55:08.795000",
          "2022-04-13T10:16:25.154000",
          "2022-04-13T11:03:06.063000",
          "2022-04-13T11:59:02.831000",
          "2022-04-13T12:25:30.296000",
          "2022-04-13T13:25:30.769000",
          "2022-04-13T13:44:09.838000",
          "2022-04-13T13:53:09.548000",
          "2022-04-13T14:04:21.324000",
          "2022-04-13T14:17:04.645000",
          "2022-04-13T14:25:30.026000",
          "2022-04-13T14:38:07.124000",
          "2022-04-13T15:07:07",
          "2022-04-13T15:22:28.811000",
          "2022-04-13T15:27:30.212000",
          "2022-04-13T15:46:01.544000",
          "2022-04-13T16:19:29.074000",
          "2022-04-13T16:52:05.780000",
          "2022-04-13T17:06:22.387000",
          "2022-04-13T17:38:41.675000",
          "2022-04-13T18:25:34.819000",
          "2022-04-13T19:06:34.907000",
          "2022-04-13T19:47:01.849000",
          "2022-04-13T20:33:38.969000",
          "2022-04-13T22:13:47.547000",
          "2022-04-13T23:05:15.637000",
          "2022-04-14T00:08:00.549000",
          "2022-04-14T01:14:31.497000",
          "2022-04-14T01:58:20.687000",
          "2022-04-14T03:06:33.949000",
          "2022-04-14T04:09:04.559000",
          "2022-04-14T05:53:43.784000",
          "2022-04-14T07:17:57.237000",
          "2022-04-14T08:31:24.352000",
          "2022-04-14T09:26:34.354000",
          "2022-04-14T10:15:12.698000",
          "2022-04-14T10:52:19.768000",
          "2022-04-14T11:53:29.804000",
          "2022-04-14T12:45:52.426000",
          "2022-04-14T13:18:18.991000",
          "2022-04-14T13:41:48.895000",
          "2022-04-14T13:48:32.701000",
          "2022-04-14T14:04:56.119000",
          "2022-04-14T14:18:35.886000",
          "2022-04-14T14:39:05.057000",
          "2022-04-14T15:22:36.344000",
          "2022-04-14T15:41:16.487000",
          "2022-04-14T15:57:23.221000",
          "2022-04-14T16:18:19.033000",
          "2022-04-14T16:41:06.308000",
          "2022-04-14T17:28:17.665000",
          "2022-04-14T18:17:14.505000",
          "2022-04-14T18:58:28.665000",
          "2022-04-14T19:45:39.903000",
          "2022-04-14T20:49:26.243000",
          "2022-04-14T22:36:40.977000",
          "2022-04-15T00:24:13.168000",
          "2022-04-15T01:09:06.866000",
          "2022-04-15T02:58:34.127000",
          "2022-04-15T04:25:40.614000",
          "2022-04-15T06:09:35.124000",
          "2022-04-15T07:37:52.858000",
          "2022-04-15T07:59:56.616000",
          "2022-04-15T08:35:15.929000",
          "2022-04-15T10:03:19.772000",
          "2022-04-15T11:19:42.520000",
          "2022-04-15T12:49:36.128000",
          "2022-04-15T13:58:12.266000",
          "2022-04-15T14:48:58.190000",
          "2022-04-15T14:55:49.245000",
          "2022-04-15T15:29:22.590000",
          "2022-04-15T16:25:19.641000",
          "2022-04-15T17:19:00.413000",
          "2022-04-15T18:53:57.119000",
          "2022-04-15T21:28:05.008000",
          "2022-04-15T23:57:22.255000",
          "2022-04-16T02:00:26.007000",
          "2022-04-16T04:30:57.722000",
          "2022-04-16T06:53:35.117000",
          "2022-04-16T09:37:54.469000",
          "2022-04-16T10:57:18.855000",
          "2022-04-16T12:35:57.392000",
          "2022-04-16T14:51:32.674000",
          "2022-04-16T15:18:03.515000",
          "2022-04-16T16:02:46.482000",
          "2022-04-16T18:23:21.704000",
          "2022-04-16T21:27:25.316000",
          "2022-04-16T22:15:06.883000",
          "2022-04-17T00:25:07.765000",
          "2022-04-17T03:08:55.453000",
          "2022-04-17T06:42:05.362000",
          "2022-04-17T09:11:14.022000",
          "2022-04-17T11:47:15.648000",
          "2022-04-17T13:41:56.685000",
          "2022-04-17T14:05:42.619000",
          "2022-04-17T16:06:59.110000",
          "2022-04-17T17:21:00.052000",
          "2022-04-17T18:08:16.078000",
          "2022-04-17T19:31:36.222000",
          "2022-04-17T20:33:12.185000",
          "2022-04-17T22:08:07.431000",
          "2022-04-17T22:51:53.916000",
          "2022-04-17T23:23:21.609000",
          "2022-04-17T23:40:30.844000",
          "2022-04-18T00:02:37.606000",
          "2022-04-18T00:52:03.065000",
          "2022-04-18T02:05:57.262000",
          "2022-04-18T03:46:16.036000",
          "2022-04-18T04:19:16.324000",
          "2022-04-18T04:20:00.336000",
          "2022-04-18T04:24:21.007000",
          "2022-04-18T04:39:39.905000",
          "2022-04-18T05:05:25.762000",
          "2022-04-18T05:20:16.570000",
          "2022-04-18T06:15:15.073000",
          "2022-04-18T07:12:01.335000",
          "2022-04-18T07:52:46.673000",
          "2022-04-18T08:56:48.706000",
          "2022-04-18T09:55:04.911000",
          "2022-04-18T10:55:27.642000",
          "2022-04-18T12:01:01.811000",
          "2022-04-18T12:35:12.982000",
          "2022-04-18T12:58:51.663000",
          "2022-04-18T13:30:48.147000",
          "2022-04-18T13:42:06.040000",
          "2022-04-18T14:04:35.750000",
          "2022-04-18T14:29:08.755000",
          "2022-04-18T15:05:11.198000",
          "2022-04-18T15:46:39.532000",
          "2022-04-18T16:24:02.819000",
          "2022-04-18T16:47:01.521000",
          "2022-04-18T17:09:32.929000",
          "2022-04-18T17:12:01.403000",
          "2022-04-18T17:21:28.054000",
          "2022-04-18T17:26:52.223000",
          "2022-04-18T17:56:53.262000",
          "2022-04-18T18:13:18.432000",
          "2022-04-18T18:16:24.179000",
          "2022-04-18T18:18:32.290000",
          "2022-04-18T18:29:48.027000",
          "2022-04-18T18:49:39.785000",
          "2022-04-18T19:14:55.417000",
          "2022-04-18T19:50:19.735000",
          "2022-04-18T20:13:00.355000",
          "2022-04-18T21:08:32.634000",
          "2022-04-18T21:51:17.221000",
          "2022-04-18T23:03:54.741000",
          "2022-04-19T00:02:26.681000",
          "2022-04-19T00:21:23.854000",
          "2022-04-19T00:49:38.065000",
          "2022-04-19T02:11:49.805000",
          "2022-04-19T03:17:46.549000",
          "2022-04-19T04:43:39.149000",
          "2022-04-19T06:30:05.756000",
          "2022-04-19T07:43:19.415000",
          "2022-04-19T09:12:51.072000",
          "2022-04-19T10:20:05.664000",
          "2022-04-19T11:40:07.630000",
          "2022-04-19T12:12:02.767000",
          "2022-04-19T12:46:53.048000",
          "2022-04-19T13:25:08.711000",
          "2022-04-19T13:43:04.535000",
          "2022-04-19T13:50:28.806000",
          "2022-04-19T13:56:38.766000",
          "2022-04-19T14:04:05.488000",
          "2022-04-19T14:15:18.567000",
          "2022-04-19T14:43:45.638000",
          "2022-04-19T15:11:57.801000",
          "2022-04-19T15:36:44.179000",
          "2022-04-19T16:08:49.204000",
          "2022-04-19T16:46:37.604000",
          "2022-04-19T17:29:29.456000",
          "2022-04-19T18:29:26.925000",
          "2022-04-19T19:31:23.901000",
          "2022-04-19T20:13:49.436000",
          "2022-04-19T21:55:13.020000",
          "2022-04-19T23:32:10.225000"
         ],
         "xaxis": "x",
         "yaxis": "y"
        },
        {
         "marker": {
          "color": "lightsteelblue"
         },
         "showlegend": false,
         "type": "bar",
         "x": [
          "2022-04-06T00:07:59.635000",
          "2022-04-06T00:14:28.056000",
          "2022-04-06T00:19:48.676000",
          "2022-04-06T00:22:20.527000",
          "2022-04-06T00:31:09.340000",
          "2022-04-06T00:54:43.043000",
          "2022-04-06T01:22:37.713000",
          "2022-04-06T02:21:25.722000",
          "2022-04-06T03:49:36.249000",
          "2022-04-06T05:09:05.984000",
          "2022-04-06T06:26:12.776000",
          "2022-04-06T07:10:31.357000",
          "2022-04-06T08:02:20.887000",
          "2022-04-06T08:59:37.469000",
          "2022-04-06T10:15:04.850000",
          "2022-04-06T10:36:38.556000",
          "2022-04-06T11:03:38.484000",
          "2022-04-06T11:18:54.321000",
          "2022-04-06T11:34:42.898000",
          "2022-04-06T12:01:56.134000",
          "2022-04-06T12:22:39.700000",
          "2022-04-06T12:58:26.765000",
          "2022-04-06T13:38:21.130000",
          "2022-04-06T13:48:18.155000",
          "2022-04-06T13:49:39.392000",
          "2022-04-06T13:56:14.180000",
          "2022-04-06T14:03:36.996000",
          "2022-04-06T14:05:11.454000",
          "2022-04-06T14:11:53.970000",
          "2022-04-06T14:25:41.430000",
          "2022-04-06T14:42:16.911000",
          "2022-04-06T15:07:00.610000",
          "2022-04-06T15:21:52.314000",
          "2022-04-06T15:34:14.449000",
          "2022-04-06T15:56:00.989000",
          "2022-04-06T16:22:06.020000",
          "2022-04-06T16:38:22.547000",
          "2022-04-06T16:46:35.594000",
          "2022-04-06T17:04:25.136000",
          "2022-04-06T17:15:20.657000",
          "2022-04-06T17:46:04.602000",
          "2022-04-06T18:02:08.593000",
          "2022-04-06T18:10:00.595000",
          "2022-04-06T18:23:59.167000",
          "2022-04-06T18:30:35.844000",
          "2022-04-06T18:44:26.536000",
          "2022-04-06T18:58:42.857000",
          "2022-04-06T19:15:24.028000",
          "2022-04-06T19:41:11.808000",
          "2022-04-06T20:16:26.639000",
          "2022-04-06T21:28:08.015000",
          "2022-04-06T22:30:12.249000",
          "2022-04-06T23:11:24.546000",
          "2022-04-06T23:51:54.252000",
          "2022-04-07T00:12:52.008000",
          "2022-04-07T00:51:23.183000",
          "2022-04-07T00:53:11.252000",
          "2022-04-07T01:04:01.301000",
          "2022-04-07T01:36:52.956000",
          "2022-04-07T02:30:38.393000",
          "2022-04-07T03:24:28.984000",
          "2022-04-07T04:21:53.218000",
          "2022-04-07T05:10:22.557000",
          "2022-04-07T06:18:30.888000",
          "2022-04-07T07:26:36.416000",
          "2022-04-07T08:24:50.344000",
          "2022-04-07T09:29:29.146000",
          "2022-04-07T10:29:38.211000",
          "2022-04-07T11:10:00.903000",
          "2022-04-07T11:35:09.143000",
          "2022-04-07T12:09:17.900000",
          "2022-04-07T12:51:56.759000",
          "2022-04-07T13:29:06.984000",
          "2022-04-07T13:55:20.123000",
          "2022-04-07T14:25:56.099000",
          "2022-04-07T14:59:48.287000",
          "2022-04-07T15:14:59.110000",
          "2022-04-07T15:39:19.328000",
          "2022-04-07T16:16:47.984000",
          "2022-04-07T17:06:07.136000",
          "2022-04-07T17:48:33.015000",
          "2022-04-07T18:31:47.178000",
          "2022-04-07T19:20:04.061000",
          "2022-04-07T20:30:07.084000",
          "2022-04-07T21:39:10.357000",
          "2022-04-07T23:07:10.422000",
          "2022-04-08T00:03:42.792000",
          "2022-04-08T01:07:27.027000",
          "2022-04-08T02:39:54.266000",
          "2022-04-08T04:40:11.487000",
          "2022-04-08T06:14:07.706000",
          "2022-04-08T07:19:29.194000",
          "2022-04-08T07:57:24.787000",
          "2022-04-08T08:18:49.396000",
          "2022-04-08T08:50:11.179000",
          "2022-04-08T09:51:47.063000",
          "2022-04-08T10:57:05.185000",
          "2022-04-08T11:32:29.101000",
          "2022-04-08T12:23:16.218000",
          "2022-04-08T12:53:57.501000",
          "2022-04-08T13:15:10.666000",
          "2022-04-08T13:33:48.877000",
          "2022-04-08T13:50:44.981000",
          "2022-04-08T14:10:20.273000",
          "2022-04-08T14:31:14.335000",
          "2022-04-08T14:51:38.261000",
          "2022-04-08T15:03:08.142000",
          "2022-04-08T15:33:07.948000",
          "2022-04-08T16:07:15.735000",
          "2022-04-08T16:52:43.277000",
          "2022-04-08T17:17:48.123000",
          "2022-04-08T17:36:22.211000",
          "2022-04-08T18:07:56.337000",
          "2022-04-08T18:13:06.846000",
          "2022-04-08T18:24:34.897000",
          "2022-04-08T18:47:49.394000",
          "2022-04-08T18:59:35.647000",
          "2022-04-08T19:40:03.720000",
          "2022-04-08T20:20:44.242000",
          "2022-04-08T21:20:14.012000",
          "2022-04-08T22:16:44.110000",
          "2022-04-08T22:46:29.639000",
          "2022-04-08T23:29:14.415000",
          "2022-04-09T00:17:33.193000",
          "2022-04-09T01:31:09.937000",
          "2022-04-09T02:58:06.836000",
          "2022-04-09T04:14:23.291000",
          "2022-04-09T05:39:50.302000",
          "2022-04-09T07:33:39.638000",
          "2022-04-09T09:41:14.775000",
          "2022-04-09T11:40:17.065000",
          "2022-04-09T13:32:20.595000",
          "2022-04-09T15:02:00.191000",
          "2022-04-09T15:56:11.959000",
          "2022-04-09T16:51:01.269000",
          "2022-04-09T18:39:58.936000",
          "2022-04-09T21:00:52.372000",
          "2022-04-09T23:33:26.382000",
          "2022-04-10T00:45:37.379000",
          "2022-04-10T02:58:32.920000",
          "2022-04-10T05:31:13.639000",
          "2022-04-10T08:00:27.674000",
          "2022-04-10T10:00:19.723000",
          "2022-04-10T12:00:09.308000",
          "2022-04-10T12:58:39.314000",
          "2022-04-10T14:52:39.493000",
          "2022-04-10T16:43:07.250000",
          "2022-04-10T17:22:50.387000",
          "2022-04-10T17:44:08.509000",
          "2022-04-10T18:47:50.424000",
          "2022-04-10T20:18:46.866000",
          "2022-04-10T21:52:30.605000",
          "2022-04-10T22:17:06.144000",
          "2022-04-10T22:32:24.440000",
          "2022-04-10T22:45:30.791000",
          "2022-04-10T22:56:19.729000",
          "2022-04-10T23:15:58.551000",
          "2022-04-10T23:58:27.486000",
          "2022-04-11T00:22:41.045000",
          "2022-04-11T00:44:54.479000",
          "2022-04-11T01:50:17.270000",
          "2022-04-11T02:20:59.415000",
          "2022-04-11T02:21:29.774000",
          "2022-04-11T02:50:29.660000",
          "2022-04-11T03:33:23.093000",
          "2022-04-11T04:31:18.696000",
          "2022-04-11T05:58:36.034000",
          "2022-04-11T07:15:04.110000",
          "2022-04-11T08:20:13.777000",
          "2022-04-11T09:17:58.362000",
          "2022-04-11T09:38:39.805000",
          "2022-04-11T09:58:33.919000",
          "2022-04-11T10:00:08.477000",
          "2022-04-11T10:03:17.801000",
          "2022-04-11T10:13:04.111000",
          "2022-04-11T10:41:10.710000",
          "2022-04-11T11:15:42.511000",
          "2022-04-11T11:31:31.329000",
          "2022-04-11T11:39:01.999000",
          "2022-04-11T11:59:36.691000",
          "2022-04-11T12:18:46.579000",
          "2022-04-11T12:47:50.103000",
          "2022-04-11T13:24:34.533000",
          "2022-04-11T13:34:30.555000",
          "2022-04-11T13:49:28.690000",
          "2022-04-11T14:12:21.530000",
          "2022-04-11T14:35:35.015000",
          "2022-04-11T15:04:41.426000",
          "2022-04-11T15:55:00.142000",
          "2022-04-11T16:04:47.510000",
          "2022-04-11T16:30:11.207000",
          "2022-04-11T16:58:29.904000",
          "2022-04-11T17:16:45.175000",
          "2022-04-11T17:32:20.510000",
          "2022-04-11T18:16:52.577000",
          "2022-04-11T19:03:32.597000",
          "2022-04-11T19:27:29.460000",
          "2022-04-11T19:30:08.980000",
          "2022-04-11T19:36:52.603000",
          "2022-04-11T19:59:00.258000",
          "2022-04-11T20:07:13.854000",
          "2022-04-11T20:20:33.332000",
          "2022-04-11T20:41:36.874000",
          "2022-04-11T21:17:23.633000",
          "2022-04-11T21:43:23.489000",
          "2022-04-11T22:07:36.909000",
          "2022-04-11T22:24:45.060000",
          "2022-04-11T22:48:39.308000",
          "2022-04-11T23:20:12.429000",
          "2022-04-11T23:54:54.007000",
          "2022-04-12T00:17:32.996000",
          "2022-04-12T00:44:54.286000",
          "2022-04-12T01:16:51.056000",
          "2022-04-12T01:53:55.564000",
          "2022-04-12T02:34:31.561000",
          "2022-04-12T03:18:59.995000",
          "2022-04-12T04:02:28.626000",
          "2022-04-12T04:45:42.213000",
          "2022-04-12T05:16:28.233000",
          "2022-04-12T05:41:02.411000",
          "2022-04-12T06:16:31.530000",
          "2022-04-12T06:50:26.155000",
          "2022-04-12T07:17:21.722000",
          "2022-04-12T07:45:51.824000",
          "2022-04-12T08:14:34.098000",
          "2022-04-12T08:57:46.762000",
          "2022-04-12T09:48:31.496000",
          "2022-04-12T10:39:44.350000",
          "2022-04-12T11:31:37.177000",
          "2022-04-12T12:02:31.607000",
          "2022-04-12T12:30:05.684000",
          "2022-04-12T12:32:11.467000",
          "2022-04-12T12:37:07.393000",
          "2022-04-12T12:48:14.177000",
          "2022-04-12T13:06:52.405000",
          "2022-04-12T13:31:01.067000",
          "2022-04-12T13:40:53.018000",
          "2022-04-12T13:57:48.836000",
          "2022-04-12T14:18:50.879000",
          "2022-04-12T14:30:34.149000",
          "2022-04-12T14:53:11.255000",
          "2022-04-12T15:19:58.906000",
          "2022-04-12T15:51:43.293000",
          "2022-04-12T16:19:11.692000",
          "2022-04-12T16:48:08.158000",
          "2022-04-12T17:35:30.825000",
          "2022-04-12T18:10:44.511000",
          "2022-04-12T18:34:21.047000",
          "2022-04-12T19:06:25.386000",
          "2022-04-12T19:25:37.543000",
          "2022-04-12T19:58:04.493000",
          "2022-04-12T20:37:58.739000",
          "2022-04-12T21:20:00.897000",
          "2022-04-12T22:20:09.979000",
          "2022-04-12T23:05:17.661000",
          "2022-04-12T23:41:17.636000",
          "2022-04-13T00:45:08.014000",
          "2022-04-13T01:33:44.500000",
          "2022-04-13T02:36:40.878000",
          "2022-04-13T03:31:55.941000",
          "2022-04-13T05:19:07.006000",
          "2022-04-13T06:53:04.977000",
          "2022-04-13T07:44:15.807000",
          "2022-04-13T08:55:08.795000",
          "2022-04-13T10:16:25.154000",
          "2022-04-13T11:03:06.063000",
          "2022-04-13T11:59:02.831000",
          "2022-04-13T12:25:30.296000",
          "2022-04-13T13:25:30.769000",
          "2022-04-13T13:44:09.838000",
          "2022-04-13T13:53:09.548000",
          "2022-04-13T14:04:21.324000",
          "2022-04-13T14:17:04.645000",
          "2022-04-13T14:25:30.026000",
          "2022-04-13T14:38:07.124000",
          "2022-04-13T15:07:07",
          "2022-04-13T15:22:28.811000",
          "2022-04-13T15:27:30.212000",
          "2022-04-13T15:46:01.544000",
          "2022-04-13T16:19:29.074000",
          "2022-04-13T16:52:05.780000",
          "2022-04-13T17:06:22.387000",
          "2022-04-13T17:38:41.675000",
          "2022-04-13T18:25:34.819000",
          "2022-04-13T19:06:34.907000",
          "2022-04-13T19:47:01.849000",
          "2022-04-13T20:33:38.969000",
          "2022-04-13T22:13:47.547000",
          "2022-04-13T23:05:15.637000",
          "2022-04-14T00:08:00.549000",
          "2022-04-14T01:14:31.497000",
          "2022-04-14T01:58:20.687000",
          "2022-04-14T03:06:33.949000",
          "2022-04-14T04:09:04.559000",
          "2022-04-14T05:53:43.784000",
          "2022-04-14T07:17:57.237000",
          "2022-04-14T08:31:24.352000",
          "2022-04-14T09:26:34.354000",
          "2022-04-14T10:15:12.698000",
          "2022-04-14T10:52:19.768000",
          "2022-04-14T11:53:29.804000",
          "2022-04-14T12:45:52.426000",
          "2022-04-14T13:18:18.991000",
          "2022-04-14T13:41:48.895000",
          "2022-04-14T13:48:32.701000",
          "2022-04-14T14:04:56.119000",
          "2022-04-14T14:18:35.886000",
          "2022-04-14T14:39:05.057000",
          "2022-04-14T15:22:36.344000",
          "2022-04-14T15:41:16.487000",
          "2022-04-14T15:57:23.221000",
          "2022-04-14T16:18:19.033000",
          "2022-04-14T16:41:06.308000",
          "2022-04-14T17:28:17.665000",
          "2022-04-14T18:17:14.505000",
          "2022-04-14T18:58:28.665000",
          "2022-04-14T19:45:39.903000",
          "2022-04-14T20:49:26.243000",
          "2022-04-14T22:36:40.977000",
          "2022-04-15T00:24:13.168000",
          "2022-04-15T01:09:06.866000",
          "2022-04-15T02:58:34.127000",
          "2022-04-15T04:25:40.614000",
          "2022-04-15T06:09:35.124000",
          "2022-04-15T07:37:52.858000",
          "2022-04-15T07:59:56.616000",
          "2022-04-15T08:35:15.929000",
          "2022-04-15T10:03:19.772000",
          "2022-04-15T11:19:42.520000",
          "2022-04-15T12:49:36.128000",
          "2022-04-15T13:58:12.266000",
          "2022-04-15T14:48:58.190000",
          "2022-04-15T14:55:49.245000",
          "2022-04-15T15:29:22.590000",
          "2022-04-15T16:25:19.641000",
          "2022-04-15T17:19:00.413000",
          "2022-04-15T18:53:57.119000",
          "2022-04-15T21:28:05.008000",
          "2022-04-15T23:57:22.255000",
          "2022-04-16T02:00:26.007000",
          "2022-04-16T04:30:57.722000",
          "2022-04-16T06:53:35.117000",
          "2022-04-16T09:37:54.469000",
          "2022-04-16T10:57:18.855000",
          "2022-04-16T12:35:57.392000",
          "2022-04-16T14:51:32.674000",
          "2022-04-16T15:18:03.515000",
          "2022-04-16T16:02:46.482000",
          "2022-04-16T18:23:21.704000",
          "2022-04-16T21:27:25.316000",
          "2022-04-16T22:15:06.883000",
          "2022-04-17T00:25:07.765000",
          "2022-04-17T03:08:55.453000",
          "2022-04-17T06:42:05.362000",
          "2022-04-17T09:11:14.022000",
          "2022-04-17T11:47:15.648000",
          "2022-04-17T13:41:56.685000",
          "2022-04-17T14:05:42.619000",
          "2022-04-17T16:06:59.110000",
          "2022-04-17T17:21:00.052000",
          "2022-04-17T18:08:16.078000",
          "2022-04-17T19:31:36.222000",
          "2022-04-17T20:33:12.185000",
          "2022-04-17T22:08:07.431000",
          "2022-04-17T22:51:53.916000",
          "2022-04-17T23:23:21.609000",
          "2022-04-17T23:40:30.844000",
          "2022-04-18T00:02:37.606000",
          "2022-04-18T00:52:03.065000",
          "2022-04-18T02:05:57.262000",
          "2022-04-18T03:46:16.036000",
          "2022-04-18T04:19:16.324000",
          "2022-04-18T04:20:00.336000",
          "2022-04-18T04:24:21.007000",
          "2022-04-18T04:39:39.905000",
          "2022-04-18T05:05:25.762000",
          "2022-04-18T05:20:16.570000",
          "2022-04-18T06:15:15.073000",
          "2022-04-18T07:12:01.335000",
          "2022-04-18T07:52:46.673000",
          "2022-04-18T08:56:48.706000",
          "2022-04-18T09:55:04.911000",
          "2022-04-18T10:55:27.642000",
          "2022-04-18T12:01:01.811000",
          "2022-04-18T12:35:12.982000",
          "2022-04-18T12:58:51.663000",
          "2022-04-18T13:30:48.147000",
          "2022-04-18T13:42:06.040000",
          "2022-04-18T14:04:35.750000",
          "2022-04-18T14:29:08.755000",
          "2022-04-18T15:05:11.198000",
          "2022-04-18T15:46:39.532000",
          "2022-04-18T16:24:02.819000",
          "2022-04-18T16:47:01.521000",
          "2022-04-18T17:09:32.929000",
          "2022-04-18T17:12:01.403000",
          "2022-04-18T17:21:28.054000",
          "2022-04-18T17:26:52.223000",
          "2022-04-18T17:56:53.262000",
          "2022-04-18T18:13:18.432000",
          "2022-04-18T18:16:24.179000",
          "2022-04-18T18:18:32.290000",
          "2022-04-18T18:29:48.027000",
          "2022-04-18T18:49:39.785000",
          "2022-04-18T19:14:55.417000",
          "2022-04-18T19:50:19.735000",
          "2022-04-18T20:13:00.355000",
          "2022-04-18T21:08:32.634000",
          "2022-04-18T21:51:17.221000",
          "2022-04-18T23:03:54.741000",
          "2022-04-19T00:02:26.681000",
          "2022-04-19T00:21:23.854000",
          "2022-04-19T00:49:38.065000",
          "2022-04-19T02:11:49.805000",
          "2022-04-19T03:17:46.549000",
          "2022-04-19T04:43:39.149000",
          "2022-04-19T06:30:05.756000",
          "2022-04-19T07:43:19.415000",
          "2022-04-19T09:12:51.072000",
          "2022-04-19T10:20:05.664000",
          "2022-04-19T11:40:07.630000",
          "2022-04-19T12:12:02.767000",
          "2022-04-19T12:46:53.048000",
          "2022-04-19T13:25:08.711000",
          "2022-04-19T13:43:04.535000",
          "2022-04-19T13:50:28.806000",
          "2022-04-19T13:56:38.766000",
          "2022-04-19T14:04:05.488000",
          "2022-04-19T14:15:18.567000",
          "2022-04-19T14:43:45.638000",
          "2022-04-19T15:11:57.801000",
          "2022-04-19T15:36:44.179000",
          "2022-04-19T16:08:49.204000",
          "2022-04-19T16:46:37.604000",
          "2022-04-19T17:29:29.456000",
          "2022-04-19T18:29:26.925000",
          "2022-04-19T19:31:23.901000",
          "2022-04-19T20:13:49.436000",
          "2022-04-19T21:55:13.020000",
          "2022-04-19T23:32:10.225000"
         ],
         "xaxis": "x2",
         "y": [
          1100.5018799999702,
          1107.0512000000192,
          1110.750140000001,
          1121.6406100000036,
          1115.720660000018,
          1112.298179999986,
          1107.376939999977,
          1106.0466099999685,
          1104.8718599999956,
          1104.4051699999989,
          1102.9634899999958,
          1101.575199999996,
          1101.9312300000058,
          1104.3112099999726,
          1104.1363000000283,
          1105.1616799999822,
          1109.053429999988,
          1114.4355299999884,
          1115.853069999988,
          1113.4921099999926,
          1114.9218500000168,
          1115.1261900000336,
          1114.6695200000015,
          1120.2407500000213,
          1129.9775999999863,
          1129.7065700000155,
          1131.590459999995,
          1137.1158699999842,
          1138.0200400000135,
          1134.612509999974,
          1128.998879999986,
          1129.4859599999809,
          1135.1419299999966,
          1139.6101399999984,
          1134.0500599999984,
          1134.3361499999926,
          1140.879519999957,
          1144.858520000002,
          1145.1677700000057,
          1149.015300000011,
          1144.7511999999915,
          1137.2866499999925,
          1134.372019999989,
          1146.2445899999973,
          1153.0339399999864,
          1146.009729999976,
          1141.6782099999828,
          1141.4310799999903,
          1145.0531299999957,
          1140.755359999977,
          1139.139259999941,
          1140.7926899999495,
          1148.5572900000227,
          1153.188540000007,
          1157.2396999999985,
          1152.2510400000192,
          1165.7712899999888,
          1165.4802600000028,
          1159.56486999998,
          1154.8984699999874,
          1155.477009999981,
          1155.1770899999913,
          1152.814579999968,
          1153.8509499999848,
          1151.074359999983,
          1150.0385699999592,
          1151.1125300000006,
          1152.302470000012,
          1149.5233500000008,
          1148.3518500000057,
          1143.4359700000011,
          1142.7322199999824,
          1150.063339999993,
          1148.72644999999,
          1147.0650799999728,
          1150.8396399999888,
          1152.9092100000037,
          1157.435290000014,
          1153.309970000013,
          1151.2243199999878,
          1146.2798800000078,
          1144.9197699999977,
          1145.5262199999895,
          1150.130730000012,
          1152.0006100000114,
          1148.7450099999844,
          1147.8597799999732,
          1151.6637300000043,
          1147.2002900000182,
          1146.043260000048,
          1146.9327900000055,
          1148.2152499999818,
          1149.5310699999973,
          1141.6370199999833,
          1141.303709999992,
          1144.0763499999728,
          1148.468469999997,
          1151.0771600000082,
          1153.851449999982,
          1156.2511200000026,
          1160.693709999996,
          1164.873949999977,
          1166.034389999988,
          1159.6854899999878,
          1152.2404499999866,
          1149.9497400000105,
          1142.125710000004,
          1140.3542299999815,
          1143.8668499999983,
          1147.2679799999771,
          1157.4710799999768,
          1165.190979999981,
          1164.7847200000094,
          1172.4141199999624,
          1173.4383200000027,
          1170.5859800000003,
          1162.1089500000064,
          1162.7444900000069,
          1169.4736400000347,
          1170.4902000000382,
          1173.7136800000144,
          1180.5865100000178,
          1183.884190000031,
          1183.4504899999886,
          1180.7268299999982,
          1181.613569999999,
          1181.6157200000132,
          1177.4868299999985,
          1176.7751599999954,
          1178.0262500000258,
          1178.069989999988,
          1177.4474300000052,
          1178.2525100000232,
          1181.5099599999762,
          1182.291420000004,
          1175.6265300000462,
          1175.8817100000174,
          1175.444319999973,
          1170.326429999982,
          1169.8973000000008,
          1169.0838900000288,
          1171.4684500000176,
          1174.009990000005,
          1174.7936100000145,
          1171.6009700000088,
          1173.0897200000109,
          1170.3964400000605,
          1166.0648400000046,
          1158.8062000000298,
          1159.118610000037,
          1156.3055200000135,
          1158.2880900000018,
          1170.5963500000164,
          1179.3075099999992,
          1187.110109999943,
          1190.4854999999443,
          1186.2318999999827,
          1183.3542799999914,
          1190.1252000000034,
          1187.5361800000285,
          1181.8378600000217,
          1188.3639999999775,
          1194.0078199999712,
          1191.2500699998654,
          1193.31396000001,
          1187.7103700000173,
          1183.518150000015,
          1183.749260000007,
          1182.5708999999836,
          1186.1846799999994,
          1192.5673699999838,
          1194.621280000004,
          1202.8721099999818,
          1209.03748999996,
          1207.956130000017,
          1205.5250100000246,
          1204.4736400000108,
          1212.575230000006,
          1218.2275600000048,
          1215.863130000008,
          1217.4598300000043,
          1215.2460499999825,
          1216.4021799999996,
          1225.1872499999931,
          1221.5818899999988,
          1215.6167700000046,
          1222.0507699999994,
          1226.6762300000212,
          1223.8157400000018,
          1231.1149399999845,
          1230.204759999999,
          1229.559410000015,
          1229.7411699999466,
          1238.068239999959,
          1237.3451399999997,
          1238.1917800000165,
          1244.795219999993,
          1249.5385799999392,
          1254.6343399999362,
          1250.913549999958,
          1257.2351199998732,
          1259.7441599999595,
          1249.9004799999564,
          1254.7490900000207,
          1264.9817899999478,
          1266.6355599999745,
          1264.2182299999774,
          1254.5159199999798,
          1259.037419999994,
          1264.974809999977,
          1264.407209999984,
          1259.21619,
          1261.844520000011,
          1262.4361300000078,
          1267.8181199999956,
          1266.7069700000188,
          1260.915450000008,
          1257.6019399999975,
          1254.3537299999907,
          1249.2247099999745,
          1247.2246999998672,
          1249.8819199999446,
          1253.1136599999654,
          1246.9535899999755,
          1244.5270999999864,
          1244.02014,
          1246.0058899999838,
          1244.7959399999922,
          1243.765629999992,
          1238.6768199999833,
          1239.900779999988,
          1233.7743799999676,
          1233.4735599999697,
          1235.0633299999745,
          1232.194459999954,
          1234.8514999999709,
          1240.4107499999757,
          1238.0262099999788,
          1241.385879999976,
          1251.3771999999974,
          1250.9721399999903,
          1248.8151099999882,
          1241.436899999968,
          1244.0138799999645,
          1248.6679099999733,
          1246.423899999966,
          1251.5653899999304,
          1256.721619999976,
          1260.2943199999677,
          1266.0322199999823,
          1266.2599699999791,
          1269.0297400000002,
          1265.327539999994,
          1261.0880499999937,
          1257.5232699999876,
          1246.9124399999537,
          1247.12346,
          1257.6275699999778,
          1254.735629999999,
          1245.8991399999709,
          1247.7104700000032,
          1246.7511099999815,
          1248.4528799999755,
          1247.6779999999765,
          1246.4761299999657,
          1254.28490999997,
          1253.9468499999853,
          1256.926599999965,
          1258.8824900000047,
          1249.8072399999808,
          1239.2842299999704,
          1234.1398299999476,
          1229.449859999963,
          1224.2574299999455,
          1232.22994999998,
          1229.5791399999575,
          1220.6334499999468,
          1211.450179999985,
          1212.3236299999946,
          1213.3024899999846,
          1215.3486099999895,
          1220.0999499999737,
          1218.3984899999923,
          1218.2266200000045,
          1210.4923199999932,
          1210.614450000014,
          1216.2382000000002,
          1213.0566199999669,
          1211.6643999999783,
          1215.5929199999744,
          1217.5043499999906,
          1208.9097499999898,
          1207.497960000005,
          1209.7970899999964,
          1210.419960000013,
          1213.1235700000088,
          1211.2860200000234,
          1215.055719999987,
          1215.751149999969,
          1218.278169999981,
          1219.903750000019,
          1219.9500399999845,
          1214.9245600000072,
          1219.4701399999851,
          1228.3929099999896,
          1231.899479999991,
          1237.6264300000012,
          1235.1285800000103,
          1237.9229800000178,
          1243.320389999996,
          1250.6193600000165,
          1251.3612100000244,
          1253.8715700000068,
          1253.9790400000277,
          1251.4568100000397,
          1256.3065200000224,
          1259.310030000056,
          1257.4641500000237,
          1252.188250000033,
          1252.8670400000474,
          1252.9147400000145,
          1251.5153400000395,
          1245.8646400000318,
          1245.6825999999958,
          1249.0663799999802,
          1241.922689999988,
          1244.926739999989,
          1245.8124900000114,
          1242.4160600000123,
          1244.4111100000298,
          1247.3637499999793,
          1246.5646399999855,
          1231.2892899999847,
          1235.8285200000053,
          1237.9113499999926,
          1236.2852000000098,
          1237.027910000016,
          1239.438160000043,
          1235.5872700000214,
          1232.5050500000257,
          1235.0133100000248,
          1235.905820000016,
          1237.8791100000046,
          1238.7155000000005,
          1237.7035600000297,
          1237.3608200000206,
          1240.0465000000074,
          1246.0847900000244,
          1245.4299200000514,
          1242.6541000000466,
          1232.7296199999964,
          1236.74265000001,
          1242.6031500000304,
          1240.7230500000212,
          1239.0272100000132,
          1236.7744100000234,
          1236.1068700000185,
          1236.9333799999952,
          1237.8730900000216,
          1240.706420000004,
          1248.2068900000183,
          1249.6986800000984,
          1239.7272400000318,
          1243.557540000005,
          1244.2790000000705,
          1254.257100000011,
          1260.273299999957,
          1261.2203299999906,
          1260.2920899998896,
          1258.0591700000105,
          1256.2864900000795,
          1262.2950199999764,
          1278.42951999999,
          1282.4044499998952,
          1286.8383199999744,
          1287.6967499999894,
          1291.5737099999924,
          1284.8553599999902,
          1282.664159999993,
          1284.49590999998,
          1283.3862699999938,
          1285.2748999999728,
          1281.802539999998,
          1281.673919999972,
          1276.1558999999731,
          1270.8137299999637,
          1269.7076899999904,
          1266.37009999998,
          1270.9145099999864,
          1267.0385699999824,
          1270.032009999978,
          1274.33166,
          1276.506469999944,
          1270.8778799999525,
          1264.81406999996,
          1247.959199999945,
          1248.2859699999829,
          1252.1862899999912,
          1248.7119900000007,
          1240.7827099999877,
          1233.728789999985,
          1221.6727099999816,
          1224.3813699999696,
          1228.3869499999516,
          1231.162609999932,
          1233.113269999962,
          1228.3369699999728,
          1227.775679999997,
          1223.2060099999535,
          1224.8734500000007,
          1226.0378699999828,
          1222.3144399999712,
          1217.3419700000115,
          1225.088959999972,
          1228.7186099999967,
          1227.655000000009,
          1226.915850000003,
          1228.736210000012,
          1227.0986799999664,
          1229.5714699999985,
          1226.6096299999483,
          1224.7572999999716,
          1220.7608800000069,
          1221.9879899999978,
          1219.946099999999,
          1213.1814200000072,
          1208.0127000000025,
          1205.010310000003,
          1202.207180000005,
          1204.4414499999975,
          1202.4530399999944,
          1203.6929699999546,
          1206.162210000013,
          1207.486140000011,
          1210.5927600000994,
          1209.8358299998724,
          1206.3861599999896,
          1207.9858699999902,
          1211.2565199999883,
          1207.791500000022
         ],
         "yaxis": "y2"
        }
       ],
       "layout": {
        "height": 600,
        "paper_bgcolor": "white",
        "plot_bgcolor": "white",
        "template": {
         "data": {
          "bar": [
           {
            "error_x": {
             "color": "#2a3f5f"
            },
            "error_y": {
             "color": "#2a3f5f"
            },
            "marker": {
             "line": {
              "color": "#E5ECF6",
              "width": 0.5
             },
             "pattern": {
              "fillmode": "overlay",
              "size": 10,
              "solidity": 0.2
             }
            },
            "type": "bar"
           }
          ],
          "barpolar": [
           {
            "marker": {
             "line": {
              "color": "#E5ECF6",
              "width": 0.5
             },
             "pattern": {
              "fillmode": "overlay",
              "size": 10,
              "solidity": 0.2
             }
            },
            "type": "barpolar"
           }
          ],
          "carpet": [
           {
            "aaxis": {
             "endlinecolor": "#2a3f5f",
             "gridcolor": "white",
             "linecolor": "white",
             "minorgridcolor": "white",
             "startlinecolor": "#2a3f5f"
            },
            "baxis": {
             "endlinecolor": "#2a3f5f",
             "gridcolor": "white",
             "linecolor": "white",
             "minorgridcolor": "white",
             "startlinecolor": "#2a3f5f"
            },
            "type": "carpet"
           }
          ],
          "choropleth": [
           {
            "colorbar": {
             "outlinewidth": 0,
             "ticks": ""
            },
            "type": "choropleth"
           }
          ],
          "contour": [
           {
            "colorbar": {
             "outlinewidth": 0,
             "ticks": ""
            },
            "colorscale": [
             [
              0,
              "#0d0887"
             ],
             [
              0.1111111111111111,
              "#46039f"
             ],
             [
              0.2222222222222222,
              "#7201a8"
             ],
             [
              0.3333333333333333,
              "#9c179e"
             ],
             [
              0.4444444444444444,
              "#bd3786"
             ],
             [
              0.5555555555555556,
              "#d8576b"
             ],
             [
              0.6666666666666666,
              "#ed7953"
             ],
             [
              0.7777777777777778,
              "#fb9f3a"
             ],
             [
              0.8888888888888888,
              "#fdca26"
             ],
             [
              1,
              "#f0f921"
             ]
            ],
            "type": "contour"
           }
          ],
          "contourcarpet": [
           {
            "colorbar": {
             "outlinewidth": 0,
             "ticks": ""
            },
            "type": "contourcarpet"
           }
          ],
          "heatmap": [
           {
            "colorbar": {
             "outlinewidth": 0,
             "ticks": ""
            },
            "colorscale": [
             [
              0,
              "#0d0887"
             ],
             [
              0.1111111111111111,
              "#46039f"
             ],
             [
              0.2222222222222222,
              "#7201a8"
             ],
             [
              0.3333333333333333,
              "#9c179e"
             ],
             [
              0.4444444444444444,
              "#bd3786"
             ],
             [
              0.5555555555555556,
              "#d8576b"
             ],
             [
              0.6666666666666666,
              "#ed7953"
             ],
             [
              0.7777777777777778,
              "#fb9f3a"
             ],
             [
              0.8888888888888888,
              "#fdca26"
             ],
             [
              1,
              "#f0f921"
             ]
            ],
            "type": "heatmap"
           }
          ],
          "heatmapgl": [
           {
            "colorbar": {
             "outlinewidth": 0,
             "ticks": ""
            },
            "colorscale": [
             [
              0,
              "#0d0887"
             ],
             [
              0.1111111111111111,
              "#46039f"
             ],
             [
              0.2222222222222222,
              "#7201a8"
             ],
             [
              0.3333333333333333,
              "#9c179e"
             ],
             [
              0.4444444444444444,
              "#bd3786"
             ],
             [
              0.5555555555555556,
              "#d8576b"
             ],
             [
              0.6666666666666666,
              "#ed7953"
             ],
             [
              0.7777777777777778,
              "#fb9f3a"
             ],
             [
              0.8888888888888888,
              "#fdca26"
             ],
             [
              1,
              "#f0f921"
             ]
            ],
            "type": "heatmapgl"
           }
          ],
          "histogram": [
           {
            "marker": {
             "pattern": {
              "fillmode": "overlay",
              "size": 10,
              "solidity": 0.2
             }
            },
            "type": "histogram"
           }
          ],
          "histogram2d": [
           {
            "colorbar": {
             "outlinewidth": 0,
             "ticks": ""
            },
            "colorscale": [
             [
              0,
              "#0d0887"
             ],
             [
              0.1111111111111111,
              "#46039f"
             ],
             [
              0.2222222222222222,
              "#7201a8"
             ],
             [
              0.3333333333333333,
              "#9c179e"
             ],
             [
              0.4444444444444444,
              "#bd3786"
             ],
             [
              0.5555555555555556,
              "#d8576b"
             ],
             [
              0.6666666666666666,
              "#ed7953"
             ],
             [
              0.7777777777777778,
              "#fb9f3a"
             ],
             [
              0.8888888888888888,
              "#fdca26"
             ],
             [
              1,
              "#f0f921"
             ]
            ],
            "type": "histogram2d"
           }
          ],
          "histogram2dcontour": [
           {
            "colorbar": {
             "outlinewidth": 0,
             "ticks": ""
            },
            "colorscale": [
             [
              0,
              "#0d0887"
             ],
             [
              0.1111111111111111,
              "#46039f"
             ],
             [
              0.2222222222222222,
              "#7201a8"
             ],
             [
              0.3333333333333333,
              "#9c179e"
             ],
             [
              0.4444444444444444,
              "#bd3786"
             ],
             [
              0.5555555555555556,
              "#d8576b"
             ],
             [
              0.6666666666666666,
              "#ed7953"
             ],
             [
              0.7777777777777778,
              "#fb9f3a"
             ],
             [
              0.8888888888888888,
              "#fdca26"
             ],
             [
              1,
              "#f0f921"
             ]
            ],
            "type": "histogram2dcontour"
           }
          ],
          "mesh3d": [
           {
            "colorbar": {
             "outlinewidth": 0,
             "ticks": ""
            },
            "type": "mesh3d"
           }
          ],
          "parcoords": [
           {
            "line": {
             "colorbar": {
              "outlinewidth": 0,
              "ticks": ""
             }
            },
            "type": "parcoords"
           }
          ],
          "pie": [
           {
            "automargin": true,
            "type": "pie"
           }
          ],
          "scatter": [
           {
            "fillpattern": {
             "fillmode": "overlay",
             "size": 10,
             "solidity": 0.2
            },
            "type": "scatter"
           }
          ],
          "scatter3d": [
           {
            "line": {
             "colorbar": {
              "outlinewidth": 0,
              "ticks": ""
             }
            },
            "marker": {
             "colorbar": {
              "outlinewidth": 0,
              "ticks": ""
             }
            },
            "type": "scatter3d"
           }
          ],
          "scattercarpet": [
           {
            "marker": {
             "colorbar": {
              "outlinewidth": 0,
              "ticks": ""
             }
            },
            "type": "scattercarpet"
           }
          ],
          "scattergeo": [
           {
            "marker": {
             "colorbar": {
              "outlinewidth": 0,
              "ticks": ""
             }
            },
            "type": "scattergeo"
           }
          ],
          "scattergl": [
           {
            "marker": {
             "colorbar": {
              "outlinewidth": 0,
              "ticks": ""
             }
            },
            "type": "scattergl"
           }
          ],
          "scattermapbox": [
           {
            "marker": {
             "colorbar": {
              "outlinewidth": 0,
              "ticks": ""
             }
            },
            "type": "scattermapbox"
           }
          ],
          "scatterpolar": [
           {
            "marker": {
             "colorbar": {
              "outlinewidth": 0,
              "ticks": ""
             }
            },
            "type": "scatterpolar"
           }
          ],
          "scatterpolargl": [
           {
            "marker": {
             "colorbar": {
              "outlinewidth": 0,
              "ticks": ""
             }
            },
            "type": "scatterpolargl"
           }
          ],
          "scatterternary": [
           {
            "marker": {
             "colorbar": {
              "outlinewidth": 0,
              "ticks": ""
             }
            },
            "type": "scatterternary"
           }
          ],
          "surface": [
           {
            "colorbar": {
             "outlinewidth": 0,
             "ticks": ""
            },
            "colorscale": [
             [
              0,
              "#0d0887"
             ],
             [
              0.1111111111111111,
              "#46039f"
             ],
             [
              0.2222222222222222,
              "#7201a8"
             ],
             [
              0.3333333333333333,
              "#9c179e"
             ],
             [
              0.4444444444444444,
              "#bd3786"
             ],
             [
              0.5555555555555556,
              "#d8576b"
             ],
             [
              0.6666666666666666,
              "#ed7953"
             ],
             [
              0.7777777777777778,
              "#fb9f3a"
             ],
             [
              0.8888888888888888,
              "#fdca26"
             ],
             [
              1,
              "#f0f921"
             ]
            ],
            "type": "surface"
           }
          ],
          "table": [
           {
            "cells": {
             "fill": {
              "color": "#EBF0F8"
             },
             "line": {
              "color": "white"
             }
            },
            "header": {
             "fill": {
              "color": "#C8D4E3"
             },
             "line": {
              "color": "white"
             }
            },
            "type": "table"
           }
          ]
         },
         "layout": {
          "annotationdefaults": {
           "arrowcolor": "#2a3f5f",
           "arrowhead": 0,
           "arrowwidth": 1
          },
          "autotypenumbers": "strict",
          "coloraxis": {
           "colorbar": {
            "outlinewidth": 0,
            "ticks": ""
           }
          },
          "colorscale": {
           "diverging": [
            [
             0,
             "#8e0152"
            ],
            [
             0.1,
             "#c51b7d"
            ],
            [
             0.2,
             "#de77ae"
            ],
            [
             0.3,
             "#f1b6da"
            ],
            [
             0.4,
             "#fde0ef"
            ],
            [
             0.5,
             "#f7f7f7"
            ],
            [
             0.6,
             "#e6f5d0"
            ],
            [
             0.7,
             "#b8e186"
            ],
            [
             0.8,
             "#7fbc41"
            ],
            [
             0.9,
             "#4d9221"
            ],
            [
             1,
             "#276419"
            ]
           ],
           "sequential": [
            [
             0,
             "#0d0887"
            ],
            [
             0.1111111111111111,
             "#46039f"
            ],
            [
             0.2222222222222222,
             "#7201a8"
            ],
            [
             0.3333333333333333,
             "#9c179e"
            ],
            [
             0.4444444444444444,
             "#bd3786"
            ],
            [
             0.5555555555555556,
             "#d8576b"
            ],
            [
             0.6666666666666666,
             "#ed7953"
            ],
            [
             0.7777777777777778,
             "#fb9f3a"
            ],
            [
             0.8888888888888888,
             "#fdca26"
            ],
            [
             1,
             "#f0f921"
            ]
           ],
           "sequentialminus": [
            [
             0,
             "#0d0887"
            ],
            [
             0.1111111111111111,
             "#46039f"
            ],
            [
             0.2222222222222222,
             "#7201a8"
            ],
            [
             0.3333333333333333,
             "#9c179e"
            ],
            [
             0.4444444444444444,
             "#bd3786"
            ],
            [
             0.5555555555555556,
             "#d8576b"
            ],
            [
             0.6666666666666666,
             "#ed7953"
            ],
            [
             0.7777777777777778,
             "#fb9f3a"
            ],
            [
             0.8888888888888888,
             "#fdca26"
            ],
            [
             1,
             "#f0f921"
            ]
           ]
          },
          "colorway": [
           "#636efa",
           "#EF553B",
           "#00cc96",
           "#ab63fa",
           "#FFA15A",
           "#19d3f3",
           "#FF6692",
           "#B6E880",
           "#FF97FF",
           "#FECB52"
          ],
          "font": {
           "color": "#2a3f5f"
          },
          "geo": {
           "bgcolor": "white",
           "lakecolor": "white",
           "landcolor": "#E5ECF6",
           "showlakes": true,
           "showland": true,
           "subunitcolor": "white"
          },
          "hoverlabel": {
           "align": "left"
          },
          "hovermode": "closest",
          "mapbox": {
           "style": "light"
          },
          "paper_bgcolor": "white",
          "plot_bgcolor": "#E5ECF6",
          "polar": {
           "angularaxis": {
            "gridcolor": "white",
            "linecolor": "white",
            "ticks": ""
           },
           "bgcolor": "#E5ECF6",
           "radialaxis": {
            "gridcolor": "white",
            "linecolor": "white",
            "ticks": ""
           }
          },
          "scene": {
           "xaxis": {
            "backgroundcolor": "#E5ECF6",
            "gridcolor": "white",
            "gridwidth": 2,
            "linecolor": "white",
            "showbackground": true,
            "ticks": "",
            "zerolinecolor": "white"
           },
           "yaxis": {
            "backgroundcolor": "#E5ECF6",
            "gridcolor": "white",
            "gridwidth": 2,
            "linecolor": "white",
            "showbackground": true,
            "ticks": "",
            "zerolinecolor": "white"
           },
           "zaxis": {
            "backgroundcolor": "#E5ECF6",
            "gridcolor": "white",
            "gridwidth": 2,
            "linecolor": "white",
            "showbackground": true,
            "ticks": "",
            "zerolinecolor": "white"
           }
          },
          "shapedefaults": {
           "line": {
            "color": "#2a3f5f"
           }
          },
          "ternary": {
           "aaxis": {
            "gridcolor": "white",
            "linecolor": "white",
            "ticks": ""
           },
           "baxis": {
            "gridcolor": "white",
            "linecolor": "white",
            "ticks": ""
           },
           "bgcolor": "#E5ECF6",
           "caxis": {
            "gridcolor": "white",
            "linecolor": "white",
            "ticks": ""
           }
          },
          "title": {
           "x": 0.05
          },
          "xaxis": {
           "automargin": true,
           "gridcolor": "white",
           "linecolor": "white",
           "ticks": "",
           "title": {
            "standoff": 15
           },
           "zerolinecolor": "white",
           "zerolinewidth": 2
          },
          "yaxis": {
           "automargin": true,
           "gridcolor": "white",
           "linecolor": "white",
           "ticks": "",
           "title": {
            "standoff": 15
           },
           "zerolinecolor": "white",
           "zerolinewidth": 2
          }
         }
        },
        "width": 900,
        "xaxis": {
         "anchor": "y",
         "domain": [
          0,
          1
         ],
         "gridcolor": "lightgray",
         "linecolor": "lightgray",
         "linewidth": 1,
         "matches": "x2",
         "mirror": true,
         "rangeslider": {
          "visible": false
         },
         "showgrid": true,
         "showticklabels": false
        },
        "xaxis2": {
         "anchor": "y2",
         "domain": [
          0,
          1
         ],
         "gridcolor": "lightgray",
         "linecolor": "lightgray",
         "linewidth": 1,
         "mirror": true,
         "showgrid": true
        },
        "yaxis": {
         "anchor": "x",
         "domain": [
          0.37,
          1
         ],
         "gridcolor": "lightgray",
         "linecolor": "gray",
         "linewidth": 1,
         "mirror": true,
         "showgrid": true,
         "showline": true,
         "title": {
          "text": "Price (USD)"
         }
        },
        "yaxis2": {
         "anchor": "x2",
         "domain": [
          0,
          0.27
         ],
         "gridcolor": "lightgray",
         "linecolor": "gray",
         "linewidth": 1,
         "mirror": true,
         "showgrid": true,
         "showline": true,
         "title": {
          "text": "Volume"
         }
        }
       }
      }
     },
     "metadata": {},
     "output_type": "display_data"
    }
   ],
   "source": [
    "plot_candlestick_with_volume(btc_val_subset, 'btc_val_50M')"
   ]
  },
  {
   "cell_type": "code",
   "execution_count": 59,
   "metadata": {},
   "outputs": [
    {
     "data": {
      "application/vnd.plotly.v1+json": {
       "config": {
        "plotlyServerURL": "https://plot.ly"
       },
       "data": [
        {
         "close": [
          45005.88,
          45188.86,
          45220.87,
          45215.88,
          45335.34,
          45375,
          45464.26,
          45276.04,
          45366.85,
          45330.2,
          45072.53,
          44819.19,
          44751,
          44165.9,
          44258.99,
          44168.35,
          43781.3,
          43815.28,
          43837.63,
          43754.57,
          43877.45,
          43845.82,
          43511.33,
          43170.47,
          42894.3,
          43374.97,
          43350.91,
          43294.04,
          43395.57,
          43399.99,
          43380.94,
          43445.33,
          43521.92,
          43457.98,
          43409.73,
          43766.74,
          43554.97,
          43659.98,
          43420.69,
          43331.81,
          43494,
          43657.68,
          43702.95,
          43388.92,
          43567.36,
          43520.07,
          43629.73,
          43444.19,
          43327.46,
          43607.61,
          43615.63,
          43605.96,
          43543.02,
          43654.3,
          43573.45,
          43763.52,
          43700.33,
          43588.73,
          43558.51,
          43298.79,
          43151.75,
          42906.67,
          43750.14,
          43648.01,
          43433.71,
          43004.38,
          42957.57,
          42730.84,
          42798.74,
          42563.36,
          42300.99,
          42252.01,
          42435.02,
          42433.4,
          42180,
          42380,
          42406.82,
          42586.04,
          42440,
          42481.09,
          42463.51,
          42443.11,
          42480.56,
          42445.1,
          42506.35,
          42456.86,
          42460,
          42260.77,
          42445.64,
          42575.67,
          42467.82,
          42511.94,
          42423.18,
          42558.06,
          42543.42,
          42753.97,
          42632.32,
          42767.23,
          42833.03,
          42785.72,
          42740.86,
          42656.7,
          42785.32,
          42633.59,
          42642.54,
          42523.95,
          42530,
          42680.36,
          42590,
          42575.53,
          42698.38,
          42747.47,
          42784.43,
          43103.62,
          43107.6,
          43235.77,
          43101.23,
          42706,
          42111.94,
          42158.85,
          42303.26,
          42159.32,
          41929.34,
          42111.22,
          42259.43,
          42287.6,
          42250,
          42305.75,
          42200,
          41416.22,
          41595.99,
          41067.63,
          41145.46,
          41141.13,
          40803.87,
          40581.51,
          40764.79,
          40459.07,
          40509.98,
          39985.33,
          39838.26,
          39395.29,
          39766.39,
          39530.45,
          39544.31,
          39504.54,
          39490,
          39747.13,
          39921.19,
          40105.78,
          39935.23,
          40183.97,
          40182.03,
          40212.26,
          40149.99,
          40378,
          40618.37,
          40401.03,
          39990.39,
          40179.13,
          40097.23,
          40014.72,
          39667.85,
          39303.1,
          39519.99,
          39693.79,
          39827.96,
          40074.94,
          39936.17,
          39882.9,
          40059.14,
          40076.05,
          40134.51,
          40187.9,
          39958.45,
          40130,
          40162.32,
          40079.99,
          39808.11,
          39722.64,
          39700.01,
          40521.75,
          40642.1,
          41158.18,
          41005.58,
          41043.91,
          41363.01,
          41059.3,
          41241.16,
          41219.72,
          41279.05,
          41147.79,
          41186.23,
          41470.01,
          41419.99,
          41320,
          41290.81,
          41308.44,
          41195.39,
          41271.66,
          41172.72,
          41186.69,
          40946.47,
          40919.99,
          41149.98,
          40605.62,
          40435.04,
          39964.02,
          39951.1,
          39986.83,
          39659,
          39775.82,
          39909.99,
          39970,
          39843.71,
          39942.38,
          39859.99,
          39941,
          40017.2,
          40200.94,
          40103.26,
          40132.73,
          40040,
          40239.43,
          40153.97,
          40112.16,
          40268.24,
          40220,
          40149.99,
          40039.87,
          40450,
          40412.2,
          40383.09,
          40436.01,
          40388.11,
          40313.35,
          40396.69,
          40426,
          40467.48,
          40551.9,
          40560,
          40579.99,
          40522.34,
          40434.12,
          40539.47,
          40456.82,
          40419.52,
          40393.77,
          40369.99,
          40328.79,
          40413.91,
          40416.95,
          40449.11,
          40438.15,
          40493.32,
          40062.68,
          40203.33,
          40153,
          40183.9,
          40210,
          40280,
          40485.28,
          40405.86,
          40378.71,
          40374.13,
          40387.43,
          40166.93,
          40230.86,
          40282.58,
          40364.48,
          40323.16,
          40285.15,
          40390.16,
          40419.82,
          40412.88,
          40464.77,
          40421.72,
          40306.56,
          40359.19,
          40445.3,
          40200.01,
          40101.72,
          40119.99,
          40370.46,
          40263.19,
          40208.14,
          40000,
          39678.12,
          39732.92,
          39752.13,
          39796.91,
          39813.17,
          38819.06,
          38922.21,
          38980.39,
          38919.85,
          38874.87,
          38976.39,
          38923.98,
          38998.54,
          39400.02,
          39326.13,
          39340,
          39254.5,
          39464.46,
          40211.03,
          40646.01,
          40680.68,
          40664.26,
          40801.3,
          40923.74,
          40801.13,
          40880.79,
          40750.05,
          40611,
          40693.79,
          40864.27,
          40660.96,
          40711.6,
          40683.14,
          40725.91,
          40665.4,
          40795.62,
          40687.3,
          40975.11,
          41451.52,
          41565.91,
          41445.87,
          41342.26,
          41345.63,
          41400.55,
          41417.24,
          41293.15,
          41313.07,
          41395.39,
          41493.18,
          41295.37
         ],
         "high": [
          45506.67,
          45365.48,
          45368.29,
          45289.48,
          45375.38,
          45444.83,
          45482.5,
          45507.14,
          45399.28,
          45393.25,
          45453.94,
          45114.27,
          44999.99,
          44965.83,
          44496.97,
          44305.39,
          44274.8,
          43940.38,
          44298.61,
          43973.01,
          44041.1,
          43999,
          43865.27,
          43609.56,
          43559.09,
          43410.16,
          43430,
          43409.96,
          43494.48,
          43465.18,
          43497.63,
          43545.74,
          43553.14,
          43521.93,
          43484.27,
          43834.52,
          43900.99,
          43683.86,
          43781.97,
          43572.81,
          43497.28,
          43695.12,
          43819.99,
          43772.52,
          43600.06,
          43596.3,
          43635.24,
          43750,
          43527.36,
          43647.92,
          43694.15,
          43691.83,
          43659.83,
          43678.2,
          43672.53,
          43780.32,
          43970.62,
          43772.45,
          43621.85,
          43561.37,
          43417.96,
          43193.9,
          43846.15,
          43961.99,
          43714.97,
          43457.18,
          43320.76,
          43192.67,
          42870.7,
          42862.06,
          42660.03,
          42370.06,
          42455.66,
          42466.87,
          42448.16,
          42439.22,
          42560.99,
          42640,
          42601.84,
          42515,
          42509.04,
          42485.44,
          42485.44,
          42540,
          42522.44,
          42519.29,
          42500.2,
          42466.91,
          42522.57,
          42613.8,
          42631.69,
          42583.9,
          42638,
          42584.49,
          42634.88,
          42800,
          42776.62,
          42786.02,
          42896.64,
          42891.91,
          42791.24,
          42799,
          42793.21,
          42796.01,
          42716.75,
          42655.94,
          42563.62,
          42715.84,
          42850,
          42663.68,
          42748.08,
          42776.77,
          42799,
          43310.15,
          43258.83,
          43290,
          43410.3,
          43198.2,
          42740.88,
          42434.51,
          42394.71,
          42414.71,
          42225.77,
          42148.69,
          42283.45,
          42312.75,
          42340.09,
          42350.29,
          42350,
          42202.79,
          41646.55,
          41595.99,
          41246.61,
          41184,
          41220.9,
          40989.99,
          40832.55,
          40896.83,
          40520.45,
          40598.43,
          40269.6,
          39916.45,
          39978.62,
          39840.39,
          39852.95,
          39727.8,
          39550.48,
          39750.01,
          39950,
          40145,
          40186.36,
          40196.39,
          40344.6,
          40245.48,
          40273.24,
          40464,
          40699,
          40627.48,
          40436.31,
          40370,
          40376.8,
          40227.03,
          40056.52,
          39721.7,
          39597.94,
          39750.15,
          39927,
          40289.02,
          40189,
          39936.17,
          40189.27,
          40275,
          40142.6,
          40211.9,
          40228.41,
          40226.07,
          40200.03,
          40212.75,
          40142.11,
          39990,
          39935.3,
          40569.99,
          40957,
          41411,
          41347.69,
          41141.57,
          41374.2,
          41561.31,
          41319.86,
          41337,
          41404.58,
          41340,
          41272.19,
          41500,
          41473.24,
          41450,
          41413.11,
          41343.62,
          41332.7,
          41360,
          41324.93,
          41218.7,
          41225,
          41070.76,
          41186.9,
          41300,
          40659.82,
          40483.66,
          40069,
          40060.05,
          40028.94,
          39847.79,
          39910,
          40000,
          40017.26,
          39946.94,
          40180,
          39978.66,
          40075.35,
          40207.25,
          40266.47,
          40214.59,
          40164.19,
          40449.96,
          40396.59,
          40194.67,
          40399,
          40363.01,
          40258.26,
          40234.81,
          40870.36,
          40578.16,
          40449.23,
          40650.01,
          40472.25,
          40395.5,
          40403.26,
          40465,
          40504.67,
          40602,
          40573.68,
          40709.35,
          40595.02,
          40522.34,
          40563.46,
          40539.47,
          40456.82,
          40450,
          40447.71,
          40414.58,
          40484.7,
          40492.91,
          40472.01,
          40461.73,
          40505.52,
          40577.57,
          40236.01,
          40236.01,
          40197.42,
          40250,
          40394.39,
          40600,
          40699.55,
          40499,
          40413.14,
          40423,
          40387.44,
          40295,
          40340,
          40430,
          40391.71,
          40359.74,
          40424.01,
          40529.79,
          40461.64,
          40485,
          40490.88,
          40595.67,
          40421.15,
          40485.82,
          40476.07,
          40276,
          40160,
          40450,
          40459.52,
          40285.56,
          40340.22,
          40002.97,
          39784.98,
          39828.62,
          39838.45,
          39896.98,
          39847.24,
          38986.2,
          39070.05,
          39068.96,
          39064.97,
          38990.89,
          39138.49,
          39107.99,
          39529.77,
          39620.8,
          39569.92,
          39370,
          39622.15,
          40370.8,
          41116.73,
          40747.02,
          40909.08,
          41099,
          40949.93,
          40972.77,
          41263.43,
          40935.96,
          40764.92,
          40790.85,
          40883.99,
          40877.5,
          40805.69,
          40750,
          40854.82,
          40768.42,
          40815.87,
          41026.89,
          41104,
          41472.34,
          41687.14,
          41760,
          41546.63,
          41370.01,
          41503.76,
          41547.65,
          41417.25,
          41391.24,
          41460.52,
          41539.9,
          41541.23
         ],
         "low": [
          44412,
          44963.13,
          45150,
          45139.93,
          45119,
          45302,
          45251.43,
          45233.59,
          45177.48,
          45205.01,
          45008.02,
          44665.91,
          44670.01,
          44130.12,
          43769.17,
          43705.64,
          43566.01,
          43393.74,
          43177.11,
          43527.09,
          43725.34,
          43792.47,
          43484.71,
          43121,
          42727.35,
          42868.81,
          43120.14,
          43157,
          43210.47,
          43225,
          43300,
          43366.01,
          43421.31,
          43269.5,
          43328.99,
          43302.01,
          43551.74,
          43330.09,
          43352.98,
          43024.86,
          43266.68,
          43472.05,
          43514.01,
          43375.36,
          43376.23,
          43208,
          43466.64,
          43425.22,
          43305.57,
          43310,
          43566.38,
          43550,
          43491.46,
          43476.97,
          43484.28,
          43416.74,
          43650,
          43499.83,
          43500.1,
          43260.76,
          43079.05,
          42751.01,
          42888.8,
          43587.23,
          43395.9,
          42801.26,
          42414,
          42657.5,
          42532.96,
          42450.88,
          42241,
          42107.14,
          42160,
          42294.33,
          42160.63,
          42125.48,
          42341.79,
          42406.01,
          42399.72,
          42364.25,
          42372.54,
          42397.66,
          42322.72,
          42434.36,
          42397.39,
          42445.72,
          42361.01,
          42158.67,
          42183.6,
          42410,
          42454.62,
          42448.11,
          42423.18,
          42390,
          42501.31,
          42488.23,
          42591,
          42597.9,
          42731.1,
          42775.74,
          42706.35,
          42650,
          42645.5,
          42575.4,
          42564.2,
          42489.01,
          42433.49,
          42517.01,
          42525,
          42525.44,
          42541.5,
          42650.02,
          42659.64,
          42784.43,
          43080,
          43075,
          43101.19,
          42654.93,
          41868,
          41980.28,
          41755,
          42153.06,
          41800,
          41828.74,
          42084.56,
          42183.5,
          42153.8,
          42161.45,
          42079.56,
          41392.8,
          41215,
          40968.11,
          40916.01,
          40684.8,
          40716.37,
          40560,
          40485.12,
          40250,
          40238,
          39770.35,
          39500,
          39275.68,
          39200,
          39372.35,
          39357.64,
          39408.16,
          39290,
          39478.73,
          39624.71,
          39870.71,
          39834.98,
          39866.31,
          40108.31,
          40016.09,
          40094.66,
          40105,
          40196.48,
          40154.99,
          39800,
          39959.21,
          39922.98,
          39940.02,
          39632,
          39261.39,
          39254.63,
          39473.91,
          39555.51,
          39819,
          39892.43,
          39588.54,
          39706.19,
          40013.79,
          39931.51,
          40063.51,
          39858.34,
          39910.07,
          40005,
          40029.86,
          39728.59,
          39656.1,
          39648.78,
          39622.87,
          40365,
          40640,
          40938.14,
          40829,
          40990.62,
          41024.49,
          41000,
          41080.01,
          41151.71,
          41075.04,
          41064.35,
          41177.94,
          41347.58,
          41271.08,
          41230.56,
          41242.97,
          41161.12,
          41156.9,
          41165,
          40973.51,
          40941.69,
          40851.5,
          40873.66,
          40516.48,
          40310.41,
          39925.21,
          39772.58,
          39842,
          39626.06,
          39551.94,
          39662.46,
          39861.31,
          39806.25,
          39828.95,
          39766.4,
          39833.87,
          39909.06,
          40000,
          40062.61,
          40081.41,
          39967.72,
          39953.2,
          40100,
          40036.06,
          40087.47,
          40100,
          40106.54,
          40010.2,
          39900,
          40354.54,
          40203.68,
          40356.71,
          40360.14,
          40276,
          40281.35,
          40362.37,
          40341.12,
          40420,
          40468.25,
          40525.67,
          40499.7,
          40410.75,
          40417.29,
          40373.91,
          40367.5,
          40353.54,
          40344.92,
          40277,
          40310.05,
          40390.55,
          40341.83,
          40377,
          40400,
          39991.55,
          40005.78,
          40096.4,
          40106.98,
          40170,
          40185.45,
          40280,
          40392.5,
          40360.11,
          40300.84,
          40326.87,
          40122.05,
          40124.99,
          40226.55,
          40253.1,
          40311.66,
          40234.79,
          40280,
          40390.15,
          40377.77,
          40363.6,
          40366.98,
          40250.02,
          40200,
          40321.92,
          40125.89,
          40050,
          39833.31,
          40087.19,
          40232.62,
          40127,
          39932.66,
          39546.17,
          39580.05,
          39667.63,
          39721.24,
          39743.64,
          38673.18,
          38536.51,
          38883.88,
          38791.73,
          38851.57,
          38799,
          38920.62,
          38923.98,
          38998.54,
          39233.13,
          39302.15,
          39122.78,
          39000,
          39463.21,
          40211.03,
          40421.67,
          40632.51,
          40664.25,
          40710,
          40721.25,
          40792.45,
          40699.09,
          40601,
          40609.3,
          40658.15,
          40649.15,
          40660.96,
          40571,
          40666.9,
          40580,
          40636.74,
          40665.05,
          40662.26,
          40841.65,
          41380.5,
          41371.81,
          41236.55,
          41167.92,
          41312.31,
          41362.02,
          41212.94,
          41260,
          41265.86,
          41395.38,
          41250.26
         ],
         "open": [
          45497.54,
          45005.88,
          45188.87,
          45220.86,
          45215.88,
          45335.34,
          45374.99,
          45464.27,
          45276.04,
          45366.85,
          45330.19,
          45072.54,
          44819.19,
          44751,
          44165.9,
          44258.99,
          44168.36,
          43781.3,
          43815.28,
          43837.64,
          43754.56,
          43877.45,
          43845.81,
          43511.33,
          43170.47,
          42894.3,
          43374.97,
          43350.92,
          43294.04,
          43395.57,
          43399.99,
          43380.94,
          43445.34,
          43521.92,
          43457.98,
          43409.74,
          43766.75,
          43554.97,
          43659.98,
          43420.69,
          43331.82,
          43494,
          43657.68,
          43702.96,
          43388.93,
          43567.35,
          43520.07,
          43629.72,
          43444.2,
          43327.47,
          43607.61,
          43615.63,
          43605.95,
          43543.03,
          43654.3,
          43573.45,
          43763.53,
          43700.33,
          43588.72,
          43558.51,
          43298.79,
          43151.75,
          42906.66,
          43750.15,
          43648.01,
          43433.71,
          43004.37,
          42957.56,
          42730.84,
          42798.75,
          42563.36,
          42300.98,
          42252.02,
          42435.03,
          42433.4,
          42180,
          42380,
          42406.82,
          42586.04,
          42440.01,
          42481.08,
          42463.5,
          42443.11,
          42480.56,
          42445.09,
          42506.34,
          42456.86,
          42459.99,
          42253.02,
          42445.65,
          42575.67,
          42467.82,
          42511.95,
          42423.18,
          42558.06,
          42543.42,
          42753.96,
          42632.31,
          42767.22,
          42833.03,
          42785.72,
          42740.86,
          42656.7,
          42785.33,
          42633.59,
          42642.55,
          42523.94,
          42530,
          42680.35,
          42589.99,
          42575.54,
          42698.38,
          42747.48,
          42784.43,
          43103.61,
          43107.61,
          43235.77,
          43101.23,
          42706.71,
          42111.93,
          42158.85,
          42303.26,
          42159.32,
          41929.33,
          42111.21,
          42259.44,
          42287.61,
          42249.99,
          42305.74,
          42200,
          41416.22,
          41595.98,
          41067.64,
          41145.45,
          41141.13,
          40803.86,
          40581.52,
          40764.79,
          40459.07,
          40509.97,
          39985.34,
          39838.26,
          39395.29,
          39766.39,
          39530.45,
          39544.32,
          39504.54,
          39489.99,
          39747.14,
          39921.18,
          40105.78,
          39935.24,
          40183.97,
          40182.02,
          40212.25,
          40150,
          40378,
          40618.37,
          40401.03,
          39990.38,
          40179.12,
          40097.23,
          40014.71,
          39667.85,
          39303.1,
          39519.99,
          39693.8,
          39827.97,
          40074.95,
          39936.17,
          39882.9,
          40059.15,
          40076.05,
          40134.5,
          40187.89,
          39958.44,
          40129.99,
          40162.32,
          40080,
          39808.1,
          39722.63,
          39700.01,
          40521.75,
          40642.1,
          41158.18,
          41005.59,
          41043.91,
          41363.01,
          41059.31,
          41241.17,
          41219.73,
          41279.04,
          41147.78,
          41186.22,
          41470,
          41420,
          41320,
          41290.81,
          41308.45,
          41195.39,
          41271.66,
          41172.72,
          41186.7,
          40946.47,
          40919.99,
          41149.98,
          40605.63,
          40435.03,
          39964.01,
          39951.11,
          39986.84,
          39658.99,
          39775.81,
          39909.99,
          39969.99,
          39843.71,
          39942.37,
          39859.99,
          39941.01,
          40017.19,
          40200.95,
          40103.25,
          40132.74,
          40040,
          40239.43,
          40153.98,
          40112.17,
          40268.23,
          40220,
          40150,
          40039.87,
          40450,
          40412.21,
          40383.1,
          40436.01,
          40388.11,
          40313.35,
          40396.7,
          40425.99,
          40467.48,
          40551.9,
          40560,
          40579.99,
          40522.34,
          40434.11,
          40539.46,
          40456.82,
          40419.52,
          40393.77,
          40370,
          40328.8,
          40413.91,
          40416.94,
          40449.1,
          40438.16,
          40493.31,
          40062.67,
          40203.33,
          40152.99,
          40183.91,
          40210.01,
          40280,
          40485.28,
          40405.85,
          40378.7,
          40374.13,
          40387.44,
          40166.93,
          40230.87,
          40282.58,
          40364.47,
          40323.15,
          40285.15,
          40390.15,
          40419.82,
          40412.89,
          40464.77,
          40421.72,
          40306.53,
          40359.19,
          40445.3,
          40200,
          40101.72,
          40119.99,
          40370.46,
          40263.19,
          40208.15,
          39999.99,
          39678.11,
          39732.92,
          39752.13,
          39796.91,
          39813.17,
          38819.07,
          38922.21,
          38980.4,
          38919.85,
          38874.87,
          38976.39,
          38923.98,
          38998.54,
          39400.01,
          39326.13,
          39340,
          39254.5,
          39464.46,
          40211.03,
          40646.01,
          40680.68,
          40664.25,
          40801.29,
          40923.75,
          40801.13,
          40880.79,
          40750.05,
          40611.01,
          40693.79,
          40864.27,
          40660.96,
          40711.61,
          40683.13,
          40725.91,
          40665.4,
          40795.61,
          40687.3,
          40975.12,
          41451.52,
          41565.92,
          41445.88,
          41342.25,
          41345.63,
          41400.56,
          41417.23,
          41293.15,
          41313.08,
          41395.38,
          41493.19
         ],
         "showlegend": false,
         "type": "candlestick",
         "x": [
          "2022-04-06T00:00:00",
          "2022-04-06T01:00:00",
          "2022-04-06T02:00:00",
          "2022-04-06T03:00:00",
          "2022-04-06T04:00:00",
          "2022-04-06T05:00:00",
          "2022-04-06T06:00:00",
          "2022-04-06T07:00:00",
          "2022-04-06T08:00:00",
          "2022-04-06T09:00:00",
          "2022-04-06T10:00:00",
          "2022-04-06T11:00:00",
          "2022-04-06T12:00:00",
          "2022-04-06T13:00:00",
          "2022-04-06T14:00:00",
          "2022-04-06T15:00:00",
          "2022-04-06T16:00:00",
          "2022-04-06T17:00:00",
          "2022-04-06T18:00:00",
          "2022-04-06T19:00:00",
          "2022-04-06T20:00:00",
          "2022-04-06T21:00:00",
          "2022-04-06T22:00:00",
          "2022-04-06T23:00:00",
          "2022-04-07T00:00:00",
          "2022-04-07T01:00:00",
          "2022-04-07T02:00:00",
          "2022-04-07T03:00:00",
          "2022-04-07T04:00:00",
          "2022-04-07T05:00:00",
          "2022-04-07T06:00:00",
          "2022-04-07T07:00:00",
          "2022-04-07T08:00:00",
          "2022-04-07T09:00:00",
          "2022-04-07T10:00:00",
          "2022-04-07T11:00:00",
          "2022-04-07T12:00:00",
          "2022-04-07T13:00:00",
          "2022-04-07T14:00:00",
          "2022-04-07T15:00:00",
          "2022-04-07T16:00:00",
          "2022-04-07T17:00:00",
          "2022-04-07T18:00:00",
          "2022-04-07T19:00:00",
          "2022-04-07T20:00:00",
          "2022-04-07T21:00:00",
          "2022-04-07T22:00:00",
          "2022-04-07T23:00:00",
          "2022-04-08T00:00:00",
          "2022-04-08T01:00:00",
          "2022-04-08T02:00:00",
          "2022-04-08T03:00:00",
          "2022-04-08T04:00:00",
          "2022-04-08T05:00:00",
          "2022-04-08T06:00:00",
          "2022-04-08T07:00:00",
          "2022-04-08T08:00:00",
          "2022-04-08T09:00:00",
          "2022-04-08T10:00:00",
          "2022-04-08T11:00:00",
          "2022-04-08T12:00:00",
          "2022-04-08T13:00:00",
          "2022-04-08T14:00:00",
          "2022-04-08T15:00:00",
          "2022-04-08T16:00:00",
          "2022-04-08T17:00:00",
          "2022-04-08T18:00:00",
          "2022-04-08T19:00:00",
          "2022-04-08T20:00:00",
          "2022-04-08T21:00:00",
          "2022-04-08T22:00:00",
          "2022-04-08T23:00:00",
          "2022-04-09T00:00:00",
          "2022-04-09T01:00:00",
          "2022-04-09T02:00:00",
          "2022-04-09T03:00:00",
          "2022-04-09T04:00:00",
          "2022-04-09T05:00:00",
          "2022-04-09T06:00:00",
          "2022-04-09T07:00:00",
          "2022-04-09T08:00:00",
          "2022-04-09T09:00:00",
          "2022-04-09T10:00:00",
          "2022-04-09T11:00:00",
          "2022-04-09T12:00:00",
          "2022-04-09T13:00:00",
          "2022-04-09T14:00:00",
          "2022-04-09T15:00:00",
          "2022-04-09T16:00:00",
          "2022-04-09T17:00:00",
          "2022-04-09T18:00:00",
          "2022-04-09T19:00:00",
          "2022-04-09T20:00:00",
          "2022-04-09T21:00:00",
          "2022-04-09T22:00:00",
          "2022-04-09T23:00:00",
          "2022-04-10T00:00:00",
          "2022-04-10T01:00:00",
          "2022-04-10T02:00:00",
          "2022-04-10T03:00:00",
          "2022-04-10T04:00:00",
          "2022-04-10T05:00:00",
          "2022-04-10T06:00:00",
          "2022-04-10T07:00:00",
          "2022-04-10T08:00:00",
          "2022-04-10T09:00:00",
          "2022-04-10T10:00:00",
          "2022-04-10T11:00:00",
          "2022-04-10T12:00:00",
          "2022-04-10T13:00:00",
          "2022-04-10T14:00:00",
          "2022-04-10T15:00:00",
          "2022-04-10T16:00:00",
          "2022-04-10T17:00:00",
          "2022-04-10T18:00:00",
          "2022-04-10T19:00:00",
          "2022-04-10T20:00:00",
          "2022-04-10T21:00:00",
          "2022-04-10T22:00:00",
          "2022-04-10T23:00:00",
          "2022-04-11T00:00:00",
          "2022-04-11T01:00:00",
          "2022-04-11T02:00:00",
          "2022-04-11T03:00:00",
          "2022-04-11T04:00:00",
          "2022-04-11T05:00:00",
          "2022-04-11T06:00:00",
          "2022-04-11T07:00:00",
          "2022-04-11T08:00:00",
          "2022-04-11T09:00:00",
          "2022-04-11T10:00:00",
          "2022-04-11T11:00:00",
          "2022-04-11T12:00:00",
          "2022-04-11T13:00:00",
          "2022-04-11T14:00:00",
          "2022-04-11T15:00:00",
          "2022-04-11T16:00:00",
          "2022-04-11T17:00:00",
          "2022-04-11T18:00:00",
          "2022-04-11T19:00:00",
          "2022-04-11T20:00:00",
          "2022-04-11T21:00:00",
          "2022-04-11T22:00:00",
          "2022-04-11T23:00:00",
          "2022-04-12T00:00:00",
          "2022-04-12T01:00:00",
          "2022-04-12T02:00:00",
          "2022-04-12T03:00:00",
          "2022-04-12T04:00:00",
          "2022-04-12T05:00:00",
          "2022-04-12T06:00:00",
          "2022-04-12T07:00:00",
          "2022-04-12T08:00:00",
          "2022-04-12T09:00:00",
          "2022-04-12T10:00:00",
          "2022-04-12T11:00:00",
          "2022-04-12T12:00:00",
          "2022-04-12T13:00:00",
          "2022-04-12T14:00:00",
          "2022-04-12T15:00:00",
          "2022-04-12T16:00:00",
          "2022-04-12T17:00:00",
          "2022-04-12T18:00:00",
          "2022-04-12T19:00:00",
          "2022-04-12T20:00:00",
          "2022-04-12T21:00:00",
          "2022-04-12T22:00:00",
          "2022-04-12T23:00:00",
          "2022-04-13T00:00:00",
          "2022-04-13T01:00:00",
          "2022-04-13T02:00:00",
          "2022-04-13T03:00:00",
          "2022-04-13T04:00:00",
          "2022-04-13T05:00:00",
          "2022-04-13T06:00:00",
          "2022-04-13T07:00:00",
          "2022-04-13T08:00:00",
          "2022-04-13T09:00:00",
          "2022-04-13T10:00:00",
          "2022-04-13T11:00:00",
          "2022-04-13T12:00:00",
          "2022-04-13T13:00:00",
          "2022-04-13T14:00:00",
          "2022-04-13T15:00:00",
          "2022-04-13T16:00:00",
          "2022-04-13T17:00:00",
          "2022-04-13T18:00:00",
          "2022-04-13T19:00:00",
          "2022-04-13T20:00:00",
          "2022-04-13T21:00:00",
          "2022-04-13T22:00:00",
          "2022-04-13T23:00:00",
          "2022-04-14T00:00:00",
          "2022-04-14T01:00:00",
          "2022-04-14T02:00:00",
          "2022-04-14T03:00:00",
          "2022-04-14T04:00:00",
          "2022-04-14T05:00:00",
          "2022-04-14T06:00:00",
          "2022-04-14T07:00:00",
          "2022-04-14T08:00:00",
          "2022-04-14T09:00:00",
          "2022-04-14T10:00:00",
          "2022-04-14T11:00:00",
          "2022-04-14T12:00:00",
          "2022-04-14T13:00:00",
          "2022-04-14T14:00:00",
          "2022-04-14T15:00:00",
          "2022-04-14T16:00:00",
          "2022-04-14T17:00:00",
          "2022-04-14T18:00:00",
          "2022-04-14T19:00:00",
          "2022-04-14T20:00:00",
          "2022-04-14T21:00:00",
          "2022-04-14T22:00:00",
          "2022-04-14T23:00:00",
          "2022-04-15T00:00:00",
          "2022-04-15T01:00:00",
          "2022-04-15T02:00:00",
          "2022-04-15T03:00:00",
          "2022-04-15T04:00:00",
          "2022-04-15T05:00:00",
          "2022-04-15T06:00:00",
          "2022-04-15T07:00:00",
          "2022-04-15T08:00:00",
          "2022-04-15T09:00:00",
          "2022-04-15T10:00:00",
          "2022-04-15T11:00:00",
          "2022-04-15T12:00:00",
          "2022-04-15T13:00:00",
          "2022-04-15T14:00:00",
          "2022-04-15T15:00:00",
          "2022-04-15T16:00:00",
          "2022-04-15T17:00:00",
          "2022-04-15T18:00:00",
          "2022-04-15T19:00:00",
          "2022-04-15T20:00:00",
          "2022-04-15T21:00:00",
          "2022-04-15T22:00:00",
          "2022-04-15T23:00:00",
          "2022-04-16T00:00:00",
          "2022-04-16T01:00:00",
          "2022-04-16T02:00:00",
          "2022-04-16T03:00:00",
          "2022-04-16T04:00:00",
          "2022-04-16T05:00:00",
          "2022-04-16T06:00:00",
          "2022-04-16T07:00:00",
          "2022-04-16T08:00:00",
          "2022-04-16T09:00:00",
          "2022-04-16T10:00:00",
          "2022-04-16T11:00:00",
          "2022-04-16T12:00:00",
          "2022-04-16T13:00:00",
          "2022-04-16T14:00:00",
          "2022-04-16T15:00:00",
          "2022-04-16T16:00:00",
          "2022-04-16T17:00:00",
          "2022-04-16T18:00:00",
          "2022-04-16T19:00:00",
          "2022-04-16T20:00:00",
          "2022-04-16T21:00:00",
          "2022-04-16T22:00:00",
          "2022-04-16T23:00:00",
          "2022-04-17T00:00:00",
          "2022-04-17T01:00:00",
          "2022-04-17T02:00:00",
          "2022-04-17T03:00:00",
          "2022-04-17T04:00:00",
          "2022-04-17T05:00:00",
          "2022-04-17T06:00:00",
          "2022-04-17T07:00:00",
          "2022-04-17T08:00:00",
          "2022-04-17T09:00:00",
          "2022-04-17T10:00:00",
          "2022-04-17T11:00:00",
          "2022-04-17T12:00:00",
          "2022-04-17T13:00:00",
          "2022-04-17T14:00:00",
          "2022-04-17T15:00:00",
          "2022-04-17T16:00:00",
          "2022-04-17T17:00:00",
          "2022-04-17T18:00:00",
          "2022-04-17T19:00:00",
          "2022-04-17T20:00:00",
          "2022-04-17T21:00:00",
          "2022-04-17T22:00:00",
          "2022-04-17T23:00:00",
          "2022-04-18T00:00:00",
          "2022-04-18T01:00:00",
          "2022-04-18T02:00:00",
          "2022-04-18T03:00:00",
          "2022-04-18T04:00:00",
          "2022-04-18T05:00:00",
          "2022-04-18T06:00:00",
          "2022-04-18T07:00:00",
          "2022-04-18T08:00:00",
          "2022-04-18T09:00:00",
          "2022-04-18T10:00:00",
          "2022-04-18T11:00:00",
          "2022-04-18T12:00:00",
          "2022-04-18T13:00:00",
          "2022-04-18T14:00:00",
          "2022-04-18T15:00:00",
          "2022-04-18T16:00:00",
          "2022-04-18T17:00:00",
          "2022-04-18T18:00:00",
          "2022-04-18T19:00:00",
          "2022-04-18T20:00:00",
          "2022-04-18T21:00:00",
          "2022-04-18T22:00:00",
          "2022-04-18T23:00:00",
          "2022-04-19T00:00:00",
          "2022-04-19T01:00:00",
          "2022-04-19T02:00:00",
          "2022-04-19T03:00:00",
          "2022-04-19T04:00:00",
          "2022-04-19T05:00:00",
          "2022-04-19T06:00:00",
          "2022-04-19T07:00:00",
          "2022-04-19T08:00:00",
          "2022-04-19T09:00:00",
          "2022-04-19T10:00:00",
          "2022-04-19T11:00:00",
          "2022-04-19T12:00:00",
          "2022-04-19T13:00:00",
          "2022-04-19T14:00:00",
          "2022-04-19T15:00:00",
          "2022-04-19T16:00:00",
          "2022-04-19T17:00:00",
          "2022-04-19T18:00:00",
          "2022-04-19T19:00:00",
          "2022-04-19T20:00:00",
          "2022-04-19T21:00:00",
          "2022-04-19T22:00:00",
          "2022-04-19T23:00:00",
          "2022-04-20T00:00:00"
         ],
         "xaxis": "x",
         "yaxis": "y"
        },
        {
         "marker": {
          "color": "lightsteelblue"
         },
         "showlegend": false,
         "type": "bar",
         "x": [
          "2022-04-06T00:00:00",
          "2022-04-06T01:00:00",
          "2022-04-06T02:00:00",
          "2022-04-06T03:00:00",
          "2022-04-06T04:00:00",
          "2022-04-06T05:00:00",
          "2022-04-06T06:00:00",
          "2022-04-06T07:00:00",
          "2022-04-06T08:00:00",
          "2022-04-06T09:00:00",
          "2022-04-06T10:00:00",
          "2022-04-06T11:00:00",
          "2022-04-06T12:00:00",
          "2022-04-06T13:00:00",
          "2022-04-06T14:00:00",
          "2022-04-06T15:00:00",
          "2022-04-06T16:00:00",
          "2022-04-06T17:00:00",
          "2022-04-06T18:00:00",
          "2022-04-06T19:00:00",
          "2022-04-06T20:00:00",
          "2022-04-06T21:00:00",
          "2022-04-06T22:00:00",
          "2022-04-06T23:00:00",
          "2022-04-07T00:00:00",
          "2022-04-07T01:00:00",
          "2022-04-07T02:00:00",
          "2022-04-07T03:00:00",
          "2022-04-07T04:00:00",
          "2022-04-07T05:00:00",
          "2022-04-07T06:00:00",
          "2022-04-07T07:00:00",
          "2022-04-07T08:00:00",
          "2022-04-07T09:00:00",
          "2022-04-07T10:00:00",
          "2022-04-07T11:00:00",
          "2022-04-07T12:00:00",
          "2022-04-07T13:00:00",
          "2022-04-07T14:00:00",
          "2022-04-07T15:00:00",
          "2022-04-07T16:00:00",
          "2022-04-07T17:00:00",
          "2022-04-07T18:00:00",
          "2022-04-07T19:00:00",
          "2022-04-07T20:00:00",
          "2022-04-07T21:00:00",
          "2022-04-07T22:00:00",
          "2022-04-07T23:00:00",
          "2022-04-08T00:00:00",
          "2022-04-08T01:00:00",
          "2022-04-08T02:00:00",
          "2022-04-08T03:00:00",
          "2022-04-08T04:00:00",
          "2022-04-08T05:00:00",
          "2022-04-08T06:00:00",
          "2022-04-08T07:00:00",
          "2022-04-08T08:00:00",
          "2022-04-08T09:00:00",
          "2022-04-08T10:00:00",
          "2022-04-08T11:00:00",
          "2022-04-08T12:00:00",
          "2022-04-08T13:00:00",
          "2022-04-08T14:00:00",
          "2022-04-08T15:00:00",
          "2022-04-08T16:00:00",
          "2022-04-08T17:00:00",
          "2022-04-08T18:00:00",
          "2022-04-08T19:00:00",
          "2022-04-08T20:00:00",
          "2022-04-08T21:00:00",
          "2022-04-08T22:00:00",
          "2022-04-08T23:00:00",
          "2022-04-09T00:00:00",
          "2022-04-09T01:00:00",
          "2022-04-09T02:00:00",
          "2022-04-09T03:00:00",
          "2022-04-09T04:00:00",
          "2022-04-09T05:00:00",
          "2022-04-09T06:00:00",
          "2022-04-09T07:00:00",
          "2022-04-09T08:00:00",
          "2022-04-09T09:00:00",
          "2022-04-09T10:00:00",
          "2022-04-09T11:00:00",
          "2022-04-09T12:00:00",
          "2022-04-09T13:00:00",
          "2022-04-09T14:00:00",
          "2022-04-09T15:00:00",
          "2022-04-09T16:00:00",
          "2022-04-09T17:00:00",
          "2022-04-09T18:00:00",
          "2022-04-09T19:00:00",
          "2022-04-09T20:00:00",
          "2022-04-09T21:00:00",
          "2022-04-09T22:00:00",
          "2022-04-09T23:00:00",
          "2022-04-10T00:00:00",
          "2022-04-10T01:00:00",
          "2022-04-10T02:00:00",
          "2022-04-10T03:00:00",
          "2022-04-10T04:00:00",
          "2022-04-10T05:00:00",
          "2022-04-10T06:00:00",
          "2022-04-10T07:00:00",
          "2022-04-10T08:00:00",
          "2022-04-10T09:00:00",
          "2022-04-10T10:00:00",
          "2022-04-10T11:00:00",
          "2022-04-10T12:00:00",
          "2022-04-10T13:00:00",
          "2022-04-10T14:00:00",
          "2022-04-10T15:00:00",
          "2022-04-10T16:00:00",
          "2022-04-10T17:00:00",
          "2022-04-10T18:00:00",
          "2022-04-10T19:00:00",
          "2022-04-10T20:00:00",
          "2022-04-10T21:00:00",
          "2022-04-10T22:00:00",
          "2022-04-10T23:00:00",
          "2022-04-11T00:00:00",
          "2022-04-11T01:00:00",
          "2022-04-11T02:00:00",
          "2022-04-11T03:00:00",
          "2022-04-11T04:00:00",
          "2022-04-11T05:00:00",
          "2022-04-11T06:00:00",
          "2022-04-11T07:00:00",
          "2022-04-11T08:00:00",
          "2022-04-11T09:00:00",
          "2022-04-11T10:00:00",
          "2022-04-11T11:00:00",
          "2022-04-11T12:00:00",
          "2022-04-11T13:00:00",
          "2022-04-11T14:00:00",
          "2022-04-11T15:00:00",
          "2022-04-11T16:00:00",
          "2022-04-11T17:00:00",
          "2022-04-11T18:00:00",
          "2022-04-11T19:00:00",
          "2022-04-11T20:00:00",
          "2022-04-11T21:00:00",
          "2022-04-11T22:00:00",
          "2022-04-11T23:00:00",
          "2022-04-12T00:00:00",
          "2022-04-12T01:00:00",
          "2022-04-12T02:00:00",
          "2022-04-12T03:00:00",
          "2022-04-12T04:00:00",
          "2022-04-12T05:00:00",
          "2022-04-12T06:00:00",
          "2022-04-12T07:00:00",
          "2022-04-12T08:00:00",
          "2022-04-12T09:00:00",
          "2022-04-12T10:00:00",
          "2022-04-12T11:00:00",
          "2022-04-12T12:00:00",
          "2022-04-12T13:00:00",
          "2022-04-12T14:00:00",
          "2022-04-12T15:00:00",
          "2022-04-12T16:00:00",
          "2022-04-12T17:00:00",
          "2022-04-12T18:00:00",
          "2022-04-12T19:00:00",
          "2022-04-12T20:00:00",
          "2022-04-12T21:00:00",
          "2022-04-12T22:00:00",
          "2022-04-12T23:00:00",
          "2022-04-13T00:00:00",
          "2022-04-13T01:00:00",
          "2022-04-13T02:00:00",
          "2022-04-13T03:00:00",
          "2022-04-13T04:00:00",
          "2022-04-13T05:00:00",
          "2022-04-13T06:00:00",
          "2022-04-13T07:00:00",
          "2022-04-13T08:00:00",
          "2022-04-13T09:00:00",
          "2022-04-13T10:00:00",
          "2022-04-13T11:00:00",
          "2022-04-13T12:00:00",
          "2022-04-13T13:00:00",
          "2022-04-13T14:00:00",
          "2022-04-13T15:00:00",
          "2022-04-13T16:00:00",
          "2022-04-13T17:00:00",
          "2022-04-13T18:00:00",
          "2022-04-13T19:00:00",
          "2022-04-13T20:00:00",
          "2022-04-13T21:00:00",
          "2022-04-13T22:00:00",
          "2022-04-13T23:00:00",
          "2022-04-14T00:00:00",
          "2022-04-14T01:00:00",
          "2022-04-14T02:00:00",
          "2022-04-14T03:00:00",
          "2022-04-14T04:00:00",
          "2022-04-14T05:00:00",
          "2022-04-14T06:00:00",
          "2022-04-14T07:00:00",
          "2022-04-14T08:00:00",
          "2022-04-14T09:00:00",
          "2022-04-14T10:00:00",
          "2022-04-14T11:00:00",
          "2022-04-14T12:00:00",
          "2022-04-14T13:00:00",
          "2022-04-14T14:00:00",
          "2022-04-14T15:00:00",
          "2022-04-14T16:00:00",
          "2022-04-14T17:00:00",
          "2022-04-14T18:00:00",
          "2022-04-14T19:00:00",
          "2022-04-14T20:00:00",
          "2022-04-14T21:00:00",
          "2022-04-14T22:00:00",
          "2022-04-14T23:00:00",
          "2022-04-15T00:00:00",
          "2022-04-15T01:00:00",
          "2022-04-15T02:00:00",
          "2022-04-15T03:00:00",
          "2022-04-15T04:00:00",
          "2022-04-15T05:00:00",
          "2022-04-15T06:00:00",
          "2022-04-15T07:00:00",
          "2022-04-15T08:00:00",
          "2022-04-15T09:00:00",
          "2022-04-15T10:00:00",
          "2022-04-15T11:00:00",
          "2022-04-15T12:00:00",
          "2022-04-15T13:00:00",
          "2022-04-15T14:00:00",
          "2022-04-15T15:00:00",
          "2022-04-15T16:00:00",
          "2022-04-15T17:00:00",
          "2022-04-15T18:00:00",
          "2022-04-15T19:00:00",
          "2022-04-15T20:00:00",
          "2022-04-15T21:00:00",
          "2022-04-15T22:00:00",
          "2022-04-15T23:00:00",
          "2022-04-16T00:00:00",
          "2022-04-16T01:00:00",
          "2022-04-16T02:00:00",
          "2022-04-16T03:00:00",
          "2022-04-16T04:00:00",
          "2022-04-16T05:00:00",
          "2022-04-16T06:00:00",
          "2022-04-16T07:00:00",
          "2022-04-16T08:00:00",
          "2022-04-16T09:00:00",
          "2022-04-16T10:00:00",
          "2022-04-16T11:00:00",
          "2022-04-16T12:00:00",
          "2022-04-16T13:00:00",
          "2022-04-16T14:00:00",
          "2022-04-16T15:00:00",
          "2022-04-16T16:00:00",
          "2022-04-16T17:00:00",
          "2022-04-16T18:00:00",
          "2022-04-16T19:00:00",
          "2022-04-16T20:00:00",
          "2022-04-16T21:00:00",
          "2022-04-16T22:00:00",
          "2022-04-16T23:00:00",
          "2022-04-17T00:00:00",
          "2022-04-17T01:00:00",
          "2022-04-17T02:00:00",
          "2022-04-17T03:00:00",
          "2022-04-17T04:00:00",
          "2022-04-17T05:00:00",
          "2022-04-17T06:00:00",
          "2022-04-17T07:00:00",
          "2022-04-17T08:00:00",
          "2022-04-17T09:00:00",
          "2022-04-17T10:00:00",
          "2022-04-17T11:00:00",
          "2022-04-17T12:00:00",
          "2022-04-17T13:00:00",
          "2022-04-17T14:00:00",
          "2022-04-17T15:00:00",
          "2022-04-17T16:00:00",
          "2022-04-17T17:00:00",
          "2022-04-17T18:00:00",
          "2022-04-17T19:00:00",
          "2022-04-17T20:00:00",
          "2022-04-17T21:00:00",
          "2022-04-17T22:00:00",
          "2022-04-17T23:00:00",
          "2022-04-18T00:00:00",
          "2022-04-18T01:00:00",
          "2022-04-18T02:00:00",
          "2022-04-18T03:00:00",
          "2022-04-18T04:00:00",
          "2022-04-18T05:00:00",
          "2022-04-18T06:00:00",
          "2022-04-18T07:00:00",
          "2022-04-18T08:00:00",
          "2022-04-18T09:00:00",
          "2022-04-18T10:00:00",
          "2022-04-18T11:00:00",
          "2022-04-18T12:00:00",
          "2022-04-18T13:00:00",
          "2022-04-18T14:00:00",
          "2022-04-18T15:00:00",
          "2022-04-18T16:00:00",
          "2022-04-18T17:00:00",
          "2022-04-18T18:00:00",
          "2022-04-18T19:00:00",
          "2022-04-18T20:00:00",
          "2022-04-18T21:00:00",
          "2022-04-18T22:00:00",
          "2022-04-18T23:00:00",
          "2022-04-19T00:00:00",
          "2022-04-19T01:00:00",
          "2022-04-19T02:00:00",
          "2022-04-19T03:00:00",
          "2022-04-19T04:00:00",
          "2022-04-19T05:00:00",
          "2022-04-19T06:00:00",
          "2022-04-19T07:00:00",
          "2022-04-19T08:00:00",
          "2022-04-19T09:00:00",
          "2022-04-19T10:00:00",
          "2022-04-19T11:00:00",
          "2022-04-19T12:00:00",
          "2022-04-19T13:00:00",
          "2022-04-19T14:00:00",
          "2022-04-19T15:00:00",
          "2022-04-19T16:00:00",
          "2022-04-19T17:00:00",
          "2022-04-19T18:00:00",
          "2022-04-19T19:00:00",
          "2022-04-19T20:00:00",
          "2022-04-19T21:00:00",
          "2022-04-19T22:00:00",
          "2022-04-19T23:00:00",
          "2022-04-20T00:00:00"
         ],
         "xaxis": "x2",
         "y": [
          6445.51922,
          1677.29334,
          848.14718,
          736.20798,
          875.62253,
          735.96483,
          1327.43298,
          1262.25479,
          1214.65814,
          842.65329,
          1997.85052,
          3700.53654,
          2355.35781,
          4798.23749,
          6039.95689,
          3945.39906,
          3986.53099,
          3205.11503,
          6483.66757,
          2766.10858,
          1353.94246,
          977.96036,
          1126.17817,
          2146.73361,
          3738.44955,
          2224.9679,
          1226.51086,
          1255.75246,
          1169.59279,
          1217.55336,
          929.11382,
          1246.42515,
          964.22773,
          1191.87092,
          954.90136,
          2809.47051,
          1631.63551,
          2268.17802,
          2109.61707,
          2804.13397,
          1567.91119,
          1634.74431,
          1635.98052,
          1261.65436,
          714.68054,
          954.30979,
          800.61276,
          1084.24711,
          1004.29322,
          1021.10737,
          772.47903,
          547.4576500000001,
          509.97862,
          659.14366,
          1187.43884,
          1556.4029,
          2334.89149,
          1233.32916,
          887.9580100000001,
          1880.17355,
          1713.44905,
          3636.19827,
          3948.19621,
          2407.37189,
          1490.41591,
          3040.57954,
          4995.30505,
          1959.31305,
          1269.49201,
          997.61688,
          1803.83308,
          1518.61759,
          1403.09674,
          748.41319,
          894.66743,
          1000.62984,
          849.16273,
          721.2542100000001,
          606.86637,
          596.68457,
          594.39467,
          475.82385,
          584.01232,
          580.5026,
          707.57097,
          576.5279,
          892.78165,
          1331.57722,
          1228.98827,
          694.01053,
          436.61166,
          609.0946,
          419.45489,
          425.13616,
          439.09087,
          1075.30723,
          609.62172,
          489.67289,
          507.70146,
          507.09099,
          345.20871,
          471.15811,
          439.85009,
          568.83472,
          513.84297,
          630.29251,
          592.10781,
          614.98094,
          1188.11992,
          563.57179,
          647.81139,
          651.20995,
          745.74316,
          2448.37291,
          863.39192,
          645.97898,
          924.48097,
          1103.88956,
          4409.45383,
          2288.70673,
          2724.82272,
          1029.59676,
          3752.11732,
          1326.16362,
          989.29185,
          830.96408,
          824.20199,
          963.65274,
          1452.29216,
          3808.12893,
          4364.96597,
          4229.29764,
          2739.34023,
          4059.87941,
          2705.43168,
          2062.3939,
          3114.81231,
          3270.42247,
          1441.60443,
          5230.21519,
          4362.21223,
          2737.45528,
          3367.38574,
          2173.79856,
          3026.11925,
          2077.08447,
          1836.21963,
          1654.82549,
          2169.61794,
          2447.21004,
          2016.83778,
          2746.76562,
          2076.09475,
          1472.44762,
          1387.97695,
          1985.98708,
          5896.31434,
          4269.32189,
          3856.304,
          2422.61727,
          2470.46725,
          1921.53762,
          2529.40412,
          3111.24907,
          1716.66943,
          1252.26075,
          1626.56329,
          1781.12213,
          1168.21926,
          1514.99829,
          1295.7161,
          954.46905,
          672.83924,
          763.44194,
          984.30171,
          1293.85167,
          1092.54646,
          918.60258,
          1421.31832,
          1437.29346,
          1843.9893,
          4002.65579,
          4840.88732,
          4436.77629,
          2487.51173,
          2550.19169,
          1420.36184,
          2088.3285,
          1093.07359,
          687.31731,
          1099.34099,
          1274.24011,
          1275.32515,
          1489.01258,
          1016.68136,
          1036.40448,
          975.51404,
          551.62149,
          947.46841,
          934.16859,
          1020.29445,
          1661.27352,
          1601.70113,
          1222.59425,
          1754.23484,
          3760.4247,
          3552.21665,
          3229.43185,
          3049.26909,
          1440.41784,
          1719.77026,
          1463.19751,
          1191.67137,
          629.27941,
          877.56531,
          407.47573,
          1357.42561,
          940.72787,
          642.37189,
          829.28757,
          784.39545,
          719.80807,
          766.7563,
          1858.30014,
          1633.77665,
          774.88876,
          1032.42238,
          870.47033,
          754.45673,
          1166.26078,
          2711.56276,
          1614.52281,
          1206.55006,
          1323.42996,
          598.67288,
          581.56669,
          412.66455,
          387.30679,
          558.3651,
          500.36726,
          548.17832,
          656.88441,
          502.06116,
          563.82673,
          518.75393,
          531.50506,
          402.69155,
          467.82541,
          443.87433,
          825.48297,
          712.24734,
          686.41342,
          756.47976,
          579.16652,
          497.09589,
          2329.14942,
          763.54151,
          447.04961,
          305.51699,
          442.46418,
          415.06685,
          703.25763,
          1271.72769,
          435.1865,
          505.34015,
          240.24556,
          693.66937,
          434.99368,
          291.55063,
          325.65266,
          358.55481,
          337.17292,
          573.226,
          688.77151,
          396.17757,
          502.42203,
          437.96495,
          1647.94177,
          804.50541,
          645.51978,
          996.43042,
          926.98236,
          1660.56701,
          1028.90747,
          734.27847,
          587.11214,
          1788.05433,
          3382.45159,
          1597.81786,
          936.15216,
          836.6054,
          694.52326,
          5910.36415,
          2664.91735,
          1252.17316,
          1801.61014,
          1140.00086,
          1362.37489,
          1290.77413,
          1136.99587,
          2598.94732,
          3524.72302,
          2647.31019,
          1857.04882,
          2649.34546,
          6018.08022,
          6382.58595,
          2392.74189,
          1637.34137,
          1731.3162,
          976.57394,
          1203.17214,
          2760.44917,
          829.5274900000001,
          943.03519,
          1045.17887,
          894.52211,
          644.4931,
          696.79506,
          1022.86614,
          939.91756,
          1032.06058,
          1102.04205,
          1361.26984,
          1843.39091,
          4784.33766,
          3945.51147,
          2627.42342,
          2102.87183,
          1420.25709,
          1132.24277,
          1340.95499,
          1157.40014,
          609.70504,
          702.11,
          850.49595,
          1226.31947
         ],
         "yaxis": "y2"
        }
       ],
       "layout": {
        "height": 600,
        "paper_bgcolor": "white",
        "plot_bgcolor": "white",
        "template": {
         "data": {
          "bar": [
           {
            "error_x": {
             "color": "#2a3f5f"
            },
            "error_y": {
             "color": "#2a3f5f"
            },
            "marker": {
             "line": {
              "color": "#E5ECF6",
              "width": 0.5
             },
             "pattern": {
              "fillmode": "overlay",
              "size": 10,
              "solidity": 0.2
             }
            },
            "type": "bar"
           }
          ],
          "barpolar": [
           {
            "marker": {
             "line": {
              "color": "#E5ECF6",
              "width": 0.5
             },
             "pattern": {
              "fillmode": "overlay",
              "size": 10,
              "solidity": 0.2
             }
            },
            "type": "barpolar"
           }
          ],
          "carpet": [
           {
            "aaxis": {
             "endlinecolor": "#2a3f5f",
             "gridcolor": "white",
             "linecolor": "white",
             "minorgridcolor": "white",
             "startlinecolor": "#2a3f5f"
            },
            "baxis": {
             "endlinecolor": "#2a3f5f",
             "gridcolor": "white",
             "linecolor": "white",
             "minorgridcolor": "white",
             "startlinecolor": "#2a3f5f"
            },
            "type": "carpet"
           }
          ],
          "choropleth": [
           {
            "colorbar": {
             "outlinewidth": 0,
             "ticks": ""
            },
            "type": "choropleth"
           }
          ],
          "contour": [
           {
            "colorbar": {
             "outlinewidth": 0,
             "ticks": ""
            },
            "colorscale": [
             [
              0,
              "#0d0887"
             ],
             [
              0.1111111111111111,
              "#46039f"
             ],
             [
              0.2222222222222222,
              "#7201a8"
             ],
             [
              0.3333333333333333,
              "#9c179e"
             ],
             [
              0.4444444444444444,
              "#bd3786"
             ],
             [
              0.5555555555555556,
              "#d8576b"
             ],
             [
              0.6666666666666666,
              "#ed7953"
             ],
             [
              0.7777777777777778,
              "#fb9f3a"
             ],
             [
              0.8888888888888888,
              "#fdca26"
             ],
             [
              1,
              "#f0f921"
             ]
            ],
            "type": "contour"
           }
          ],
          "contourcarpet": [
           {
            "colorbar": {
             "outlinewidth": 0,
             "ticks": ""
            },
            "type": "contourcarpet"
           }
          ],
          "heatmap": [
           {
            "colorbar": {
             "outlinewidth": 0,
             "ticks": ""
            },
            "colorscale": [
             [
              0,
              "#0d0887"
             ],
             [
              0.1111111111111111,
              "#46039f"
             ],
             [
              0.2222222222222222,
              "#7201a8"
             ],
             [
              0.3333333333333333,
              "#9c179e"
             ],
             [
              0.4444444444444444,
              "#bd3786"
             ],
             [
              0.5555555555555556,
              "#d8576b"
             ],
             [
              0.6666666666666666,
              "#ed7953"
             ],
             [
              0.7777777777777778,
              "#fb9f3a"
             ],
             [
              0.8888888888888888,
              "#fdca26"
             ],
             [
              1,
              "#f0f921"
             ]
            ],
            "type": "heatmap"
           }
          ],
          "heatmapgl": [
           {
            "colorbar": {
             "outlinewidth": 0,
             "ticks": ""
            },
            "colorscale": [
             [
              0,
              "#0d0887"
             ],
             [
              0.1111111111111111,
              "#46039f"
             ],
             [
              0.2222222222222222,
              "#7201a8"
             ],
             [
              0.3333333333333333,
              "#9c179e"
             ],
             [
              0.4444444444444444,
              "#bd3786"
             ],
             [
              0.5555555555555556,
              "#d8576b"
             ],
             [
              0.6666666666666666,
              "#ed7953"
             ],
             [
              0.7777777777777778,
              "#fb9f3a"
             ],
             [
              0.8888888888888888,
              "#fdca26"
             ],
             [
              1,
              "#f0f921"
             ]
            ],
            "type": "heatmapgl"
           }
          ],
          "histogram": [
           {
            "marker": {
             "pattern": {
              "fillmode": "overlay",
              "size": 10,
              "solidity": 0.2
             }
            },
            "type": "histogram"
           }
          ],
          "histogram2d": [
           {
            "colorbar": {
             "outlinewidth": 0,
             "ticks": ""
            },
            "colorscale": [
             [
              0,
              "#0d0887"
             ],
             [
              0.1111111111111111,
              "#46039f"
             ],
             [
              0.2222222222222222,
              "#7201a8"
             ],
             [
              0.3333333333333333,
              "#9c179e"
             ],
             [
              0.4444444444444444,
              "#bd3786"
             ],
             [
              0.5555555555555556,
              "#d8576b"
             ],
             [
              0.6666666666666666,
              "#ed7953"
             ],
             [
              0.7777777777777778,
              "#fb9f3a"
             ],
             [
              0.8888888888888888,
              "#fdca26"
             ],
             [
              1,
              "#f0f921"
             ]
            ],
            "type": "histogram2d"
           }
          ],
          "histogram2dcontour": [
           {
            "colorbar": {
             "outlinewidth": 0,
             "ticks": ""
            },
            "colorscale": [
             [
              0,
              "#0d0887"
             ],
             [
              0.1111111111111111,
              "#46039f"
             ],
             [
              0.2222222222222222,
              "#7201a8"
             ],
             [
              0.3333333333333333,
              "#9c179e"
             ],
             [
              0.4444444444444444,
              "#bd3786"
             ],
             [
              0.5555555555555556,
              "#d8576b"
             ],
             [
              0.6666666666666666,
              "#ed7953"
             ],
             [
              0.7777777777777778,
              "#fb9f3a"
             ],
             [
              0.8888888888888888,
              "#fdca26"
             ],
             [
              1,
              "#f0f921"
             ]
            ],
            "type": "histogram2dcontour"
           }
          ],
          "mesh3d": [
           {
            "colorbar": {
             "outlinewidth": 0,
             "ticks": ""
            },
            "type": "mesh3d"
           }
          ],
          "parcoords": [
           {
            "line": {
             "colorbar": {
              "outlinewidth": 0,
              "ticks": ""
             }
            },
            "type": "parcoords"
           }
          ],
          "pie": [
           {
            "automargin": true,
            "type": "pie"
           }
          ],
          "scatter": [
           {
            "fillpattern": {
             "fillmode": "overlay",
             "size": 10,
             "solidity": 0.2
            },
            "type": "scatter"
           }
          ],
          "scatter3d": [
           {
            "line": {
             "colorbar": {
              "outlinewidth": 0,
              "ticks": ""
             }
            },
            "marker": {
             "colorbar": {
              "outlinewidth": 0,
              "ticks": ""
             }
            },
            "type": "scatter3d"
           }
          ],
          "scattercarpet": [
           {
            "marker": {
             "colorbar": {
              "outlinewidth": 0,
              "ticks": ""
             }
            },
            "type": "scattercarpet"
           }
          ],
          "scattergeo": [
           {
            "marker": {
             "colorbar": {
              "outlinewidth": 0,
              "ticks": ""
             }
            },
            "type": "scattergeo"
           }
          ],
          "scattergl": [
           {
            "marker": {
             "colorbar": {
              "outlinewidth": 0,
              "ticks": ""
             }
            },
            "type": "scattergl"
           }
          ],
          "scattermapbox": [
           {
            "marker": {
             "colorbar": {
              "outlinewidth": 0,
              "ticks": ""
             }
            },
            "type": "scattermapbox"
           }
          ],
          "scatterpolar": [
           {
            "marker": {
             "colorbar": {
              "outlinewidth": 0,
              "ticks": ""
             }
            },
            "type": "scatterpolar"
           }
          ],
          "scatterpolargl": [
           {
            "marker": {
             "colorbar": {
              "outlinewidth": 0,
              "ticks": ""
             }
            },
            "type": "scatterpolargl"
           }
          ],
          "scatterternary": [
           {
            "marker": {
             "colorbar": {
              "outlinewidth": 0,
              "ticks": ""
             }
            },
            "type": "scatterternary"
           }
          ],
          "surface": [
           {
            "colorbar": {
             "outlinewidth": 0,
             "ticks": ""
            },
            "colorscale": [
             [
              0,
              "#0d0887"
             ],
             [
              0.1111111111111111,
              "#46039f"
             ],
             [
              0.2222222222222222,
              "#7201a8"
             ],
             [
              0.3333333333333333,
              "#9c179e"
             ],
             [
              0.4444444444444444,
              "#bd3786"
             ],
             [
              0.5555555555555556,
              "#d8576b"
             ],
             [
              0.6666666666666666,
              "#ed7953"
             ],
             [
              0.7777777777777778,
              "#fb9f3a"
             ],
             [
              0.8888888888888888,
              "#fdca26"
             ],
             [
              1,
              "#f0f921"
             ]
            ],
            "type": "surface"
           }
          ],
          "table": [
           {
            "cells": {
             "fill": {
              "color": "#EBF0F8"
             },
             "line": {
              "color": "white"
             }
            },
            "header": {
             "fill": {
              "color": "#C8D4E3"
             },
             "line": {
              "color": "white"
             }
            },
            "type": "table"
           }
          ]
         },
         "layout": {
          "annotationdefaults": {
           "arrowcolor": "#2a3f5f",
           "arrowhead": 0,
           "arrowwidth": 1
          },
          "autotypenumbers": "strict",
          "coloraxis": {
           "colorbar": {
            "outlinewidth": 0,
            "ticks": ""
           }
          },
          "colorscale": {
           "diverging": [
            [
             0,
             "#8e0152"
            ],
            [
             0.1,
             "#c51b7d"
            ],
            [
             0.2,
             "#de77ae"
            ],
            [
             0.3,
             "#f1b6da"
            ],
            [
             0.4,
             "#fde0ef"
            ],
            [
             0.5,
             "#f7f7f7"
            ],
            [
             0.6,
             "#e6f5d0"
            ],
            [
             0.7,
             "#b8e186"
            ],
            [
             0.8,
             "#7fbc41"
            ],
            [
             0.9,
             "#4d9221"
            ],
            [
             1,
             "#276419"
            ]
           ],
           "sequential": [
            [
             0,
             "#0d0887"
            ],
            [
             0.1111111111111111,
             "#46039f"
            ],
            [
             0.2222222222222222,
             "#7201a8"
            ],
            [
             0.3333333333333333,
             "#9c179e"
            ],
            [
             0.4444444444444444,
             "#bd3786"
            ],
            [
             0.5555555555555556,
             "#d8576b"
            ],
            [
             0.6666666666666666,
             "#ed7953"
            ],
            [
             0.7777777777777778,
             "#fb9f3a"
            ],
            [
             0.8888888888888888,
             "#fdca26"
            ],
            [
             1,
             "#f0f921"
            ]
           ],
           "sequentialminus": [
            [
             0,
             "#0d0887"
            ],
            [
             0.1111111111111111,
             "#46039f"
            ],
            [
             0.2222222222222222,
             "#7201a8"
            ],
            [
             0.3333333333333333,
             "#9c179e"
            ],
            [
             0.4444444444444444,
             "#bd3786"
            ],
            [
             0.5555555555555556,
             "#d8576b"
            ],
            [
             0.6666666666666666,
             "#ed7953"
            ],
            [
             0.7777777777777778,
             "#fb9f3a"
            ],
            [
             0.8888888888888888,
             "#fdca26"
            ],
            [
             1,
             "#f0f921"
            ]
           ]
          },
          "colorway": [
           "#636efa",
           "#EF553B",
           "#00cc96",
           "#ab63fa",
           "#FFA15A",
           "#19d3f3",
           "#FF6692",
           "#B6E880",
           "#FF97FF",
           "#FECB52"
          ],
          "font": {
           "color": "#2a3f5f"
          },
          "geo": {
           "bgcolor": "white",
           "lakecolor": "white",
           "landcolor": "#E5ECF6",
           "showlakes": true,
           "showland": true,
           "subunitcolor": "white"
          },
          "hoverlabel": {
           "align": "left"
          },
          "hovermode": "closest",
          "mapbox": {
           "style": "light"
          },
          "paper_bgcolor": "white",
          "plot_bgcolor": "#E5ECF6",
          "polar": {
           "angularaxis": {
            "gridcolor": "white",
            "linecolor": "white",
            "ticks": ""
           },
           "bgcolor": "#E5ECF6",
           "radialaxis": {
            "gridcolor": "white",
            "linecolor": "white",
            "ticks": ""
           }
          },
          "scene": {
           "xaxis": {
            "backgroundcolor": "#E5ECF6",
            "gridcolor": "white",
            "gridwidth": 2,
            "linecolor": "white",
            "showbackground": true,
            "ticks": "",
            "zerolinecolor": "white"
           },
           "yaxis": {
            "backgroundcolor": "#E5ECF6",
            "gridcolor": "white",
            "gridwidth": 2,
            "linecolor": "white",
            "showbackground": true,
            "ticks": "",
            "zerolinecolor": "white"
           },
           "zaxis": {
            "backgroundcolor": "#E5ECF6",
            "gridcolor": "white",
            "gridwidth": 2,
            "linecolor": "white",
            "showbackground": true,
            "ticks": "",
            "zerolinecolor": "white"
           }
          },
          "shapedefaults": {
           "line": {
            "color": "#2a3f5f"
           }
          },
          "ternary": {
           "aaxis": {
            "gridcolor": "white",
            "linecolor": "white",
            "ticks": ""
           },
           "baxis": {
            "gridcolor": "white",
            "linecolor": "white",
            "ticks": ""
           },
           "bgcolor": "#E5ECF6",
           "caxis": {
            "gridcolor": "white",
            "linecolor": "white",
            "ticks": ""
           }
          },
          "title": {
           "x": 0.05
          },
          "xaxis": {
           "automargin": true,
           "gridcolor": "white",
           "linecolor": "white",
           "ticks": "",
           "title": {
            "standoff": 15
           },
           "zerolinecolor": "white",
           "zerolinewidth": 2
          },
          "yaxis": {
           "automargin": true,
           "gridcolor": "white",
           "linecolor": "white",
           "ticks": "",
           "title": {
            "standoff": 15
           },
           "zerolinecolor": "white",
           "zerolinewidth": 2
          }
         }
        },
        "width": 900,
        "xaxis": {
         "anchor": "y",
         "domain": [
          0,
          1
         ],
         "gridcolor": "lightgray",
         "linecolor": "lightgray",
         "linewidth": 1,
         "matches": "x2",
         "mirror": true,
         "rangeslider": {
          "visible": false
         },
         "showgrid": true,
         "showticklabels": false
        },
        "xaxis2": {
         "anchor": "y2",
         "domain": [
          0,
          1
         ],
         "gridcolor": "lightgray",
         "linecolor": "lightgray",
         "linewidth": 1,
         "mirror": true,
         "showgrid": true
        },
        "yaxis": {
         "anchor": "x",
         "domain": [
          0.37,
          1
         ],
         "gridcolor": "lightgray",
         "linecolor": "gray",
         "linewidth": 1,
         "showgrid": true,
         "showline": false,
         "title": {
          "text": "Price (USD)"
         }
        },
        "yaxis2": {
         "anchor": "x2",
         "domain": [
          0,
          0.27
         ],
         "gridcolor": "lightgray",
         "linecolor": "gray",
         "linewidth": 1,
         "showgrid": true,
         "showline": false,
         "title": {
          "text": "Volume"
         }
        }
       }
      }
     },
     "metadata": {},
     "output_type": "display_data"
    }
   ],
   "source": [
    "fig = make_subplots(rows=2,\n",
    "                    cols=1,\n",
    "                    shared_xaxes=True,\n",
    "                    vertical_spacing=0.1,\n",
    "                    # subplot_titles=('OHLC', 'Volume'),\n",
    "                    row_width=[0.3, 0.7])\n",
    "\n",
    "# candlestick\n",
    "fig.add_trace(\n",
    "    go.Candlestick(\n",
    "        x=btc_60_min_subset.datetime,\n",
    "        open=btc_60_min_subset.open,\n",
    "        high=btc_60_min_subset.high,\n",
    "        low=btc_60_min_subset.low,\n",
    "        close=btc_60_min_subset.close,\n",
    "        showlegend=False),\n",
    "    row=1,\n",
    "    col=1\n",
    ")\n",
    "\n",
    "# volume\n",
    "fig.add_trace(\n",
    "    go.Bar(x=btc_60_min_subset.datetime,\n",
    "           y=btc_60_min_subset.volume,\n",
    "           showlegend=False),\n",
    "    row=2,\n",
    "    col=1\n",
    ")\n",
    "fig.update_traces(marker_color='lightsteelblue', row=2, col=1)\n",
    "\n",
    "fig.update_yaxes(showline=False,\n",
    "         linewidth=1,\n",
    "         linecolor='gray',\n",
    "         showgrid=True,\n",
    "         gridcolor='lightgray')\n",
    "fig.update_xaxes(\n",
    "            linewidth=1,\n",
    "            linecolor='lightgray',\n",
    "            mirror=True,\n",
    "            showgrid=True,\n",
    "         gridcolor='lightgray')\n",
    "\n",
    "fig.update_yaxes(title_text=\"Price (USD)\", row=1, col=1)\n",
    "fig.update_yaxes(title_text=\"Volume\", row=2, col=1)\n",
    "\n",
    "fig.update_layout(# title=\"BTCUSDT: 60-minute OHLCV\",\n",
    "                  paper_bgcolor='white',\n",
    "                  plot_bgcolor='white',\n",
    "                  width=900,\n",
    "                  height=600)\n",
    "\n",
    "\n",
    "# hide the slide bar\n",
    "fig.update(layout_xaxis_rangeslider_visible=False)\n",
    "pio.write_image(fig, 'btc_60min.png',scale=3, width=2000, height=800)\n",
    "fig.show()"
   ]
  },
  {
   "cell_type": "code",
   "execution_count": null,
   "metadata": {},
   "outputs": [],
   "source": []
  },
  {
   "cell_type": "code",
   "execution_count": 15,
   "metadata": {},
   "outputs": [
    {
     "data": {
      "application/vnd.plotly.v1+json": {
       "config": {
        "plotlyServerURL": "https://plot.ly"
       },
       "data": [
        {
         "close": [
          45423.13,
          44908.51,
          45352,
          45389.98,
          44675.15,
          44771.55,
          44033,
          44205.21,
          43900.05,
          43714.31,
          43453.61,
          43783.6,
          43355.46,
          42974.71,
          43422.2,
          43386.19,
          43888.65,
          43388.14,
          43425.59,
          43554.03,
          43576.82,
          43555.21,
          43442.95,
          42911.59,
          43357.68,
          43376.87,
          42601.01,
          42800,
          42225.84,
          42512.45,
          42496.45,
          42609.39,
          42829.8,
          42850,
          43194.3,
          42650,
          42284.99,
          42152.83,
          42106.83,
          42219.39,
          41295.26,
          41137.99,
          41177.3,
          40952.56,
          40692.83,
          40349.99,
          39814.67,
          39993.63,
          39377.72,
          39610.92,
          39507.91,
          39749.16,
          39924.48,
          40100,
          40388.89,
          40615.65,
          40337.2,
          40284.12,
          39995.17,
          39570.01,
          39718.73,
          39758.99,
          39950,
          39951.74,
          40260.03,
          40591.98,
          41330.1,
          41046.28,
          41169.13,
          41185.28,
          41280.87,
          41212.62,
          41197.51,
          40464.46,
          39932.03,
          39888.25,
          39882.37,
          40146.47,
          40147.28,
          40044.55,
          40316.18,
          40500.85,
          40303,
          40112.05,
          40405.86,
          40427.26,
          40303.69,
          40176.05,
          39693,
          39641.52,
          38880.42,
          38958.45,
          38951.91,
          39489.62,
          39350.49,
          39762.61,
          40289.76,
          40791.84,
          40840,
          40897.94,
          40660.9,
          40667.79,
          40914.53,
          41480,
          41491.53,
          41363.76,
          41439.57
         ],
         "high": [
          46107.58,
          45496.27,
          45368.29,
          45507.14,
          45453.94,
          45063.94,
          44807,
          44496.97,
          44274.8,
          43929.91,
          44298.61,
          43973.01,
          44041.1,
          43559.09,
          43430,
          43553.14,
          43900.99,
          43888.65,
          43572.81,
          43819.99,
          43750,
          43694.15,
          43970.62,
          43516.7,
          43663.75,
          43961.99,
          43416.85,
          43320.76,
          42870.7,
          42514.51,
          42640,
          42613.8,
          42896.64,
          42891.91,
          43197.23,
          43410.3,
          42656.81,
          42434.51,
          42225.77,
          42350.29,
          42236.3,
          41646.55,
          41299.97,
          41223.89,
          40989.99,
          40896.83,
          40598.43,
          40087.85,
          40269.6,
          39978.62,
          39852.95,
          39901.89,
          40186.36,
          40344.6,
          40464,
          40699,
          40629.87,
          40379.25,
          40376.8,
          40056.52,
          39839.3,
          40289.02,
          40275,
          40226.07,
          40350,
          40957,
          41411,
          41347.69,
          41561.31,
          41404.58,
          41500,
          41360,
          41285.23,
          41300,
          40659.82,
          40069,
          40017.26,
          40266.47,
          40449.96,
          40399,
          40870.36,
          40650.01,
          40709.35,
          40577.57,
          40699.55,
          40529.79,
          40595.67,
          40459.52,
          40340.22,
          39896.98,
          39670,
          39070.05,
          39138.49,
          39529.77,
          39620.8,
          39799.8,
          40370.8,
          41116.73,
          40909.08,
          41099,
          41263.43,
          40883.99,
          41104,
          41510.35,
          41760,
          41547.25,
          41547.65
         ],
         "low": [
          45353.81,
          44412,
          44760.28,
          45177.48,
          44674.85,
          44665.91,
          44004.13,
          43769.17,
          43705.64,
          43393.74,
          43177.11,
          43432.53,
          43227.61,
          42727.35,
          42932.47,
          43225,
          43269.5,
          43330.09,
          43024.86,
          43375.36,
          43208,
          43416.74,
          43442.95,
          42882.28,
          42751.01,
          43354.43,
          42414,
          42533.82,
          42107.14,
          42116.31,
          42322.72,
          42158.67,
          42390,
          42433.49,
          42525,
          42559.47,
          41868,
          41755,
          41800,
          42079.56,
          41234,
          41111.01,
          40916.01,
          40684.8,
          40501,
          40250,
          39803.1,
          39500,
          39200,
          39372.35,
          39357.64,
          39290,
          39706.69,
          39866.31,
          40016.09,
          40196.48,
          40154.99,
          39800,
          39922.98,
          39393.5,
          39254.63,
          39555.51,
          39706.19,
          39728.59,
          39622.87,
          40228.59,
          40365,
          40829,
          40877.61,
          41064.35,
          41176.75,
          40973.51,
          40851.5,
          40310.41,
          39886.14,
          39772.58,
          39551.94,
          39766.4,
          39953.2,
          40010.2,
          39900,
          40276,
          40277,
          40112.05,
          39991.55,
          40122.05,
          40200,
          39833.31,
          39546.17,
          39580.05,
          38673.18,
          38536.51,
          38791.73,
          38951.92,
          39233.13,
          39000,
          39740.66,
          40200,
          40421.67,
          40632.51,
          40601,
          40571,
          40611.76,
          40841.65,
          41450.46,
          41167.92,
          41212.94
         ],
         "open": [
          45975.53,
          45420.62,
          44908.5,
          45352,
          45389.98,
          44675.15,
          44771.58,
          44033,
          44205.2,
          43900.05,
          43713.92,
          43453.62,
          43783.6,
          43355.46,
          42974.71,
          43422.46,
          43386.2,
          43888.65,
          43388.14,
          43428,
          43554.03,
          43576.83,
          43555.21,
          43442.96,
          42911.59,
          43357.68,
          43376.87,
          42601.01,
          42800,
          42225.84,
          42512.96,
          42496.45,
          42609.39,
          42829.8,
          42849.99,
          43194.3,
          42649.93,
          42284.99,
          42152.83,
          42106.82,
          42219.36,
          41295.26,
          41137.99,
          41178.37,
          40952.56,
          40692.83,
          40349.99,
          39814.67,
          39993.63,
          39377.72,
          39611.47,
          39507.91,
          39748.97,
          39923.9,
          40100,
          40388.89,
          40615.65,
          40337.2,
          40284.12,
          39995.17,
          39570.01,
          39718.73,
          39758.99,
          39950,
          39951.75,
          40259.97,
          40591.98,
          41328.16,
          41046.28,
          41169,
          41185.28,
          41280.87,
          41212.62,
          41197.51,
          40464.07,
          39931.92,
          39888.25,
          39882.37,
          40146.29,
          40147.28,
          40044.54,
          40316.16,
          40501.03,
          40303,
          40112,
          40405.86,
          40427.23,
          40303.69,
          40176.06,
          39693,
          39641.52,
          38880.42,
          38958.46,
          38951.92,
          39489.62,
          39350.49,
          39762.62,
          40289.77,
          40790.82,
          40840.77,
          40899.99,
          40660.89,
          40667.91,
          40914.43,
          41480,
          41491.53,
          41363.75
         ],
         "showlegend": false,
         "type": "candlestick",
         "x": [
          "2022-04-06T00:01:02.140000",
          "2022-04-06T00:30:45.929000",
          "2022-04-06T04:19:38.633000",
          "2022-04-06T08:59:38.487000",
          "2022-04-06T11:28:52.444000",
          "2022-04-06T13:38:21.562000",
          "2022-04-06T14:04:45.740000",
          "2022-04-06T15:04:46.087000",
          "2022-04-06T16:25:36.228000",
          "2022-04-06T17:31:46.751000",
          "2022-04-06T18:30:29.490000",
          "2022-04-06T19:55:05.051000",
          "2022-04-06T23:44:49.946000",
          "2022-04-07T01:04:30.375000",
          "2022-04-07T04:49:13.372000",
          "2022-04-07T09:12:00.859000",
          "2022-04-07T12:10:33.818000",
          "2022-04-07T14:41:04.231000",
          "2022-04-07T16:58:13.068000",
          "2022-04-07T20:38:34.565000",
          "2022-04-08T01:46:38.077000",
          "2022-04-08T07:52:35.893000",
          "2022-04-08T11:04:34.892000",
          "2022-04-08T13:26:05.034000",
          "2022-04-08T14:50:19.145000",
          "2022-04-08T17:04:02.670000",
          "2022-04-08T18:16:15.064000",
          "2022-04-08T20:02:17.843000",
          "2022-04-08T23:30:48.538000",
          "2022-04-09T04:24:27.318000",
          "2022-04-09T12:35:22.543000",
          "2022-04-09T18:01:51.351000",
          "2022-04-10T03:01:07.803000",
          "2022-04-10T12:07:28.558000",
          "2022-04-10T17:35:52.850000",
          "2022-04-10T22:10:04.705000",
          "2022-04-10T23:17:52.773000",
          "2022-04-11T02:02:53.789000",
          "2022-04-11T04:00:56.565000",
          "2022-04-11T08:56:58.657000",
          "2022-04-11T10:02:29.082000",
          "2022-04-11T11:32:06.570000",
          "2022-04-11T12:51:57.628000",
          "2022-04-11T14:18:20.093000",
          "2022-04-11T16:13:43.831000",
          "2022-04-11T17:43:43.787000",
          "2022-04-11T19:31:25.330000",
          "2022-04-11T20:28:43.142000",
          "2022-04-11T22:13:26.859000",
          "2022-04-12T00:03:12.264000",
          "2022-04-12T02:08:34.325000",
          "2022-04-12T04:51:20.759000",
          "2022-04-12T07:01:36.499000",
          "2022-04-12T09:06:00.287000",
          "2022-04-12T12:10:07.234000",
          "2022-04-12T12:53:33.751000",
          "2022-04-12T14:04:23.490000",
          "2022-04-12T15:28:20.188000",
          "2022-04-12T17:46:12.854000",
          "2022-04-12T19:37:07.242000",
          "2022-04-12T22:36:15.628000",
          "2022-04-13T01:50:15.171000",
          "2022-04-13T07:08:32.729000",
          "2022-04-13T11:20:21.255000",
          "2022-04-13T13:45:13.023000",
          "2022-04-13T14:29:53.672000",
          "2022-04-13T15:34:21.110000",
          "2022-04-13T17:26:11.414000",
          "2022-04-13T20:18:15.967000",
          "2022-04-14T00:54:13.735000",
          "2022-04-14T05:41:07.876000",
          "2022-04-14T10:16:40.386000",
          "2022-04-14T13:27:10.729000",
          "2022-04-14T14:22:16.972000",
          "2022-04-14T16:00:55.278000",
          "2022-04-14T18:27:58.725000",
          "2022-04-14T22:46:57.565000",
          "2022-04-15T04:51:22.169000",
          "2022-04-15T08:51:47.602000",
          "2022-04-15T14:25:08.589000",
          "2022-04-15T16:44:49.708000",
          "2022-04-16T00:40:33.805000",
          "2022-04-16T09:54:40.546000",
          "2022-04-16T15:38:26.761000",
          "2022-04-16T23:00:00.895000",
          "2022-04-17T10:18:41.030000",
          "2022-04-17T16:55:56.417000",
          "2022-04-17T21:29:00.027000",
          "2022-04-17T23:51:56.454000",
          "2022-04-18T04:14:49.887000",
          "2022-04-18T04:52:27.138000",
          "2022-04-18T07:26:24.483000",
          "2022-04-18T11:06:20.335000",
          "2022-04-18T13:31:47.587000",
          "2022-04-18T15:07:11.453000",
          "2022-04-18T17:09:28.109000",
          "2022-04-18T17:56:48.597000",
          "2022-04-18T18:30:09.170000",
          "2022-04-18T20:15:02.922000",
          "2022-04-19T00:03:11.747000",
          "2022-04-19T03:38:25.721000",
          "2022-04-19T09:32:25.687000",
          "2022-04-19T13:03:38.681000",
          "2022-04-19T14:01:37.581000",
          "2022-04-19T15:26:19.468000",
          "2022-04-19T18:17:02.052000",
          "2022-04-19T23:30:06.808000"
         ],
         "xaxis": "x",
         "yaxis": "y"
        },
        {
         "showlegend": false,
         "type": "bar",
         "x": [
          "2022-04-06T00:01:02.140000",
          "2022-04-06T00:30:45.929000",
          "2022-04-06T04:19:38.633000",
          "2022-04-06T08:59:38.487000",
          "2022-04-06T11:28:52.444000",
          "2022-04-06T13:38:21.562000",
          "2022-04-06T14:04:45.740000",
          "2022-04-06T15:04:46.087000",
          "2022-04-06T16:25:36.228000",
          "2022-04-06T17:31:46.751000",
          "2022-04-06T18:30:29.490000",
          "2022-04-06T19:55:05.051000",
          "2022-04-06T23:44:49.946000",
          "2022-04-07T01:04:30.375000",
          "2022-04-07T04:49:13.372000",
          "2022-04-07T09:12:00.859000",
          "2022-04-07T12:10:33.818000",
          "2022-04-07T14:41:04.231000",
          "2022-04-07T16:58:13.068000",
          "2022-04-07T20:38:34.565000",
          "2022-04-08T01:46:38.077000",
          "2022-04-08T07:52:35.893000",
          "2022-04-08T11:04:34.892000",
          "2022-04-08T13:26:05.034000",
          "2022-04-08T14:50:19.145000",
          "2022-04-08T17:04:02.670000",
          "2022-04-08T18:16:15.064000",
          "2022-04-08T20:02:17.843000",
          "2022-04-08T23:30:48.538000",
          "2022-04-09T04:24:27.318000",
          "2022-04-09T12:35:22.543000",
          "2022-04-09T18:01:51.351000",
          "2022-04-10T03:01:07.803000",
          "2022-04-10T12:07:28.558000",
          "2022-04-10T17:35:52.850000",
          "2022-04-10T22:10:04.705000",
          "2022-04-10T23:17:52.773000",
          "2022-04-11T02:02:53.789000",
          "2022-04-11T04:00:56.565000",
          "2022-04-11T08:56:58.657000",
          "2022-04-11T10:02:29.082000",
          "2022-04-11T11:32:06.570000",
          "2022-04-11T12:51:57.628000",
          "2022-04-11T14:18:20.093000",
          "2022-04-11T16:13:43.831000",
          "2022-04-11T17:43:43.787000",
          "2022-04-11T19:31:25.330000",
          "2022-04-11T20:28:43.142000",
          "2022-04-11T22:13:26.859000",
          "2022-04-12T00:03:12.264000",
          "2022-04-12T02:08:34.325000",
          "2022-04-12T04:51:20.759000",
          "2022-04-12T07:01:36.499000",
          "2022-04-12T09:06:00.287000",
          "2022-04-12T12:10:07.234000",
          "2022-04-12T12:53:33.751000",
          "2022-04-12T14:04:23.490000",
          "2022-04-12T15:28:20.188000",
          "2022-04-12T17:46:12.854000",
          "2022-04-12T19:37:07.242000",
          "2022-04-12T22:36:15.628000",
          "2022-04-13T01:50:15.171000",
          "2022-04-13T07:08:32.729000",
          "2022-04-13T11:20:21.255000",
          "2022-04-13T13:45:13.023000",
          "2022-04-13T14:29:53.672000",
          "2022-04-13T15:34:21.110000",
          "2022-04-13T17:26:11.414000",
          "2022-04-13T20:18:15.967000",
          "2022-04-14T00:54:13.735000",
          "2022-04-14T05:41:07.876000",
          "2022-04-14T10:16:40.386000",
          "2022-04-14T13:27:10.729000",
          "2022-04-14T14:22:16.972000",
          "2022-04-14T16:00:55.278000",
          "2022-04-14T18:27:58.725000",
          "2022-04-14T22:46:57.565000",
          "2022-04-15T04:51:22.169000",
          "2022-04-15T08:51:47.602000",
          "2022-04-15T14:25:08.589000",
          "2022-04-15T16:44:49.708000",
          "2022-04-16T00:40:33.805000",
          "2022-04-16T09:54:40.546000",
          "2022-04-16T15:38:26.761000",
          "2022-04-16T23:00:00.895000",
          "2022-04-17T10:18:41.030000",
          "2022-04-17T16:55:56.417000",
          "2022-04-17T21:29:00.027000",
          "2022-04-17T23:51:56.454000",
          "2022-04-18T04:14:49.887000",
          "2022-04-18T04:52:27.138000",
          "2022-04-18T07:26:24.483000",
          "2022-04-18T11:06:20.335000",
          "2022-04-18T13:31:47.587000",
          "2022-04-18T15:07:11.453000",
          "2022-04-18T17:09:28.109000",
          "2022-04-18T17:56:48.597000",
          "2022-04-18T18:30:09.170000",
          "2022-04-18T20:15:02.922000",
          "2022-04-19T00:03:11.747000",
          "2022-04-19T03:38:25.721000",
          "2022-04-19T09:32:25.687000",
          "2022-04-19T13:03:38.681000",
          "2022-04-19T14:01:37.581000",
          "2022-04-19T15:26:19.468000",
          "2022-04-19T18:17:02.052000",
          "2022-04-19T23:30:06.808000"
         ],
         "xaxis": "x2",
         "y": [
          5000.003960000835,
          5000.01169000006,
          5000.2025799999055,
          5001.380629999615,
          5000.394230000073,
          5000.23316000018,
          5002.5295000002525,
          5000.084360000335,
          5000.053020000111,
          5000.193670000686,
          5000.286310001102,
          5000.026640000316,
          5000.059930001047,
          5000.484600000443,
          5000.000380000843,
          5000.015020000824,
          5000.230430000196,
          5000.1244300004355,
          5000.0169000004225,
          5000.172960000507,
          5000.030940000819,
          5000.0860000004695,
          5000.281800000531,
          5000.623650001351,
          5000.479070000661,
          5000.1199600008185,
          5000.0257300017165,
          5000.1399600005325,
          5000.167570000762,
          5002.0484700005245,
          5000.077310000386,
          5000.10749000028,
          5000.278130000457,
          5000.019920000248,
          5000.147440000085,
          5000.546270000281,
          5000.020800000197,
          5000.663010001847,
          5000.607799999881,
          5000.906150000808,
          5000.047360001309,
          5000.962990000429,
          5000.050880000875,
          5000.67456000021,
          5000.014910000416,
          5000.136660000584,
          5000.721840002101,
          5000.027720001125,
          5000.020640000433,
          5000.051780000489,
          5000.023010000179,
          5000.500440000273,
          5000.598400000772,
          5000.902940000239,
          5000.191010000345,
          5000.009860000413,
          5000.543730000405,
          5000.435940000251,
          5000.71937000116,
          5000.135720000621,
          5000.169640000304,
          5000.047480000931,
          5001.100640000581,
          5000.022930000438,
          5000.086610000701,
          5000.016560000981,
          5000.122400000326,
          5000.078770000575,
          5000.018670000562,
          5000.436470000129,
          5001.10775000004,
          5000.891740001051,
          5000.001500000419,
          5000.293550000167,
          5000.562330000133,
          5000.180389999733,
          5001.679000000209,
          5000.34654999977,
          5000.014010000381,
          5000.150890000674,
          5000.084169999995,
          5000.075969999792,
          5000.097190000081,
          5000.084129999845,
          5000.157619999893,
          5000.016499999737,
          5000.111419999562,
          5000.000530000637,
          5000.601359999997,
          5000.784069999962,
          5000.047170000147,
          5000.00660000065,
          5000.001750000157,
          5000.1452500003215,
          5000.003660000509,
          5000.318230000566,
          5000.069610000111,
          5000.0006700003805,
          5000.016840000203,
          5000.173670000644,
          5000.020210000941,
          5002.860650000522,
          5000.127660000091,
          5000.099690000172,
          5000.484580000421,
          5000.002580000905,
          5000.123530000932
         ],
         "yaxis": "y2"
        }
       ],
       "layout": {
        "annotations": [
         {
          "font": {
           "size": 16
          },
          "showarrow": false,
          "text": "OHLC",
          "x": 0.5,
          "xanchor": "center",
          "xref": "paper",
          "y": 1,
          "yanchor": "bottom",
          "yref": "paper"
         },
         {
          "font": {
           "size": 16
          },
          "showarrow": false,
          "text": "Volume",
          "x": 0.5,
          "xanchor": "center",
          "xref": "paper",
          "y": 0.27,
          "yanchor": "bottom",
          "yref": "paper"
         }
        ],
        "height": 600,
        "template": {
         "data": {
          "bar": [
           {
            "error_x": {
             "color": "#2a3f5f"
            },
            "error_y": {
             "color": "#2a3f5f"
            },
            "marker": {
             "line": {
              "color": "#E5ECF6",
              "width": 0.5
             },
             "pattern": {
              "fillmode": "overlay",
              "size": 10,
              "solidity": 0.2
             }
            },
            "type": "bar"
           }
          ],
          "barpolar": [
           {
            "marker": {
             "line": {
              "color": "#E5ECF6",
              "width": 0.5
             },
             "pattern": {
              "fillmode": "overlay",
              "size": 10,
              "solidity": 0.2
             }
            },
            "type": "barpolar"
           }
          ],
          "carpet": [
           {
            "aaxis": {
             "endlinecolor": "#2a3f5f",
             "gridcolor": "white",
             "linecolor": "white",
             "minorgridcolor": "white",
             "startlinecolor": "#2a3f5f"
            },
            "baxis": {
             "endlinecolor": "#2a3f5f",
             "gridcolor": "white",
             "linecolor": "white",
             "minorgridcolor": "white",
             "startlinecolor": "#2a3f5f"
            },
            "type": "carpet"
           }
          ],
          "choropleth": [
           {
            "colorbar": {
             "outlinewidth": 0,
             "ticks": ""
            },
            "type": "choropleth"
           }
          ],
          "contour": [
           {
            "colorbar": {
             "outlinewidth": 0,
             "ticks": ""
            },
            "colorscale": [
             [
              0,
              "#0d0887"
             ],
             [
              0.1111111111111111,
              "#46039f"
             ],
             [
              0.2222222222222222,
              "#7201a8"
             ],
             [
              0.3333333333333333,
              "#9c179e"
             ],
             [
              0.4444444444444444,
              "#bd3786"
             ],
             [
              0.5555555555555556,
              "#d8576b"
             ],
             [
              0.6666666666666666,
              "#ed7953"
             ],
             [
              0.7777777777777778,
              "#fb9f3a"
             ],
             [
              0.8888888888888888,
              "#fdca26"
             ],
             [
              1,
              "#f0f921"
             ]
            ],
            "type": "contour"
           }
          ],
          "contourcarpet": [
           {
            "colorbar": {
             "outlinewidth": 0,
             "ticks": ""
            },
            "type": "contourcarpet"
           }
          ],
          "heatmap": [
           {
            "colorbar": {
             "outlinewidth": 0,
             "ticks": ""
            },
            "colorscale": [
             [
              0,
              "#0d0887"
             ],
             [
              0.1111111111111111,
              "#46039f"
             ],
             [
              0.2222222222222222,
              "#7201a8"
             ],
             [
              0.3333333333333333,
              "#9c179e"
             ],
             [
              0.4444444444444444,
              "#bd3786"
             ],
             [
              0.5555555555555556,
              "#d8576b"
             ],
             [
              0.6666666666666666,
              "#ed7953"
             ],
             [
              0.7777777777777778,
              "#fb9f3a"
             ],
             [
              0.8888888888888888,
              "#fdca26"
             ],
             [
              1,
              "#f0f921"
             ]
            ],
            "type": "heatmap"
           }
          ],
          "heatmapgl": [
           {
            "colorbar": {
             "outlinewidth": 0,
             "ticks": ""
            },
            "colorscale": [
             [
              0,
              "#0d0887"
             ],
             [
              0.1111111111111111,
              "#46039f"
             ],
             [
              0.2222222222222222,
              "#7201a8"
             ],
             [
              0.3333333333333333,
              "#9c179e"
             ],
             [
              0.4444444444444444,
              "#bd3786"
             ],
             [
              0.5555555555555556,
              "#d8576b"
             ],
             [
              0.6666666666666666,
              "#ed7953"
             ],
             [
              0.7777777777777778,
              "#fb9f3a"
             ],
             [
              0.8888888888888888,
              "#fdca26"
             ],
             [
              1,
              "#f0f921"
             ]
            ],
            "type": "heatmapgl"
           }
          ],
          "histogram": [
           {
            "marker": {
             "pattern": {
              "fillmode": "overlay",
              "size": 10,
              "solidity": 0.2
             }
            },
            "type": "histogram"
           }
          ],
          "histogram2d": [
           {
            "colorbar": {
             "outlinewidth": 0,
             "ticks": ""
            },
            "colorscale": [
             [
              0,
              "#0d0887"
             ],
             [
              0.1111111111111111,
              "#46039f"
             ],
             [
              0.2222222222222222,
              "#7201a8"
             ],
             [
              0.3333333333333333,
              "#9c179e"
             ],
             [
              0.4444444444444444,
              "#bd3786"
             ],
             [
              0.5555555555555556,
              "#d8576b"
             ],
             [
              0.6666666666666666,
              "#ed7953"
             ],
             [
              0.7777777777777778,
              "#fb9f3a"
             ],
             [
              0.8888888888888888,
              "#fdca26"
             ],
             [
              1,
              "#f0f921"
             ]
            ],
            "type": "histogram2d"
           }
          ],
          "histogram2dcontour": [
           {
            "colorbar": {
             "outlinewidth": 0,
             "ticks": ""
            },
            "colorscale": [
             [
              0,
              "#0d0887"
             ],
             [
              0.1111111111111111,
              "#46039f"
             ],
             [
              0.2222222222222222,
              "#7201a8"
             ],
             [
              0.3333333333333333,
              "#9c179e"
             ],
             [
              0.4444444444444444,
              "#bd3786"
             ],
             [
              0.5555555555555556,
              "#d8576b"
             ],
             [
              0.6666666666666666,
              "#ed7953"
             ],
             [
              0.7777777777777778,
              "#fb9f3a"
             ],
             [
              0.8888888888888888,
              "#fdca26"
             ],
             [
              1,
              "#f0f921"
             ]
            ],
            "type": "histogram2dcontour"
           }
          ],
          "mesh3d": [
           {
            "colorbar": {
             "outlinewidth": 0,
             "ticks": ""
            },
            "type": "mesh3d"
           }
          ],
          "parcoords": [
           {
            "line": {
             "colorbar": {
              "outlinewidth": 0,
              "ticks": ""
             }
            },
            "type": "parcoords"
           }
          ],
          "pie": [
           {
            "automargin": true,
            "type": "pie"
           }
          ],
          "scatter": [
           {
            "fillpattern": {
             "fillmode": "overlay",
             "size": 10,
             "solidity": 0.2
            },
            "type": "scatter"
           }
          ],
          "scatter3d": [
           {
            "line": {
             "colorbar": {
              "outlinewidth": 0,
              "ticks": ""
             }
            },
            "marker": {
             "colorbar": {
              "outlinewidth": 0,
              "ticks": ""
             }
            },
            "type": "scatter3d"
           }
          ],
          "scattercarpet": [
           {
            "marker": {
             "colorbar": {
              "outlinewidth": 0,
              "ticks": ""
             }
            },
            "type": "scattercarpet"
           }
          ],
          "scattergeo": [
           {
            "marker": {
             "colorbar": {
              "outlinewidth": 0,
              "ticks": ""
             }
            },
            "type": "scattergeo"
           }
          ],
          "scattergl": [
           {
            "marker": {
             "colorbar": {
              "outlinewidth": 0,
              "ticks": ""
             }
            },
            "type": "scattergl"
           }
          ],
          "scattermapbox": [
           {
            "marker": {
             "colorbar": {
              "outlinewidth": 0,
              "ticks": ""
             }
            },
            "type": "scattermapbox"
           }
          ],
          "scatterpolar": [
           {
            "marker": {
             "colorbar": {
              "outlinewidth": 0,
              "ticks": ""
             }
            },
            "type": "scatterpolar"
           }
          ],
          "scatterpolargl": [
           {
            "marker": {
             "colorbar": {
              "outlinewidth": 0,
              "ticks": ""
             }
            },
            "type": "scatterpolargl"
           }
          ],
          "scatterternary": [
           {
            "marker": {
             "colorbar": {
              "outlinewidth": 0,
              "ticks": ""
             }
            },
            "type": "scatterternary"
           }
          ],
          "surface": [
           {
            "colorbar": {
             "outlinewidth": 0,
             "ticks": ""
            },
            "colorscale": [
             [
              0,
              "#0d0887"
             ],
             [
              0.1111111111111111,
              "#46039f"
             ],
             [
              0.2222222222222222,
              "#7201a8"
             ],
             [
              0.3333333333333333,
              "#9c179e"
             ],
             [
              0.4444444444444444,
              "#bd3786"
             ],
             [
              0.5555555555555556,
              "#d8576b"
             ],
             [
              0.6666666666666666,
              "#ed7953"
             ],
             [
              0.7777777777777778,
              "#fb9f3a"
             ],
             [
              0.8888888888888888,
              "#fdca26"
             ],
             [
              1,
              "#f0f921"
             ]
            ],
            "type": "surface"
           }
          ],
          "table": [
           {
            "cells": {
             "fill": {
              "color": "#EBF0F8"
             },
             "line": {
              "color": "white"
             }
            },
            "header": {
             "fill": {
              "color": "#C8D4E3"
             },
             "line": {
              "color": "white"
             }
            },
            "type": "table"
           }
          ]
         },
         "layout": {
          "annotationdefaults": {
           "arrowcolor": "#2a3f5f",
           "arrowhead": 0,
           "arrowwidth": 1
          },
          "autotypenumbers": "strict",
          "coloraxis": {
           "colorbar": {
            "outlinewidth": 0,
            "ticks": ""
           }
          },
          "colorscale": {
           "diverging": [
            [
             0,
             "#8e0152"
            ],
            [
             0.1,
             "#c51b7d"
            ],
            [
             0.2,
             "#de77ae"
            ],
            [
             0.3,
             "#f1b6da"
            ],
            [
             0.4,
             "#fde0ef"
            ],
            [
             0.5,
             "#f7f7f7"
            ],
            [
             0.6,
             "#e6f5d0"
            ],
            [
             0.7,
             "#b8e186"
            ],
            [
             0.8,
             "#7fbc41"
            ],
            [
             0.9,
             "#4d9221"
            ],
            [
             1,
             "#276419"
            ]
           ],
           "sequential": [
            [
             0,
             "#0d0887"
            ],
            [
             0.1111111111111111,
             "#46039f"
            ],
            [
             0.2222222222222222,
             "#7201a8"
            ],
            [
             0.3333333333333333,
             "#9c179e"
            ],
            [
             0.4444444444444444,
             "#bd3786"
            ],
            [
             0.5555555555555556,
             "#d8576b"
            ],
            [
             0.6666666666666666,
             "#ed7953"
            ],
            [
             0.7777777777777778,
             "#fb9f3a"
            ],
            [
             0.8888888888888888,
             "#fdca26"
            ],
            [
             1,
             "#f0f921"
            ]
           ],
           "sequentialminus": [
            [
             0,
             "#0d0887"
            ],
            [
             0.1111111111111111,
             "#46039f"
            ],
            [
             0.2222222222222222,
             "#7201a8"
            ],
            [
             0.3333333333333333,
             "#9c179e"
            ],
            [
             0.4444444444444444,
             "#bd3786"
            ],
            [
             0.5555555555555556,
             "#d8576b"
            ],
            [
             0.6666666666666666,
             "#ed7953"
            ],
            [
             0.7777777777777778,
             "#fb9f3a"
            ],
            [
             0.8888888888888888,
             "#fdca26"
            ],
            [
             1,
             "#f0f921"
            ]
           ]
          },
          "colorway": [
           "#636efa",
           "#EF553B",
           "#00cc96",
           "#ab63fa",
           "#FFA15A",
           "#19d3f3",
           "#FF6692",
           "#B6E880",
           "#FF97FF",
           "#FECB52"
          ],
          "font": {
           "color": "#2a3f5f"
          },
          "geo": {
           "bgcolor": "white",
           "lakecolor": "white",
           "landcolor": "#E5ECF6",
           "showlakes": true,
           "showland": true,
           "subunitcolor": "white"
          },
          "hoverlabel": {
           "align": "left"
          },
          "hovermode": "closest",
          "mapbox": {
           "style": "light"
          },
          "paper_bgcolor": "white",
          "plot_bgcolor": "#E5ECF6",
          "polar": {
           "angularaxis": {
            "gridcolor": "white",
            "linecolor": "white",
            "ticks": ""
           },
           "bgcolor": "#E5ECF6",
           "radialaxis": {
            "gridcolor": "white",
            "linecolor": "white",
            "ticks": ""
           }
          },
          "scene": {
           "xaxis": {
            "backgroundcolor": "#E5ECF6",
            "gridcolor": "white",
            "gridwidth": 2,
            "linecolor": "white",
            "showbackground": true,
            "ticks": "",
            "zerolinecolor": "white"
           },
           "yaxis": {
            "backgroundcolor": "#E5ECF6",
            "gridcolor": "white",
            "gridwidth": 2,
            "linecolor": "white",
            "showbackground": true,
            "ticks": "",
            "zerolinecolor": "white"
           },
           "zaxis": {
            "backgroundcolor": "#E5ECF6",
            "gridcolor": "white",
            "gridwidth": 2,
            "linecolor": "white",
            "showbackground": true,
            "ticks": "",
            "zerolinecolor": "white"
           }
          },
          "shapedefaults": {
           "line": {
            "color": "#2a3f5f"
           }
          },
          "ternary": {
           "aaxis": {
            "gridcolor": "white",
            "linecolor": "white",
            "ticks": ""
           },
           "baxis": {
            "gridcolor": "white",
            "linecolor": "white",
            "ticks": ""
           },
           "bgcolor": "#E5ECF6",
           "caxis": {
            "gridcolor": "white",
            "linecolor": "white",
            "ticks": ""
           }
          },
          "title": {
           "x": 0.05
          },
          "xaxis": {
           "automargin": true,
           "gridcolor": "white",
           "linecolor": "white",
           "ticks": "",
           "title": {
            "standoff": 15
           },
           "zerolinecolor": "white",
           "zerolinewidth": 2
          },
          "yaxis": {
           "automargin": true,
           "gridcolor": "white",
           "linecolor": "white",
           "ticks": "",
           "title": {
            "standoff": 15
           },
           "zerolinecolor": "white",
           "zerolinewidth": 2
          }
         }
        },
        "title": {
         "text": "BTCUSDT: 5000-BTC Volume Bars"
        },
        "width": 900,
        "xaxis": {
         "anchor": "y",
         "domain": [
          0,
          1
         ],
         "matches": "x2",
         "rangeslider": {
          "visible": false
         },
         "showticklabels": false
        },
        "xaxis2": {
         "anchor": "y2",
         "domain": [
          0,
          1
         ]
        },
        "yaxis": {
         "anchor": "x",
         "domain": [
          0.37,
          1
         ],
         "title": {
          "text": "Price (USD)"
         }
        },
        "yaxis2": {
         "anchor": "x2",
         "domain": [
          0,
          0.27
         ]
        }
       }
      }
     },
     "metadata": {},
     "output_type": "display_data"
    }
   ],
   "source": [
    "fig = make_subplots(rows=2,\n",
    "                    cols=1,\n",
    "                    shared_xaxes=True,\n",
    "                    vertical_spacing=0.1,\n",
    "                    subplot_titles=('OHLC', 'Volume'),\n",
    "                    row_width=[0.3, 0.7])\n",
    "\n",
    "# candlestick\n",
    "fig.add_trace(\n",
    "    go.Candlestick(\n",
    "        x=btc_vol_subset.datetime,\n",
    "        open=btc_vol_subset.open,\n",
    "        high=btc_vol_subset.high,\n",
    "        low=btc_vol_subset.low,\n",
    "        close=btc_vol_subset.close,\n",
    "        showlegend=False),\n",
    "    row=1,\n",
    "    col=1\n",
    ")\n",
    "\n",
    "# volume\n",
    "fig.add_trace(\n",
    "    go.Bar(x=btc_vol_subset.datetime,\n",
    "           y=btc_vol_subset.volume,\n",
    "           showlegend=False),\n",
    "    row=2,\n",
    "    col=1\n",
    ")\n",
    "\n",
    "fig.update_layout(title=\"BTCUSDT: 5000-BTC Volume Bars\",\n",
    "                  yaxis_title=\"Price (USD)\",\n",
    "                  width=900,\n",
    "                  height=600)\n",
    "\n",
    "# hide the slide bar\n",
    "fig.update(layout_xaxis_rangeslider_visible=False)\n",
    "pio.write_image(fig, 'btc_vol.png',scale=3, width=2000, height=800)\n",
    "fig.show()\n",
    "\n"
   ]
  },
  {
   "cell_type": "code",
   "execution_count": 10,
   "metadata": {},
   "outputs": [
    {
     "data": {
      "application/vnd.plotly.v1+json": {
       "config": {
        "plotlyServerURL": "https://plot.ly"
       },
       "data": [
        {
         "close": [
          28438.27,
          28610.63,
          28583.36,
          28541.1,
          28580,
          28571.08,
          28482.72,
          28424.99,
          28440.56,
          28425.49,
          28465.32,
          28372.85,
          28422.89,
          28417.8,
          28318.04,
          28400.07,
          28326,
          28372.37,
          28376.74,
          28381.98,
          28446.78,
          28477.72,
          28517.94,
          28452.73,
          28366.3,
          28388.34,
          28406.13,
          28476.59,
          28386.09,
          28470.01,
          28458.26,
          28416.38,
          28381.37,
          28410.57,
          28367.25,
          28357.93,
          28265.26,
          28279.53,
          28273.1,
          28124.81,
          28121.97,
          28194.39,
          28156.98,
          27943.85,
          28058.75,
          28014.8,
          28105.81,
          28171.87,
          28114.62,
          27709.94,
          27719.09,
          27753.85,
          27704.39,
          27679.57,
          27779.48,
          27958.74,
          28335,
          28327.33,
          28303.77,
          28253.73,
          28163.01,
          28258.78,
          27995.04,
          28051.48,
          27930.84,
          27986.48,
          28152,
          28081.08,
          27582.78,
          27714.56,
          27799.99,
          27800,
          27760.58,
          27816.16,
          27857.35,
          27855.06,
          27813.86,
          27890.01,
          28078.14,
          28021.3,
          28103.48,
          28198.76,
          28219.63,
          28289.52,
          28267.68,
          28111.04,
          28123,
          28030.04,
          28098.99,
          28226.99,
          28114.42,
          28189.25,
          28250.04,
          28223.62,
          28187.26,
          28165.47,
          28661.81,
          28571.41,
          28565.57,
          28544.72,
          28506.62,
          28582.84,
          28534.42,
          28525.21,
          28543.8,
          28508.76,
          28510,
          28554.38,
          28568.95,
          28404.58,
          28105.2,
          28031.09,
          27947.99,
          28023.74,
          28030.2,
          28240.64,
          28150.61,
          28181.06,
          28175.28,
          28170.01,
          27999.15,
          28064.46,
          28039.73,
          28128.42,
          28068.91,
          28036.75,
          28063.91,
          27910.97,
          27953.62,
          27904.04,
          27850,
          27945.52,
          27903.73,
          27891.16,
          27952.78,
          28090.39,
          28065.14,
          28041.4,
          27963.35,
          28017.77,
          27975.85,
          27989.16,
          28007.86,
          28033.82,
          28097.99,
          28056.51,
          28017.22,
          28038.66,
          28021.77,
          27980,
          27960.09,
          27839.78,
          27816.76,
          27869.48,
          27933.36,
          27840.9,
          27892.63,
          27896.93,
          27914.64,
          27944.1,
          27879.3,
          27911.51,
          27891.77,
          27897.52,
          27864.2,
          27891.13,
          27955.99,
          27906.33,
          27880.27,
          27903.24,
          27956.76,
          28023.39,
          27984.98,
          28140.92,
          28113.12,
          28086.22,
          28025.53,
          28032.49,
          28011.62,
          28016.09,
          27987.57,
          28020.66,
          28027.67,
          28014.7,
          28002.53,
          27935.11,
          27904.38,
          27924.13,
          27911.69,
          27929.8,
          27937.77,
          27938.38,
          28036.76,
          28077.78,
          28036.3,
          28027.71,
          28037.39,
          27999.25,
          27880.13,
          27903.02,
          27881.64,
          27898.58,
          27893.22,
          27930.2,
          27930.07,
          27905.62,
          27866.49,
          27891.91,
          27896.98,
          27906.68,
          28026.72,
          28140.4,
          28114.63,
          28437.19,
          28371.39,
          28323.76,
          28381.25,
          28304.05,
          28296,
          28278.45,
          28234.51,
          28282.16,
          28277.94,
          28284.57,
          28295.16,
          28310.29,
          28331.88,
          28305.6,
          28277.86,
          28217.46,
          28305.43,
          28439.38,
          29036.85,
          29160,
          29273.14,
          29173.06,
          29115.11,
          29222.34,
          29594,
          29637.34,
          29928.86,
          30189.9,
          30083.01,
          30115.95,
          30109.01,
          29883.84,
          30035.78,
          30106.89,
          30093.9,
          30052.38,
          30122.5,
          30055.15,
          30098.92,
          30246.31,
          30060.39,
          30194.22,
          30127.98,
          30207.57,
          30230.24,
          30130.02,
          30164.23,
          30189.52,
          30263.75,
          30200.42,
          30224.78,
          30170.8,
          29916.16,
          29922.04,
          29978.58,
          29920,
          29932.89,
          29987,
          29914.97,
          30007.68,
          29996.27,
          30016.3,
          30157.09,
          30053.73,
          30024.69,
          29964.02,
          29939.02,
          30023.92,
          29917.26,
          29798.59,
          29947.47,
          29944.12,
          29841.35,
          29888.07,
          29984.69,
          30065.13,
          30116.51,
          30072.17,
          30053.65,
          30105.08,
          30016.54,
          30068.6,
          30188.14,
          30204.85,
          30203.14,
          30159.82,
          30272.14,
          30175.75,
          30435.34,
          30441.43,
          30322.37,
          30425.85,
          30440.78,
          30335.13,
          30251.97,
          30283.7,
          30296.09,
          30373.84,
          30745.73,
          30775.34,
          30595.8,
          30690.88,
          30708.82,
          30796.28,
          30942.87,
          30733.72,
          30730.22,
          30794.16,
          30766.01,
          30801.89,
          30616.98,
          30721.54,
          30599.89,
          30237.89,
          30147.49,
          30276.62,
          30277.1,
          30324.09,
          30448.82,
          30454.09,
          30435.34,
          30466.93,
          30372.48,
          30370.01,
          30380,
          30376.14,
          30356.11,
          30427.05,
          30390.99,
          30433.3,
          30385.12,
          30459.94,
          30417.07,
          30385.3,
          30423.28,
          30335.19,
          30359.39,
          30325.27,
          30319.98,
          30246.21,
          30300.77,
          30331.74,
          30280.65,
          30263.77,
          30350.98,
          30295.09,
          30277.54,
          30236.95,
          30264.2,
          30249.37,
          30298.52,
          30306.32,
          30306.07,
          30344.97,
          30337.4,
          30279.34,
          30290.15,
          30226.45,
          30260,
          30249.99,
          30311.83,
          30332.98,
          30335,
          30300,
          30478.43,
          30309.06,
          30343.04,
          30385.62,
          30331.04,
          30304.65,
          29842.86,
          29946.22,
          30020,
          29982.8,
          29981.18,
          29997.89,
          29901.28,
          29838.3,
          29918.1,
          29876.97,
          29884.66,
          29570.81,
          29529.85,
          29402.2,
          29440.42,
          29358.31,
          29464.43,
          29462.67,
          29524.97,
          29467.24,
          29443.75,
          29452.22,
          29502.28,
          29430.27,
          29364.16,
          29373.53,
          29465.84,
          29446.99,
          29494.69,
          29542.14,
          29720.98,
          29775.62,
          29703.89,
          29897.68,
          29899.26,
          30380.59,
          30303.14,
          30381.31,
          30247.81,
          30184.86,
          30220.85,
          30025.51,
          30144.5,
          30221.52,
          30419.12,
          30371.69,
          30370.86,
          30380.01,
          30319.25,
          30233.42,
          30200.63,
          30211.23,
          30202.57,
          30268.27,
          30008.13,
          30077.76,
          29168.47,
          29200.57,
          29257.26,
          29310.65,
          29218.66,
          29333,
          29393.46,
          29260.44,
          29315.24,
          29318.14,
          29277.45,
          29227.07,
          29237.71,
          29170,
          29076.2,
          28797.1,
          28920.01
         ],
         "high": [
          28547.2,
          28625.61,
          28819.71,
          28603.78,
          28625.1,
          28589.13,
          28572.93,
          28482.72,
          28485.11,
          28464.65,
          28474.15,
          28475.97,
          28424.05,
          28473.9,
          28420.88,
          28405.31,
          28443.04,
          28383.32,
          28382.9,
          28384.23,
          28577,
          28517.44,
          28538.08,
          28555,
          28499.99,
          28434.68,
          28430.29,
          28530,
          28485.18,
          28473.16,
          28490.4,
          28477.78,
          28422.21,
          28450.9,
          28413.71,
          28390.95,
          28361,
          28346.05,
          28350,
          28275.73,
          28143.54,
          28229.9,
          28213.39,
          28172.76,
          28088.38,
          28156.34,
          28115.76,
          28203.35,
          28182.17,
          28144.12,
          27815.42,
          27777.72,
          27756.72,
          27764.86,
          27793.25,
          27962.9,
          28450,
          28398,
          28500.99,
          28319.58,
          28257.69,
          28375,
          28303.25,
          28112.99,
          28129.99,
          28084.62,
          28237,
          28238.53,
          28093.56,
          27765,
          27943.62,
          28000,
          27868.31,
          27900.24,
          27950.62,
          27965,
          27885.28,
          27939.18,
          28145,
          28143.03,
          28137.98,
          28207.27,
          28350,
          28444.44,
          28381.19,
          28399,
          28257,
          28144.58,
          28131.35,
          28235.04,
          28260,
          28199,
          28305,
          28254.11,
          28258.93,
          28211.86,
          28733,
          28740,
          28775,
          28575.79,
          28577.38,
          28624.35,
          28603.59,
          28540,
          28600,
          28595.94,
          28529.72,
          28567.85,
          28750,
          28600.5,
          28476.81,
          28127,
          28053.88,
          28120,
          28060,
          28308.04,
          28300,
          28217.37,
          28236.15,
          28212.5,
          28182.05,
          28090,
          28095.71,
          28153.69,
          28130,
          28081.06,
          28073.92,
          28088.88,
          27988.58,
          28028.6,
          27907.59,
          27954.42,
          28085,
          27979.01,
          27978.54,
          28181.05,
          28165.88,
          28084.18,
          28094.41,
          28056.67,
          28121.87,
          28052.8,
          28008.43,
          28055.62,
          28100,
          28098.2,
          28072.94,
          28049.84,
          28062.73,
          28021.77,
          27984.75,
          27960.1,
          27937.82,
          27894.99,
          27961.67,
          27935.98,
          27981,
          27929.37,
          27984.75,
          27954.51,
          27953.47,
          27941.11,
          27930,
          27905.15,
          27922.99,
          27909.27,
          27980.74,
          27973.04,
          27919.61,
          27935.15,
          27965.76,
          28059.39,
          28040.72,
          28154.99,
          28152.57,
          28122.38,
          28114.94,
          28062.28,
          28034.68,
          28032.64,
          28032.08,
          28046.26,
          28057,
          28028.7,
          28020,
          28017.04,
          27955,
          27952.17,
          27955,
          27935.09,
          27951,
          27987.41,
          28075,
          28082.1,
          28083.45,
          28054.01,
          28041.06,
          28067.46,
          27999.25,
          27915.34,
          27922.31,
          27938.86,
          27914.29,
          27949.99,
          27973.39,
          27930.08,
          27925.01,
          27918.26,
          27942.55,
          27930.1,
          28050,
          28250,
          28160.67,
          28476.34,
          28530,
          28429.55,
          28425.43,
          28381.25,
          28350,
          28319.55,
          28317.61,
          28314.27,
          28305,
          28325.43,
          28375.02,
          28350.02,
          28361.51,
          28369.99,
          28317.81,
          28297.36,
          28341.97,
          28575.04,
          29150,
          29380,
          29289.99,
          29295.46,
          29215.02,
          29278.78,
          29747.01,
          29770,
          29990,
          30308.23,
          30430,
          30124.12,
          30169.14,
          30147,
          30087.77,
          30160.53,
          30147.38,
          30094.01,
          30144.83,
          30123.91,
          30200.58,
          30250,
          30280,
          30246.26,
          30263.71,
          30220,
          30240,
          30550,
          30173.76,
          30239.59,
          30272.28,
          30274.19,
          30350.07,
          30292.44,
          30170.8,
          29989.19,
          29995.35,
          29999.23,
          29956.81,
          30070.42,
          30050.47,
          30007.83,
          30029.37,
          30019.65,
          30486,
          30340.22,
          30263.4,
          30066.96,
          30034.99,
          30091.01,
          30057.52,
          29949.76,
          29955,
          29979.74,
          29975.41,
          29939.61,
          30035.28,
          30077.49,
          30200,
          30121.7,
          30106.16,
          30128.59,
          30116.87,
          30107.1,
          30269,
          30374.87,
          30244.09,
          30235,
          30303.64,
          30328.91,
          30530,
          30595,
          30476.42,
          30435.48,
          30535.76,
          30440.79,
          30335.14,
          30328.42,
          30394.7,
          30388.71,
          30799.61,
          30893.79,
          30808.78,
          30738.64,
          30754.05,
          30836.54,
          31000,
          30963.69,
          30788.47,
          30798.29,
          30827.27,
          30806.7,
          30850,
          30749.58,
          30757.6,
          30629,
          30269.41,
          30282.08,
          30357.8,
          30346.99,
          30522.07,
          30510.15,
          30454.09,
          30481.87,
          30595.6,
          30399,
          30441.17,
          30421.94,
          30394.5,
          30434.83,
          30436.46,
          30467.92,
          30456.73,
          30464.9,
          30470,
          30439.7,
          30444,
          30442.66,
          30376.95,
          30420,
          30339.35,
          30319.99,
          30301.72,
          30331.75,
          30344.84,
          30308.76,
          30360.19,
          30359.92,
          30319.04,
          30277.54,
          30284.78,
          30269.33,
          30316,
          30340.06,
          30347.38,
          30399.4,
          30353.96,
          30337.41,
          30290.16,
          30321.6,
          30277.38,
          30260.01,
          30320,
          30362,
          30335,
          30379.62,
          30480,
          30549.99,
          30407.98,
          30390,
          30404.82,
          30349.65,
          30316.06,
          29993.89,
          30101.31,
          30040.64,
          29985.27,
          30007.56,
          30004.33,
          29940,
          29919.15,
          29922.5,
          29888.88,
          29889.16,
          29593.14,
          29536.51,
          29481.96,
          29464.06,
          29480,
          29527.26,
          29572,
          29580.17,
          29492.8,
          29471.97,
          29536.93,
          29510.6,
          29450.29,
          29414.28,
          29489.47,
          29500,
          29506.76,
          29593.39,
          29740,
          29803,
          29831,
          29939.99,
          29971.71,
          30381.68,
          30485,
          30433.18,
          30390.96,
          30284.78,
          30262.3,
          30262.86,
          30274.21,
          30236.9,
          30450,
          30442.73,
          30404.19,
          30408.44,
          30413.53,
          30348.28,
          30259.4,
          30277.32,
          30237.69,
          30325.51,
          30272.77,
          30124.21,
          30077.76,
          29327.21,
          29286.64,
          29333,
          29310.65,
          29333,
          29500,
          29428.9,
          29370,
          29325.73,
          29354.3,
          29344.59,
          29315.61,
          29240.15,
          29237.29,
          29088.18,
          28965.99
         ],
         "low": [
          28408.57,
          28410.35,
          28467.31,
          28503.29,
          28526.59,
          28530.59,
          28353.78,
          28351.35,
          28389.37,
          28420.54,
          28389.77,
          28360.65,
          28320.35,
          28377.63,
          28292.32,
          28220.27,
          28280,
          28317.39,
          28333.19,
          28343.81,
          28379.63,
          28429.93,
          28477.72,
          28445,
          28355,
          28355.54,
          28375,
          28401.41,
          28383.37,
          28381.54,
          28414.36,
          28413.3,
          28364.57,
          28368.53,
          28361,
          28306.8,
          28240.17,
          28135.8,
          28239.45,
          28037.59,
          27927,
          28109.16,
          28152.8,
          27856.43,
          27902.71,
          27981,
          27858.29,
          28044.23,
          28064.52,
          27560,
          27658.36,
          27623.45,
          27588,
          27660,
          27644.5,
          27771.09,
          27958.73,
          28300,
          28301.13,
          28215.59,
          28063.17,
          28116.02,
          27945.19,
          27951.57,
          27918.45,
          27875,
          27938.46,
          28037.2,
          27460,
          27200.24,
          27668,
          27739.75,
          27662.79,
          27693.8,
          27780.79,
          27850,
          27775.37,
          27813.86,
          27860.17,
          27962.47,
          27931.2,
          28028.79,
          28172.48,
          28164.33,
          28205.67,
          28061,
          28079.69,
          27947.59,
          27971.07,
          28079.99,
          28083.33,
          28070.7,
          28174.44,
          28160.51,
          28182.22,
          28078.63,
          28099.68,
          28543.34,
          28522.99,
          28428.69,
          28483.09,
          28480.67,
          28491.29,
          28455,
          28450.5,
          28502.16,
          28476.24,
          28480.72,
          28312.5,
          28300,
          28087,
          27860,
          27805.1,
          27919.23,
          27935.71,
          27967.8,
          28132.82,
          28134.39,
          28132.16,
          28137.67,
          27918.35,
          27878.6,
          27978.21,
          28022.48,
          28067.28,
          27969.61,
          28006.46,
          27907.77,
          27850,
          27900,
          27711,
          27846.12,
          27856.54,
          27750,
          27888.26,
          27943.76,
          28046.88,
          28014.99,
          27954.06,
          27950.9,
          27966,
          27957.04,
          27900,
          28007.86,
          27998.04,
          28036.63,
          27926.52,
          27979.75,
          27999.9,
          27863.23,
          27900,
          27766.94,
          27785,
          27790.1,
          27861.38,
          27800,
          27800,
          27833.97,
          27893.26,
          27907.69,
          27856,
          27879.3,
          27874.13,
          27869.26,
          27839.02,
          27858.3,
          27864.99,
          27894.32,
          27859.02,
          27880.02,
          27902.95,
          27939.46,
          27974.14,
          27979.03,
          28086.28,
          28063.89,
          28018.61,
          28013.15,
          27994.7,
          27990.57,
          27950,
          27970.08,
          28010.4,
          27985.38,
          27995.93,
          27897.26,
          27872.11,
          27875.96,
          27911.41,
          27900.44,
          27885.86,
          27927.71,
          27924.9,
          28030,
          28031.08,
          28018.63,
          28010,
          27991.43,
          27851,
          27840.51,
          27800,
          27881.64,
          27861.55,
          27866.87,
          27919.4,
          27873.46,
          27800,
          27835.26,
          27890.75,
          27876.68,
          27906.67,
          27998.88,
          28094.5,
          28114.63,
          28360,
          28292.54,
          28285.61,
          28244.18,
          28271.14,
          28266.01,
          28212.28,
          28196.61,
          28253.7,
          28233.8,
          28284.57,
          28275.29,
          28293.67,
          28275.01,
          28255,
          28170,
          28199.3,
          28305.42,
          28356.51,
          29000,
          29115,
          29057.04,
          29069.1,
          29090.34,
          29222.34,
          29590,
          29590,
          29754.49,
          29987.6,
          29936.91,
          30017.37,
          29800,
          29878.92,
          30035.59,
          30045,
          29974,
          30008.95,
          30050.69,
          30010.41,
          30073.01,
          29975,
          30044.65,
          30100,
          30040,
          30151.68,
          30105.01,
          29940,
          30130.23,
          30147.64,
          30160,
          30193.67,
          30122.72,
          29811.82,
          29858.19,
          29887.03,
          29891.46,
          29850,
          29924.26,
          29913.71,
          29895.98,
          29978.13,
          29930.95,
          29919,
          29964,
          30016.95,
          29637.4,
          29915.01,
          29907.14,
          29845.01,
          29760.13,
          29775.68,
          29900.77,
          29796.21,
          29823.45,
          29854.59,
          29945.64,
          29997.51,
          30040,
          30041.22,
          30041.48,
          29986.64,
          29982.93,
          30039,
          30150.5,
          30152,
          30151,
          30134.16,
          30165.01,
          30173.94,
          30300,
          30262.4,
          30283.72,
          30409.78,
          30307.09,
          30205,
          30245.01,
          30283.69,
          30280.11,
          30310.03,
          30682.09,
          30520,
          30549.33,
          30674.53,
          30698.25,
          30714.5,
          30725.01,
          30657.14,
          30700,
          30758.89,
          30727.63,
          30575,
          30610.03,
          30483.21,
          30101,
          29966,
          30131,
          30243.22,
          30200.76,
          30272.25,
          30393.26,
          30410.96,
          30370.52,
          30372.48,
          30278.08,
          30346.4,
          30362.62,
          30337.97,
          30352.52,
          30363.23,
          30389.35,
          30364.7,
          30385.12,
          30373.41,
          30365.56,
          30377.38,
          30285,
          30302.24,
          30323.41,
          30261.95,
          30202,
          30244.75,
          30226.72,
          30261.33,
          30239.86,
          30236.39,
          30282.35,
          30270.11,
          30120,
          30224.43,
          30229.34,
          30245.82,
          30295.97,
          30302.68,
          30300,
          30328.01,
          30254.99,
          30257.21,
          30220.4,
          30219.71,
          30160.4,
          30245.01,
          30300,
          30259.69,
          30300,
          30298.87,
          30281.69,
          30192,
          30267.31,
          30300.72,
          30245,
          29790.01,
          29740.64,
          29890.57,
          29950,
          29909.17,
          29930.99,
          29888,
          29832,
          29801,
          29845.95,
          29764.28,
          29366,
          29442.91,
          29250,
          29356.75,
          29240.65,
          29330.85,
          29447.63,
          29458.09,
          29458,
          29421.11,
          29391.92,
          29452.21,
          29396.88,
          29280.01,
          29096.78,
          29373.52,
          29442.54,
          29442.56,
          29494.69,
          29542.14,
          29672.87,
          29693.1,
          29700,
          29868.03,
          29888.9,
          30279.8,
          30282.63,
          30118.41,
          30099.37,
          30158.33,
          30014.14,
          29945.58,
          30100,
          30150,
          30278.79,
          30295.23,
          30305.66,
          30282.95,
          30223.12,
          30126,
          30172.59,
          30148,
          30177.66,
          30006,
          29980,
          29000,
          29040,
          29100,
          29235.53,
          29185,
          29181.65,
          29330.66,
          29100,
          29240.01,
          29080,
          29220.01,
          29200,
          29147.27,
          28813.88,
          29036.95,
          28520,
          28650.58
         ],
         "open": [
          28465.36,
          28438.26,
          28610.62,
          28583.36,
          28541.1,
          28580.01,
          28571.08,
          28482.71,
          28424.98,
          28440.56,
          28425.49,
          28465.32,
          28372.84,
          28422.88,
          28417.81,
          28318.04,
          28400.07,
          28326,
          28372.36,
          28376.74,
          28381.97,
          28446.79,
          28477.73,
          28517.95,
          28452.74,
          28366.3,
          28388.35,
          28406.13,
          28476.58,
          28386.1,
          28470.01,
          28458.26,
          28416.37,
          28381.36,
          28410.57,
          28367.25,
          28357.93,
          28265.25,
          28279.52,
          28273.1,
          28124.8,
          28121.97,
          28194.4,
          28156.97,
          27943.84,
          28058.75,
          28014.8,
          28105.8,
          28171.87,
          28114.63,
          27709.85,
          27719.09,
          27753.85,
          27704.4,
          27679.58,
          27779.47,
          27958.73,
          28335,
          28327.33,
          28303.76,
          28253.73,
          28163,
          28258.79,
          27995.04,
          28051.48,
          27930.83,
          27986.48,
          28152,
          28081.08,
          27582.77,
          27714.57,
          27800,
          27800,
          27760.58,
          27816.16,
          27857.35,
          27855.06,
          27813.86,
          27890.01,
          28078.13,
          28021.31,
          28103.49,
          28198.77,
          28219.64,
          28289.51,
          28267.69,
          28111.03,
          28123,
          28030.05,
          28098.98,
          28226.98,
          28114.42,
          28189.25,
          28250.04,
          28223.62,
          28187.25,
          28165.47,
          28661.81,
          28571.42,
          28565.58,
          28544.73,
          28506.61,
          28582.84,
          28534.43,
          28525.2,
          28543.8,
          28508.75,
          28510,
          28554.37,
          28568.57,
          28404.57,
          28105.19,
          28031.09,
          27947.99,
          28023.75,
          28030.19,
          28240.64,
          28150.61,
          28181.06,
          28175.28,
          28170.01,
          27999.14,
          28064.45,
          28039.74,
          28128.42,
          28068.91,
          28036.75,
          28063.91,
          27910.97,
          27953.61,
          27904.04,
          27849.99,
          27945.51,
          27903.73,
          27891.16,
          27952.78,
          28090.39,
          28065.15,
          28041.41,
          27963.34,
          28017.77,
          27975.85,
          27989.15,
          28007.87,
          28033.83,
          28097.99,
          28056.51,
          28017.22,
          28038.67,
          28021.77,
          27980,
          27960.09,
          27839.79,
          27816.76,
          27869.48,
          27933.36,
          27840.89,
          27892.63,
          27896.92,
          27914.64,
          27944.09,
          27879.3,
          27911.5,
          27891.76,
          27897.51,
          27864.21,
          27891.13,
          27955.99,
          27906.34,
          27880.26,
          27903.24,
          27956.77,
          28023.39,
          27984.97,
          28140.91,
          28113.13,
          28086.22,
          28025.53,
          28032.49,
          28011.61,
          28016.09,
          27987.58,
          28020.66,
          28027.66,
          28014.71,
          28002.52,
          27935.11,
          27904.37,
          27924.13,
          27911.7,
          27929.8,
          27937.77,
          27938.38,
          28036.76,
          28077.78,
          28036.31,
          28027.71,
          28037.38,
          27999.25,
          27880.12,
          27903.01,
          27881.65,
          27898.59,
          27893.23,
          27930.2,
          27930.07,
          27905.62,
          27866.48,
          27891.91,
          27896.97,
          27906.67,
          28027.18,
          28140.41,
          28114.63,
          28437.2,
          28371.38,
          28323.76,
          28381.24,
          28304.04,
          28296.01,
          28278.45,
          28234.52,
          28282.17,
          28277.94,
          28284.57,
          28295.17,
          28310.28,
          28331.88,
          28305.59,
          28277.85,
          28217.45,
          28305.42,
          28439.39,
          29036.85,
          29160,
          29273.14,
          29173.05,
          29115.11,
          29222.34,
          29594,
          29637.35,
          29928.85,
          30189.9,
          30083.01,
          30115.95,
          30109.01,
          29883.84,
          30035.78,
          30106.9,
          30093.91,
          30052.38,
          30122.49,
          30055.14,
          30098.92,
          30246.3,
          30060.39,
          30194.23,
          30127.98,
          30207.57,
          30230.23,
          30130.02,
          30164.24,
          30189.51,
          30263.74,
          30200.43,
          30224.77,
          30170.8,
          29916.16,
          29922.04,
          29978.59,
          29919.99,
          29932.88,
          29986.99,
          29914.97,
          30007.67,
          29996.28,
          30016.31,
          30157.09,
          30053.72,
          30024.69,
          29964.03,
          29939.02,
          30023.93,
          29917.27,
          29798.59,
          29947.48,
          29944.12,
          29841.35,
          29888.07,
          29984.7,
          30065.13,
          30116.51,
          30072.17,
          30053.65,
          30105.08,
          30016.53,
          30068.6,
          30188.15,
          30204.85,
          30203.13,
          30159.81,
          30272.13,
          30175.75,
          30435.33,
          30441.43,
          30322.38,
          30425.85,
          30440.79,
          30335.13,
          30251.96,
          30283.7,
          30296.09,
          30373.84,
          30745.72,
          30775.34,
          30595.8,
          30690.89,
          30708.82,
          30796.27,
          30942.86,
          30733.73,
          30730.22,
          30794.16,
          30766.01,
          30801.89,
          30616.98,
          30721.54,
          30599.89,
          30237.88,
          30147.49,
          30276.62,
          30277.11,
          30324.09,
          30448.82,
          30454.09,
          30435.33,
          30466.93,
          30372.48,
          30370.01,
          30380,
          30376.13,
          30356.1,
          30427.05,
          30390.99,
          30433.29,
          30385.13,
          30459.94,
          30417.06,
          30385.31,
          30423.29,
          30335.19,
          30359.38,
          30325.27,
          30319.98,
          30246.22,
          30300.76,
          30331.74,
          30280.65,
          30263.77,
          30350.99,
          30295.1,
          30277.53,
          30236.96,
          30264.2,
          30249.36,
          30298.53,
          30306.32,
          30306.06,
          30344.97,
          30337.4,
          30279.34,
          30290.15,
          30226.46,
          30260.01,
          30249.99,
          30311.83,
          30332.98,
          30335,
          30300,
          30478.43,
          30309.05,
          30343.04,
          30385.61,
          30331.03,
          30304.66,
          29842.86,
          29946.22,
          30020,
          29982.8,
          29981.18,
          29997.9,
          29901.27,
          29838.3,
          29918.1,
          29876.96,
          29884.67,
          29570.8,
          29529.86,
          29402.2,
          29440.41,
          29358.3,
          29464.42,
          29462.67,
          29524.96,
          29467.25,
          29443.75,
          29452.22,
          29502.28,
          29430.27,
          29364.16,
          29373.53,
          29465.83,
          29447,
          29494.7,
          29542.15,
          29720.98,
          29775.61,
          29703.89,
          29897.69,
          29899.26,
          30380.59,
          30303.14,
          30381.32,
          30247.81,
          30184.85,
          30220.85,
          30025.51,
          30144.5,
          30221.53,
          30419.12,
          30371.68,
          30370.85,
          30380.01,
          30319.25,
          30233.42,
          30200.63,
          30211.23,
          30202.57,
          30268.28,
          30008.13,
          30077.76,
          29168.47,
          29200.58,
          29257.26,
          29310.64,
          29218.66,
          29333,
          29393.46,
          29260.43,
          29315.24,
          29318.14,
          29277.46,
          29227.06,
          29237.71,
          29169.99,
          29076.2,
          28797.1
         ],
         "type": "candlestick",
         "x": [
          "2023-04-01T00:00:00",
          "2023-04-01T01:00:00",
          "2023-04-01T02:00:00",
          "2023-04-01T03:00:00",
          "2023-04-01T04:00:00",
          "2023-04-01T05:00:00",
          "2023-04-01T06:00:00",
          "2023-04-01T07:00:00",
          "2023-04-01T08:00:00",
          "2023-04-01T09:00:00",
          "2023-04-01T10:00:00",
          "2023-04-01T11:00:00",
          "2023-04-01T12:00:00",
          "2023-04-01T13:00:00",
          "2023-04-01T14:00:00",
          "2023-04-01T15:00:00",
          "2023-04-01T16:00:00",
          "2023-04-01T17:00:00",
          "2023-04-01T18:00:00",
          "2023-04-01T19:00:00",
          "2023-04-01T20:00:00",
          "2023-04-01T21:00:00",
          "2023-04-01T22:00:00",
          "2023-04-01T23:00:00",
          "2023-04-02T00:00:00",
          "2023-04-02T01:00:00",
          "2023-04-02T02:00:00",
          "2023-04-02T03:00:00",
          "2023-04-02T04:00:00",
          "2023-04-02T05:00:00",
          "2023-04-02T06:00:00",
          "2023-04-02T07:00:00",
          "2023-04-02T08:00:00",
          "2023-04-02T09:00:00",
          "2023-04-02T10:00:00",
          "2023-04-02T11:00:00",
          "2023-04-02T12:00:00",
          "2023-04-02T13:00:00",
          "2023-04-02T14:00:00",
          "2023-04-02T15:00:00",
          "2023-04-02T16:00:00",
          "2023-04-02T17:00:00",
          "2023-04-02T18:00:00",
          "2023-04-02T19:00:00",
          "2023-04-02T20:00:00",
          "2023-04-02T21:00:00",
          "2023-04-02T22:00:00",
          "2023-04-02T23:00:00",
          "2023-04-03T00:00:00",
          "2023-04-03T01:00:00",
          "2023-04-03T02:00:00",
          "2023-04-03T03:00:00",
          "2023-04-03T04:00:00",
          "2023-04-03T05:00:00",
          "2023-04-03T06:00:00",
          "2023-04-03T07:00:00",
          "2023-04-03T08:00:00",
          "2023-04-03T09:00:00",
          "2023-04-03T10:00:00",
          "2023-04-03T11:00:00",
          "2023-04-03T12:00:00",
          "2023-04-03T13:00:00",
          "2023-04-03T14:00:00",
          "2023-04-03T15:00:00",
          "2023-04-03T16:00:00",
          "2023-04-03T17:00:00",
          "2023-04-03T18:00:00",
          "2023-04-03T19:00:00",
          "2023-04-03T20:00:00",
          "2023-04-03T21:00:00",
          "2023-04-03T22:00:00",
          "2023-04-03T23:00:00",
          "2023-04-04T00:00:00",
          "2023-04-04T01:00:00",
          "2023-04-04T02:00:00",
          "2023-04-04T03:00:00",
          "2023-04-04T04:00:00",
          "2023-04-04T05:00:00",
          "2023-04-04T06:00:00",
          "2023-04-04T07:00:00",
          "2023-04-04T08:00:00",
          "2023-04-04T09:00:00",
          "2023-04-04T10:00:00",
          "2023-04-04T11:00:00",
          "2023-04-04T12:00:00",
          "2023-04-04T13:00:00",
          "2023-04-04T14:00:00",
          "2023-04-04T15:00:00",
          "2023-04-04T16:00:00",
          "2023-04-04T17:00:00",
          "2023-04-04T18:00:00",
          "2023-04-04T19:00:00",
          "2023-04-04T20:00:00",
          "2023-04-04T21:00:00",
          "2023-04-04T22:00:00",
          "2023-04-04T23:00:00",
          "2023-04-05T00:00:00",
          "2023-04-05T01:00:00",
          "2023-04-05T02:00:00",
          "2023-04-05T03:00:00",
          "2023-04-05T04:00:00",
          "2023-04-05T05:00:00",
          "2023-04-05T06:00:00",
          "2023-04-05T07:00:00",
          "2023-04-05T08:00:00",
          "2023-04-05T09:00:00",
          "2023-04-05T10:00:00",
          "2023-04-05T11:00:00",
          "2023-04-05T12:00:00",
          "2023-04-05T13:00:00",
          "2023-04-05T14:00:00",
          "2023-04-05T15:00:00",
          "2023-04-05T16:00:00",
          "2023-04-05T17:00:00",
          "2023-04-05T18:00:00",
          "2023-04-05T19:00:00",
          "2023-04-05T20:00:00",
          "2023-04-05T21:00:00",
          "2023-04-05T22:00:00",
          "2023-04-05T23:00:00",
          "2023-04-06T00:00:00",
          "2023-04-06T01:00:00",
          "2023-04-06T02:00:00",
          "2023-04-06T03:00:00",
          "2023-04-06T04:00:00",
          "2023-04-06T05:00:00",
          "2023-04-06T06:00:00",
          "2023-04-06T07:00:00",
          "2023-04-06T08:00:00",
          "2023-04-06T09:00:00",
          "2023-04-06T10:00:00",
          "2023-04-06T11:00:00",
          "2023-04-06T12:00:00",
          "2023-04-06T13:00:00",
          "2023-04-06T14:00:00",
          "2023-04-06T15:00:00",
          "2023-04-06T16:00:00",
          "2023-04-06T17:00:00",
          "2023-04-06T18:00:00",
          "2023-04-06T19:00:00",
          "2023-04-06T20:00:00",
          "2023-04-06T21:00:00",
          "2023-04-06T22:00:00",
          "2023-04-06T23:00:00",
          "2023-04-07T00:00:00",
          "2023-04-07T01:00:00",
          "2023-04-07T02:00:00",
          "2023-04-07T03:00:00",
          "2023-04-07T04:00:00",
          "2023-04-07T05:00:00",
          "2023-04-07T06:00:00",
          "2023-04-07T07:00:00",
          "2023-04-07T08:00:00",
          "2023-04-07T09:00:00",
          "2023-04-07T10:00:00",
          "2023-04-07T11:00:00",
          "2023-04-07T12:00:00",
          "2023-04-07T13:00:00",
          "2023-04-07T14:00:00",
          "2023-04-07T15:00:00",
          "2023-04-07T16:00:00",
          "2023-04-07T17:00:00",
          "2023-04-07T18:00:00",
          "2023-04-07T19:00:00",
          "2023-04-07T20:00:00",
          "2023-04-07T21:00:00",
          "2023-04-07T22:00:00",
          "2023-04-07T23:00:00",
          "2023-04-08T00:00:00",
          "2023-04-08T01:00:00",
          "2023-04-08T02:00:00",
          "2023-04-08T03:00:00",
          "2023-04-08T04:00:00",
          "2023-04-08T05:00:00",
          "2023-04-08T06:00:00",
          "2023-04-08T07:00:00",
          "2023-04-08T08:00:00",
          "2023-04-08T09:00:00",
          "2023-04-08T10:00:00",
          "2023-04-08T11:00:00",
          "2023-04-08T12:00:00",
          "2023-04-08T13:00:00",
          "2023-04-08T14:00:00",
          "2023-04-08T15:00:00",
          "2023-04-08T16:00:00",
          "2023-04-08T17:00:00",
          "2023-04-08T18:00:00",
          "2023-04-08T19:00:00",
          "2023-04-08T20:00:00",
          "2023-04-08T21:00:00",
          "2023-04-08T22:00:00",
          "2023-04-08T23:00:00",
          "2023-04-09T00:00:00",
          "2023-04-09T01:00:00",
          "2023-04-09T02:00:00",
          "2023-04-09T03:00:00",
          "2023-04-09T04:00:00",
          "2023-04-09T05:00:00",
          "2023-04-09T06:00:00",
          "2023-04-09T07:00:00",
          "2023-04-09T08:00:00",
          "2023-04-09T09:00:00",
          "2023-04-09T10:00:00",
          "2023-04-09T11:00:00",
          "2023-04-09T12:00:00",
          "2023-04-09T13:00:00",
          "2023-04-09T14:00:00",
          "2023-04-09T15:00:00",
          "2023-04-09T16:00:00",
          "2023-04-09T17:00:00",
          "2023-04-09T18:00:00",
          "2023-04-09T19:00:00",
          "2023-04-09T20:00:00",
          "2023-04-09T21:00:00",
          "2023-04-09T22:00:00",
          "2023-04-09T23:00:00",
          "2023-04-10T00:00:00",
          "2023-04-10T01:00:00",
          "2023-04-10T02:00:00",
          "2023-04-10T03:00:00",
          "2023-04-10T04:00:00",
          "2023-04-10T05:00:00",
          "2023-04-10T06:00:00",
          "2023-04-10T07:00:00",
          "2023-04-10T08:00:00",
          "2023-04-10T09:00:00",
          "2023-04-10T10:00:00",
          "2023-04-10T11:00:00",
          "2023-04-10T12:00:00",
          "2023-04-10T13:00:00",
          "2023-04-10T14:00:00",
          "2023-04-10T15:00:00",
          "2023-04-10T16:00:00",
          "2023-04-10T17:00:00",
          "2023-04-10T18:00:00",
          "2023-04-10T19:00:00",
          "2023-04-10T20:00:00",
          "2023-04-10T21:00:00",
          "2023-04-10T22:00:00",
          "2023-04-10T23:00:00",
          "2023-04-11T00:00:00",
          "2023-04-11T01:00:00",
          "2023-04-11T02:00:00",
          "2023-04-11T03:00:00",
          "2023-04-11T04:00:00",
          "2023-04-11T05:00:00",
          "2023-04-11T06:00:00",
          "2023-04-11T07:00:00",
          "2023-04-11T08:00:00",
          "2023-04-11T09:00:00",
          "2023-04-11T10:00:00",
          "2023-04-11T11:00:00",
          "2023-04-11T12:00:00",
          "2023-04-11T13:00:00",
          "2023-04-11T14:00:00",
          "2023-04-11T15:00:00",
          "2023-04-11T16:00:00",
          "2023-04-11T17:00:00",
          "2023-04-11T18:00:00",
          "2023-04-11T19:00:00",
          "2023-04-11T20:00:00",
          "2023-04-11T21:00:00",
          "2023-04-11T22:00:00",
          "2023-04-11T23:00:00",
          "2023-04-12T00:00:00",
          "2023-04-12T01:00:00",
          "2023-04-12T02:00:00",
          "2023-04-12T03:00:00",
          "2023-04-12T04:00:00",
          "2023-04-12T05:00:00",
          "2023-04-12T06:00:00",
          "2023-04-12T07:00:00",
          "2023-04-12T08:00:00",
          "2023-04-12T09:00:00",
          "2023-04-12T10:00:00",
          "2023-04-12T11:00:00",
          "2023-04-12T12:00:00",
          "2023-04-12T13:00:00",
          "2023-04-12T14:00:00",
          "2023-04-12T15:00:00",
          "2023-04-12T16:00:00",
          "2023-04-12T17:00:00",
          "2023-04-12T18:00:00",
          "2023-04-12T19:00:00",
          "2023-04-12T20:00:00",
          "2023-04-12T21:00:00",
          "2023-04-12T22:00:00",
          "2023-04-12T23:00:00",
          "2023-04-13T00:00:00",
          "2023-04-13T01:00:00",
          "2023-04-13T02:00:00",
          "2023-04-13T03:00:00",
          "2023-04-13T04:00:00",
          "2023-04-13T05:00:00",
          "2023-04-13T06:00:00",
          "2023-04-13T07:00:00",
          "2023-04-13T08:00:00",
          "2023-04-13T09:00:00",
          "2023-04-13T10:00:00",
          "2023-04-13T11:00:00",
          "2023-04-13T12:00:00",
          "2023-04-13T13:00:00",
          "2023-04-13T14:00:00",
          "2023-04-13T15:00:00",
          "2023-04-13T16:00:00",
          "2023-04-13T17:00:00",
          "2023-04-13T18:00:00",
          "2023-04-13T19:00:00",
          "2023-04-13T20:00:00",
          "2023-04-13T21:00:00",
          "2023-04-13T22:00:00",
          "2023-04-13T23:00:00",
          "2023-04-14T00:00:00",
          "2023-04-14T01:00:00",
          "2023-04-14T02:00:00",
          "2023-04-14T03:00:00",
          "2023-04-14T04:00:00",
          "2023-04-14T05:00:00",
          "2023-04-14T06:00:00",
          "2023-04-14T07:00:00",
          "2023-04-14T08:00:00",
          "2023-04-14T09:00:00",
          "2023-04-14T10:00:00",
          "2023-04-14T11:00:00",
          "2023-04-14T12:00:00",
          "2023-04-14T13:00:00",
          "2023-04-14T14:00:00",
          "2023-04-14T15:00:00",
          "2023-04-14T16:00:00",
          "2023-04-14T17:00:00",
          "2023-04-14T18:00:00",
          "2023-04-14T19:00:00",
          "2023-04-14T20:00:00",
          "2023-04-14T21:00:00",
          "2023-04-14T22:00:00",
          "2023-04-14T23:00:00",
          "2023-04-15T00:00:00",
          "2023-04-15T01:00:00",
          "2023-04-15T02:00:00",
          "2023-04-15T03:00:00",
          "2023-04-15T04:00:00",
          "2023-04-15T05:00:00",
          "2023-04-15T06:00:00",
          "2023-04-15T07:00:00",
          "2023-04-15T08:00:00",
          "2023-04-15T09:00:00",
          "2023-04-15T10:00:00",
          "2023-04-15T11:00:00",
          "2023-04-15T12:00:00",
          "2023-04-15T13:00:00",
          "2023-04-15T14:00:00",
          "2023-04-15T15:00:00",
          "2023-04-15T16:00:00",
          "2023-04-15T17:00:00",
          "2023-04-15T18:00:00",
          "2023-04-15T19:00:00",
          "2023-04-15T20:00:00",
          "2023-04-15T21:00:00",
          "2023-04-15T22:00:00",
          "2023-04-15T23:00:00",
          "2023-04-16T00:00:00",
          "2023-04-16T01:00:00",
          "2023-04-16T02:00:00",
          "2023-04-16T03:00:00",
          "2023-04-16T04:00:00",
          "2023-04-16T05:00:00",
          "2023-04-16T06:00:00",
          "2023-04-16T07:00:00",
          "2023-04-16T08:00:00",
          "2023-04-16T09:00:00",
          "2023-04-16T10:00:00",
          "2023-04-16T11:00:00",
          "2023-04-16T12:00:00",
          "2023-04-16T13:00:00",
          "2023-04-16T14:00:00",
          "2023-04-16T15:00:00",
          "2023-04-16T16:00:00",
          "2023-04-16T17:00:00",
          "2023-04-16T18:00:00",
          "2023-04-16T19:00:00",
          "2023-04-16T20:00:00",
          "2023-04-16T21:00:00",
          "2023-04-16T22:00:00",
          "2023-04-16T23:00:00",
          "2023-04-17T00:00:00",
          "2023-04-17T01:00:00",
          "2023-04-17T02:00:00",
          "2023-04-17T03:00:00",
          "2023-04-17T04:00:00",
          "2023-04-17T05:00:00",
          "2023-04-17T06:00:00",
          "2023-04-17T07:00:00",
          "2023-04-17T08:00:00",
          "2023-04-17T09:00:00",
          "2023-04-17T10:00:00",
          "2023-04-17T11:00:00",
          "2023-04-17T12:00:00",
          "2023-04-17T13:00:00",
          "2023-04-17T14:00:00",
          "2023-04-17T15:00:00",
          "2023-04-17T16:00:00",
          "2023-04-17T17:00:00",
          "2023-04-17T18:00:00",
          "2023-04-17T19:00:00",
          "2023-04-17T20:00:00",
          "2023-04-17T21:00:00",
          "2023-04-17T22:00:00",
          "2023-04-17T23:00:00",
          "2023-04-18T00:00:00",
          "2023-04-18T01:00:00",
          "2023-04-18T02:00:00",
          "2023-04-18T03:00:00",
          "2023-04-18T04:00:00",
          "2023-04-18T05:00:00",
          "2023-04-18T06:00:00",
          "2023-04-18T07:00:00",
          "2023-04-18T08:00:00",
          "2023-04-18T09:00:00",
          "2023-04-18T10:00:00",
          "2023-04-18T11:00:00",
          "2023-04-18T12:00:00",
          "2023-04-18T13:00:00",
          "2023-04-18T14:00:00",
          "2023-04-18T15:00:00",
          "2023-04-18T16:00:00",
          "2023-04-18T17:00:00",
          "2023-04-18T18:00:00",
          "2023-04-18T19:00:00",
          "2023-04-18T20:00:00",
          "2023-04-18T21:00:00",
          "2023-04-18T22:00:00",
          "2023-04-18T23:00:00",
          "2023-04-19T00:00:00",
          "2023-04-19T01:00:00",
          "2023-04-19T02:00:00",
          "2023-04-19T03:00:00",
          "2023-04-19T04:00:00",
          "2023-04-19T05:00:00",
          "2023-04-19T06:00:00",
          "2023-04-19T07:00:00",
          "2023-04-19T08:00:00",
          "2023-04-19T09:00:00",
          "2023-04-19T10:00:00",
          "2023-04-19T11:00:00",
          "2023-04-19T12:00:00",
          "2023-04-19T13:00:00",
          "2023-04-19T14:00:00",
          "2023-04-19T15:00:00",
          "2023-04-19T16:00:00",
          "2023-04-19T17:00:00",
          "2023-04-19T18:00:00",
          "2023-04-19T19:00:00",
          "2023-04-19T20:00:00",
          "2023-04-19T21:00:00",
          "2023-04-19T22:00:00",
          "2023-04-19T23:00:00",
          "2023-04-20T00:00:00"
         ]
        },
        {
         "mode": "markers",
         "name": "daily",
         "type": "scatter",
         "x": [
          "2023-04-02T13:03:00",
          "2023-04-03T01:42:00",
          "2023-04-03T08:08:00",
          "2023-04-03T17:00:00",
          "2023-04-03T20:15:00",
          "2023-04-03T22:17:00",
          "2023-04-04T10:03:00",
          "2023-04-05T00:55:00",
          "2023-04-05T14:11:00",
          "2023-04-09T21:40:00",
          "2023-04-10T16:50:00",
          "2023-04-10T22:02:00",
          "2023-04-11T01:53:00",
          "2023-04-11T19:18:00",
          "2023-04-12T02:54:00",
          "2023-04-12T12:34:00",
          "2023-04-12T15:12:00",
          "2023-04-13T09:15:00",
          "2023-04-14T00:39:00",
          "2023-04-14T15:26:00",
          "2023-04-17T00:36:00",
          "2023-04-17T11:34:00",
          "2023-04-18T06:24:00",
          "2023-04-18T11:38:00",
          "2023-04-19T08:09:00",
          "2023-04-19T08:22:00",
          "2023-04-19T21:43:00"
         ],
         "y": [
          28228.25,
          27747.99,
          28169.99,
          27910.23,
          27628.01,
          27851.86,
          28247.62,
          28625.03,
          28139.07,
          28341.37,
          28898.31,
          29495.1,
          30199.44,
          30466.58,
          29820,
          30425.82,
          29748.63,
          30344.55,
          30759.12,
          30304.12,
          29940.78,
          29429.45,
          29738.3,
          30264.27,
          29806.07,
          29163.45,
          28855.15
         ]
        }
       ],
       "layout": {
        "template": {
         "data": {
          "bar": [
           {
            "error_x": {
             "color": "#2a3f5f"
            },
            "error_y": {
             "color": "#2a3f5f"
            },
            "marker": {
             "line": {
              "color": "#E5ECF6",
              "width": 0.5
             },
             "pattern": {
              "fillmode": "overlay",
              "size": 10,
              "solidity": 0.2
             }
            },
            "type": "bar"
           }
          ],
          "barpolar": [
           {
            "marker": {
             "line": {
              "color": "#E5ECF6",
              "width": 0.5
             },
             "pattern": {
              "fillmode": "overlay",
              "size": 10,
              "solidity": 0.2
             }
            },
            "type": "barpolar"
           }
          ],
          "carpet": [
           {
            "aaxis": {
             "endlinecolor": "#2a3f5f",
             "gridcolor": "white",
             "linecolor": "white",
             "minorgridcolor": "white",
             "startlinecolor": "#2a3f5f"
            },
            "baxis": {
             "endlinecolor": "#2a3f5f",
             "gridcolor": "white",
             "linecolor": "white",
             "minorgridcolor": "white",
             "startlinecolor": "#2a3f5f"
            },
            "type": "carpet"
           }
          ],
          "choropleth": [
           {
            "colorbar": {
             "outlinewidth": 0,
             "ticks": ""
            },
            "type": "choropleth"
           }
          ],
          "contour": [
           {
            "colorbar": {
             "outlinewidth": 0,
             "ticks": ""
            },
            "colorscale": [
             [
              0,
              "#0d0887"
             ],
             [
              0.1111111111111111,
              "#46039f"
             ],
             [
              0.2222222222222222,
              "#7201a8"
             ],
             [
              0.3333333333333333,
              "#9c179e"
             ],
             [
              0.4444444444444444,
              "#bd3786"
             ],
             [
              0.5555555555555556,
              "#d8576b"
             ],
             [
              0.6666666666666666,
              "#ed7953"
             ],
             [
              0.7777777777777778,
              "#fb9f3a"
             ],
             [
              0.8888888888888888,
              "#fdca26"
             ],
             [
              1,
              "#f0f921"
             ]
            ],
            "type": "contour"
           }
          ],
          "contourcarpet": [
           {
            "colorbar": {
             "outlinewidth": 0,
             "ticks": ""
            },
            "type": "contourcarpet"
           }
          ],
          "heatmap": [
           {
            "colorbar": {
             "outlinewidth": 0,
             "ticks": ""
            },
            "colorscale": [
             [
              0,
              "#0d0887"
             ],
             [
              0.1111111111111111,
              "#46039f"
             ],
             [
              0.2222222222222222,
              "#7201a8"
             ],
             [
              0.3333333333333333,
              "#9c179e"
             ],
             [
              0.4444444444444444,
              "#bd3786"
             ],
             [
              0.5555555555555556,
              "#d8576b"
             ],
             [
              0.6666666666666666,
              "#ed7953"
             ],
             [
              0.7777777777777778,
              "#fb9f3a"
             ],
             [
              0.8888888888888888,
              "#fdca26"
             ],
             [
              1,
              "#f0f921"
             ]
            ],
            "type": "heatmap"
           }
          ],
          "heatmapgl": [
           {
            "colorbar": {
             "outlinewidth": 0,
             "ticks": ""
            },
            "colorscale": [
             [
              0,
              "#0d0887"
             ],
             [
              0.1111111111111111,
              "#46039f"
             ],
             [
              0.2222222222222222,
              "#7201a8"
             ],
             [
              0.3333333333333333,
              "#9c179e"
             ],
             [
              0.4444444444444444,
              "#bd3786"
             ],
             [
              0.5555555555555556,
              "#d8576b"
             ],
             [
              0.6666666666666666,
              "#ed7953"
             ],
             [
              0.7777777777777778,
              "#fb9f3a"
             ],
             [
              0.8888888888888888,
              "#fdca26"
             ],
             [
              1,
              "#f0f921"
             ]
            ],
            "type": "heatmapgl"
           }
          ],
          "histogram": [
           {
            "marker": {
             "pattern": {
              "fillmode": "overlay",
              "size": 10,
              "solidity": 0.2
             }
            },
            "type": "histogram"
           }
          ],
          "histogram2d": [
           {
            "colorbar": {
             "outlinewidth": 0,
             "ticks": ""
            },
            "colorscale": [
             [
              0,
              "#0d0887"
             ],
             [
              0.1111111111111111,
              "#46039f"
             ],
             [
              0.2222222222222222,
              "#7201a8"
             ],
             [
              0.3333333333333333,
              "#9c179e"
             ],
             [
              0.4444444444444444,
              "#bd3786"
             ],
             [
              0.5555555555555556,
              "#d8576b"
             ],
             [
              0.6666666666666666,
              "#ed7953"
             ],
             [
              0.7777777777777778,
              "#fb9f3a"
             ],
             [
              0.8888888888888888,
              "#fdca26"
             ],
             [
              1,
              "#f0f921"
             ]
            ],
            "type": "histogram2d"
           }
          ],
          "histogram2dcontour": [
           {
            "colorbar": {
             "outlinewidth": 0,
             "ticks": ""
            },
            "colorscale": [
             [
              0,
              "#0d0887"
             ],
             [
              0.1111111111111111,
              "#46039f"
             ],
             [
              0.2222222222222222,
              "#7201a8"
             ],
             [
              0.3333333333333333,
              "#9c179e"
             ],
             [
              0.4444444444444444,
              "#bd3786"
             ],
             [
              0.5555555555555556,
              "#d8576b"
             ],
             [
              0.6666666666666666,
              "#ed7953"
             ],
             [
              0.7777777777777778,
              "#fb9f3a"
             ],
             [
              0.8888888888888888,
              "#fdca26"
             ],
             [
              1,
              "#f0f921"
             ]
            ],
            "type": "histogram2dcontour"
           }
          ],
          "mesh3d": [
           {
            "colorbar": {
             "outlinewidth": 0,
             "ticks": ""
            },
            "type": "mesh3d"
           }
          ],
          "parcoords": [
           {
            "line": {
             "colorbar": {
              "outlinewidth": 0,
              "ticks": ""
             }
            },
            "type": "parcoords"
           }
          ],
          "pie": [
           {
            "automargin": true,
            "type": "pie"
           }
          ],
          "scatter": [
           {
            "fillpattern": {
             "fillmode": "overlay",
             "size": 10,
             "solidity": 0.2
            },
            "type": "scatter"
           }
          ],
          "scatter3d": [
           {
            "line": {
             "colorbar": {
              "outlinewidth": 0,
              "ticks": ""
             }
            },
            "marker": {
             "colorbar": {
              "outlinewidth": 0,
              "ticks": ""
             }
            },
            "type": "scatter3d"
           }
          ],
          "scattercarpet": [
           {
            "marker": {
             "colorbar": {
              "outlinewidth": 0,
              "ticks": ""
             }
            },
            "type": "scattercarpet"
           }
          ],
          "scattergeo": [
           {
            "marker": {
             "colorbar": {
              "outlinewidth": 0,
              "ticks": ""
             }
            },
            "type": "scattergeo"
           }
          ],
          "scattergl": [
           {
            "marker": {
             "colorbar": {
              "outlinewidth": 0,
              "ticks": ""
             }
            },
            "type": "scattergl"
           }
          ],
          "scattermapbox": [
           {
            "marker": {
             "colorbar": {
              "outlinewidth": 0,
              "ticks": ""
             }
            },
            "type": "scattermapbox"
           }
          ],
          "scatterpolar": [
           {
            "marker": {
             "colorbar": {
              "outlinewidth": 0,
              "ticks": ""
             }
            },
            "type": "scatterpolar"
           }
          ],
          "scatterpolargl": [
           {
            "marker": {
             "colorbar": {
              "outlinewidth": 0,
              "ticks": ""
             }
            },
            "type": "scatterpolargl"
           }
          ],
          "scatterternary": [
           {
            "marker": {
             "colorbar": {
              "outlinewidth": 0,
              "ticks": ""
             }
            },
            "type": "scatterternary"
           }
          ],
          "surface": [
           {
            "colorbar": {
             "outlinewidth": 0,
             "ticks": ""
            },
            "colorscale": [
             [
              0,
              "#0d0887"
             ],
             [
              0.1111111111111111,
              "#46039f"
             ],
             [
              0.2222222222222222,
              "#7201a8"
             ],
             [
              0.3333333333333333,
              "#9c179e"
             ],
             [
              0.4444444444444444,
              "#bd3786"
             ],
             [
              0.5555555555555556,
              "#d8576b"
             ],
             [
              0.6666666666666666,
              "#ed7953"
             ],
             [
              0.7777777777777778,
              "#fb9f3a"
             ],
             [
              0.8888888888888888,
              "#fdca26"
             ],
             [
              1,
              "#f0f921"
             ]
            ],
            "type": "surface"
           }
          ],
          "table": [
           {
            "cells": {
             "fill": {
              "color": "#EBF0F8"
             },
             "line": {
              "color": "white"
             }
            },
            "header": {
             "fill": {
              "color": "#C8D4E3"
             },
             "line": {
              "color": "white"
             }
            },
            "type": "table"
           }
          ]
         },
         "layout": {
          "annotationdefaults": {
           "arrowcolor": "#2a3f5f",
           "arrowhead": 0,
           "arrowwidth": 1
          },
          "autotypenumbers": "strict",
          "coloraxis": {
           "colorbar": {
            "outlinewidth": 0,
            "ticks": ""
           }
          },
          "colorscale": {
           "diverging": [
            [
             0,
             "#8e0152"
            ],
            [
             0.1,
             "#c51b7d"
            ],
            [
             0.2,
             "#de77ae"
            ],
            [
             0.3,
             "#f1b6da"
            ],
            [
             0.4,
             "#fde0ef"
            ],
            [
             0.5,
             "#f7f7f7"
            ],
            [
             0.6,
             "#e6f5d0"
            ],
            [
             0.7,
             "#b8e186"
            ],
            [
             0.8,
             "#7fbc41"
            ],
            [
             0.9,
             "#4d9221"
            ],
            [
             1,
             "#276419"
            ]
           ],
           "sequential": [
            [
             0,
             "#0d0887"
            ],
            [
             0.1111111111111111,
             "#46039f"
            ],
            [
             0.2222222222222222,
             "#7201a8"
            ],
            [
             0.3333333333333333,
             "#9c179e"
            ],
            [
             0.4444444444444444,
             "#bd3786"
            ],
            [
             0.5555555555555556,
             "#d8576b"
            ],
            [
             0.6666666666666666,
             "#ed7953"
            ],
            [
             0.7777777777777778,
             "#fb9f3a"
            ],
            [
             0.8888888888888888,
             "#fdca26"
            ],
            [
             1,
             "#f0f921"
            ]
           ],
           "sequentialminus": [
            [
             0,
             "#0d0887"
            ],
            [
             0.1111111111111111,
             "#46039f"
            ],
            [
             0.2222222222222222,
             "#7201a8"
            ],
            [
             0.3333333333333333,
             "#9c179e"
            ],
            [
             0.4444444444444444,
             "#bd3786"
            ],
            [
             0.5555555555555556,
             "#d8576b"
            ],
            [
             0.6666666666666666,
             "#ed7953"
            ],
            [
             0.7777777777777778,
             "#fb9f3a"
            ],
            [
             0.8888888888888888,
             "#fdca26"
            ],
            [
             1,
             "#f0f921"
            ]
           ]
          },
          "colorway": [
           "#636efa",
           "#EF553B",
           "#00cc96",
           "#ab63fa",
           "#FFA15A",
           "#19d3f3",
           "#FF6692",
           "#B6E880",
           "#FF97FF",
           "#FECB52"
          ],
          "font": {
           "color": "#2a3f5f"
          },
          "geo": {
           "bgcolor": "white",
           "lakecolor": "white",
           "landcolor": "#E5ECF6",
           "showlakes": true,
           "showland": true,
           "subunitcolor": "white"
          },
          "hoverlabel": {
           "align": "left"
          },
          "hovermode": "closest",
          "mapbox": {
           "style": "light"
          },
          "paper_bgcolor": "white",
          "plot_bgcolor": "#E5ECF6",
          "polar": {
           "angularaxis": {
            "gridcolor": "white",
            "linecolor": "white",
            "ticks": ""
           },
           "bgcolor": "#E5ECF6",
           "radialaxis": {
            "gridcolor": "white",
            "linecolor": "white",
            "ticks": ""
           }
          },
          "scene": {
           "xaxis": {
            "backgroundcolor": "#E5ECF6",
            "gridcolor": "white",
            "gridwidth": 2,
            "linecolor": "white",
            "showbackground": true,
            "ticks": "",
            "zerolinecolor": "white"
           },
           "yaxis": {
            "backgroundcolor": "#E5ECF6",
            "gridcolor": "white",
            "gridwidth": 2,
            "linecolor": "white",
            "showbackground": true,
            "ticks": "",
            "zerolinecolor": "white"
           },
           "zaxis": {
            "backgroundcolor": "#E5ECF6",
            "gridcolor": "white",
            "gridwidth": 2,
            "linecolor": "white",
            "showbackground": true,
            "ticks": "",
            "zerolinecolor": "white"
           }
          },
          "shapedefaults": {
           "line": {
            "color": "#2a3f5f"
           }
          },
          "ternary": {
           "aaxis": {
            "gridcolor": "white",
            "linecolor": "white",
            "ticks": ""
           },
           "baxis": {
            "gridcolor": "white",
            "linecolor": "white",
            "ticks": ""
           },
           "bgcolor": "#E5ECF6",
           "caxis": {
            "gridcolor": "white",
            "linecolor": "white",
            "ticks": ""
           }
          },
          "title": {
           "x": 0.05
          },
          "xaxis": {
           "automargin": true,
           "gridcolor": "white",
           "linecolor": "white",
           "ticks": "",
           "title": {
            "standoff": 15
           },
           "zerolinecolor": "white",
           "zerolinewidth": 2
          },
          "yaxis": {
           "automargin": true,
           "gridcolor": "white",
           "linecolor": "white",
           "ticks": "",
           "title": {
            "standoff": 15
           },
           "zerolinecolor": "white",
           "zerolinewidth": 2
          }
         }
        }
       }
      }
     },
     "metadata": {},
     "output_type": "display_data"
    }
   ],
   "source": [
    "fig = go.Figure(data=[go.Candlestick(x=btc_60_min_subset['datetime'],\n",
    "                open=btc_60_min_subset['open'],\n",
    "                high=btc_60_min_subset['high'],\n",
    "                low=btc_60_min_subset['low'],\n",
    "                close=btc_60_min_subset['close'])])\n",
    "fig.add_trace(go.Scatter(mode=\"markers\", x=btc_cumsum_subset[\"datetime\"], y=btc_cumsum_subset[\"close\"], name=\"daily\"))\n",
    "\n",
    "fig.show()"
   ]
  },
  {
   "cell_type": "code",
   "execution_count": 62,
   "metadata": {},
   "outputs": [
    {
     "data": {
      "application/vnd.plotly.v1+json": {
       "config": {
        "plotlyServerURL": "https://plot.ly"
       },
       "data": [
        {
         "line": {
          "color": "cornflowerblue",
          "width": 7
         },
         "name": "1h close price",
         "type": "scatter",
         "x": [
          "2023-04-01T00:00:00",
          "2023-04-01T01:00:00",
          "2023-04-01T02:00:00",
          "2023-04-01T03:00:00",
          "2023-04-01T04:00:00",
          "2023-04-01T05:00:00",
          "2023-04-01T06:00:00",
          "2023-04-01T07:00:00",
          "2023-04-01T08:00:00",
          "2023-04-01T09:00:00",
          "2023-04-01T10:00:00",
          "2023-04-01T11:00:00",
          "2023-04-01T12:00:00",
          "2023-04-01T13:00:00",
          "2023-04-01T14:00:00",
          "2023-04-01T15:00:00",
          "2023-04-01T16:00:00",
          "2023-04-01T17:00:00",
          "2023-04-01T18:00:00",
          "2023-04-01T19:00:00",
          "2023-04-01T20:00:00",
          "2023-04-01T21:00:00",
          "2023-04-01T22:00:00",
          "2023-04-01T23:00:00",
          "2023-04-02T00:00:00",
          "2023-04-02T01:00:00",
          "2023-04-02T02:00:00",
          "2023-04-02T03:00:00",
          "2023-04-02T04:00:00",
          "2023-04-02T05:00:00",
          "2023-04-02T06:00:00",
          "2023-04-02T07:00:00",
          "2023-04-02T08:00:00",
          "2023-04-02T09:00:00",
          "2023-04-02T10:00:00",
          "2023-04-02T11:00:00",
          "2023-04-02T12:00:00",
          "2023-04-02T13:00:00",
          "2023-04-02T14:00:00",
          "2023-04-02T15:00:00",
          "2023-04-02T16:00:00",
          "2023-04-02T17:00:00",
          "2023-04-02T18:00:00",
          "2023-04-02T19:00:00",
          "2023-04-02T20:00:00",
          "2023-04-02T21:00:00",
          "2023-04-02T22:00:00",
          "2023-04-02T23:00:00",
          "2023-04-03T00:00:00",
          "2023-04-03T01:00:00",
          "2023-04-03T02:00:00",
          "2023-04-03T03:00:00",
          "2023-04-03T04:00:00",
          "2023-04-03T05:00:00",
          "2023-04-03T06:00:00",
          "2023-04-03T07:00:00",
          "2023-04-03T08:00:00",
          "2023-04-03T09:00:00",
          "2023-04-03T10:00:00",
          "2023-04-03T11:00:00",
          "2023-04-03T12:00:00",
          "2023-04-03T13:00:00",
          "2023-04-03T14:00:00",
          "2023-04-03T15:00:00",
          "2023-04-03T16:00:00",
          "2023-04-03T17:00:00",
          "2023-04-03T18:00:00",
          "2023-04-03T19:00:00",
          "2023-04-03T20:00:00",
          "2023-04-03T21:00:00",
          "2023-04-03T22:00:00",
          "2023-04-03T23:00:00",
          "2023-04-04T00:00:00",
          "2023-04-04T01:00:00",
          "2023-04-04T02:00:00",
          "2023-04-04T03:00:00",
          "2023-04-04T04:00:00",
          "2023-04-04T05:00:00",
          "2023-04-04T06:00:00",
          "2023-04-04T07:00:00",
          "2023-04-04T08:00:00",
          "2023-04-04T09:00:00",
          "2023-04-04T10:00:00",
          "2023-04-04T11:00:00",
          "2023-04-04T12:00:00",
          "2023-04-04T13:00:00",
          "2023-04-04T14:00:00",
          "2023-04-04T15:00:00",
          "2023-04-04T16:00:00",
          "2023-04-04T17:00:00",
          "2023-04-04T18:00:00",
          "2023-04-04T19:00:00",
          "2023-04-04T20:00:00",
          "2023-04-04T21:00:00",
          "2023-04-04T22:00:00",
          "2023-04-04T23:00:00",
          "2023-04-05T00:00:00",
          "2023-04-05T01:00:00",
          "2023-04-05T02:00:00",
          "2023-04-05T03:00:00",
          "2023-04-05T04:00:00",
          "2023-04-05T05:00:00",
          "2023-04-05T06:00:00",
          "2023-04-05T07:00:00",
          "2023-04-05T08:00:00",
          "2023-04-05T09:00:00",
          "2023-04-05T10:00:00",
          "2023-04-05T11:00:00",
          "2023-04-05T12:00:00",
          "2023-04-05T13:00:00",
          "2023-04-05T14:00:00",
          "2023-04-05T15:00:00",
          "2023-04-05T16:00:00",
          "2023-04-05T17:00:00",
          "2023-04-05T18:00:00",
          "2023-04-05T19:00:00",
          "2023-04-05T20:00:00",
          "2023-04-05T21:00:00",
          "2023-04-05T22:00:00",
          "2023-04-05T23:00:00",
          "2023-04-06T00:00:00",
          "2023-04-06T01:00:00",
          "2023-04-06T02:00:00",
          "2023-04-06T03:00:00",
          "2023-04-06T04:00:00",
          "2023-04-06T05:00:00",
          "2023-04-06T06:00:00",
          "2023-04-06T07:00:00",
          "2023-04-06T08:00:00",
          "2023-04-06T09:00:00",
          "2023-04-06T10:00:00",
          "2023-04-06T11:00:00",
          "2023-04-06T12:00:00",
          "2023-04-06T13:00:00",
          "2023-04-06T14:00:00",
          "2023-04-06T15:00:00",
          "2023-04-06T16:00:00",
          "2023-04-06T17:00:00",
          "2023-04-06T18:00:00",
          "2023-04-06T19:00:00",
          "2023-04-06T20:00:00",
          "2023-04-06T21:00:00",
          "2023-04-06T22:00:00",
          "2023-04-06T23:00:00",
          "2023-04-07T00:00:00",
          "2023-04-07T01:00:00",
          "2023-04-07T02:00:00",
          "2023-04-07T03:00:00",
          "2023-04-07T04:00:00",
          "2023-04-07T05:00:00",
          "2023-04-07T06:00:00",
          "2023-04-07T07:00:00",
          "2023-04-07T08:00:00",
          "2023-04-07T09:00:00",
          "2023-04-07T10:00:00",
          "2023-04-07T11:00:00",
          "2023-04-07T12:00:00",
          "2023-04-07T13:00:00",
          "2023-04-07T14:00:00",
          "2023-04-07T15:00:00",
          "2023-04-07T16:00:00",
          "2023-04-07T17:00:00",
          "2023-04-07T18:00:00",
          "2023-04-07T19:00:00",
          "2023-04-07T20:00:00",
          "2023-04-07T21:00:00",
          "2023-04-07T22:00:00",
          "2023-04-07T23:00:00",
          "2023-04-08T00:00:00",
          "2023-04-08T01:00:00",
          "2023-04-08T02:00:00",
          "2023-04-08T03:00:00",
          "2023-04-08T04:00:00",
          "2023-04-08T05:00:00",
          "2023-04-08T06:00:00",
          "2023-04-08T07:00:00",
          "2023-04-08T08:00:00",
          "2023-04-08T09:00:00",
          "2023-04-08T10:00:00",
          "2023-04-08T11:00:00",
          "2023-04-08T12:00:00",
          "2023-04-08T13:00:00",
          "2023-04-08T14:00:00",
          "2023-04-08T15:00:00",
          "2023-04-08T16:00:00",
          "2023-04-08T17:00:00",
          "2023-04-08T18:00:00",
          "2023-04-08T19:00:00",
          "2023-04-08T20:00:00",
          "2023-04-08T21:00:00",
          "2023-04-08T22:00:00",
          "2023-04-08T23:00:00",
          "2023-04-09T00:00:00",
          "2023-04-09T01:00:00",
          "2023-04-09T02:00:00",
          "2023-04-09T03:00:00",
          "2023-04-09T04:00:00",
          "2023-04-09T05:00:00",
          "2023-04-09T06:00:00",
          "2023-04-09T07:00:00",
          "2023-04-09T08:00:00",
          "2023-04-09T09:00:00",
          "2023-04-09T10:00:00",
          "2023-04-09T11:00:00",
          "2023-04-09T12:00:00",
          "2023-04-09T13:00:00",
          "2023-04-09T14:00:00",
          "2023-04-09T15:00:00",
          "2023-04-09T16:00:00",
          "2023-04-09T17:00:00",
          "2023-04-09T18:00:00",
          "2023-04-09T19:00:00",
          "2023-04-09T20:00:00",
          "2023-04-09T21:00:00",
          "2023-04-09T22:00:00",
          "2023-04-09T23:00:00",
          "2023-04-10T00:00:00",
          "2023-04-10T01:00:00",
          "2023-04-10T02:00:00",
          "2023-04-10T03:00:00",
          "2023-04-10T04:00:00",
          "2023-04-10T05:00:00",
          "2023-04-10T06:00:00",
          "2023-04-10T07:00:00",
          "2023-04-10T08:00:00",
          "2023-04-10T09:00:00",
          "2023-04-10T10:00:00",
          "2023-04-10T11:00:00",
          "2023-04-10T12:00:00",
          "2023-04-10T13:00:00",
          "2023-04-10T14:00:00",
          "2023-04-10T15:00:00",
          "2023-04-10T16:00:00",
          "2023-04-10T17:00:00",
          "2023-04-10T18:00:00",
          "2023-04-10T19:00:00",
          "2023-04-10T20:00:00",
          "2023-04-10T21:00:00",
          "2023-04-10T22:00:00",
          "2023-04-10T23:00:00",
          "2023-04-11T00:00:00",
          "2023-04-11T01:00:00",
          "2023-04-11T02:00:00",
          "2023-04-11T03:00:00",
          "2023-04-11T04:00:00",
          "2023-04-11T05:00:00",
          "2023-04-11T06:00:00",
          "2023-04-11T07:00:00",
          "2023-04-11T08:00:00",
          "2023-04-11T09:00:00",
          "2023-04-11T10:00:00",
          "2023-04-11T11:00:00",
          "2023-04-11T12:00:00",
          "2023-04-11T13:00:00",
          "2023-04-11T14:00:00",
          "2023-04-11T15:00:00",
          "2023-04-11T16:00:00",
          "2023-04-11T17:00:00",
          "2023-04-11T18:00:00",
          "2023-04-11T19:00:00",
          "2023-04-11T20:00:00",
          "2023-04-11T21:00:00",
          "2023-04-11T22:00:00",
          "2023-04-11T23:00:00",
          "2023-04-12T00:00:00",
          "2023-04-12T01:00:00",
          "2023-04-12T02:00:00",
          "2023-04-12T03:00:00",
          "2023-04-12T04:00:00",
          "2023-04-12T05:00:00",
          "2023-04-12T06:00:00",
          "2023-04-12T07:00:00",
          "2023-04-12T08:00:00",
          "2023-04-12T09:00:00",
          "2023-04-12T10:00:00",
          "2023-04-12T11:00:00",
          "2023-04-12T12:00:00",
          "2023-04-12T13:00:00",
          "2023-04-12T14:00:00",
          "2023-04-12T15:00:00",
          "2023-04-12T16:00:00",
          "2023-04-12T17:00:00",
          "2023-04-12T18:00:00",
          "2023-04-12T19:00:00",
          "2023-04-12T20:00:00",
          "2023-04-12T21:00:00",
          "2023-04-12T22:00:00",
          "2023-04-12T23:00:00",
          "2023-04-13T00:00:00",
          "2023-04-13T01:00:00",
          "2023-04-13T02:00:00",
          "2023-04-13T03:00:00",
          "2023-04-13T04:00:00",
          "2023-04-13T05:00:00",
          "2023-04-13T06:00:00",
          "2023-04-13T07:00:00",
          "2023-04-13T08:00:00",
          "2023-04-13T09:00:00",
          "2023-04-13T10:00:00",
          "2023-04-13T11:00:00",
          "2023-04-13T12:00:00",
          "2023-04-13T13:00:00",
          "2023-04-13T14:00:00",
          "2023-04-13T15:00:00",
          "2023-04-13T16:00:00",
          "2023-04-13T17:00:00",
          "2023-04-13T18:00:00",
          "2023-04-13T19:00:00",
          "2023-04-13T20:00:00",
          "2023-04-13T21:00:00",
          "2023-04-13T22:00:00",
          "2023-04-13T23:00:00",
          "2023-04-14T00:00:00",
          "2023-04-14T01:00:00",
          "2023-04-14T02:00:00",
          "2023-04-14T03:00:00",
          "2023-04-14T04:00:00",
          "2023-04-14T05:00:00",
          "2023-04-14T06:00:00",
          "2023-04-14T07:00:00",
          "2023-04-14T08:00:00",
          "2023-04-14T09:00:00",
          "2023-04-14T10:00:00",
          "2023-04-14T11:00:00",
          "2023-04-14T12:00:00",
          "2023-04-14T13:00:00",
          "2023-04-14T14:00:00",
          "2023-04-14T15:00:00",
          "2023-04-14T16:00:00",
          "2023-04-14T17:00:00",
          "2023-04-14T18:00:00",
          "2023-04-14T19:00:00",
          "2023-04-14T20:00:00",
          "2023-04-14T21:00:00",
          "2023-04-14T22:00:00",
          "2023-04-14T23:00:00",
          "2023-04-15T00:00:00",
          "2023-04-15T01:00:00",
          "2023-04-15T02:00:00",
          "2023-04-15T03:00:00",
          "2023-04-15T04:00:00",
          "2023-04-15T05:00:00",
          "2023-04-15T06:00:00",
          "2023-04-15T07:00:00",
          "2023-04-15T08:00:00",
          "2023-04-15T09:00:00",
          "2023-04-15T10:00:00",
          "2023-04-15T11:00:00",
          "2023-04-15T12:00:00",
          "2023-04-15T13:00:00",
          "2023-04-15T14:00:00",
          "2023-04-15T15:00:00",
          "2023-04-15T16:00:00",
          "2023-04-15T17:00:00",
          "2023-04-15T18:00:00",
          "2023-04-15T19:00:00",
          "2023-04-15T20:00:00",
          "2023-04-15T21:00:00",
          "2023-04-15T22:00:00",
          "2023-04-15T23:00:00",
          "2023-04-16T00:00:00",
          "2023-04-16T01:00:00",
          "2023-04-16T02:00:00",
          "2023-04-16T03:00:00",
          "2023-04-16T04:00:00",
          "2023-04-16T05:00:00",
          "2023-04-16T06:00:00",
          "2023-04-16T07:00:00",
          "2023-04-16T08:00:00",
          "2023-04-16T09:00:00",
          "2023-04-16T10:00:00",
          "2023-04-16T11:00:00",
          "2023-04-16T12:00:00",
          "2023-04-16T13:00:00",
          "2023-04-16T14:00:00",
          "2023-04-16T15:00:00",
          "2023-04-16T16:00:00",
          "2023-04-16T17:00:00",
          "2023-04-16T18:00:00",
          "2023-04-16T19:00:00",
          "2023-04-16T20:00:00",
          "2023-04-16T21:00:00",
          "2023-04-16T22:00:00",
          "2023-04-16T23:00:00",
          "2023-04-17T00:00:00",
          "2023-04-17T01:00:00",
          "2023-04-17T02:00:00",
          "2023-04-17T03:00:00",
          "2023-04-17T04:00:00",
          "2023-04-17T05:00:00",
          "2023-04-17T06:00:00",
          "2023-04-17T07:00:00",
          "2023-04-17T08:00:00",
          "2023-04-17T09:00:00",
          "2023-04-17T10:00:00",
          "2023-04-17T11:00:00",
          "2023-04-17T12:00:00",
          "2023-04-17T13:00:00",
          "2023-04-17T14:00:00",
          "2023-04-17T15:00:00",
          "2023-04-17T16:00:00",
          "2023-04-17T17:00:00",
          "2023-04-17T18:00:00",
          "2023-04-17T19:00:00",
          "2023-04-17T20:00:00",
          "2023-04-17T21:00:00",
          "2023-04-17T22:00:00",
          "2023-04-17T23:00:00",
          "2023-04-18T00:00:00",
          "2023-04-18T01:00:00",
          "2023-04-18T02:00:00",
          "2023-04-18T03:00:00",
          "2023-04-18T04:00:00",
          "2023-04-18T05:00:00",
          "2023-04-18T06:00:00",
          "2023-04-18T07:00:00",
          "2023-04-18T08:00:00",
          "2023-04-18T09:00:00",
          "2023-04-18T10:00:00",
          "2023-04-18T11:00:00",
          "2023-04-18T12:00:00",
          "2023-04-18T13:00:00",
          "2023-04-18T14:00:00",
          "2023-04-18T15:00:00",
          "2023-04-18T16:00:00",
          "2023-04-18T17:00:00",
          "2023-04-18T18:00:00",
          "2023-04-18T19:00:00",
          "2023-04-18T20:00:00",
          "2023-04-18T21:00:00",
          "2023-04-18T22:00:00",
          "2023-04-18T23:00:00",
          "2023-04-19T00:00:00",
          "2023-04-19T01:00:00",
          "2023-04-19T02:00:00",
          "2023-04-19T03:00:00",
          "2023-04-19T04:00:00",
          "2023-04-19T05:00:00",
          "2023-04-19T06:00:00",
          "2023-04-19T07:00:00",
          "2023-04-19T08:00:00",
          "2023-04-19T09:00:00",
          "2023-04-19T10:00:00",
          "2023-04-19T11:00:00",
          "2023-04-19T12:00:00",
          "2023-04-19T13:00:00",
          "2023-04-19T14:00:00",
          "2023-04-19T15:00:00",
          "2023-04-19T16:00:00",
          "2023-04-19T17:00:00",
          "2023-04-19T18:00:00",
          "2023-04-19T19:00:00",
          "2023-04-19T20:00:00",
          "2023-04-19T21:00:00",
          "2023-04-19T22:00:00",
          "2023-04-19T23:00:00",
          "2023-04-20T00:00:00"
         ],
         "y": [
          28438.27,
          28610.63,
          28583.36,
          28541.1,
          28580,
          28571.08,
          28482.72,
          28424.99,
          28440.56,
          28425.49,
          28465.32,
          28372.85,
          28422.89,
          28417.8,
          28318.04,
          28400.07,
          28326,
          28372.37,
          28376.74,
          28381.98,
          28446.78,
          28477.72,
          28517.94,
          28452.73,
          28366.3,
          28388.34,
          28406.13,
          28476.59,
          28386.09,
          28470.01,
          28458.26,
          28416.38,
          28381.37,
          28410.57,
          28367.25,
          28357.93,
          28265.26,
          28279.53,
          28273.1,
          28124.81,
          28121.97,
          28194.39,
          28156.98,
          27943.85,
          28058.75,
          28014.8,
          28105.81,
          28171.87,
          28114.62,
          27709.94,
          27719.09,
          27753.85,
          27704.39,
          27679.57,
          27779.48,
          27958.74,
          28335,
          28327.33,
          28303.77,
          28253.73,
          28163.01,
          28258.78,
          27995.04,
          28051.48,
          27930.84,
          27986.48,
          28152,
          28081.08,
          27582.78,
          27714.56,
          27799.99,
          27800,
          27760.58,
          27816.16,
          27857.35,
          27855.06,
          27813.86,
          27890.01,
          28078.14,
          28021.3,
          28103.48,
          28198.76,
          28219.63,
          28289.52,
          28267.68,
          28111.04,
          28123,
          28030.04,
          28098.99,
          28226.99,
          28114.42,
          28189.25,
          28250.04,
          28223.62,
          28187.26,
          28165.47,
          28661.81,
          28571.41,
          28565.57,
          28544.72,
          28506.62,
          28582.84,
          28534.42,
          28525.21,
          28543.8,
          28508.76,
          28510,
          28554.38,
          28568.95,
          28404.58,
          28105.2,
          28031.09,
          27947.99,
          28023.74,
          28030.2,
          28240.64,
          28150.61,
          28181.06,
          28175.28,
          28170.01,
          27999.15,
          28064.46,
          28039.73,
          28128.42,
          28068.91,
          28036.75,
          28063.91,
          27910.97,
          27953.62,
          27904.04,
          27850,
          27945.52,
          27903.73,
          27891.16,
          27952.78,
          28090.39,
          28065.14,
          28041.4,
          27963.35,
          28017.77,
          27975.85,
          27989.16,
          28007.86,
          28033.82,
          28097.99,
          28056.51,
          28017.22,
          28038.66,
          28021.77,
          27980,
          27960.09,
          27839.78,
          27816.76,
          27869.48,
          27933.36,
          27840.9,
          27892.63,
          27896.93,
          27914.64,
          27944.1,
          27879.3,
          27911.51,
          27891.77,
          27897.52,
          27864.2,
          27891.13,
          27955.99,
          27906.33,
          27880.27,
          27903.24,
          27956.76,
          28023.39,
          27984.98,
          28140.92,
          28113.12,
          28086.22,
          28025.53,
          28032.49,
          28011.62,
          28016.09,
          27987.57,
          28020.66,
          28027.67,
          28014.7,
          28002.53,
          27935.11,
          27904.38,
          27924.13,
          27911.69,
          27929.8,
          27937.77,
          27938.38,
          28036.76,
          28077.78,
          28036.3,
          28027.71,
          28037.39,
          27999.25,
          27880.13,
          27903.02,
          27881.64,
          27898.58,
          27893.22,
          27930.2,
          27930.07,
          27905.62,
          27866.49,
          27891.91,
          27896.98,
          27906.68,
          28026.72,
          28140.4,
          28114.63,
          28437.19,
          28371.39,
          28323.76,
          28381.25,
          28304.05,
          28296,
          28278.45,
          28234.51,
          28282.16,
          28277.94,
          28284.57,
          28295.16,
          28310.29,
          28331.88,
          28305.6,
          28277.86,
          28217.46,
          28305.43,
          28439.38,
          29036.85,
          29160,
          29273.14,
          29173.06,
          29115.11,
          29222.34,
          29594,
          29637.34,
          29928.86,
          30189.9,
          30083.01,
          30115.95,
          30109.01,
          29883.84,
          30035.78,
          30106.89,
          30093.9,
          30052.38,
          30122.5,
          30055.15,
          30098.92,
          30246.31,
          30060.39,
          30194.22,
          30127.98,
          30207.57,
          30230.24,
          30130.02,
          30164.23,
          30189.52,
          30263.75,
          30200.42,
          30224.78,
          30170.8,
          29916.16,
          29922.04,
          29978.58,
          29920,
          29932.89,
          29987,
          29914.97,
          30007.68,
          29996.27,
          30016.3,
          30157.09,
          30053.73,
          30024.69,
          29964.02,
          29939.02,
          30023.92,
          29917.26,
          29798.59,
          29947.47,
          29944.12,
          29841.35,
          29888.07,
          29984.69,
          30065.13,
          30116.51,
          30072.17,
          30053.65,
          30105.08,
          30016.54,
          30068.6,
          30188.14,
          30204.85,
          30203.14,
          30159.82,
          30272.14,
          30175.75,
          30435.34,
          30441.43,
          30322.37,
          30425.85,
          30440.78,
          30335.13,
          30251.97,
          30283.7,
          30296.09,
          30373.84,
          30745.73,
          30775.34,
          30595.8,
          30690.88,
          30708.82,
          30796.28,
          30942.87,
          30733.72,
          30730.22,
          30794.16,
          30766.01,
          30801.89,
          30616.98,
          30721.54,
          30599.89,
          30237.89,
          30147.49,
          30276.62,
          30277.1,
          30324.09,
          30448.82,
          30454.09,
          30435.34,
          30466.93,
          30372.48,
          30370.01,
          30380,
          30376.14,
          30356.11,
          30427.05,
          30390.99,
          30433.3,
          30385.12,
          30459.94,
          30417.07,
          30385.3,
          30423.28,
          30335.19,
          30359.39,
          30325.27,
          30319.98,
          30246.21,
          30300.77,
          30331.74,
          30280.65,
          30263.77,
          30350.98,
          30295.09,
          30277.54,
          30236.95,
          30264.2,
          30249.37,
          30298.52,
          30306.32,
          30306.07,
          30344.97,
          30337.4,
          30279.34,
          30290.15,
          30226.45,
          30260,
          30249.99,
          30311.83,
          30332.98,
          30335,
          30300,
          30478.43,
          30309.06,
          30343.04,
          30385.62,
          30331.04,
          30304.65,
          29842.86,
          29946.22,
          30020,
          29982.8,
          29981.18,
          29997.89,
          29901.28,
          29838.3,
          29918.1,
          29876.97,
          29884.66,
          29570.81,
          29529.85,
          29402.2,
          29440.42,
          29358.31,
          29464.43,
          29462.67,
          29524.97,
          29467.24,
          29443.75,
          29452.22,
          29502.28,
          29430.27,
          29364.16,
          29373.53,
          29465.84,
          29446.99,
          29494.69,
          29542.14,
          29720.98,
          29775.62,
          29703.89,
          29897.68,
          29899.26,
          30380.59,
          30303.14,
          30381.31,
          30247.81,
          30184.86,
          30220.85,
          30025.51,
          30144.5,
          30221.52,
          30419.12,
          30371.69,
          30370.86,
          30380.01,
          30319.25,
          30233.42,
          30200.63,
          30211.23,
          30202.57,
          30268.27,
          30008.13,
          30077.76,
          29168.47,
          29200.57,
          29257.26,
          29310.65,
          29218.66,
          29333,
          29393.46,
          29260.44,
          29315.24,
          29318.14,
          29277.45,
          29227.07,
          29237.71,
          29170,
          29076.2,
          28797.1,
          28920.01
         ]
        },
        {
         "marker": {
          "size": 11
         },
         "mode": "markers",
         "name": "Sampled points",
         "type": "scatter",
         "x": [
          "2023-04-02T13:03:00",
          "2023-04-03T01:42:00",
          "2023-04-03T08:08:00",
          "2023-04-03T17:00:00",
          "2023-04-03T20:15:00",
          "2023-04-03T22:17:00",
          "2023-04-04T10:03:00",
          "2023-04-05T00:55:00",
          "2023-04-05T14:11:00",
          "2023-04-09T21:40:00",
          "2023-04-10T16:50:00",
          "2023-04-10T22:02:00",
          "2023-04-11T01:53:00",
          "2023-04-11T19:18:00",
          "2023-04-12T02:54:00",
          "2023-04-12T12:34:00",
          "2023-04-12T15:12:00",
          "2023-04-13T09:15:00",
          "2023-04-14T00:39:00",
          "2023-04-14T15:26:00",
          "2023-04-17T00:36:00",
          "2023-04-17T11:34:00",
          "2023-04-18T06:24:00",
          "2023-04-18T11:38:00",
          "2023-04-19T08:09:00",
          "2023-04-19T08:22:00",
          "2023-04-19T21:43:00"
         ],
         "y": [
          28228.25,
          27747.99,
          28169.99,
          27910.23,
          27628.01,
          27851.86,
          28247.62,
          28625.03,
          28139.07,
          28341.37,
          28898.31,
          29495.1,
          30199.44,
          30466.58,
          29820,
          30425.82,
          29748.63,
          30344.55,
          30759.12,
          30304.12,
          29940.78,
          29429.45,
          29738.3,
          30264.27,
          29806.07,
          29163.45,
          28855.15
         ]
        }
       ],
       "layout": {
        "legend": {
         "bordercolor": "LightSteelBlue",
         "borderwidth": 1,
         "font": {
          "color": "black",
          "family": "Arial",
          "size": 20
         },
         "x": 0.01,
         "xanchor": "left",
         "y": 0.99,
         "yanchor": "top"
        },
        "template": {
         "data": {
          "bar": [
           {
            "error_x": {
             "color": "#2a3f5f"
            },
            "error_y": {
             "color": "#2a3f5f"
            },
            "marker": {
             "line": {
              "color": "white",
              "width": 0.5
             },
             "pattern": {
              "fillmode": "overlay",
              "size": 10,
              "solidity": 0.2
             }
            },
            "type": "bar"
           }
          ],
          "barpolar": [
           {
            "marker": {
             "line": {
              "color": "white",
              "width": 0.5
             },
             "pattern": {
              "fillmode": "overlay",
              "size": 10,
              "solidity": 0.2
             }
            },
            "type": "barpolar"
           }
          ],
          "carpet": [
           {
            "aaxis": {
             "endlinecolor": "#2a3f5f",
             "gridcolor": "#C8D4E3",
             "linecolor": "#C8D4E3",
             "minorgridcolor": "#C8D4E3",
             "startlinecolor": "#2a3f5f"
            },
            "baxis": {
             "endlinecolor": "#2a3f5f",
             "gridcolor": "#C8D4E3",
             "linecolor": "#C8D4E3",
             "minorgridcolor": "#C8D4E3",
             "startlinecolor": "#2a3f5f"
            },
            "type": "carpet"
           }
          ],
          "choropleth": [
           {
            "colorbar": {
             "outlinewidth": 0,
             "ticks": ""
            },
            "type": "choropleth"
           }
          ],
          "contour": [
           {
            "colorbar": {
             "outlinewidth": 0,
             "ticks": ""
            },
            "colorscale": [
             [
              0,
              "#0d0887"
             ],
             [
              0.1111111111111111,
              "#46039f"
             ],
             [
              0.2222222222222222,
              "#7201a8"
             ],
             [
              0.3333333333333333,
              "#9c179e"
             ],
             [
              0.4444444444444444,
              "#bd3786"
             ],
             [
              0.5555555555555556,
              "#d8576b"
             ],
             [
              0.6666666666666666,
              "#ed7953"
             ],
             [
              0.7777777777777778,
              "#fb9f3a"
             ],
             [
              0.8888888888888888,
              "#fdca26"
             ],
             [
              1,
              "#f0f921"
             ]
            ],
            "type": "contour"
           }
          ],
          "contourcarpet": [
           {
            "colorbar": {
             "outlinewidth": 0,
             "ticks": ""
            },
            "type": "contourcarpet"
           }
          ],
          "heatmap": [
           {
            "colorbar": {
             "outlinewidth": 0,
             "ticks": ""
            },
            "colorscale": [
             [
              0,
              "#0d0887"
             ],
             [
              0.1111111111111111,
              "#46039f"
             ],
             [
              0.2222222222222222,
              "#7201a8"
             ],
             [
              0.3333333333333333,
              "#9c179e"
             ],
             [
              0.4444444444444444,
              "#bd3786"
             ],
             [
              0.5555555555555556,
              "#d8576b"
             ],
             [
              0.6666666666666666,
              "#ed7953"
             ],
             [
              0.7777777777777778,
              "#fb9f3a"
             ],
             [
              0.8888888888888888,
              "#fdca26"
             ],
             [
              1,
              "#f0f921"
             ]
            ],
            "type": "heatmap"
           }
          ],
          "heatmapgl": [
           {
            "colorbar": {
             "outlinewidth": 0,
             "ticks": ""
            },
            "colorscale": [
             [
              0,
              "#0d0887"
             ],
             [
              0.1111111111111111,
              "#46039f"
             ],
             [
              0.2222222222222222,
              "#7201a8"
             ],
             [
              0.3333333333333333,
              "#9c179e"
             ],
             [
              0.4444444444444444,
              "#bd3786"
             ],
             [
              0.5555555555555556,
              "#d8576b"
             ],
             [
              0.6666666666666666,
              "#ed7953"
             ],
             [
              0.7777777777777778,
              "#fb9f3a"
             ],
             [
              0.8888888888888888,
              "#fdca26"
             ],
             [
              1,
              "#f0f921"
             ]
            ],
            "type": "heatmapgl"
           }
          ],
          "histogram": [
           {
            "marker": {
             "pattern": {
              "fillmode": "overlay",
              "size": 10,
              "solidity": 0.2
             }
            },
            "type": "histogram"
           }
          ],
          "histogram2d": [
           {
            "colorbar": {
             "outlinewidth": 0,
             "ticks": ""
            },
            "colorscale": [
             [
              0,
              "#0d0887"
             ],
             [
              0.1111111111111111,
              "#46039f"
             ],
             [
              0.2222222222222222,
              "#7201a8"
             ],
             [
              0.3333333333333333,
              "#9c179e"
             ],
             [
              0.4444444444444444,
              "#bd3786"
             ],
             [
              0.5555555555555556,
              "#d8576b"
             ],
             [
              0.6666666666666666,
              "#ed7953"
             ],
             [
              0.7777777777777778,
              "#fb9f3a"
             ],
             [
              0.8888888888888888,
              "#fdca26"
             ],
             [
              1,
              "#f0f921"
             ]
            ],
            "type": "histogram2d"
           }
          ],
          "histogram2dcontour": [
           {
            "colorbar": {
             "outlinewidth": 0,
             "ticks": ""
            },
            "colorscale": [
             [
              0,
              "#0d0887"
             ],
             [
              0.1111111111111111,
              "#46039f"
             ],
             [
              0.2222222222222222,
              "#7201a8"
             ],
             [
              0.3333333333333333,
              "#9c179e"
             ],
             [
              0.4444444444444444,
              "#bd3786"
             ],
             [
              0.5555555555555556,
              "#d8576b"
             ],
             [
              0.6666666666666666,
              "#ed7953"
             ],
             [
              0.7777777777777778,
              "#fb9f3a"
             ],
             [
              0.8888888888888888,
              "#fdca26"
             ],
             [
              1,
              "#f0f921"
             ]
            ],
            "type": "histogram2dcontour"
           }
          ],
          "mesh3d": [
           {
            "colorbar": {
             "outlinewidth": 0,
             "ticks": ""
            },
            "type": "mesh3d"
           }
          ],
          "parcoords": [
           {
            "line": {
             "colorbar": {
              "outlinewidth": 0,
              "ticks": ""
             }
            },
            "type": "parcoords"
           }
          ],
          "pie": [
           {
            "automargin": true,
            "type": "pie"
           }
          ],
          "scatter": [
           {
            "fillpattern": {
             "fillmode": "overlay",
             "size": 10,
             "solidity": 0.2
            },
            "type": "scatter"
           }
          ],
          "scatter3d": [
           {
            "line": {
             "colorbar": {
              "outlinewidth": 0,
              "ticks": ""
             }
            },
            "marker": {
             "colorbar": {
              "outlinewidth": 0,
              "ticks": ""
             }
            },
            "type": "scatter3d"
           }
          ],
          "scattercarpet": [
           {
            "marker": {
             "colorbar": {
              "outlinewidth": 0,
              "ticks": ""
             }
            },
            "type": "scattercarpet"
           }
          ],
          "scattergeo": [
           {
            "marker": {
             "colorbar": {
              "outlinewidth": 0,
              "ticks": ""
             }
            },
            "type": "scattergeo"
           }
          ],
          "scattergl": [
           {
            "marker": {
             "colorbar": {
              "outlinewidth": 0,
              "ticks": ""
             }
            },
            "type": "scattergl"
           }
          ],
          "scattermapbox": [
           {
            "marker": {
             "colorbar": {
              "outlinewidth": 0,
              "ticks": ""
             }
            },
            "type": "scattermapbox"
           }
          ],
          "scatterpolar": [
           {
            "marker": {
             "colorbar": {
              "outlinewidth": 0,
              "ticks": ""
             }
            },
            "type": "scatterpolar"
           }
          ],
          "scatterpolargl": [
           {
            "marker": {
             "colorbar": {
              "outlinewidth": 0,
              "ticks": ""
             }
            },
            "type": "scatterpolargl"
           }
          ],
          "scatterternary": [
           {
            "marker": {
             "colorbar": {
              "outlinewidth": 0,
              "ticks": ""
             }
            },
            "type": "scatterternary"
           }
          ],
          "surface": [
           {
            "colorbar": {
             "outlinewidth": 0,
             "ticks": ""
            },
            "colorscale": [
             [
              0,
              "#0d0887"
             ],
             [
              0.1111111111111111,
              "#46039f"
             ],
             [
              0.2222222222222222,
              "#7201a8"
             ],
             [
              0.3333333333333333,
              "#9c179e"
             ],
             [
              0.4444444444444444,
              "#bd3786"
             ],
             [
              0.5555555555555556,
              "#d8576b"
             ],
             [
              0.6666666666666666,
              "#ed7953"
             ],
             [
              0.7777777777777778,
              "#fb9f3a"
             ],
             [
              0.8888888888888888,
              "#fdca26"
             ],
             [
              1,
              "#f0f921"
             ]
            ],
            "type": "surface"
           }
          ],
          "table": [
           {
            "cells": {
             "fill": {
              "color": "#EBF0F8"
             },
             "line": {
              "color": "white"
             }
            },
            "header": {
             "fill": {
              "color": "#C8D4E3"
             },
             "line": {
              "color": "white"
             }
            },
            "type": "table"
           }
          ]
         },
         "layout": {
          "annotationdefaults": {
           "arrowcolor": "#2a3f5f",
           "arrowhead": 0,
           "arrowwidth": 1
          },
          "autotypenumbers": "strict",
          "coloraxis": {
           "colorbar": {
            "outlinewidth": 0,
            "ticks": ""
           }
          },
          "colorscale": {
           "diverging": [
            [
             0,
             "#8e0152"
            ],
            [
             0.1,
             "#c51b7d"
            ],
            [
             0.2,
             "#de77ae"
            ],
            [
             0.3,
             "#f1b6da"
            ],
            [
             0.4,
             "#fde0ef"
            ],
            [
             0.5,
             "#f7f7f7"
            ],
            [
             0.6,
             "#e6f5d0"
            ],
            [
             0.7,
             "#b8e186"
            ],
            [
             0.8,
             "#7fbc41"
            ],
            [
             0.9,
             "#4d9221"
            ],
            [
             1,
             "#276419"
            ]
           ],
           "sequential": [
            [
             0,
             "#0d0887"
            ],
            [
             0.1111111111111111,
             "#46039f"
            ],
            [
             0.2222222222222222,
             "#7201a8"
            ],
            [
             0.3333333333333333,
             "#9c179e"
            ],
            [
             0.4444444444444444,
             "#bd3786"
            ],
            [
             0.5555555555555556,
             "#d8576b"
            ],
            [
             0.6666666666666666,
             "#ed7953"
            ],
            [
             0.7777777777777778,
             "#fb9f3a"
            ],
            [
             0.8888888888888888,
             "#fdca26"
            ],
            [
             1,
             "#f0f921"
            ]
           ],
           "sequentialminus": [
            [
             0,
             "#0d0887"
            ],
            [
             0.1111111111111111,
             "#46039f"
            ],
            [
             0.2222222222222222,
             "#7201a8"
            ],
            [
             0.3333333333333333,
             "#9c179e"
            ],
            [
             0.4444444444444444,
             "#bd3786"
            ],
            [
             0.5555555555555556,
             "#d8576b"
            ],
            [
             0.6666666666666666,
             "#ed7953"
            ],
            [
             0.7777777777777778,
             "#fb9f3a"
            ],
            [
             0.8888888888888888,
             "#fdca26"
            ],
            [
             1,
             "#f0f921"
            ]
           ]
          },
          "colorway": [
           "#636efa",
           "#EF553B",
           "#00cc96",
           "#ab63fa",
           "#FFA15A",
           "#19d3f3",
           "#FF6692",
           "#B6E880",
           "#FF97FF",
           "#FECB52"
          ],
          "font": {
           "color": "#2a3f5f"
          },
          "geo": {
           "bgcolor": "white",
           "lakecolor": "white",
           "landcolor": "white",
           "showlakes": true,
           "showland": true,
           "subunitcolor": "#C8D4E3"
          },
          "hoverlabel": {
           "align": "left"
          },
          "hovermode": "closest",
          "mapbox": {
           "style": "light"
          },
          "paper_bgcolor": "white",
          "plot_bgcolor": "white",
          "polar": {
           "angularaxis": {
            "gridcolor": "#EBF0F8",
            "linecolor": "#EBF0F8",
            "ticks": ""
           },
           "bgcolor": "white",
           "radialaxis": {
            "gridcolor": "#EBF0F8",
            "linecolor": "#EBF0F8",
            "ticks": ""
           }
          },
          "scene": {
           "xaxis": {
            "backgroundcolor": "white",
            "gridcolor": "#DFE8F3",
            "gridwidth": 2,
            "linecolor": "#EBF0F8",
            "showbackground": true,
            "ticks": "",
            "zerolinecolor": "#EBF0F8"
           },
           "yaxis": {
            "backgroundcolor": "white",
            "gridcolor": "#DFE8F3",
            "gridwidth": 2,
            "linecolor": "#EBF0F8",
            "showbackground": true,
            "ticks": "",
            "zerolinecolor": "#EBF0F8"
           },
           "zaxis": {
            "backgroundcolor": "white",
            "gridcolor": "#DFE8F3",
            "gridwidth": 2,
            "linecolor": "#EBF0F8",
            "showbackground": true,
            "ticks": "",
            "zerolinecolor": "#EBF0F8"
           }
          },
          "shapedefaults": {
           "line": {
            "color": "#2a3f5f"
           }
          },
          "ternary": {
           "aaxis": {
            "gridcolor": "#DFE8F3",
            "linecolor": "#A2B1C6",
            "ticks": ""
           },
           "baxis": {
            "gridcolor": "#DFE8F3",
            "linecolor": "#A2B1C6",
            "ticks": ""
           },
           "bgcolor": "white",
           "caxis": {
            "gridcolor": "#DFE8F3",
            "linecolor": "#A2B1C6",
            "ticks": ""
           }
          },
          "title": {
           "x": 0.05
          },
          "xaxis": {
           "automargin": true,
           "gridcolor": "#EBF0F8",
           "linecolor": "#EBF0F8",
           "ticks": "",
           "title": {
            "standoff": 15
           },
           "zerolinecolor": "#EBF0F8",
           "zerolinewidth": 2
          },
          "yaxis": {
           "automargin": true,
           "gridcolor": "#EBF0F8",
           "linecolor": "#EBF0F8",
           "ticks": "",
           "title": {
            "standoff": 15
           },
           "zerolinecolor": "#EBF0F8",
           "zerolinewidth": 2
          }
         }
        },
        "xaxis": {
         "rangeslider": {
          "visible": false
         },
         "tickfont": {
          "color": "black",
          "family": "Arial",
          "size": 21
         },
         "title": {
          "font": {
           "family": "Arial",
           "size": 22
          }
         }
        },
        "yaxis": {
         "tickfont": {
          "color": "black",
          "family": "Arial",
          "size": 21
         },
         "title": {
          "font": {
           "family": "Arial",
           "size": 22
          }
         }
        }
       }
      }
     },
     "metadata": {},
     "output_type": "display_data"
    }
   ],
   "source": [
    "fig = go.Figure([go.Scatter(x=btc_60_min_subset['datetime'], y=btc_60_min_subset['close'], name=\"1h close price\",\n",
    "                              line=dict(width=7,\n",
    "                                        color='cornflowerblue'))\n",
    "                 ])\n",
    "fig.add_trace(go.Scatter(mode=\"markers\", x=btc_cumsum_subset[\"datetime\"], y=btc_cumsum_subset[\"close\"], name=\"Sampled points\",\n",
    "                         marker=dict(size=11)\n",
    "                         ))\n",
    "fig.update_layout(xaxis_rangeslider_visible=False, \n",
    "                  template='plotly_white', \n",
    "                  legend=dict(\n",
    "                                yanchor=\"top\",\n",
    "                                y=0.99,\n",
    "                                xanchor=\"left\",\n",
    "                                x=0.01,\n",
    "                                bordercolor=\"LightSteelBlue\",\n",
    "                                borderwidth=1,\n",
    "                                 font=dict(\n",
    "                                        family=\"Arial\",\n",
    "                                        size=20,\n",
    "                                        color=\"black\"\n",
    "                                    )\n",
    "                                )\n",
    "                )\n",
    "\n",
    "fig.update_xaxes(\n",
    "                 # ticks=\"outside\",\n",
    "                 #tickwidth=2,\n",
    "                 #tickcolor='black',\n",
    "                 tickfont=dict(family='Arial', color='black', size=21),\n",
    "                 title_font=dict(size=22, family='Arial'),\n",
    "                )\n",
    "fig.update_yaxes(\n",
    "                 # ticks=\"outside\",\n",
    "                 # tickwidth=2,\n",
    "                 # tickcolor='black',\n",
    "                 tickfont=dict(family='Arial', color='black', size=21),\n",
    "                 title_font=dict(size=22, family='Arial'),\n",
    "                )\n",
    "# fig.write_image(\"btc_cumsum.png\", scale=2)\n",
    "pio.write_image(fig, 'btc_cumsum.png',scale=3, width=2000, height=800)\n",
    "fig.show()"
   ]
  },
  {
   "cell_type": "code",
   "execution_count": 69,
   "metadata": {},
   "outputs": [],
   "source": [
    "btc_1_min['minute'] = btc_1_min['datetime'].dt.minute"
   ]
  },
  {
   "cell_type": "code",
   "execution_count": 71,
   "metadata": {},
   "outputs": [],
   "source": [
    "btc_1_min['5_min_bucket'] = btc_1_min['minute'].apply(lambda x: x // 5)"
   ]
  },
  {
   "cell_type": "code",
   "execution_count": 94,
   "metadata": {},
   "outputs": [],
   "source": [
    "def bucket_to_5_min(df):\n",
    "    if df['minute'] < 5:\n",
    "        return '0-4'\n",
    "    elif df['minute'] < 10:\n",
    "        return '5-9'\n",
    "    elif df['minute'] < 15:\n",
    "        return '10-14'\n",
    "    elif df['minute'] < 20:\n",
    "        return '15- 19'\n",
    "    elif df['minute'] < 25:\n",
    "        return '20-24'\n",
    "    elif df['minute'] < 30:\n",
    "        return '25-29'\n",
    "    elif df['minute'] < 35:\n",
    "        return '30-34'\n",
    "    elif df['minute'] < 40:\n",
    "        return '35-39'\n",
    "    elif df['minute'] < 45:\n",
    "        return '40-44'\n",
    "    elif df['minute'] < 50:\n",
    "        return '45-49'\n",
    "    elif df['minute'] < 55:\n",
    "        return '50-54'\n",
    "    else:\n",
    "        return '55-59'"
   ]
  },
  {
   "cell_type": "code",
   "execution_count": null,
   "metadata": {},
   "outputs": [],
   "source": []
  },
  {
   "cell_type": "code",
   "execution_count": 76,
   "metadata": {},
   "outputs": [],
   "source": [
    "btc_1_min['5_min_bucket'] = btc_1_min.apply(bucket_to_5_min, axis=1)"
   ]
  },
  {
   "cell_type": "code",
   "execution_count": 87,
   "metadata": {},
   "outputs": [],
   "source": [
    "btc_1_min.set_index('datetime', inplace=True)"
   ]
  },
  {
   "cell_type": "code",
   "execution_count": 88,
   "metadata": {},
   "outputs": [],
   "source": [
    "btc_5_vol =  btc_1_min['volume'].resample('5min').agg({'volume':'sum'})"
   ]
  },
  {
   "cell_type": "code",
   "execution_count": 90,
   "metadata": {},
   "outputs": [],
   "source": [
    "btc_5_vol.reset_index(inplace=True)"
   ]
  },
  {
   "cell_type": "code",
   "execution_count": 92,
   "metadata": {},
   "outputs": [],
   "source": [
    "btc_5_vol['minute'] = btc_5_vol['datetime'].dt.minute"
   ]
  },
  {
   "cell_type": "code",
   "execution_count": 95,
   "metadata": {},
   "outputs": [],
   "source": [
    "btc_5_vol['5_min_bucket'] = btc_5_vol.apply(bucket_to_5_min, axis=1)"
   ]
  },
  {
   "cell_type": "code",
   "execution_count": 97,
   "metadata": {},
   "outputs": [
    {
     "data": {
      "text/html": [
       "<div>\n",
       "<style scoped>\n",
       "    .dataframe tbody tr th:only-of-type {\n",
       "        vertical-align: middle;\n",
       "    }\n",
       "\n",
       "    .dataframe tbody tr th {\n",
       "        vertical-align: top;\n",
       "    }\n",
       "\n",
       "    .dataframe thead th {\n",
       "        text-align: right;\n",
       "    }\n",
       "</style>\n",
       "<table border=\"1\" class=\"dataframe\">\n",
       "  <thead>\n",
       "    <tr style=\"text-align: right;\">\n",
       "      <th></th>\n",
       "      <th>datetime</th>\n",
       "      <th>volume</th>\n",
       "      <th>minute</th>\n",
       "      <th>5_min_bucket</th>\n",
       "    </tr>\n",
       "  </thead>\n",
       "  <tbody>\n",
       "    <tr>\n",
       "      <th>0</th>\n",
       "      <td>2018-01-01 00:00:00</td>\n",
       "      <td>33.617798</td>\n",
       "      <td>0</td>\n",
       "      <td>0-4</td>\n",
       "    </tr>\n",
       "    <tr>\n",
       "      <th>1</th>\n",
       "      <td>2018-01-01 00:05:00</td>\n",
       "      <td>40.528679</td>\n",
       "      <td>5</td>\n",
       "      <td>5-9</td>\n",
       "    </tr>\n",
       "    <tr>\n",
       "      <th>2</th>\n",
       "      <td>2018-01-01 00:10:00</td>\n",
       "      <td>49.469536</td>\n",
       "      <td>10</td>\n",
       "      <td>10-14</td>\n",
       "    </tr>\n",
       "    <tr>\n",
       "      <th>3</th>\n",
       "      <td>2018-01-01 00:15:00</td>\n",
       "      <td>32.725614</td>\n",
       "      <td>15</td>\n",
       "      <td>15- 19</td>\n",
       "    </tr>\n",
       "    <tr>\n",
       "      <th>4</th>\n",
       "      <td>2018-01-01 00:20:00</td>\n",
       "      <td>26.614135</td>\n",
       "      <td>20</td>\n",
       "      <td>20-24</td>\n",
       "    </tr>\n",
       "    <tr>\n",
       "      <th>...</th>\n",
       "      <td>...</td>\n",
       "      <td>...</td>\n",
       "      <td>...</td>\n",
       "      <td>...</td>\n",
       "    </tr>\n",
       "    <tr>\n",
       "      <th>578011</th>\n",
       "      <td>2023-06-30 23:35:00</td>\n",
       "      <td>101.136210</td>\n",
       "      <td>35</td>\n",
       "      <td>35-39</td>\n",
       "    </tr>\n",
       "    <tr>\n",
       "      <th>578012</th>\n",
       "      <td>2023-06-30 23:40:00</td>\n",
       "      <td>88.521000</td>\n",
       "      <td>40</td>\n",
       "      <td>40-44</td>\n",
       "    </tr>\n",
       "    <tr>\n",
       "      <th>578013</th>\n",
       "      <td>2023-06-30 23:45:00</td>\n",
       "      <td>74.937380</td>\n",
       "      <td>45</td>\n",
       "      <td>45-49</td>\n",
       "    </tr>\n",
       "    <tr>\n",
       "      <th>578014</th>\n",
       "      <td>2023-06-30 23:50:00</td>\n",
       "      <td>47.192300</td>\n",
       "      <td>50</td>\n",
       "      <td>50-54</td>\n",
       "    </tr>\n",
       "    <tr>\n",
       "      <th>578015</th>\n",
       "      <td>2023-06-30 23:55:00</td>\n",
       "      <td>43.626240</td>\n",
       "      <td>55</td>\n",
       "      <td>55-59</td>\n",
       "    </tr>\n",
       "  </tbody>\n",
       "</table>\n",
       "<p>578016 rows × 4 columns</p>\n",
       "</div>"
      ],
      "text/plain": [
       "                  datetime      volume  minute 5_min_bucket\n",
       "0      2018-01-01 00:00:00   33.617798       0          0-4\n",
       "1      2018-01-01 00:05:00   40.528679       5          5-9\n",
       "2      2018-01-01 00:10:00   49.469536      10        10-14\n",
       "3      2018-01-01 00:15:00   32.725614      15       15- 19\n",
       "4      2018-01-01 00:20:00   26.614135      20        20-24\n",
       "...                    ...         ...     ...          ...\n",
       "578011 2023-06-30 23:35:00  101.136210      35        35-39\n",
       "578012 2023-06-30 23:40:00   88.521000      40        40-44\n",
       "578013 2023-06-30 23:45:00   74.937380      45        45-49\n",
       "578014 2023-06-30 23:50:00   47.192300      50        50-54\n",
       "578015 2023-06-30 23:55:00   43.626240      55        55-59\n",
       "\n",
       "[578016 rows x 4 columns]"
      ]
     },
     "execution_count": 97,
     "metadata": {},
     "output_type": "execute_result"
    }
   ],
   "source": [
    "btc_5_vol"
   ]
  },
  {
   "cell_type": "code",
   "execution_count": 98,
   "metadata": {},
   "outputs": [
    {
     "data": {
      "text/html": [
       "<div>\n",
       "<style scoped>\n",
       "    .dataframe tbody tr th:only-of-type {\n",
       "        vertical-align: middle;\n",
       "    }\n",
       "\n",
       "    .dataframe tbody tr th {\n",
       "        vertical-align: top;\n",
       "    }\n",
       "\n",
       "    .dataframe thead th {\n",
       "        text-align: right;\n",
       "    }\n",
       "</style>\n",
       "<table border=\"1\" class=\"dataframe\">\n",
       "  <thead>\n",
       "    <tr style=\"text-align: right;\">\n",
       "      <th></th>\n",
       "      <th>open</th>\n",
       "      <th>high</th>\n",
       "      <th>low</th>\n",
       "      <th>close</th>\n",
       "      <th>volume</th>\n",
       "      <th>minute</th>\n",
       "      <th>5_min_bucket</th>\n",
       "    </tr>\n",
       "    <tr>\n",
       "      <th>datetime</th>\n",
       "      <th></th>\n",
       "      <th></th>\n",
       "      <th></th>\n",
       "      <th></th>\n",
       "      <th></th>\n",
       "      <th></th>\n",
       "      <th></th>\n",
       "    </tr>\n",
       "  </thead>\n",
       "  <tbody>\n",
       "    <tr>\n",
       "      <th>2018-01-01 00:00:00</th>\n",
       "      <td>13715.65</td>\n",
       "      <td>13715.65</td>\n",
       "      <td>13681.00</td>\n",
       "      <td>13707.92</td>\n",
       "      <td>2.844266</td>\n",
       "      <td>0</td>\n",
       "      <td>0-5</td>\n",
       "    </tr>\n",
       "    <tr>\n",
       "      <th>2018-01-01 00:01:00</th>\n",
       "      <td>13707.91</td>\n",
       "      <td>13707.91</td>\n",
       "      <td>13666.11</td>\n",
       "      <td>13694.92</td>\n",
       "      <td>2.113138</td>\n",
       "      <td>1</td>\n",
       "      <td>0-5</td>\n",
       "    </tr>\n",
       "    <tr>\n",
       "      <th>2018-01-01 00:02:00</th>\n",
       "      <td>13682.00</td>\n",
       "      <td>13694.94</td>\n",
       "      <td>13680.00</td>\n",
       "      <td>13680.00</td>\n",
       "      <td>1.346411</td>\n",
       "      <td>2</td>\n",
       "      <td>0-5</td>\n",
       "    </tr>\n",
       "    <tr>\n",
       "      <th>2018-01-01 00:03:00</th>\n",
       "      <td>13679.98</td>\n",
       "      <td>13679.98</td>\n",
       "      <td>13601.00</td>\n",
       "      <td>13645.99</td>\n",
       "      <td>11.589417</td>\n",
       "      <td>3</td>\n",
       "      <td>0-5</td>\n",
       "    </tr>\n",
       "    <tr>\n",
       "      <th>2018-01-01 00:04:00</th>\n",
       "      <td>13645.98</td>\n",
       "      <td>13646.00</td>\n",
       "      <td>13576.28</td>\n",
       "      <td>13600.00</td>\n",
       "      <td>15.724566</td>\n",
       "      <td>4</td>\n",
       "      <td>0-5</td>\n",
       "    </tr>\n",
       "    <tr>\n",
       "      <th>...</th>\n",
       "      <td>...</td>\n",
       "      <td>...</td>\n",
       "      <td>...</td>\n",
       "      <td>...</td>\n",
       "      <td>...</td>\n",
       "      <td>...</td>\n",
       "      <td>...</td>\n",
       "    </tr>\n",
       "    <tr>\n",
       "      <th>2023-06-30 23:54:00</th>\n",
       "      <td>30492.00</td>\n",
       "      <td>30492.01</td>\n",
       "      <td>30491.23</td>\n",
       "      <td>30491.23</td>\n",
       "      <td>5.239710</td>\n",
       "      <td>54</td>\n",
       "      <td>50-55</td>\n",
       "    </tr>\n",
       "    <tr>\n",
       "      <th>2023-06-30 23:55:00</th>\n",
       "      <td>30491.24</td>\n",
       "      <td>30491.24</td>\n",
       "      <td>30478.93</td>\n",
       "      <td>30481.97</td>\n",
       "      <td>6.508940</td>\n",
       "      <td>55</td>\n",
       "      <td>55-60</td>\n",
       "    </tr>\n",
       "    <tr>\n",
       "      <th>2023-06-30 23:56:00</th>\n",
       "      <td>30481.97</td>\n",
       "      <td>30481.99</td>\n",
       "      <td>30471.29</td>\n",
       "      <td>30471.30</td>\n",
       "      <td>9.348110</td>\n",
       "      <td>56</td>\n",
       "      <td>55-60</td>\n",
       "    </tr>\n",
       "    <tr>\n",
       "      <th>2023-06-30 23:57:00</th>\n",
       "      <td>30471.30</td>\n",
       "      <td>30476.00</td>\n",
       "      <td>30470.50</td>\n",
       "      <td>30476.00</td>\n",
       "      <td>6.197940</td>\n",
       "      <td>57</td>\n",
       "      <td>55-60</td>\n",
       "    </tr>\n",
       "    <tr>\n",
       "      <th>2023-06-30 23:58:00</th>\n",
       "      <td>30475.99</td>\n",
       "      <td>30476.00</td>\n",
       "      <td>30468.00</td>\n",
       "      <td>30469.50</td>\n",
       "      <td>21.571250</td>\n",
       "      <td>58</td>\n",
       "      <td>55-60</td>\n",
       "    </tr>\n",
       "  </tbody>\n",
       "</table>\n",
       "<p>2890079 rows × 7 columns</p>\n",
       "</div>"
      ],
      "text/plain": [
       "                         open      high       low     close     volume  \\\n",
       "datetime                                                                 \n",
       "2018-01-01 00:00:00  13715.65  13715.65  13681.00  13707.92   2.844266   \n",
       "2018-01-01 00:01:00  13707.91  13707.91  13666.11  13694.92   2.113138   \n",
       "2018-01-01 00:02:00  13682.00  13694.94  13680.00  13680.00   1.346411   \n",
       "2018-01-01 00:03:00  13679.98  13679.98  13601.00  13645.99  11.589417   \n",
       "2018-01-01 00:04:00  13645.98  13646.00  13576.28  13600.00  15.724566   \n",
       "...                       ...       ...       ...       ...        ...   \n",
       "2023-06-30 23:54:00  30492.00  30492.01  30491.23  30491.23   5.239710   \n",
       "2023-06-30 23:55:00  30491.24  30491.24  30478.93  30481.97   6.508940   \n",
       "2023-06-30 23:56:00  30481.97  30481.99  30471.29  30471.30   9.348110   \n",
       "2023-06-30 23:57:00  30471.30  30476.00  30470.50  30476.00   6.197940   \n",
       "2023-06-30 23:58:00  30475.99  30476.00  30468.00  30469.50  21.571250   \n",
       "\n",
       "                     minute 5_min_bucket  \n",
       "datetime                                  \n",
       "2018-01-01 00:00:00       0          0-5  \n",
       "2018-01-01 00:01:00       1          0-5  \n",
       "2018-01-01 00:02:00       2          0-5  \n",
       "2018-01-01 00:03:00       3          0-5  \n",
       "2018-01-01 00:04:00       4          0-5  \n",
       "...                     ...          ...  \n",
       "2023-06-30 23:54:00      54        50-55  \n",
       "2023-06-30 23:55:00      55        55-60  \n",
       "2023-06-30 23:56:00      56        55-60  \n",
       "2023-06-30 23:57:00      57        55-60  \n",
       "2023-06-30 23:58:00      58        55-60  \n",
       "\n",
       "[2890079 rows x 7 columns]"
      ]
     },
     "execution_count": 98,
     "metadata": {},
     "output_type": "execute_result"
    }
   ],
   "source": [
    "btc_1_min"
   ]
  },
  {
   "cell_type": "code",
   "execution_count": 99,
   "metadata": {},
   "outputs": [
    {
     "data": {
      "text/plain": [
       "33.61779799999999"
      ]
     },
     "execution_count": 99,
     "metadata": {},
     "output_type": "execute_result"
    }
   ],
   "source": [
    "2.844266+2.113138+1.346411+11.589417+15.724566"
   ]
  },
  {
   "cell_type": "code",
   "execution_count": 100,
   "metadata": {},
   "outputs": [],
   "source": [
    "groupby_5_min =  btc_1_min.groupby('5_min_bucket')['volume'].mean().reset_index()"
   ]
  },
  {
   "cell_type": "code",
   "execution_count": 101,
   "metadata": {},
   "outputs": [
    {
     "data": {
      "text/html": [
       "<div>\n",
       "<style scoped>\n",
       "    .dataframe tbody tr th:only-of-type {\n",
       "        vertical-align: middle;\n",
       "    }\n",
       "\n",
       "    .dataframe tbody tr th {\n",
       "        vertical-align: top;\n",
       "    }\n",
       "\n",
       "    .dataframe thead th {\n",
       "        text-align: right;\n",
       "    }\n",
       "</style>\n",
       "<table border=\"1\" class=\"dataframe\">\n",
       "  <thead>\n",
       "    <tr style=\"text-align: right;\">\n",
       "      <th></th>\n",
       "      <th>5_min_bucket</th>\n",
       "      <th>volume</th>\n",
       "    </tr>\n",
       "  </thead>\n",
       "  <tbody>\n",
       "    <tr>\n",
       "      <th>0</th>\n",
       "      <td>0-5</td>\n",
       "      <td>65.155992</td>\n",
       "    </tr>\n",
       "    <tr>\n",
       "      <th>1</th>\n",
       "      <td>10-15</td>\n",
       "      <td>56.148518</td>\n",
       "    </tr>\n",
       "    <tr>\n",
       "      <th>2</th>\n",
       "      <td>15-20</td>\n",
       "      <td>57.854900</td>\n",
       "    </tr>\n",
       "    <tr>\n",
       "      <th>3</th>\n",
       "      <td>20-25</td>\n",
       "      <td>55.324464</td>\n",
       "    </tr>\n",
       "    <tr>\n",
       "      <th>4</th>\n",
       "      <td>25-30</td>\n",
       "      <td>53.904543</td>\n",
       "    </tr>\n",
       "    <tr>\n",
       "      <th>5</th>\n",
       "      <td>30-35</td>\n",
       "      <td>59.727305</td>\n",
       "    </tr>\n",
       "    <tr>\n",
       "      <th>6</th>\n",
       "      <td>35-40</td>\n",
       "      <td>55.905770</td>\n",
       "    </tr>\n",
       "    <tr>\n",
       "      <th>7</th>\n",
       "      <td>40-45</td>\n",
       "      <td>54.420316</td>\n",
       "    </tr>\n",
       "    <tr>\n",
       "      <th>8</th>\n",
       "      <td>45-50</td>\n",
       "      <td>56.066028</td>\n",
       "    </tr>\n",
       "    <tr>\n",
       "      <th>9</th>\n",
       "      <td>5-10</td>\n",
       "      <td>58.578042</td>\n",
       "    </tr>\n",
       "    <tr>\n",
       "      <th>10</th>\n",
       "      <td>50-55</td>\n",
       "      <td>53.873971</td>\n",
       "    </tr>\n",
       "    <tr>\n",
       "      <th>11</th>\n",
       "      <td>55-60</td>\n",
       "      <td>53.141053</td>\n",
       "    </tr>\n",
       "  </tbody>\n",
       "</table>\n",
       "</div>"
      ],
      "text/plain": [
       "   5_min_bucket     volume\n",
       "0           0-5  65.155992\n",
       "1         10-15  56.148518\n",
       "2         15-20  57.854900\n",
       "3         20-25  55.324464\n",
       "4         25-30  53.904543\n",
       "5         30-35  59.727305\n",
       "6         35-40  55.905770\n",
       "7         40-45  54.420316\n",
       "8         45-50  56.066028\n",
       "9          5-10  58.578042\n",
       "10        50-55  53.873971\n",
       "11        55-60  53.141053"
      ]
     },
     "execution_count": 101,
     "metadata": {},
     "output_type": "execute_result"
    }
   ],
   "source": [
    "groupby_5_min"
   ]
  },
  {
   "cell_type": "code",
   "execution_count": 84,
   "metadata": {},
   "outputs": [
    {
     "data": {
      "text/html": [
       "<div>\n",
       "<style scoped>\n",
       "    .dataframe tbody tr th:only-of-type {\n",
       "        vertical-align: middle;\n",
       "    }\n",
       "\n",
       "    .dataframe tbody tr th {\n",
       "        vertical-align: top;\n",
       "    }\n",
       "\n",
       "    .dataframe thead th {\n",
       "        text-align: right;\n",
       "    }\n",
       "</style>\n",
       "<table border=\"1\" class=\"dataframe\">\n",
       "  <thead>\n",
       "    <tr style=\"text-align: right;\">\n",
       "      <th></th>\n",
       "      <th>5_min_bucket</th>\n",
       "      <th>volume</th>\n",
       "    </tr>\n",
       "  </thead>\n",
       "  <tbody>\n",
       "    <tr>\n",
       "      <th>0</th>\n",
       "      <td>0-5</td>\n",
       "      <td>65.155992</td>\n",
       "    </tr>\n",
       "    <tr>\n",
       "      <th>1</th>\n",
       "      <td>10-15</td>\n",
       "      <td>56.148518</td>\n",
       "    </tr>\n",
       "    <tr>\n",
       "      <th>2</th>\n",
       "      <td>15-20</td>\n",
       "      <td>57.854900</td>\n",
       "    </tr>\n",
       "    <tr>\n",
       "      <th>3</th>\n",
       "      <td>20-25</td>\n",
       "      <td>55.324464</td>\n",
       "    </tr>\n",
       "    <tr>\n",
       "      <th>4</th>\n",
       "      <td>25-30</td>\n",
       "      <td>53.904543</td>\n",
       "    </tr>\n",
       "    <tr>\n",
       "      <th>5</th>\n",
       "      <td>30-35</td>\n",
       "      <td>59.727305</td>\n",
       "    </tr>\n",
       "    <tr>\n",
       "      <th>6</th>\n",
       "      <td>35-40</td>\n",
       "      <td>55.905770</td>\n",
       "    </tr>\n",
       "    <tr>\n",
       "      <th>7</th>\n",
       "      <td>40-45</td>\n",
       "      <td>54.420316</td>\n",
       "    </tr>\n",
       "    <tr>\n",
       "      <th>8</th>\n",
       "      <td>45-50</td>\n",
       "      <td>56.066028</td>\n",
       "    </tr>\n",
       "    <tr>\n",
       "      <th>9</th>\n",
       "      <td>5-10</td>\n",
       "      <td>58.578042</td>\n",
       "    </tr>\n",
       "    <tr>\n",
       "      <th>10</th>\n",
       "      <td>50-55</td>\n",
       "      <td>53.873971</td>\n",
       "    </tr>\n",
       "    <tr>\n",
       "      <th>11</th>\n",
       "      <td>55-60</td>\n",
       "      <td>53.141053</td>\n",
       "    </tr>\n",
       "  </tbody>\n",
       "</table>\n",
       "</div>"
      ],
      "text/plain": [
       "   5_min_bucket     volume\n",
       "0           0-5  65.155992\n",
       "1         10-15  56.148518\n",
       "2         15-20  57.854900\n",
       "3         20-25  55.324464\n",
       "4         25-30  53.904543\n",
       "5         30-35  59.727305\n",
       "6         35-40  55.905770\n",
       "7         40-45  54.420316\n",
       "8         45-50  56.066028\n",
       "9          5-10  58.578042\n",
       "10        50-55  53.873971\n",
       "11        55-60  53.141053"
      ]
     },
     "execution_count": 84,
     "metadata": {},
     "output_type": "execute_result"
    }
   ],
   "source": [
    "groupby_5_min"
   ]
  },
  {
   "cell_type": "code",
   "execution_count": 104,
   "metadata": {},
   "outputs": [],
   "source": [
    "groupby_5_min_ordered = groupby_5_min.iloc[[0,9, 1, 2, 3, 4, 5, 6, 7, 8, 10, 11]]"
   ]
  },
  {
   "cell_type": "code",
   "execution_count": 120,
   "metadata": {},
   "outputs": [
    {
     "data": {
      "application/vnd.plotly.v1+json": {
       "config": {
        "plotlyServerURL": "https://plot.ly"
       },
       "data": [
        {
         "marker": {
          "color": "lightsteelblue"
         },
         "type": "bar",
         "x": [
          "0-5",
          "5-10",
          "10-15",
          "15-20",
          "20-25",
          "25-30",
          "30-35",
          "35-40",
          "40-45",
          "45-50",
          "50-55",
          "55-60"
         ],
         "y": [
          65.15599193428002,
          58.57804168086697,
          56.148518147284506,
          57.85490029918203,
          55.324463522840894,
          53.90454318202956,
          59.727305299269226,
          55.90577013467032,
          54.42031591844378,
          56.066028009421196,
          53.87397066082046,
          53.14105291334875
         ]
        }
       ],
       "layout": {
        "paper_bgcolor": "white",
        "plot_bgcolor": "white",
        "template": {
         "data": {
          "bar": [
           {
            "error_x": {
             "color": "#2a3f5f"
            },
            "error_y": {
             "color": "#2a3f5f"
            },
            "marker": {
             "line": {
              "color": "#E5ECF6",
              "width": 0.5
             },
             "pattern": {
              "fillmode": "overlay",
              "size": 10,
              "solidity": 0.2
             }
            },
            "type": "bar"
           }
          ],
          "barpolar": [
           {
            "marker": {
             "line": {
              "color": "#E5ECF6",
              "width": 0.5
             },
             "pattern": {
              "fillmode": "overlay",
              "size": 10,
              "solidity": 0.2
             }
            },
            "type": "barpolar"
           }
          ],
          "carpet": [
           {
            "aaxis": {
             "endlinecolor": "#2a3f5f",
             "gridcolor": "white",
             "linecolor": "white",
             "minorgridcolor": "white",
             "startlinecolor": "#2a3f5f"
            },
            "baxis": {
             "endlinecolor": "#2a3f5f",
             "gridcolor": "white",
             "linecolor": "white",
             "minorgridcolor": "white",
             "startlinecolor": "#2a3f5f"
            },
            "type": "carpet"
           }
          ],
          "choropleth": [
           {
            "colorbar": {
             "outlinewidth": 0,
             "ticks": ""
            },
            "type": "choropleth"
           }
          ],
          "contour": [
           {
            "colorbar": {
             "outlinewidth": 0,
             "ticks": ""
            },
            "colorscale": [
             [
              0,
              "#0d0887"
             ],
             [
              0.1111111111111111,
              "#46039f"
             ],
             [
              0.2222222222222222,
              "#7201a8"
             ],
             [
              0.3333333333333333,
              "#9c179e"
             ],
             [
              0.4444444444444444,
              "#bd3786"
             ],
             [
              0.5555555555555556,
              "#d8576b"
             ],
             [
              0.6666666666666666,
              "#ed7953"
             ],
             [
              0.7777777777777778,
              "#fb9f3a"
             ],
             [
              0.8888888888888888,
              "#fdca26"
             ],
             [
              1,
              "#f0f921"
             ]
            ],
            "type": "contour"
           }
          ],
          "contourcarpet": [
           {
            "colorbar": {
             "outlinewidth": 0,
             "ticks": ""
            },
            "type": "contourcarpet"
           }
          ],
          "heatmap": [
           {
            "colorbar": {
             "outlinewidth": 0,
             "ticks": ""
            },
            "colorscale": [
             [
              0,
              "#0d0887"
             ],
             [
              0.1111111111111111,
              "#46039f"
             ],
             [
              0.2222222222222222,
              "#7201a8"
             ],
             [
              0.3333333333333333,
              "#9c179e"
             ],
             [
              0.4444444444444444,
              "#bd3786"
             ],
             [
              0.5555555555555556,
              "#d8576b"
             ],
             [
              0.6666666666666666,
              "#ed7953"
             ],
             [
              0.7777777777777778,
              "#fb9f3a"
             ],
             [
              0.8888888888888888,
              "#fdca26"
             ],
             [
              1,
              "#f0f921"
             ]
            ],
            "type": "heatmap"
           }
          ],
          "heatmapgl": [
           {
            "colorbar": {
             "outlinewidth": 0,
             "ticks": ""
            },
            "colorscale": [
             [
              0,
              "#0d0887"
             ],
             [
              0.1111111111111111,
              "#46039f"
             ],
             [
              0.2222222222222222,
              "#7201a8"
             ],
             [
              0.3333333333333333,
              "#9c179e"
             ],
             [
              0.4444444444444444,
              "#bd3786"
             ],
             [
              0.5555555555555556,
              "#d8576b"
             ],
             [
              0.6666666666666666,
              "#ed7953"
             ],
             [
              0.7777777777777778,
              "#fb9f3a"
             ],
             [
              0.8888888888888888,
              "#fdca26"
             ],
             [
              1,
              "#f0f921"
             ]
            ],
            "type": "heatmapgl"
           }
          ],
          "histogram": [
           {
            "marker": {
             "pattern": {
              "fillmode": "overlay",
              "size": 10,
              "solidity": 0.2
             }
            },
            "type": "histogram"
           }
          ],
          "histogram2d": [
           {
            "colorbar": {
             "outlinewidth": 0,
             "ticks": ""
            },
            "colorscale": [
             [
              0,
              "#0d0887"
             ],
             [
              0.1111111111111111,
              "#46039f"
             ],
             [
              0.2222222222222222,
              "#7201a8"
             ],
             [
              0.3333333333333333,
              "#9c179e"
             ],
             [
              0.4444444444444444,
              "#bd3786"
             ],
             [
              0.5555555555555556,
              "#d8576b"
             ],
             [
              0.6666666666666666,
              "#ed7953"
             ],
             [
              0.7777777777777778,
              "#fb9f3a"
             ],
             [
              0.8888888888888888,
              "#fdca26"
             ],
             [
              1,
              "#f0f921"
             ]
            ],
            "type": "histogram2d"
           }
          ],
          "histogram2dcontour": [
           {
            "colorbar": {
             "outlinewidth": 0,
             "ticks": ""
            },
            "colorscale": [
             [
              0,
              "#0d0887"
             ],
             [
              0.1111111111111111,
              "#46039f"
             ],
             [
              0.2222222222222222,
              "#7201a8"
             ],
             [
              0.3333333333333333,
              "#9c179e"
             ],
             [
              0.4444444444444444,
              "#bd3786"
             ],
             [
              0.5555555555555556,
              "#d8576b"
             ],
             [
              0.6666666666666666,
              "#ed7953"
             ],
             [
              0.7777777777777778,
              "#fb9f3a"
             ],
             [
              0.8888888888888888,
              "#fdca26"
             ],
             [
              1,
              "#f0f921"
             ]
            ],
            "type": "histogram2dcontour"
           }
          ],
          "mesh3d": [
           {
            "colorbar": {
             "outlinewidth": 0,
             "ticks": ""
            },
            "type": "mesh3d"
           }
          ],
          "parcoords": [
           {
            "line": {
             "colorbar": {
              "outlinewidth": 0,
              "ticks": ""
             }
            },
            "type": "parcoords"
           }
          ],
          "pie": [
           {
            "automargin": true,
            "type": "pie"
           }
          ],
          "scatter": [
           {
            "fillpattern": {
             "fillmode": "overlay",
             "size": 10,
             "solidity": 0.2
            },
            "type": "scatter"
           }
          ],
          "scatter3d": [
           {
            "line": {
             "colorbar": {
              "outlinewidth": 0,
              "ticks": ""
             }
            },
            "marker": {
             "colorbar": {
              "outlinewidth": 0,
              "ticks": ""
             }
            },
            "type": "scatter3d"
           }
          ],
          "scattercarpet": [
           {
            "marker": {
             "colorbar": {
              "outlinewidth": 0,
              "ticks": ""
             }
            },
            "type": "scattercarpet"
           }
          ],
          "scattergeo": [
           {
            "marker": {
             "colorbar": {
              "outlinewidth": 0,
              "ticks": ""
             }
            },
            "type": "scattergeo"
           }
          ],
          "scattergl": [
           {
            "marker": {
             "colorbar": {
              "outlinewidth": 0,
              "ticks": ""
             }
            },
            "type": "scattergl"
           }
          ],
          "scattermapbox": [
           {
            "marker": {
             "colorbar": {
              "outlinewidth": 0,
              "ticks": ""
             }
            },
            "type": "scattermapbox"
           }
          ],
          "scatterpolar": [
           {
            "marker": {
             "colorbar": {
              "outlinewidth": 0,
              "ticks": ""
             }
            },
            "type": "scatterpolar"
           }
          ],
          "scatterpolargl": [
           {
            "marker": {
             "colorbar": {
              "outlinewidth": 0,
              "ticks": ""
             }
            },
            "type": "scatterpolargl"
           }
          ],
          "scatterternary": [
           {
            "marker": {
             "colorbar": {
              "outlinewidth": 0,
              "ticks": ""
             }
            },
            "type": "scatterternary"
           }
          ],
          "surface": [
           {
            "colorbar": {
             "outlinewidth": 0,
             "ticks": ""
            },
            "colorscale": [
             [
              0,
              "#0d0887"
             ],
             [
              0.1111111111111111,
              "#46039f"
             ],
             [
              0.2222222222222222,
              "#7201a8"
             ],
             [
              0.3333333333333333,
              "#9c179e"
             ],
             [
              0.4444444444444444,
              "#bd3786"
             ],
             [
              0.5555555555555556,
              "#d8576b"
             ],
             [
              0.6666666666666666,
              "#ed7953"
             ],
             [
              0.7777777777777778,
              "#fb9f3a"
             ],
             [
              0.8888888888888888,
              "#fdca26"
             ],
             [
              1,
              "#f0f921"
             ]
            ],
            "type": "surface"
           }
          ],
          "table": [
           {
            "cells": {
             "fill": {
              "color": "#EBF0F8"
             },
             "line": {
              "color": "white"
             }
            },
            "header": {
             "fill": {
              "color": "#C8D4E3"
             },
             "line": {
              "color": "white"
             }
            },
            "type": "table"
           }
          ]
         },
         "layout": {
          "annotationdefaults": {
           "arrowcolor": "#2a3f5f",
           "arrowhead": 0,
           "arrowwidth": 1
          },
          "autotypenumbers": "strict",
          "coloraxis": {
           "colorbar": {
            "outlinewidth": 0,
            "ticks": ""
           }
          },
          "colorscale": {
           "diverging": [
            [
             0,
             "#8e0152"
            ],
            [
             0.1,
             "#c51b7d"
            ],
            [
             0.2,
             "#de77ae"
            ],
            [
             0.3,
             "#f1b6da"
            ],
            [
             0.4,
             "#fde0ef"
            ],
            [
             0.5,
             "#f7f7f7"
            ],
            [
             0.6,
             "#e6f5d0"
            ],
            [
             0.7,
             "#b8e186"
            ],
            [
             0.8,
             "#7fbc41"
            ],
            [
             0.9,
             "#4d9221"
            ],
            [
             1,
             "#276419"
            ]
           ],
           "sequential": [
            [
             0,
             "#0d0887"
            ],
            [
             0.1111111111111111,
             "#46039f"
            ],
            [
             0.2222222222222222,
             "#7201a8"
            ],
            [
             0.3333333333333333,
             "#9c179e"
            ],
            [
             0.4444444444444444,
             "#bd3786"
            ],
            [
             0.5555555555555556,
             "#d8576b"
            ],
            [
             0.6666666666666666,
             "#ed7953"
            ],
            [
             0.7777777777777778,
             "#fb9f3a"
            ],
            [
             0.8888888888888888,
             "#fdca26"
            ],
            [
             1,
             "#f0f921"
            ]
           ],
           "sequentialminus": [
            [
             0,
             "#0d0887"
            ],
            [
             0.1111111111111111,
             "#46039f"
            ],
            [
             0.2222222222222222,
             "#7201a8"
            ],
            [
             0.3333333333333333,
             "#9c179e"
            ],
            [
             0.4444444444444444,
             "#bd3786"
            ],
            [
             0.5555555555555556,
             "#d8576b"
            ],
            [
             0.6666666666666666,
             "#ed7953"
            ],
            [
             0.7777777777777778,
             "#fb9f3a"
            ],
            [
             0.8888888888888888,
             "#fdca26"
            ],
            [
             1,
             "#f0f921"
            ]
           ]
          },
          "colorway": [
           "#636efa",
           "#EF553B",
           "#00cc96",
           "#ab63fa",
           "#FFA15A",
           "#19d3f3",
           "#FF6692",
           "#B6E880",
           "#FF97FF",
           "#FECB52"
          ],
          "font": {
           "color": "#2a3f5f"
          },
          "geo": {
           "bgcolor": "white",
           "lakecolor": "white",
           "landcolor": "#E5ECF6",
           "showlakes": true,
           "showland": true,
           "subunitcolor": "white"
          },
          "hoverlabel": {
           "align": "left"
          },
          "hovermode": "closest",
          "mapbox": {
           "style": "light"
          },
          "paper_bgcolor": "white",
          "plot_bgcolor": "#E5ECF6",
          "polar": {
           "angularaxis": {
            "gridcolor": "white",
            "linecolor": "white",
            "ticks": ""
           },
           "bgcolor": "#E5ECF6",
           "radialaxis": {
            "gridcolor": "white",
            "linecolor": "white",
            "ticks": ""
           }
          },
          "scene": {
           "xaxis": {
            "backgroundcolor": "#E5ECF6",
            "gridcolor": "white",
            "gridwidth": 2,
            "linecolor": "white",
            "showbackground": true,
            "ticks": "",
            "zerolinecolor": "white"
           },
           "yaxis": {
            "backgroundcolor": "#E5ECF6",
            "gridcolor": "white",
            "gridwidth": 2,
            "linecolor": "white",
            "showbackground": true,
            "ticks": "",
            "zerolinecolor": "white"
           },
           "zaxis": {
            "backgroundcolor": "#E5ECF6",
            "gridcolor": "white",
            "gridwidth": 2,
            "linecolor": "white",
            "showbackground": true,
            "ticks": "",
            "zerolinecolor": "white"
           }
          },
          "shapedefaults": {
           "line": {
            "color": "#2a3f5f"
           }
          },
          "ternary": {
           "aaxis": {
            "gridcolor": "white",
            "linecolor": "white",
            "ticks": ""
           },
           "baxis": {
            "gridcolor": "white",
            "linecolor": "white",
            "ticks": ""
           },
           "bgcolor": "#E5ECF6",
           "caxis": {
            "gridcolor": "white",
            "linecolor": "white",
            "ticks": ""
           }
          },
          "title": {
           "x": 0.05
          },
          "xaxis": {
           "automargin": true,
           "gridcolor": "white",
           "linecolor": "white",
           "ticks": "",
           "title": {
            "standoff": 15
           },
           "zerolinecolor": "white",
           "zerolinewidth": 2
          },
          "yaxis": {
           "automargin": true,
           "gridcolor": "white",
           "linecolor": "white",
           "ticks": "",
           "title": {
            "standoff": 15
           },
           "zerolinecolor": "white",
           "zerolinewidth": 2
          }
         }
        },
        "xaxis": {
         "gridcolor": "lightgray",
         "linecolor": "gray",
         "linewidth": 1,
         "mirror": true,
         "showgrid": true,
         "showline": true
        },
        "yaxis": {
         "gridcolor": "lightgray",
         "linecolor": "gray",
         "linewidth": 1,
         "mirror": true,
         "showgrid": true,
         "showline": true,
         "title": {
          "text": "Volume in BTC"
         }
        }
       }
      }
     },
     "metadata": {},
     "output_type": "display_data"
    }
   ],
   "source": [
    "fig = go.Figure(data=[\n",
    "    go.Bar( x=groupby_5_min_ordered['5_min_bucket'], y=groupby_5_min_ordered['volume']),\n",
    "])\n",
    "fig.update_traces(marker_color='lightsteelblue')\n",
    "fig.update_yaxes(showline=True,\n",
    "            mirror=True,\n",
    "         linewidth=1,\n",
    "         linecolor='gray',\n",
    "         showgrid=True,\n",
    "         gridcolor='lightgray')\n",
    "fig.update_xaxes(showline=True,\n",
    "            linewidth=1,\n",
    "            linecolor='gray',\n",
    "            mirror=True,\n",
    "            showgrid=True,\n",
    "         gridcolor='lightgray')\n",
    "fig.update_yaxes(title_text=\"Volume in BTC\")\n",
    "\n",
    "fig.update_layout(\n",
    "                  paper_bgcolor='white',\n",
    "                  plot_bgcolor='white')\n",
    "fig.show()\n",
    "pio.write_image(fig, 'btc_volume_per_minutes.png',scale=3, width=1600, height=600)"
   ]
  },
  {
   "cell_type": "code",
   "execution_count": 3,
   "metadata": {},
   "outputs": [
    {
     "name": "stderr",
     "output_type": "stream",
     "text": [
      "build_model for keras_tuner_CNN_LSTM not implemented!\n"
     ]
    }
   ],
   "source": [
    "from ml_investing_wne import config\n",
    "from ml_investing_wne.utils import get_logger\n",
    "from ml_investing_wne.experiment_factory import create_asset, experiment_factory\n",
    "\n",
    "asset = create_asset()\n",
    "experiment = experiment_factory(asset).get_experiment()"
   ]
  },
  {
   "cell_type": "code",
   "execution_count": 4,
   "metadata": {},
   "outputs": [
    {
     "data": {
      "text/html": [
       "<div>\n",
       "<style scoped>\n",
       "    .dataframe tbody tr th:only-of-type {\n",
       "        vertical-align: middle;\n",
       "    }\n",
       "\n",
       "    .dataframe tbody tr th {\n",
       "        vertical-align: top;\n",
       "    }\n",
       "\n",
       "    .dataframe thead th {\n",
       "        text-align: right;\n",
       "    }\n",
       "</style>\n",
       "<table border=\"1\" class=\"dataframe\">\n",
       "  <thead>\n",
       "    <tr style=\"text-align: right;\">\n",
       "      <th></th>\n",
       "      <th>datetime</th>\n",
       "      <th>prc_change</th>\n",
       "      <th>barrier_touched</th>\n",
       "      <th>barrier_touched_date</th>\n",
       "      <th>top_barrier</th>\n",
       "      <th>bottom_barrier</th>\n",
       "      <th>time_step</th>\n",
       "    </tr>\n",
       "  </thead>\n",
       "  <tbody>\n",
       "    <tr>\n",
       "      <th>0</th>\n",
       "      <td>2018-01-01 02:00:00</td>\n",
       "      <td>0.025</td>\n",
       "      <td>top</td>\n",
       "      <td>2018-01-01 05:00:00</td>\n",
       "      <td>13663.43450</td>\n",
       "      <td>12996.92550</td>\n",
       "      <td>3</td>\n",
       "    </tr>\n",
       "    <tr>\n",
       "      <th>1</th>\n",
       "      <td>2018-01-01 03:00:00</td>\n",
       "      <td>0.025</td>\n",
       "      <td>top</td>\n",
       "      <td>2018-01-01 06:00:00</td>\n",
       "      <td>13745.28075</td>\n",
       "      <td>13074.77925</td>\n",
       "      <td>3</td>\n",
       "    </tr>\n",
       "    <tr>\n",
       "      <th>2</th>\n",
       "      <td>2018-01-01 04:00:00</td>\n",
       "      <td>-0.025</td>\n",
       "      <td>bottom</td>\n",
       "      <td>2018-01-01 11:00:00</td>\n",
       "      <td>13941.03525</td>\n",
       "      <td>13260.98475</td>\n",
       "      <td>7</td>\n",
       "    </tr>\n",
       "    <tr>\n",
       "      <th>3</th>\n",
       "      <td>2018-01-01 05:00:00</td>\n",
       "      <td>-0.025</td>\n",
       "      <td>bottom</td>\n",
       "      <td>2018-01-01 11:00:00</td>\n",
       "      <td>13897.96475</td>\n",
       "      <td>13220.01525</td>\n",
       "      <td>6</td>\n",
       "    </tr>\n",
       "    <tr>\n",
       "      <th>4</th>\n",
       "      <td>2018-01-01 06:00:00</td>\n",
       "      <td>-0.025</td>\n",
       "      <td>bottom</td>\n",
       "      <td>2018-01-01 08:00:00</td>\n",
       "      <td>14124.92025</td>\n",
       "      <td>13435.89975</td>\n",
       "      <td>2</td>\n",
       "    </tr>\n",
       "    <tr>\n",
       "      <th>...</th>\n",
       "      <td>...</td>\n",
       "      <td>...</td>\n",
       "      <td>...</td>\n",
       "      <td>...</td>\n",
       "      <td>...</td>\n",
       "      <td>...</td>\n",
       "      <td>...</td>\n",
       "    </tr>\n",
       "    <tr>\n",
       "      <th>48135</th>\n",
       "      <td>2023-06-29 17:00:00</td>\n",
       "      <td>-0.025</td>\n",
       "      <td>bottom</td>\n",
       "      <td>2023-06-30 13:00:00</td>\n",
       "      <td>31306.91325</td>\n",
       "      <td>29779.74675</td>\n",
       "      <td>20</td>\n",
       "    </tr>\n",
       "    <tr>\n",
       "      <th>48136</th>\n",
       "      <td>2023-06-29 18:00:00</td>\n",
       "      <td>-0.025</td>\n",
       "      <td>bottom</td>\n",
       "      <td>2023-06-30 13:00:00</td>\n",
       "      <td>31330.97000</td>\n",
       "      <td>29802.63000</td>\n",
       "      <td>19</td>\n",
       "    </tr>\n",
       "    <tr>\n",
       "      <th>48137</th>\n",
       "      <td>2023-06-29 19:00:00</td>\n",
       "      <td>-0.025</td>\n",
       "      <td>bottom</td>\n",
       "      <td>2023-06-30 13:00:00</td>\n",
       "      <td>31349.61475</td>\n",
       "      <td>29820.36525</td>\n",
       "      <td>18</td>\n",
       "    </tr>\n",
       "    <tr>\n",
       "      <th>48138</th>\n",
       "      <td>2023-06-29 20:00:00</td>\n",
       "      <td>0.025</td>\n",
       "      <td>top</td>\n",
       "      <td>2023-06-30 04:00:00</td>\n",
       "      <td>31158.95450</td>\n",
       "      <td>29639.00550</td>\n",
       "      <td>8</td>\n",
       "    </tr>\n",
       "    <tr>\n",
       "      <th>48139</th>\n",
       "      <td>2023-06-29 21:00:00</td>\n",
       "      <td>0.025</td>\n",
       "      <td>top</td>\n",
       "      <td>2023-06-30 04:00:00</td>\n",
       "      <td>31177.77350</td>\n",
       "      <td>29656.90650</td>\n",
       "      <td>7</td>\n",
       "    </tr>\n",
       "  </tbody>\n",
       "</table>\n",
       "<p>48140 rows × 7 columns</p>\n",
       "</div>"
      ],
      "text/plain": [
       "                 datetime  prc_change barrier_touched barrier_touched_date  \\\n",
       "0     2018-01-01 02:00:00       0.025             top  2018-01-01 05:00:00   \n",
       "1     2018-01-01 03:00:00       0.025             top  2018-01-01 06:00:00   \n",
       "2     2018-01-01 04:00:00      -0.025          bottom  2018-01-01 11:00:00   \n",
       "3     2018-01-01 05:00:00      -0.025          bottom  2018-01-01 11:00:00   \n",
       "4     2018-01-01 06:00:00      -0.025          bottom  2018-01-01 08:00:00   \n",
       "...                   ...         ...             ...                  ...   \n",
       "48135 2023-06-29 17:00:00      -0.025          bottom  2023-06-30 13:00:00   \n",
       "48136 2023-06-29 18:00:00      -0.025          bottom  2023-06-30 13:00:00   \n",
       "48137 2023-06-29 19:00:00      -0.025          bottom  2023-06-30 13:00:00   \n",
       "48138 2023-06-29 20:00:00       0.025             top  2023-06-30 04:00:00   \n",
       "48139 2023-06-29 21:00:00       0.025             top  2023-06-30 04:00:00   \n",
       "\n",
       "       top_barrier  bottom_barrier  time_step  \n",
       "0      13663.43450     12996.92550          3  \n",
       "1      13745.28075     13074.77925          3  \n",
       "2      13941.03525     13260.98475          7  \n",
       "3      13897.96475     13220.01525          6  \n",
       "4      14124.92025     13435.89975          2  \n",
       "...            ...             ...        ...  \n",
       "48135  31306.91325     29779.74675         20  \n",
       "48136  31330.97000     29802.63000         19  \n",
       "48137  31349.61475     29820.36525         18  \n",
       "48138  31158.95450     29639.00550          8  \n",
       "48139  31177.77350     29656.90650          7  \n",
       "\n",
       "[48140 rows x 7 columns]"
      ]
     },
     "execution_count": 4,
     "metadata": {},
     "output_type": "execute_result"
    }
   ],
   "source": [
    "experiment.df_3_barriers_additional_info"
   ]
  },
  {
   "cell_type": "code",
   "execution_count": 42,
   "metadata": {},
   "outputs": [],
   "source": [
    "date_start = datetime.datetime(2022, 4, 10)\n",
    "date_end = datetime.datetime(2022, 4, 15)"
   ]
  },
  {
   "cell_type": "code",
   "execution_count": 43,
   "metadata": {},
   "outputs": [],
   "source": [
    "df_3_barriers_additional_info_subset = experiment.df_3_barriers_additional_info.loc[(experiment.df_3_barriers_additional_info['datetime'] >= date_start) & (experiment.df_3_barriers_additional_info['datetime'] <= date_end)]"
   ]
  },
  {
   "cell_type": "code",
   "execution_count": 44,
   "metadata": {},
   "outputs": [
    {
     "data": {
      "text/html": [
       "<div>\n",
       "<style scoped>\n",
       "    .dataframe tbody tr th:only-of-type {\n",
       "        vertical-align: middle;\n",
       "    }\n",
       "\n",
       "    .dataframe tbody tr th {\n",
       "        vertical-align: top;\n",
       "    }\n",
       "\n",
       "    .dataframe thead th {\n",
       "        text-align: right;\n",
       "    }\n",
       "</style>\n",
       "<table border=\"1\" class=\"dataframe\">\n",
       "  <thead>\n",
       "    <tr style=\"text-align: right;\">\n",
       "      <th></th>\n",
       "      <th>datetime</th>\n",
       "      <th>prc_change</th>\n",
       "      <th>barrier_touched</th>\n",
       "      <th>barrier_touched_date</th>\n",
       "      <th>top_barrier</th>\n",
       "      <th>bottom_barrier</th>\n",
       "      <th>time_step</th>\n",
       "    </tr>\n",
       "  </thead>\n",
       "  <tbody>\n",
       "    <tr>\n",
       "      <th>37438</th>\n",
       "      <td>2022-04-10 00:00:00</td>\n",
       "      <td>-0.007719</td>\n",
       "      <td>vertical</td>\n",
       "      <td>2022-04-11 00:00:00</td>\n",
       "      <td>43698.12800</td>\n",
       "      <td>41566.51200</td>\n",
       "      <td>24</td>\n",
       "    </tr>\n",
       "    <tr>\n",
       "      <th>37439</th>\n",
       "      <td>2022-04-10 01:00:00</td>\n",
       "      <td>-0.014214</td>\n",
       "      <td>vertical</td>\n",
       "      <td>2022-04-11 01:00:00</td>\n",
       "      <td>43836.41075</td>\n",
       "      <td>41698.04925</td>\n",
       "      <td>24</td>\n",
       "    </tr>\n",
       "    <tr>\n",
       "      <th>37440</th>\n",
       "      <td>2022-04-10 02:00:00</td>\n",
       "      <td>-0.025000</td>\n",
       "      <td>bottom</td>\n",
       "      <td>2022-04-11 00:00:00</td>\n",
       "      <td>43903.85575</td>\n",
       "      <td>41762.20425</td>\n",
       "      <td>22</td>\n",
       "    </tr>\n",
       "    <tr>\n",
       "      <th>37441</th>\n",
       "      <td>2022-04-10 03:00:00</td>\n",
       "      <td>-0.015765</td>\n",
       "      <td>vertical</td>\n",
       "      <td>2022-04-11 03:00:00</td>\n",
       "      <td>43855.36300</td>\n",
       "      <td>41716.07700</td>\n",
       "      <td>24</td>\n",
       "    </tr>\n",
       "    <tr>\n",
       "      <th>37442</th>\n",
       "      <td>2022-04-10 04:00:00</td>\n",
       "      <td>-0.011264</td>\n",
       "      <td>vertical</td>\n",
       "      <td>2022-04-11 04:00:00</td>\n",
       "      <td>43809.38150</td>\n",
       "      <td>41672.33850</td>\n",
       "      <td>24</td>\n",
       "    </tr>\n",
       "    <tr>\n",
       "      <th>...</th>\n",
       "      <td>...</td>\n",
       "      <td>...</td>\n",
       "      <td>...</td>\n",
       "      <td>...</td>\n",
       "      <td>...</td>\n",
       "      <td>...</td>\n",
       "      <td>...</td>\n",
       "    </tr>\n",
       "    <tr>\n",
       "      <th>37554</th>\n",
       "      <td>2022-04-14 20:00:00</td>\n",
       "      <td>0.012195</td>\n",
       "      <td>vertical</td>\n",
       "      <td>2022-04-15 20:00:00</td>\n",
       "      <td>40907.73975</td>\n",
       "      <td>38912.24025</td>\n",
       "      <td>24</td>\n",
       "    </tr>\n",
       "    <tr>\n",
       "      <th>37555</th>\n",
       "      <td>2022-04-14 21:00:00</td>\n",
       "      <td>0.011409</td>\n",
       "      <td>vertical</td>\n",
       "      <td>2022-04-15 21:00:00</td>\n",
       "      <td>40969.25000</td>\n",
       "      <td>38970.75000</td>\n",
       "      <td>24</td>\n",
       "    </tr>\n",
       "    <tr>\n",
       "      <th>37556</th>\n",
       "      <td>2022-04-14 22:00:00</td>\n",
       "      <td>0.025000</td>\n",
       "      <td>top</td>\n",
       "      <td>2022-04-15 14:00:00</td>\n",
       "      <td>40839.80275</td>\n",
       "      <td>38847.61725</td>\n",
       "      <td>16</td>\n",
       "    </tr>\n",
       "    <tr>\n",
       "      <th>37557</th>\n",
       "      <td>2022-04-14 23:00:00</td>\n",
       "      <td>0.015260</td>\n",
       "      <td>vertical</td>\n",
       "      <td>2022-04-15 23:00:00</td>\n",
       "      <td>40940.93950</td>\n",
       "      <td>38943.82050</td>\n",
       "      <td>24</td>\n",
       "    </tr>\n",
       "    <tr>\n",
       "      <th>37558</th>\n",
       "      <td>2022-04-15 00:00:00</td>\n",
       "      <td>0.025000</td>\n",
       "      <td>top</td>\n",
       "      <td>2022-04-15 14:00:00</td>\n",
       "      <td>40856.48975</td>\n",
       "      <td>38863.49025</td>\n",
       "      <td>14</td>\n",
       "    </tr>\n",
       "  </tbody>\n",
       "</table>\n",
       "<p>121 rows × 7 columns</p>\n",
       "</div>"
      ],
      "text/plain": [
       "                 datetime  prc_change barrier_touched barrier_touched_date  \\\n",
       "37438 2022-04-10 00:00:00   -0.007719        vertical  2022-04-11 00:00:00   \n",
       "37439 2022-04-10 01:00:00   -0.014214        vertical  2022-04-11 01:00:00   \n",
       "37440 2022-04-10 02:00:00   -0.025000          bottom  2022-04-11 00:00:00   \n",
       "37441 2022-04-10 03:00:00   -0.015765        vertical  2022-04-11 03:00:00   \n",
       "37442 2022-04-10 04:00:00   -0.011264        vertical  2022-04-11 04:00:00   \n",
       "...                   ...         ...             ...                  ...   \n",
       "37554 2022-04-14 20:00:00    0.012195        vertical  2022-04-15 20:00:00   \n",
       "37555 2022-04-14 21:00:00    0.011409        vertical  2022-04-15 21:00:00   \n",
       "37556 2022-04-14 22:00:00    0.025000             top  2022-04-15 14:00:00   \n",
       "37557 2022-04-14 23:00:00    0.015260        vertical  2022-04-15 23:00:00   \n",
       "37558 2022-04-15 00:00:00    0.025000             top  2022-04-15 14:00:00   \n",
       "\n",
       "       top_barrier  bottom_barrier  time_step  \n",
       "37438  43698.12800     41566.51200         24  \n",
       "37439  43836.41075     41698.04925         24  \n",
       "37440  43903.85575     41762.20425         22  \n",
       "37441  43855.36300     41716.07700         24  \n",
       "37442  43809.38150     41672.33850         24  \n",
       "...            ...             ...        ...  \n",
       "37554  40907.73975     38912.24025         24  \n",
       "37555  40969.25000     38970.75000         24  \n",
       "37556  40839.80275     38847.61725         16  \n",
       "37557  40940.93950     38943.82050         24  \n",
       "37558  40856.48975     38863.49025         14  \n",
       "\n",
       "[121 rows x 7 columns]"
      ]
     },
     "execution_count": 44,
     "metadata": {},
     "output_type": "execute_result"
    }
   ],
   "source": [
    "df_3_barriers_additional_info_subset"
   ]
  },
  {
   "cell_type": "code",
   "execution_count": 45,
   "metadata": {},
   "outputs": [
    {
     "data": {
      "text/html": [
       "<div>\n",
       "<style scoped>\n",
       "    .dataframe tbody tr th:only-of-type {\n",
       "        vertical-align: middle;\n",
       "    }\n",
       "\n",
       "    .dataframe tbody tr th {\n",
       "        vertical-align: top;\n",
       "    }\n",
       "\n",
       "    .dataframe thead th {\n",
       "        text-align: right;\n",
       "    }\n",
       "</style>\n",
       "<table border=\"1\" class=\"dataframe\">\n",
       "  <thead>\n",
       "    <tr style=\"text-align: right;\">\n",
       "      <th></th>\n",
       "      <th>datetime</th>\n",
       "      <th>prc_change</th>\n",
       "      <th>barrier_touched</th>\n",
       "      <th>barrier_touched_date</th>\n",
       "      <th>top_barrier</th>\n",
       "      <th>bottom_barrier</th>\n",
       "      <th>time_step</th>\n",
       "    </tr>\n",
       "  </thead>\n",
       "  <tbody>\n",
       "  </tbody>\n",
       "</table>\n",
       "</div>"
      ],
      "text/plain": [
       "Empty DataFrame\n",
       "Columns: [datetime, prc_change, barrier_touched, barrier_touched_date, top_barrier, bottom_barrier, time_step]\n",
       "Index: []"
      ]
     },
     "execution_count": 45,
     "metadata": {},
     "output_type": "execute_result"
    }
   ],
   "source": [
    "df_3_barriers_additional_info_subset.iloc[150:200]"
   ]
  },
  {
   "cell_type": "code",
   "execution_count": 46,
   "metadata": {},
   "outputs": [],
   "source": [
    "experiment.df.reset_index(inplace=True)"
   ]
  },
  {
   "cell_type": "code",
   "execution_count": 47,
   "metadata": {},
   "outputs": [],
   "source": [
    "triple_barrier_subset =  experiment.df.loc[(experiment.df['datetime'] >= date_start) & (experiment.df['datetime'] <= date_end)]"
   ]
  },
  {
   "cell_type": "code",
   "execution_count": 48,
   "metadata": {},
   "outputs": [
    {
     "data": {
      "text/html": [
       "<div>\n",
       "<style scoped>\n",
       "    .dataframe tbody tr th:only-of-type {\n",
       "        vertical-align: middle;\n",
       "    }\n",
       "\n",
       "    .dataframe tbody tr th {\n",
       "        vertical-align: top;\n",
       "    }\n",
       "\n",
       "    .dataframe thead th {\n",
       "        text-align: right;\n",
       "    }\n",
       "</style>\n",
       "<table border=\"1\" class=\"dataframe\">\n",
       "  <thead>\n",
       "    <tr style=\"text-align: right;\">\n",
       "      <th></th>\n",
       "      <th>index</th>\n",
       "      <th>datetime</th>\n",
       "      <th>open</th>\n",
       "      <th>close</th>\n",
       "      <th>high</th>\n",
       "      <th>low</th>\n",
       "      <th>volume</th>\n",
       "      <th>y_pred</th>\n",
       "      <th>EMA_5</th>\n",
       "      <th>VAR_5</th>\n",
       "      <th>...</th>\n",
       "      <th>BBU_5_2.0</th>\n",
       "      <th>BBB_5_2.0</th>\n",
       "      <th>BBP_5_2.0</th>\n",
       "      <th>roc_1</th>\n",
       "      <th>CMF_20</th>\n",
       "      <th>MFI_14</th>\n",
       "      <th>hour_sin</th>\n",
       "      <th>hour_cos</th>\n",
       "      <th>weekday_sin</th>\n",
       "      <th>weekday_cos</th>\n",
       "    </tr>\n",
       "  </thead>\n",
       "  <tbody>\n",
       "    <tr>\n",
       "      <th>37369</th>\n",
       "      <td>37369</td>\n",
       "      <td>2022-04-10 00:00:00</td>\n",
       "      <td>42753.96</td>\n",
       "      <td>42632.32</td>\n",
       "      <td>42776.62</td>\n",
       "      <td>42591.00</td>\n",
       "      <td>609.62172</td>\n",
       "      <td>0.0</td>\n",
       "      <td>42605.330258</td>\n",
       "      <td>14847.733795</td>\n",
       "      <td>...</td>\n",
       "      <td>42800.164191</td>\n",
       "      <td>1.023781</td>\n",
       "      <td>0.614991</td>\n",
       "      <td>-0.002845</td>\n",
       "      <td>0.113876</td>\n",
       "      <td>51.406434</td>\n",
       "      <td>0.000000e+00</td>\n",
       "      <td>1.000000</td>\n",
       "      <td>-2.449294e-16</td>\n",
       "      <td>1.0</td>\n",
       "    </tr>\n",
       "    <tr>\n",
       "      <th>37370</th>\n",
       "      <td>37370</td>\n",
       "      <td>2022-04-10 01:00:00</td>\n",
       "      <td>42632.31</td>\n",
       "      <td>42767.23</td>\n",
       "      <td>42786.02</td>\n",
       "      <td>42597.90</td>\n",
       "      <td>489.67289</td>\n",
       "      <td>0.0</td>\n",
       "      <td>42659.296838</td>\n",
       "      <td>11168.119045</td>\n",
       "      <td>...</td>\n",
       "      <td>42840.044918</td>\n",
       "      <td>0.886474</td>\n",
       "      <td>0.807414</td>\n",
       "      <td>0.003165</td>\n",
       "      <td>0.116091</td>\n",
       "      <td>50.976186</td>\n",
       "      <td>2.697968e-01</td>\n",
       "      <td>0.962917</td>\n",
       "      <td>-2.449294e-16</td>\n",
       "      <td>1.0</td>\n",
       "    </tr>\n",
       "    <tr>\n",
       "      <th>37371</th>\n",
       "      <td>37371</td>\n",
       "      <td>2022-04-10 02:00:00</td>\n",
       "      <td>42767.22</td>\n",
       "      <td>42833.03</td>\n",
       "      <td>42896.64</td>\n",
       "      <td>42731.10</td>\n",
       "      <td>507.70146</td>\n",
       "      <td>0.0</td>\n",
       "      <td>42717.207892</td>\n",
       "      <td>13511.963325</td>\n",
       "      <td>...</td>\n",
       "      <td>42913.932170</td>\n",
       "      <td>0.973813</td>\n",
       "      <td>0.805466</td>\n",
       "      <td>0.001539</td>\n",
       "      <td>0.153307</td>\n",
       "      <td>49.991422</td>\n",
       "      <td>5.195840e-01</td>\n",
       "      <td>0.854419</td>\n",
       "      <td>-2.449294e-16</td>\n",
       "      <td>1.0</td>\n",
       "    </tr>\n",
       "    <tr>\n",
       "      <th>37372</th>\n",
       "      <td>37372</td>\n",
       "      <td>2022-04-10 03:00:00</td>\n",
       "      <td>42833.03</td>\n",
       "      <td>42785.72</td>\n",
       "      <td>42891.91</td>\n",
       "      <td>42775.74</td>\n",
       "      <td>507.09099</td>\n",
       "      <td>0.0</td>\n",
       "      <td>42740.045261</td>\n",
       "      <td>5557.981225</td>\n",
       "      <td>...</td>\n",
       "      <td>42887.816438</td>\n",
       "      <td>0.623853</td>\n",
       "      <td>0.617222</td>\n",
       "      <td>-0.001105</td>\n",
       "      <td>0.097601</td>\n",
       "      <td>50.328831</td>\n",
       "      <td>7.308360e-01</td>\n",
       "      <td>0.682553</td>\n",
       "      <td>-2.449294e-16</td>\n",
       "      <td>1.0</td>\n",
       "    </tr>\n",
       "    <tr>\n",
       "      <th>37373</th>\n",
       "      <td>37373</td>\n",
       "      <td>2022-04-10 04:00:00</td>\n",
       "      <td>42785.72</td>\n",
       "      <td>42740.86</td>\n",
       "      <td>42791.24</td>\n",
       "      <td>42706.35</td>\n",
       "      <td>345.20871</td>\n",
       "      <td>0.0</td>\n",
       "      <td>42740.316841</td>\n",
       "      <td>5595.528265</td>\n",
       "      <td>...</td>\n",
       "      <td>42885.644146</td>\n",
       "      <td>0.625995</td>\n",
       "      <td>0.459002</td>\n",
       "      <td>-0.001048</td>\n",
       "      <td>0.079196</td>\n",
       "      <td>53.329553</td>\n",
       "      <td>8.878852e-01</td>\n",
       "      <td>0.460065</td>\n",
       "      <td>-2.449294e-16</td>\n",
       "      <td>1.0</td>\n",
       "    </tr>\n",
       "    <tr>\n",
       "      <th>...</th>\n",
       "      <td>...</td>\n",
       "      <td>...</td>\n",
       "      <td>...</td>\n",
       "      <td>...</td>\n",
       "      <td>...</td>\n",
       "      <td>...</td>\n",
       "      <td>...</td>\n",
       "      <td>...</td>\n",
       "      <td>...</td>\n",
       "      <td>...</td>\n",
       "      <td>...</td>\n",
       "      <td>...</td>\n",
       "      <td>...</td>\n",
       "      <td>...</td>\n",
       "      <td>...</td>\n",
       "      <td>...</td>\n",
       "      <td>...</td>\n",
       "      <td>...</td>\n",
       "      <td>...</td>\n",
       "      <td>...</td>\n",
       "      <td>...</td>\n",
       "    </tr>\n",
       "    <tr>\n",
       "      <th>37485</th>\n",
       "      <td>37485</td>\n",
       "      <td>2022-04-14 20:00:00</td>\n",
       "      <td>39775.81</td>\n",
       "      <td>39909.99</td>\n",
       "      <td>39910.00</td>\n",
       "      <td>39662.46</td>\n",
       "      <td>1191.67137</td>\n",
       "      <td>1.0</td>\n",
       "      <td>39930.633222</td>\n",
       "      <td>18577.937465</td>\n",
       "      <td>...</td>\n",
       "      <td>40100.370476</td>\n",
       "      <td>1.223500</td>\n",
       "      <td>0.609592</td>\n",
       "      <td>0.003373</td>\n",
       "      <td>-0.154044</td>\n",
       "      <td>19.305765</td>\n",
       "      <td>-7.308360e-01</td>\n",
       "      <td>0.682553</td>\n",
       "      <td>1.224647e-16</td>\n",
       "      <td>-1.0</td>\n",
       "    </tr>\n",
       "    <tr>\n",
       "      <th>37486</th>\n",
       "      <td>37486</td>\n",
       "      <td>2022-04-14 21:00:00</td>\n",
       "      <td>39909.99</td>\n",
       "      <td>39970.00</td>\n",
       "      <td>40000.00</td>\n",
       "      <td>39861.31</td>\n",
       "      <td>629.27941</td>\n",
       "      <td>1.0</td>\n",
       "      <td>39943.755481</td>\n",
       "      <td>19542.895865</td>\n",
       "      <td>...</td>\n",
       "      <td>40110.402522</td>\n",
       "      <td>1.254754</td>\n",
       "      <td>0.719279</td>\n",
       "      <td>0.001504</td>\n",
       "      <td>-0.184177</td>\n",
       "      <td>18.325053</td>\n",
       "      <td>-5.195840e-01</td>\n",
       "      <td>0.854419</td>\n",
       "      <td>1.224647e-16</td>\n",
       "      <td>-1.0</td>\n",
       "    </tr>\n",
       "    <tr>\n",
       "      <th>37487</th>\n",
       "      <td>37487</td>\n",
       "      <td>2022-04-14 22:00:00</td>\n",
       "      <td>39969.99</td>\n",
       "      <td>39843.71</td>\n",
       "      <td>40017.26</td>\n",
       "      <td>39806.25</td>\n",
       "      <td>877.56531</td>\n",
       "      <td>1.0</td>\n",
       "      <td>39910.406988</td>\n",
       "      <td>14587.079625</td>\n",
       "      <td>...</td>\n",
       "      <td>40047.756435</td>\n",
       "      <td>1.084826</td>\n",
       "      <td>0.527785</td>\n",
       "      <td>-0.003160</td>\n",
       "      <td>-0.207066</td>\n",
       "      <td>18.442922</td>\n",
       "      <td>-2.697968e-01</td>\n",
       "      <td>0.962917</td>\n",
       "      <td>1.224647e-16</td>\n",
       "      <td>-1.0</td>\n",
       "    </tr>\n",
       "    <tr>\n",
       "      <th>37488</th>\n",
       "      <td>37488</td>\n",
       "      <td>2022-04-14 23:00:00</td>\n",
       "      <td>39843.71</td>\n",
       "      <td>39942.38</td>\n",
       "      <td>39946.94</td>\n",
       "      <td>39828.95</td>\n",
       "      <td>407.47573</td>\n",
       "      <td>1.0</td>\n",
       "      <td>39921.064658</td>\n",
       "      <td>6177.494745</td>\n",
       "      <td>...</td>\n",
       "      <td>40028.978660</td>\n",
       "      <td>0.704960</td>\n",
       "      <td>0.692036</td>\n",
       "      <td>0.002476</td>\n",
       "      <td>-0.184703</td>\n",
       "      <td>20.919371</td>\n",
       "      <td>-2.449294e-16</td>\n",
       "      <td>1.000000</td>\n",
       "      <td>1.224647e-16</td>\n",
       "      <td>-1.0</td>\n",
       "    </tr>\n",
       "    <tr>\n",
       "      <th>37489</th>\n",
       "      <td>37489</td>\n",
       "      <td>2022-04-15 00:00:00</td>\n",
       "      <td>39942.37</td>\n",
       "      <td>39859.99</td>\n",
       "      <td>40180.00</td>\n",
       "      <td>39766.40</td>\n",
       "      <td>1357.42561</td>\n",
       "      <td>1.0</td>\n",
       "      <td>39900.706439</td>\n",
       "      <td>2857.324925</td>\n",
       "      <td>...</td>\n",
       "      <td>40000.835335</td>\n",
       "      <td>0.479242</td>\n",
       "      <td>0.263526</td>\n",
       "      <td>-0.002063</td>\n",
       "      <td>-0.195236</td>\n",
       "      <td>26.401440</td>\n",
       "      <td>0.000000e+00</td>\n",
       "      <td>1.000000</td>\n",
       "      <td>-8.660254e-01</td>\n",
       "      <td>-0.5</td>\n",
       "    </tr>\n",
       "  </tbody>\n",
       "</table>\n",
       "<p>121 rows × 39 columns</p>\n",
       "</div>"
      ],
      "text/plain": [
       "       index            datetime      open     close      high       low  \\\n",
       "37369  37369 2022-04-10 00:00:00  42753.96  42632.32  42776.62  42591.00   \n",
       "37370  37370 2022-04-10 01:00:00  42632.31  42767.23  42786.02  42597.90   \n",
       "37371  37371 2022-04-10 02:00:00  42767.22  42833.03  42896.64  42731.10   \n",
       "37372  37372 2022-04-10 03:00:00  42833.03  42785.72  42891.91  42775.74   \n",
       "37373  37373 2022-04-10 04:00:00  42785.72  42740.86  42791.24  42706.35   \n",
       "...      ...                 ...       ...       ...       ...       ...   \n",
       "37485  37485 2022-04-14 20:00:00  39775.81  39909.99  39910.00  39662.46   \n",
       "37486  37486 2022-04-14 21:00:00  39909.99  39970.00  40000.00  39861.31   \n",
       "37487  37487 2022-04-14 22:00:00  39969.99  39843.71  40017.26  39806.25   \n",
       "37488  37488 2022-04-14 23:00:00  39843.71  39942.38  39946.94  39828.95   \n",
       "37489  37489 2022-04-15 00:00:00  39942.37  39859.99  40180.00  39766.40   \n",
       "\n",
       "           volume  y_pred         EMA_5         VAR_5  ...     BBU_5_2.0  \\\n",
       "37369   609.62172     0.0  42605.330258  14847.733795  ...  42800.164191   \n",
       "37370   489.67289     0.0  42659.296838  11168.119045  ...  42840.044918   \n",
       "37371   507.70146     0.0  42717.207892  13511.963325  ...  42913.932170   \n",
       "37372   507.09099     0.0  42740.045261   5557.981225  ...  42887.816438   \n",
       "37373   345.20871     0.0  42740.316841   5595.528265  ...  42885.644146   \n",
       "...           ...     ...           ...           ...  ...           ...   \n",
       "37485  1191.67137     1.0  39930.633222  18577.937465  ...  40100.370476   \n",
       "37486   629.27941     1.0  39943.755481  19542.895865  ...  40110.402522   \n",
       "37487   877.56531     1.0  39910.406988  14587.079625  ...  40047.756435   \n",
       "37488   407.47573     1.0  39921.064658   6177.494745  ...  40028.978660   \n",
       "37489  1357.42561     1.0  39900.706439   2857.324925  ...  40000.835335   \n",
       "\n",
       "       BBB_5_2.0  BBP_5_2.0     roc_1    CMF_20     MFI_14      hour_sin  \\\n",
       "37369   1.023781   0.614991 -0.002845  0.113876  51.406434  0.000000e+00   \n",
       "37370   0.886474   0.807414  0.003165  0.116091  50.976186  2.697968e-01   \n",
       "37371   0.973813   0.805466  0.001539  0.153307  49.991422  5.195840e-01   \n",
       "37372   0.623853   0.617222 -0.001105  0.097601  50.328831  7.308360e-01   \n",
       "37373   0.625995   0.459002 -0.001048  0.079196  53.329553  8.878852e-01   \n",
       "...          ...        ...       ...       ...        ...           ...   \n",
       "37485   1.223500   0.609592  0.003373 -0.154044  19.305765 -7.308360e-01   \n",
       "37486   1.254754   0.719279  0.001504 -0.184177  18.325053 -5.195840e-01   \n",
       "37487   1.084826   0.527785 -0.003160 -0.207066  18.442922 -2.697968e-01   \n",
       "37488   0.704960   0.692036  0.002476 -0.184703  20.919371 -2.449294e-16   \n",
       "37489   0.479242   0.263526 -0.002063 -0.195236  26.401440  0.000000e+00   \n",
       "\n",
       "       hour_cos   weekday_sin  weekday_cos  \n",
       "37369  1.000000 -2.449294e-16          1.0  \n",
       "37370  0.962917 -2.449294e-16          1.0  \n",
       "37371  0.854419 -2.449294e-16          1.0  \n",
       "37372  0.682553 -2.449294e-16          1.0  \n",
       "37373  0.460065 -2.449294e-16          1.0  \n",
       "...         ...           ...          ...  \n",
       "37485  0.682553  1.224647e-16         -1.0  \n",
       "37486  0.854419  1.224647e-16         -1.0  \n",
       "37487  0.962917  1.224647e-16         -1.0  \n",
       "37488  1.000000  1.224647e-16         -1.0  \n",
       "37489  1.000000 -8.660254e-01         -0.5  \n",
       "\n",
       "[121 rows x 39 columns]"
      ]
     },
     "execution_count": 48,
     "metadata": {},
     "output_type": "execute_result"
    }
   ],
   "source": [
    "triple_barrier_subset"
   ]
  },
  {
   "cell_type": "code",
   "execution_count": 50,
   "metadata": {},
   "outputs": [
    {
     "data": {
      "application/vnd.plotly.v1+json": {
       "config": {
        "plotlyServerURL": "https://plot.ly"
       },
       "data": [
        {
         "close": [
          42632.32,
          42767.23,
          42833.03,
          42785.72,
          42740.86,
          42656.7,
          42785.32,
          42633.59,
          42642.54,
          42523.95,
          42530,
          42680.36,
          42590,
          42575.53,
          42698.38,
          42747.47,
          42784.43,
          43103.62,
          43107.6,
          43235.77,
          43101.23,
          42706,
          42111.94,
          42158.85,
          42303.26,
          42159.32,
          41929.34,
          42111.22,
          42259.43,
          42287.6,
          42250,
          42305.75,
          42200,
          41416.22,
          41595.99,
          41067.63,
          41145.46,
          41141.13,
          40803.87,
          40581.51,
          40764.79,
          40459.07,
          40509.98,
          39985.33,
          39838.26,
          39395.29,
          39766.39,
          39530.45,
          39544.31,
          39504.54,
          39490,
          39747.13,
          39921.19,
          40105.78,
          39935.23,
          40183.97,
          40182.03,
          40212.26,
          40149.99,
          40378,
          40618.37,
          40401.03,
          39990.39,
          40179.13,
          40097.23,
          40014.72,
          39667.85,
          39303.1,
          39519.99,
          39693.79,
          39827.96,
          40074.94,
          39936.17,
          39882.9,
          40059.14,
          40076.05,
          40134.51,
          40187.9,
          39958.45,
          40130,
          40162.32,
          40079.99,
          39808.11,
          39722.64,
          39700.01,
          40521.75,
          40642.1,
          41158.18,
          41005.58,
          41043.91,
          41363.01,
          41059.3,
          41241.16,
          41219.72,
          41279.05,
          41147.79,
          41186.23,
          41470.01,
          41419.99,
          41320,
          41290.81,
          41308.44,
          41195.39,
          41271.66,
          41172.72,
          41186.69,
          40946.47,
          40919.99,
          41149.98,
          40605.62,
          40435.04,
          39964.02,
          39951.1,
          39986.83,
          39659,
          39775.82,
          39909.99,
          39970,
          39843.71,
          39942.38,
          39859.99
         ],
         "high": [
          42776.62,
          42786.02,
          42896.64,
          42891.91,
          42791.24,
          42799,
          42793.21,
          42796.01,
          42716.75,
          42655.94,
          42563.62,
          42715.84,
          42850,
          42663.68,
          42748.08,
          42776.77,
          42799,
          43310.15,
          43258.83,
          43290,
          43410.3,
          43198.2,
          42740.88,
          42434.51,
          42394.71,
          42414.71,
          42225.77,
          42148.69,
          42283.45,
          42312.75,
          42340.09,
          42350.29,
          42350,
          42202.79,
          41646.55,
          41595.99,
          41246.61,
          41184,
          41220.9,
          40989.99,
          40832.55,
          40896.83,
          40520.45,
          40598.43,
          40269.6,
          39916.45,
          39978.62,
          39840.39,
          39852.95,
          39727.8,
          39550.48,
          39750.01,
          39950,
          40145,
          40186.36,
          40196.39,
          40344.6,
          40245.48,
          40273.24,
          40464,
          40699,
          40627.48,
          40436.31,
          40370,
          40376.8,
          40227.03,
          40056.52,
          39721.7,
          39597.94,
          39750.15,
          39927,
          40289.02,
          40189,
          39936.17,
          40189.27,
          40275,
          40142.6,
          40211.9,
          40228.41,
          40226.07,
          40200.03,
          40212.75,
          40142.11,
          39990,
          39935.3,
          40569.99,
          40957,
          41411,
          41347.69,
          41141.57,
          41374.2,
          41561.31,
          41319.86,
          41337,
          41404.58,
          41340,
          41272.19,
          41500,
          41473.24,
          41450,
          41413.11,
          41343.62,
          41332.7,
          41360,
          41324.93,
          41218.7,
          41225,
          41070.76,
          41186.9,
          41300,
          40659.82,
          40483.66,
          40069,
          40060.05,
          40028.94,
          39847.79,
          39910,
          40000,
          40017.26,
          39946.94,
          40180
         ],
         "low": [
          42591,
          42597.9,
          42731.1,
          42775.74,
          42706.35,
          42650,
          42645.5,
          42575.4,
          42564.2,
          42489.01,
          42433.49,
          42517.01,
          42525,
          42525.44,
          42541.5,
          42650.02,
          42659.64,
          42784.43,
          43080,
          43075,
          43101.19,
          42654.93,
          41868,
          41980.28,
          41755,
          42153.06,
          41800,
          41828.74,
          42084.56,
          42183.5,
          42153.8,
          42161.45,
          42079.56,
          41392.8,
          41215,
          40968.11,
          40916.01,
          40684.8,
          40716.37,
          40560,
          40485.12,
          40250,
          40238,
          39770.35,
          39500,
          39275.68,
          39200,
          39372.35,
          39357.64,
          39408.16,
          39290,
          39478.73,
          39624.71,
          39870.71,
          39834.98,
          39866.31,
          40108.31,
          40016.09,
          40094.66,
          40105,
          40196.48,
          40154.99,
          39800,
          39959.21,
          39922.98,
          39940.02,
          39632,
          39261.39,
          39254.63,
          39473.91,
          39555.51,
          39819,
          39892.43,
          39588.54,
          39706.19,
          40013.79,
          39931.51,
          40063.51,
          39858.34,
          39910.07,
          40005,
          40029.86,
          39728.59,
          39656.1,
          39648.78,
          39622.87,
          40365,
          40640,
          40938.14,
          40829,
          40990.62,
          41024.49,
          41000,
          41080.01,
          41151.71,
          41075.04,
          41064.35,
          41177.94,
          41347.58,
          41271.08,
          41230.56,
          41242.97,
          41161.12,
          41156.9,
          41165,
          40973.51,
          40941.69,
          40851.5,
          40873.66,
          40516.48,
          40310.41,
          39925.21,
          39772.58,
          39842,
          39626.06,
          39551.94,
          39662.46,
          39861.31,
          39806.25,
          39828.95,
          39766.4
         ],
         "open": [
          42753.96,
          42632.31,
          42767.22,
          42833.03,
          42785.72,
          42740.86,
          42656.7,
          42785.33,
          42633.59,
          42642.55,
          42523.94,
          42530,
          42680.35,
          42589.99,
          42575.54,
          42698.38,
          42747.48,
          42784.43,
          43103.61,
          43107.61,
          43235.77,
          43101.23,
          42706.71,
          42111.93,
          42158.85,
          42303.26,
          42159.32,
          41929.33,
          42111.21,
          42259.44,
          42287.61,
          42249.99,
          42305.74,
          42200,
          41416.22,
          41595.98,
          41067.64,
          41145.45,
          41141.13,
          40803.86,
          40581.52,
          40764.79,
          40459.07,
          40509.97,
          39985.34,
          39838.26,
          39395.29,
          39766.39,
          39530.45,
          39544.32,
          39504.54,
          39489.99,
          39747.14,
          39921.18,
          40105.78,
          39935.24,
          40183.97,
          40182.02,
          40212.25,
          40150,
          40378,
          40618.37,
          40401.03,
          39990.38,
          40179.12,
          40097.23,
          40014.71,
          39667.85,
          39303.1,
          39519.99,
          39693.8,
          39827.97,
          40074.95,
          39936.17,
          39882.9,
          40059.15,
          40076.05,
          40134.5,
          40187.89,
          39958.44,
          40129.99,
          40162.32,
          40080,
          39808.1,
          39722.63,
          39700.01,
          40521.75,
          40642.1,
          41158.18,
          41005.59,
          41043.91,
          41363.01,
          41059.31,
          41241.17,
          41219.73,
          41279.04,
          41147.78,
          41186.22,
          41470,
          41420,
          41320,
          41290.81,
          41308.45,
          41195.39,
          41271.66,
          41172.72,
          41186.7,
          40946.47,
          40919.99,
          41149.98,
          40605.63,
          40435.03,
          39964.01,
          39951.11,
          39986.84,
          39658.99,
          39775.81,
          39909.99,
          39969.99,
          39843.71,
          39942.37
         ],
         "showlegend": false,
         "type": "candlestick",
         "x": [
          "2022-04-10T00:00:00",
          "2022-04-10T01:00:00",
          "2022-04-10T02:00:00",
          "2022-04-10T03:00:00",
          "2022-04-10T04:00:00",
          "2022-04-10T05:00:00",
          "2022-04-10T06:00:00",
          "2022-04-10T07:00:00",
          "2022-04-10T08:00:00",
          "2022-04-10T09:00:00",
          "2022-04-10T10:00:00",
          "2022-04-10T11:00:00",
          "2022-04-10T12:00:00",
          "2022-04-10T13:00:00",
          "2022-04-10T14:00:00",
          "2022-04-10T15:00:00",
          "2022-04-10T16:00:00",
          "2022-04-10T17:00:00",
          "2022-04-10T18:00:00",
          "2022-04-10T19:00:00",
          "2022-04-10T20:00:00",
          "2022-04-10T21:00:00",
          "2022-04-10T22:00:00",
          "2022-04-10T23:00:00",
          "2022-04-11T00:00:00",
          "2022-04-11T01:00:00",
          "2022-04-11T02:00:00",
          "2022-04-11T03:00:00",
          "2022-04-11T04:00:00",
          "2022-04-11T05:00:00",
          "2022-04-11T06:00:00",
          "2022-04-11T07:00:00",
          "2022-04-11T08:00:00",
          "2022-04-11T09:00:00",
          "2022-04-11T10:00:00",
          "2022-04-11T11:00:00",
          "2022-04-11T12:00:00",
          "2022-04-11T13:00:00",
          "2022-04-11T14:00:00",
          "2022-04-11T15:00:00",
          "2022-04-11T16:00:00",
          "2022-04-11T17:00:00",
          "2022-04-11T18:00:00",
          "2022-04-11T19:00:00",
          "2022-04-11T20:00:00",
          "2022-04-11T21:00:00",
          "2022-04-11T22:00:00",
          "2022-04-11T23:00:00",
          "2022-04-12T00:00:00",
          "2022-04-12T01:00:00",
          "2022-04-12T02:00:00",
          "2022-04-12T03:00:00",
          "2022-04-12T04:00:00",
          "2022-04-12T05:00:00",
          "2022-04-12T06:00:00",
          "2022-04-12T07:00:00",
          "2022-04-12T08:00:00",
          "2022-04-12T09:00:00",
          "2022-04-12T10:00:00",
          "2022-04-12T11:00:00",
          "2022-04-12T12:00:00",
          "2022-04-12T13:00:00",
          "2022-04-12T14:00:00",
          "2022-04-12T15:00:00",
          "2022-04-12T16:00:00",
          "2022-04-12T17:00:00",
          "2022-04-12T18:00:00",
          "2022-04-12T19:00:00",
          "2022-04-12T20:00:00",
          "2022-04-12T21:00:00",
          "2022-04-12T22:00:00",
          "2022-04-12T23:00:00",
          "2022-04-13T00:00:00",
          "2022-04-13T01:00:00",
          "2022-04-13T02:00:00",
          "2022-04-13T03:00:00",
          "2022-04-13T04:00:00",
          "2022-04-13T05:00:00",
          "2022-04-13T06:00:00",
          "2022-04-13T07:00:00",
          "2022-04-13T08:00:00",
          "2022-04-13T09:00:00",
          "2022-04-13T10:00:00",
          "2022-04-13T11:00:00",
          "2022-04-13T12:00:00",
          "2022-04-13T13:00:00",
          "2022-04-13T14:00:00",
          "2022-04-13T15:00:00",
          "2022-04-13T16:00:00",
          "2022-04-13T17:00:00",
          "2022-04-13T18:00:00",
          "2022-04-13T19:00:00",
          "2022-04-13T20:00:00",
          "2022-04-13T21:00:00",
          "2022-04-13T22:00:00",
          "2022-04-13T23:00:00",
          "2022-04-14T00:00:00",
          "2022-04-14T01:00:00",
          "2022-04-14T02:00:00",
          "2022-04-14T03:00:00",
          "2022-04-14T04:00:00",
          "2022-04-14T05:00:00",
          "2022-04-14T06:00:00",
          "2022-04-14T07:00:00",
          "2022-04-14T08:00:00",
          "2022-04-14T09:00:00",
          "2022-04-14T10:00:00",
          "2022-04-14T11:00:00",
          "2022-04-14T12:00:00",
          "2022-04-14T13:00:00",
          "2022-04-14T14:00:00",
          "2022-04-14T15:00:00",
          "2022-04-14T16:00:00",
          "2022-04-14T17:00:00",
          "2022-04-14T18:00:00",
          "2022-04-14T19:00:00",
          "2022-04-14T20:00:00",
          "2022-04-14T21:00:00",
          "2022-04-14T22:00:00",
          "2022-04-14T23:00:00",
          "2022-04-15T00:00:00"
         ]
        }
       ],
       "layout": {
        "height": 600,
        "paper_bgcolor": "white",
        "plot_bgcolor": "white",
        "shapes": [
         {
          "layer": "above",
          "line": {
           "color": "blue",
           "dash": "dashdot",
           "width": 1.5
          },
          "type": "rect",
          "x0": "2022-04-13T05:00:00",
          "x1": "2022-04-14T05:00:00",
          "y0": 39183.2025,
          "y1": 41192.5975
         }
        ],
        "template": {
         "data": {
          "bar": [
           {
            "error_x": {
             "color": "#2a3f5f"
            },
            "error_y": {
             "color": "#2a3f5f"
            },
            "marker": {
             "line": {
              "color": "#E5ECF6",
              "width": 0.5
             },
             "pattern": {
              "fillmode": "overlay",
              "size": 10,
              "solidity": 0.2
             }
            },
            "type": "bar"
           }
          ],
          "barpolar": [
           {
            "marker": {
             "line": {
              "color": "#E5ECF6",
              "width": 0.5
             },
             "pattern": {
              "fillmode": "overlay",
              "size": 10,
              "solidity": 0.2
             }
            },
            "type": "barpolar"
           }
          ],
          "carpet": [
           {
            "aaxis": {
             "endlinecolor": "#2a3f5f",
             "gridcolor": "white",
             "linecolor": "white",
             "minorgridcolor": "white",
             "startlinecolor": "#2a3f5f"
            },
            "baxis": {
             "endlinecolor": "#2a3f5f",
             "gridcolor": "white",
             "linecolor": "white",
             "minorgridcolor": "white",
             "startlinecolor": "#2a3f5f"
            },
            "type": "carpet"
           }
          ],
          "choropleth": [
           {
            "colorbar": {
             "outlinewidth": 0,
             "ticks": ""
            },
            "type": "choropleth"
           }
          ],
          "contour": [
           {
            "colorbar": {
             "outlinewidth": 0,
             "ticks": ""
            },
            "colorscale": [
             [
              0,
              "#0d0887"
             ],
             [
              0.1111111111111111,
              "#46039f"
             ],
             [
              0.2222222222222222,
              "#7201a8"
             ],
             [
              0.3333333333333333,
              "#9c179e"
             ],
             [
              0.4444444444444444,
              "#bd3786"
             ],
             [
              0.5555555555555556,
              "#d8576b"
             ],
             [
              0.6666666666666666,
              "#ed7953"
             ],
             [
              0.7777777777777778,
              "#fb9f3a"
             ],
             [
              0.8888888888888888,
              "#fdca26"
             ],
             [
              1,
              "#f0f921"
             ]
            ],
            "type": "contour"
           }
          ],
          "contourcarpet": [
           {
            "colorbar": {
             "outlinewidth": 0,
             "ticks": ""
            },
            "type": "contourcarpet"
           }
          ],
          "heatmap": [
           {
            "colorbar": {
             "outlinewidth": 0,
             "ticks": ""
            },
            "colorscale": [
             [
              0,
              "#0d0887"
             ],
             [
              0.1111111111111111,
              "#46039f"
             ],
             [
              0.2222222222222222,
              "#7201a8"
             ],
             [
              0.3333333333333333,
              "#9c179e"
             ],
             [
              0.4444444444444444,
              "#bd3786"
             ],
             [
              0.5555555555555556,
              "#d8576b"
             ],
             [
              0.6666666666666666,
              "#ed7953"
             ],
             [
              0.7777777777777778,
              "#fb9f3a"
             ],
             [
              0.8888888888888888,
              "#fdca26"
             ],
             [
              1,
              "#f0f921"
             ]
            ],
            "type": "heatmap"
           }
          ],
          "heatmapgl": [
           {
            "colorbar": {
             "outlinewidth": 0,
             "ticks": ""
            },
            "colorscale": [
             [
              0,
              "#0d0887"
             ],
             [
              0.1111111111111111,
              "#46039f"
             ],
             [
              0.2222222222222222,
              "#7201a8"
             ],
             [
              0.3333333333333333,
              "#9c179e"
             ],
             [
              0.4444444444444444,
              "#bd3786"
             ],
             [
              0.5555555555555556,
              "#d8576b"
             ],
             [
              0.6666666666666666,
              "#ed7953"
             ],
             [
              0.7777777777777778,
              "#fb9f3a"
             ],
             [
              0.8888888888888888,
              "#fdca26"
             ],
             [
              1,
              "#f0f921"
             ]
            ],
            "type": "heatmapgl"
           }
          ],
          "histogram": [
           {
            "marker": {
             "pattern": {
              "fillmode": "overlay",
              "size": 10,
              "solidity": 0.2
             }
            },
            "type": "histogram"
           }
          ],
          "histogram2d": [
           {
            "colorbar": {
             "outlinewidth": 0,
             "ticks": ""
            },
            "colorscale": [
             [
              0,
              "#0d0887"
             ],
             [
              0.1111111111111111,
              "#46039f"
             ],
             [
              0.2222222222222222,
              "#7201a8"
             ],
             [
              0.3333333333333333,
              "#9c179e"
             ],
             [
              0.4444444444444444,
              "#bd3786"
             ],
             [
              0.5555555555555556,
              "#d8576b"
             ],
             [
              0.6666666666666666,
              "#ed7953"
             ],
             [
              0.7777777777777778,
              "#fb9f3a"
             ],
             [
              0.8888888888888888,
              "#fdca26"
             ],
             [
              1,
              "#f0f921"
             ]
            ],
            "type": "histogram2d"
           }
          ],
          "histogram2dcontour": [
           {
            "colorbar": {
             "outlinewidth": 0,
             "ticks": ""
            },
            "colorscale": [
             [
              0,
              "#0d0887"
             ],
             [
              0.1111111111111111,
              "#46039f"
             ],
             [
              0.2222222222222222,
              "#7201a8"
             ],
             [
              0.3333333333333333,
              "#9c179e"
             ],
             [
              0.4444444444444444,
              "#bd3786"
             ],
             [
              0.5555555555555556,
              "#d8576b"
             ],
             [
              0.6666666666666666,
              "#ed7953"
             ],
             [
              0.7777777777777778,
              "#fb9f3a"
             ],
             [
              0.8888888888888888,
              "#fdca26"
             ],
             [
              1,
              "#f0f921"
             ]
            ],
            "type": "histogram2dcontour"
           }
          ],
          "mesh3d": [
           {
            "colorbar": {
             "outlinewidth": 0,
             "ticks": ""
            },
            "type": "mesh3d"
           }
          ],
          "parcoords": [
           {
            "line": {
             "colorbar": {
              "outlinewidth": 0,
              "ticks": ""
             }
            },
            "type": "parcoords"
           }
          ],
          "pie": [
           {
            "automargin": true,
            "type": "pie"
           }
          ],
          "scatter": [
           {
            "fillpattern": {
             "fillmode": "overlay",
             "size": 10,
             "solidity": 0.2
            },
            "type": "scatter"
           }
          ],
          "scatter3d": [
           {
            "line": {
             "colorbar": {
              "outlinewidth": 0,
              "ticks": ""
             }
            },
            "marker": {
             "colorbar": {
              "outlinewidth": 0,
              "ticks": ""
             }
            },
            "type": "scatter3d"
           }
          ],
          "scattercarpet": [
           {
            "marker": {
             "colorbar": {
              "outlinewidth": 0,
              "ticks": ""
             }
            },
            "type": "scattercarpet"
           }
          ],
          "scattergeo": [
           {
            "marker": {
             "colorbar": {
              "outlinewidth": 0,
              "ticks": ""
             }
            },
            "type": "scattergeo"
           }
          ],
          "scattergl": [
           {
            "marker": {
             "colorbar": {
              "outlinewidth": 0,
              "ticks": ""
             }
            },
            "type": "scattergl"
           }
          ],
          "scattermapbox": [
           {
            "marker": {
             "colorbar": {
              "outlinewidth": 0,
              "ticks": ""
             }
            },
            "type": "scattermapbox"
           }
          ],
          "scatterpolar": [
           {
            "marker": {
             "colorbar": {
              "outlinewidth": 0,
              "ticks": ""
             }
            },
            "type": "scatterpolar"
           }
          ],
          "scatterpolargl": [
           {
            "marker": {
             "colorbar": {
              "outlinewidth": 0,
              "ticks": ""
             }
            },
            "type": "scatterpolargl"
           }
          ],
          "scatterternary": [
           {
            "marker": {
             "colorbar": {
              "outlinewidth": 0,
              "ticks": ""
             }
            },
            "type": "scatterternary"
           }
          ],
          "surface": [
           {
            "colorbar": {
             "outlinewidth": 0,
             "ticks": ""
            },
            "colorscale": [
             [
              0,
              "#0d0887"
             ],
             [
              0.1111111111111111,
              "#46039f"
             ],
             [
              0.2222222222222222,
              "#7201a8"
             ],
             [
              0.3333333333333333,
              "#9c179e"
             ],
             [
              0.4444444444444444,
              "#bd3786"
             ],
             [
              0.5555555555555556,
              "#d8576b"
             ],
             [
              0.6666666666666666,
              "#ed7953"
             ],
             [
              0.7777777777777778,
              "#fb9f3a"
             ],
             [
              0.8888888888888888,
              "#fdca26"
             ],
             [
              1,
              "#f0f921"
             ]
            ],
            "type": "surface"
           }
          ],
          "table": [
           {
            "cells": {
             "fill": {
              "color": "#EBF0F8"
             },
             "line": {
              "color": "white"
             }
            },
            "header": {
             "fill": {
              "color": "#C8D4E3"
             },
             "line": {
              "color": "white"
             }
            },
            "type": "table"
           }
          ]
         },
         "layout": {
          "annotationdefaults": {
           "arrowcolor": "#2a3f5f",
           "arrowhead": 0,
           "arrowwidth": 1
          },
          "autotypenumbers": "strict",
          "coloraxis": {
           "colorbar": {
            "outlinewidth": 0,
            "ticks": ""
           }
          },
          "colorscale": {
           "diverging": [
            [
             0,
             "#8e0152"
            ],
            [
             0.1,
             "#c51b7d"
            ],
            [
             0.2,
             "#de77ae"
            ],
            [
             0.3,
             "#f1b6da"
            ],
            [
             0.4,
             "#fde0ef"
            ],
            [
             0.5,
             "#f7f7f7"
            ],
            [
             0.6,
             "#e6f5d0"
            ],
            [
             0.7,
             "#b8e186"
            ],
            [
             0.8,
             "#7fbc41"
            ],
            [
             0.9,
             "#4d9221"
            ],
            [
             1,
             "#276419"
            ]
           ],
           "sequential": [
            [
             0,
             "#0d0887"
            ],
            [
             0.1111111111111111,
             "#46039f"
            ],
            [
             0.2222222222222222,
             "#7201a8"
            ],
            [
             0.3333333333333333,
             "#9c179e"
            ],
            [
             0.4444444444444444,
             "#bd3786"
            ],
            [
             0.5555555555555556,
             "#d8576b"
            ],
            [
             0.6666666666666666,
             "#ed7953"
            ],
            [
             0.7777777777777778,
             "#fb9f3a"
            ],
            [
             0.8888888888888888,
             "#fdca26"
            ],
            [
             1,
             "#f0f921"
            ]
           ],
           "sequentialminus": [
            [
             0,
             "#0d0887"
            ],
            [
             0.1111111111111111,
             "#46039f"
            ],
            [
             0.2222222222222222,
             "#7201a8"
            ],
            [
             0.3333333333333333,
             "#9c179e"
            ],
            [
             0.4444444444444444,
             "#bd3786"
            ],
            [
             0.5555555555555556,
             "#d8576b"
            ],
            [
             0.6666666666666666,
             "#ed7953"
            ],
            [
             0.7777777777777778,
             "#fb9f3a"
            ],
            [
             0.8888888888888888,
             "#fdca26"
            ],
            [
             1,
             "#f0f921"
            ]
           ]
          },
          "colorway": [
           "#636efa",
           "#EF553B",
           "#00cc96",
           "#ab63fa",
           "#FFA15A",
           "#19d3f3",
           "#FF6692",
           "#B6E880",
           "#FF97FF",
           "#FECB52"
          ],
          "font": {
           "color": "#2a3f5f"
          },
          "geo": {
           "bgcolor": "white",
           "lakecolor": "white",
           "landcolor": "#E5ECF6",
           "showlakes": true,
           "showland": true,
           "subunitcolor": "white"
          },
          "hoverlabel": {
           "align": "left"
          },
          "hovermode": "closest",
          "mapbox": {
           "style": "light"
          },
          "paper_bgcolor": "white",
          "plot_bgcolor": "#E5ECF6",
          "polar": {
           "angularaxis": {
            "gridcolor": "white",
            "linecolor": "white",
            "ticks": ""
           },
           "bgcolor": "#E5ECF6",
           "radialaxis": {
            "gridcolor": "white",
            "linecolor": "white",
            "ticks": ""
           }
          },
          "scene": {
           "xaxis": {
            "backgroundcolor": "#E5ECF6",
            "gridcolor": "white",
            "gridwidth": 2,
            "linecolor": "white",
            "showbackground": true,
            "ticks": "",
            "zerolinecolor": "white"
           },
           "yaxis": {
            "backgroundcolor": "#E5ECF6",
            "gridcolor": "white",
            "gridwidth": 2,
            "linecolor": "white",
            "showbackground": true,
            "ticks": "",
            "zerolinecolor": "white"
           },
           "zaxis": {
            "backgroundcolor": "#E5ECF6",
            "gridcolor": "white",
            "gridwidth": 2,
            "linecolor": "white",
            "showbackground": true,
            "ticks": "",
            "zerolinecolor": "white"
           }
          },
          "shapedefaults": {
           "line": {
            "color": "#2a3f5f"
           }
          },
          "ternary": {
           "aaxis": {
            "gridcolor": "white",
            "linecolor": "white",
            "ticks": ""
           },
           "baxis": {
            "gridcolor": "white",
            "linecolor": "white",
            "ticks": ""
           },
           "bgcolor": "#E5ECF6",
           "caxis": {
            "gridcolor": "white",
            "linecolor": "white",
            "ticks": ""
           }
          },
          "title": {
           "x": 0.05
          },
          "xaxis": {
           "automargin": true,
           "gridcolor": "white",
           "linecolor": "white",
           "ticks": "",
           "title": {
            "standoff": 15
           },
           "zerolinecolor": "white",
           "zerolinewidth": 2
          },
          "yaxis": {
           "automargin": true,
           "gridcolor": "white",
           "linecolor": "white",
           "ticks": "",
           "title": {
            "standoff": 15
           },
           "zerolinecolor": "white",
           "zerolinewidth": 2
          }
         }
        },
        "width": 900,
        "xaxis": {
         "gridcolor": "lightgray",
         "linecolor": "lightgray",
         "linewidth": 1,
         "mirror": true,
         "rangeslider": {
          "visible": false
         },
         "showgrid": true
        },
        "yaxis": {
         "gridcolor": "lightgray",
         "linecolor": "gray",
         "linewidth": 1,
         "mirror": true,
         "showgrid": true,
         "showline": true,
         "title": {
          "text": "Price (USD)"
         }
        }
       }
      }
     },
     "metadata": {},
     "output_type": "display_data"
    }
   ],
   "source": [
    "fig =  go.Figure(data=[\n",
    "    go.Candlestick(\n",
    "            x=triple_barrier_subset.datetime,\n",
    "            open=triple_barrier_subset.open,\n",
    "            high=triple_barrier_subset.high,\n",
    "            low=triple_barrier_subset.low,\n",
    "            close=triple_barrier_subset.close,\n",
    "            showlegend=False),\n",
    "])\n",
    "fig.add_shape(\n",
    "    type=\"rect\",\n",
    "    # starting coordinates\n",
    "    x0= datetime.datetime(2022, 4, 13, 5,0,0), y0=39183.20250,\n",
    "    # ending coordinates\n",
    "    x1= datetime.datetime(2022, 4, 14, 5,0,0), y1=41192.59750,\n",
    "    # Make sure the points are on top of the line\n",
    "    layer=\"above\",\n",
    "    # Style it like the axis lines\n",
    "    line=dict(dash=\"dashdot\", color=\"blue\", width=1.5)\n",
    ")\n",
    "\n",
    "fig.update_yaxes(showline=True,\n",
    "            mirror=True,\n",
    "            linewidth=1,\n",
    "            linecolor='gray',\n",
    "            showgrid=True,\n",
    "            gridcolor='lightgray')\n",
    "fig.update_xaxes(\n",
    "                linewidth=1,\n",
    "                linecolor='lightgray',\n",
    "                mirror=True,\n",
    "                showgrid=True,\n",
    "            gridcolor='lightgray')\n",
    "\n",
    "fig.update_yaxes(title_text=\"Price (USD)\")\n",
    "\n",
    "fig.update_layout(# title=\"BTCUSDT: 60-minute OHLCV\",\n",
    "                    paper_bgcolor='white',\n",
    "                    plot_bgcolor='white',\n",
    "                    width=900,\n",
    "                    height=600)\n",
    "\n",
    "\n",
    "    # hide the slide bar\n",
    "fig.update(layout_xaxis_rangeslider_visible=False)\n",
    "pio.write_image(fig,  'triple_barrier' + '.png',scale=3, width=1600, height=800)\n",
    "fig.show()"
   ]
  },
  {
   "cell_type": "code",
   "execution_count": null,
   "metadata": {},
   "outputs": [],
   "source": []
  }
 ],
 "metadata": {
  "kernelspec": {
   "display_name": "Python 3",
   "language": "python",
   "name": "python3"
  },
  "language_info": {
   "codemirror_mode": {
    "name": "ipython",
    "version": 3
   },
   "file_extension": ".py",
   "mimetype": "text/x-python",
   "name": "python",
   "nbconvert_exporter": "python",
   "pygments_lexer": "ipython3",
   "version": "3.8.16"
  },
  "orig_nbformat": 4
 },
 "nbformat": 4,
 "nbformat_minor": 2
}
