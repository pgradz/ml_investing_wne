{
 "cells": [
  {
   "cell_type": "code",
   "execution_count": 1,
   "metadata": {},
   "outputs": [],
   "source": [
    "import pandas as pd\n",
    "import datetime as datetime\n",
    "import plotly.graph_objects as go\n",
    "import plotly.io as pio\n",
    "from plotly.subplots import make_subplots"
   ]
  },
  {
   "cell_type": "code",
   "execution_count": 2,
   "metadata": {},
   "outputs": [],
   "source": [
    "date_start = datetime.datetime(2022, 4, 6)\n",
    "date_end = datetime.datetime(2022, 4, 20)\n"
   ]
  },
  {
   "cell_type": "code",
   "execution_count": 3,
   "metadata": {},
   "outputs": [],
   "source": [
    "btc_1_min = pd.read_csv('/Users/i0495036/Documents/sandbox/ml_investing_wne/src/ml_investing_wne/data/processed/binance_BTCUSDT/time_aggregated_1min.csv', parse_dates=['datetime'])"
   ]
  },
  {
   "cell_type": "code",
   "execution_count": 4,
   "metadata": {},
   "outputs": [],
   "source": [
    "btc_60_min = pd.read_csv('/Users/i0495036/Documents/sandbox/ml_investing_wne/src/ml_investing_wne/data/processed/binance_BTCUSDT/time_aggregated_60min.csv', parse_dates=['datetime'])"
   ]
  },
  {
   "cell_type": "code",
   "execution_count": 5,
   "metadata": {},
   "outputs": [],
   "source": [
    "btc_720_min = pd.read_csv('/Users/i0495036/Documents/sandbox/ml_investing_wne/src/ml_investing_wne/data/processed/binance_BTCUSDT/time_aggregated_720min.csv', parse_dates=['datetime'])"
   ]
  },
  {
   "cell_type": "code",
   "execution_count": 6,
   "metadata": {},
   "outputs": [],
   "source": [
    "btc_cumsum = pd.read_csv('/Users/i0495036/Documents/sandbox/ml_investing_wne/src/ml_investing_wne/data/processed/binance_BTCUSDT/cumsum_0.02.csv', parse_dates=['datetime'])"
   ]
  },
  {
   "cell_type": "code",
   "execution_count": 7,
   "metadata": {},
   "outputs": [],
   "source": [
    "btc_vol = pd.read_csv('/Users/i0495036/Documents/sandbox/ml_investing_wne/src/ml_investing_wne/data/processed/binance_BTCUSDT/volume_bars_5000.csv', parse_dates=['datetime'])"
   ]
  },
  {
   "cell_type": "code",
   "execution_count": 27,
   "metadata": {},
   "outputs": [],
   "source": [
    "btc_val = pd.read_csv('/Users/i0495036/Documents/sandbox/ml_investing_wne/src/ml_investing_wne/data/processed/binance_BTCUSDT/dollar_bars_200000000.csv', parse_dates=['datetime'])"
   ]
  },
  {
   "cell_type": "code",
   "execution_count": 9,
   "metadata": {},
   "outputs": [],
   "source": [
    "btc_range = pd.read_csv('/Users/i0495036/Documents/sandbox/ml_investing_wne/src/ml_investing_wne/data/processed/binance_BTCUSDT/range_0.02.csv', parse_dates=['datetime'])"
   ]
  },
  {
   "cell_type": "code",
   "execution_count": 10,
   "metadata": {},
   "outputs": [
    {
     "data": {
      "text/html": [
       "<div>\n",
       "<style scoped>\n",
       "    .dataframe tbody tr th:only-of-type {\n",
       "        vertical-align: middle;\n",
       "    }\n",
       "\n",
       "    .dataframe tbody tr th {\n",
       "        vertical-align: top;\n",
       "    }\n",
       "\n",
       "    .dataframe thead th {\n",
       "        text-align: right;\n",
       "    }\n",
       "</style>\n",
       "<table border=\"1\" class=\"dataframe\">\n",
       "  <thead>\n",
       "    <tr style=\"text-align: right;\">\n",
       "      <th></th>\n",
       "      <th>datetime</th>\n",
       "      <th>open</th>\n",
       "      <th>high</th>\n",
       "      <th>low</th>\n",
       "      <th>close</th>\n",
       "      <th>volume</th>\n",
       "      <th>seconds</th>\n",
       "    </tr>\n",
       "  </thead>\n",
       "  <tbody>\n",
       "    <tr>\n",
       "      <th>16824</th>\n",
       "      <td>2022-04-06 00:01:02.140</td>\n",
       "      <td>45975.53</td>\n",
       "      <td>46107.58</td>\n",
       "      <td>45353.81</td>\n",
       "      <td>45423.13</td>\n",
       "      <td>5000.00396</td>\n",
       "      <td>14202.498</td>\n",
       "    </tr>\n",
       "  </tbody>\n",
       "</table>\n",
       "</div>"
      ],
      "text/plain": [
       "                     datetime      open      high       low     close  \\\n",
       "16824 2022-04-06 00:01:02.140  45975.53  46107.58  45353.81  45423.13   \n",
       "\n",
       "           volume    seconds  \n",
       "16824  5000.00396  14202.498  "
      ]
     },
     "execution_count": 10,
     "metadata": {},
     "output_type": "execute_result"
    }
   ],
   "source": [
    "btc_vol_subset = btc_vol.loc[(btc_vol['datetime'] >= date_start) & (btc_vol['datetime'] <= date_end)]\n",
    "btc_vol_subset.head(1)"
   ]
  },
  {
   "cell_type": "code",
   "execution_count": 28,
   "metadata": {},
   "outputs": [
    {
     "data": {
      "text/html": [
       "<div>\n",
       "<style scoped>\n",
       "    .dataframe tbody tr th:only-of-type {\n",
       "        vertical-align: middle;\n",
       "    }\n",
       "\n",
       "    .dataframe tbody tr th {\n",
       "        vertical-align: top;\n",
       "    }\n",
       "\n",
       "    .dataframe thead th {\n",
       "        text-align: right;\n",
       "    }\n",
       "</style>\n",
       "<table border=\"1\" class=\"dataframe\">\n",
       "  <thead>\n",
       "    <tr style=\"text-align: right;\">\n",
       "      <th></th>\n",
       "      <th>datetime</th>\n",
       "      <th>open</th>\n",
       "      <th>high</th>\n",
       "      <th>low</th>\n",
       "      <th>close</th>\n",
       "      <th>volume</th>\n",
       "      <th>seconds</th>\n",
       "    </tr>\n",
       "  </thead>\n",
       "  <tbody>\n",
       "    <tr>\n",
       "      <th>9161</th>\n",
       "      <td>2022-04-06 00:02:06.006</td>\n",
       "      <td>45859.98</td>\n",
       "      <td>46050.22</td>\n",
       "      <td>45350.0</td>\n",
       "      <td>45419.88</td>\n",
       "      <td>4373.64876</td>\n",
       "      <td>12665.128</td>\n",
       "    </tr>\n",
       "  </tbody>\n",
       "</table>\n",
       "</div>"
      ],
      "text/plain": [
       "                    datetime      open      high      low     close  \\\n",
       "9161 2022-04-06 00:02:06.006  45859.98  46050.22  45350.0  45419.88   \n",
       "\n",
       "          volume    seconds  \n",
       "9161  4373.64876  12665.128  "
      ]
     },
     "execution_count": 28,
     "metadata": {},
     "output_type": "execute_result"
    }
   ],
   "source": [
    "btc_val_subset = btc_val.loc[(btc_val['datetime'] >= date_start) & (btc_val['datetime'] <= date_end)]\n",
    "btc_val_subset.head(1)"
   ]
  },
  {
   "cell_type": "code",
   "execution_count": 12,
   "metadata": {},
   "outputs": [
    {
     "data": {
      "text/html": [
       "<div>\n",
       "<style scoped>\n",
       "    .dataframe tbody tr th:only-of-type {\n",
       "        vertical-align: middle;\n",
       "    }\n",
       "\n",
       "    .dataframe tbody tr th {\n",
       "        vertical-align: top;\n",
       "    }\n",
       "\n",
       "    .dataframe thead th {\n",
       "        text-align: right;\n",
       "    }\n",
       "</style>\n",
       "<table border=\"1\" class=\"dataframe\">\n",
       "  <thead>\n",
       "    <tr style=\"text-align: right;\">\n",
       "      <th></th>\n",
       "      <th>datetime</th>\n",
       "      <th>open</th>\n",
       "      <th>high</th>\n",
       "      <th>low</th>\n",
       "      <th>close</th>\n",
       "      <th>volume</th>\n",
       "    </tr>\n",
       "  </thead>\n",
       "  <tbody>\n",
       "    <tr>\n",
       "      <th>10311</th>\n",
       "      <td>2022-04-06 00:08:00</td>\n",
       "      <td>46173.89</td>\n",
       "      <td>46220.21</td>\n",
       "      <td>45250.68</td>\n",
       "      <td>45250.68</td>\n",
       "      <td>22017.05436</td>\n",
       "    </tr>\n",
       "  </tbody>\n",
       "</table>\n",
       "</div>"
      ],
      "text/plain": [
       "                 datetime      open      high       low     close       volume\n",
       "10311 2022-04-06 00:08:00  46173.89  46220.21  45250.68  45250.68  22017.05436"
      ]
     },
     "execution_count": 12,
     "metadata": {},
     "output_type": "execute_result"
    }
   ],
   "source": [
    "btc_cumsum_subset = btc_cumsum.loc[(btc_cumsum['datetime'] >= date_start) & (btc_cumsum['datetime'] <= date_end)]\n",
    "btc_cumsum_subset.head(1)"
   ]
  },
  {
   "cell_type": "code",
   "execution_count": 13,
   "metadata": {},
   "outputs": [
    {
     "data": {
      "text/html": [
       "<div>\n",
       "<style scoped>\n",
       "    .dataframe tbody tr th:only-of-type {\n",
       "        vertical-align: middle;\n",
       "    }\n",
       "\n",
       "    .dataframe tbody tr th {\n",
       "        vertical-align: top;\n",
       "    }\n",
       "\n",
       "    .dataframe thead th {\n",
       "        text-align: right;\n",
       "    }\n",
       "</style>\n",
       "<table border=\"1\" class=\"dataframe\">\n",
       "  <thead>\n",
       "    <tr style=\"text-align: right;\">\n",
       "      <th></th>\n",
       "      <th>datetime</th>\n",
       "      <th>open</th>\n",
       "      <th>high</th>\n",
       "      <th>low</th>\n",
       "      <th>close</th>\n",
       "      <th>volume</th>\n",
       "    </tr>\n",
       "  </thead>\n",
       "  <tbody>\n",
       "    <tr>\n",
       "      <th>37344</th>\n",
       "      <td>2022-04-06</td>\n",
       "      <td>45497.54</td>\n",
       "      <td>45506.67</td>\n",
       "      <td>44412.0</td>\n",
       "      <td>45005.88</td>\n",
       "      <td>6445.51922</td>\n",
       "    </tr>\n",
       "  </tbody>\n",
       "</table>\n",
       "</div>"
      ],
      "text/plain": [
       "        datetime      open      high      low     close      volume\n",
       "37344 2022-04-06  45497.54  45506.67  44412.0  45005.88  6445.51922"
      ]
     },
     "execution_count": 13,
     "metadata": {},
     "output_type": "execute_result"
    }
   ],
   "source": [
    "btc_60_min_subset = btc_60_min.loc[(btc_60_min['datetime'] >= date_start) & (btc_60_min['datetime'] <= date_end)]\n",
    "btc_60_min_subset.head(1)"
   ]
  },
  {
   "cell_type": "code",
   "execution_count": 14,
   "metadata": {},
   "outputs": [
    {
     "data": {
      "text/html": [
       "<div>\n",
       "<style scoped>\n",
       "    .dataframe tbody tr th:only-of-type {\n",
       "        vertical-align: middle;\n",
       "    }\n",
       "\n",
       "    .dataframe tbody tr th {\n",
       "        vertical-align: top;\n",
       "    }\n",
       "\n",
       "    .dataframe thead th {\n",
       "        text-align: right;\n",
       "    }\n",
       "</style>\n",
       "<table border=\"1\" class=\"dataframe\">\n",
       "  <thead>\n",
       "    <tr style=\"text-align: right;\">\n",
       "      <th></th>\n",
       "      <th>datetime</th>\n",
       "      <th>open</th>\n",
       "      <th>high</th>\n",
       "      <th>low</th>\n",
       "      <th>close</th>\n",
       "      <th>volume</th>\n",
       "    </tr>\n",
       "  </thead>\n",
       "  <tbody>\n",
       "    <tr>\n",
       "      <th>0</th>\n",
       "      <td>2018-01-01</td>\n",
       "      <td>13715.65</td>\n",
       "      <td>13818.55</td>\n",
       "      <td>13001.13</td>\n",
       "      <td>13220.56</td>\n",
       "      <td>4298.175574</td>\n",
       "    </tr>\n",
       "  </tbody>\n",
       "</table>\n",
       "</div>"
      ],
      "text/plain": [
       "    datetime      open      high       low     close       volume\n",
       "0 2018-01-01  13715.65  13818.55  13001.13  13220.56  4298.175574"
      ]
     },
     "execution_count": 14,
     "metadata": {},
     "output_type": "execute_result"
    }
   ],
   "source": [
    "btc_720_min_subset = btc_720_min.loc[(btc_720_min['datetime'] >= date_start) & (btc_720_min['datetime'] <= date_end)]\n",
    "btc_720_min.head(1)"
   ]
  },
  {
   "cell_type": "code",
   "execution_count": 15,
   "metadata": {},
   "outputs": [
    {
     "data": {
      "text/html": [
       "<div>\n",
       "<style scoped>\n",
       "    .dataframe tbody tr th:only-of-type {\n",
       "        vertical-align: middle;\n",
       "    }\n",
       "\n",
       "    .dataframe tbody tr th {\n",
       "        vertical-align: top;\n",
       "    }\n",
       "\n",
       "    .dataframe thead th {\n",
       "        text-align: right;\n",
       "    }\n",
       "</style>\n",
       "<table border=\"1\" class=\"dataframe\">\n",
       "  <thead>\n",
       "    <tr style=\"text-align: right;\">\n",
       "      <th></th>\n",
       "      <th>datetime</th>\n",
       "      <th>open</th>\n",
       "      <th>high</th>\n",
       "      <th>low</th>\n",
       "      <th>close</th>\n",
       "      <th>volume</th>\n",
       "    </tr>\n",
       "  </thead>\n",
       "  <tbody>\n",
       "    <tr>\n",
       "      <th>5850</th>\n",
       "      <td>2022-04-06 00:20:00</td>\n",
       "      <td>45616.87</td>\n",
       "      <td>46191.0</td>\n",
       "      <td>44470.0</td>\n",
       "      <td>44470.0</td>\n",
       "      <td>17292.63003</td>\n",
       "    </tr>\n",
       "  </tbody>\n",
       "</table>\n",
       "</div>"
      ],
      "text/plain": [
       "                datetime      open     high      low    close       volume\n",
       "5850 2022-04-06 00:20:00  45616.87  46191.0  44470.0  44470.0  17292.63003"
      ]
     },
     "execution_count": 15,
     "metadata": {},
     "output_type": "execute_result"
    }
   ],
   "source": [
    "btc_range_subset = btc_range.loc[(btc_range['datetime'] >= date_start) & (btc_range['datetime'] <= date_end)]\n",
    "btc_range_subset.head(1)"
   ]
  },
  {
   "cell_type": "code",
   "execution_count": 16,
   "metadata": {},
   "outputs": [],
   "source": [
    "btc_1_min_subset = btc_1_min.loc[(btc_1_min['datetime'] >= date_start) & (btc_1_min['datetime'] <= date_end)]"
   ]
  },
  {
   "cell_type": "code",
   "execution_count": 17,
   "metadata": {},
   "outputs": [],
   "source": [
    "btc_val_subset = btc_val.loc[(btc_val['datetime'] >= date_start) & (btc_val['datetime'] <= date_end)]"
   ]
  },
  {
   "cell_type": "code",
   "execution_count": 18,
   "metadata": {},
   "outputs": [
    {
     "data": {
      "text/html": [
       "<div>\n",
       "<style scoped>\n",
       "    .dataframe tbody tr th:only-of-type {\n",
       "        vertical-align: middle;\n",
       "    }\n",
       "\n",
       "    .dataframe tbody tr th {\n",
       "        vertical-align: top;\n",
       "    }\n",
       "\n",
       "    .dataframe thead th {\n",
       "        text-align: right;\n",
       "    }\n",
       "</style>\n",
       "<table border=\"1\" class=\"dataframe\">\n",
       "  <thead>\n",
       "    <tr style=\"text-align: right;\">\n",
       "      <th></th>\n",
       "      <th>datetime</th>\n",
       "      <th>open</th>\n",
       "      <th>high</th>\n",
       "      <th>low</th>\n",
       "      <th>close</th>\n",
       "      <th>volume</th>\n",
       "    </tr>\n",
       "  </thead>\n",
       "  <tbody>\n",
       "    <tr>\n",
       "      <th>0</th>\n",
       "      <td>2018-01-01</td>\n",
       "      <td>13715.65</td>\n",
       "      <td>13715.65</td>\n",
       "      <td>13681.0</td>\n",
       "      <td>13707.92</td>\n",
       "      <td>2.844266</td>\n",
       "    </tr>\n",
       "  </tbody>\n",
       "</table>\n",
       "</div>"
      ],
      "text/plain": [
       "    datetime      open      high      low     close    volume\n",
       "0 2018-01-01  13715.65  13715.65  13681.0  13707.92  2.844266"
      ]
     },
     "execution_count": 18,
     "metadata": {},
     "output_type": "execute_result"
    }
   ],
   "source": [
    "btc_1_min.head(1)"
   ]
  },
  {
   "cell_type": "code",
   "execution_count": 32,
   "metadata": {},
   "outputs": [],
   "source": [
    "def plot_candlestick_with_volume(df, filename):\n",
    "\n",
    "    fig = make_subplots(rows=2,\n",
    "                    cols=1,\n",
    "                    shared_xaxes=True,\n",
    "                    vertical_spacing=0.1,\n",
    "                    # subplot_titles=('OHLC', 'Volume'),\n",
    "                    row_width=[0.3, 0.7])\n",
    "\n",
    "    # candlestick\n",
    "    fig.add_trace(\n",
    "        go.Candlestick(\n",
    "            x=df.datetime,\n",
    "            open=df.open,\n",
    "            high=df.high,\n",
    "            low=df.low,\n",
    "            close=df.close,\n",
    "            showlegend=False),\n",
    "        row=1,\n",
    "        col=1\n",
    "    )\n",
    "\n",
    "    # volume\n",
    "    fig.add_trace(\n",
    "        go.Bar(x=df.datetime,\n",
    "            y=df.volume,\n",
    "            showlegend=False),\n",
    "        row=2,\n",
    "        col=1\n",
    "    )\n",
    "    fig.update_traces(marker_color='darkblue', row=2, col=1)\n",
    "\n",
    "    fig.update_yaxes(showline=True,\n",
    "            mirror=True,\n",
    "            linewidth=1,\n",
    "            linecolor='gray',\n",
    "            showgrid=True,\n",
    "            gridcolor='lightgray')\n",
    "    fig.update_xaxes(\n",
    "                linewidth=1,\n",
    "                linecolor='lightgray',\n",
    "                mirror=True,\n",
    "                showgrid=True,\n",
    "            gridcolor='lightgray')\n",
    "\n",
    "    fig.update_yaxes(title_text=\"Price (USD)\", row=1, col=1)\n",
    "    fig.update_yaxes(title_text=\"Volume\", row=2, col=1)\n",
    "\n",
    "    fig.update_layout(# title=\"BTCUSDT: 60-minute OHLCV\",\n",
    "                    paper_bgcolor='white',\n",
    "                    plot_bgcolor='white',\n",
    "                    width=900,\n",
    "                    height=600)\n",
    "\n",
    "\n",
    "    # hide the slide bar\n",
    "    fig.update(layout_xaxis_rangeslider_visible=False)\n",
    "    pio.write_image(fig,  filename + '.png',scale=3, width=1600, height=800)\n",
    "    fig.show()"
   ]
  },
  {
   "cell_type": "code",
   "execution_count": 33,
   "metadata": {},
   "outputs": [
    {
     "data": {
      "application/vnd.plotly.v1+json": {
       "config": {
        "plotlyServerURL": "https://plot.ly"
       },
       "data": [
        {
         "close": [
          44819.19,
          43170.47,
          43766.74,
          43444.19,
          43298.79,
          42252.01,
          42445.1,
          42753.97,
          42680.36,
          42158.85,
          41067.63,
          39530.45,
          40378,
          40074.94,
          39722.64,
          41147.79,
          40919.99,
          39942.38,
          40220,
          40551.9,
          40416.95,
          40378.71,
          40464.77,
          39678.12,
          38998.54,
          40801.13,
          40687.3,
          41493.18,
          42090
         ],
         "high": [
          45507.14,
          44999.99,
          43834.52,
          43900.99,
          43970.62,
          43961.99,
          42640,
          42800,
          42896.64,
          43410.3,
          42414.71,
          41246.61,
          40464,
          40699,
          40275,
          41561.31,
          41500,
          41300,
          40449.96,
          40870.36,
          40709.35,
          40699.55,
          40529.79,
          40595.67,
          39896.98,
          41116.73,
          41263.43,
          41760,
          42199
         ],
         "low": [
          44412,
          43121,
          42727.35,
          43024.86,
          43260.76,
          42107.14,
          42125.48,
          42158.67,
          42433.49,
          41868,
          40968.11,
          39200,
          39290,
          39254.63,
          39588.54,
          39622.87,
          40851.5,
          39551.94,
          39766.4,
          39900,
          40277,
          39991.55,
          40122.05,
          39546.17,
          38536.51,
          38998.54,
          40571,
          40662.26,
          41229.96
         ],
         "open": [
          45497.54,
          44819.19,
          43170.47,
          43766.75,
          43444.2,
          43298.79,
          42252.02,
          42445.09,
          42753.96,
          42680.35,
          42158.85,
          41067.64,
          39530.45,
          40378,
          40074.95,
          39722.63,
          41147.78,
          40919.99,
          39942.37,
          40220,
          40551.9,
          40416.94,
          40378.7,
          40464.77,
          39678.11,
          38998.54,
          40801.13,
          40687.3,
          41493.19
         ],
         "showlegend": false,
         "type": "candlestick",
         "x": [
          "2022-04-06T00:00:00",
          "2022-04-06T12:00:00",
          "2022-04-07T00:00:00",
          "2022-04-07T12:00:00",
          "2022-04-08T00:00:00",
          "2022-04-08T12:00:00",
          "2022-04-09T00:00:00",
          "2022-04-09T12:00:00",
          "2022-04-10T00:00:00",
          "2022-04-10T12:00:00",
          "2022-04-11T00:00:00",
          "2022-04-11T12:00:00",
          "2022-04-12T00:00:00",
          "2022-04-12T12:00:00",
          "2022-04-13T00:00:00",
          "2022-04-13T12:00:00",
          "2022-04-14T00:00:00",
          "2022-04-14T12:00:00",
          "2022-04-15T00:00:00",
          "2022-04-15T12:00:00",
          "2022-04-16T00:00:00",
          "2022-04-16T12:00:00",
          "2022-04-17T00:00:00",
          "2022-04-17T12:00:00",
          "2022-04-18T00:00:00",
          "2022-04-18T12:00:00",
          "2022-04-19T00:00:00",
          "2022-04-19T12:00:00",
          "2022-04-20T00:00:00"
         ],
         "xaxis": "x",
         "yaxis": "y"
        },
        {
         "marker": {
          "color": "darkblue"
         },
         "showlegend": false,
         "type": "bar",
         "x": [
          "2022-04-06T00:00:00",
          "2022-04-06T12:00:00",
          "2022-04-07T00:00:00",
          "2022-04-07T12:00:00",
          "2022-04-08T00:00:00",
          "2022-04-08T12:00:00",
          "2022-04-09T00:00:00",
          "2022-04-09T12:00:00",
          "2022-04-10T00:00:00",
          "2022-04-10T12:00:00",
          "2022-04-11T00:00:00",
          "2022-04-11T12:00:00",
          "2022-04-12T00:00:00",
          "2022-04-12T12:00:00",
          "2022-04-13T00:00:00",
          "2022-04-13T12:00:00",
          "2022-04-14T00:00:00",
          "2022-04-14T12:00:00",
          "2022-04-15T00:00:00",
          "2022-04-15T12:00:00",
          "2022-04-16T00:00:00",
          "2022-04-16T12:00:00",
          "2022-04-17T00:00:00",
          "2022-04-17T12:00:00",
          "2022-04-18T00:00:00",
          "2022-04-18T12:00:00",
          "2022-04-19T00:00:00",
          "2022-04-19T12:00:00",
          "2022-04-20T00:00:00"
         ],
         "xaxis": "x2",
         "y": [
          21664.14134,
          39185.18802,
          18928.83641,
          18467.70515,
          13594.6535,
          28780.38853,
          9055.50852,
          8836.15195,
          6290.36292,
          16480.73111,
          26295.49578,
          37264.95143,
          24897.18662,
          32853.83116,
          13517.59808,
          27824.67446,
          13732.05945,
          23074.95456,
          12210.63102,
          11815.72637,
          6859.74463,
          8945.70255,
          5347.77689,
          14640.7157,
          20624.30923,
          33619.18652,
          13272.15716,
          22516.70127,
          17503.23987
         ],
         "yaxis": "y2"
        }
       ],
       "layout": {
        "height": 600,
        "paper_bgcolor": "white",
        "plot_bgcolor": "white",
        "template": {
         "data": {
          "bar": [
           {
            "error_x": {
             "color": "#2a3f5f"
            },
            "error_y": {
             "color": "#2a3f5f"
            },
            "marker": {
             "line": {
              "color": "#E5ECF6",
              "width": 0.5
             },
             "pattern": {
              "fillmode": "overlay",
              "size": 10,
              "solidity": 0.2
             }
            },
            "type": "bar"
           }
          ],
          "barpolar": [
           {
            "marker": {
             "line": {
              "color": "#E5ECF6",
              "width": 0.5
             },
             "pattern": {
              "fillmode": "overlay",
              "size": 10,
              "solidity": 0.2
             }
            },
            "type": "barpolar"
           }
          ],
          "carpet": [
           {
            "aaxis": {
             "endlinecolor": "#2a3f5f",
             "gridcolor": "white",
             "linecolor": "white",
             "minorgridcolor": "white",
             "startlinecolor": "#2a3f5f"
            },
            "baxis": {
             "endlinecolor": "#2a3f5f",
             "gridcolor": "white",
             "linecolor": "white",
             "minorgridcolor": "white",
             "startlinecolor": "#2a3f5f"
            },
            "type": "carpet"
           }
          ],
          "choropleth": [
           {
            "colorbar": {
             "outlinewidth": 0,
             "ticks": ""
            },
            "type": "choropleth"
           }
          ],
          "contour": [
           {
            "colorbar": {
             "outlinewidth": 0,
             "ticks": ""
            },
            "colorscale": [
             [
              0,
              "#0d0887"
             ],
             [
              0.1111111111111111,
              "#46039f"
             ],
             [
              0.2222222222222222,
              "#7201a8"
             ],
             [
              0.3333333333333333,
              "#9c179e"
             ],
             [
              0.4444444444444444,
              "#bd3786"
             ],
             [
              0.5555555555555556,
              "#d8576b"
             ],
             [
              0.6666666666666666,
              "#ed7953"
             ],
             [
              0.7777777777777778,
              "#fb9f3a"
             ],
             [
              0.8888888888888888,
              "#fdca26"
             ],
             [
              1,
              "#f0f921"
             ]
            ],
            "type": "contour"
           }
          ],
          "contourcarpet": [
           {
            "colorbar": {
             "outlinewidth": 0,
             "ticks": ""
            },
            "type": "contourcarpet"
           }
          ],
          "heatmap": [
           {
            "colorbar": {
             "outlinewidth": 0,
             "ticks": ""
            },
            "colorscale": [
             [
              0,
              "#0d0887"
             ],
             [
              0.1111111111111111,
              "#46039f"
             ],
             [
              0.2222222222222222,
              "#7201a8"
             ],
             [
              0.3333333333333333,
              "#9c179e"
             ],
             [
              0.4444444444444444,
              "#bd3786"
             ],
             [
              0.5555555555555556,
              "#d8576b"
             ],
             [
              0.6666666666666666,
              "#ed7953"
             ],
             [
              0.7777777777777778,
              "#fb9f3a"
             ],
             [
              0.8888888888888888,
              "#fdca26"
             ],
             [
              1,
              "#f0f921"
             ]
            ],
            "type": "heatmap"
           }
          ],
          "heatmapgl": [
           {
            "colorbar": {
             "outlinewidth": 0,
             "ticks": ""
            },
            "colorscale": [
             [
              0,
              "#0d0887"
             ],
             [
              0.1111111111111111,
              "#46039f"
             ],
             [
              0.2222222222222222,
              "#7201a8"
             ],
             [
              0.3333333333333333,
              "#9c179e"
             ],
             [
              0.4444444444444444,
              "#bd3786"
             ],
             [
              0.5555555555555556,
              "#d8576b"
             ],
             [
              0.6666666666666666,
              "#ed7953"
             ],
             [
              0.7777777777777778,
              "#fb9f3a"
             ],
             [
              0.8888888888888888,
              "#fdca26"
             ],
             [
              1,
              "#f0f921"
             ]
            ],
            "type": "heatmapgl"
           }
          ],
          "histogram": [
           {
            "marker": {
             "pattern": {
              "fillmode": "overlay",
              "size": 10,
              "solidity": 0.2
             }
            },
            "type": "histogram"
           }
          ],
          "histogram2d": [
           {
            "colorbar": {
             "outlinewidth": 0,
             "ticks": ""
            },
            "colorscale": [
             [
              0,
              "#0d0887"
             ],
             [
              0.1111111111111111,
              "#46039f"
             ],
             [
              0.2222222222222222,
              "#7201a8"
             ],
             [
              0.3333333333333333,
              "#9c179e"
             ],
             [
              0.4444444444444444,
              "#bd3786"
             ],
             [
              0.5555555555555556,
              "#d8576b"
             ],
             [
              0.6666666666666666,
              "#ed7953"
             ],
             [
              0.7777777777777778,
              "#fb9f3a"
             ],
             [
              0.8888888888888888,
              "#fdca26"
             ],
             [
              1,
              "#f0f921"
             ]
            ],
            "type": "histogram2d"
           }
          ],
          "histogram2dcontour": [
           {
            "colorbar": {
             "outlinewidth": 0,
             "ticks": ""
            },
            "colorscale": [
             [
              0,
              "#0d0887"
             ],
             [
              0.1111111111111111,
              "#46039f"
             ],
             [
              0.2222222222222222,
              "#7201a8"
             ],
             [
              0.3333333333333333,
              "#9c179e"
             ],
             [
              0.4444444444444444,
              "#bd3786"
             ],
             [
              0.5555555555555556,
              "#d8576b"
             ],
             [
              0.6666666666666666,
              "#ed7953"
             ],
             [
              0.7777777777777778,
              "#fb9f3a"
             ],
             [
              0.8888888888888888,
              "#fdca26"
             ],
             [
              1,
              "#f0f921"
             ]
            ],
            "type": "histogram2dcontour"
           }
          ],
          "mesh3d": [
           {
            "colorbar": {
             "outlinewidth": 0,
             "ticks": ""
            },
            "type": "mesh3d"
           }
          ],
          "parcoords": [
           {
            "line": {
             "colorbar": {
              "outlinewidth": 0,
              "ticks": ""
             }
            },
            "type": "parcoords"
           }
          ],
          "pie": [
           {
            "automargin": true,
            "type": "pie"
           }
          ],
          "scatter": [
           {
            "fillpattern": {
             "fillmode": "overlay",
             "size": 10,
             "solidity": 0.2
            },
            "type": "scatter"
           }
          ],
          "scatter3d": [
           {
            "line": {
             "colorbar": {
              "outlinewidth": 0,
              "ticks": ""
             }
            },
            "marker": {
             "colorbar": {
              "outlinewidth": 0,
              "ticks": ""
             }
            },
            "type": "scatter3d"
           }
          ],
          "scattercarpet": [
           {
            "marker": {
             "colorbar": {
              "outlinewidth": 0,
              "ticks": ""
             }
            },
            "type": "scattercarpet"
           }
          ],
          "scattergeo": [
           {
            "marker": {
             "colorbar": {
              "outlinewidth": 0,
              "ticks": ""
             }
            },
            "type": "scattergeo"
           }
          ],
          "scattergl": [
           {
            "marker": {
             "colorbar": {
              "outlinewidth": 0,
              "ticks": ""
             }
            },
            "type": "scattergl"
           }
          ],
          "scattermapbox": [
           {
            "marker": {
             "colorbar": {
              "outlinewidth": 0,
              "ticks": ""
             }
            },
            "type": "scattermapbox"
           }
          ],
          "scatterpolar": [
           {
            "marker": {
             "colorbar": {
              "outlinewidth": 0,
              "ticks": ""
             }
            },
            "type": "scatterpolar"
           }
          ],
          "scatterpolargl": [
           {
            "marker": {
             "colorbar": {
              "outlinewidth": 0,
              "ticks": ""
             }
            },
            "type": "scatterpolargl"
           }
          ],
          "scatterternary": [
           {
            "marker": {
             "colorbar": {
              "outlinewidth": 0,
              "ticks": ""
             }
            },
            "type": "scatterternary"
           }
          ],
          "surface": [
           {
            "colorbar": {
             "outlinewidth": 0,
             "ticks": ""
            },
            "colorscale": [
             [
              0,
              "#0d0887"
             ],
             [
              0.1111111111111111,
              "#46039f"
             ],
             [
              0.2222222222222222,
              "#7201a8"
             ],
             [
              0.3333333333333333,
              "#9c179e"
             ],
             [
              0.4444444444444444,
              "#bd3786"
             ],
             [
              0.5555555555555556,
              "#d8576b"
             ],
             [
              0.6666666666666666,
              "#ed7953"
             ],
             [
              0.7777777777777778,
              "#fb9f3a"
             ],
             [
              0.8888888888888888,
              "#fdca26"
             ],
             [
              1,
              "#f0f921"
             ]
            ],
            "type": "surface"
           }
          ],
          "table": [
           {
            "cells": {
             "fill": {
              "color": "#EBF0F8"
             },
             "line": {
              "color": "white"
             }
            },
            "header": {
             "fill": {
              "color": "#C8D4E3"
             },
             "line": {
              "color": "white"
             }
            },
            "type": "table"
           }
          ]
         },
         "layout": {
          "annotationdefaults": {
           "arrowcolor": "#2a3f5f",
           "arrowhead": 0,
           "arrowwidth": 1
          },
          "autotypenumbers": "strict",
          "coloraxis": {
           "colorbar": {
            "outlinewidth": 0,
            "ticks": ""
           }
          },
          "colorscale": {
           "diverging": [
            [
             0,
             "#8e0152"
            ],
            [
             0.1,
             "#c51b7d"
            ],
            [
             0.2,
             "#de77ae"
            ],
            [
             0.3,
             "#f1b6da"
            ],
            [
             0.4,
             "#fde0ef"
            ],
            [
             0.5,
             "#f7f7f7"
            ],
            [
             0.6,
             "#e6f5d0"
            ],
            [
             0.7,
             "#b8e186"
            ],
            [
             0.8,
             "#7fbc41"
            ],
            [
             0.9,
             "#4d9221"
            ],
            [
             1,
             "#276419"
            ]
           ],
           "sequential": [
            [
             0,
             "#0d0887"
            ],
            [
             0.1111111111111111,
             "#46039f"
            ],
            [
             0.2222222222222222,
             "#7201a8"
            ],
            [
             0.3333333333333333,
             "#9c179e"
            ],
            [
             0.4444444444444444,
             "#bd3786"
            ],
            [
             0.5555555555555556,
             "#d8576b"
            ],
            [
             0.6666666666666666,
             "#ed7953"
            ],
            [
             0.7777777777777778,
             "#fb9f3a"
            ],
            [
             0.8888888888888888,
             "#fdca26"
            ],
            [
             1,
             "#f0f921"
            ]
           ],
           "sequentialminus": [
            [
             0,
             "#0d0887"
            ],
            [
             0.1111111111111111,
             "#46039f"
            ],
            [
             0.2222222222222222,
             "#7201a8"
            ],
            [
             0.3333333333333333,
             "#9c179e"
            ],
            [
             0.4444444444444444,
             "#bd3786"
            ],
            [
             0.5555555555555556,
             "#d8576b"
            ],
            [
             0.6666666666666666,
             "#ed7953"
            ],
            [
             0.7777777777777778,
             "#fb9f3a"
            ],
            [
             0.8888888888888888,
             "#fdca26"
            ],
            [
             1,
             "#f0f921"
            ]
           ]
          },
          "colorway": [
           "#636efa",
           "#EF553B",
           "#00cc96",
           "#ab63fa",
           "#FFA15A",
           "#19d3f3",
           "#FF6692",
           "#B6E880",
           "#FF97FF",
           "#FECB52"
          ],
          "font": {
           "color": "#2a3f5f"
          },
          "geo": {
           "bgcolor": "white",
           "lakecolor": "white",
           "landcolor": "#E5ECF6",
           "showlakes": true,
           "showland": true,
           "subunitcolor": "white"
          },
          "hoverlabel": {
           "align": "left"
          },
          "hovermode": "closest",
          "mapbox": {
           "style": "light"
          },
          "paper_bgcolor": "white",
          "plot_bgcolor": "#E5ECF6",
          "polar": {
           "angularaxis": {
            "gridcolor": "white",
            "linecolor": "white",
            "ticks": ""
           },
           "bgcolor": "#E5ECF6",
           "radialaxis": {
            "gridcolor": "white",
            "linecolor": "white",
            "ticks": ""
           }
          },
          "scene": {
           "xaxis": {
            "backgroundcolor": "#E5ECF6",
            "gridcolor": "white",
            "gridwidth": 2,
            "linecolor": "white",
            "showbackground": true,
            "ticks": "",
            "zerolinecolor": "white"
           },
           "yaxis": {
            "backgroundcolor": "#E5ECF6",
            "gridcolor": "white",
            "gridwidth": 2,
            "linecolor": "white",
            "showbackground": true,
            "ticks": "",
            "zerolinecolor": "white"
           },
           "zaxis": {
            "backgroundcolor": "#E5ECF6",
            "gridcolor": "white",
            "gridwidth": 2,
            "linecolor": "white",
            "showbackground": true,
            "ticks": "",
            "zerolinecolor": "white"
           }
          },
          "shapedefaults": {
           "line": {
            "color": "#2a3f5f"
           }
          },
          "ternary": {
           "aaxis": {
            "gridcolor": "white",
            "linecolor": "white",
            "ticks": ""
           },
           "baxis": {
            "gridcolor": "white",
            "linecolor": "white",
            "ticks": ""
           },
           "bgcolor": "#E5ECF6",
           "caxis": {
            "gridcolor": "white",
            "linecolor": "white",
            "ticks": ""
           }
          },
          "title": {
           "x": 0.05
          },
          "xaxis": {
           "automargin": true,
           "gridcolor": "white",
           "linecolor": "white",
           "ticks": "",
           "title": {
            "standoff": 15
           },
           "zerolinecolor": "white",
           "zerolinewidth": 2
          },
          "yaxis": {
           "automargin": true,
           "gridcolor": "white",
           "linecolor": "white",
           "ticks": "",
           "title": {
            "standoff": 15
           },
           "zerolinecolor": "white",
           "zerolinewidth": 2
          }
         }
        },
        "width": 900,
        "xaxis": {
         "anchor": "y",
         "domain": [
          0,
          1
         ],
         "gridcolor": "lightgray",
         "linecolor": "lightgray",
         "linewidth": 1,
         "matches": "x2",
         "mirror": true,
         "rangeslider": {
          "visible": false
         },
         "showgrid": true,
         "showticklabels": false
        },
        "xaxis2": {
         "anchor": "y2",
         "domain": [
          0,
          1
         ],
         "gridcolor": "lightgray",
         "linecolor": "lightgray",
         "linewidth": 1,
         "mirror": true,
         "showgrid": true
        },
        "yaxis": {
         "anchor": "x",
         "domain": [
          0.37,
          1
         ],
         "gridcolor": "lightgray",
         "linecolor": "gray",
         "linewidth": 1,
         "mirror": true,
         "showgrid": true,
         "showline": true,
         "title": {
          "text": "Price (USD)"
         }
        },
        "yaxis2": {
         "anchor": "x2",
         "domain": [
          0,
          0.27
         ],
         "gridcolor": "lightgray",
         "linecolor": "gray",
         "linewidth": 1,
         "mirror": true,
         "showgrid": true,
         "showline": true,
         "title": {
          "text": "Volume"
         }
        }
       }
      }
     },
     "metadata": {},
     "output_type": "display_data"
    }
   ],
   "source": [
    "plot_candlestick_with_volume(btc_720_min_subset, 'btc_720min')"
   ]
  },
  {
   "cell_type": "code",
   "execution_count": 56,
   "metadata": {},
   "outputs": [
    {
     "data": {
      "application/vnd.plotly.v1+json": {
       "config": {
        "plotlyServerURL": "https://plot.ly"
       },
       "data": [
        {
         "close": [
          45005.88,
          45188.86,
          45220.87,
          45215.88,
          45335.34,
          45375,
          45464.26,
          45276.04,
          45366.85,
          45330.2,
          45072.53,
          44819.19,
          44751,
          44165.9,
          44258.99,
          44168.35,
          43781.3,
          43815.28,
          43837.63,
          43754.57,
          43877.45,
          43845.82,
          43511.33,
          43170.47,
          42894.3,
          43374.97,
          43350.91,
          43294.04,
          43395.57,
          43399.99,
          43380.94,
          43445.33,
          43521.92,
          43457.98,
          43409.73,
          43766.74,
          43554.97,
          43659.98,
          43420.69,
          43331.81,
          43494,
          43657.68,
          43702.95,
          43388.92,
          43567.36,
          43520.07,
          43629.73,
          43444.19,
          43327.46,
          43607.61,
          43615.63,
          43605.96,
          43543.02,
          43654.3,
          43573.45,
          43763.52,
          43700.33,
          43588.73,
          43558.51,
          43298.79,
          43151.75,
          42906.67,
          43750.14,
          43648.01,
          43433.71,
          43004.38,
          42957.57,
          42730.84,
          42798.74,
          42563.36,
          42300.99,
          42252.01,
          42435.02,
          42433.4,
          42180,
          42380,
          42406.82,
          42586.04,
          42440,
          42481.09,
          42463.51,
          42443.11,
          42480.56,
          42445.1,
          42506.35,
          42456.86,
          42460,
          42260.77,
          42445.64,
          42575.67,
          42467.82,
          42511.94,
          42423.18,
          42558.06,
          42543.42,
          42753.97,
          42632.32,
          42767.23,
          42833.03,
          42785.72,
          42740.86,
          42656.7,
          42785.32,
          42633.59,
          42642.54,
          42523.95,
          42530,
          42680.36,
          42590,
          42575.53,
          42698.38,
          42747.47,
          42784.43,
          43103.62,
          43107.6,
          43235.77,
          43101.23,
          42706,
          42111.94,
          42158.85,
          42303.26,
          42159.32,
          41929.34,
          42111.22,
          42259.43,
          42287.6,
          42250,
          42305.75,
          42200,
          41416.22,
          41595.99,
          41067.63,
          41145.46,
          41141.13,
          40803.87,
          40581.51,
          40764.79,
          40459.07,
          40509.98,
          39985.33,
          39838.26,
          39395.29,
          39766.39,
          39530.45,
          39544.31,
          39504.54,
          39490,
          39747.13,
          39921.19,
          40105.78,
          39935.23,
          40183.97,
          40182.03,
          40212.26,
          40149.99,
          40378,
          40618.37,
          40401.03,
          39990.39,
          40179.13,
          40097.23,
          40014.72,
          39667.85,
          39303.1,
          39519.99,
          39693.79,
          39827.96,
          40074.94,
          39936.17,
          39882.9,
          40059.14,
          40076.05,
          40134.51,
          40187.9,
          39958.45,
          40130,
          40162.32,
          40079.99,
          39808.11,
          39722.64,
          39700.01,
          40521.75,
          40642.1,
          41158.18,
          41005.58,
          41043.91,
          41363.01,
          41059.3,
          41241.16,
          41219.72,
          41279.05,
          41147.79,
          41186.23,
          41470.01,
          41419.99,
          41320,
          41290.81,
          41308.44,
          41195.39,
          41271.66,
          41172.72,
          41186.69,
          40946.47,
          40919.99,
          41149.98,
          40605.62,
          40435.04,
          39964.02,
          39951.1,
          39986.83,
          39659,
          39775.82,
          39909.99,
          39970,
          39843.71,
          39942.38,
          39859.99,
          39941,
          40017.2,
          40200.94,
          40103.26,
          40132.73,
          40040,
          40239.43,
          40153.97,
          40112.16,
          40268.24,
          40220,
          40149.99,
          40039.87,
          40450,
          40412.2,
          40383.09,
          40436.01,
          40388.11,
          40313.35,
          40396.69,
          40426,
          40467.48,
          40551.9,
          40560,
          40579.99,
          40522.34,
          40434.12,
          40539.47,
          40456.82,
          40419.52,
          40393.77,
          40369.99,
          40328.79,
          40413.91,
          40416.95,
          40449.11,
          40438.15,
          40493.32,
          40062.68,
          40203.33,
          40153,
          40183.9,
          40210,
          40280,
          40485.28,
          40405.86,
          40378.71,
          40374.13,
          40387.43,
          40166.93,
          40230.86,
          40282.58,
          40364.48,
          40323.16,
          40285.15,
          40390.16,
          40419.82,
          40412.88,
          40464.77,
          40421.72,
          40306.56,
          40359.19,
          40445.3,
          40200.01,
          40101.72,
          40119.99,
          40370.46,
          40263.19,
          40208.14,
          40000,
          39678.12,
          39732.92,
          39752.13,
          39796.91,
          39813.17,
          38819.06,
          38922.21,
          38980.39,
          38919.85,
          38874.87,
          38976.39,
          38923.98,
          38998.54,
          39400.02,
          39326.13,
          39340,
          39254.5,
          39464.46,
          40211.03,
          40646.01,
          40680.68,
          40664.26,
          40801.3,
          40923.74,
          40801.13,
          40880.79,
          40750.05,
          40611,
          40693.79,
          40864.27,
          40660.96,
          40711.6,
          40683.14,
          40725.91,
          40665.4,
          40795.62,
          40687.3,
          40975.11,
          41451.52,
          41565.91,
          41445.87,
          41342.26,
          41345.63,
          41400.55,
          41417.24,
          41293.15,
          41313.07,
          41395.39,
          41493.18,
          41295.37
         ],
         "high": [
          45506.67,
          45365.48,
          45368.29,
          45289.48,
          45375.38,
          45444.83,
          45482.5,
          45507.14,
          45399.28,
          45393.25,
          45453.94,
          45114.27,
          44999.99,
          44965.83,
          44496.97,
          44305.39,
          44274.8,
          43940.38,
          44298.61,
          43973.01,
          44041.1,
          43999,
          43865.27,
          43609.56,
          43559.09,
          43410.16,
          43430,
          43409.96,
          43494.48,
          43465.18,
          43497.63,
          43545.74,
          43553.14,
          43521.93,
          43484.27,
          43834.52,
          43900.99,
          43683.86,
          43781.97,
          43572.81,
          43497.28,
          43695.12,
          43819.99,
          43772.52,
          43600.06,
          43596.3,
          43635.24,
          43750,
          43527.36,
          43647.92,
          43694.15,
          43691.83,
          43659.83,
          43678.2,
          43672.53,
          43780.32,
          43970.62,
          43772.45,
          43621.85,
          43561.37,
          43417.96,
          43193.9,
          43846.15,
          43961.99,
          43714.97,
          43457.18,
          43320.76,
          43192.67,
          42870.7,
          42862.06,
          42660.03,
          42370.06,
          42455.66,
          42466.87,
          42448.16,
          42439.22,
          42560.99,
          42640,
          42601.84,
          42515,
          42509.04,
          42485.44,
          42485.44,
          42540,
          42522.44,
          42519.29,
          42500.2,
          42466.91,
          42522.57,
          42613.8,
          42631.69,
          42583.9,
          42638,
          42584.49,
          42634.88,
          42800,
          42776.62,
          42786.02,
          42896.64,
          42891.91,
          42791.24,
          42799,
          42793.21,
          42796.01,
          42716.75,
          42655.94,
          42563.62,
          42715.84,
          42850,
          42663.68,
          42748.08,
          42776.77,
          42799,
          43310.15,
          43258.83,
          43290,
          43410.3,
          43198.2,
          42740.88,
          42434.51,
          42394.71,
          42414.71,
          42225.77,
          42148.69,
          42283.45,
          42312.75,
          42340.09,
          42350.29,
          42350,
          42202.79,
          41646.55,
          41595.99,
          41246.61,
          41184,
          41220.9,
          40989.99,
          40832.55,
          40896.83,
          40520.45,
          40598.43,
          40269.6,
          39916.45,
          39978.62,
          39840.39,
          39852.95,
          39727.8,
          39550.48,
          39750.01,
          39950,
          40145,
          40186.36,
          40196.39,
          40344.6,
          40245.48,
          40273.24,
          40464,
          40699,
          40627.48,
          40436.31,
          40370,
          40376.8,
          40227.03,
          40056.52,
          39721.7,
          39597.94,
          39750.15,
          39927,
          40289.02,
          40189,
          39936.17,
          40189.27,
          40275,
          40142.6,
          40211.9,
          40228.41,
          40226.07,
          40200.03,
          40212.75,
          40142.11,
          39990,
          39935.3,
          40569.99,
          40957,
          41411,
          41347.69,
          41141.57,
          41374.2,
          41561.31,
          41319.86,
          41337,
          41404.58,
          41340,
          41272.19,
          41500,
          41473.24,
          41450,
          41413.11,
          41343.62,
          41332.7,
          41360,
          41324.93,
          41218.7,
          41225,
          41070.76,
          41186.9,
          41300,
          40659.82,
          40483.66,
          40069,
          40060.05,
          40028.94,
          39847.79,
          39910,
          40000,
          40017.26,
          39946.94,
          40180,
          39978.66,
          40075.35,
          40207.25,
          40266.47,
          40214.59,
          40164.19,
          40449.96,
          40396.59,
          40194.67,
          40399,
          40363.01,
          40258.26,
          40234.81,
          40870.36,
          40578.16,
          40449.23,
          40650.01,
          40472.25,
          40395.5,
          40403.26,
          40465,
          40504.67,
          40602,
          40573.68,
          40709.35,
          40595.02,
          40522.34,
          40563.46,
          40539.47,
          40456.82,
          40450,
          40447.71,
          40414.58,
          40484.7,
          40492.91,
          40472.01,
          40461.73,
          40505.52,
          40577.57,
          40236.01,
          40236.01,
          40197.42,
          40250,
          40394.39,
          40600,
          40699.55,
          40499,
          40413.14,
          40423,
          40387.44,
          40295,
          40340,
          40430,
          40391.71,
          40359.74,
          40424.01,
          40529.79,
          40461.64,
          40485,
          40490.88,
          40595.67,
          40421.15,
          40485.82,
          40476.07,
          40276,
          40160,
          40450,
          40459.52,
          40285.56,
          40340.22,
          40002.97,
          39784.98,
          39828.62,
          39838.45,
          39896.98,
          39847.24,
          38986.2,
          39070.05,
          39068.96,
          39064.97,
          38990.89,
          39138.49,
          39107.99,
          39529.77,
          39620.8,
          39569.92,
          39370,
          39622.15,
          40370.8,
          41116.73,
          40747.02,
          40909.08,
          41099,
          40949.93,
          40972.77,
          41263.43,
          40935.96,
          40764.92,
          40790.85,
          40883.99,
          40877.5,
          40805.69,
          40750,
          40854.82,
          40768.42,
          40815.87,
          41026.89,
          41104,
          41472.34,
          41687.14,
          41760,
          41546.63,
          41370.01,
          41503.76,
          41547.65,
          41417.25,
          41391.24,
          41460.52,
          41539.9,
          41541.23
         ],
         "low": [
          44412,
          44963.13,
          45150,
          45139.93,
          45119,
          45302,
          45251.43,
          45233.59,
          45177.48,
          45205.01,
          45008.02,
          44665.91,
          44670.01,
          44130.12,
          43769.17,
          43705.64,
          43566.01,
          43393.74,
          43177.11,
          43527.09,
          43725.34,
          43792.47,
          43484.71,
          43121,
          42727.35,
          42868.81,
          43120.14,
          43157,
          43210.47,
          43225,
          43300,
          43366.01,
          43421.31,
          43269.5,
          43328.99,
          43302.01,
          43551.74,
          43330.09,
          43352.98,
          43024.86,
          43266.68,
          43472.05,
          43514.01,
          43375.36,
          43376.23,
          43208,
          43466.64,
          43425.22,
          43305.57,
          43310,
          43566.38,
          43550,
          43491.46,
          43476.97,
          43484.28,
          43416.74,
          43650,
          43499.83,
          43500.1,
          43260.76,
          43079.05,
          42751.01,
          42888.8,
          43587.23,
          43395.9,
          42801.26,
          42414,
          42657.5,
          42532.96,
          42450.88,
          42241,
          42107.14,
          42160,
          42294.33,
          42160.63,
          42125.48,
          42341.79,
          42406.01,
          42399.72,
          42364.25,
          42372.54,
          42397.66,
          42322.72,
          42434.36,
          42397.39,
          42445.72,
          42361.01,
          42158.67,
          42183.6,
          42410,
          42454.62,
          42448.11,
          42423.18,
          42390,
          42501.31,
          42488.23,
          42591,
          42597.9,
          42731.1,
          42775.74,
          42706.35,
          42650,
          42645.5,
          42575.4,
          42564.2,
          42489.01,
          42433.49,
          42517.01,
          42525,
          42525.44,
          42541.5,
          42650.02,
          42659.64,
          42784.43,
          43080,
          43075,
          43101.19,
          42654.93,
          41868,
          41980.28,
          41755,
          42153.06,
          41800,
          41828.74,
          42084.56,
          42183.5,
          42153.8,
          42161.45,
          42079.56,
          41392.8,
          41215,
          40968.11,
          40916.01,
          40684.8,
          40716.37,
          40560,
          40485.12,
          40250,
          40238,
          39770.35,
          39500,
          39275.68,
          39200,
          39372.35,
          39357.64,
          39408.16,
          39290,
          39478.73,
          39624.71,
          39870.71,
          39834.98,
          39866.31,
          40108.31,
          40016.09,
          40094.66,
          40105,
          40196.48,
          40154.99,
          39800,
          39959.21,
          39922.98,
          39940.02,
          39632,
          39261.39,
          39254.63,
          39473.91,
          39555.51,
          39819,
          39892.43,
          39588.54,
          39706.19,
          40013.79,
          39931.51,
          40063.51,
          39858.34,
          39910.07,
          40005,
          40029.86,
          39728.59,
          39656.1,
          39648.78,
          39622.87,
          40365,
          40640,
          40938.14,
          40829,
          40990.62,
          41024.49,
          41000,
          41080.01,
          41151.71,
          41075.04,
          41064.35,
          41177.94,
          41347.58,
          41271.08,
          41230.56,
          41242.97,
          41161.12,
          41156.9,
          41165,
          40973.51,
          40941.69,
          40851.5,
          40873.66,
          40516.48,
          40310.41,
          39925.21,
          39772.58,
          39842,
          39626.06,
          39551.94,
          39662.46,
          39861.31,
          39806.25,
          39828.95,
          39766.4,
          39833.87,
          39909.06,
          40000,
          40062.61,
          40081.41,
          39967.72,
          39953.2,
          40100,
          40036.06,
          40087.47,
          40100,
          40106.54,
          40010.2,
          39900,
          40354.54,
          40203.68,
          40356.71,
          40360.14,
          40276,
          40281.35,
          40362.37,
          40341.12,
          40420,
          40468.25,
          40525.67,
          40499.7,
          40410.75,
          40417.29,
          40373.91,
          40367.5,
          40353.54,
          40344.92,
          40277,
          40310.05,
          40390.55,
          40341.83,
          40377,
          40400,
          39991.55,
          40005.78,
          40096.4,
          40106.98,
          40170,
          40185.45,
          40280,
          40392.5,
          40360.11,
          40300.84,
          40326.87,
          40122.05,
          40124.99,
          40226.55,
          40253.1,
          40311.66,
          40234.79,
          40280,
          40390.15,
          40377.77,
          40363.6,
          40366.98,
          40250.02,
          40200,
          40321.92,
          40125.89,
          40050,
          39833.31,
          40087.19,
          40232.62,
          40127,
          39932.66,
          39546.17,
          39580.05,
          39667.63,
          39721.24,
          39743.64,
          38673.18,
          38536.51,
          38883.88,
          38791.73,
          38851.57,
          38799,
          38920.62,
          38923.98,
          38998.54,
          39233.13,
          39302.15,
          39122.78,
          39000,
          39463.21,
          40211.03,
          40421.67,
          40632.51,
          40664.25,
          40710,
          40721.25,
          40792.45,
          40699.09,
          40601,
          40609.3,
          40658.15,
          40649.15,
          40660.96,
          40571,
          40666.9,
          40580,
          40636.74,
          40665.05,
          40662.26,
          40841.65,
          41380.5,
          41371.81,
          41236.55,
          41167.92,
          41312.31,
          41362.02,
          41212.94,
          41260,
          41265.86,
          41395.38,
          41250.26
         ],
         "open": [
          45497.54,
          45005.88,
          45188.87,
          45220.86,
          45215.88,
          45335.34,
          45374.99,
          45464.27,
          45276.04,
          45366.85,
          45330.19,
          45072.54,
          44819.19,
          44751,
          44165.9,
          44258.99,
          44168.36,
          43781.3,
          43815.28,
          43837.64,
          43754.56,
          43877.45,
          43845.81,
          43511.33,
          43170.47,
          42894.3,
          43374.97,
          43350.92,
          43294.04,
          43395.57,
          43399.99,
          43380.94,
          43445.34,
          43521.92,
          43457.98,
          43409.74,
          43766.75,
          43554.97,
          43659.98,
          43420.69,
          43331.82,
          43494,
          43657.68,
          43702.96,
          43388.93,
          43567.35,
          43520.07,
          43629.72,
          43444.2,
          43327.47,
          43607.61,
          43615.63,
          43605.95,
          43543.03,
          43654.3,
          43573.45,
          43763.53,
          43700.33,
          43588.72,
          43558.51,
          43298.79,
          43151.75,
          42906.66,
          43750.15,
          43648.01,
          43433.71,
          43004.37,
          42957.56,
          42730.84,
          42798.75,
          42563.36,
          42300.98,
          42252.02,
          42435.03,
          42433.4,
          42180,
          42380,
          42406.82,
          42586.04,
          42440.01,
          42481.08,
          42463.5,
          42443.11,
          42480.56,
          42445.09,
          42506.34,
          42456.86,
          42459.99,
          42253.02,
          42445.65,
          42575.67,
          42467.82,
          42511.95,
          42423.18,
          42558.06,
          42543.42,
          42753.96,
          42632.31,
          42767.22,
          42833.03,
          42785.72,
          42740.86,
          42656.7,
          42785.33,
          42633.59,
          42642.55,
          42523.94,
          42530,
          42680.35,
          42589.99,
          42575.54,
          42698.38,
          42747.48,
          42784.43,
          43103.61,
          43107.61,
          43235.77,
          43101.23,
          42706.71,
          42111.93,
          42158.85,
          42303.26,
          42159.32,
          41929.33,
          42111.21,
          42259.44,
          42287.61,
          42249.99,
          42305.74,
          42200,
          41416.22,
          41595.98,
          41067.64,
          41145.45,
          41141.13,
          40803.86,
          40581.52,
          40764.79,
          40459.07,
          40509.97,
          39985.34,
          39838.26,
          39395.29,
          39766.39,
          39530.45,
          39544.32,
          39504.54,
          39489.99,
          39747.14,
          39921.18,
          40105.78,
          39935.24,
          40183.97,
          40182.02,
          40212.25,
          40150,
          40378,
          40618.37,
          40401.03,
          39990.38,
          40179.12,
          40097.23,
          40014.71,
          39667.85,
          39303.1,
          39519.99,
          39693.8,
          39827.97,
          40074.95,
          39936.17,
          39882.9,
          40059.15,
          40076.05,
          40134.5,
          40187.89,
          39958.44,
          40129.99,
          40162.32,
          40080,
          39808.1,
          39722.63,
          39700.01,
          40521.75,
          40642.1,
          41158.18,
          41005.59,
          41043.91,
          41363.01,
          41059.31,
          41241.17,
          41219.73,
          41279.04,
          41147.78,
          41186.22,
          41470,
          41420,
          41320,
          41290.81,
          41308.45,
          41195.39,
          41271.66,
          41172.72,
          41186.7,
          40946.47,
          40919.99,
          41149.98,
          40605.63,
          40435.03,
          39964.01,
          39951.11,
          39986.84,
          39658.99,
          39775.81,
          39909.99,
          39969.99,
          39843.71,
          39942.37,
          39859.99,
          39941.01,
          40017.19,
          40200.95,
          40103.25,
          40132.74,
          40040,
          40239.43,
          40153.98,
          40112.17,
          40268.23,
          40220,
          40150,
          40039.87,
          40450,
          40412.21,
          40383.1,
          40436.01,
          40388.11,
          40313.35,
          40396.7,
          40425.99,
          40467.48,
          40551.9,
          40560,
          40579.99,
          40522.34,
          40434.11,
          40539.46,
          40456.82,
          40419.52,
          40393.77,
          40370,
          40328.8,
          40413.91,
          40416.94,
          40449.1,
          40438.16,
          40493.31,
          40062.67,
          40203.33,
          40152.99,
          40183.91,
          40210.01,
          40280,
          40485.28,
          40405.85,
          40378.7,
          40374.13,
          40387.44,
          40166.93,
          40230.87,
          40282.58,
          40364.47,
          40323.15,
          40285.15,
          40390.15,
          40419.82,
          40412.89,
          40464.77,
          40421.72,
          40306.53,
          40359.19,
          40445.3,
          40200,
          40101.72,
          40119.99,
          40370.46,
          40263.19,
          40208.15,
          39999.99,
          39678.11,
          39732.92,
          39752.13,
          39796.91,
          39813.17,
          38819.07,
          38922.21,
          38980.4,
          38919.85,
          38874.87,
          38976.39,
          38923.98,
          38998.54,
          39400.01,
          39326.13,
          39340,
          39254.5,
          39464.46,
          40211.03,
          40646.01,
          40680.68,
          40664.25,
          40801.29,
          40923.75,
          40801.13,
          40880.79,
          40750.05,
          40611.01,
          40693.79,
          40864.27,
          40660.96,
          40711.61,
          40683.13,
          40725.91,
          40665.4,
          40795.61,
          40687.3,
          40975.12,
          41451.52,
          41565.92,
          41445.88,
          41342.25,
          41345.63,
          41400.56,
          41417.23,
          41293.15,
          41313.08,
          41395.38,
          41493.19
         ],
         "showlegend": false,
         "type": "candlestick",
         "x": [
          "2022-04-06T00:00:00",
          "2022-04-06T01:00:00",
          "2022-04-06T02:00:00",
          "2022-04-06T03:00:00",
          "2022-04-06T04:00:00",
          "2022-04-06T05:00:00",
          "2022-04-06T06:00:00",
          "2022-04-06T07:00:00",
          "2022-04-06T08:00:00",
          "2022-04-06T09:00:00",
          "2022-04-06T10:00:00",
          "2022-04-06T11:00:00",
          "2022-04-06T12:00:00",
          "2022-04-06T13:00:00",
          "2022-04-06T14:00:00",
          "2022-04-06T15:00:00",
          "2022-04-06T16:00:00",
          "2022-04-06T17:00:00",
          "2022-04-06T18:00:00",
          "2022-04-06T19:00:00",
          "2022-04-06T20:00:00",
          "2022-04-06T21:00:00",
          "2022-04-06T22:00:00",
          "2022-04-06T23:00:00",
          "2022-04-07T00:00:00",
          "2022-04-07T01:00:00",
          "2022-04-07T02:00:00",
          "2022-04-07T03:00:00",
          "2022-04-07T04:00:00",
          "2022-04-07T05:00:00",
          "2022-04-07T06:00:00",
          "2022-04-07T07:00:00",
          "2022-04-07T08:00:00",
          "2022-04-07T09:00:00",
          "2022-04-07T10:00:00",
          "2022-04-07T11:00:00",
          "2022-04-07T12:00:00",
          "2022-04-07T13:00:00",
          "2022-04-07T14:00:00",
          "2022-04-07T15:00:00",
          "2022-04-07T16:00:00",
          "2022-04-07T17:00:00",
          "2022-04-07T18:00:00",
          "2022-04-07T19:00:00",
          "2022-04-07T20:00:00",
          "2022-04-07T21:00:00",
          "2022-04-07T22:00:00",
          "2022-04-07T23:00:00",
          "2022-04-08T00:00:00",
          "2022-04-08T01:00:00",
          "2022-04-08T02:00:00",
          "2022-04-08T03:00:00",
          "2022-04-08T04:00:00",
          "2022-04-08T05:00:00",
          "2022-04-08T06:00:00",
          "2022-04-08T07:00:00",
          "2022-04-08T08:00:00",
          "2022-04-08T09:00:00",
          "2022-04-08T10:00:00",
          "2022-04-08T11:00:00",
          "2022-04-08T12:00:00",
          "2022-04-08T13:00:00",
          "2022-04-08T14:00:00",
          "2022-04-08T15:00:00",
          "2022-04-08T16:00:00",
          "2022-04-08T17:00:00",
          "2022-04-08T18:00:00",
          "2022-04-08T19:00:00",
          "2022-04-08T20:00:00",
          "2022-04-08T21:00:00",
          "2022-04-08T22:00:00",
          "2022-04-08T23:00:00",
          "2022-04-09T00:00:00",
          "2022-04-09T01:00:00",
          "2022-04-09T02:00:00",
          "2022-04-09T03:00:00",
          "2022-04-09T04:00:00",
          "2022-04-09T05:00:00",
          "2022-04-09T06:00:00",
          "2022-04-09T07:00:00",
          "2022-04-09T08:00:00",
          "2022-04-09T09:00:00",
          "2022-04-09T10:00:00",
          "2022-04-09T11:00:00",
          "2022-04-09T12:00:00",
          "2022-04-09T13:00:00",
          "2022-04-09T14:00:00",
          "2022-04-09T15:00:00",
          "2022-04-09T16:00:00",
          "2022-04-09T17:00:00",
          "2022-04-09T18:00:00",
          "2022-04-09T19:00:00",
          "2022-04-09T20:00:00",
          "2022-04-09T21:00:00",
          "2022-04-09T22:00:00",
          "2022-04-09T23:00:00",
          "2022-04-10T00:00:00",
          "2022-04-10T01:00:00",
          "2022-04-10T02:00:00",
          "2022-04-10T03:00:00",
          "2022-04-10T04:00:00",
          "2022-04-10T05:00:00",
          "2022-04-10T06:00:00",
          "2022-04-10T07:00:00",
          "2022-04-10T08:00:00",
          "2022-04-10T09:00:00",
          "2022-04-10T10:00:00",
          "2022-04-10T11:00:00",
          "2022-04-10T12:00:00",
          "2022-04-10T13:00:00",
          "2022-04-10T14:00:00",
          "2022-04-10T15:00:00",
          "2022-04-10T16:00:00",
          "2022-04-10T17:00:00",
          "2022-04-10T18:00:00",
          "2022-04-10T19:00:00",
          "2022-04-10T20:00:00",
          "2022-04-10T21:00:00",
          "2022-04-10T22:00:00",
          "2022-04-10T23:00:00",
          "2022-04-11T00:00:00",
          "2022-04-11T01:00:00",
          "2022-04-11T02:00:00",
          "2022-04-11T03:00:00",
          "2022-04-11T04:00:00",
          "2022-04-11T05:00:00",
          "2022-04-11T06:00:00",
          "2022-04-11T07:00:00",
          "2022-04-11T08:00:00",
          "2022-04-11T09:00:00",
          "2022-04-11T10:00:00",
          "2022-04-11T11:00:00",
          "2022-04-11T12:00:00",
          "2022-04-11T13:00:00",
          "2022-04-11T14:00:00",
          "2022-04-11T15:00:00",
          "2022-04-11T16:00:00",
          "2022-04-11T17:00:00",
          "2022-04-11T18:00:00",
          "2022-04-11T19:00:00",
          "2022-04-11T20:00:00",
          "2022-04-11T21:00:00",
          "2022-04-11T22:00:00",
          "2022-04-11T23:00:00",
          "2022-04-12T00:00:00",
          "2022-04-12T01:00:00",
          "2022-04-12T02:00:00",
          "2022-04-12T03:00:00",
          "2022-04-12T04:00:00",
          "2022-04-12T05:00:00",
          "2022-04-12T06:00:00",
          "2022-04-12T07:00:00",
          "2022-04-12T08:00:00",
          "2022-04-12T09:00:00",
          "2022-04-12T10:00:00",
          "2022-04-12T11:00:00",
          "2022-04-12T12:00:00",
          "2022-04-12T13:00:00",
          "2022-04-12T14:00:00",
          "2022-04-12T15:00:00",
          "2022-04-12T16:00:00",
          "2022-04-12T17:00:00",
          "2022-04-12T18:00:00",
          "2022-04-12T19:00:00",
          "2022-04-12T20:00:00",
          "2022-04-12T21:00:00",
          "2022-04-12T22:00:00",
          "2022-04-12T23:00:00",
          "2022-04-13T00:00:00",
          "2022-04-13T01:00:00",
          "2022-04-13T02:00:00",
          "2022-04-13T03:00:00",
          "2022-04-13T04:00:00",
          "2022-04-13T05:00:00",
          "2022-04-13T06:00:00",
          "2022-04-13T07:00:00",
          "2022-04-13T08:00:00",
          "2022-04-13T09:00:00",
          "2022-04-13T10:00:00",
          "2022-04-13T11:00:00",
          "2022-04-13T12:00:00",
          "2022-04-13T13:00:00",
          "2022-04-13T14:00:00",
          "2022-04-13T15:00:00",
          "2022-04-13T16:00:00",
          "2022-04-13T17:00:00",
          "2022-04-13T18:00:00",
          "2022-04-13T19:00:00",
          "2022-04-13T20:00:00",
          "2022-04-13T21:00:00",
          "2022-04-13T22:00:00",
          "2022-04-13T23:00:00",
          "2022-04-14T00:00:00",
          "2022-04-14T01:00:00",
          "2022-04-14T02:00:00",
          "2022-04-14T03:00:00",
          "2022-04-14T04:00:00",
          "2022-04-14T05:00:00",
          "2022-04-14T06:00:00",
          "2022-04-14T07:00:00",
          "2022-04-14T08:00:00",
          "2022-04-14T09:00:00",
          "2022-04-14T10:00:00",
          "2022-04-14T11:00:00",
          "2022-04-14T12:00:00",
          "2022-04-14T13:00:00",
          "2022-04-14T14:00:00",
          "2022-04-14T15:00:00",
          "2022-04-14T16:00:00",
          "2022-04-14T17:00:00",
          "2022-04-14T18:00:00",
          "2022-04-14T19:00:00",
          "2022-04-14T20:00:00",
          "2022-04-14T21:00:00",
          "2022-04-14T22:00:00",
          "2022-04-14T23:00:00",
          "2022-04-15T00:00:00",
          "2022-04-15T01:00:00",
          "2022-04-15T02:00:00",
          "2022-04-15T03:00:00",
          "2022-04-15T04:00:00",
          "2022-04-15T05:00:00",
          "2022-04-15T06:00:00",
          "2022-04-15T07:00:00",
          "2022-04-15T08:00:00",
          "2022-04-15T09:00:00",
          "2022-04-15T10:00:00",
          "2022-04-15T11:00:00",
          "2022-04-15T12:00:00",
          "2022-04-15T13:00:00",
          "2022-04-15T14:00:00",
          "2022-04-15T15:00:00",
          "2022-04-15T16:00:00",
          "2022-04-15T17:00:00",
          "2022-04-15T18:00:00",
          "2022-04-15T19:00:00",
          "2022-04-15T20:00:00",
          "2022-04-15T21:00:00",
          "2022-04-15T22:00:00",
          "2022-04-15T23:00:00",
          "2022-04-16T00:00:00",
          "2022-04-16T01:00:00",
          "2022-04-16T02:00:00",
          "2022-04-16T03:00:00",
          "2022-04-16T04:00:00",
          "2022-04-16T05:00:00",
          "2022-04-16T06:00:00",
          "2022-04-16T07:00:00",
          "2022-04-16T08:00:00",
          "2022-04-16T09:00:00",
          "2022-04-16T10:00:00",
          "2022-04-16T11:00:00",
          "2022-04-16T12:00:00",
          "2022-04-16T13:00:00",
          "2022-04-16T14:00:00",
          "2022-04-16T15:00:00",
          "2022-04-16T16:00:00",
          "2022-04-16T17:00:00",
          "2022-04-16T18:00:00",
          "2022-04-16T19:00:00",
          "2022-04-16T20:00:00",
          "2022-04-16T21:00:00",
          "2022-04-16T22:00:00",
          "2022-04-16T23:00:00",
          "2022-04-17T00:00:00",
          "2022-04-17T01:00:00",
          "2022-04-17T02:00:00",
          "2022-04-17T03:00:00",
          "2022-04-17T04:00:00",
          "2022-04-17T05:00:00",
          "2022-04-17T06:00:00",
          "2022-04-17T07:00:00",
          "2022-04-17T08:00:00",
          "2022-04-17T09:00:00",
          "2022-04-17T10:00:00",
          "2022-04-17T11:00:00",
          "2022-04-17T12:00:00",
          "2022-04-17T13:00:00",
          "2022-04-17T14:00:00",
          "2022-04-17T15:00:00",
          "2022-04-17T16:00:00",
          "2022-04-17T17:00:00",
          "2022-04-17T18:00:00",
          "2022-04-17T19:00:00",
          "2022-04-17T20:00:00",
          "2022-04-17T21:00:00",
          "2022-04-17T22:00:00",
          "2022-04-17T23:00:00",
          "2022-04-18T00:00:00",
          "2022-04-18T01:00:00",
          "2022-04-18T02:00:00",
          "2022-04-18T03:00:00",
          "2022-04-18T04:00:00",
          "2022-04-18T05:00:00",
          "2022-04-18T06:00:00",
          "2022-04-18T07:00:00",
          "2022-04-18T08:00:00",
          "2022-04-18T09:00:00",
          "2022-04-18T10:00:00",
          "2022-04-18T11:00:00",
          "2022-04-18T12:00:00",
          "2022-04-18T13:00:00",
          "2022-04-18T14:00:00",
          "2022-04-18T15:00:00",
          "2022-04-18T16:00:00",
          "2022-04-18T17:00:00",
          "2022-04-18T18:00:00",
          "2022-04-18T19:00:00",
          "2022-04-18T20:00:00",
          "2022-04-18T21:00:00",
          "2022-04-18T22:00:00",
          "2022-04-18T23:00:00",
          "2022-04-19T00:00:00",
          "2022-04-19T01:00:00",
          "2022-04-19T02:00:00",
          "2022-04-19T03:00:00",
          "2022-04-19T04:00:00",
          "2022-04-19T05:00:00",
          "2022-04-19T06:00:00",
          "2022-04-19T07:00:00",
          "2022-04-19T08:00:00",
          "2022-04-19T09:00:00",
          "2022-04-19T10:00:00",
          "2022-04-19T11:00:00",
          "2022-04-19T12:00:00",
          "2022-04-19T13:00:00",
          "2022-04-19T14:00:00",
          "2022-04-19T15:00:00",
          "2022-04-19T16:00:00",
          "2022-04-19T17:00:00",
          "2022-04-19T18:00:00",
          "2022-04-19T19:00:00",
          "2022-04-19T20:00:00",
          "2022-04-19T21:00:00",
          "2022-04-19T22:00:00",
          "2022-04-19T23:00:00",
          "2022-04-20T00:00:00"
         ],
         "xaxis": "x",
         "yaxis": "y"
        },
        {
         "marker": {
          "color": "chocolate"
         },
         "showlegend": false,
         "type": "bar",
         "x": [
          "2022-04-06T00:00:00",
          "2022-04-06T01:00:00",
          "2022-04-06T02:00:00",
          "2022-04-06T03:00:00",
          "2022-04-06T04:00:00",
          "2022-04-06T05:00:00",
          "2022-04-06T06:00:00",
          "2022-04-06T07:00:00",
          "2022-04-06T08:00:00",
          "2022-04-06T09:00:00",
          "2022-04-06T10:00:00",
          "2022-04-06T11:00:00",
          "2022-04-06T12:00:00",
          "2022-04-06T13:00:00",
          "2022-04-06T14:00:00",
          "2022-04-06T15:00:00",
          "2022-04-06T16:00:00",
          "2022-04-06T17:00:00",
          "2022-04-06T18:00:00",
          "2022-04-06T19:00:00",
          "2022-04-06T20:00:00",
          "2022-04-06T21:00:00",
          "2022-04-06T22:00:00",
          "2022-04-06T23:00:00",
          "2022-04-07T00:00:00",
          "2022-04-07T01:00:00",
          "2022-04-07T02:00:00",
          "2022-04-07T03:00:00",
          "2022-04-07T04:00:00",
          "2022-04-07T05:00:00",
          "2022-04-07T06:00:00",
          "2022-04-07T07:00:00",
          "2022-04-07T08:00:00",
          "2022-04-07T09:00:00",
          "2022-04-07T10:00:00",
          "2022-04-07T11:00:00",
          "2022-04-07T12:00:00",
          "2022-04-07T13:00:00",
          "2022-04-07T14:00:00",
          "2022-04-07T15:00:00",
          "2022-04-07T16:00:00",
          "2022-04-07T17:00:00",
          "2022-04-07T18:00:00",
          "2022-04-07T19:00:00",
          "2022-04-07T20:00:00",
          "2022-04-07T21:00:00",
          "2022-04-07T22:00:00",
          "2022-04-07T23:00:00",
          "2022-04-08T00:00:00",
          "2022-04-08T01:00:00",
          "2022-04-08T02:00:00",
          "2022-04-08T03:00:00",
          "2022-04-08T04:00:00",
          "2022-04-08T05:00:00",
          "2022-04-08T06:00:00",
          "2022-04-08T07:00:00",
          "2022-04-08T08:00:00",
          "2022-04-08T09:00:00",
          "2022-04-08T10:00:00",
          "2022-04-08T11:00:00",
          "2022-04-08T12:00:00",
          "2022-04-08T13:00:00",
          "2022-04-08T14:00:00",
          "2022-04-08T15:00:00",
          "2022-04-08T16:00:00",
          "2022-04-08T17:00:00",
          "2022-04-08T18:00:00",
          "2022-04-08T19:00:00",
          "2022-04-08T20:00:00",
          "2022-04-08T21:00:00",
          "2022-04-08T22:00:00",
          "2022-04-08T23:00:00",
          "2022-04-09T00:00:00",
          "2022-04-09T01:00:00",
          "2022-04-09T02:00:00",
          "2022-04-09T03:00:00",
          "2022-04-09T04:00:00",
          "2022-04-09T05:00:00",
          "2022-04-09T06:00:00",
          "2022-04-09T07:00:00",
          "2022-04-09T08:00:00",
          "2022-04-09T09:00:00",
          "2022-04-09T10:00:00",
          "2022-04-09T11:00:00",
          "2022-04-09T12:00:00",
          "2022-04-09T13:00:00",
          "2022-04-09T14:00:00",
          "2022-04-09T15:00:00",
          "2022-04-09T16:00:00",
          "2022-04-09T17:00:00",
          "2022-04-09T18:00:00",
          "2022-04-09T19:00:00",
          "2022-04-09T20:00:00",
          "2022-04-09T21:00:00",
          "2022-04-09T22:00:00",
          "2022-04-09T23:00:00",
          "2022-04-10T00:00:00",
          "2022-04-10T01:00:00",
          "2022-04-10T02:00:00",
          "2022-04-10T03:00:00",
          "2022-04-10T04:00:00",
          "2022-04-10T05:00:00",
          "2022-04-10T06:00:00",
          "2022-04-10T07:00:00",
          "2022-04-10T08:00:00",
          "2022-04-10T09:00:00",
          "2022-04-10T10:00:00",
          "2022-04-10T11:00:00",
          "2022-04-10T12:00:00",
          "2022-04-10T13:00:00",
          "2022-04-10T14:00:00",
          "2022-04-10T15:00:00",
          "2022-04-10T16:00:00",
          "2022-04-10T17:00:00",
          "2022-04-10T18:00:00",
          "2022-04-10T19:00:00",
          "2022-04-10T20:00:00",
          "2022-04-10T21:00:00",
          "2022-04-10T22:00:00",
          "2022-04-10T23:00:00",
          "2022-04-11T00:00:00",
          "2022-04-11T01:00:00",
          "2022-04-11T02:00:00",
          "2022-04-11T03:00:00",
          "2022-04-11T04:00:00",
          "2022-04-11T05:00:00",
          "2022-04-11T06:00:00",
          "2022-04-11T07:00:00",
          "2022-04-11T08:00:00",
          "2022-04-11T09:00:00",
          "2022-04-11T10:00:00",
          "2022-04-11T11:00:00",
          "2022-04-11T12:00:00",
          "2022-04-11T13:00:00",
          "2022-04-11T14:00:00",
          "2022-04-11T15:00:00",
          "2022-04-11T16:00:00",
          "2022-04-11T17:00:00",
          "2022-04-11T18:00:00",
          "2022-04-11T19:00:00",
          "2022-04-11T20:00:00",
          "2022-04-11T21:00:00",
          "2022-04-11T22:00:00",
          "2022-04-11T23:00:00",
          "2022-04-12T00:00:00",
          "2022-04-12T01:00:00",
          "2022-04-12T02:00:00",
          "2022-04-12T03:00:00",
          "2022-04-12T04:00:00",
          "2022-04-12T05:00:00",
          "2022-04-12T06:00:00",
          "2022-04-12T07:00:00",
          "2022-04-12T08:00:00",
          "2022-04-12T09:00:00",
          "2022-04-12T10:00:00",
          "2022-04-12T11:00:00",
          "2022-04-12T12:00:00",
          "2022-04-12T13:00:00",
          "2022-04-12T14:00:00",
          "2022-04-12T15:00:00",
          "2022-04-12T16:00:00",
          "2022-04-12T17:00:00",
          "2022-04-12T18:00:00",
          "2022-04-12T19:00:00",
          "2022-04-12T20:00:00",
          "2022-04-12T21:00:00",
          "2022-04-12T22:00:00",
          "2022-04-12T23:00:00",
          "2022-04-13T00:00:00",
          "2022-04-13T01:00:00",
          "2022-04-13T02:00:00",
          "2022-04-13T03:00:00",
          "2022-04-13T04:00:00",
          "2022-04-13T05:00:00",
          "2022-04-13T06:00:00",
          "2022-04-13T07:00:00",
          "2022-04-13T08:00:00",
          "2022-04-13T09:00:00",
          "2022-04-13T10:00:00",
          "2022-04-13T11:00:00",
          "2022-04-13T12:00:00",
          "2022-04-13T13:00:00",
          "2022-04-13T14:00:00",
          "2022-04-13T15:00:00",
          "2022-04-13T16:00:00",
          "2022-04-13T17:00:00",
          "2022-04-13T18:00:00",
          "2022-04-13T19:00:00",
          "2022-04-13T20:00:00",
          "2022-04-13T21:00:00",
          "2022-04-13T22:00:00",
          "2022-04-13T23:00:00",
          "2022-04-14T00:00:00",
          "2022-04-14T01:00:00",
          "2022-04-14T02:00:00",
          "2022-04-14T03:00:00",
          "2022-04-14T04:00:00",
          "2022-04-14T05:00:00",
          "2022-04-14T06:00:00",
          "2022-04-14T07:00:00",
          "2022-04-14T08:00:00",
          "2022-04-14T09:00:00",
          "2022-04-14T10:00:00",
          "2022-04-14T11:00:00",
          "2022-04-14T12:00:00",
          "2022-04-14T13:00:00",
          "2022-04-14T14:00:00",
          "2022-04-14T15:00:00",
          "2022-04-14T16:00:00",
          "2022-04-14T17:00:00",
          "2022-04-14T18:00:00",
          "2022-04-14T19:00:00",
          "2022-04-14T20:00:00",
          "2022-04-14T21:00:00",
          "2022-04-14T22:00:00",
          "2022-04-14T23:00:00",
          "2022-04-15T00:00:00",
          "2022-04-15T01:00:00",
          "2022-04-15T02:00:00",
          "2022-04-15T03:00:00",
          "2022-04-15T04:00:00",
          "2022-04-15T05:00:00",
          "2022-04-15T06:00:00",
          "2022-04-15T07:00:00",
          "2022-04-15T08:00:00",
          "2022-04-15T09:00:00",
          "2022-04-15T10:00:00",
          "2022-04-15T11:00:00",
          "2022-04-15T12:00:00",
          "2022-04-15T13:00:00",
          "2022-04-15T14:00:00",
          "2022-04-15T15:00:00",
          "2022-04-15T16:00:00",
          "2022-04-15T17:00:00",
          "2022-04-15T18:00:00",
          "2022-04-15T19:00:00",
          "2022-04-15T20:00:00",
          "2022-04-15T21:00:00",
          "2022-04-15T22:00:00",
          "2022-04-15T23:00:00",
          "2022-04-16T00:00:00",
          "2022-04-16T01:00:00",
          "2022-04-16T02:00:00",
          "2022-04-16T03:00:00",
          "2022-04-16T04:00:00",
          "2022-04-16T05:00:00",
          "2022-04-16T06:00:00",
          "2022-04-16T07:00:00",
          "2022-04-16T08:00:00",
          "2022-04-16T09:00:00",
          "2022-04-16T10:00:00",
          "2022-04-16T11:00:00",
          "2022-04-16T12:00:00",
          "2022-04-16T13:00:00",
          "2022-04-16T14:00:00",
          "2022-04-16T15:00:00",
          "2022-04-16T16:00:00",
          "2022-04-16T17:00:00",
          "2022-04-16T18:00:00",
          "2022-04-16T19:00:00",
          "2022-04-16T20:00:00",
          "2022-04-16T21:00:00",
          "2022-04-16T22:00:00",
          "2022-04-16T23:00:00",
          "2022-04-17T00:00:00",
          "2022-04-17T01:00:00",
          "2022-04-17T02:00:00",
          "2022-04-17T03:00:00",
          "2022-04-17T04:00:00",
          "2022-04-17T05:00:00",
          "2022-04-17T06:00:00",
          "2022-04-17T07:00:00",
          "2022-04-17T08:00:00",
          "2022-04-17T09:00:00",
          "2022-04-17T10:00:00",
          "2022-04-17T11:00:00",
          "2022-04-17T12:00:00",
          "2022-04-17T13:00:00",
          "2022-04-17T14:00:00",
          "2022-04-17T15:00:00",
          "2022-04-17T16:00:00",
          "2022-04-17T17:00:00",
          "2022-04-17T18:00:00",
          "2022-04-17T19:00:00",
          "2022-04-17T20:00:00",
          "2022-04-17T21:00:00",
          "2022-04-17T22:00:00",
          "2022-04-17T23:00:00",
          "2022-04-18T00:00:00",
          "2022-04-18T01:00:00",
          "2022-04-18T02:00:00",
          "2022-04-18T03:00:00",
          "2022-04-18T04:00:00",
          "2022-04-18T05:00:00",
          "2022-04-18T06:00:00",
          "2022-04-18T07:00:00",
          "2022-04-18T08:00:00",
          "2022-04-18T09:00:00",
          "2022-04-18T10:00:00",
          "2022-04-18T11:00:00",
          "2022-04-18T12:00:00",
          "2022-04-18T13:00:00",
          "2022-04-18T14:00:00",
          "2022-04-18T15:00:00",
          "2022-04-18T16:00:00",
          "2022-04-18T17:00:00",
          "2022-04-18T18:00:00",
          "2022-04-18T19:00:00",
          "2022-04-18T20:00:00",
          "2022-04-18T21:00:00",
          "2022-04-18T22:00:00",
          "2022-04-18T23:00:00",
          "2022-04-19T00:00:00",
          "2022-04-19T01:00:00",
          "2022-04-19T02:00:00",
          "2022-04-19T03:00:00",
          "2022-04-19T04:00:00",
          "2022-04-19T05:00:00",
          "2022-04-19T06:00:00",
          "2022-04-19T07:00:00",
          "2022-04-19T08:00:00",
          "2022-04-19T09:00:00",
          "2022-04-19T10:00:00",
          "2022-04-19T11:00:00",
          "2022-04-19T12:00:00",
          "2022-04-19T13:00:00",
          "2022-04-19T14:00:00",
          "2022-04-19T15:00:00",
          "2022-04-19T16:00:00",
          "2022-04-19T17:00:00",
          "2022-04-19T18:00:00",
          "2022-04-19T19:00:00",
          "2022-04-19T20:00:00",
          "2022-04-19T21:00:00",
          "2022-04-19T22:00:00",
          "2022-04-19T23:00:00",
          "2022-04-20T00:00:00"
         ],
         "xaxis": "x2",
         "y": [
          6445.51922,
          1677.29334,
          848.14718,
          736.20798,
          875.62253,
          735.96483,
          1327.43298,
          1262.25479,
          1214.65814,
          842.65329,
          1997.85052,
          3700.53654,
          2355.35781,
          4798.23749,
          6039.95689,
          3945.39906,
          3986.53099,
          3205.11503,
          6483.66757,
          2766.10858,
          1353.94246,
          977.96036,
          1126.17817,
          2146.73361,
          3738.44955,
          2224.9679,
          1226.51086,
          1255.75246,
          1169.59279,
          1217.55336,
          929.11382,
          1246.42515,
          964.22773,
          1191.87092,
          954.90136,
          2809.47051,
          1631.63551,
          2268.17802,
          2109.61707,
          2804.13397,
          1567.91119,
          1634.74431,
          1635.98052,
          1261.65436,
          714.68054,
          954.30979,
          800.61276,
          1084.24711,
          1004.29322,
          1021.10737,
          772.47903,
          547.4576500000001,
          509.97862,
          659.14366,
          1187.43884,
          1556.4029,
          2334.89149,
          1233.32916,
          887.9580100000001,
          1880.17355,
          1713.44905,
          3636.19827,
          3948.19621,
          2407.37189,
          1490.41591,
          3040.57954,
          4995.30505,
          1959.31305,
          1269.49201,
          997.61688,
          1803.83308,
          1518.61759,
          1403.09674,
          748.41319,
          894.66743,
          1000.62984,
          849.16273,
          721.2542100000001,
          606.86637,
          596.68457,
          594.39467,
          475.82385,
          584.01232,
          580.5026,
          707.57097,
          576.5279,
          892.78165,
          1331.57722,
          1228.98827,
          694.01053,
          436.61166,
          609.0946,
          419.45489,
          425.13616,
          439.09087,
          1075.30723,
          609.62172,
          489.67289,
          507.70146,
          507.09099,
          345.20871,
          471.15811,
          439.85009,
          568.83472,
          513.84297,
          630.29251,
          592.10781,
          614.98094,
          1188.11992,
          563.57179,
          647.81139,
          651.20995,
          745.74316,
          2448.37291,
          863.39192,
          645.97898,
          924.48097,
          1103.88956,
          4409.45383,
          2288.70673,
          2724.82272,
          1029.59676,
          3752.11732,
          1326.16362,
          989.29185,
          830.96408,
          824.20199,
          963.65274,
          1452.29216,
          3808.12893,
          4364.96597,
          4229.29764,
          2739.34023,
          4059.87941,
          2705.43168,
          2062.3939,
          3114.81231,
          3270.42247,
          1441.60443,
          5230.21519,
          4362.21223,
          2737.45528,
          3367.38574,
          2173.79856,
          3026.11925,
          2077.08447,
          1836.21963,
          1654.82549,
          2169.61794,
          2447.21004,
          2016.83778,
          2746.76562,
          2076.09475,
          1472.44762,
          1387.97695,
          1985.98708,
          5896.31434,
          4269.32189,
          3856.304,
          2422.61727,
          2470.46725,
          1921.53762,
          2529.40412,
          3111.24907,
          1716.66943,
          1252.26075,
          1626.56329,
          1781.12213,
          1168.21926,
          1514.99829,
          1295.7161,
          954.46905,
          672.83924,
          763.44194,
          984.30171,
          1293.85167,
          1092.54646,
          918.60258,
          1421.31832,
          1437.29346,
          1843.9893,
          4002.65579,
          4840.88732,
          4436.77629,
          2487.51173,
          2550.19169,
          1420.36184,
          2088.3285,
          1093.07359,
          687.31731,
          1099.34099,
          1274.24011,
          1275.32515,
          1489.01258,
          1016.68136,
          1036.40448,
          975.51404,
          551.62149,
          947.46841,
          934.16859,
          1020.29445,
          1661.27352,
          1601.70113,
          1222.59425,
          1754.23484,
          3760.4247,
          3552.21665,
          3229.43185,
          3049.26909,
          1440.41784,
          1719.77026,
          1463.19751,
          1191.67137,
          629.27941,
          877.56531,
          407.47573,
          1357.42561,
          940.72787,
          642.37189,
          829.28757,
          784.39545,
          719.80807,
          766.7563,
          1858.30014,
          1633.77665,
          774.88876,
          1032.42238,
          870.47033,
          754.45673,
          1166.26078,
          2711.56276,
          1614.52281,
          1206.55006,
          1323.42996,
          598.67288,
          581.56669,
          412.66455,
          387.30679,
          558.3651,
          500.36726,
          548.17832,
          656.88441,
          502.06116,
          563.82673,
          518.75393,
          531.50506,
          402.69155,
          467.82541,
          443.87433,
          825.48297,
          712.24734,
          686.41342,
          756.47976,
          579.16652,
          497.09589,
          2329.14942,
          763.54151,
          447.04961,
          305.51699,
          442.46418,
          415.06685,
          703.25763,
          1271.72769,
          435.1865,
          505.34015,
          240.24556,
          693.66937,
          434.99368,
          291.55063,
          325.65266,
          358.55481,
          337.17292,
          573.226,
          688.77151,
          396.17757,
          502.42203,
          437.96495,
          1647.94177,
          804.50541,
          645.51978,
          996.43042,
          926.98236,
          1660.56701,
          1028.90747,
          734.27847,
          587.11214,
          1788.05433,
          3382.45159,
          1597.81786,
          936.15216,
          836.6054,
          694.52326,
          5910.36415,
          2664.91735,
          1252.17316,
          1801.61014,
          1140.00086,
          1362.37489,
          1290.77413,
          1136.99587,
          2598.94732,
          3524.72302,
          2647.31019,
          1857.04882,
          2649.34546,
          6018.08022,
          6382.58595,
          2392.74189,
          1637.34137,
          1731.3162,
          976.57394,
          1203.17214,
          2760.44917,
          829.5274900000001,
          943.03519,
          1045.17887,
          894.52211,
          644.4931,
          696.79506,
          1022.86614,
          939.91756,
          1032.06058,
          1102.04205,
          1361.26984,
          1843.39091,
          4784.33766,
          3945.51147,
          2627.42342,
          2102.87183,
          1420.25709,
          1132.24277,
          1340.95499,
          1157.40014,
          609.70504,
          702.11,
          850.49595,
          1226.31947
         ],
         "yaxis": "y2"
        }
       ],
       "layout": {
        "height": 600,
        "paper_bgcolor": "white",
        "plot_bgcolor": "white",
        "template": {
         "data": {
          "bar": [
           {
            "error_x": {
             "color": "#2a3f5f"
            },
            "error_y": {
             "color": "#2a3f5f"
            },
            "marker": {
             "line": {
              "color": "#E5ECF6",
              "width": 0.5
             },
             "pattern": {
              "fillmode": "overlay",
              "size": 10,
              "solidity": 0.2
             }
            },
            "type": "bar"
           }
          ],
          "barpolar": [
           {
            "marker": {
             "line": {
              "color": "#E5ECF6",
              "width": 0.5
             },
             "pattern": {
              "fillmode": "overlay",
              "size": 10,
              "solidity": 0.2
             }
            },
            "type": "barpolar"
           }
          ],
          "carpet": [
           {
            "aaxis": {
             "endlinecolor": "#2a3f5f",
             "gridcolor": "white",
             "linecolor": "white",
             "minorgridcolor": "white",
             "startlinecolor": "#2a3f5f"
            },
            "baxis": {
             "endlinecolor": "#2a3f5f",
             "gridcolor": "white",
             "linecolor": "white",
             "minorgridcolor": "white",
             "startlinecolor": "#2a3f5f"
            },
            "type": "carpet"
           }
          ],
          "choropleth": [
           {
            "colorbar": {
             "outlinewidth": 0,
             "ticks": ""
            },
            "type": "choropleth"
           }
          ],
          "contour": [
           {
            "colorbar": {
             "outlinewidth": 0,
             "ticks": ""
            },
            "colorscale": [
             [
              0,
              "#0d0887"
             ],
             [
              0.1111111111111111,
              "#46039f"
             ],
             [
              0.2222222222222222,
              "#7201a8"
             ],
             [
              0.3333333333333333,
              "#9c179e"
             ],
             [
              0.4444444444444444,
              "#bd3786"
             ],
             [
              0.5555555555555556,
              "#d8576b"
             ],
             [
              0.6666666666666666,
              "#ed7953"
             ],
             [
              0.7777777777777778,
              "#fb9f3a"
             ],
             [
              0.8888888888888888,
              "#fdca26"
             ],
             [
              1,
              "#f0f921"
             ]
            ],
            "type": "contour"
           }
          ],
          "contourcarpet": [
           {
            "colorbar": {
             "outlinewidth": 0,
             "ticks": ""
            },
            "type": "contourcarpet"
           }
          ],
          "heatmap": [
           {
            "colorbar": {
             "outlinewidth": 0,
             "ticks": ""
            },
            "colorscale": [
             [
              0,
              "#0d0887"
             ],
             [
              0.1111111111111111,
              "#46039f"
             ],
             [
              0.2222222222222222,
              "#7201a8"
             ],
             [
              0.3333333333333333,
              "#9c179e"
             ],
             [
              0.4444444444444444,
              "#bd3786"
             ],
             [
              0.5555555555555556,
              "#d8576b"
             ],
             [
              0.6666666666666666,
              "#ed7953"
             ],
             [
              0.7777777777777778,
              "#fb9f3a"
             ],
             [
              0.8888888888888888,
              "#fdca26"
             ],
             [
              1,
              "#f0f921"
             ]
            ],
            "type": "heatmap"
           }
          ],
          "heatmapgl": [
           {
            "colorbar": {
             "outlinewidth": 0,
             "ticks": ""
            },
            "colorscale": [
             [
              0,
              "#0d0887"
             ],
             [
              0.1111111111111111,
              "#46039f"
             ],
             [
              0.2222222222222222,
              "#7201a8"
             ],
             [
              0.3333333333333333,
              "#9c179e"
             ],
             [
              0.4444444444444444,
              "#bd3786"
             ],
             [
              0.5555555555555556,
              "#d8576b"
             ],
             [
              0.6666666666666666,
              "#ed7953"
             ],
             [
              0.7777777777777778,
              "#fb9f3a"
             ],
             [
              0.8888888888888888,
              "#fdca26"
             ],
             [
              1,
              "#f0f921"
             ]
            ],
            "type": "heatmapgl"
           }
          ],
          "histogram": [
           {
            "marker": {
             "pattern": {
              "fillmode": "overlay",
              "size": 10,
              "solidity": 0.2
             }
            },
            "type": "histogram"
           }
          ],
          "histogram2d": [
           {
            "colorbar": {
             "outlinewidth": 0,
             "ticks": ""
            },
            "colorscale": [
             [
              0,
              "#0d0887"
             ],
             [
              0.1111111111111111,
              "#46039f"
             ],
             [
              0.2222222222222222,
              "#7201a8"
             ],
             [
              0.3333333333333333,
              "#9c179e"
             ],
             [
              0.4444444444444444,
              "#bd3786"
             ],
             [
              0.5555555555555556,
              "#d8576b"
             ],
             [
              0.6666666666666666,
              "#ed7953"
             ],
             [
              0.7777777777777778,
              "#fb9f3a"
             ],
             [
              0.8888888888888888,
              "#fdca26"
             ],
             [
              1,
              "#f0f921"
             ]
            ],
            "type": "histogram2d"
           }
          ],
          "histogram2dcontour": [
           {
            "colorbar": {
             "outlinewidth": 0,
             "ticks": ""
            },
            "colorscale": [
             [
              0,
              "#0d0887"
             ],
             [
              0.1111111111111111,
              "#46039f"
             ],
             [
              0.2222222222222222,
              "#7201a8"
             ],
             [
              0.3333333333333333,
              "#9c179e"
             ],
             [
              0.4444444444444444,
              "#bd3786"
             ],
             [
              0.5555555555555556,
              "#d8576b"
             ],
             [
              0.6666666666666666,
              "#ed7953"
             ],
             [
              0.7777777777777778,
              "#fb9f3a"
             ],
             [
              0.8888888888888888,
              "#fdca26"
             ],
             [
              1,
              "#f0f921"
             ]
            ],
            "type": "histogram2dcontour"
           }
          ],
          "mesh3d": [
           {
            "colorbar": {
             "outlinewidth": 0,
             "ticks": ""
            },
            "type": "mesh3d"
           }
          ],
          "parcoords": [
           {
            "line": {
             "colorbar": {
              "outlinewidth": 0,
              "ticks": ""
             }
            },
            "type": "parcoords"
           }
          ],
          "pie": [
           {
            "automargin": true,
            "type": "pie"
           }
          ],
          "scatter": [
           {
            "fillpattern": {
             "fillmode": "overlay",
             "size": 10,
             "solidity": 0.2
            },
            "type": "scatter"
           }
          ],
          "scatter3d": [
           {
            "line": {
             "colorbar": {
              "outlinewidth": 0,
              "ticks": ""
             }
            },
            "marker": {
             "colorbar": {
              "outlinewidth": 0,
              "ticks": ""
             }
            },
            "type": "scatter3d"
           }
          ],
          "scattercarpet": [
           {
            "marker": {
             "colorbar": {
              "outlinewidth": 0,
              "ticks": ""
             }
            },
            "type": "scattercarpet"
           }
          ],
          "scattergeo": [
           {
            "marker": {
             "colorbar": {
              "outlinewidth": 0,
              "ticks": ""
             }
            },
            "type": "scattergeo"
           }
          ],
          "scattergl": [
           {
            "marker": {
             "colorbar": {
              "outlinewidth": 0,
              "ticks": ""
             }
            },
            "type": "scattergl"
           }
          ],
          "scattermapbox": [
           {
            "marker": {
             "colorbar": {
              "outlinewidth": 0,
              "ticks": ""
             }
            },
            "type": "scattermapbox"
           }
          ],
          "scatterpolar": [
           {
            "marker": {
             "colorbar": {
              "outlinewidth": 0,
              "ticks": ""
             }
            },
            "type": "scatterpolar"
           }
          ],
          "scatterpolargl": [
           {
            "marker": {
             "colorbar": {
              "outlinewidth": 0,
              "ticks": ""
             }
            },
            "type": "scatterpolargl"
           }
          ],
          "scatterternary": [
           {
            "marker": {
             "colorbar": {
              "outlinewidth": 0,
              "ticks": ""
             }
            },
            "type": "scatterternary"
           }
          ],
          "surface": [
           {
            "colorbar": {
             "outlinewidth": 0,
             "ticks": ""
            },
            "colorscale": [
             [
              0,
              "#0d0887"
             ],
             [
              0.1111111111111111,
              "#46039f"
             ],
             [
              0.2222222222222222,
              "#7201a8"
             ],
             [
              0.3333333333333333,
              "#9c179e"
             ],
             [
              0.4444444444444444,
              "#bd3786"
             ],
             [
              0.5555555555555556,
              "#d8576b"
             ],
             [
              0.6666666666666666,
              "#ed7953"
             ],
             [
              0.7777777777777778,
              "#fb9f3a"
             ],
             [
              0.8888888888888888,
              "#fdca26"
             ],
             [
              1,
              "#f0f921"
             ]
            ],
            "type": "surface"
           }
          ],
          "table": [
           {
            "cells": {
             "fill": {
              "color": "#EBF0F8"
             },
             "line": {
              "color": "white"
             }
            },
            "header": {
             "fill": {
              "color": "#C8D4E3"
             },
             "line": {
              "color": "white"
             }
            },
            "type": "table"
           }
          ]
         },
         "layout": {
          "annotationdefaults": {
           "arrowcolor": "#2a3f5f",
           "arrowhead": 0,
           "arrowwidth": 1
          },
          "autotypenumbers": "strict",
          "coloraxis": {
           "colorbar": {
            "outlinewidth": 0,
            "ticks": ""
           }
          },
          "colorscale": {
           "diverging": [
            [
             0,
             "#8e0152"
            ],
            [
             0.1,
             "#c51b7d"
            ],
            [
             0.2,
             "#de77ae"
            ],
            [
             0.3,
             "#f1b6da"
            ],
            [
             0.4,
             "#fde0ef"
            ],
            [
             0.5,
             "#f7f7f7"
            ],
            [
             0.6,
             "#e6f5d0"
            ],
            [
             0.7,
             "#b8e186"
            ],
            [
             0.8,
             "#7fbc41"
            ],
            [
             0.9,
             "#4d9221"
            ],
            [
             1,
             "#276419"
            ]
           ],
           "sequential": [
            [
             0,
             "#0d0887"
            ],
            [
             0.1111111111111111,
             "#46039f"
            ],
            [
             0.2222222222222222,
             "#7201a8"
            ],
            [
             0.3333333333333333,
             "#9c179e"
            ],
            [
             0.4444444444444444,
             "#bd3786"
            ],
            [
             0.5555555555555556,
             "#d8576b"
            ],
            [
             0.6666666666666666,
             "#ed7953"
            ],
            [
             0.7777777777777778,
             "#fb9f3a"
            ],
            [
             0.8888888888888888,
             "#fdca26"
            ],
            [
             1,
             "#f0f921"
            ]
           ],
           "sequentialminus": [
            [
             0,
             "#0d0887"
            ],
            [
             0.1111111111111111,
             "#46039f"
            ],
            [
             0.2222222222222222,
             "#7201a8"
            ],
            [
             0.3333333333333333,
             "#9c179e"
            ],
            [
             0.4444444444444444,
             "#bd3786"
            ],
            [
             0.5555555555555556,
             "#d8576b"
            ],
            [
             0.6666666666666666,
             "#ed7953"
            ],
            [
             0.7777777777777778,
             "#fb9f3a"
            ],
            [
             0.8888888888888888,
             "#fdca26"
            ],
            [
             1,
             "#f0f921"
            ]
           ]
          },
          "colorway": [
           "#636efa",
           "#EF553B",
           "#00cc96",
           "#ab63fa",
           "#FFA15A",
           "#19d3f3",
           "#FF6692",
           "#B6E880",
           "#FF97FF",
           "#FECB52"
          ],
          "font": {
           "color": "#2a3f5f"
          },
          "geo": {
           "bgcolor": "white",
           "lakecolor": "white",
           "landcolor": "#E5ECF6",
           "showlakes": true,
           "showland": true,
           "subunitcolor": "white"
          },
          "hoverlabel": {
           "align": "left"
          },
          "hovermode": "closest",
          "mapbox": {
           "style": "light"
          },
          "paper_bgcolor": "white",
          "plot_bgcolor": "#E5ECF6",
          "polar": {
           "angularaxis": {
            "gridcolor": "white",
            "linecolor": "white",
            "ticks": ""
           },
           "bgcolor": "#E5ECF6",
           "radialaxis": {
            "gridcolor": "white",
            "linecolor": "white",
            "ticks": ""
           }
          },
          "scene": {
           "xaxis": {
            "backgroundcolor": "#E5ECF6",
            "gridcolor": "white",
            "gridwidth": 2,
            "linecolor": "white",
            "showbackground": true,
            "ticks": "",
            "zerolinecolor": "white"
           },
           "yaxis": {
            "backgroundcolor": "#E5ECF6",
            "gridcolor": "white",
            "gridwidth": 2,
            "linecolor": "white",
            "showbackground": true,
            "ticks": "",
            "zerolinecolor": "white"
           },
           "zaxis": {
            "backgroundcolor": "#E5ECF6",
            "gridcolor": "white",
            "gridwidth": 2,
            "linecolor": "white",
            "showbackground": true,
            "ticks": "",
            "zerolinecolor": "white"
           }
          },
          "shapedefaults": {
           "line": {
            "color": "#2a3f5f"
           }
          },
          "ternary": {
           "aaxis": {
            "gridcolor": "white",
            "linecolor": "white",
            "ticks": ""
           },
           "baxis": {
            "gridcolor": "white",
            "linecolor": "white",
            "ticks": ""
           },
           "bgcolor": "#E5ECF6",
           "caxis": {
            "gridcolor": "white",
            "linecolor": "white",
            "ticks": ""
           }
          },
          "title": {
           "x": 0.05
          },
          "xaxis": {
           "automargin": true,
           "gridcolor": "white",
           "linecolor": "white",
           "ticks": "",
           "title": {
            "standoff": 15
           },
           "zerolinecolor": "white",
           "zerolinewidth": 2
          },
          "yaxis": {
           "automargin": true,
           "gridcolor": "white",
           "linecolor": "white",
           "ticks": "",
           "title": {
            "standoff": 15
           },
           "zerolinecolor": "white",
           "zerolinewidth": 2
          }
         }
        },
        "width": 900,
        "xaxis": {
         "anchor": "y",
         "domain": [
          0,
          1
         ],
         "gridcolor": "lightgray",
         "linecolor": "lightgray",
         "linewidth": 1,
         "matches": "x2",
         "mirror": true,
         "rangeslider": {
          "visible": false
         },
         "showgrid": true,
         "showticklabels": false
        },
        "xaxis2": {
         "anchor": "y2",
         "domain": [
          0,
          1
         ],
         "gridcolor": "lightgray",
         "linecolor": "lightgray",
         "linewidth": 1,
         "mirror": true,
         "showgrid": true
        },
        "yaxis": {
         "anchor": "x",
         "domain": [
          0.37,
          1
         ],
         "gridcolor": "lightgray",
         "linecolor": "gray",
         "linewidth": 1,
         "mirror": true,
         "showgrid": true,
         "showline": true,
         "title": {
          "text": "Price (USD)"
         }
        },
        "yaxis2": {
         "anchor": "x2",
         "domain": [
          0,
          0.27
         ],
         "gridcolor": "lightgray",
         "linecolor": "gray",
         "linewidth": 1,
         "mirror": true,
         "showgrid": true,
         "showline": true,
         "title": {
          "text": "Volume"
         }
        }
       }
      }
     },
     "metadata": {},
     "output_type": "display_data"
    }
   ],
   "source": [
    "plot_candlestick_with_volume(btc_60_min_subset, 'btc_60min')"
   ]
  },
  {
   "cell_type": "code",
   "execution_count": 34,
   "metadata": {},
   "outputs": [
    {
     "data": {
      "application/vnd.plotly.v1+json": {
       "config": {
        "plotlyServerURL": "https://plot.ly"
       },
       "data": [
        {
         "close": [
          45423.13,
          44908.51,
          45352,
          45389.98,
          44675.15,
          44771.55,
          44033,
          44205.21,
          43900.05,
          43714.31,
          43453.61,
          43783.6,
          43355.46,
          42974.71,
          43422.2,
          43386.19,
          43888.65,
          43388.14,
          43425.59,
          43554.03,
          43576.82,
          43555.21,
          43442.95,
          42911.59,
          43357.68,
          43376.87,
          42601.01,
          42800,
          42225.84,
          42512.45,
          42496.45,
          42609.39,
          42829.8,
          42850,
          43194.3,
          42650,
          42284.99,
          42152.83,
          42106.83,
          42219.39,
          41295.26,
          41137.99,
          41177.3,
          40952.56,
          40692.83,
          40349.99,
          39814.67,
          39993.63,
          39377.72,
          39610.92,
          39507.91,
          39749.16,
          39924.48,
          40100,
          40388.89,
          40615.65,
          40337.2,
          40284.12,
          39995.17,
          39570.01,
          39718.73,
          39758.99,
          39950,
          39951.74,
          40260.03,
          40591.98,
          41330.1,
          41046.28,
          41169.13,
          41185.28,
          41280.87,
          41212.62,
          41197.51,
          40464.46,
          39932.03,
          39888.25,
          39882.37,
          40146.47,
          40147.28,
          40044.55,
          40316.18,
          40500.85,
          40303,
          40112.05,
          40405.86,
          40427.26,
          40303.69,
          40176.05,
          39693,
          39641.52,
          38880.42,
          38958.45,
          38951.91,
          39489.62,
          39350.49,
          39762.61,
          40289.76,
          40791.84,
          40840,
          40897.94,
          40660.9,
          40667.79,
          40914.53,
          41480,
          41491.53,
          41363.76,
          41439.57
         ],
         "high": [
          46107.58,
          45496.27,
          45368.29,
          45507.14,
          45453.94,
          45063.94,
          44807,
          44496.97,
          44274.8,
          43929.91,
          44298.61,
          43973.01,
          44041.1,
          43559.09,
          43430,
          43553.14,
          43900.99,
          43888.65,
          43572.81,
          43819.99,
          43750,
          43694.15,
          43970.62,
          43516.7,
          43663.75,
          43961.99,
          43416.85,
          43320.76,
          42870.7,
          42514.51,
          42640,
          42613.8,
          42896.64,
          42891.91,
          43197.23,
          43410.3,
          42656.81,
          42434.51,
          42225.77,
          42350.29,
          42236.3,
          41646.55,
          41299.97,
          41223.89,
          40989.99,
          40896.83,
          40598.43,
          40087.85,
          40269.6,
          39978.62,
          39852.95,
          39901.89,
          40186.36,
          40344.6,
          40464,
          40699,
          40629.87,
          40379.25,
          40376.8,
          40056.52,
          39839.3,
          40289.02,
          40275,
          40226.07,
          40350,
          40957,
          41411,
          41347.69,
          41561.31,
          41404.58,
          41500,
          41360,
          41285.23,
          41300,
          40659.82,
          40069,
          40017.26,
          40266.47,
          40449.96,
          40399,
          40870.36,
          40650.01,
          40709.35,
          40577.57,
          40699.55,
          40529.79,
          40595.67,
          40459.52,
          40340.22,
          39896.98,
          39670,
          39070.05,
          39138.49,
          39529.77,
          39620.8,
          39799.8,
          40370.8,
          41116.73,
          40909.08,
          41099,
          41263.43,
          40883.99,
          41104,
          41510.35,
          41760,
          41547.25,
          41547.65
         ],
         "low": [
          45353.81,
          44412,
          44760.28,
          45177.48,
          44674.85,
          44665.91,
          44004.13,
          43769.17,
          43705.64,
          43393.74,
          43177.11,
          43432.53,
          43227.61,
          42727.35,
          42932.47,
          43225,
          43269.5,
          43330.09,
          43024.86,
          43375.36,
          43208,
          43416.74,
          43442.95,
          42882.28,
          42751.01,
          43354.43,
          42414,
          42533.82,
          42107.14,
          42116.31,
          42322.72,
          42158.67,
          42390,
          42433.49,
          42525,
          42559.47,
          41868,
          41755,
          41800,
          42079.56,
          41234,
          41111.01,
          40916.01,
          40684.8,
          40501,
          40250,
          39803.1,
          39500,
          39200,
          39372.35,
          39357.64,
          39290,
          39706.69,
          39866.31,
          40016.09,
          40196.48,
          40154.99,
          39800,
          39922.98,
          39393.5,
          39254.63,
          39555.51,
          39706.19,
          39728.59,
          39622.87,
          40228.59,
          40365,
          40829,
          40877.61,
          41064.35,
          41176.75,
          40973.51,
          40851.5,
          40310.41,
          39886.14,
          39772.58,
          39551.94,
          39766.4,
          39953.2,
          40010.2,
          39900,
          40276,
          40277,
          40112.05,
          39991.55,
          40122.05,
          40200,
          39833.31,
          39546.17,
          39580.05,
          38673.18,
          38536.51,
          38791.73,
          38951.92,
          39233.13,
          39000,
          39740.66,
          40200,
          40421.67,
          40632.51,
          40601,
          40571,
          40611.76,
          40841.65,
          41450.46,
          41167.92,
          41212.94
         ],
         "open": [
          45975.53,
          45420.62,
          44908.5,
          45352,
          45389.98,
          44675.15,
          44771.58,
          44033,
          44205.2,
          43900.05,
          43713.92,
          43453.62,
          43783.6,
          43355.46,
          42974.71,
          43422.46,
          43386.2,
          43888.65,
          43388.14,
          43428,
          43554.03,
          43576.83,
          43555.21,
          43442.96,
          42911.59,
          43357.68,
          43376.87,
          42601.01,
          42800,
          42225.84,
          42512.96,
          42496.45,
          42609.39,
          42829.8,
          42849.99,
          43194.3,
          42649.93,
          42284.99,
          42152.83,
          42106.82,
          42219.36,
          41295.26,
          41137.99,
          41178.37,
          40952.56,
          40692.83,
          40349.99,
          39814.67,
          39993.63,
          39377.72,
          39611.47,
          39507.91,
          39748.97,
          39923.9,
          40100,
          40388.89,
          40615.65,
          40337.2,
          40284.12,
          39995.17,
          39570.01,
          39718.73,
          39758.99,
          39950,
          39951.75,
          40259.97,
          40591.98,
          41328.16,
          41046.28,
          41169,
          41185.28,
          41280.87,
          41212.62,
          41197.51,
          40464.07,
          39931.92,
          39888.25,
          39882.37,
          40146.29,
          40147.28,
          40044.54,
          40316.16,
          40501.03,
          40303,
          40112,
          40405.86,
          40427.23,
          40303.69,
          40176.06,
          39693,
          39641.52,
          38880.42,
          38958.46,
          38951.92,
          39489.62,
          39350.49,
          39762.62,
          40289.77,
          40790.82,
          40840.77,
          40899.99,
          40660.89,
          40667.91,
          40914.43,
          41480,
          41491.53,
          41363.75
         ],
         "showlegend": false,
         "type": "candlestick",
         "x": [
          "2022-04-06T00:01:02.140000",
          "2022-04-06T00:30:45.929000",
          "2022-04-06T04:19:38.633000",
          "2022-04-06T08:59:38.487000",
          "2022-04-06T11:28:52.444000",
          "2022-04-06T13:38:21.562000",
          "2022-04-06T14:04:45.740000",
          "2022-04-06T15:04:46.087000",
          "2022-04-06T16:25:36.228000",
          "2022-04-06T17:31:46.751000",
          "2022-04-06T18:30:29.490000",
          "2022-04-06T19:55:05.051000",
          "2022-04-06T23:44:49.946000",
          "2022-04-07T01:04:30.375000",
          "2022-04-07T04:49:13.372000",
          "2022-04-07T09:12:00.859000",
          "2022-04-07T12:10:33.818000",
          "2022-04-07T14:41:04.231000",
          "2022-04-07T16:58:13.068000",
          "2022-04-07T20:38:34.565000",
          "2022-04-08T01:46:38.077000",
          "2022-04-08T07:52:35.893000",
          "2022-04-08T11:04:34.892000",
          "2022-04-08T13:26:05.034000",
          "2022-04-08T14:50:19.145000",
          "2022-04-08T17:04:02.670000",
          "2022-04-08T18:16:15.064000",
          "2022-04-08T20:02:17.843000",
          "2022-04-08T23:30:48.538000",
          "2022-04-09T04:24:27.318000",
          "2022-04-09T12:35:22.543000",
          "2022-04-09T18:01:51.351000",
          "2022-04-10T03:01:07.803000",
          "2022-04-10T12:07:28.558000",
          "2022-04-10T17:35:52.850000",
          "2022-04-10T22:10:04.705000",
          "2022-04-10T23:17:52.773000",
          "2022-04-11T02:02:53.789000",
          "2022-04-11T04:00:56.565000",
          "2022-04-11T08:56:58.657000",
          "2022-04-11T10:02:29.082000",
          "2022-04-11T11:32:06.570000",
          "2022-04-11T12:51:57.628000",
          "2022-04-11T14:18:20.093000",
          "2022-04-11T16:13:43.831000",
          "2022-04-11T17:43:43.787000",
          "2022-04-11T19:31:25.330000",
          "2022-04-11T20:28:43.142000",
          "2022-04-11T22:13:26.859000",
          "2022-04-12T00:03:12.264000",
          "2022-04-12T02:08:34.325000",
          "2022-04-12T04:51:20.759000",
          "2022-04-12T07:01:36.499000",
          "2022-04-12T09:06:00.287000",
          "2022-04-12T12:10:07.234000",
          "2022-04-12T12:53:33.751000",
          "2022-04-12T14:04:23.490000",
          "2022-04-12T15:28:20.188000",
          "2022-04-12T17:46:12.854000",
          "2022-04-12T19:37:07.242000",
          "2022-04-12T22:36:15.628000",
          "2022-04-13T01:50:15.171000",
          "2022-04-13T07:08:32.729000",
          "2022-04-13T11:20:21.255000",
          "2022-04-13T13:45:13.023000",
          "2022-04-13T14:29:53.672000",
          "2022-04-13T15:34:21.110000",
          "2022-04-13T17:26:11.414000",
          "2022-04-13T20:18:15.967000",
          "2022-04-14T00:54:13.735000",
          "2022-04-14T05:41:07.876000",
          "2022-04-14T10:16:40.386000",
          "2022-04-14T13:27:10.729000",
          "2022-04-14T14:22:16.972000",
          "2022-04-14T16:00:55.278000",
          "2022-04-14T18:27:58.725000",
          "2022-04-14T22:46:57.565000",
          "2022-04-15T04:51:22.169000",
          "2022-04-15T08:51:47.602000",
          "2022-04-15T14:25:08.589000",
          "2022-04-15T16:44:49.708000",
          "2022-04-16T00:40:33.805000",
          "2022-04-16T09:54:40.546000",
          "2022-04-16T15:38:26.761000",
          "2022-04-16T23:00:00.895000",
          "2022-04-17T10:18:41.030000",
          "2022-04-17T16:55:56.417000",
          "2022-04-17T21:29:00.027000",
          "2022-04-17T23:51:56.454000",
          "2022-04-18T04:14:49.887000",
          "2022-04-18T04:52:27.138000",
          "2022-04-18T07:26:24.483000",
          "2022-04-18T11:06:20.335000",
          "2022-04-18T13:31:47.587000",
          "2022-04-18T15:07:11.453000",
          "2022-04-18T17:09:28.109000",
          "2022-04-18T17:56:48.597000",
          "2022-04-18T18:30:09.170000",
          "2022-04-18T20:15:02.922000",
          "2022-04-19T00:03:11.747000",
          "2022-04-19T03:38:25.721000",
          "2022-04-19T09:32:25.687000",
          "2022-04-19T13:03:38.681000",
          "2022-04-19T14:01:37.581000",
          "2022-04-19T15:26:19.468000",
          "2022-04-19T18:17:02.052000",
          "2022-04-19T23:30:06.808000"
         ],
         "xaxis": "x",
         "yaxis": "y"
        },
        {
         "marker": {
          "color": "darkblue"
         },
         "showlegend": false,
         "type": "bar",
         "x": [
          "2022-04-06T00:01:02.140000",
          "2022-04-06T00:30:45.929000",
          "2022-04-06T04:19:38.633000",
          "2022-04-06T08:59:38.487000",
          "2022-04-06T11:28:52.444000",
          "2022-04-06T13:38:21.562000",
          "2022-04-06T14:04:45.740000",
          "2022-04-06T15:04:46.087000",
          "2022-04-06T16:25:36.228000",
          "2022-04-06T17:31:46.751000",
          "2022-04-06T18:30:29.490000",
          "2022-04-06T19:55:05.051000",
          "2022-04-06T23:44:49.946000",
          "2022-04-07T01:04:30.375000",
          "2022-04-07T04:49:13.372000",
          "2022-04-07T09:12:00.859000",
          "2022-04-07T12:10:33.818000",
          "2022-04-07T14:41:04.231000",
          "2022-04-07T16:58:13.068000",
          "2022-04-07T20:38:34.565000",
          "2022-04-08T01:46:38.077000",
          "2022-04-08T07:52:35.893000",
          "2022-04-08T11:04:34.892000",
          "2022-04-08T13:26:05.034000",
          "2022-04-08T14:50:19.145000",
          "2022-04-08T17:04:02.670000",
          "2022-04-08T18:16:15.064000",
          "2022-04-08T20:02:17.843000",
          "2022-04-08T23:30:48.538000",
          "2022-04-09T04:24:27.318000",
          "2022-04-09T12:35:22.543000",
          "2022-04-09T18:01:51.351000",
          "2022-04-10T03:01:07.803000",
          "2022-04-10T12:07:28.558000",
          "2022-04-10T17:35:52.850000",
          "2022-04-10T22:10:04.705000",
          "2022-04-10T23:17:52.773000",
          "2022-04-11T02:02:53.789000",
          "2022-04-11T04:00:56.565000",
          "2022-04-11T08:56:58.657000",
          "2022-04-11T10:02:29.082000",
          "2022-04-11T11:32:06.570000",
          "2022-04-11T12:51:57.628000",
          "2022-04-11T14:18:20.093000",
          "2022-04-11T16:13:43.831000",
          "2022-04-11T17:43:43.787000",
          "2022-04-11T19:31:25.330000",
          "2022-04-11T20:28:43.142000",
          "2022-04-11T22:13:26.859000",
          "2022-04-12T00:03:12.264000",
          "2022-04-12T02:08:34.325000",
          "2022-04-12T04:51:20.759000",
          "2022-04-12T07:01:36.499000",
          "2022-04-12T09:06:00.287000",
          "2022-04-12T12:10:07.234000",
          "2022-04-12T12:53:33.751000",
          "2022-04-12T14:04:23.490000",
          "2022-04-12T15:28:20.188000",
          "2022-04-12T17:46:12.854000",
          "2022-04-12T19:37:07.242000",
          "2022-04-12T22:36:15.628000",
          "2022-04-13T01:50:15.171000",
          "2022-04-13T07:08:32.729000",
          "2022-04-13T11:20:21.255000",
          "2022-04-13T13:45:13.023000",
          "2022-04-13T14:29:53.672000",
          "2022-04-13T15:34:21.110000",
          "2022-04-13T17:26:11.414000",
          "2022-04-13T20:18:15.967000",
          "2022-04-14T00:54:13.735000",
          "2022-04-14T05:41:07.876000",
          "2022-04-14T10:16:40.386000",
          "2022-04-14T13:27:10.729000",
          "2022-04-14T14:22:16.972000",
          "2022-04-14T16:00:55.278000",
          "2022-04-14T18:27:58.725000",
          "2022-04-14T22:46:57.565000",
          "2022-04-15T04:51:22.169000",
          "2022-04-15T08:51:47.602000",
          "2022-04-15T14:25:08.589000",
          "2022-04-15T16:44:49.708000",
          "2022-04-16T00:40:33.805000",
          "2022-04-16T09:54:40.546000",
          "2022-04-16T15:38:26.761000",
          "2022-04-16T23:00:00.895000",
          "2022-04-17T10:18:41.030000",
          "2022-04-17T16:55:56.417000",
          "2022-04-17T21:29:00.027000",
          "2022-04-17T23:51:56.454000",
          "2022-04-18T04:14:49.887000",
          "2022-04-18T04:52:27.138000",
          "2022-04-18T07:26:24.483000",
          "2022-04-18T11:06:20.335000",
          "2022-04-18T13:31:47.587000",
          "2022-04-18T15:07:11.453000",
          "2022-04-18T17:09:28.109000",
          "2022-04-18T17:56:48.597000",
          "2022-04-18T18:30:09.170000",
          "2022-04-18T20:15:02.922000",
          "2022-04-19T00:03:11.747000",
          "2022-04-19T03:38:25.721000",
          "2022-04-19T09:32:25.687000",
          "2022-04-19T13:03:38.681000",
          "2022-04-19T14:01:37.581000",
          "2022-04-19T15:26:19.468000",
          "2022-04-19T18:17:02.052000",
          "2022-04-19T23:30:06.808000"
         ],
         "xaxis": "x2",
         "y": [
          5000.003960000835,
          5000.01169000006,
          5000.2025799999055,
          5001.380629999615,
          5000.394230000073,
          5000.23316000018,
          5002.5295000002525,
          5000.084360000335,
          5000.053020000111,
          5000.193670000686,
          5000.286310001102,
          5000.026640000316,
          5000.059930001047,
          5000.484600000443,
          5000.000380000843,
          5000.015020000824,
          5000.230430000196,
          5000.1244300004355,
          5000.0169000004225,
          5000.172960000507,
          5000.030940000819,
          5000.0860000004695,
          5000.281800000531,
          5000.623650001351,
          5000.479070000661,
          5000.1199600008185,
          5000.0257300017165,
          5000.1399600005325,
          5000.167570000762,
          5002.0484700005245,
          5000.077310000386,
          5000.10749000028,
          5000.278130000457,
          5000.019920000248,
          5000.147440000085,
          5000.546270000281,
          5000.020800000197,
          5000.663010001847,
          5000.607799999881,
          5000.906150000808,
          5000.047360001309,
          5000.962990000429,
          5000.050880000875,
          5000.67456000021,
          5000.014910000416,
          5000.136660000584,
          5000.721840002101,
          5000.027720001125,
          5000.020640000433,
          5000.051780000489,
          5000.023010000179,
          5000.500440000273,
          5000.598400000772,
          5000.902940000239,
          5000.191010000345,
          5000.009860000413,
          5000.543730000405,
          5000.435940000251,
          5000.71937000116,
          5000.135720000621,
          5000.169640000304,
          5000.047480000931,
          5001.100640000581,
          5000.022930000438,
          5000.086610000701,
          5000.016560000981,
          5000.122400000326,
          5000.078770000575,
          5000.018670000562,
          5000.436470000129,
          5001.10775000004,
          5000.891740001051,
          5000.001500000419,
          5000.293550000167,
          5000.562330000133,
          5000.180389999733,
          5001.679000000209,
          5000.34654999977,
          5000.014010000381,
          5000.150890000674,
          5000.084169999995,
          5000.075969999792,
          5000.097190000081,
          5000.084129999845,
          5000.157619999893,
          5000.016499999737,
          5000.111419999562,
          5000.000530000637,
          5000.601359999997,
          5000.784069999962,
          5000.047170000147,
          5000.00660000065,
          5000.001750000157,
          5000.1452500003215,
          5000.003660000509,
          5000.318230000566,
          5000.069610000111,
          5000.0006700003805,
          5000.016840000203,
          5000.173670000644,
          5000.020210000941,
          5002.860650000522,
          5000.127660000091,
          5000.099690000172,
          5000.484580000421,
          5000.002580000905,
          5000.123530000932
         ],
         "yaxis": "y2"
        }
       ],
       "layout": {
        "height": 600,
        "paper_bgcolor": "white",
        "plot_bgcolor": "white",
        "template": {
         "data": {
          "bar": [
           {
            "error_x": {
             "color": "#2a3f5f"
            },
            "error_y": {
             "color": "#2a3f5f"
            },
            "marker": {
             "line": {
              "color": "#E5ECF6",
              "width": 0.5
             },
             "pattern": {
              "fillmode": "overlay",
              "size": 10,
              "solidity": 0.2
             }
            },
            "type": "bar"
           }
          ],
          "barpolar": [
           {
            "marker": {
             "line": {
              "color": "#E5ECF6",
              "width": 0.5
             },
             "pattern": {
              "fillmode": "overlay",
              "size": 10,
              "solidity": 0.2
             }
            },
            "type": "barpolar"
           }
          ],
          "carpet": [
           {
            "aaxis": {
             "endlinecolor": "#2a3f5f",
             "gridcolor": "white",
             "linecolor": "white",
             "minorgridcolor": "white",
             "startlinecolor": "#2a3f5f"
            },
            "baxis": {
             "endlinecolor": "#2a3f5f",
             "gridcolor": "white",
             "linecolor": "white",
             "minorgridcolor": "white",
             "startlinecolor": "#2a3f5f"
            },
            "type": "carpet"
           }
          ],
          "choropleth": [
           {
            "colorbar": {
             "outlinewidth": 0,
             "ticks": ""
            },
            "type": "choropleth"
           }
          ],
          "contour": [
           {
            "colorbar": {
             "outlinewidth": 0,
             "ticks": ""
            },
            "colorscale": [
             [
              0,
              "#0d0887"
             ],
             [
              0.1111111111111111,
              "#46039f"
             ],
             [
              0.2222222222222222,
              "#7201a8"
             ],
             [
              0.3333333333333333,
              "#9c179e"
             ],
             [
              0.4444444444444444,
              "#bd3786"
             ],
             [
              0.5555555555555556,
              "#d8576b"
             ],
             [
              0.6666666666666666,
              "#ed7953"
             ],
             [
              0.7777777777777778,
              "#fb9f3a"
             ],
             [
              0.8888888888888888,
              "#fdca26"
             ],
             [
              1,
              "#f0f921"
             ]
            ],
            "type": "contour"
           }
          ],
          "contourcarpet": [
           {
            "colorbar": {
             "outlinewidth": 0,
             "ticks": ""
            },
            "type": "contourcarpet"
           }
          ],
          "heatmap": [
           {
            "colorbar": {
             "outlinewidth": 0,
             "ticks": ""
            },
            "colorscale": [
             [
              0,
              "#0d0887"
             ],
             [
              0.1111111111111111,
              "#46039f"
             ],
             [
              0.2222222222222222,
              "#7201a8"
             ],
             [
              0.3333333333333333,
              "#9c179e"
             ],
             [
              0.4444444444444444,
              "#bd3786"
             ],
             [
              0.5555555555555556,
              "#d8576b"
             ],
             [
              0.6666666666666666,
              "#ed7953"
             ],
             [
              0.7777777777777778,
              "#fb9f3a"
             ],
             [
              0.8888888888888888,
              "#fdca26"
             ],
             [
              1,
              "#f0f921"
             ]
            ],
            "type": "heatmap"
           }
          ],
          "heatmapgl": [
           {
            "colorbar": {
             "outlinewidth": 0,
             "ticks": ""
            },
            "colorscale": [
             [
              0,
              "#0d0887"
             ],
             [
              0.1111111111111111,
              "#46039f"
             ],
             [
              0.2222222222222222,
              "#7201a8"
             ],
             [
              0.3333333333333333,
              "#9c179e"
             ],
             [
              0.4444444444444444,
              "#bd3786"
             ],
             [
              0.5555555555555556,
              "#d8576b"
             ],
             [
              0.6666666666666666,
              "#ed7953"
             ],
             [
              0.7777777777777778,
              "#fb9f3a"
             ],
             [
              0.8888888888888888,
              "#fdca26"
             ],
             [
              1,
              "#f0f921"
             ]
            ],
            "type": "heatmapgl"
           }
          ],
          "histogram": [
           {
            "marker": {
             "pattern": {
              "fillmode": "overlay",
              "size": 10,
              "solidity": 0.2
             }
            },
            "type": "histogram"
           }
          ],
          "histogram2d": [
           {
            "colorbar": {
             "outlinewidth": 0,
             "ticks": ""
            },
            "colorscale": [
             [
              0,
              "#0d0887"
             ],
             [
              0.1111111111111111,
              "#46039f"
             ],
             [
              0.2222222222222222,
              "#7201a8"
             ],
             [
              0.3333333333333333,
              "#9c179e"
             ],
             [
              0.4444444444444444,
              "#bd3786"
             ],
             [
              0.5555555555555556,
              "#d8576b"
             ],
             [
              0.6666666666666666,
              "#ed7953"
             ],
             [
              0.7777777777777778,
              "#fb9f3a"
             ],
             [
              0.8888888888888888,
              "#fdca26"
             ],
             [
              1,
              "#f0f921"
             ]
            ],
            "type": "histogram2d"
           }
          ],
          "histogram2dcontour": [
           {
            "colorbar": {
             "outlinewidth": 0,
             "ticks": ""
            },
            "colorscale": [
             [
              0,
              "#0d0887"
             ],
             [
              0.1111111111111111,
              "#46039f"
             ],
             [
              0.2222222222222222,
              "#7201a8"
             ],
             [
              0.3333333333333333,
              "#9c179e"
             ],
             [
              0.4444444444444444,
              "#bd3786"
             ],
             [
              0.5555555555555556,
              "#d8576b"
             ],
             [
              0.6666666666666666,
              "#ed7953"
             ],
             [
              0.7777777777777778,
              "#fb9f3a"
             ],
             [
              0.8888888888888888,
              "#fdca26"
             ],
             [
              1,
              "#f0f921"
             ]
            ],
            "type": "histogram2dcontour"
           }
          ],
          "mesh3d": [
           {
            "colorbar": {
             "outlinewidth": 0,
             "ticks": ""
            },
            "type": "mesh3d"
           }
          ],
          "parcoords": [
           {
            "line": {
             "colorbar": {
              "outlinewidth": 0,
              "ticks": ""
             }
            },
            "type": "parcoords"
           }
          ],
          "pie": [
           {
            "automargin": true,
            "type": "pie"
           }
          ],
          "scatter": [
           {
            "fillpattern": {
             "fillmode": "overlay",
             "size": 10,
             "solidity": 0.2
            },
            "type": "scatter"
           }
          ],
          "scatter3d": [
           {
            "line": {
             "colorbar": {
              "outlinewidth": 0,
              "ticks": ""
             }
            },
            "marker": {
             "colorbar": {
              "outlinewidth": 0,
              "ticks": ""
             }
            },
            "type": "scatter3d"
           }
          ],
          "scattercarpet": [
           {
            "marker": {
             "colorbar": {
              "outlinewidth": 0,
              "ticks": ""
             }
            },
            "type": "scattercarpet"
           }
          ],
          "scattergeo": [
           {
            "marker": {
             "colorbar": {
              "outlinewidth": 0,
              "ticks": ""
             }
            },
            "type": "scattergeo"
           }
          ],
          "scattergl": [
           {
            "marker": {
             "colorbar": {
              "outlinewidth": 0,
              "ticks": ""
             }
            },
            "type": "scattergl"
           }
          ],
          "scattermapbox": [
           {
            "marker": {
             "colorbar": {
              "outlinewidth": 0,
              "ticks": ""
             }
            },
            "type": "scattermapbox"
           }
          ],
          "scatterpolar": [
           {
            "marker": {
             "colorbar": {
              "outlinewidth": 0,
              "ticks": ""
             }
            },
            "type": "scatterpolar"
           }
          ],
          "scatterpolargl": [
           {
            "marker": {
             "colorbar": {
              "outlinewidth": 0,
              "ticks": ""
             }
            },
            "type": "scatterpolargl"
           }
          ],
          "scatterternary": [
           {
            "marker": {
             "colorbar": {
              "outlinewidth": 0,
              "ticks": ""
             }
            },
            "type": "scatterternary"
           }
          ],
          "surface": [
           {
            "colorbar": {
             "outlinewidth": 0,
             "ticks": ""
            },
            "colorscale": [
             [
              0,
              "#0d0887"
             ],
             [
              0.1111111111111111,
              "#46039f"
             ],
             [
              0.2222222222222222,
              "#7201a8"
             ],
             [
              0.3333333333333333,
              "#9c179e"
             ],
             [
              0.4444444444444444,
              "#bd3786"
             ],
             [
              0.5555555555555556,
              "#d8576b"
             ],
             [
              0.6666666666666666,
              "#ed7953"
             ],
             [
              0.7777777777777778,
              "#fb9f3a"
             ],
             [
              0.8888888888888888,
              "#fdca26"
             ],
             [
              1,
              "#f0f921"
             ]
            ],
            "type": "surface"
           }
          ],
          "table": [
           {
            "cells": {
             "fill": {
              "color": "#EBF0F8"
             },
             "line": {
              "color": "white"
             }
            },
            "header": {
             "fill": {
              "color": "#C8D4E3"
             },
             "line": {
              "color": "white"
             }
            },
            "type": "table"
           }
          ]
         },
         "layout": {
          "annotationdefaults": {
           "arrowcolor": "#2a3f5f",
           "arrowhead": 0,
           "arrowwidth": 1
          },
          "autotypenumbers": "strict",
          "coloraxis": {
           "colorbar": {
            "outlinewidth": 0,
            "ticks": ""
           }
          },
          "colorscale": {
           "diverging": [
            [
             0,
             "#8e0152"
            ],
            [
             0.1,
             "#c51b7d"
            ],
            [
             0.2,
             "#de77ae"
            ],
            [
             0.3,
             "#f1b6da"
            ],
            [
             0.4,
             "#fde0ef"
            ],
            [
             0.5,
             "#f7f7f7"
            ],
            [
             0.6,
             "#e6f5d0"
            ],
            [
             0.7,
             "#b8e186"
            ],
            [
             0.8,
             "#7fbc41"
            ],
            [
             0.9,
             "#4d9221"
            ],
            [
             1,
             "#276419"
            ]
           ],
           "sequential": [
            [
             0,
             "#0d0887"
            ],
            [
             0.1111111111111111,
             "#46039f"
            ],
            [
             0.2222222222222222,
             "#7201a8"
            ],
            [
             0.3333333333333333,
             "#9c179e"
            ],
            [
             0.4444444444444444,
             "#bd3786"
            ],
            [
             0.5555555555555556,
             "#d8576b"
            ],
            [
             0.6666666666666666,
             "#ed7953"
            ],
            [
             0.7777777777777778,
             "#fb9f3a"
            ],
            [
             0.8888888888888888,
             "#fdca26"
            ],
            [
             1,
             "#f0f921"
            ]
           ],
           "sequentialminus": [
            [
             0,
             "#0d0887"
            ],
            [
             0.1111111111111111,
             "#46039f"
            ],
            [
             0.2222222222222222,
             "#7201a8"
            ],
            [
             0.3333333333333333,
             "#9c179e"
            ],
            [
             0.4444444444444444,
             "#bd3786"
            ],
            [
             0.5555555555555556,
             "#d8576b"
            ],
            [
             0.6666666666666666,
             "#ed7953"
            ],
            [
             0.7777777777777778,
             "#fb9f3a"
            ],
            [
             0.8888888888888888,
             "#fdca26"
            ],
            [
             1,
             "#f0f921"
            ]
           ]
          },
          "colorway": [
           "#636efa",
           "#EF553B",
           "#00cc96",
           "#ab63fa",
           "#FFA15A",
           "#19d3f3",
           "#FF6692",
           "#B6E880",
           "#FF97FF",
           "#FECB52"
          ],
          "font": {
           "color": "#2a3f5f"
          },
          "geo": {
           "bgcolor": "white",
           "lakecolor": "white",
           "landcolor": "#E5ECF6",
           "showlakes": true,
           "showland": true,
           "subunitcolor": "white"
          },
          "hoverlabel": {
           "align": "left"
          },
          "hovermode": "closest",
          "mapbox": {
           "style": "light"
          },
          "paper_bgcolor": "white",
          "plot_bgcolor": "#E5ECF6",
          "polar": {
           "angularaxis": {
            "gridcolor": "white",
            "linecolor": "white",
            "ticks": ""
           },
           "bgcolor": "#E5ECF6",
           "radialaxis": {
            "gridcolor": "white",
            "linecolor": "white",
            "ticks": ""
           }
          },
          "scene": {
           "xaxis": {
            "backgroundcolor": "#E5ECF6",
            "gridcolor": "white",
            "gridwidth": 2,
            "linecolor": "white",
            "showbackground": true,
            "ticks": "",
            "zerolinecolor": "white"
           },
           "yaxis": {
            "backgroundcolor": "#E5ECF6",
            "gridcolor": "white",
            "gridwidth": 2,
            "linecolor": "white",
            "showbackground": true,
            "ticks": "",
            "zerolinecolor": "white"
           },
           "zaxis": {
            "backgroundcolor": "#E5ECF6",
            "gridcolor": "white",
            "gridwidth": 2,
            "linecolor": "white",
            "showbackground": true,
            "ticks": "",
            "zerolinecolor": "white"
           }
          },
          "shapedefaults": {
           "line": {
            "color": "#2a3f5f"
           }
          },
          "ternary": {
           "aaxis": {
            "gridcolor": "white",
            "linecolor": "white",
            "ticks": ""
           },
           "baxis": {
            "gridcolor": "white",
            "linecolor": "white",
            "ticks": ""
           },
           "bgcolor": "#E5ECF6",
           "caxis": {
            "gridcolor": "white",
            "linecolor": "white",
            "ticks": ""
           }
          },
          "title": {
           "x": 0.05
          },
          "xaxis": {
           "automargin": true,
           "gridcolor": "white",
           "linecolor": "white",
           "ticks": "",
           "title": {
            "standoff": 15
           },
           "zerolinecolor": "white",
           "zerolinewidth": 2
          },
          "yaxis": {
           "automargin": true,
           "gridcolor": "white",
           "linecolor": "white",
           "ticks": "",
           "title": {
            "standoff": 15
           },
           "zerolinecolor": "white",
           "zerolinewidth": 2
          }
         }
        },
        "width": 900,
        "xaxis": {
         "anchor": "y",
         "domain": [
          0,
          1
         ],
         "gridcolor": "lightgray",
         "linecolor": "lightgray",
         "linewidth": 1,
         "matches": "x2",
         "mirror": true,
         "rangeslider": {
          "visible": false
         },
         "showgrid": true,
         "showticklabels": false
        },
        "xaxis2": {
         "anchor": "y2",
         "domain": [
          0,
          1
         ],
         "gridcolor": "lightgray",
         "linecolor": "lightgray",
         "linewidth": 1,
         "mirror": true,
         "showgrid": true
        },
        "yaxis": {
         "anchor": "x",
         "domain": [
          0.37,
          1
         ],
         "gridcolor": "lightgray",
         "linecolor": "gray",
         "linewidth": 1,
         "mirror": true,
         "showgrid": true,
         "showline": true,
         "title": {
          "text": "Price (USD)"
         }
        },
        "yaxis2": {
         "anchor": "x2",
         "domain": [
          0,
          0.27
         ],
         "gridcolor": "lightgray",
         "linecolor": "gray",
         "linewidth": 1,
         "mirror": true,
         "showgrid": true,
         "showline": true,
         "title": {
          "text": "Volume"
         }
        }
       }
      }
     },
     "metadata": {},
     "output_type": "display_data"
    }
   ],
   "source": [
    "plot_candlestick_with_volume(btc_vol_subset, 'btc_vol_5000')"
   ]
  },
  {
   "cell_type": "code",
   "execution_count": 35,
   "metadata": {},
   "outputs": [
    {
     "data": {
      "application/vnd.plotly.v1+json": {
       "config": {
        "plotlyServerURL": "https://plot.ly"
       },
       "data": [
        {
         "close": [
          45419.88,
          44792.98,
          45183.64,
          45340.18,
          45129.82,
          44892.15,
          44270.48,
          43942.04,
          44133.76,
          43820.2,
          43717.4,
          43417.38,
          43711.47,
          43603.4,
          42957.32,
          43361.68,
          43410.6,
          43510,
          43393.46,
          43394.57,
          43618.2,
          43523.86,
          43645.08,
          43472.86,
          43526.43,
          43055.64,
          43427.26,
          43740.27,
          42929.19,
          43111.08,
          42535,
          42347.04,
          42473.84,
          42364.17,
          42545.43,
          42750.85,
          42662.16,
          43142.96,
          42625.74,
          42208.25,
          42350.91,
          41921.47,
          42307.31,
          41566.87,
          41590.66,
          41000.01,
          40941.06,
          40800,
          40763.74,
          40223.21,
          39710.96,
          39585,
          39737.05,
          39541.97,
          39731.9,
          40080.3,
          40125.37,
          40129.01,
          40641.05,
          40278.68,
          39997.32,
          40008.44,
          39749.79,
          39521.9,
          40182.35,
          39967.31,
          40056.2,
          39720.82,
          40647.33,
          40875.02,
          41121.6,
          41348.05,
          41314.75,
          41372,
          41288,
          40962.07,
          40671.41,
          40444.42,
          39911.85,
          39732.89,
          39780,
          40031.9,
          40260.99,
          40833.15,
          40443.07,
          40475.82,
          40403.28,
          40217.9,
          40300.99,
          40440,
          40078.35,
          40287.53,
          39768.12,
          39101.79,
          38727.59,
          38986.22,
          39262.29,
          39333.14,
          39225.42,
          40118.01,
          40690.35,
          40667.5,
          41051.84,
          41245.66,
          40702.74,
          40748.65,
          41034.26,
          41597.43,
          41484.97,
          41405.05
         ],
         "high": [
          46050.22,
          45496.27,
          45368.29,
          45507.14,
          45453.94,
          45150,
          44999.99,
          44399,
          44496.97,
          44274.8,
          43929.91,
          44298.61,
          43973.01,
          44041.1,
          43607.27,
          43430,
          43497.63,
          43553.14,
          43900.99,
          43781.97,
          43684.16,
          43819.99,
          43750,
          43694.15,
          43970.62,
          43612.17,
          43431.83,
          43961.99,
          43760.79,
          43320.76,
          43192.67,
          42666.27,
          42640,
          42540,
          42631.69,
          42896.64,
          42850,
          43150,
          43410.3,
          42733.47,
          42434.51,
          42414.71,
          42350.29,
          42350,
          41646.55,
          41607.67,
          41246.61,
          41220.9,
          40908,
          40763.74,
          40260.32,
          40269.6,
          39978.62,
          39852.95,
          39731.9,
          40145,
          40196.39,
          40344.6,
          40699,
          40650,
          40511.68,
          40376.8,
          40227.03,
          39760.82,
          40289.02,
          40275,
          40228.41,
          40199.99,
          40699.99,
          40990,
          41411,
          41359,
          41561.31,
          41500,
          41466.75,
          41324.93,
          41300,
          40814.82,
          40483.66,
          40060.05,
          40180,
          40266.47,
          40449.96,
          40870.36,
          40834.53,
          40709.35,
          40563.46,
          40577.57,
          40699.55,
          40529.79,
          40595.67,
          40459.52,
          40287.53,
          39896.98,
          39175.84,
          39070.05,
          39268.68,
          39620.8,
          39569.92,
          40370.8,
          40727.27,
          41116.73,
          41099,
          41250,
          41263.43,
          40854.82,
          41104,
          41687.14,
          41760,
          41546.63
         ],
         "low": [
          45350,
          44412,
          44758.88,
          45119,
          45008.02,
          44665.91,
          44250,
          43769.17,
          43933,
          43705.64,
          43393.74,
          43177.11,
          43351.27,
          43484.71,
          42880.78,
          42727.35,
          43157,
          43269.5,
          43302.01,
          43330.09,
          43024.86,
          43375.36,
          43208,
          43416.74,
          43438.19,
          43034.11,
          42751.01,
          43300.12,
          42801.26,
          42414,
          42450.88,
          42107.14,
          42125.48,
          42322.72,
          42158.67,
          42390,
          42433.49,
          42525,
          42625.74,
          41868,
          41755,
          41800,
          41872.5,
          41543.08,
          41215,
          40968.11,
          40684.8,
          40716.37,
          40485.12,
          40223.21,
          39700,
          39500,
          39200,
          39357.64,
          39290,
          39624.71,
          39834.98,
          40016.09,
          40129.01,
          40250,
          39800,
          39910.4,
          39632,
          39254.63,
          39473.91,
          39588.54,
          39858.34,
          39648.78,
          39622.87,
          40365,
          40869.98,
          40829,
          41000,
          41064.35,
          41156.9,
          40941.69,
          40668,
          40310.41,
          39855.75,
          39551.94,
          39662.46,
          39766.4,
          39953.2,
          39900,
          40203.68,
          40276,
          40277,
          39991.55,
          40096.4,
          40122.05,
          40050,
          39833.31,
          39546.17,
          39078,
          38536.51,
          38655.88,
          38799,
          39186.66,
          39122.78,
          39000,
          39785.33,
          40573.18,
          40421.67,
          40710,
          40601,
          40571,
          40662.26,
          40944.36,
          41371.81,
          41167.92
         ],
         "open": [
          45859.98,
          45419.88,
          44792.99,
          45183.63,
          45340.18,
          45129.83,
          44892.15,
          44270.49,
          43942.04,
          44134.2,
          43820.2,
          43717.39,
          43414.42,
          43709.47,
          43603.4,
          42957.32,
          43361.67,
          43410.6,
          43510,
          43393.16,
          43394.57,
          43618.2,
          43523.67,
          43645.08,
          43472.86,
          43526.43,
          43055.64,
          43427.26,
          43740.27,
          42929.19,
          43108.04,
          42535,
          42347.04,
          42473.84,
          42364.17,
          42545.43,
          42750.86,
          42662.16,
          43142.96,
          42625.75,
          42208.34,
          42350.91,
          41920.91,
          42307.31,
          41566.87,
          41590.66,
          41000.01,
          40941.06,
          40800,
          40763.73,
          40223.2,
          39710.96,
          39582.57,
          39735.39,
          39541.97,
          39731.9,
          40080.31,
          40125.38,
          40129.01,
          40641.05,
          40278.68,
          39997.32,
          40008.43,
          39749.79,
          39521.9,
          40182.35,
          39967.32,
          40056.2,
          39722,
          40647.33,
          40875.02,
          41121.6,
          41348.05,
          41314.75,
          41372,
          41288,
          40962.07,
          40669.55,
          40444.17,
          39911.01,
          39732.89,
          39780,
          40031.9,
          40260.99,
          40831.75,
          40443.08,
          40475.82,
          40403.28,
          40217.9,
          40300.72,
          40440.85,
          40078.35,
          40287.53,
          39768.12,
          39101.79,
          38727.6,
          38986.22,
          39262.3,
          39333.14,
          39225.42,
          40118.02,
          40689.97,
          40667.5,
          41051.99,
          41244.83,
          40702.75,
          40748.65,
          41034.26,
          41595.89,
          41484.97
         ],
         "showlegend": false,
         "type": "candlestick",
         "x": [
          "2022-04-06T00:02:06.006000",
          "2022-04-06T00:25:50.324000",
          "2022-04-06T03:10:57.304000",
          "2022-04-06T07:37:59.577000",
          "2022-04-06T10:57:40.973000",
          "2022-04-06T12:12:47.320000",
          "2022-04-06T13:49:10.853000",
          "2022-04-06T14:08:00.095000",
          "2022-04-06T15:15:24.719000",
          "2022-04-06T16:31:22.676000",
          "2022-04-06T17:28:22.056000",
          "2022-04-06T18:25:43.306000",
          "2022-04-06T19:25:34.211000",
          "2022-04-06T23:00:57.649000",
          "2022-04-07T00:51:45.504000",
          "2022-04-07T02:57:27.906000",
          "2022-04-07T07:00:12.525000",
          "2022-04-07T11:08:30.037000",
          "2022-04-07T13:10:24.739000",
          "2022-04-07T15:11:47.908000",
          "2022-04-07T17:20:49.916000",
          "2022-04-07T21:15:10.202000",
          "2022-04-08T01:53:01.755000",
          "2022-04-08T07:40:44.606000",
          "2022-04-08T10:15:43.153000",
          "2022-04-08T13:08:37.667000",
          "2022-04-08T14:24:29.843000",
          "2022-04-08T15:47:27.849000",
          "2022-04-08T17:50:08.705000",
          "2022-04-08T18:53:12.355000",
          "2022-04-08T21:54:12.443000",
          "2022-04-09T00:52:59.748000",
          "2022-04-09T06:35:07.074000",
          "2022-04-09T14:23:12.132000",
          "2022-04-09T19:46:59.821000",
          "2022-04-10T04:16:40.359000",
          "2022-04-10T12:25:40.066000",
          "2022-04-10T17:35:50.930000",
          "2022-04-10T22:01:24.493000",
          "2022-04-10T23:10:38.860000",
          "2022-04-11T01:15:51.718000",
          "2022-04-11T03:04:29.052000",
          "2022-04-11T07:59:50.353000",
          "2022-04-11T09:59:13.022000",
          "2022-04-11T10:59:56.008000",
          "2022-04-11T12:09:40.433000",
          "2022-04-11T13:42:18.607000",
          "2022-04-11T15:28:46.559000",
          "2022-04-11T17:15:06.719000",
          "2022-04-11T19:22:37.534000",
          "2022-04-11T20:06:30.428000",
          "2022-04-11T21:36:42.103000",
          "2022-04-11T23:05:39.367000",
          "2022-04-12T01:02:03.592000",
          "2022-04-12T03:45:25.581000",
          "2022-04-12T05:58:19.259000",
          "2022-04-12T08:04:25.059000",
          "2022-04-12T11:11:08.951000",
          "2022-04-12T12:34:25.068000",
          "2022-04-12T13:36:33.649000",
          "2022-04-12T14:39:24.266000",
          "2022-04-12T16:31:03.615000",
          "2022-04-12T18:49:36.664000",
          "2022-04-12T20:58:05.033000",
          "2022-04-13T00:09:00.532000",
          "2022-04-13T04:34:02.257000",
          "2022-04-13T09:40:28.985000",
          "2022-04-13T12:58:18.944000",
          "2022-04-13T14:14:28.569000",
          "2022-04-13T15:15:29.471000",
          "2022-04-13T16:41:26.357000",
          "2022-04-13T18:53:58.055000",
          "2022-04-13T22:40:06.622000",
          "2022-04-14T02:33:01.847000",
          "2022-04-14T07:52:43.044000",
          "2022-04-14T11:21:29.068000",
          "2022-04-14T13:45:38.291000",
          "2022-04-14T15:00:13.255000",
          "2022-04-14T16:33:39.868000",
          "2022-04-14T19:12:07.947000",
          "2022-04-15T00:45:43.485000",
          "2022-04-15T06:58:48.495000",
          "2022-04-15T10:46:46.659000",
          "2022-04-15T14:50:14.072000",
          "2022-04-15T17:49:31.892000",
          "2022-04-16T03:04:57.434000",
          "2022-04-16T11:55:14.918000",
          "2022-04-16T16:58:35.895000",
          "2022-04-17T02:28:04.685000",
          "2022-04-17T13:14:42.203000",
          "2022-04-17T18:00:10.779000",
          "2022-04-17T22:32:01.757000",
          "2022-04-18T00:16:35.030000",
          "2022-04-18T04:19:42.499000",
          "2022-04-18T05:08:01.068000",
          "2022-04-18T08:21:51.572000",
          "2022-04-18T12:18:08.635000",
          "2022-04-18T13:53:03.849000",
          "2022-04-18T16:08:47.355000",
          "2022-04-18T17:16:26.907000",
          "2022-04-18T18:15:49.634000",
          "2022-04-18T19:01:10.398000",
          "2022-04-18T21:23:21.252000",
          "2022-04-19T00:32:11.318000",
          "2022-04-19T05:27:27.539000",
          "2022-04-19T10:54:06.506000",
          "2022-04-19T13:34:19.040000",
          "2022-04-19T14:08:24.054000",
          "2022-04-19T15:50:42.802000",
          "2022-04-19T19:00:22.256000"
         ],
         "xaxis": "x",
         "yaxis": "y"
        },
        {
         "marker": {
          "color": "darkblue"
         },
         "showlegend": false,
         "type": "bar",
         "x": [
          "2022-04-06T00:02:06.006000",
          "2022-04-06T00:25:50.324000",
          "2022-04-06T03:10:57.304000",
          "2022-04-06T07:37:59.577000",
          "2022-04-06T10:57:40.973000",
          "2022-04-06T12:12:47.320000",
          "2022-04-06T13:49:10.853000",
          "2022-04-06T14:08:00.095000",
          "2022-04-06T15:15:24.719000",
          "2022-04-06T16:31:22.676000",
          "2022-04-06T17:28:22.056000",
          "2022-04-06T18:25:43.306000",
          "2022-04-06T19:25:34.211000",
          "2022-04-06T23:00:57.649000",
          "2022-04-07T00:51:45.504000",
          "2022-04-07T02:57:27.906000",
          "2022-04-07T07:00:12.525000",
          "2022-04-07T11:08:30.037000",
          "2022-04-07T13:10:24.739000",
          "2022-04-07T15:11:47.908000",
          "2022-04-07T17:20:49.916000",
          "2022-04-07T21:15:10.202000",
          "2022-04-08T01:53:01.755000",
          "2022-04-08T07:40:44.606000",
          "2022-04-08T10:15:43.153000",
          "2022-04-08T13:08:37.667000",
          "2022-04-08T14:24:29.843000",
          "2022-04-08T15:47:27.849000",
          "2022-04-08T17:50:08.705000",
          "2022-04-08T18:53:12.355000",
          "2022-04-08T21:54:12.443000",
          "2022-04-09T00:52:59.748000",
          "2022-04-09T06:35:07.074000",
          "2022-04-09T14:23:12.132000",
          "2022-04-09T19:46:59.821000",
          "2022-04-10T04:16:40.359000",
          "2022-04-10T12:25:40.066000",
          "2022-04-10T17:35:50.930000",
          "2022-04-10T22:01:24.493000",
          "2022-04-10T23:10:38.860000",
          "2022-04-11T01:15:51.718000",
          "2022-04-11T03:04:29.052000",
          "2022-04-11T07:59:50.353000",
          "2022-04-11T09:59:13.022000",
          "2022-04-11T10:59:56.008000",
          "2022-04-11T12:09:40.433000",
          "2022-04-11T13:42:18.607000",
          "2022-04-11T15:28:46.559000",
          "2022-04-11T17:15:06.719000",
          "2022-04-11T19:22:37.534000",
          "2022-04-11T20:06:30.428000",
          "2022-04-11T21:36:42.103000",
          "2022-04-11T23:05:39.367000",
          "2022-04-12T01:02:03.592000",
          "2022-04-12T03:45:25.581000",
          "2022-04-12T05:58:19.259000",
          "2022-04-12T08:04:25.059000",
          "2022-04-12T11:11:08.951000",
          "2022-04-12T12:34:25.068000",
          "2022-04-12T13:36:33.649000",
          "2022-04-12T14:39:24.266000",
          "2022-04-12T16:31:03.615000",
          "2022-04-12T18:49:36.664000",
          "2022-04-12T20:58:05.033000",
          "2022-04-13T00:09:00.532000",
          "2022-04-13T04:34:02.257000",
          "2022-04-13T09:40:28.985000",
          "2022-04-13T12:58:18.944000",
          "2022-04-13T14:14:28.569000",
          "2022-04-13T15:15:29.471000",
          "2022-04-13T16:41:26.357000",
          "2022-04-13T18:53:58.055000",
          "2022-04-13T22:40:06.622000",
          "2022-04-14T02:33:01.847000",
          "2022-04-14T07:52:43.044000",
          "2022-04-14T11:21:29.068000",
          "2022-04-14T13:45:38.291000",
          "2022-04-14T15:00:13.255000",
          "2022-04-14T16:33:39.868000",
          "2022-04-14T19:12:07.947000",
          "2022-04-15T00:45:43.485000",
          "2022-04-15T06:58:48.495000",
          "2022-04-15T10:46:46.659000",
          "2022-04-15T14:50:14.072000",
          "2022-04-15T17:49:31.892000",
          "2022-04-16T03:04:57.434000",
          "2022-04-16T11:55:14.918000",
          "2022-04-16T16:58:35.895000",
          "2022-04-17T02:28:04.685000",
          "2022-04-17T13:14:42.203000",
          "2022-04-17T18:00:10.779000",
          "2022-04-17T22:32:01.757000",
          "2022-04-18T00:16:35.030000",
          "2022-04-18T04:19:42.499000",
          "2022-04-18T05:08:01.068000",
          "2022-04-18T08:21:51.572000",
          "2022-04-18T12:18:08.635000",
          "2022-04-18T13:53:03.849000",
          "2022-04-18T16:08:47.355000",
          "2022-04-18T17:16:26.907000",
          "2022-04-18T18:15:49.634000",
          "2022-04-18T19:01:10.398000",
          "2022-04-18T21:23:21.252000",
          "2022-04-19T00:32:11.318000",
          "2022-04-19T05:27:27.539000",
          "2022-04-19T10:54:06.506000",
          "2022-04-19T13:34:19.040000",
          "2022-04-19T14:08:24.054000",
          "2022-04-19T15:50:42.802000",
          "2022-04-19T19:00:22.256000"
         ],
         "xaxis": "x2",
         "y": [
          4373.648760000609,
          4449.349280000188,
          4433.122490000262,
          4411.2558400002135,
          4418.986450000344,
          4458.016950000428,
          4470.1530600004135,
          4533.354670000051,
          4527.813460000433,
          4545.506340000712,
          4581.588660000569,
          4566.688980000992,
          4576.270870000331,
          4566.862390000692,
          4620.746590000751,
          4640.83240000075,
          4614.656040000823,
          4604.78567000049,
          4581.919870000592,
          4596.2906500007775,
          4612.728310000586,
          4587.859960000575,
          4597.913450000499,
          4589.383870000603,
          4575.118670000756,
          4614.881790001129,
          4648.372880000584,
          4577.901240000643,
          4624.673430000731,
          4677.724160000558,
          4669.627250000424,
          4727.221430000697,
          4717.619440000691,
          4711.356080000509,
          4715.4555000005275,
          4687.030170000966,
          4690.266960000344,
          4676.0081199999895,
          4637.003790000394,
          4737.444579999982,
          4742.348060000019,
          4759.617530000642,
          4741.593500000968,
          4764.022120000882,
          4847.233269999913,
          4858.599520000303,
          4874.716900000262,
          4883.19588000033,
          4915.133160000339,
          4948.154990000078,
          5003.480440000776,
          5024.478870000406,
          5046.999220000328,
          5049.137540000596,
          5059.9771300000775,
          5013.480650002668,
          4994.129120000591,
          4978.045360000234,
          4950.652380000392,
          4938.091260000445,
          4977.082350000332,
          4982.911660000427,
          5007.764580000629,
          5065.191990000368,
          5019.714790000486,
          5005.515749999914,
          4987.520580000738,
          5018.038810000263,
          4967.574510000215,
          4908.019380001453,
          4853.834260000441,
          4870.476860000344,
          4850.140440000739,
          4847.649090000105,
          4842.884140000713,
          4863.64658000048,
          4877.414370000454,
          4937.1822799997435,
          4989.645709999876,
          5019.406639999707,
          5021.086849999836,
          4993.803999999936,
          4977.28755000004,
          4972.146390000822,
          4943.381019999979,
          4943.184619999954,
          4948.6737800001065,
          4964.494449999767,
          4953.377559999647,
          4956.214799999453,
          4956.126389999926,
          4978.773920000193,
          5027.831670000386,
          5043.158200000242,
          5145.11377000062,
          5137.592630000457,
          5129.339550000078,
          5078.771640000151,
          5084.572300000792,
          5044.289130000441,
          4980.675210000518,
          4901.686460002045,
          4916.836890000913,
          4891.581610000711,
          4902.54230000062,
          4912.504710000276,
          4891.024380000094,
          4835.517120000164,
          4813.469270000358,
          4833.913490000672
         ],
         "yaxis": "y2"
        }
       ],
       "layout": {
        "height": 600,
        "paper_bgcolor": "white",
        "plot_bgcolor": "white",
        "template": {
         "data": {
          "bar": [
           {
            "error_x": {
             "color": "#2a3f5f"
            },
            "error_y": {
             "color": "#2a3f5f"
            },
            "marker": {
             "line": {
              "color": "#E5ECF6",
              "width": 0.5
             },
             "pattern": {
              "fillmode": "overlay",
              "size": 10,
              "solidity": 0.2
             }
            },
            "type": "bar"
           }
          ],
          "barpolar": [
           {
            "marker": {
             "line": {
              "color": "#E5ECF6",
              "width": 0.5
             },
             "pattern": {
              "fillmode": "overlay",
              "size": 10,
              "solidity": 0.2
             }
            },
            "type": "barpolar"
           }
          ],
          "carpet": [
           {
            "aaxis": {
             "endlinecolor": "#2a3f5f",
             "gridcolor": "white",
             "linecolor": "white",
             "minorgridcolor": "white",
             "startlinecolor": "#2a3f5f"
            },
            "baxis": {
             "endlinecolor": "#2a3f5f",
             "gridcolor": "white",
             "linecolor": "white",
             "minorgridcolor": "white",
             "startlinecolor": "#2a3f5f"
            },
            "type": "carpet"
           }
          ],
          "choropleth": [
           {
            "colorbar": {
             "outlinewidth": 0,
             "ticks": ""
            },
            "type": "choropleth"
           }
          ],
          "contour": [
           {
            "colorbar": {
             "outlinewidth": 0,
             "ticks": ""
            },
            "colorscale": [
             [
              0,
              "#0d0887"
             ],
             [
              0.1111111111111111,
              "#46039f"
             ],
             [
              0.2222222222222222,
              "#7201a8"
             ],
             [
              0.3333333333333333,
              "#9c179e"
             ],
             [
              0.4444444444444444,
              "#bd3786"
             ],
             [
              0.5555555555555556,
              "#d8576b"
             ],
             [
              0.6666666666666666,
              "#ed7953"
             ],
             [
              0.7777777777777778,
              "#fb9f3a"
             ],
             [
              0.8888888888888888,
              "#fdca26"
             ],
             [
              1,
              "#f0f921"
             ]
            ],
            "type": "contour"
           }
          ],
          "contourcarpet": [
           {
            "colorbar": {
             "outlinewidth": 0,
             "ticks": ""
            },
            "type": "contourcarpet"
           }
          ],
          "heatmap": [
           {
            "colorbar": {
             "outlinewidth": 0,
             "ticks": ""
            },
            "colorscale": [
             [
              0,
              "#0d0887"
             ],
             [
              0.1111111111111111,
              "#46039f"
             ],
             [
              0.2222222222222222,
              "#7201a8"
             ],
             [
              0.3333333333333333,
              "#9c179e"
             ],
             [
              0.4444444444444444,
              "#bd3786"
             ],
             [
              0.5555555555555556,
              "#d8576b"
             ],
             [
              0.6666666666666666,
              "#ed7953"
             ],
             [
              0.7777777777777778,
              "#fb9f3a"
             ],
             [
              0.8888888888888888,
              "#fdca26"
             ],
             [
              1,
              "#f0f921"
             ]
            ],
            "type": "heatmap"
           }
          ],
          "heatmapgl": [
           {
            "colorbar": {
             "outlinewidth": 0,
             "ticks": ""
            },
            "colorscale": [
             [
              0,
              "#0d0887"
             ],
             [
              0.1111111111111111,
              "#46039f"
             ],
             [
              0.2222222222222222,
              "#7201a8"
             ],
             [
              0.3333333333333333,
              "#9c179e"
             ],
             [
              0.4444444444444444,
              "#bd3786"
             ],
             [
              0.5555555555555556,
              "#d8576b"
             ],
             [
              0.6666666666666666,
              "#ed7953"
             ],
             [
              0.7777777777777778,
              "#fb9f3a"
             ],
             [
              0.8888888888888888,
              "#fdca26"
             ],
             [
              1,
              "#f0f921"
             ]
            ],
            "type": "heatmapgl"
           }
          ],
          "histogram": [
           {
            "marker": {
             "pattern": {
              "fillmode": "overlay",
              "size": 10,
              "solidity": 0.2
             }
            },
            "type": "histogram"
           }
          ],
          "histogram2d": [
           {
            "colorbar": {
             "outlinewidth": 0,
             "ticks": ""
            },
            "colorscale": [
             [
              0,
              "#0d0887"
             ],
             [
              0.1111111111111111,
              "#46039f"
             ],
             [
              0.2222222222222222,
              "#7201a8"
             ],
             [
              0.3333333333333333,
              "#9c179e"
             ],
             [
              0.4444444444444444,
              "#bd3786"
             ],
             [
              0.5555555555555556,
              "#d8576b"
             ],
             [
              0.6666666666666666,
              "#ed7953"
             ],
             [
              0.7777777777777778,
              "#fb9f3a"
             ],
             [
              0.8888888888888888,
              "#fdca26"
             ],
             [
              1,
              "#f0f921"
             ]
            ],
            "type": "histogram2d"
           }
          ],
          "histogram2dcontour": [
           {
            "colorbar": {
             "outlinewidth": 0,
             "ticks": ""
            },
            "colorscale": [
             [
              0,
              "#0d0887"
             ],
             [
              0.1111111111111111,
              "#46039f"
             ],
             [
              0.2222222222222222,
              "#7201a8"
             ],
             [
              0.3333333333333333,
              "#9c179e"
             ],
             [
              0.4444444444444444,
              "#bd3786"
             ],
             [
              0.5555555555555556,
              "#d8576b"
             ],
             [
              0.6666666666666666,
              "#ed7953"
             ],
             [
              0.7777777777777778,
              "#fb9f3a"
             ],
             [
              0.8888888888888888,
              "#fdca26"
             ],
             [
              1,
              "#f0f921"
             ]
            ],
            "type": "histogram2dcontour"
           }
          ],
          "mesh3d": [
           {
            "colorbar": {
             "outlinewidth": 0,
             "ticks": ""
            },
            "type": "mesh3d"
           }
          ],
          "parcoords": [
           {
            "line": {
             "colorbar": {
              "outlinewidth": 0,
              "ticks": ""
             }
            },
            "type": "parcoords"
           }
          ],
          "pie": [
           {
            "automargin": true,
            "type": "pie"
           }
          ],
          "scatter": [
           {
            "fillpattern": {
             "fillmode": "overlay",
             "size": 10,
             "solidity": 0.2
            },
            "type": "scatter"
           }
          ],
          "scatter3d": [
           {
            "line": {
             "colorbar": {
              "outlinewidth": 0,
              "ticks": ""
             }
            },
            "marker": {
             "colorbar": {
              "outlinewidth": 0,
              "ticks": ""
             }
            },
            "type": "scatter3d"
           }
          ],
          "scattercarpet": [
           {
            "marker": {
             "colorbar": {
              "outlinewidth": 0,
              "ticks": ""
             }
            },
            "type": "scattercarpet"
           }
          ],
          "scattergeo": [
           {
            "marker": {
             "colorbar": {
              "outlinewidth": 0,
              "ticks": ""
             }
            },
            "type": "scattergeo"
           }
          ],
          "scattergl": [
           {
            "marker": {
             "colorbar": {
              "outlinewidth": 0,
              "ticks": ""
             }
            },
            "type": "scattergl"
           }
          ],
          "scattermapbox": [
           {
            "marker": {
             "colorbar": {
              "outlinewidth": 0,
              "ticks": ""
             }
            },
            "type": "scattermapbox"
           }
          ],
          "scatterpolar": [
           {
            "marker": {
             "colorbar": {
              "outlinewidth": 0,
              "ticks": ""
             }
            },
            "type": "scatterpolar"
           }
          ],
          "scatterpolargl": [
           {
            "marker": {
             "colorbar": {
              "outlinewidth": 0,
              "ticks": ""
             }
            },
            "type": "scatterpolargl"
           }
          ],
          "scatterternary": [
           {
            "marker": {
             "colorbar": {
              "outlinewidth": 0,
              "ticks": ""
             }
            },
            "type": "scatterternary"
           }
          ],
          "surface": [
           {
            "colorbar": {
             "outlinewidth": 0,
             "ticks": ""
            },
            "colorscale": [
             [
              0,
              "#0d0887"
             ],
             [
              0.1111111111111111,
              "#46039f"
             ],
             [
              0.2222222222222222,
              "#7201a8"
             ],
             [
              0.3333333333333333,
              "#9c179e"
             ],
             [
              0.4444444444444444,
              "#bd3786"
             ],
             [
              0.5555555555555556,
              "#d8576b"
             ],
             [
              0.6666666666666666,
              "#ed7953"
             ],
             [
              0.7777777777777778,
              "#fb9f3a"
             ],
             [
              0.8888888888888888,
              "#fdca26"
             ],
             [
              1,
              "#f0f921"
             ]
            ],
            "type": "surface"
           }
          ],
          "table": [
           {
            "cells": {
             "fill": {
              "color": "#EBF0F8"
             },
             "line": {
              "color": "white"
             }
            },
            "header": {
             "fill": {
              "color": "#C8D4E3"
             },
             "line": {
              "color": "white"
             }
            },
            "type": "table"
           }
          ]
         },
         "layout": {
          "annotationdefaults": {
           "arrowcolor": "#2a3f5f",
           "arrowhead": 0,
           "arrowwidth": 1
          },
          "autotypenumbers": "strict",
          "coloraxis": {
           "colorbar": {
            "outlinewidth": 0,
            "ticks": ""
           }
          },
          "colorscale": {
           "diverging": [
            [
             0,
             "#8e0152"
            ],
            [
             0.1,
             "#c51b7d"
            ],
            [
             0.2,
             "#de77ae"
            ],
            [
             0.3,
             "#f1b6da"
            ],
            [
             0.4,
             "#fde0ef"
            ],
            [
             0.5,
             "#f7f7f7"
            ],
            [
             0.6,
             "#e6f5d0"
            ],
            [
             0.7,
             "#b8e186"
            ],
            [
             0.8,
             "#7fbc41"
            ],
            [
             0.9,
             "#4d9221"
            ],
            [
             1,
             "#276419"
            ]
           ],
           "sequential": [
            [
             0,
             "#0d0887"
            ],
            [
             0.1111111111111111,
             "#46039f"
            ],
            [
             0.2222222222222222,
             "#7201a8"
            ],
            [
             0.3333333333333333,
             "#9c179e"
            ],
            [
             0.4444444444444444,
             "#bd3786"
            ],
            [
             0.5555555555555556,
             "#d8576b"
            ],
            [
             0.6666666666666666,
             "#ed7953"
            ],
            [
             0.7777777777777778,
             "#fb9f3a"
            ],
            [
             0.8888888888888888,
             "#fdca26"
            ],
            [
             1,
             "#f0f921"
            ]
           ],
           "sequentialminus": [
            [
             0,
             "#0d0887"
            ],
            [
             0.1111111111111111,
             "#46039f"
            ],
            [
             0.2222222222222222,
             "#7201a8"
            ],
            [
             0.3333333333333333,
             "#9c179e"
            ],
            [
             0.4444444444444444,
             "#bd3786"
            ],
            [
             0.5555555555555556,
             "#d8576b"
            ],
            [
             0.6666666666666666,
             "#ed7953"
            ],
            [
             0.7777777777777778,
             "#fb9f3a"
            ],
            [
             0.8888888888888888,
             "#fdca26"
            ],
            [
             1,
             "#f0f921"
            ]
           ]
          },
          "colorway": [
           "#636efa",
           "#EF553B",
           "#00cc96",
           "#ab63fa",
           "#FFA15A",
           "#19d3f3",
           "#FF6692",
           "#B6E880",
           "#FF97FF",
           "#FECB52"
          ],
          "font": {
           "color": "#2a3f5f"
          },
          "geo": {
           "bgcolor": "white",
           "lakecolor": "white",
           "landcolor": "#E5ECF6",
           "showlakes": true,
           "showland": true,
           "subunitcolor": "white"
          },
          "hoverlabel": {
           "align": "left"
          },
          "hovermode": "closest",
          "mapbox": {
           "style": "light"
          },
          "paper_bgcolor": "white",
          "plot_bgcolor": "#E5ECF6",
          "polar": {
           "angularaxis": {
            "gridcolor": "white",
            "linecolor": "white",
            "ticks": ""
           },
           "bgcolor": "#E5ECF6",
           "radialaxis": {
            "gridcolor": "white",
            "linecolor": "white",
            "ticks": ""
           }
          },
          "scene": {
           "xaxis": {
            "backgroundcolor": "#E5ECF6",
            "gridcolor": "white",
            "gridwidth": 2,
            "linecolor": "white",
            "showbackground": true,
            "ticks": "",
            "zerolinecolor": "white"
           },
           "yaxis": {
            "backgroundcolor": "#E5ECF6",
            "gridcolor": "white",
            "gridwidth": 2,
            "linecolor": "white",
            "showbackground": true,
            "ticks": "",
            "zerolinecolor": "white"
           },
           "zaxis": {
            "backgroundcolor": "#E5ECF6",
            "gridcolor": "white",
            "gridwidth": 2,
            "linecolor": "white",
            "showbackground": true,
            "ticks": "",
            "zerolinecolor": "white"
           }
          },
          "shapedefaults": {
           "line": {
            "color": "#2a3f5f"
           }
          },
          "ternary": {
           "aaxis": {
            "gridcolor": "white",
            "linecolor": "white",
            "ticks": ""
           },
           "baxis": {
            "gridcolor": "white",
            "linecolor": "white",
            "ticks": ""
           },
           "bgcolor": "#E5ECF6",
           "caxis": {
            "gridcolor": "white",
            "linecolor": "white",
            "ticks": ""
           }
          },
          "title": {
           "x": 0.05
          },
          "xaxis": {
           "automargin": true,
           "gridcolor": "white",
           "linecolor": "white",
           "ticks": "",
           "title": {
            "standoff": 15
           },
           "zerolinecolor": "white",
           "zerolinewidth": 2
          },
          "yaxis": {
           "automargin": true,
           "gridcolor": "white",
           "linecolor": "white",
           "ticks": "",
           "title": {
            "standoff": 15
           },
           "zerolinecolor": "white",
           "zerolinewidth": 2
          }
         }
        },
        "width": 900,
        "xaxis": {
         "anchor": "y",
         "domain": [
          0,
          1
         ],
         "gridcolor": "lightgray",
         "linecolor": "lightgray",
         "linewidth": 1,
         "matches": "x2",
         "mirror": true,
         "rangeslider": {
          "visible": false
         },
         "showgrid": true,
         "showticklabels": false
        },
        "xaxis2": {
         "anchor": "y2",
         "domain": [
          0,
          1
         ],
         "gridcolor": "lightgray",
         "linecolor": "lightgray",
         "linewidth": 1,
         "mirror": true,
         "showgrid": true
        },
        "yaxis": {
         "anchor": "x",
         "domain": [
          0.37,
          1
         ],
         "gridcolor": "lightgray",
         "linecolor": "gray",
         "linewidth": 1,
         "mirror": true,
         "showgrid": true,
         "showline": true,
         "title": {
          "text": "Price (USD)"
         }
        },
        "yaxis2": {
         "anchor": "x2",
         "domain": [
          0,
          0.27
         ],
         "gridcolor": "lightgray",
         "linecolor": "gray",
         "linewidth": 1,
         "mirror": true,
         "showgrid": true,
         "showline": true,
         "title": {
          "text": "Volume"
         }
        }
       }
      }
     },
     "metadata": {},
     "output_type": "display_data"
    }
   ],
   "source": [
    "plot_candlestick_with_volume(btc_val_subset, 'btc_val_200M')"
   ]
  },
  {
   "cell_type": "code",
   "execution_count": 36,
   "metadata": {},
   "outputs": [
    {
     "data": {
      "application/vnd.plotly.v1+json": {
       "config": {
        "plotlyServerURL": "https://plot.ly"
       },
       "data": [
        {
         "close": [
          45419.88,
          44792.98,
          45183.64,
          45340.18,
          45129.82,
          44892.15,
          44270.48,
          43942.04,
          44133.76,
          43820.2,
          43717.4,
          43417.38,
          43711.47,
          43603.4,
          42957.32,
          43361.68,
          43410.6,
          43510,
          43393.46,
          43394.57,
          43618.2,
          43523.86,
          43645.08,
          43472.86,
          43526.43,
          43055.64,
          43427.26,
          43740.27,
          42929.19,
          43111.08,
          42535,
          42347.04,
          42473.84,
          42364.17,
          42545.43,
          42750.85,
          42662.16,
          43142.96,
          42625.74,
          42208.25,
          42350.91,
          41921.47,
          42307.31,
          41566.87,
          41590.66,
          41000.01,
          40941.06,
          40800,
          40763.74,
          40223.21,
          39710.96,
          39585,
          39737.05,
          39541.97,
          39731.9,
          40080.3,
          40125.37,
          40129.01,
          40641.05,
          40278.68,
          39997.32,
          40008.44,
          39749.79,
          39521.9,
          40182.35,
          39967.31,
          40056.2,
          39720.82,
          40647.33,
          40875.02,
          41121.6,
          41348.05,
          41314.75,
          41372,
          41288,
          40962.07,
          40671.41,
          40444.42,
          39911.85,
          39732.89,
          39780,
          40031.9,
          40260.99,
          40833.15,
          40443.07,
          40475.82,
          40403.28,
          40217.9,
          40300.99,
          40440,
          40078.35,
          40287.53,
          39768.12,
          39101.79,
          38727.59,
          38986.22,
          39262.29,
          39333.14,
          39225.42,
          40118.01,
          40690.35,
          40667.5,
          41051.84,
          41245.66,
          40702.74,
          40748.65,
          41034.26,
          41597.43,
          41484.97,
          41405.05
         ],
         "high": [
          46050.22,
          45496.27,
          45368.29,
          45507.14,
          45453.94,
          45150,
          44999.99,
          44399,
          44496.97,
          44274.8,
          43929.91,
          44298.61,
          43973.01,
          44041.1,
          43607.27,
          43430,
          43497.63,
          43553.14,
          43900.99,
          43781.97,
          43684.16,
          43819.99,
          43750,
          43694.15,
          43970.62,
          43612.17,
          43431.83,
          43961.99,
          43760.79,
          43320.76,
          43192.67,
          42666.27,
          42640,
          42540,
          42631.69,
          42896.64,
          42850,
          43150,
          43410.3,
          42733.47,
          42434.51,
          42414.71,
          42350.29,
          42350,
          41646.55,
          41607.67,
          41246.61,
          41220.9,
          40908,
          40763.74,
          40260.32,
          40269.6,
          39978.62,
          39852.95,
          39731.9,
          40145,
          40196.39,
          40344.6,
          40699,
          40650,
          40511.68,
          40376.8,
          40227.03,
          39760.82,
          40289.02,
          40275,
          40228.41,
          40199.99,
          40699.99,
          40990,
          41411,
          41359,
          41561.31,
          41500,
          41466.75,
          41324.93,
          41300,
          40814.82,
          40483.66,
          40060.05,
          40180,
          40266.47,
          40449.96,
          40870.36,
          40834.53,
          40709.35,
          40563.46,
          40577.57,
          40699.55,
          40529.79,
          40595.67,
          40459.52,
          40287.53,
          39896.98,
          39175.84,
          39070.05,
          39268.68,
          39620.8,
          39569.92,
          40370.8,
          40727.27,
          41116.73,
          41099,
          41250,
          41263.43,
          40854.82,
          41104,
          41687.14,
          41760,
          41546.63
         ],
         "low": [
          45350,
          44412,
          44758.88,
          45119,
          45008.02,
          44665.91,
          44250,
          43769.17,
          43933,
          43705.64,
          43393.74,
          43177.11,
          43351.27,
          43484.71,
          42880.78,
          42727.35,
          43157,
          43269.5,
          43302.01,
          43330.09,
          43024.86,
          43375.36,
          43208,
          43416.74,
          43438.19,
          43034.11,
          42751.01,
          43300.12,
          42801.26,
          42414,
          42450.88,
          42107.14,
          42125.48,
          42322.72,
          42158.67,
          42390,
          42433.49,
          42525,
          42625.74,
          41868,
          41755,
          41800,
          41872.5,
          41543.08,
          41215,
          40968.11,
          40684.8,
          40716.37,
          40485.12,
          40223.21,
          39700,
          39500,
          39200,
          39357.64,
          39290,
          39624.71,
          39834.98,
          40016.09,
          40129.01,
          40250,
          39800,
          39910.4,
          39632,
          39254.63,
          39473.91,
          39588.54,
          39858.34,
          39648.78,
          39622.87,
          40365,
          40869.98,
          40829,
          41000,
          41064.35,
          41156.9,
          40941.69,
          40668,
          40310.41,
          39855.75,
          39551.94,
          39662.46,
          39766.4,
          39953.2,
          39900,
          40203.68,
          40276,
          40277,
          39991.55,
          40096.4,
          40122.05,
          40050,
          39833.31,
          39546.17,
          39078,
          38536.51,
          38655.88,
          38799,
          39186.66,
          39122.78,
          39000,
          39785.33,
          40573.18,
          40421.67,
          40710,
          40601,
          40571,
          40662.26,
          40944.36,
          41371.81,
          41167.92
         ],
         "open": [
          45859.98,
          45419.88,
          44792.99,
          45183.63,
          45340.18,
          45129.83,
          44892.15,
          44270.49,
          43942.04,
          44134.2,
          43820.2,
          43717.39,
          43414.42,
          43709.47,
          43603.4,
          42957.32,
          43361.67,
          43410.6,
          43510,
          43393.16,
          43394.57,
          43618.2,
          43523.67,
          43645.08,
          43472.86,
          43526.43,
          43055.64,
          43427.26,
          43740.27,
          42929.19,
          43108.04,
          42535,
          42347.04,
          42473.84,
          42364.17,
          42545.43,
          42750.86,
          42662.16,
          43142.96,
          42625.75,
          42208.34,
          42350.91,
          41920.91,
          42307.31,
          41566.87,
          41590.66,
          41000.01,
          40941.06,
          40800,
          40763.73,
          40223.2,
          39710.96,
          39582.57,
          39735.39,
          39541.97,
          39731.9,
          40080.31,
          40125.38,
          40129.01,
          40641.05,
          40278.68,
          39997.32,
          40008.43,
          39749.79,
          39521.9,
          40182.35,
          39967.32,
          40056.2,
          39722,
          40647.33,
          40875.02,
          41121.6,
          41348.05,
          41314.75,
          41372,
          41288,
          40962.07,
          40669.55,
          40444.17,
          39911.01,
          39732.89,
          39780,
          40031.9,
          40260.99,
          40831.75,
          40443.08,
          40475.82,
          40403.28,
          40217.9,
          40300.72,
          40440.85,
          40078.35,
          40287.53,
          39768.12,
          39101.79,
          38727.6,
          38986.22,
          39262.3,
          39333.14,
          39225.42,
          40118.02,
          40689.97,
          40667.5,
          41051.99,
          41244.83,
          40702.75,
          40748.65,
          41034.26,
          41595.89,
          41484.97
         ],
         "showlegend": false,
         "type": "candlestick",
         "x": [
          "2022-04-06T00:02:06.006000",
          "2022-04-06T00:25:50.324000",
          "2022-04-06T03:10:57.304000",
          "2022-04-06T07:37:59.577000",
          "2022-04-06T10:57:40.973000",
          "2022-04-06T12:12:47.320000",
          "2022-04-06T13:49:10.853000",
          "2022-04-06T14:08:00.095000",
          "2022-04-06T15:15:24.719000",
          "2022-04-06T16:31:22.676000",
          "2022-04-06T17:28:22.056000",
          "2022-04-06T18:25:43.306000",
          "2022-04-06T19:25:34.211000",
          "2022-04-06T23:00:57.649000",
          "2022-04-07T00:51:45.504000",
          "2022-04-07T02:57:27.906000",
          "2022-04-07T07:00:12.525000",
          "2022-04-07T11:08:30.037000",
          "2022-04-07T13:10:24.739000",
          "2022-04-07T15:11:47.908000",
          "2022-04-07T17:20:49.916000",
          "2022-04-07T21:15:10.202000",
          "2022-04-08T01:53:01.755000",
          "2022-04-08T07:40:44.606000",
          "2022-04-08T10:15:43.153000",
          "2022-04-08T13:08:37.667000",
          "2022-04-08T14:24:29.843000",
          "2022-04-08T15:47:27.849000",
          "2022-04-08T17:50:08.705000",
          "2022-04-08T18:53:12.355000",
          "2022-04-08T21:54:12.443000",
          "2022-04-09T00:52:59.748000",
          "2022-04-09T06:35:07.074000",
          "2022-04-09T14:23:12.132000",
          "2022-04-09T19:46:59.821000",
          "2022-04-10T04:16:40.359000",
          "2022-04-10T12:25:40.066000",
          "2022-04-10T17:35:50.930000",
          "2022-04-10T22:01:24.493000",
          "2022-04-10T23:10:38.860000",
          "2022-04-11T01:15:51.718000",
          "2022-04-11T03:04:29.052000",
          "2022-04-11T07:59:50.353000",
          "2022-04-11T09:59:13.022000",
          "2022-04-11T10:59:56.008000",
          "2022-04-11T12:09:40.433000",
          "2022-04-11T13:42:18.607000",
          "2022-04-11T15:28:46.559000",
          "2022-04-11T17:15:06.719000",
          "2022-04-11T19:22:37.534000",
          "2022-04-11T20:06:30.428000",
          "2022-04-11T21:36:42.103000",
          "2022-04-11T23:05:39.367000",
          "2022-04-12T01:02:03.592000",
          "2022-04-12T03:45:25.581000",
          "2022-04-12T05:58:19.259000",
          "2022-04-12T08:04:25.059000",
          "2022-04-12T11:11:08.951000",
          "2022-04-12T12:34:25.068000",
          "2022-04-12T13:36:33.649000",
          "2022-04-12T14:39:24.266000",
          "2022-04-12T16:31:03.615000",
          "2022-04-12T18:49:36.664000",
          "2022-04-12T20:58:05.033000",
          "2022-04-13T00:09:00.532000",
          "2022-04-13T04:34:02.257000",
          "2022-04-13T09:40:28.985000",
          "2022-04-13T12:58:18.944000",
          "2022-04-13T14:14:28.569000",
          "2022-04-13T15:15:29.471000",
          "2022-04-13T16:41:26.357000",
          "2022-04-13T18:53:58.055000",
          "2022-04-13T22:40:06.622000",
          "2022-04-14T02:33:01.847000",
          "2022-04-14T07:52:43.044000",
          "2022-04-14T11:21:29.068000",
          "2022-04-14T13:45:38.291000",
          "2022-04-14T15:00:13.255000",
          "2022-04-14T16:33:39.868000",
          "2022-04-14T19:12:07.947000",
          "2022-04-15T00:45:43.485000",
          "2022-04-15T06:58:48.495000",
          "2022-04-15T10:46:46.659000",
          "2022-04-15T14:50:14.072000",
          "2022-04-15T17:49:31.892000",
          "2022-04-16T03:04:57.434000",
          "2022-04-16T11:55:14.918000",
          "2022-04-16T16:58:35.895000",
          "2022-04-17T02:28:04.685000",
          "2022-04-17T13:14:42.203000",
          "2022-04-17T18:00:10.779000",
          "2022-04-17T22:32:01.757000",
          "2022-04-18T00:16:35.030000",
          "2022-04-18T04:19:42.499000",
          "2022-04-18T05:08:01.068000",
          "2022-04-18T08:21:51.572000",
          "2022-04-18T12:18:08.635000",
          "2022-04-18T13:53:03.849000",
          "2022-04-18T16:08:47.355000",
          "2022-04-18T17:16:26.907000",
          "2022-04-18T18:15:49.634000",
          "2022-04-18T19:01:10.398000",
          "2022-04-18T21:23:21.252000",
          "2022-04-19T00:32:11.318000",
          "2022-04-19T05:27:27.539000",
          "2022-04-19T10:54:06.506000",
          "2022-04-19T13:34:19.040000",
          "2022-04-19T14:08:24.054000",
          "2022-04-19T15:50:42.802000",
          "2022-04-19T19:00:22.256000"
         ],
         "xaxis": "x",
         "yaxis": "y"
        },
        {
         "marker": {
          "color": "darkblue"
         },
         "showlegend": false,
         "type": "bar",
         "x": [
          "2022-04-06T00:02:06.006000",
          "2022-04-06T00:25:50.324000",
          "2022-04-06T03:10:57.304000",
          "2022-04-06T07:37:59.577000",
          "2022-04-06T10:57:40.973000",
          "2022-04-06T12:12:47.320000",
          "2022-04-06T13:49:10.853000",
          "2022-04-06T14:08:00.095000",
          "2022-04-06T15:15:24.719000",
          "2022-04-06T16:31:22.676000",
          "2022-04-06T17:28:22.056000",
          "2022-04-06T18:25:43.306000",
          "2022-04-06T19:25:34.211000",
          "2022-04-06T23:00:57.649000",
          "2022-04-07T00:51:45.504000",
          "2022-04-07T02:57:27.906000",
          "2022-04-07T07:00:12.525000",
          "2022-04-07T11:08:30.037000",
          "2022-04-07T13:10:24.739000",
          "2022-04-07T15:11:47.908000",
          "2022-04-07T17:20:49.916000",
          "2022-04-07T21:15:10.202000",
          "2022-04-08T01:53:01.755000",
          "2022-04-08T07:40:44.606000",
          "2022-04-08T10:15:43.153000",
          "2022-04-08T13:08:37.667000",
          "2022-04-08T14:24:29.843000",
          "2022-04-08T15:47:27.849000",
          "2022-04-08T17:50:08.705000",
          "2022-04-08T18:53:12.355000",
          "2022-04-08T21:54:12.443000",
          "2022-04-09T00:52:59.748000",
          "2022-04-09T06:35:07.074000",
          "2022-04-09T14:23:12.132000",
          "2022-04-09T19:46:59.821000",
          "2022-04-10T04:16:40.359000",
          "2022-04-10T12:25:40.066000",
          "2022-04-10T17:35:50.930000",
          "2022-04-10T22:01:24.493000",
          "2022-04-10T23:10:38.860000",
          "2022-04-11T01:15:51.718000",
          "2022-04-11T03:04:29.052000",
          "2022-04-11T07:59:50.353000",
          "2022-04-11T09:59:13.022000",
          "2022-04-11T10:59:56.008000",
          "2022-04-11T12:09:40.433000",
          "2022-04-11T13:42:18.607000",
          "2022-04-11T15:28:46.559000",
          "2022-04-11T17:15:06.719000",
          "2022-04-11T19:22:37.534000",
          "2022-04-11T20:06:30.428000",
          "2022-04-11T21:36:42.103000",
          "2022-04-11T23:05:39.367000",
          "2022-04-12T01:02:03.592000",
          "2022-04-12T03:45:25.581000",
          "2022-04-12T05:58:19.259000",
          "2022-04-12T08:04:25.059000",
          "2022-04-12T11:11:08.951000",
          "2022-04-12T12:34:25.068000",
          "2022-04-12T13:36:33.649000",
          "2022-04-12T14:39:24.266000",
          "2022-04-12T16:31:03.615000",
          "2022-04-12T18:49:36.664000",
          "2022-04-12T20:58:05.033000",
          "2022-04-13T00:09:00.532000",
          "2022-04-13T04:34:02.257000",
          "2022-04-13T09:40:28.985000",
          "2022-04-13T12:58:18.944000",
          "2022-04-13T14:14:28.569000",
          "2022-04-13T15:15:29.471000",
          "2022-04-13T16:41:26.357000",
          "2022-04-13T18:53:58.055000",
          "2022-04-13T22:40:06.622000",
          "2022-04-14T02:33:01.847000",
          "2022-04-14T07:52:43.044000",
          "2022-04-14T11:21:29.068000",
          "2022-04-14T13:45:38.291000",
          "2022-04-14T15:00:13.255000",
          "2022-04-14T16:33:39.868000",
          "2022-04-14T19:12:07.947000",
          "2022-04-15T00:45:43.485000",
          "2022-04-15T06:58:48.495000",
          "2022-04-15T10:46:46.659000",
          "2022-04-15T14:50:14.072000",
          "2022-04-15T17:49:31.892000",
          "2022-04-16T03:04:57.434000",
          "2022-04-16T11:55:14.918000",
          "2022-04-16T16:58:35.895000",
          "2022-04-17T02:28:04.685000",
          "2022-04-17T13:14:42.203000",
          "2022-04-17T18:00:10.779000",
          "2022-04-17T22:32:01.757000",
          "2022-04-18T00:16:35.030000",
          "2022-04-18T04:19:42.499000",
          "2022-04-18T05:08:01.068000",
          "2022-04-18T08:21:51.572000",
          "2022-04-18T12:18:08.635000",
          "2022-04-18T13:53:03.849000",
          "2022-04-18T16:08:47.355000",
          "2022-04-18T17:16:26.907000",
          "2022-04-18T18:15:49.634000",
          "2022-04-18T19:01:10.398000",
          "2022-04-18T21:23:21.252000",
          "2022-04-19T00:32:11.318000",
          "2022-04-19T05:27:27.539000",
          "2022-04-19T10:54:06.506000",
          "2022-04-19T13:34:19.040000",
          "2022-04-19T14:08:24.054000",
          "2022-04-19T15:50:42.802000",
          "2022-04-19T19:00:22.256000"
         ],
         "xaxis": "x2",
         "y": [
          4373.648760000609,
          4449.349280000188,
          4433.122490000262,
          4411.2558400002135,
          4418.986450000344,
          4458.016950000428,
          4470.1530600004135,
          4533.354670000051,
          4527.813460000433,
          4545.506340000712,
          4581.588660000569,
          4566.688980000992,
          4576.270870000331,
          4566.862390000692,
          4620.746590000751,
          4640.83240000075,
          4614.656040000823,
          4604.78567000049,
          4581.919870000592,
          4596.2906500007775,
          4612.728310000586,
          4587.859960000575,
          4597.913450000499,
          4589.383870000603,
          4575.118670000756,
          4614.881790001129,
          4648.372880000584,
          4577.901240000643,
          4624.673430000731,
          4677.724160000558,
          4669.627250000424,
          4727.221430000697,
          4717.619440000691,
          4711.356080000509,
          4715.4555000005275,
          4687.030170000966,
          4690.266960000344,
          4676.0081199999895,
          4637.003790000394,
          4737.444579999982,
          4742.348060000019,
          4759.617530000642,
          4741.593500000968,
          4764.022120000882,
          4847.233269999913,
          4858.599520000303,
          4874.716900000262,
          4883.19588000033,
          4915.133160000339,
          4948.154990000078,
          5003.480440000776,
          5024.478870000406,
          5046.999220000328,
          5049.137540000596,
          5059.9771300000775,
          5013.480650002668,
          4994.129120000591,
          4978.045360000234,
          4950.652380000392,
          4938.091260000445,
          4977.082350000332,
          4982.911660000427,
          5007.764580000629,
          5065.191990000368,
          5019.714790000486,
          5005.515749999914,
          4987.520580000738,
          5018.038810000263,
          4967.574510000215,
          4908.019380001453,
          4853.834260000441,
          4870.476860000344,
          4850.140440000739,
          4847.649090000105,
          4842.884140000713,
          4863.64658000048,
          4877.414370000454,
          4937.1822799997435,
          4989.645709999876,
          5019.406639999707,
          5021.086849999836,
          4993.803999999936,
          4977.28755000004,
          4972.146390000822,
          4943.381019999979,
          4943.184619999954,
          4948.6737800001065,
          4964.494449999767,
          4953.377559999647,
          4956.214799999453,
          4956.126389999926,
          4978.773920000193,
          5027.831670000386,
          5043.158200000242,
          5145.11377000062,
          5137.592630000457,
          5129.339550000078,
          5078.771640000151,
          5084.572300000792,
          5044.289130000441,
          4980.675210000518,
          4901.686460002045,
          4916.836890000913,
          4891.581610000711,
          4902.54230000062,
          4912.504710000276,
          4891.024380000094,
          4835.517120000164,
          4813.469270000358,
          4833.913490000672
         ],
         "yaxis": "y2"
        }
       ],
       "layout": {
        "height": 600,
        "paper_bgcolor": "white",
        "plot_bgcolor": "white",
        "template": {
         "data": {
          "bar": [
           {
            "error_x": {
             "color": "#2a3f5f"
            },
            "error_y": {
             "color": "#2a3f5f"
            },
            "marker": {
             "line": {
              "color": "#E5ECF6",
              "width": 0.5
             },
             "pattern": {
              "fillmode": "overlay",
              "size": 10,
              "solidity": 0.2
             }
            },
            "type": "bar"
           }
          ],
          "barpolar": [
           {
            "marker": {
             "line": {
              "color": "#E5ECF6",
              "width": 0.5
             },
             "pattern": {
              "fillmode": "overlay",
              "size": 10,
              "solidity": 0.2
             }
            },
            "type": "barpolar"
           }
          ],
          "carpet": [
           {
            "aaxis": {
             "endlinecolor": "#2a3f5f",
             "gridcolor": "white",
             "linecolor": "white",
             "minorgridcolor": "white",
             "startlinecolor": "#2a3f5f"
            },
            "baxis": {
             "endlinecolor": "#2a3f5f",
             "gridcolor": "white",
             "linecolor": "white",
             "minorgridcolor": "white",
             "startlinecolor": "#2a3f5f"
            },
            "type": "carpet"
           }
          ],
          "choropleth": [
           {
            "colorbar": {
             "outlinewidth": 0,
             "ticks": ""
            },
            "type": "choropleth"
           }
          ],
          "contour": [
           {
            "colorbar": {
             "outlinewidth": 0,
             "ticks": ""
            },
            "colorscale": [
             [
              0,
              "#0d0887"
             ],
             [
              0.1111111111111111,
              "#46039f"
             ],
             [
              0.2222222222222222,
              "#7201a8"
             ],
             [
              0.3333333333333333,
              "#9c179e"
             ],
             [
              0.4444444444444444,
              "#bd3786"
             ],
             [
              0.5555555555555556,
              "#d8576b"
             ],
             [
              0.6666666666666666,
              "#ed7953"
             ],
             [
              0.7777777777777778,
              "#fb9f3a"
             ],
             [
              0.8888888888888888,
              "#fdca26"
             ],
             [
              1,
              "#f0f921"
             ]
            ],
            "type": "contour"
           }
          ],
          "contourcarpet": [
           {
            "colorbar": {
             "outlinewidth": 0,
             "ticks": ""
            },
            "type": "contourcarpet"
           }
          ],
          "heatmap": [
           {
            "colorbar": {
             "outlinewidth": 0,
             "ticks": ""
            },
            "colorscale": [
             [
              0,
              "#0d0887"
             ],
             [
              0.1111111111111111,
              "#46039f"
             ],
             [
              0.2222222222222222,
              "#7201a8"
             ],
             [
              0.3333333333333333,
              "#9c179e"
             ],
             [
              0.4444444444444444,
              "#bd3786"
             ],
             [
              0.5555555555555556,
              "#d8576b"
             ],
             [
              0.6666666666666666,
              "#ed7953"
             ],
             [
              0.7777777777777778,
              "#fb9f3a"
             ],
             [
              0.8888888888888888,
              "#fdca26"
             ],
             [
              1,
              "#f0f921"
             ]
            ],
            "type": "heatmap"
           }
          ],
          "heatmapgl": [
           {
            "colorbar": {
             "outlinewidth": 0,
             "ticks": ""
            },
            "colorscale": [
             [
              0,
              "#0d0887"
             ],
             [
              0.1111111111111111,
              "#46039f"
             ],
             [
              0.2222222222222222,
              "#7201a8"
             ],
             [
              0.3333333333333333,
              "#9c179e"
             ],
             [
              0.4444444444444444,
              "#bd3786"
             ],
             [
              0.5555555555555556,
              "#d8576b"
             ],
             [
              0.6666666666666666,
              "#ed7953"
             ],
             [
              0.7777777777777778,
              "#fb9f3a"
             ],
             [
              0.8888888888888888,
              "#fdca26"
             ],
             [
              1,
              "#f0f921"
             ]
            ],
            "type": "heatmapgl"
           }
          ],
          "histogram": [
           {
            "marker": {
             "pattern": {
              "fillmode": "overlay",
              "size": 10,
              "solidity": 0.2
             }
            },
            "type": "histogram"
           }
          ],
          "histogram2d": [
           {
            "colorbar": {
             "outlinewidth": 0,
             "ticks": ""
            },
            "colorscale": [
             [
              0,
              "#0d0887"
             ],
             [
              0.1111111111111111,
              "#46039f"
             ],
             [
              0.2222222222222222,
              "#7201a8"
             ],
             [
              0.3333333333333333,
              "#9c179e"
             ],
             [
              0.4444444444444444,
              "#bd3786"
             ],
             [
              0.5555555555555556,
              "#d8576b"
             ],
             [
              0.6666666666666666,
              "#ed7953"
             ],
             [
              0.7777777777777778,
              "#fb9f3a"
             ],
             [
              0.8888888888888888,
              "#fdca26"
             ],
             [
              1,
              "#f0f921"
             ]
            ],
            "type": "histogram2d"
           }
          ],
          "histogram2dcontour": [
           {
            "colorbar": {
             "outlinewidth": 0,
             "ticks": ""
            },
            "colorscale": [
             [
              0,
              "#0d0887"
             ],
             [
              0.1111111111111111,
              "#46039f"
             ],
             [
              0.2222222222222222,
              "#7201a8"
             ],
             [
              0.3333333333333333,
              "#9c179e"
             ],
             [
              0.4444444444444444,
              "#bd3786"
             ],
             [
              0.5555555555555556,
              "#d8576b"
             ],
             [
              0.6666666666666666,
              "#ed7953"
             ],
             [
              0.7777777777777778,
              "#fb9f3a"
             ],
             [
              0.8888888888888888,
              "#fdca26"
             ],
             [
              1,
              "#f0f921"
             ]
            ],
            "type": "histogram2dcontour"
           }
          ],
          "mesh3d": [
           {
            "colorbar": {
             "outlinewidth": 0,
             "ticks": ""
            },
            "type": "mesh3d"
           }
          ],
          "parcoords": [
           {
            "line": {
             "colorbar": {
              "outlinewidth": 0,
              "ticks": ""
             }
            },
            "type": "parcoords"
           }
          ],
          "pie": [
           {
            "automargin": true,
            "type": "pie"
           }
          ],
          "scatter": [
           {
            "fillpattern": {
             "fillmode": "overlay",
             "size": 10,
             "solidity": 0.2
            },
            "type": "scatter"
           }
          ],
          "scatter3d": [
           {
            "line": {
             "colorbar": {
              "outlinewidth": 0,
              "ticks": ""
             }
            },
            "marker": {
             "colorbar": {
              "outlinewidth": 0,
              "ticks": ""
             }
            },
            "type": "scatter3d"
           }
          ],
          "scattercarpet": [
           {
            "marker": {
             "colorbar": {
              "outlinewidth": 0,
              "ticks": ""
             }
            },
            "type": "scattercarpet"
           }
          ],
          "scattergeo": [
           {
            "marker": {
             "colorbar": {
              "outlinewidth": 0,
              "ticks": ""
             }
            },
            "type": "scattergeo"
           }
          ],
          "scattergl": [
           {
            "marker": {
             "colorbar": {
              "outlinewidth": 0,
              "ticks": ""
             }
            },
            "type": "scattergl"
           }
          ],
          "scattermapbox": [
           {
            "marker": {
             "colorbar": {
              "outlinewidth": 0,
              "ticks": ""
             }
            },
            "type": "scattermapbox"
           }
          ],
          "scatterpolar": [
           {
            "marker": {
             "colorbar": {
              "outlinewidth": 0,
              "ticks": ""
             }
            },
            "type": "scatterpolar"
           }
          ],
          "scatterpolargl": [
           {
            "marker": {
             "colorbar": {
              "outlinewidth": 0,
              "ticks": ""
             }
            },
            "type": "scatterpolargl"
           }
          ],
          "scatterternary": [
           {
            "marker": {
             "colorbar": {
              "outlinewidth": 0,
              "ticks": ""
             }
            },
            "type": "scatterternary"
           }
          ],
          "surface": [
           {
            "colorbar": {
             "outlinewidth": 0,
             "ticks": ""
            },
            "colorscale": [
             [
              0,
              "#0d0887"
             ],
             [
              0.1111111111111111,
              "#46039f"
             ],
             [
              0.2222222222222222,
              "#7201a8"
             ],
             [
              0.3333333333333333,
              "#9c179e"
             ],
             [
              0.4444444444444444,
              "#bd3786"
             ],
             [
              0.5555555555555556,
              "#d8576b"
             ],
             [
              0.6666666666666666,
              "#ed7953"
             ],
             [
              0.7777777777777778,
              "#fb9f3a"
             ],
             [
              0.8888888888888888,
              "#fdca26"
             ],
             [
              1,
              "#f0f921"
             ]
            ],
            "type": "surface"
           }
          ],
          "table": [
           {
            "cells": {
             "fill": {
              "color": "#EBF0F8"
             },
             "line": {
              "color": "white"
             }
            },
            "header": {
             "fill": {
              "color": "#C8D4E3"
             },
             "line": {
              "color": "white"
             }
            },
            "type": "table"
           }
          ]
         },
         "layout": {
          "annotationdefaults": {
           "arrowcolor": "#2a3f5f",
           "arrowhead": 0,
           "arrowwidth": 1
          },
          "autotypenumbers": "strict",
          "coloraxis": {
           "colorbar": {
            "outlinewidth": 0,
            "ticks": ""
           }
          },
          "colorscale": {
           "diverging": [
            [
             0,
             "#8e0152"
            ],
            [
             0.1,
             "#c51b7d"
            ],
            [
             0.2,
             "#de77ae"
            ],
            [
             0.3,
             "#f1b6da"
            ],
            [
             0.4,
             "#fde0ef"
            ],
            [
             0.5,
             "#f7f7f7"
            ],
            [
             0.6,
             "#e6f5d0"
            ],
            [
             0.7,
             "#b8e186"
            ],
            [
             0.8,
             "#7fbc41"
            ],
            [
             0.9,
             "#4d9221"
            ],
            [
             1,
             "#276419"
            ]
           ],
           "sequential": [
            [
             0,
             "#0d0887"
            ],
            [
             0.1111111111111111,
             "#46039f"
            ],
            [
             0.2222222222222222,
             "#7201a8"
            ],
            [
             0.3333333333333333,
             "#9c179e"
            ],
            [
             0.4444444444444444,
             "#bd3786"
            ],
            [
             0.5555555555555556,
             "#d8576b"
            ],
            [
             0.6666666666666666,
             "#ed7953"
            ],
            [
             0.7777777777777778,
             "#fb9f3a"
            ],
            [
             0.8888888888888888,
             "#fdca26"
            ],
            [
             1,
             "#f0f921"
            ]
           ],
           "sequentialminus": [
            [
             0,
             "#0d0887"
            ],
            [
             0.1111111111111111,
             "#46039f"
            ],
            [
             0.2222222222222222,
             "#7201a8"
            ],
            [
             0.3333333333333333,
             "#9c179e"
            ],
            [
             0.4444444444444444,
             "#bd3786"
            ],
            [
             0.5555555555555556,
             "#d8576b"
            ],
            [
             0.6666666666666666,
             "#ed7953"
            ],
            [
             0.7777777777777778,
             "#fb9f3a"
            ],
            [
             0.8888888888888888,
             "#fdca26"
            ],
            [
             1,
             "#f0f921"
            ]
           ]
          },
          "colorway": [
           "#636efa",
           "#EF553B",
           "#00cc96",
           "#ab63fa",
           "#FFA15A",
           "#19d3f3",
           "#FF6692",
           "#B6E880",
           "#FF97FF",
           "#FECB52"
          ],
          "font": {
           "color": "#2a3f5f"
          },
          "geo": {
           "bgcolor": "white",
           "lakecolor": "white",
           "landcolor": "#E5ECF6",
           "showlakes": true,
           "showland": true,
           "subunitcolor": "white"
          },
          "hoverlabel": {
           "align": "left"
          },
          "hovermode": "closest",
          "mapbox": {
           "style": "light"
          },
          "paper_bgcolor": "white",
          "plot_bgcolor": "#E5ECF6",
          "polar": {
           "angularaxis": {
            "gridcolor": "white",
            "linecolor": "white",
            "ticks": ""
           },
           "bgcolor": "#E5ECF6",
           "radialaxis": {
            "gridcolor": "white",
            "linecolor": "white",
            "ticks": ""
           }
          },
          "scene": {
           "xaxis": {
            "backgroundcolor": "#E5ECF6",
            "gridcolor": "white",
            "gridwidth": 2,
            "linecolor": "white",
            "showbackground": true,
            "ticks": "",
            "zerolinecolor": "white"
           },
           "yaxis": {
            "backgroundcolor": "#E5ECF6",
            "gridcolor": "white",
            "gridwidth": 2,
            "linecolor": "white",
            "showbackground": true,
            "ticks": "",
            "zerolinecolor": "white"
           },
           "zaxis": {
            "backgroundcolor": "#E5ECF6",
            "gridcolor": "white",
            "gridwidth": 2,
            "linecolor": "white",
            "showbackground": true,
            "ticks": "",
            "zerolinecolor": "white"
           }
          },
          "shapedefaults": {
           "line": {
            "color": "#2a3f5f"
           }
          },
          "ternary": {
           "aaxis": {
            "gridcolor": "white",
            "linecolor": "white",
            "ticks": ""
           },
           "baxis": {
            "gridcolor": "white",
            "linecolor": "white",
            "ticks": ""
           },
           "bgcolor": "#E5ECF6",
           "caxis": {
            "gridcolor": "white",
            "linecolor": "white",
            "ticks": ""
           }
          },
          "title": {
           "x": 0.05
          },
          "xaxis": {
           "automargin": true,
           "gridcolor": "white",
           "linecolor": "white",
           "ticks": "",
           "title": {
            "standoff": 15
           },
           "zerolinecolor": "white",
           "zerolinewidth": 2
          },
          "yaxis": {
           "automargin": true,
           "gridcolor": "white",
           "linecolor": "white",
           "ticks": "",
           "title": {
            "standoff": 15
           },
           "zerolinecolor": "white",
           "zerolinewidth": 2
          }
         }
        },
        "width": 900,
        "xaxis": {
         "anchor": "y",
         "domain": [
          0,
          1
         ],
         "gridcolor": "lightgray",
         "linecolor": "lightgray",
         "linewidth": 1,
         "matches": "x2",
         "mirror": true,
         "rangeslider": {
          "visible": false
         },
         "showgrid": true,
         "showticklabels": false
        },
        "xaxis2": {
         "anchor": "y2",
         "domain": [
          0,
          1
         ],
         "gridcolor": "lightgray",
         "linecolor": "lightgray",
         "linewidth": 1,
         "mirror": true,
         "showgrid": true
        },
        "yaxis": {
         "anchor": "x",
         "domain": [
          0.37,
          1
         ],
         "gridcolor": "lightgray",
         "linecolor": "gray",
         "linewidth": 1,
         "mirror": true,
         "showgrid": true,
         "showline": true,
         "title": {
          "text": "Price (USD)"
         }
        },
        "yaxis2": {
         "anchor": "x2",
         "domain": [
          0,
          0.27
         ],
         "gridcolor": "lightgray",
         "linecolor": "gray",
         "linewidth": 1,
         "mirror": true,
         "showgrid": true,
         "showline": true,
         "title": {
          "text": "Volume"
         }
        }
       }
      }
     },
     "metadata": {},
     "output_type": "display_data"
    }
   ],
   "source": [
    "plot_candlestick_with_volume(btc_val_subset, 'btc_val_100M')"
   ]
  },
  {
   "cell_type": "code",
   "execution_count": 37,
   "metadata": {},
   "outputs": [
    {
     "data": {
      "application/vnd.plotly.v1+json": {
       "config": {
        "plotlyServerURL": "https://plot.ly"
       },
       "data": [
        {
         "close": [
          45250.68,
          45366.53,
          44575.15,
          43744.54,
          43346.07,
          42861.78,
          43697.22,
          43965,
          43086.95,
          43753.54,
          43003.95,
          42287.12,
          43146.08,
          42388,
          41702.14,
          40798.32,
          40333.6,
          39588.09,
          39435.57,
          40110.65,
          39791.63,
          40116.36,
          40403.14,
          41195.32,
          40594.09,
          39799.89,
          40443.82,
          39890.69,
          39586.58,
          38945.96,
          39465.93,
          40251.63,
          40684.98,
          41296.32
         ],
         "high": [
          46220.21,
          45375.38,
          45507.14,
          44698.5,
          44298.61,
          44041.1,
          43747.05,
          43965,
          43970.62,
          43775,
          43961.99,
          43320.76,
          43146.08,
          43410.3,
          42564.06,
          41702.15,
          41220.9,
          40598.43,
          40269.6,
          40144.04,
          40699,
          40289.02,
          40440.8,
          41277.12,
          41561.31,
          40675.02,
          40449.96,
          40870.36,
          40459.52,
          39896.98,
          39529.77,
          40278.14,
          40727.27,
          41330
         ],
         "low": [
          45250.68,
          44412,
          44529.01,
          43716.73,
          43177.11,
          42800,
          42727.35,
          43024.86,
          43066.34,
          42751.01,
          42985,
          42251.11,
          42107.14,
          42388,
          41630.92,
          40733,
          40280,
          39566.2,
          39275.68,
          39200,
          39770.01,
          39254.63,
          39588.54,
          40327.42,
          40573.88,
          39783.49,
          39551.94,
          39833.31,
          39555.13,
          38832.53,
          38536.51,
          39000,
          39785.33,
          40421.67
         ],
         "open": [
          46173.89,
          45250.68,
          45366.53,
          44575.16,
          43744.54,
          43346.07,
          42861.79,
          43697.23,
          43964.99,
          43086.95,
          43753.55,
          43003.95,
          42287.12,
          43146.07,
          42388,
          41702.15,
          40798.31,
          40333.6,
          39588.08,
          39435.58,
          40110.66,
          39791.63,
          40116.36,
          40403.24,
          41195.33,
          40594.09,
          39799.88,
          40443.81,
          39889.79,
          39586.57,
          38945.96,
          39465.94,
          40251.63,
          40684.98
         ],
         "showlegend": false,
         "type": "candlestick",
         "x": [
          "2022-04-06T00:08:00",
          "2022-04-06T04:56:00",
          "2022-04-06T13:44:00",
          "2022-04-06T15:32:00",
          "2022-04-06T18:24:00",
          "2022-04-07T00:51:00",
          "2022-04-07T11:08:00",
          "2022-04-08T08:48:00",
          "2022-04-08T13:02:00",
          "2022-04-08T14:52:00",
          "2022-04-08T17:16:00",
          "2022-04-08T22:20:00",
          "2022-04-10T17:22:00",
          "2022-04-10T22:17:00",
          "2022-04-11T09:58:00",
          "2022-04-11T13:32:00",
          "2022-04-11T17:16:00",
          "2022-04-11T20:06:00",
          "2022-04-11T21:49:00",
          "2022-04-12T05:24:00",
          "2022-04-12T18:15:00",
          "2022-04-12T23:24:00",
          "2022-04-13T13:46:00",
          "2022-04-13T15:22:00",
          "2022-04-14T13:51:00",
          "2022-04-14T16:36:00",
          "2022-04-15T07:53:00",
          "2022-04-17T18:08:00",
          "2022-04-17T23:32:00",
          "2022-04-18T04:19:00",
          "2022-04-18T12:56:00",
          "2022-04-18T17:10:00",
          "2022-04-18T18:15:00",
          "2022-04-19T13:48:00"
         ],
         "xaxis": "x",
         "yaxis": "y"
        },
        {
         "marker": {
          "color": "darkblue"
         },
         "showlegend": false,
         "type": "bar",
         "x": [
          "2022-04-06T00:08:00",
          "2022-04-06T04:56:00",
          "2022-04-06T13:44:00",
          "2022-04-06T15:32:00",
          "2022-04-06T18:24:00",
          "2022-04-07T00:51:00",
          "2022-04-07T11:08:00",
          "2022-04-08T08:48:00",
          "2022-04-08T13:02:00",
          "2022-04-08T14:52:00",
          "2022-04-08T17:16:00",
          "2022-04-08T22:20:00",
          "2022-04-10T17:22:00",
          "2022-04-10T22:17:00",
          "2022-04-11T09:58:00",
          "2022-04-11T13:32:00",
          "2022-04-11T17:16:00",
          "2022-04-11T20:06:00",
          "2022-04-11T21:49:00",
          "2022-04-12T05:24:00",
          "2022-04-12T18:15:00",
          "2022-04-12T23:24:00",
          "2022-04-13T13:46:00",
          "2022-04-13T15:22:00",
          "2022-04-14T13:51:00",
          "2022-04-14T16:36:00",
          "2022-04-15T07:53:00",
          "2022-04-17T18:08:00",
          "2022-04-17T23:32:00",
          "2022-04-18T04:19:00",
          "2022-04-18T12:56:00",
          "2022-04-18T17:10:00",
          "2022-04-18T18:15:00",
          "2022-04-19T13:48:00"
         ],
         "xaxis": "x2",
         "y": [
          22017.05436,
          9733.53569,
          15298.8909,
          11469.28971,
          12182.27316,
          14019.6381,
          14036.57269,
          29940.04617,
          6230.33823,
          6872.79078,
          5289.50129,
          12266.22494,
          31420.69303,
          6059.43712,
          22628.98829,
          13832.94964,
          11539.65249,
          9593.22162,
          5686.52744,
          17781.19035,
          34625.96566,
          10326.77522,
          18831.69746,
          8175.79899,
          34016.07099,
          9384.6863,
          16056.35412,
          44037.42442,
          7069.1771,
          7846.194579999999,
          16618.70476,
          12298.99928,
          6153.80432,
          30909.02445
         ],
         "yaxis": "y2"
        }
       ],
       "layout": {
        "height": 600,
        "paper_bgcolor": "white",
        "plot_bgcolor": "white",
        "template": {
         "data": {
          "bar": [
           {
            "error_x": {
             "color": "#2a3f5f"
            },
            "error_y": {
             "color": "#2a3f5f"
            },
            "marker": {
             "line": {
              "color": "#E5ECF6",
              "width": 0.5
             },
             "pattern": {
              "fillmode": "overlay",
              "size": 10,
              "solidity": 0.2
             }
            },
            "type": "bar"
           }
          ],
          "barpolar": [
           {
            "marker": {
             "line": {
              "color": "#E5ECF6",
              "width": 0.5
             },
             "pattern": {
              "fillmode": "overlay",
              "size": 10,
              "solidity": 0.2
             }
            },
            "type": "barpolar"
           }
          ],
          "carpet": [
           {
            "aaxis": {
             "endlinecolor": "#2a3f5f",
             "gridcolor": "white",
             "linecolor": "white",
             "minorgridcolor": "white",
             "startlinecolor": "#2a3f5f"
            },
            "baxis": {
             "endlinecolor": "#2a3f5f",
             "gridcolor": "white",
             "linecolor": "white",
             "minorgridcolor": "white",
             "startlinecolor": "#2a3f5f"
            },
            "type": "carpet"
           }
          ],
          "choropleth": [
           {
            "colorbar": {
             "outlinewidth": 0,
             "ticks": ""
            },
            "type": "choropleth"
           }
          ],
          "contour": [
           {
            "colorbar": {
             "outlinewidth": 0,
             "ticks": ""
            },
            "colorscale": [
             [
              0,
              "#0d0887"
             ],
             [
              0.1111111111111111,
              "#46039f"
             ],
             [
              0.2222222222222222,
              "#7201a8"
             ],
             [
              0.3333333333333333,
              "#9c179e"
             ],
             [
              0.4444444444444444,
              "#bd3786"
             ],
             [
              0.5555555555555556,
              "#d8576b"
             ],
             [
              0.6666666666666666,
              "#ed7953"
             ],
             [
              0.7777777777777778,
              "#fb9f3a"
             ],
             [
              0.8888888888888888,
              "#fdca26"
             ],
             [
              1,
              "#f0f921"
             ]
            ],
            "type": "contour"
           }
          ],
          "contourcarpet": [
           {
            "colorbar": {
             "outlinewidth": 0,
             "ticks": ""
            },
            "type": "contourcarpet"
           }
          ],
          "heatmap": [
           {
            "colorbar": {
             "outlinewidth": 0,
             "ticks": ""
            },
            "colorscale": [
             [
              0,
              "#0d0887"
             ],
             [
              0.1111111111111111,
              "#46039f"
             ],
             [
              0.2222222222222222,
              "#7201a8"
             ],
             [
              0.3333333333333333,
              "#9c179e"
             ],
             [
              0.4444444444444444,
              "#bd3786"
             ],
             [
              0.5555555555555556,
              "#d8576b"
             ],
             [
              0.6666666666666666,
              "#ed7953"
             ],
             [
              0.7777777777777778,
              "#fb9f3a"
             ],
             [
              0.8888888888888888,
              "#fdca26"
             ],
             [
              1,
              "#f0f921"
             ]
            ],
            "type": "heatmap"
           }
          ],
          "heatmapgl": [
           {
            "colorbar": {
             "outlinewidth": 0,
             "ticks": ""
            },
            "colorscale": [
             [
              0,
              "#0d0887"
             ],
             [
              0.1111111111111111,
              "#46039f"
             ],
             [
              0.2222222222222222,
              "#7201a8"
             ],
             [
              0.3333333333333333,
              "#9c179e"
             ],
             [
              0.4444444444444444,
              "#bd3786"
             ],
             [
              0.5555555555555556,
              "#d8576b"
             ],
             [
              0.6666666666666666,
              "#ed7953"
             ],
             [
              0.7777777777777778,
              "#fb9f3a"
             ],
             [
              0.8888888888888888,
              "#fdca26"
             ],
             [
              1,
              "#f0f921"
             ]
            ],
            "type": "heatmapgl"
           }
          ],
          "histogram": [
           {
            "marker": {
             "pattern": {
              "fillmode": "overlay",
              "size": 10,
              "solidity": 0.2
             }
            },
            "type": "histogram"
           }
          ],
          "histogram2d": [
           {
            "colorbar": {
             "outlinewidth": 0,
             "ticks": ""
            },
            "colorscale": [
             [
              0,
              "#0d0887"
             ],
             [
              0.1111111111111111,
              "#46039f"
             ],
             [
              0.2222222222222222,
              "#7201a8"
             ],
             [
              0.3333333333333333,
              "#9c179e"
             ],
             [
              0.4444444444444444,
              "#bd3786"
             ],
             [
              0.5555555555555556,
              "#d8576b"
             ],
             [
              0.6666666666666666,
              "#ed7953"
             ],
             [
              0.7777777777777778,
              "#fb9f3a"
             ],
             [
              0.8888888888888888,
              "#fdca26"
             ],
             [
              1,
              "#f0f921"
             ]
            ],
            "type": "histogram2d"
           }
          ],
          "histogram2dcontour": [
           {
            "colorbar": {
             "outlinewidth": 0,
             "ticks": ""
            },
            "colorscale": [
             [
              0,
              "#0d0887"
             ],
             [
              0.1111111111111111,
              "#46039f"
             ],
             [
              0.2222222222222222,
              "#7201a8"
             ],
             [
              0.3333333333333333,
              "#9c179e"
             ],
             [
              0.4444444444444444,
              "#bd3786"
             ],
             [
              0.5555555555555556,
              "#d8576b"
             ],
             [
              0.6666666666666666,
              "#ed7953"
             ],
             [
              0.7777777777777778,
              "#fb9f3a"
             ],
             [
              0.8888888888888888,
              "#fdca26"
             ],
             [
              1,
              "#f0f921"
             ]
            ],
            "type": "histogram2dcontour"
           }
          ],
          "mesh3d": [
           {
            "colorbar": {
             "outlinewidth": 0,
             "ticks": ""
            },
            "type": "mesh3d"
           }
          ],
          "parcoords": [
           {
            "line": {
             "colorbar": {
              "outlinewidth": 0,
              "ticks": ""
             }
            },
            "type": "parcoords"
           }
          ],
          "pie": [
           {
            "automargin": true,
            "type": "pie"
           }
          ],
          "scatter": [
           {
            "fillpattern": {
             "fillmode": "overlay",
             "size": 10,
             "solidity": 0.2
            },
            "type": "scatter"
           }
          ],
          "scatter3d": [
           {
            "line": {
             "colorbar": {
              "outlinewidth": 0,
              "ticks": ""
             }
            },
            "marker": {
             "colorbar": {
              "outlinewidth": 0,
              "ticks": ""
             }
            },
            "type": "scatter3d"
           }
          ],
          "scattercarpet": [
           {
            "marker": {
             "colorbar": {
              "outlinewidth": 0,
              "ticks": ""
             }
            },
            "type": "scattercarpet"
           }
          ],
          "scattergeo": [
           {
            "marker": {
             "colorbar": {
              "outlinewidth": 0,
              "ticks": ""
             }
            },
            "type": "scattergeo"
           }
          ],
          "scattergl": [
           {
            "marker": {
             "colorbar": {
              "outlinewidth": 0,
              "ticks": ""
             }
            },
            "type": "scattergl"
           }
          ],
          "scattermapbox": [
           {
            "marker": {
             "colorbar": {
              "outlinewidth": 0,
              "ticks": ""
             }
            },
            "type": "scattermapbox"
           }
          ],
          "scatterpolar": [
           {
            "marker": {
             "colorbar": {
              "outlinewidth": 0,
              "ticks": ""
             }
            },
            "type": "scatterpolar"
           }
          ],
          "scatterpolargl": [
           {
            "marker": {
             "colorbar": {
              "outlinewidth": 0,
              "ticks": ""
             }
            },
            "type": "scatterpolargl"
           }
          ],
          "scatterternary": [
           {
            "marker": {
             "colorbar": {
              "outlinewidth": 0,
              "ticks": ""
             }
            },
            "type": "scatterternary"
           }
          ],
          "surface": [
           {
            "colorbar": {
             "outlinewidth": 0,
             "ticks": ""
            },
            "colorscale": [
             [
              0,
              "#0d0887"
             ],
             [
              0.1111111111111111,
              "#46039f"
             ],
             [
              0.2222222222222222,
              "#7201a8"
             ],
             [
              0.3333333333333333,
              "#9c179e"
             ],
             [
              0.4444444444444444,
              "#bd3786"
             ],
             [
              0.5555555555555556,
              "#d8576b"
             ],
             [
              0.6666666666666666,
              "#ed7953"
             ],
             [
              0.7777777777777778,
              "#fb9f3a"
             ],
             [
              0.8888888888888888,
              "#fdca26"
             ],
             [
              1,
              "#f0f921"
             ]
            ],
            "type": "surface"
           }
          ],
          "table": [
           {
            "cells": {
             "fill": {
              "color": "#EBF0F8"
             },
             "line": {
              "color": "white"
             }
            },
            "header": {
             "fill": {
              "color": "#C8D4E3"
             },
             "line": {
              "color": "white"
             }
            },
            "type": "table"
           }
          ]
         },
         "layout": {
          "annotationdefaults": {
           "arrowcolor": "#2a3f5f",
           "arrowhead": 0,
           "arrowwidth": 1
          },
          "autotypenumbers": "strict",
          "coloraxis": {
           "colorbar": {
            "outlinewidth": 0,
            "ticks": ""
           }
          },
          "colorscale": {
           "diverging": [
            [
             0,
             "#8e0152"
            ],
            [
             0.1,
             "#c51b7d"
            ],
            [
             0.2,
             "#de77ae"
            ],
            [
             0.3,
             "#f1b6da"
            ],
            [
             0.4,
             "#fde0ef"
            ],
            [
             0.5,
             "#f7f7f7"
            ],
            [
             0.6,
             "#e6f5d0"
            ],
            [
             0.7,
             "#b8e186"
            ],
            [
             0.8,
             "#7fbc41"
            ],
            [
             0.9,
             "#4d9221"
            ],
            [
             1,
             "#276419"
            ]
           ],
           "sequential": [
            [
             0,
             "#0d0887"
            ],
            [
             0.1111111111111111,
             "#46039f"
            ],
            [
             0.2222222222222222,
             "#7201a8"
            ],
            [
             0.3333333333333333,
             "#9c179e"
            ],
            [
             0.4444444444444444,
             "#bd3786"
            ],
            [
             0.5555555555555556,
             "#d8576b"
            ],
            [
             0.6666666666666666,
             "#ed7953"
            ],
            [
             0.7777777777777778,
             "#fb9f3a"
            ],
            [
             0.8888888888888888,
             "#fdca26"
            ],
            [
             1,
             "#f0f921"
            ]
           ],
           "sequentialminus": [
            [
             0,
             "#0d0887"
            ],
            [
             0.1111111111111111,
             "#46039f"
            ],
            [
             0.2222222222222222,
             "#7201a8"
            ],
            [
             0.3333333333333333,
             "#9c179e"
            ],
            [
             0.4444444444444444,
             "#bd3786"
            ],
            [
             0.5555555555555556,
             "#d8576b"
            ],
            [
             0.6666666666666666,
             "#ed7953"
            ],
            [
             0.7777777777777778,
             "#fb9f3a"
            ],
            [
             0.8888888888888888,
             "#fdca26"
            ],
            [
             1,
             "#f0f921"
            ]
           ]
          },
          "colorway": [
           "#636efa",
           "#EF553B",
           "#00cc96",
           "#ab63fa",
           "#FFA15A",
           "#19d3f3",
           "#FF6692",
           "#B6E880",
           "#FF97FF",
           "#FECB52"
          ],
          "font": {
           "color": "#2a3f5f"
          },
          "geo": {
           "bgcolor": "white",
           "lakecolor": "white",
           "landcolor": "#E5ECF6",
           "showlakes": true,
           "showland": true,
           "subunitcolor": "white"
          },
          "hoverlabel": {
           "align": "left"
          },
          "hovermode": "closest",
          "mapbox": {
           "style": "light"
          },
          "paper_bgcolor": "white",
          "plot_bgcolor": "#E5ECF6",
          "polar": {
           "angularaxis": {
            "gridcolor": "white",
            "linecolor": "white",
            "ticks": ""
           },
           "bgcolor": "#E5ECF6",
           "radialaxis": {
            "gridcolor": "white",
            "linecolor": "white",
            "ticks": ""
           }
          },
          "scene": {
           "xaxis": {
            "backgroundcolor": "#E5ECF6",
            "gridcolor": "white",
            "gridwidth": 2,
            "linecolor": "white",
            "showbackground": true,
            "ticks": "",
            "zerolinecolor": "white"
           },
           "yaxis": {
            "backgroundcolor": "#E5ECF6",
            "gridcolor": "white",
            "gridwidth": 2,
            "linecolor": "white",
            "showbackground": true,
            "ticks": "",
            "zerolinecolor": "white"
           },
           "zaxis": {
            "backgroundcolor": "#E5ECF6",
            "gridcolor": "white",
            "gridwidth": 2,
            "linecolor": "white",
            "showbackground": true,
            "ticks": "",
            "zerolinecolor": "white"
           }
          },
          "shapedefaults": {
           "line": {
            "color": "#2a3f5f"
           }
          },
          "ternary": {
           "aaxis": {
            "gridcolor": "white",
            "linecolor": "white",
            "ticks": ""
           },
           "baxis": {
            "gridcolor": "white",
            "linecolor": "white",
            "ticks": ""
           },
           "bgcolor": "#E5ECF6",
           "caxis": {
            "gridcolor": "white",
            "linecolor": "white",
            "ticks": ""
           }
          },
          "title": {
           "x": 0.05
          },
          "xaxis": {
           "automargin": true,
           "gridcolor": "white",
           "linecolor": "white",
           "ticks": "",
           "title": {
            "standoff": 15
           },
           "zerolinecolor": "white",
           "zerolinewidth": 2
          },
          "yaxis": {
           "automargin": true,
           "gridcolor": "white",
           "linecolor": "white",
           "ticks": "",
           "title": {
            "standoff": 15
           },
           "zerolinecolor": "white",
           "zerolinewidth": 2
          }
         }
        },
        "width": 900,
        "xaxis": {
         "anchor": "y",
         "domain": [
          0,
          1
         ],
         "gridcolor": "lightgray",
         "linecolor": "lightgray",
         "linewidth": 1,
         "matches": "x2",
         "mirror": true,
         "rangeslider": {
          "visible": false
         },
         "showgrid": true,
         "showticklabels": false
        },
        "xaxis2": {
         "anchor": "y2",
         "domain": [
          0,
          1
         ],
         "gridcolor": "lightgray",
         "linecolor": "lightgray",
         "linewidth": 1,
         "mirror": true,
         "showgrid": true
        },
        "yaxis": {
         "anchor": "x",
         "domain": [
          0.37,
          1
         ],
         "gridcolor": "lightgray",
         "linecolor": "gray",
         "linewidth": 1,
         "mirror": true,
         "showgrid": true,
         "showline": true,
         "title": {
          "text": "Price (USD)"
         }
        },
        "yaxis2": {
         "anchor": "x2",
         "domain": [
          0,
          0.27
         ],
         "gridcolor": "lightgray",
         "linecolor": "gray",
         "linewidth": 1,
         "mirror": true,
         "showgrid": true,
         "showline": true,
         "title": {
          "text": "Volume"
         }
        }
       }
      }
     },
     "metadata": {},
     "output_type": "display_data"
    }
   ],
   "source": [
    "plot_candlestick_with_volume(btc_cumsum_subset, 'btc_cusum002')"
   ]
  },
  {
   "cell_type": "code",
   "execution_count": 38,
   "metadata": {},
   "outputs": [
    {
     "data": {
      "application/vnd.plotly.v1+json": {
       "config": {
        "plotlyServerURL": "https://plot.ly"
       },
       "data": [
        {
         "close": [
          44470,
          45366.53,
          44343.84,
          43441.73,
          42510.62,
          43387.99,
          42388,
          41416.22,
          40581.51,
          39588.09,
          40377.55,
          39560.91,
          40403.14,
          41242.26,
          40380.86,
          38945.96,
          39778.65,
          40684.98,
          41524.72
         ],
         "high": [
          46191,
          45375.38,
          45507.14,
          44496.97,
          44298.61,
          43400,
          43410.3,
          42564.06,
          41646.55,
          40896.83,
          40396.51,
          40699,
          40440.8,
          41283.19,
          41561.31,
          40870.36,
          39832.74,
          40727.27,
          41525
         ],
         "low": [
          44470,
          44412,
          44337.89,
          43393.74,
          42414,
          42107.14,
          42388,
          41392.8,
          40560,
          39566.2,
          39200,
          39539,
          39254.63,
          40327.42,
          40310.41,
          38832.53,
          38536.51,
          39747.06,
          40421.67
         ],
         "open": [
          45616.87,
          44470,
          45366.53,
          44343.84,
          43441.73,
          42510.61,
          43387.98,
          42388,
          41416.22,
          40581.52,
          39588.08,
          40377.55,
          39560.9,
          40403.24,
          41242.27,
          40380.86,
          38945.96,
          39778.65,
          40684.98
         ],
         "showlegend": false,
         "type": "candlestick",
         "x": [
          "2022-04-06T00:20:00",
          "2022-04-06T04:56:00",
          "2022-04-06T13:48:00",
          "2022-04-06T17:11:00",
          "2022-04-08T21:53:00",
          "2022-04-10T20:06:00",
          "2022-04-10T22:17:00",
          "2022-04-11T09:59:00",
          "2022-04-11T15:59:00",
          "2022-04-11T20:06:00",
          "2022-04-12T11:33:00",
          "2022-04-12T19:07:00",
          "2022-04-13T13:46:00",
          "2022-04-13T15:23:00",
          "2022-04-14T14:06:00",
          "2022-04-18T04:19:00",
          "2022-04-18T17:09:00",
          "2022-04-18T18:15:00",
          "2022-04-19T14:02:00"
         ],
         "xaxis": "x",
         "yaxis": "y"
        },
        {
         "marker": {
          "color": "darkblue"
         },
         "showlegend": false,
         "type": "bar",
         "x": [
          "2022-04-06T00:20:00",
          "2022-04-06T04:56:00",
          "2022-04-06T13:48:00",
          "2022-04-06T17:11:00",
          "2022-04-08T21:53:00",
          "2022-04-10T20:06:00",
          "2022-04-10T22:17:00",
          "2022-04-11T09:59:00",
          "2022-04-11T15:59:00",
          "2022-04-11T20:06:00",
          "2022-04-12T11:33:00",
          "2022-04-12T19:07:00",
          "2022-04-13T13:46:00",
          "2022-04-13T15:23:00",
          "2022-04-14T14:06:00",
          "2022-04-18T04:19:00",
          "2022-04-18T17:09:00",
          "2022-04-18T18:15:00",
          "2022-04-19T14:02:00"
         ],
         "xaxis": "x2",
         "y": [
          17292.63003,
          6997.16481,
          16075.07298,
          17552.20323,
          92984.22677,
          35612.13899,
          2862.05415,
          23347.13325,
          20161.30883,
          14086.36996,
          35549.34534,
          24849.25145,
          26853.55934,
          8410.37137,
          35206.54977,
          82968.78536,
          28312.23639,
          6759.27197,
          33138.28242
         ],
         "yaxis": "y2"
        }
       ],
       "layout": {
        "height": 600,
        "paper_bgcolor": "white",
        "plot_bgcolor": "white",
        "template": {
         "data": {
          "bar": [
           {
            "error_x": {
             "color": "#2a3f5f"
            },
            "error_y": {
             "color": "#2a3f5f"
            },
            "marker": {
             "line": {
              "color": "#E5ECF6",
              "width": 0.5
             },
             "pattern": {
              "fillmode": "overlay",
              "size": 10,
              "solidity": 0.2
             }
            },
            "type": "bar"
           }
          ],
          "barpolar": [
           {
            "marker": {
             "line": {
              "color": "#E5ECF6",
              "width": 0.5
             },
             "pattern": {
              "fillmode": "overlay",
              "size": 10,
              "solidity": 0.2
             }
            },
            "type": "barpolar"
           }
          ],
          "carpet": [
           {
            "aaxis": {
             "endlinecolor": "#2a3f5f",
             "gridcolor": "white",
             "linecolor": "white",
             "minorgridcolor": "white",
             "startlinecolor": "#2a3f5f"
            },
            "baxis": {
             "endlinecolor": "#2a3f5f",
             "gridcolor": "white",
             "linecolor": "white",
             "minorgridcolor": "white",
             "startlinecolor": "#2a3f5f"
            },
            "type": "carpet"
           }
          ],
          "choropleth": [
           {
            "colorbar": {
             "outlinewidth": 0,
             "ticks": ""
            },
            "type": "choropleth"
           }
          ],
          "contour": [
           {
            "colorbar": {
             "outlinewidth": 0,
             "ticks": ""
            },
            "colorscale": [
             [
              0,
              "#0d0887"
             ],
             [
              0.1111111111111111,
              "#46039f"
             ],
             [
              0.2222222222222222,
              "#7201a8"
             ],
             [
              0.3333333333333333,
              "#9c179e"
             ],
             [
              0.4444444444444444,
              "#bd3786"
             ],
             [
              0.5555555555555556,
              "#d8576b"
             ],
             [
              0.6666666666666666,
              "#ed7953"
             ],
             [
              0.7777777777777778,
              "#fb9f3a"
             ],
             [
              0.8888888888888888,
              "#fdca26"
             ],
             [
              1,
              "#f0f921"
             ]
            ],
            "type": "contour"
           }
          ],
          "contourcarpet": [
           {
            "colorbar": {
             "outlinewidth": 0,
             "ticks": ""
            },
            "type": "contourcarpet"
           }
          ],
          "heatmap": [
           {
            "colorbar": {
             "outlinewidth": 0,
             "ticks": ""
            },
            "colorscale": [
             [
              0,
              "#0d0887"
             ],
             [
              0.1111111111111111,
              "#46039f"
             ],
             [
              0.2222222222222222,
              "#7201a8"
             ],
             [
              0.3333333333333333,
              "#9c179e"
             ],
             [
              0.4444444444444444,
              "#bd3786"
             ],
             [
              0.5555555555555556,
              "#d8576b"
             ],
             [
              0.6666666666666666,
              "#ed7953"
             ],
             [
              0.7777777777777778,
              "#fb9f3a"
             ],
             [
              0.8888888888888888,
              "#fdca26"
             ],
             [
              1,
              "#f0f921"
             ]
            ],
            "type": "heatmap"
           }
          ],
          "heatmapgl": [
           {
            "colorbar": {
             "outlinewidth": 0,
             "ticks": ""
            },
            "colorscale": [
             [
              0,
              "#0d0887"
             ],
             [
              0.1111111111111111,
              "#46039f"
             ],
             [
              0.2222222222222222,
              "#7201a8"
             ],
             [
              0.3333333333333333,
              "#9c179e"
             ],
             [
              0.4444444444444444,
              "#bd3786"
             ],
             [
              0.5555555555555556,
              "#d8576b"
             ],
             [
              0.6666666666666666,
              "#ed7953"
             ],
             [
              0.7777777777777778,
              "#fb9f3a"
             ],
             [
              0.8888888888888888,
              "#fdca26"
             ],
             [
              1,
              "#f0f921"
             ]
            ],
            "type": "heatmapgl"
           }
          ],
          "histogram": [
           {
            "marker": {
             "pattern": {
              "fillmode": "overlay",
              "size": 10,
              "solidity": 0.2
             }
            },
            "type": "histogram"
           }
          ],
          "histogram2d": [
           {
            "colorbar": {
             "outlinewidth": 0,
             "ticks": ""
            },
            "colorscale": [
             [
              0,
              "#0d0887"
             ],
             [
              0.1111111111111111,
              "#46039f"
             ],
             [
              0.2222222222222222,
              "#7201a8"
             ],
             [
              0.3333333333333333,
              "#9c179e"
             ],
             [
              0.4444444444444444,
              "#bd3786"
             ],
             [
              0.5555555555555556,
              "#d8576b"
             ],
             [
              0.6666666666666666,
              "#ed7953"
             ],
             [
              0.7777777777777778,
              "#fb9f3a"
             ],
             [
              0.8888888888888888,
              "#fdca26"
             ],
             [
              1,
              "#f0f921"
             ]
            ],
            "type": "histogram2d"
           }
          ],
          "histogram2dcontour": [
           {
            "colorbar": {
             "outlinewidth": 0,
             "ticks": ""
            },
            "colorscale": [
             [
              0,
              "#0d0887"
             ],
             [
              0.1111111111111111,
              "#46039f"
             ],
             [
              0.2222222222222222,
              "#7201a8"
             ],
             [
              0.3333333333333333,
              "#9c179e"
             ],
             [
              0.4444444444444444,
              "#bd3786"
             ],
             [
              0.5555555555555556,
              "#d8576b"
             ],
             [
              0.6666666666666666,
              "#ed7953"
             ],
             [
              0.7777777777777778,
              "#fb9f3a"
             ],
             [
              0.8888888888888888,
              "#fdca26"
             ],
             [
              1,
              "#f0f921"
             ]
            ],
            "type": "histogram2dcontour"
           }
          ],
          "mesh3d": [
           {
            "colorbar": {
             "outlinewidth": 0,
             "ticks": ""
            },
            "type": "mesh3d"
           }
          ],
          "parcoords": [
           {
            "line": {
             "colorbar": {
              "outlinewidth": 0,
              "ticks": ""
             }
            },
            "type": "parcoords"
           }
          ],
          "pie": [
           {
            "automargin": true,
            "type": "pie"
           }
          ],
          "scatter": [
           {
            "fillpattern": {
             "fillmode": "overlay",
             "size": 10,
             "solidity": 0.2
            },
            "type": "scatter"
           }
          ],
          "scatter3d": [
           {
            "line": {
             "colorbar": {
              "outlinewidth": 0,
              "ticks": ""
             }
            },
            "marker": {
             "colorbar": {
              "outlinewidth": 0,
              "ticks": ""
             }
            },
            "type": "scatter3d"
           }
          ],
          "scattercarpet": [
           {
            "marker": {
             "colorbar": {
              "outlinewidth": 0,
              "ticks": ""
             }
            },
            "type": "scattercarpet"
           }
          ],
          "scattergeo": [
           {
            "marker": {
             "colorbar": {
              "outlinewidth": 0,
              "ticks": ""
             }
            },
            "type": "scattergeo"
           }
          ],
          "scattergl": [
           {
            "marker": {
             "colorbar": {
              "outlinewidth": 0,
              "ticks": ""
             }
            },
            "type": "scattergl"
           }
          ],
          "scattermapbox": [
           {
            "marker": {
             "colorbar": {
              "outlinewidth": 0,
              "ticks": ""
             }
            },
            "type": "scattermapbox"
           }
          ],
          "scatterpolar": [
           {
            "marker": {
             "colorbar": {
              "outlinewidth": 0,
              "ticks": ""
             }
            },
            "type": "scatterpolar"
           }
          ],
          "scatterpolargl": [
           {
            "marker": {
             "colorbar": {
              "outlinewidth": 0,
              "ticks": ""
             }
            },
            "type": "scatterpolargl"
           }
          ],
          "scatterternary": [
           {
            "marker": {
             "colorbar": {
              "outlinewidth": 0,
              "ticks": ""
             }
            },
            "type": "scatterternary"
           }
          ],
          "surface": [
           {
            "colorbar": {
             "outlinewidth": 0,
             "ticks": ""
            },
            "colorscale": [
             [
              0,
              "#0d0887"
             ],
             [
              0.1111111111111111,
              "#46039f"
             ],
             [
              0.2222222222222222,
              "#7201a8"
             ],
             [
              0.3333333333333333,
              "#9c179e"
             ],
             [
              0.4444444444444444,
              "#bd3786"
             ],
             [
              0.5555555555555556,
              "#d8576b"
             ],
             [
              0.6666666666666666,
              "#ed7953"
             ],
             [
              0.7777777777777778,
              "#fb9f3a"
             ],
             [
              0.8888888888888888,
              "#fdca26"
             ],
             [
              1,
              "#f0f921"
             ]
            ],
            "type": "surface"
           }
          ],
          "table": [
           {
            "cells": {
             "fill": {
              "color": "#EBF0F8"
             },
             "line": {
              "color": "white"
             }
            },
            "header": {
             "fill": {
              "color": "#C8D4E3"
             },
             "line": {
              "color": "white"
             }
            },
            "type": "table"
           }
          ]
         },
         "layout": {
          "annotationdefaults": {
           "arrowcolor": "#2a3f5f",
           "arrowhead": 0,
           "arrowwidth": 1
          },
          "autotypenumbers": "strict",
          "coloraxis": {
           "colorbar": {
            "outlinewidth": 0,
            "ticks": ""
           }
          },
          "colorscale": {
           "diverging": [
            [
             0,
             "#8e0152"
            ],
            [
             0.1,
             "#c51b7d"
            ],
            [
             0.2,
             "#de77ae"
            ],
            [
             0.3,
             "#f1b6da"
            ],
            [
             0.4,
             "#fde0ef"
            ],
            [
             0.5,
             "#f7f7f7"
            ],
            [
             0.6,
             "#e6f5d0"
            ],
            [
             0.7,
             "#b8e186"
            ],
            [
             0.8,
             "#7fbc41"
            ],
            [
             0.9,
             "#4d9221"
            ],
            [
             1,
             "#276419"
            ]
           ],
           "sequential": [
            [
             0,
             "#0d0887"
            ],
            [
             0.1111111111111111,
             "#46039f"
            ],
            [
             0.2222222222222222,
             "#7201a8"
            ],
            [
             0.3333333333333333,
             "#9c179e"
            ],
            [
             0.4444444444444444,
             "#bd3786"
            ],
            [
             0.5555555555555556,
             "#d8576b"
            ],
            [
             0.6666666666666666,
             "#ed7953"
            ],
            [
             0.7777777777777778,
             "#fb9f3a"
            ],
            [
             0.8888888888888888,
             "#fdca26"
            ],
            [
             1,
             "#f0f921"
            ]
           ],
           "sequentialminus": [
            [
             0,
             "#0d0887"
            ],
            [
             0.1111111111111111,
             "#46039f"
            ],
            [
             0.2222222222222222,
             "#7201a8"
            ],
            [
             0.3333333333333333,
             "#9c179e"
            ],
            [
             0.4444444444444444,
             "#bd3786"
            ],
            [
             0.5555555555555556,
             "#d8576b"
            ],
            [
             0.6666666666666666,
             "#ed7953"
            ],
            [
             0.7777777777777778,
             "#fb9f3a"
            ],
            [
             0.8888888888888888,
             "#fdca26"
            ],
            [
             1,
             "#f0f921"
            ]
           ]
          },
          "colorway": [
           "#636efa",
           "#EF553B",
           "#00cc96",
           "#ab63fa",
           "#FFA15A",
           "#19d3f3",
           "#FF6692",
           "#B6E880",
           "#FF97FF",
           "#FECB52"
          ],
          "font": {
           "color": "#2a3f5f"
          },
          "geo": {
           "bgcolor": "white",
           "lakecolor": "white",
           "landcolor": "#E5ECF6",
           "showlakes": true,
           "showland": true,
           "subunitcolor": "white"
          },
          "hoverlabel": {
           "align": "left"
          },
          "hovermode": "closest",
          "mapbox": {
           "style": "light"
          },
          "paper_bgcolor": "white",
          "plot_bgcolor": "#E5ECF6",
          "polar": {
           "angularaxis": {
            "gridcolor": "white",
            "linecolor": "white",
            "ticks": ""
           },
           "bgcolor": "#E5ECF6",
           "radialaxis": {
            "gridcolor": "white",
            "linecolor": "white",
            "ticks": ""
           }
          },
          "scene": {
           "xaxis": {
            "backgroundcolor": "#E5ECF6",
            "gridcolor": "white",
            "gridwidth": 2,
            "linecolor": "white",
            "showbackground": true,
            "ticks": "",
            "zerolinecolor": "white"
           },
           "yaxis": {
            "backgroundcolor": "#E5ECF6",
            "gridcolor": "white",
            "gridwidth": 2,
            "linecolor": "white",
            "showbackground": true,
            "ticks": "",
            "zerolinecolor": "white"
           },
           "zaxis": {
            "backgroundcolor": "#E5ECF6",
            "gridcolor": "white",
            "gridwidth": 2,
            "linecolor": "white",
            "showbackground": true,
            "ticks": "",
            "zerolinecolor": "white"
           }
          },
          "shapedefaults": {
           "line": {
            "color": "#2a3f5f"
           }
          },
          "ternary": {
           "aaxis": {
            "gridcolor": "white",
            "linecolor": "white",
            "ticks": ""
           },
           "baxis": {
            "gridcolor": "white",
            "linecolor": "white",
            "ticks": ""
           },
           "bgcolor": "#E5ECF6",
           "caxis": {
            "gridcolor": "white",
            "linecolor": "white",
            "ticks": ""
           }
          },
          "title": {
           "x": 0.05
          },
          "xaxis": {
           "automargin": true,
           "gridcolor": "white",
           "linecolor": "white",
           "ticks": "",
           "title": {
            "standoff": 15
           },
           "zerolinecolor": "white",
           "zerolinewidth": 2
          },
          "yaxis": {
           "automargin": true,
           "gridcolor": "white",
           "linecolor": "white",
           "ticks": "",
           "title": {
            "standoff": 15
           },
           "zerolinecolor": "white",
           "zerolinewidth": 2
          }
         }
        },
        "width": 900,
        "xaxis": {
         "anchor": "y",
         "domain": [
          0,
          1
         ],
         "gridcolor": "lightgray",
         "linecolor": "lightgray",
         "linewidth": 1,
         "matches": "x2",
         "mirror": true,
         "rangeslider": {
          "visible": false
         },
         "showgrid": true,
         "showticklabels": false
        },
        "xaxis2": {
         "anchor": "y2",
         "domain": [
          0,
          1
         ],
         "gridcolor": "lightgray",
         "linecolor": "lightgray",
         "linewidth": 1,
         "mirror": true,
         "showgrid": true
        },
        "yaxis": {
         "anchor": "x",
         "domain": [
          0.37,
          1
         ],
         "gridcolor": "lightgray",
         "linecolor": "gray",
         "linewidth": 1,
         "mirror": true,
         "showgrid": true,
         "showline": true,
         "title": {
          "text": "Price (USD)"
         }
        },
        "yaxis2": {
         "anchor": "x2",
         "domain": [
          0,
          0.27
         ],
         "gridcolor": "lightgray",
         "linecolor": "gray",
         "linewidth": 1,
         "mirror": true,
         "showgrid": true,
         "showline": true,
         "title": {
          "text": "Volume"
         }
        }
       }
      }
     },
     "metadata": {},
     "output_type": "display_data"
    }
   ],
   "source": [
    "plot_candlestick_with_volume(btc_range_subset, 'btc_rangem002')"
   ]
  },
  {
   "cell_type": "code",
   "execution_count": 59,
   "metadata": {},
   "outputs": [
    {
     "data": {
      "application/vnd.plotly.v1+json": {
       "config": {
        "plotlyServerURL": "https://plot.ly"
       },
       "data": [
        {
         "close": [
          45005.88,
          45188.86,
          45220.87,
          45215.88,
          45335.34,
          45375,
          45464.26,
          45276.04,
          45366.85,
          45330.2,
          45072.53,
          44819.19,
          44751,
          44165.9,
          44258.99,
          44168.35,
          43781.3,
          43815.28,
          43837.63,
          43754.57,
          43877.45,
          43845.82,
          43511.33,
          43170.47,
          42894.3,
          43374.97,
          43350.91,
          43294.04,
          43395.57,
          43399.99,
          43380.94,
          43445.33,
          43521.92,
          43457.98,
          43409.73,
          43766.74,
          43554.97,
          43659.98,
          43420.69,
          43331.81,
          43494,
          43657.68,
          43702.95,
          43388.92,
          43567.36,
          43520.07,
          43629.73,
          43444.19,
          43327.46,
          43607.61,
          43615.63,
          43605.96,
          43543.02,
          43654.3,
          43573.45,
          43763.52,
          43700.33,
          43588.73,
          43558.51,
          43298.79,
          43151.75,
          42906.67,
          43750.14,
          43648.01,
          43433.71,
          43004.38,
          42957.57,
          42730.84,
          42798.74,
          42563.36,
          42300.99,
          42252.01,
          42435.02,
          42433.4,
          42180,
          42380,
          42406.82,
          42586.04,
          42440,
          42481.09,
          42463.51,
          42443.11,
          42480.56,
          42445.1,
          42506.35,
          42456.86,
          42460,
          42260.77,
          42445.64,
          42575.67,
          42467.82,
          42511.94,
          42423.18,
          42558.06,
          42543.42,
          42753.97,
          42632.32,
          42767.23,
          42833.03,
          42785.72,
          42740.86,
          42656.7,
          42785.32,
          42633.59,
          42642.54,
          42523.95,
          42530,
          42680.36,
          42590,
          42575.53,
          42698.38,
          42747.47,
          42784.43,
          43103.62,
          43107.6,
          43235.77,
          43101.23,
          42706,
          42111.94,
          42158.85,
          42303.26,
          42159.32,
          41929.34,
          42111.22,
          42259.43,
          42287.6,
          42250,
          42305.75,
          42200,
          41416.22,
          41595.99,
          41067.63,
          41145.46,
          41141.13,
          40803.87,
          40581.51,
          40764.79,
          40459.07,
          40509.98,
          39985.33,
          39838.26,
          39395.29,
          39766.39,
          39530.45,
          39544.31,
          39504.54,
          39490,
          39747.13,
          39921.19,
          40105.78,
          39935.23,
          40183.97,
          40182.03,
          40212.26,
          40149.99,
          40378,
          40618.37,
          40401.03,
          39990.39,
          40179.13,
          40097.23,
          40014.72,
          39667.85,
          39303.1,
          39519.99,
          39693.79,
          39827.96,
          40074.94,
          39936.17,
          39882.9,
          40059.14,
          40076.05,
          40134.51,
          40187.9,
          39958.45,
          40130,
          40162.32,
          40079.99,
          39808.11,
          39722.64,
          39700.01,
          40521.75,
          40642.1,
          41158.18,
          41005.58,
          41043.91,
          41363.01,
          41059.3,
          41241.16,
          41219.72,
          41279.05,
          41147.79,
          41186.23,
          41470.01,
          41419.99,
          41320,
          41290.81,
          41308.44,
          41195.39,
          41271.66,
          41172.72,
          41186.69,
          40946.47,
          40919.99,
          41149.98,
          40605.62,
          40435.04,
          39964.02,
          39951.1,
          39986.83,
          39659,
          39775.82,
          39909.99,
          39970,
          39843.71,
          39942.38,
          39859.99,
          39941,
          40017.2,
          40200.94,
          40103.26,
          40132.73,
          40040,
          40239.43,
          40153.97,
          40112.16,
          40268.24,
          40220,
          40149.99,
          40039.87,
          40450,
          40412.2,
          40383.09,
          40436.01,
          40388.11,
          40313.35,
          40396.69,
          40426,
          40467.48,
          40551.9,
          40560,
          40579.99,
          40522.34,
          40434.12,
          40539.47,
          40456.82,
          40419.52,
          40393.77,
          40369.99,
          40328.79,
          40413.91,
          40416.95,
          40449.11,
          40438.15,
          40493.32,
          40062.68,
          40203.33,
          40153,
          40183.9,
          40210,
          40280,
          40485.28,
          40405.86,
          40378.71,
          40374.13,
          40387.43,
          40166.93,
          40230.86,
          40282.58,
          40364.48,
          40323.16,
          40285.15,
          40390.16,
          40419.82,
          40412.88,
          40464.77,
          40421.72,
          40306.56,
          40359.19,
          40445.3,
          40200.01,
          40101.72,
          40119.99,
          40370.46,
          40263.19,
          40208.14,
          40000,
          39678.12,
          39732.92,
          39752.13,
          39796.91,
          39813.17,
          38819.06,
          38922.21,
          38980.39,
          38919.85,
          38874.87,
          38976.39,
          38923.98,
          38998.54,
          39400.02,
          39326.13,
          39340,
          39254.5,
          39464.46,
          40211.03,
          40646.01,
          40680.68,
          40664.26,
          40801.3,
          40923.74,
          40801.13,
          40880.79,
          40750.05,
          40611,
          40693.79,
          40864.27,
          40660.96,
          40711.6,
          40683.14,
          40725.91,
          40665.4,
          40795.62,
          40687.3,
          40975.11,
          41451.52,
          41565.91,
          41445.87,
          41342.26,
          41345.63,
          41400.55,
          41417.24,
          41293.15,
          41313.07,
          41395.39,
          41493.18,
          41295.37
         ],
         "high": [
          45506.67,
          45365.48,
          45368.29,
          45289.48,
          45375.38,
          45444.83,
          45482.5,
          45507.14,
          45399.28,
          45393.25,
          45453.94,
          45114.27,
          44999.99,
          44965.83,
          44496.97,
          44305.39,
          44274.8,
          43940.38,
          44298.61,
          43973.01,
          44041.1,
          43999,
          43865.27,
          43609.56,
          43559.09,
          43410.16,
          43430,
          43409.96,
          43494.48,
          43465.18,
          43497.63,
          43545.74,
          43553.14,
          43521.93,
          43484.27,
          43834.52,
          43900.99,
          43683.86,
          43781.97,
          43572.81,
          43497.28,
          43695.12,
          43819.99,
          43772.52,
          43600.06,
          43596.3,
          43635.24,
          43750,
          43527.36,
          43647.92,
          43694.15,
          43691.83,
          43659.83,
          43678.2,
          43672.53,
          43780.32,
          43970.62,
          43772.45,
          43621.85,
          43561.37,
          43417.96,
          43193.9,
          43846.15,
          43961.99,
          43714.97,
          43457.18,
          43320.76,
          43192.67,
          42870.7,
          42862.06,
          42660.03,
          42370.06,
          42455.66,
          42466.87,
          42448.16,
          42439.22,
          42560.99,
          42640,
          42601.84,
          42515,
          42509.04,
          42485.44,
          42485.44,
          42540,
          42522.44,
          42519.29,
          42500.2,
          42466.91,
          42522.57,
          42613.8,
          42631.69,
          42583.9,
          42638,
          42584.49,
          42634.88,
          42800,
          42776.62,
          42786.02,
          42896.64,
          42891.91,
          42791.24,
          42799,
          42793.21,
          42796.01,
          42716.75,
          42655.94,
          42563.62,
          42715.84,
          42850,
          42663.68,
          42748.08,
          42776.77,
          42799,
          43310.15,
          43258.83,
          43290,
          43410.3,
          43198.2,
          42740.88,
          42434.51,
          42394.71,
          42414.71,
          42225.77,
          42148.69,
          42283.45,
          42312.75,
          42340.09,
          42350.29,
          42350,
          42202.79,
          41646.55,
          41595.99,
          41246.61,
          41184,
          41220.9,
          40989.99,
          40832.55,
          40896.83,
          40520.45,
          40598.43,
          40269.6,
          39916.45,
          39978.62,
          39840.39,
          39852.95,
          39727.8,
          39550.48,
          39750.01,
          39950,
          40145,
          40186.36,
          40196.39,
          40344.6,
          40245.48,
          40273.24,
          40464,
          40699,
          40627.48,
          40436.31,
          40370,
          40376.8,
          40227.03,
          40056.52,
          39721.7,
          39597.94,
          39750.15,
          39927,
          40289.02,
          40189,
          39936.17,
          40189.27,
          40275,
          40142.6,
          40211.9,
          40228.41,
          40226.07,
          40200.03,
          40212.75,
          40142.11,
          39990,
          39935.3,
          40569.99,
          40957,
          41411,
          41347.69,
          41141.57,
          41374.2,
          41561.31,
          41319.86,
          41337,
          41404.58,
          41340,
          41272.19,
          41500,
          41473.24,
          41450,
          41413.11,
          41343.62,
          41332.7,
          41360,
          41324.93,
          41218.7,
          41225,
          41070.76,
          41186.9,
          41300,
          40659.82,
          40483.66,
          40069,
          40060.05,
          40028.94,
          39847.79,
          39910,
          40000,
          40017.26,
          39946.94,
          40180,
          39978.66,
          40075.35,
          40207.25,
          40266.47,
          40214.59,
          40164.19,
          40449.96,
          40396.59,
          40194.67,
          40399,
          40363.01,
          40258.26,
          40234.81,
          40870.36,
          40578.16,
          40449.23,
          40650.01,
          40472.25,
          40395.5,
          40403.26,
          40465,
          40504.67,
          40602,
          40573.68,
          40709.35,
          40595.02,
          40522.34,
          40563.46,
          40539.47,
          40456.82,
          40450,
          40447.71,
          40414.58,
          40484.7,
          40492.91,
          40472.01,
          40461.73,
          40505.52,
          40577.57,
          40236.01,
          40236.01,
          40197.42,
          40250,
          40394.39,
          40600,
          40699.55,
          40499,
          40413.14,
          40423,
          40387.44,
          40295,
          40340,
          40430,
          40391.71,
          40359.74,
          40424.01,
          40529.79,
          40461.64,
          40485,
          40490.88,
          40595.67,
          40421.15,
          40485.82,
          40476.07,
          40276,
          40160,
          40450,
          40459.52,
          40285.56,
          40340.22,
          40002.97,
          39784.98,
          39828.62,
          39838.45,
          39896.98,
          39847.24,
          38986.2,
          39070.05,
          39068.96,
          39064.97,
          38990.89,
          39138.49,
          39107.99,
          39529.77,
          39620.8,
          39569.92,
          39370,
          39622.15,
          40370.8,
          41116.73,
          40747.02,
          40909.08,
          41099,
          40949.93,
          40972.77,
          41263.43,
          40935.96,
          40764.92,
          40790.85,
          40883.99,
          40877.5,
          40805.69,
          40750,
          40854.82,
          40768.42,
          40815.87,
          41026.89,
          41104,
          41472.34,
          41687.14,
          41760,
          41546.63,
          41370.01,
          41503.76,
          41547.65,
          41417.25,
          41391.24,
          41460.52,
          41539.9,
          41541.23
         ],
         "low": [
          44412,
          44963.13,
          45150,
          45139.93,
          45119,
          45302,
          45251.43,
          45233.59,
          45177.48,
          45205.01,
          45008.02,
          44665.91,
          44670.01,
          44130.12,
          43769.17,
          43705.64,
          43566.01,
          43393.74,
          43177.11,
          43527.09,
          43725.34,
          43792.47,
          43484.71,
          43121,
          42727.35,
          42868.81,
          43120.14,
          43157,
          43210.47,
          43225,
          43300,
          43366.01,
          43421.31,
          43269.5,
          43328.99,
          43302.01,
          43551.74,
          43330.09,
          43352.98,
          43024.86,
          43266.68,
          43472.05,
          43514.01,
          43375.36,
          43376.23,
          43208,
          43466.64,
          43425.22,
          43305.57,
          43310,
          43566.38,
          43550,
          43491.46,
          43476.97,
          43484.28,
          43416.74,
          43650,
          43499.83,
          43500.1,
          43260.76,
          43079.05,
          42751.01,
          42888.8,
          43587.23,
          43395.9,
          42801.26,
          42414,
          42657.5,
          42532.96,
          42450.88,
          42241,
          42107.14,
          42160,
          42294.33,
          42160.63,
          42125.48,
          42341.79,
          42406.01,
          42399.72,
          42364.25,
          42372.54,
          42397.66,
          42322.72,
          42434.36,
          42397.39,
          42445.72,
          42361.01,
          42158.67,
          42183.6,
          42410,
          42454.62,
          42448.11,
          42423.18,
          42390,
          42501.31,
          42488.23,
          42591,
          42597.9,
          42731.1,
          42775.74,
          42706.35,
          42650,
          42645.5,
          42575.4,
          42564.2,
          42489.01,
          42433.49,
          42517.01,
          42525,
          42525.44,
          42541.5,
          42650.02,
          42659.64,
          42784.43,
          43080,
          43075,
          43101.19,
          42654.93,
          41868,
          41980.28,
          41755,
          42153.06,
          41800,
          41828.74,
          42084.56,
          42183.5,
          42153.8,
          42161.45,
          42079.56,
          41392.8,
          41215,
          40968.11,
          40916.01,
          40684.8,
          40716.37,
          40560,
          40485.12,
          40250,
          40238,
          39770.35,
          39500,
          39275.68,
          39200,
          39372.35,
          39357.64,
          39408.16,
          39290,
          39478.73,
          39624.71,
          39870.71,
          39834.98,
          39866.31,
          40108.31,
          40016.09,
          40094.66,
          40105,
          40196.48,
          40154.99,
          39800,
          39959.21,
          39922.98,
          39940.02,
          39632,
          39261.39,
          39254.63,
          39473.91,
          39555.51,
          39819,
          39892.43,
          39588.54,
          39706.19,
          40013.79,
          39931.51,
          40063.51,
          39858.34,
          39910.07,
          40005,
          40029.86,
          39728.59,
          39656.1,
          39648.78,
          39622.87,
          40365,
          40640,
          40938.14,
          40829,
          40990.62,
          41024.49,
          41000,
          41080.01,
          41151.71,
          41075.04,
          41064.35,
          41177.94,
          41347.58,
          41271.08,
          41230.56,
          41242.97,
          41161.12,
          41156.9,
          41165,
          40973.51,
          40941.69,
          40851.5,
          40873.66,
          40516.48,
          40310.41,
          39925.21,
          39772.58,
          39842,
          39626.06,
          39551.94,
          39662.46,
          39861.31,
          39806.25,
          39828.95,
          39766.4,
          39833.87,
          39909.06,
          40000,
          40062.61,
          40081.41,
          39967.72,
          39953.2,
          40100,
          40036.06,
          40087.47,
          40100,
          40106.54,
          40010.2,
          39900,
          40354.54,
          40203.68,
          40356.71,
          40360.14,
          40276,
          40281.35,
          40362.37,
          40341.12,
          40420,
          40468.25,
          40525.67,
          40499.7,
          40410.75,
          40417.29,
          40373.91,
          40367.5,
          40353.54,
          40344.92,
          40277,
          40310.05,
          40390.55,
          40341.83,
          40377,
          40400,
          39991.55,
          40005.78,
          40096.4,
          40106.98,
          40170,
          40185.45,
          40280,
          40392.5,
          40360.11,
          40300.84,
          40326.87,
          40122.05,
          40124.99,
          40226.55,
          40253.1,
          40311.66,
          40234.79,
          40280,
          40390.15,
          40377.77,
          40363.6,
          40366.98,
          40250.02,
          40200,
          40321.92,
          40125.89,
          40050,
          39833.31,
          40087.19,
          40232.62,
          40127,
          39932.66,
          39546.17,
          39580.05,
          39667.63,
          39721.24,
          39743.64,
          38673.18,
          38536.51,
          38883.88,
          38791.73,
          38851.57,
          38799,
          38920.62,
          38923.98,
          38998.54,
          39233.13,
          39302.15,
          39122.78,
          39000,
          39463.21,
          40211.03,
          40421.67,
          40632.51,
          40664.25,
          40710,
          40721.25,
          40792.45,
          40699.09,
          40601,
          40609.3,
          40658.15,
          40649.15,
          40660.96,
          40571,
          40666.9,
          40580,
          40636.74,
          40665.05,
          40662.26,
          40841.65,
          41380.5,
          41371.81,
          41236.55,
          41167.92,
          41312.31,
          41362.02,
          41212.94,
          41260,
          41265.86,
          41395.38,
          41250.26
         ],
         "open": [
          45497.54,
          45005.88,
          45188.87,
          45220.86,
          45215.88,
          45335.34,
          45374.99,
          45464.27,
          45276.04,
          45366.85,
          45330.19,
          45072.54,
          44819.19,
          44751,
          44165.9,
          44258.99,
          44168.36,
          43781.3,
          43815.28,
          43837.64,
          43754.56,
          43877.45,
          43845.81,
          43511.33,
          43170.47,
          42894.3,
          43374.97,
          43350.92,
          43294.04,
          43395.57,
          43399.99,
          43380.94,
          43445.34,
          43521.92,
          43457.98,
          43409.74,
          43766.75,
          43554.97,
          43659.98,
          43420.69,
          43331.82,
          43494,
          43657.68,
          43702.96,
          43388.93,
          43567.35,
          43520.07,
          43629.72,
          43444.2,
          43327.47,
          43607.61,
          43615.63,
          43605.95,
          43543.03,
          43654.3,
          43573.45,
          43763.53,
          43700.33,
          43588.72,
          43558.51,
          43298.79,
          43151.75,
          42906.66,
          43750.15,
          43648.01,
          43433.71,
          43004.37,
          42957.56,
          42730.84,
          42798.75,
          42563.36,
          42300.98,
          42252.02,
          42435.03,
          42433.4,
          42180,
          42380,
          42406.82,
          42586.04,
          42440.01,
          42481.08,
          42463.5,
          42443.11,
          42480.56,
          42445.09,
          42506.34,
          42456.86,
          42459.99,
          42253.02,
          42445.65,
          42575.67,
          42467.82,
          42511.95,
          42423.18,
          42558.06,
          42543.42,
          42753.96,
          42632.31,
          42767.22,
          42833.03,
          42785.72,
          42740.86,
          42656.7,
          42785.33,
          42633.59,
          42642.55,
          42523.94,
          42530,
          42680.35,
          42589.99,
          42575.54,
          42698.38,
          42747.48,
          42784.43,
          43103.61,
          43107.61,
          43235.77,
          43101.23,
          42706.71,
          42111.93,
          42158.85,
          42303.26,
          42159.32,
          41929.33,
          42111.21,
          42259.44,
          42287.61,
          42249.99,
          42305.74,
          42200,
          41416.22,
          41595.98,
          41067.64,
          41145.45,
          41141.13,
          40803.86,
          40581.52,
          40764.79,
          40459.07,
          40509.97,
          39985.34,
          39838.26,
          39395.29,
          39766.39,
          39530.45,
          39544.32,
          39504.54,
          39489.99,
          39747.14,
          39921.18,
          40105.78,
          39935.24,
          40183.97,
          40182.02,
          40212.25,
          40150,
          40378,
          40618.37,
          40401.03,
          39990.38,
          40179.12,
          40097.23,
          40014.71,
          39667.85,
          39303.1,
          39519.99,
          39693.8,
          39827.97,
          40074.95,
          39936.17,
          39882.9,
          40059.15,
          40076.05,
          40134.5,
          40187.89,
          39958.44,
          40129.99,
          40162.32,
          40080,
          39808.1,
          39722.63,
          39700.01,
          40521.75,
          40642.1,
          41158.18,
          41005.59,
          41043.91,
          41363.01,
          41059.31,
          41241.17,
          41219.73,
          41279.04,
          41147.78,
          41186.22,
          41470,
          41420,
          41320,
          41290.81,
          41308.45,
          41195.39,
          41271.66,
          41172.72,
          41186.7,
          40946.47,
          40919.99,
          41149.98,
          40605.63,
          40435.03,
          39964.01,
          39951.11,
          39986.84,
          39658.99,
          39775.81,
          39909.99,
          39969.99,
          39843.71,
          39942.37,
          39859.99,
          39941.01,
          40017.19,
          40200.95,
          40103.25,
          40132.74,
          40040,
          40239.43,
          40153.98,
          40112.17,
          40268.23,
          40220,
          40150,
          40039.87,
          40450,
          40412.21,
          40383.1,
          40436.01,
          40388.11,
          40313.35,
          40396.7,
          40425.99,
          40467.48,
          40551.9,
          40560,
          40579.99,
          40522.34,
          40434.11,
          40539.46,
          40456.82,
          40419.52,
          40393.77,
          40370,
          40328.8,
          40413.91,
          40416.94,
          40449.1,
          40438.16,
          40493.31,
          40062.67,
          40203.33,
          40152.99,
          40183.91,
          40210.01,
          40280,
          40485.28,
          40405.85,
          40378.7,
          40374.13,
          40387.44,
          40166.93,
          40230.87,
          40282.58,
          40364.47,
          40323.15,
          40285.15,
          40390.15,
          40419.82,
          40412.89,
          40464.77,
          40421.72,
          40306.53,
          40359.19,
          40445.3,
          40200,
          40101.72,
          40119.99,
          40370.46,
          40263.19,
          40208.15,
          39999.99,
          39678.11,
          39732.92,
          39752.13,
          39796.91,
          39813.17,
          38819.07,
          38922.21,
          38980.4,
          38919.85,
          38874.87,
          38976.39,
          38923.98,
          38998.54,
          39400.01,
          39326.13,
          39340,
          39254.5,
          39464.46,
          40211.03,
          40646.01,
          40680.68,
          40664.25,
          40801.29,
          40923.75,
          40801.13,
          40880.79,
          40750.05,
          40611.01,
          40693.79,
          40864.27,
          40660.96,
          40711.61,
          40683.13,
          40725.91,
          40665.4,
          40795.61,
          40687.3,
          40975.12,
          41451.52,
          41565.92,
          41445.88,
          41342.25,
          41345.63,
          41400.56,
          41417.23,
          41293.15,
          41313.08,
          41395.38,
          41493.19
         ],
         "showlegend": false,
         "type": "candlestick",
         "x": [
          "2022-04-06T00:00:00",
          "2022-04-06T01:00:00",
          "2022-04-06T02:00:00",
          "2022-04-06T03:00:00",
          "2022-04-06T04:00:00",
          "2022-04-06T05:00:00",
          "2022-04-06T06:00:00",
          "2022-04-06T07:00:00",
          "2022-04-06T08:00:00",
          "2022-04-06T09:00:00",
          "2022-04-06T10:00:00",
          "2022-04-06T11:00:00",
          "2022-04-06T12:00:00",
          "2022-04-06T13:00:00",
          "2022-04-06T14:00:00",
          "2022-04-06T15:00:00",
          "2022-04-06T16:00:00",
          "2022-04-06T17:00:00",
          "2022-04-06T18:00:00",
          "2022-04-06T19:00:00",
          "2022-04-06T20:00:00",
          "2022-04-06T21:00:00",
          "2022-04-06T22:00:00",
          "2022-04-06T23:00:00",
          "2022-04-07T00:00:00",
          "2022-04-07T01:00:00",
          "2022-04-07T02:00:00",
          "2022-04-07T03:00:00",
          "2022-04-07T04:00:00",
          "2022-04-07T05:00:00",
          "2022-04-07T06:00:00",
          "2022-04-07T07:00:00",
          "2022-04-07T08:00:00",
          "2022-04-07T09:00:00",
          "2022-04-07T10:00:00",
          "2022-04-07T11:00:00",
          "2022-04-07T12:00:00",
          "2022-04-07T13:00:00",
          "2022-04-07T14:00:00",
          "2022-04-07T15:00:00",
          "2022-04-07T16:00:00",
          "2022-04-07T17:00:00",
          "2022-04-07T18:00:00",
          "2022-04-07T19:00:00",
          "2022-04-07T20:00:00",
          "2022-04-07T21:00:00",
          "2022-04-07T22:00:00",
          "2022-04-07T23:00:00",
          "2022-04-08T00:00:00",
          "2022-04-08T01:00:00",
          "2022-04-08T02:00:00",
          "2022-04-08T03:00:00",
          "2022-04-08T04:00:00",
          "2022-04-08T05:00:00",
          "2022-04-08T06:00:00",
          "2022-04-08T07:00:00",
          "2022-04-08T08:00:00",
          "2022-04-08T09:00:00",
          "2022-04-08T10:00:00",
          "2022-04-08T11:00:00",
          "2022-04-08T12:00:00",
          "2022-04-08T13:00:00",
          "2022-04-08T14:00:00",
          "2022-04-08T15:00:00",
          "2022-04-08T16:00:00",
          "2022-04-08T17:00:00",
          "2022-04-08T18:00:00",
          "2022-04-08T19:00:00",
          "2022-04-08T20:00:00",
          "2022-04-08T21:00:00",
          "2022-04-08T22:00:00",
          "2022-04-08T23:00:00",
          "2022-04-09T00:00:00",
          "2022-04-09T01:00:00",
          "2022-04-09T02:00:00",
          "2022-04-09T03:00:00",
          "2022-04-09T04:00:00",
          "2022-04-09T05:00:00",
          "2022-04-09T06:00:00",
          "2022-04-09T07:00:00",
          "2022-04-09T08:00:00",
          "2022-04-09T09:00:00",
          "2022-04-09T10:00:00",
          "2022-04-09T11:00:00",
          "2022-04-09T12:00:00",
          "2022-04-09T13:00:00",
          "2022-04-09T14:00:00",
          "2022-04-09T15:00:00",
          "2022-04-09T16:00:00",
          "2022-04-09T17:00:00",
          "2022-04-09T18:00:00",
          "2022-04-09T19:00:00",
          "2022-04-09T20:00:00",
          "2022-04-09T21:00:00",
          "2022-04-09T22:00:00",
          "2022-04-09T23:00:00",
          "2022-04-10T00:00:00",
          "2022-04-10T01:00:00",
          "2022-04-10T02:00:00",
          "2022-04-10T03:00:00",
          "2022-04-10T04:00:00",
          "2022-04-10T05:00:00",
          "2022-04-10T06:00:00",
          "2022-04-10T07:00:00",
          "2022-04-10T08:00:00",
          "2022-04-10T09:00:00",
          "2022-04-10T10:00:00",
          "2022-04-10T11:00:00",
          "2022-04-10T12:00:00",
          "2022-04-10T13:00:00",
          "2022-04-10T14:00:00",
          "2022-04-10T15:00:00",
          "2022-04-10T16:00:00",
          "2022-04-10T17:00:00",
          "2022-04-10T18:00:00",
          "2022-04-10T19:00:00",
          "2022-04-10T20:00:00",
          "2022-04-10T21:00:00",
          "2022-04-10T22:00:00",
          "2022-04-10T23:00:00",
          "2022-04-11T00:00:00",
          "2022-04-11T01:00:00",
          "2022-04-11T02:00:00",
          "2022-04-11T03:00:00",
          "2022-04-11T04:00:00",
          "2022-04-11T05:00:00",
          "2022-04-11T06:00:00",
          "2022-04-11T07:00:00",
          "2022-04-11T08:00:00",
          "2022-04-11T09:00:00",
          "2022-04-11T10:00:00",
          "2022-04-11T11:00:00",
          "2022-04-11T12:00:00",
          "2022-04-11T13:00:00",
          "2022-04-11T14:00:00",
          "2022-04-11T15:00:00",
          "2022-04-11T16:00:00",
          "2022-04-11T17:00:00",
          "2022-04-11T18:00:00",
          "2022-04-11T19:00:00",
          "2022-04-11T20:00:00",
          "2022-04-11T21:00:00",
          "2022-04-11T22:00:00",
          "2022-04-11T23:00:00",
          "2022-04-12T00:00:00",
          "2022-04-12T01:00:00",
          "2022-04-12T02:00:00",
          "2022-04-12T03:00:00",
          "2022-04-12T04:00:00",
          "2022-04-12T05:00:00",
          "2022-04-12T06:00:00",
          "2022-04-12T07:00:00",
          "2022-04-12T08:00:00",
          "2022-04-12T09:00:00",
          "2022-04-12T10:00:00",
          "2022-04-12T11:00:00",
          "2022-04-12T12:00:00",
          "2022-04-12T13:00:00",
          "2022-04-12T14:00:00",
          "2022-04-12T15:00:00",
          "2022-04-12T16:00:00",
          "2022-04-12T17:00:00",
          "2022-04-12T18:00:00",
          "2022-04-12T19:00:00",
          "2022-04-12T20:00:00",
          "2022-04-12T21:00:00",
          "2022-04-12T22:00:00",
          "2022-04-12T23:00:00",
          "2022-04-13T00:00:00",
          "2022-04-13T01:00:00",
          "2022-04-13T02:00:00",
          "2022-04-13T03:00:00",
          "2022-04-13T04:00:00",
          "2022-04-13T05:00:00",
          "2022-04-13T06:00:00",
          "2022-04-13T07:00:00",
          "2022-04-13T08:00:00",
          "2022-04-13T09:00:00",
          "2022-04-13T10:00:00",
          "2022-04-13T11:00:00",
          "2022-04-13T12:00:00",
          "2022-04-13T13:00:00",
          "2022-04-13T14:00:00",
          "2022-04-13T15:00:00",
          "2022-04-13T16:00:00",
          "2022-04-13T17:00:00",
          "2022-04-13T18:00:00",
          "2022-04-13T19:00:00",
          "2022-04-13T20:00:00",
          "2022-04-13T21:00:00",
          "2022-04-13T22:00:00",
          "2022-04-13T23:00:00",
          "2022-04-14T00:00:00",
          "2022-04-14T01:00:00",
          "2022-04-14T02:00:00",
          "2022-04-14T03:00:00",
          "2022-04-14T04:00:00",
          "2022-04-14T05:00:00",
          "2022-04-14T06:00:00",
          "2022-04-14T07:00:00",
          "2022-04-14T08:00:00",
          "2022-04-14T09:00:00",
          "2022-04-14T10:00:00",
          "2022-04-14T11:00:00",
          "2022-04-14T12:00:00",
          "2022-04-14T13:00:00",
          "2022-04-14T14:00:00",
          "2022-04-14T15:00:00",
          "2022-04-14T16:00:00",
          "2022-04-14T17:00:00",
          "2022-04-14T18:00:00",
          "2022-04-14T19:00:00",
          "2022-04-14T20:00:00",
          "2022-04-14T21:00:00",
          "2022-04-14T22:00:00",
          "2022-04-14T23:00:00",
          "2022-04-15T00:00:00",
          "2022-04-15T01:00:00",
          "2022-04-15T02:00:00",
          "2022-04-15T03:00:00",
          "2022-04-15T04:00:00",
          "2022-04-15T05:00:00",
          "2022-04-15T06:00:00",
          "2022-04-15T07:00:00",
          "2022-04-15T08:00:00",
          "2022-04-15T09:00:00",
          "2022-04-15T10:00:00",
          "2022-04-15T11:00:00",
          "2022-04-15T12:00:00",
          "2022-04-15T13:00:00",
          "2022-04-15T14:00:00",
          "2022-04-15T15:00:00",
          "2022-04-15T16:00:00",
          "2022-04-15T17:00:00",
          "2022-04-15T18:00:00",
          "2022-04-15T19:00:00",
          "2022-04-15T20:00:00",
          "2022-04-15T21:00:00",
          "2022-04-15T22:00:00",
          "2022-04-15T23:00:00",
          "2022-04-16T00:00:00",
          "2022-04-16T01:00:00",
          "2022-04-16T02:00:00",
          "2022-04-16T03:00:00",
          "2022-04-16T04:00:00",
          "2022-04-16T05:00:00",
          "2022-04-16T06:00:00",
          "2022-04-16T07:00:00",
          "2022-04-16T08:00:00",
          "2022-04-16T09:00:00",
          "2022-04-16T10:00:00",
          "2022-04-16T11:00:00",
          "2022-04-16T12:00:00",
          "2022-04-16T13:00:00",
          "2022-04-16T14:00:00",
          "2022-04-16T15:00:00",
          "2022-04-16T16:00:00",
          "2022-04-16T17:00:00",
          "2022-04-16T18:00:00",
          "2022-04-16T19:00:00",
          "2022-04-16T20:00:00",
          "2022-04-16T21:00:00",
          "2022-04-16T22:00:00",
          "2022-04-16T23:00:00",
          "2022-04-17T00:00:00",
          "2022-04-17T01:00:00",
          "2022-04-17T02:00:00",
          "2022-04-17T03:00:00",
          "2022-04-17T04:00:00",
          "2022-04-17T05:00:00",
          "2022-04-17T06:00:00",
          "2022-04-17T07:00:00",
          "2022-04-17T08:00:00",
          "2022-04-17T09:00:00",
          "2022-04-17T10:00:00",
          "2022-04-17T11:00:00",
          "2022-04-17T12:00:00",
          "2022-04-17T13:00:00",
          "2022-04-17T14:00:00",
          "2022-04-17T15:00:00",
          "2022-04-17T16:00:00",
          "2022-04-17T17:00:00",
          "2022-04-17T18:00:00",
          "2022-04-17T19:00:00",
          "2022-04-17T20:00:00",
          "2022-04-17T21:00:00",
          "2022-04-17T22:00:00",
          "2022-04-17T23:00:00",
          "2022-04-18T00:00:00",
          "2022-04-18T01:00:00",
          "2022-04-18T02:00:00",
          "2022-04-18T03:00:00",
          "2022-04-18T04:00:00",
          "2022-04-18T05:00:00",
          "2022-04-18T06:00:00",
          "2022-04-18T07:00:00",
          "2022-04-18T08:00:00",
          "2022-04-18T09:00:00",
          "2022-04-18T10:00:00",
          "2022-04-18T11:00:00",
          "2022-04-18T12:00:00",
          "2022-04-18T13:00:00",
          "2022-04-18T14:00:00",
          "2022-04-18T15:00:00",
          "2022-04-18T16:00:00",
          "2022-04-18T17:00:00",
          "2022-04-18T18:00:00",
          "2022-04-18T19:00:00",
          "2022-04-18T20:00:00",
          "2022-04-18T21:00:00",
          "2022-04-18T22:00:00",
          "2022-04-18T23:00:00",
          "2022-04-19T00:00:00",
          "2022-04-19T01:00:00",
          "2022-04-19T02:00:00",
          "2022-04-19T03:00:00",
          "2022-04-19T04:00:00",
          "2022-04-19T05:00:00",
          "2022-04-19T06:00:00",
          "2022-04-19T07:00:00",
          "2022-04-19T08:00:00",
          "2022-04-19T09:00:00",
          "2022-04-19T10:00:00",
          "2022-04-19T11:00:00",
          "2022-04-19T12:00:00",
          "2022-04-19T13:00:00",
          "2022-04-19T14:00:00",
          "2022-04-19T15:00:00",
          "2022-04-19T16:00:00",
          "2022-04-19T17:00:00",
          "2022-04-19T18:00:00",
          "2022-04-19T19:00:00",
          "2022-04-19T20:00:00",
          "2022-04-19T21:00:00",
          "2022-04-19T22:00:00",
          "2022-04-19T23:00:00",
          "2022-04-20T00:00:00"
         ],
         "xaxis": "x",
         "yaxis": "y"
        },
        {
         "marker": {
          "color": "lightsteelblue"
         },
         "showlegend": false,
         "type": "bar",
         "x": [
          "2022-04-06T00:00:00",
          "2022-04-06T01:00:00",
          "2022-04-06T02:00:00",
          "2022-04-06T03:00:00",
          "2022-04-06T04:00:00",
          "2022-04-06T05:00:00",
          "2022-04-06T06:00:00",
          "2022-04-06T07:00:00",
          "2022-04-06T08:00:00",
          "2022-04-06T09:00:00",
          "2022-04-06T10:00:00",
          "2022-04-06T11:00:00",
          "2022-04-06T12:00:00",
          "2022-04-06T13:00:00",
          "2022-04-06T14:00:00",
          "2022-04-06T15:00:00",
          "2022-04-06T16:00:00",
          "2022-04-06T17:00:00",
          "2022-04-06T18:00:00",
          "2022-04-06T19:00:00",
          "2022-04-06T20:00:00",
          "2022-04-06T21:00:00",
          "2022-04-06T22:00:00",
          "2022-04-06T23:00:00",
          "2022-04-07T00:00:00",
          "2022-04-07T01:00:00",
          "2022-04-07T02:00:00",
          "2022-04-07T03:00:00",
          "2022-04-07T04:00:00",
          "2022-04-07T05:00:00",
          "2022-04-07T06:00:00",
          "2022-04-07T07:00:00",
          "2022-04-07T08:00:00",
          "2022-04-07T09:00:00",
          "2022-04-07T10:00:00",
          "2022-04-07T11:00:00",
          "2022-04-07T12:00:00",
          "2022-04-07T13:00:00",
          "2022-04-07T14:00:00",
          "2022-04-07T15:00:00",
          "2022-04-07T16:00:00",
          "2022-04-07T17:00:00",
          "2022-04-07T18:00:00",
          "2022-04-07T19:00:00",
          "2022-04-07T20:00:00",
          "2022-04-07T21:00:00",
          "2022-04-07T22:00:00",
          "2022-04-07T23:00:00",
          "2022-04-08T00:00:00",
          "2022-04-08T01:00:00",
          "2022-04-08T02:00:00",
          "2022-04-08T03:00:00",
          "2022-04-08T04:00:00",
          "2022-04-08T05:00:00",
          "2022-04-08T06:00:00",
          "2022-04-08T07:00:00",
          "2022-04-08T08:00:00",
          "2022-04-08T09:00:00",
          "2022-04-08T10:00:00",
          "2022-04-08T11:00:00",
          "2022-04-08T12:00:00",
          "2022-04-08T13:00:00",
          "2022-04-08T14:00:00",
          "2022-04-08T15:00:00",
          "2022-04-08T16:00:00",
          "2022-04-08T17:00:00",
          "2022-04-08T18:00:00",
          "2022-04-08T19:00:00",
          "2022-04-08T20:00:00",
          "2022-04-08T21:00:00",
          "2022-04-08T22:00:00",
          "2022-04-08T23:00:00",
          "2022-04-09T00:00:00",
          "2022-04-09T01:00:00",
          "2022-04-09T02:00:00",
          "2022-04-09T03:00:00",
          "2022-04-09T04:00:00",
          "2022-04-09T05:00:00",
          "2022-04-09T06:00:00",
          "2022-04-09T07:00:00",
          "2022-04-09T08:00:00",
          "2022-04-09T09:00:00",
          "2022-04-09T10:00:00",
          "2022-04-09T11:00:00",
          "2022-04-09T12:00:00",
          "2022-04-09T13:00:00",
          "2022-04-09T14:00:00",
          "2022-04-09T15:00:00",
          "2022-04-09T16:00:00",
          "2022-04-09T17:00:00",
          "2022-04-09T18:00:00",
          "2022-04-09T19:00:00",
          "2022-04-09T20:00:00",
          "2022-04-09T21:00:00",
          "2022-04-09T22:00:00",
          "2022-04-09T23:00:00",
          "2022-04-10T00:00:00",
          "2022-04-10T01:00:00",
          "2022-04-10T02:00:00",
          "2022-04-10T03:00:00",
          "2022-04-10T04:00:00",
          "2022-04-10T05:00:00",
          "2022-04-10T06:00:00",
          "2022-04-10T07:00:00",
          "2022-04-10T08:00:00",
          "2022-04-10T09:00:00",
          "2022-04-10T10:00:00",
          "2022-04-10T11:00:00",
          "2022-04-10T12:00:00",
          "2022-04-10T13:00:00",
          "2022-04-10T14:00:00",
          "2022-04-10T15:00:00",
          "2022-04-10T16:00:00",
          "2022-04-10T17:00:00",
          "2022-04-10T18:00:00",
          "2022-04-10T19:00:00",
          "2022-04-10T20:00:00",
          "2022-04-10T21:00:00",
          "2022-04-10T22:00:00",
          "2022-04-10T23:00:00",
          "2022-04-11T00:00:00",
          "2022-04-11T01:00:00",
          "2022-04-11T02:00:00",
          "2022-04-11T03:00:00",
          "2022-04-11T04:00:00",
          "2022-04-11T05:00:00",
          "2022-04-11T06:00:00",
          "2022-04-11T07:00:00",
          "2022-04-11T08:00:00",
          "2022-04-11T09:00:00",
          "2022-04-11T10:00:00",
          "2022-04-11T11:00:00",
          "2022-04-11T12:00:00",
          "2022-04-11T13:00:00",
          "2022-04-11T14:00:00",
          "2022-04-11T15:00:00",
          "2022-04-11T16:00:00",
          "2022-04-11T17:00:00",
          "2022-04-11T18:00:00",
          "2022-04-11T19:00:00",
          "2022-04-11T20:00:00",
          "2022-04-11T21:00:00",
          "2022-04-11T22:00:00",
          "2022-04-11T23:00:00",
          "2022-04-12T00:00:00",
          "2022-04-12T01:00:00",
          "2022-04-12T02:00:00",
          "2022-04-12T03:00:00",
          "2022-04-12T04:00:00",
          "2022-04-12T05:00:00",
          "2022-04-12T06:00:00",
          "2022-04-12T07:00:00",
          "2022-04-12T08:00:00",
          "2022-04-12T09:00:00",
          "2022-04-12T10:00:00",
          "2022-04-12T11:00:00",
          "2022-04-12T12:00:00",
          "2022-04-12T13:00:00",
          "2022-04-12T14:00:00",
          "2022-04-12T15:00:00",
          "2022-04-12T16:00:00",
          "2022-04-12T17:00:00",
          "2022-04-12T18:00:00",
          "2022-04-12T19:00:00",
          "2022-04-12T20:00:00",
          "2022-04-12T21:00:00",
          "2022-04-12T22:00:00",
          "2022-04-12T23:00:00",
          "2022-04-13T00:00:00",
          "2022-04-13T01:00:00",
          "2022-04-13T02:00:00",
          "2022-04-13T03:00:00",
          "2022-04-13T04:00:00",
          "2022-04-13T05:00:00",
          "2022-04-13T06:00:00",
          "2022-04-13T07:00:00",
          "2022-04-13T08:00:00",
          "2022-04-13T09:00:00",
          "2022-04-13T10:00:00",
          "2022-04-13T11:00:00",
          "2022-04-13T12:00:00",
          "2022-04-13T13:00:00",
          "2022-04-13T14:00:00",
          "2022-04-13T15:00:00",
          "2022-04-13T16:00:00",
          "2022-04-13T17:00:00",
          "2022-04-13T18:00:00",
          "2022-04-13T19:00:00",
          "2022-04-13T20:00:00",
          "2022-04-13T21:00:00",
          "2022-04-13T22:00:00",
          "2022-04-13T23:00:00",
          "2022-04-14T00:00:00",
          "2022-04-14T01:00:00",
          "2022-04-14T02:00:00",
          "2022-04-14T03:00:00",
          "2022-04-14T04:00:00",
          "2022-04-14T05:00:00",
          "2022-04-14T06:00:00",
          "2022-04-14T07:00:00",
          "2022-04-14T08:00:00",
          "2022-04-14T09:00:00",
          "2022-04-14T10:00:00",
          "2022-04-14T11:00:00",
          "2022-04-14T12:00:00",
          "2022-04-14T13:00:00",
          "2022-04-14T14:00:00",
          "2022-04-14T15:00:00",
          "2022-04-14T16:00:00",
          "2022-04-14T17:00:00",
          "2022-04-14T18:00:00",
          "2022-04-14T19:00:00",
          "2022-04-14T20:00:00",
          "2022-04-14T21:00:00",
          "2022-04-14T22:00:00",
          "2022-04-14T23:00:00",
          "2022-04-15T00:00:00",
          "2022-04-15T01:00:00",
          "2022-04-15T02:00:00",
          "2022-04-15T03:00:00",
          "2022-04-15T04:00:00",
          "2022-04-15T05:00:00",
          "2022-04-15T06:00:00",
          "2022-04-15T07:00:00",
          "2022-04-15T08:00:00",
          "2022-04-15T09:00:00",
          "2022-04-15T10:00:00",
          "2022-04-15T11:00:00",
          "2022-04-15T12:00:00",
          "2022-04-15T13:00:00",
          "2022-04-15T14:00:00",
          "2022-04-15T15:00:00",
          "2022-04-15T16:00:00",
          "2022-04-15T17:00:00",
          "2022-04-15T18:00:00",
          "2022-04-15T19:00:00",
          "2022-04-15T20:00:00",
          "2022-04-15T21:00:00",
          "2022-04-15T22:00:00",
          "2022-04-15T23:00:00",
          "2022-04-16T00:00:00",
          "2022-04-16T01:00:00",
          "2022-04-16T02:00:00",
          "2022-04-16T03:00:00",
          "2022-04-16T04:00:00",
          "2022-04-16T05:00:00",
          "2022-04-16T06:00:00",
          "2022-04-16T07:00:00",
          "2022-04-16T08:00:00",
          "2022-04-16T09:00:00",
          "2022-04-16T10:00:00",
          "2022-04-16T11:00:00",
          "2022-04-16T12:00:00",
          "2022-04-16T13:00:00",
          "2022-04-16T14:00:00",
          "2022-04-16T15:00:00",
          "2022-04-16T16:00:00",
          "2022-04-16T17:00:00",
          "2022-04-16T18:00:00",
          "2022-04-16T19:00:00",
          "2022-04-16T20:00:00",
          "2022-04-16T21:00:00",
          "2022-04-16T22:00:00",
          "2022-04-16T23:00:00",
          "2022-04-17T00:00:00",
          "2022-04-17T01:00:00",
          "2022-04-17T02:00:00",
          "2022-04-17T03:00:00",
          "2022-04-17T04:00:00",
          "2022-04-17T05:00:00",
          "2022-04-17T06:00:00",
          "2022-04-17T07:00:00",
          "2022-04-17T08:00:00",
          "2022-04-17T09:00:00",
          "2022-04-17T10:00:00",
          "2022-04-17T11:00:00",
          "2022-04-17T12:00:00",
          "2022-04-17T13:00:00",
          "2022-04-17T14:00:00",
          "2022-04-17T15:00:00",
          "2022-04-17T16:00:00",
          "2022-04-17T17:00:00",
          "2022-04-17T18:00:00",
          "2022-04-17T19:00:00",
          "2022-04-17T20:00:00",
          "2022-04-17T21:00:00",
          "2022-04-17T22:00:00",
          "2022-04-17T23:00:00",
          "2022-04-18T00:00:00",
          "2022-04-18T01:00:00",
          "2022-04-18T02:00:00",
          "2022-04-18T03:00:00",
          "2022-04-18T04:00:00",
          "2022-04-18T05:00:00",
          "2022-04-18T06:00:00",
          "2022-04-18T07:00:00",
          "2022-04-18T08:00:00",
          "2022-04-18T09:00:00",
          "2022-04-18T10:00:00",
          "2022-04-18T11:00:00",
          "2022-04-18T12:00:00",
          "2022-04-18T13:00:00",
          "2022-04-18T14:00:00",
          "2022-04-18T15:00:00",
          "2022-04-18T16:00:00",
          "2022-04-18T17:00:00",
          "2022-04-18T18:00:00",
          "2022-04-18T19:00:00",
          "2022-04-18T20:00:00",
          "2022-04-18T21:00:00",
          "2022-04-18T22:00:00",
          "2022-04-18T23:00:00",
          "2022-04-19T00:00:00",
          "2022-04-19T01:00:00",
          "2022-04-19T02:00:00",
          "2022-04-19T03:00:00",
          "2022-04-19T04:00:00",
          "2022-04-19T05:00:00",
          "2022-04-19T06:00:00",
          "2022-04-19T07:00:00",
          "2022-04-19T08:00:00",
          "2022-04-19T09:00:00",
          "2022-04-19T10:00:00",
          "2022-04-19T11:00:00",
          "2022-04-19T12:00:00",
          "2022-04-19T13:00:00",
          "2022-04-19T14:00:00",
          "2022-04-19T15:00:00",
          "2022-04-19T16:00:00",
          "2022-04-19T17:00:00",
          "2022-04-19T18:00:00",
          "2022-04-19T19:00:00",
          "2022-04-19T20:00:00",
          "2022-04-19T21:00:00",
          "2022-04-19T22:00:00",
          "2022-04-19T23:00:00",
          "2022-04-20T00:00:00"
         ],
         "xaxis": "x2",
         "y": [
          6445.51922,
          1677.29334,
          848.14718,
          736.20798,
          875.62253,
          735.96483,
          1327.43298,
          1262.25479,
          1214.65814,
          842.65329,
          1997.85052,
          3700.53654,
          2355.35781,
          4798.23749,
          6039.95689,
          3945.39906,
          3986.53099,
          3205.11503,
          6483.66757,
          2766.10858,
          1353.94246,
          977.96036,
          1126.17817,
          2146.73361,
          3738.44955,
          2224.9679,
          1226.51086,
          1255.75246,
          1169.59279,
          1217.55336,
          929.11382,
          1246.42515,
          964.22773,
          1191.87092,
          954.90136,
          2809.47051,
          1631.63551,
          2268.17802,
          2109.61707,
          2804.13397,
          1567.91119,
          1634.74431,
          1635.98052,
          1261.65436,
          714.68054,
          954.30979,
          800.61276,
          1084.24711,
          1004.29322,
          1021.10737,
          772.47903,
          547.4576500000001,
          509.97862,
          659.14366,
          1187.43884,
          1556.4029,
          2334.89149,
          1233.32916,
          887.9580100000001,
          1880.17355,
          1713.44905,
          3636.19827,
          3948.19621,
          2407.37189,
          1490.41591,
          3040.57954,
          4995.30505,
          1959.31305,
          1269.49201,
          997.61688,
          1803.83308,
          1518.61759,
          1403.09674,
          748.41319,
          894.66743,
          1000.62984,
          849.16273,
          721.2542100000001,
          606.86637,
          596.68457,
          594.39467,
          475.82385,
          584.01232,
          580.5026,
          707.57097,
          576.5279,
          892.78165,
          1331.57722,
          1228.98827,
          694.01053,
          436.61166,
          609.0946,
          419.45489,
          425.13616,
          439.09087,
          1075.30723,
          609.62172,
          489.67289,
          507.70146,
          507.09099,
          345.20871,
          471.15811,
          439.85009,
          568.83472,
          513.84297,
          630.29251,
          592.10781,
          614.98094,
          1188.11992,
          563.57179,
          647.81139,
          651.20995,
          745.74316,
          2448.37291,
          863.39192,
          645.97898,
          924.48097,
          1103.88956,
          4409.45383,
          2288.70673,
          2724.82272,
          1029.59676,
          3752.11732,
          1326.16362,
          989.29185,
          830.96408,
          824.20199,
          963.65274,
          1452.29216,
          3808.12893,
          4364.96597,
          4229.29764,
          2739.34023,
          4059.87941,
          2705.43168,
          2062.3939,
          3114.81231,
          3270.42247,
          1441.60443,
          5230.21519,
          4362.21223,
          2737.45528,
          3367.38574,
          2173.79856,
          3026.11925,
          2077.08447,
          1836.21963,
          1654.82549,
          2169.61794,
          2447.21004,
          2016.83778,
          2746.76562,
          2076.09475,
          1472.44762,
          1387.97695,
          1985.98708,
          5896.31434,
          4269.32189,
          3856.304,
          2422.61727,
          2470.46725,
          1921.53762,
          2529.40412,
          3111.24907,
          1716.66943,
          1252.26075,
          1626.56329,
          1781.12213,
          1168.21926,
          1514.99829,
          1295.7161,
          954.46905,
          672.83924,
          763.44194,
          984.30171,
          1293.85167,
          1092.54646,
          918.60258,
          1421.31832,
          1437.29346,
          1843.9893,
          4002.65579,
          4840.88732,
          4436.77629,
          2487.51173,
          2550.19169,
          1420.36184,
          2088.3285,
          1093.07359,
          687.31731,
          1099.34099,
          1274.24011,
          1275.32515,
          1489.01258,
          1016.68136,
          1036.40448,
          975.51404,
          551.62149,
          947.46841,
          934.16859,
          1020.29445,
          1661.27352,
          1601.70113,
          1222.59425,
          1754.23484,
          3760.4247,
          3552.21665,
          3229.43185,
          3049.26909,
          1440.41784,
          1719.77026,
          1463.19751,
          1191.67137,
          629.27941,
          877.56531,
          407.47573,
          1357.42561,
          940.72787,
          642.37189,
          829.28757,
          784.39545,
          719.80807,
          766.7563,
          1858.30014,
          1633.77665,
          774.88876,
          1032.42238,
          870.47033,
          754.45673,
          1166.26078,
          2711.56276,
          1614.52281,
          1206.55006,
          1323.42996,
          598.67288,
          581.56669,
          412.66455,
          387.30679,
          558.3651,
          500.36726,
          548.17832,
          656.88441,
          502.06116,
          563.82673,
          518.75393,
          531.50506,
          402.69155,
          467.82541,
          443.87433,
          825.48297,
          712.24734,
          686.41342,
          756.47976,
          579.16652,
          497.09589,
          2329.14942,
          763.54151,
          447.04961,
          305.51699,
          442.46418,
          415.06685,
          703.25763,
          1271.72769,
          435.1865,
          505.34015,
          240.24556,
          693.66937,
          434.99368,
          291.55063,
          325.65266,
          358.55481,
          337.17292,
          573.226,
          688.77151,
          396.17757,
          502.42203,
          437.96495,
          1647.94177,
          804.50541,
          645.51978,
          996.43042,
          926.98236,
          1660.56701,
          1028.90747,
          734.27847,
          587.11214,
          1788.05433,
          3382.45159,
          1597.81786,
          936.15216,
          836.6054,
          694.52326,
          5910.36415,
          2664.91735,
          1252.17316,
          1801.61014,
          1140.00086,
          1362.37489,
          1290.77413,
          1136.99587,
          2598.94732,
          3524.72302,
          2647.31019,
          1857.04882,
          2649.34546,
          6018.08022,
          6382.58595,
          2392.74189,
          1637.34137,
          1731.3162,
          976.57394,
          1203.17214,
          2760.44917,
          829.5274900000001,
          943.03519,
          1045.17887,
          894.52211,
          644.4931,
          696.79506,
          1022.86614,
          939.91756,
          1032.06058,
          1102.04205,
          1361.26984,
          1843.39091,
          4784.33766,
          3945.51147,
          2627.42342,
          2102.87183,
          1420.25709,
          1132.24277,
          1340.95499,
          1157.40014,
          609.70504,
          702.11,
          850.49595,
          1226.31947
         ],
         "yaxis": "y2"
        }
       ],
       "layout": {
        "height": 600,
        "paper_bgcolor": "white",
        "plot_bgcolor": "white",
        "template": {
         "data": {
          "bar": [
           {
            "error_x": {
             "color": "#2a3f5f"
            },
            "error_y": {
             "color": "#2a3f5f"
            },
            "marker": {
             "line": {
              "color": "#E5ECF6",
              "width": 0.5
             },
             "pattern": {
              "fillmode": "overlay",
              "size": 10,
              "solidity": 0.2
             }
            },
            "type": "bar"
           }
          ],
          "barpolar": [
           {
            "marker": {
             "line": {
              "color": "#E5ECF6",
              "width": 0.5
             },
             "pattern": {
              "fillmode": "overlay",
              "size": 10,
              "solidity": 0.2
             }
            },
            "type": "barpolar"
           }
          ],
          "carpet": [
           {
            "aaxis": {
             "endlinecolor": "#2a3f5f",
             "gridcolor": "white",
             "linecolor": "white",
             "minorgridcolor": "white",
             "startlinecolor": "#2a3f5f"
            },
            "baxis": {
             "endlinecolor": "#2a3f5f",
             "gridcolor": "white",
             "linecolor": "white",
             "minorgridcolor": "white",
             "startlinecolor": "#2a3f5f"
            },
            "type": "carpet"
           }
          ],
          "choropleth": [
           {
            "colorbar": {
             "outlinewidth": 0,
             "ticks": ""
            },
            "type": "choropleth"
           }
          ],
          "contour": [
           {
            "colorbar": {
             "outlinewidth": 0,
             "ticks": ""
            },
            "colorscale": [
             [
              0,
              "#0d0887"
             ],
             [
              0.1111111111111111,
              "#46039f"
             ],
             [
              0.2222222222222222,
              "#7201a8"
             ],
             [
              0.3333333333333333,
              "#9c179e"
             ],
             [
              0.4444444444444444,
              "#bd3786"
             ],
             [
              0.5555555555555556,
              "#d8576b"
             ],
             [
              0.6666666666666666,
              "#ed7953"
             ],
             [
              0.7777777777777778,
              "#fb9f3a"
             ],
             [
              0.8888888888888888,
              "#fdca26"
             ],
             [
              1,
              "#f0f921"
             ]
            ],
            "type": "contour"
           }
          ],
          "contourcarpet": [
           {
            "colorbar": {
             "outlinewidth": 0,
             "ticks": ""
            },
            "type": "contourcarpet"
           }
          ],
          "heatmap": [
           {
            "colorbar": {
             "outlinewidth": 0,
             "ticks": ""
            },
            "colorscale": [
             [
              0,
              "#0d0887"
             ],
             [
              0.1111111111111111,
              "#46039f"
             ],
             [
              0.2222222222222222,
              "#7201a8"
             ],
             [
              0.3333333333333333,
              "#9c179e"
             ],
             [
              0.4444444444444444,
              "#bd3786"
             ],
             [
              0.5555555555555556,
              "#d8576b"
             ],
             [
              0.6666666666666666,
              "#ed7953"
             ],
             [
              0.7777777777777778,
              "#fb9f3a"
             ],
             [
              0.8888888888888888,
              "#fdca26"
             ],
             [
              1,
              "#f0f921"
             ]
            ],
            "type": "heatmap"
           }
          ],
          "heatmapgl": [
           {
            "colorbar": {
             "outlinewidth": 0,
             "ticks": ""
            },
            "colorscale": [
             [
              0,
              "#0d0887"
             ],
             [
              0.1111111111111111,
              "#46039f"
             ],
             [
              0.2222222222222222,
              "#7201a8"
             ],
             [
              0.3333333333333333,
              "#9c179e"
             ],
             [
              0.4444444444444444,
              "#bd3786"
             ],
             [
              0.5555555555555556,
              "#d8576b"
             ],
             [
              0.6666666666666666,
              "#ed7953"
             ],
             [
              0.7777777777777778,
              "#fb9f3a"
             ],
             [
              0.8888888888888888,
              "#fdca26"
             ],
             [
              1,
              "#f0f921"
             ]
            ],
            "type": "heatmapgl"
           }
          ],
          "histogram": [
           {
            "marker": {
             "pattern": {
              "fillmode": "overlay",
              "size": 10,
              "solidity": 0.2
             }
            },
            "type": "histogram"
           }
          ],
          "histogram2d": [
           {
            "colorbar": {
             "outlinewidth": 0,
             "ticks": ""
            },
            "colorscale": [
             [
              0,
              "#0d0887"
             ],
             [
              0.1111111111111111,
              "#46039f"
             ],
             [
              0.2222222222222222,
              "#7201a8"
             ],
             [
              0.3333333333333333,
              "#9c179e"
             ],
             [
              0.4444444444444444,
              "#bd3786"
             ],
             [
              0.5555555555555556,
              "#d8576b"
             ],
             [
              0.6666666666666666,
              "#ed7953"
             ],
             [
              0.7777777777777778,
              "#fb9f3a"
             ],
             [
              0.8888888888888888,
              "#fdca26"
             ],
             [
              1,
              "#f0f921"
             ]
            ],
            "type": "histogram2d"
           }
          ],
          "histogram2dcontour": [
           {
            "colorbar": {
             "outlinewidth": 0,
             "ticks": ""
            },
            "colorscale": [
             [
              0,
              "#0d0887"
             ],
             [
              0.1111111111111111,
              "#46039f"
             ],
             [
              0.2222222222222222,
              "#7201a8"
             ],
             [
              0.3333333333333333,
              "#9c179e"
             ],
             [
              0.4444444444444444,
              "#bd3786"
             ],
             [
              0.5555555555555556,
              "#d8576b"
             ],
             [
              0.6666666666666666,
              "#ed7953"
             ],
             [
              0.7777777777777778,
              "#fb9f3a"
             ],
             [
              0.8888888888888888,
              "#fdca26"
             ],
             [
              1,
              "#f0f921"
             ]
            ],
            "type": "histogram2dcontour"
           }
          ],
          "mesh3d": [
           {
            "colorbar": {
             "outlinewidth": 0,
             "ticks": ""
            },
            "type": "mesh3d"
           }
          ],
          "parcoords": [
           {
            "line": {
             "colorbar": {
              "outlinewidth": 0,
              "ticks": ""
             }
            },
            "type": "parcoords"
           }
          ],
          "pie": [
           {
            "automargin": true,
            "type": "pie"
           }
          ],
          "scatter": [
           {
            "fillpattern": {
             "fillmode": "overlay",
             "size": 10,
             "solidity": 0.2
            },
            "type": "scatter"
           }
          ],
          "scatter3d": [
           {
            "line": {
             "colorbar": {
              "outlinewidth": 0,
              "ticks": ""
             }
            },
            "marker": {
             "colorbar": {
              "outlinewidth": 0,
              "ticks": ""
             }
            },
            "type": "scatter3d"
           }
          ],
          "scattercarpet": [
           {
            "marker": {
             "colorbar": {
              "outlinewidth": 0,
              "ticks": ""
             }
            },
            "type": "scattercarpet"
           }
          ],
          "scattergeo": [
           {
            "marker": {
             "colorbar": {
              "outlinewidth": 0,
              "ticks": ""
             }
            },
            "type": "scattergeo"
           }
          ],
          "scattergl": [
           {
            "marker": {
             "colorbar": {
              "outlinewidth": 0,
              "ticks": ""
             }
            },
            "type": "scattergl"
           }
          ],
          "scattermapbox": [
           {
            "marker": {
             "colorbar": {
              "outlinewidth": 0,
              "ticks": ""
             }
            },
            "type": "scattermapbox"
           }
          ],
          "scatterpolar": [
           {
            "marker": {
             "colorbar": {
              "outlinewidth": 0,
              "ticks": ""
             }
            },
            "type": "scatterpolar"
           }
          ],
          "scatterpolargl": [
           {
            "marker": {
             "colorbar": {
              "outlinewidth": 0,
              "ticks": ""
             }
            },
            "type": "scatterpolargl"
           }
          ],
          "scatterternary": [
           {
            "marker": {
             "colorbar": {
              "outlinewidth": 0,
              "ticks": ""
             }
            },
            "type": "scatterternary"
           }
          ],
          "surface": [
           {
            "colorbar": {
             "outlinewidth": 0,
             "ticks": ""
            },
            "colorscale": [
             [
              0,
              "#0d0887"
             ],
             [
              0.1111111111111111,
              "#46039f"
             ],
             [
              0.2222222222222222,
              "#7201a8"
             ],
             [
              0.3333333333333333,
              "#9c179e"
             ],
             [
              0.4444444444444444,
              "#bd3786"
             ],
             [
              0.5555555555555556,
              "#d8576b"
             ],
             [
              0.6666666666666666,
              "#ed7953"
             ],
             [
              0.7777777777777778,
              "#fb9f3a"
             ],
             [
              0.8888888888888888,
              "#fdca26"
             ],
             [
              1,
              "#f0f921"
             ]
            ],
            "type": "surface"
           }
          ],
          "table": [
           {
            "cells": {
             "fill": {
              "color": "#EBF0F8"
             },
             "line": {
              "color": "white"
             }
            },
            "header": {
             "fill": {
              "color": "#C8D4E3"
             },
             "line": {
              "color": "white"
             }
            },
            "type": "table"
           }
          ]
         },
         "layout": {
          "annotationdefaults": {
           "arrowcolor": "#2a3f5f",
           "arrowhead": 0,
           "arrowwidth": 1
          },
          "autotypenumbers": "strict",
          "coloraxis": {
           "colorbar": {
            "outlinewidth": 0,
            "ticks": ""
           }
          },
          "colorscale": {
           "diverging": [
            [
             0,
             "#8e0152"
            ],
            [
             0.1,
             "#c51b7d"
            ],
            [
             0.2,
             "#de77ae"
            ],
            [
             0.3,
             "#f1b6da"
            ],
            [
             0.4,
             "#fde0ef"
            ],
            [
             0.5,
             "#f7f7f7"
            ],
            [
             0.6,
             "#e6f5d0"
            ],
            [
             0.7,
             "#b8e186"
            ],
            [
             0.8,
             "#7fbc41"
            ],
            [
             0.9,
             "#4d9221"
            ],
            [
             1,
             "#276419"
            ]
           ],
           "sequential": [
            [
             0,
             "#0d0887"
            ],
            [
             0.1111111111111111,
             "#46039f"
            ],
            [
             0.2222222222222222,
             "#7201a8"
            ],
            [
             0.3333333333333333,
             "#9c179e"
            ],
            [
             0.4444444444444444,
             "#bd3786"
            ],
            [
             0.5555555555555556,
             "#d8576b"
            ],
            [
             0.6666666666666666,
             "#ed7953"
            ],
            [
             0.7777777777777778,
             "#fb9f3a"
            ],
            [
             0.8888888888888888,
             "#fdca26"
            ],
            [
             1,
             "#f0f921"
            ]
           ],
           "sequentialminus": [
            [
             0,
             "#0d0887"
            ],
            [
             0.1111111111111111,
             "#46039f"
            ],
            [
             0.2222222222222222,
             "#7201a8"
            ],
            [
             0.3333333333333333,
             "#9c179e"
            ],
            [
             0.4444444444444444,
             "#bd3786"
            ],
            [
             0.5555555555555556,
             "#d8576b"
            ],
            [
             0.6666666666666666,
             "#ed7953"
            ],
            [
             0.7777777777777778,
             "#fb9f3a"
            ],
            [
             0.8888888888888888,
             "#fdca26"
            ],
            [
             1,
             "#f0f921"
            ]
           ]
          },
          "colorway": [
           "#636efa",
           "#EF553B",
           "#00cc96",
           "#ab63fa",
           "#FFA15A",
           "#19d3f3",
           "#FF6692",
           "#B6E880",
           "#FF97FF",
           "#FECB52"
          ],
          "font": {
           "color": "#2a3f5f"
          },
          "geo": {
           "bgcolor": "white",
           "lakecolor": "white",
           "landcolor": "#E5ECF6",
           "showlakes": true,
           "showland": true,
           "subunitcolor": "white"
          },
          "hoverlabel": {
           "align": "left"
          },
          "hovermode": "closest",
          "mapbox": {
           "style": "light"
          },
          "paper_bgcolor": "white",
          "plot_bgcolor": "#E5ECF6",
          "polar": {
           "angularaxis": {
            "gridcolor": "white",
            "linecolor": "white",
            "ticks": ""
           },
           "bgcolor": "#E5ECF6",
           "radialaxis": {
            "gridcolor": "white",
            "linecolor": "white",
            "ticks": ""
           }
          },
          "scene": {
           "xaxis": {
            "backgroundcolor": "#E5ECF6",
            "gridcolor": "white",
            "gridwidth": 2,
            "linecolor": "white",
            "showbackground": true,
            "ticks": "",
            "zerolinecolor": "white"
           },
           "yaxis": {
            "backgroundcolor": "#E5ECF6",
            "gridcolor": "white",
            "gridwidth": 2,
            "linecolor": "white",
            "showbackground": true,
            "ticks": "",
            "zerolinecolor": "white"
           },
           "zaxis": {
            "backgroundcolor": "#E5ECF6",
            "gridcolor": "white",
            "gridwidth": 2,
            "linecolor": "white",
            "showbackground": true,
            "ticks": "",
            "zerolinecolor": "white"
           }
          },
          "shapedefaults": {
           "line": {
            "color": "#2a3f5f"
           }
          },
          "ternary": {
           "aaxis": {
            "gridcolor": "white",
            "linecolor": "white",
            "ticks": ""
           },
           "baxis": {
            "gridcolor": "white",
            "linecolor": "white",
            "ticks": ""
           },
           "bgcolor": "#E5ECF6",
           "caxis": {
            "gridcolor": "white",
            "linecolor": "white",
            "ticks": ""
           }
          },
          "title": {
           "x": 0.05
          },
          "xaxis": {
           "automargin": true,
           "gridcolor": "white",
           "linecolor": "white",
           "ticks": "",
           "title": {
            "standoff": 15
           },
           "zerolinecolor": "white",
           "zerolinewidth": 2
          },
          "yaxis": {
           "automargin": true,
           "gridcolor": "white",
           "linecolor": "white",
           "ticks": "",
           "title": {
            "standoff": 15
           },
           "zerolinecolor": "white",
           "zerolinewidth": 2
          }
         }
        },
        "width": 900,
        "xaxis": {
         "anchor": "y",
         "domain": [
          0,
          1
         ],
         "gridcolor": "lightgray",
         "linecolor": "lightgray",
         "linewidth": 1,
         "matches": "x2",
         "mirror": true,
         "rangeslider": {
          "visible": false
         },
         "showgrid": true,
         "showticklabels": false
        },
        "xaxis2": {
         "anchor": "y2",
         "domain": [
          0,
          1
         ],
         "gridcolor": "lightgray",
         "linecolor": "lightgray",
         "linewidth": 1,
         "mirror": true,
         "showgrid": true
        },
        "yaxis": {
         "anchor": "x",
         "domain": [
          0.37,
          1
         ],
         "gridcolor": "lightgray",
         "linecolor": "gray",
         "linewidth": 1,
         "showgrid": true,
         "showline": false,
         "title": {
          "text": "Price (USD)"
         }
        },
        "yaxis2": {
         "anchor": "x2",
         "domain": [
          0,
          0.27
         ],
         "gridcolor": "lightgray",
         "linecolor": "gray",
         "linewidth": 1,
         "showgrid": true,
         "showline": false,
         "title": {
          "text": "Volume"
         }
        }
       }
      }
     },
     "metadata": {},
     "output_type": "display_data"
    }
   ],
   "source": [
    "fig = make_subplots(rows=2,\n",
    "                    cols=1,\n",
    "                    shared_xaxes=True,\n",
    "                    vertical_spacing=0.1,\n",
    "                    # subplot_titles=('OHLC', 'Volume'),\n",
    "                    row_width=[0.3, 0.7])\n",
    "\n",
    "# candlestick\n",
    "fig.add_trace(\n",
    "    go.Candlestick(\n",
    "        x=btc_60_min_subset.datetime,\n",
    "        open=btc_60_min_subset.open,\n",
    "        high=btc_60_min_subset.high,\n",
    "        low=btc_60_min_subset.low,\n",
    "        close=btc_60_min_subset.close,\n",
    "        showlegend=False),\n",
    "    row=1,\n",
    "    col=1\n",
    ")\n",
    "\n",
    "# volume\n",
    "fig.add_trace(\n",
    "    go.Bar(x=btc_60_min_subset.datetime,\n",
    "           y=btc_60_min_subset.volume,\n",
    "           showlegend=False),\n",
    "    row=2,\n",
    "    col=1\n",
    ")\n",
    "fig.update_traces(marker_color='lightsteelblue', row=2, col=1)\n",
    "\n",
    "fig.update_yaxes(showline=False,\n",
    "         linewidth=1,\n",
    "         linecolor='gray',\n",
    "         showgrid=True,\n",
    "         gridcolor='lightgray')\n",
    "fig.update_xaxes(\n",
    "            linewidth=1,\n",
    "            linecolor='lightgray',\n",
    "            mirror=True,\n",
    "            showgrid=True,\n",
    "         gridcolor='lightgray')\n",
    "\n",
    "fig.update_yaxes(title_text=\"Price (USD)\", row=1, col=1)\n",
    "fig.update_yaxes(title_text=\"Volume\", row=2, col=1)\n",
    "\n",
    "fig.update_layout(# title=\"BTCUSDT: 60-minute OHLCV\",\n",
    "                  paper_bgcolor='white',\n",
    "                  plot_bgcolor='white',\n",
    "                  width=900,\n",
    "                  height=600)\n",
    "\n",
    "\n",
    "# hide the slide bar\n",
    "fig.update(layout_xaxis_rangeslider_visible=False)\n",
    "pio.write_image(fig, 'btc_60min.png',scale=3, width=2000, height=800)\n",
    "fig.show()"
   ]
  },
  {
   "cell_type": "code",
   "execution_count": null,
   "metadata": {},
   "outputs": [],
   "source": []
  },
  {
   "cell_type": "code",
   "execution_count": 15,
   "metadata": {},
   "outputs": [
    {
     "data": {
      "application/vnd.plotly.v1+json": {
       "config": {
        "plotlyServerURL": "https://plot.ly"
       },
       "data": [
        {
         "close": [
          45423.13,
          44908.51,
          45352,
          45389.98,
          44675.15,
          44771.55,
          44033,
          44205.21,
          43900.05,
          43714.31,
          43453.61,
          43783.6,
          43355.46,
          42974.71,
          43422.2,
          43386.19,
          43888.65,
          43388.14,
          43425.59,
          43554.03,
          43576.82,
          43555.21,
          43442.95,
          42911.59,
          43357.68,
          43376.87,
          42601.01,
          42800,
          42225.84,
          42512.45,
          42496.45,
          42609.39,
          42829.8,
          42850,
          43194.3,
          42650,
          42284.99,
          42152.83,
          42106.83,
          42219.39,
          41295.26,
          41137.99,
          41177.3,
          40952.56,
          40692.83,
          40349.99,
          39814.67,
          39993.63,
          39377.72,
          39610.92,
          39507.91,
          39749.16,
          39924.48,
          40100,
          40388.89,
          40615.65,
          40337.2,
          40284.12,
          39995.17,
          39570.01,
          39718.73,
          39758.99,
          39950,
          39951.74,
          40260.03,
          40591.98,
          41330.1,
          41046.28,
          41169.13,
          41185.28,
          41280.87,
          41212.62,
          41197.51,
          40464.46,
          39932.03,
          39888.25,
          39882.37,
          40146.47,
          40147.28,
          40044.55,
          40316.18,
          40500.85,
          40303,
          40112.05,
          40405.86,
          40427.26,
          40303.69,
          40176.05,
          39693,
          39641.52,
          38880.42,
          38958.45,
          38951.91,
          39489.62,
          39350.49,
          39762.61,
          40289.76,
          40791.84,
          40840,
          40897.94,
          40660.9,
          40667.79,
          40914.53,
          41480,
          41491.53,
          41363.76,
          41439.57
         ],
         "high": [
          46107.58,
          45496.27,
          45368.29,
          45507.14,
          45453.94,
          45063.94,
          44807,
          44496.97,
          44274.8,
          43929.91,
          44298.61,
          43973.01,
          44041.1,
          43559.09,
          43430,
          43553.14,
          43900.99,
          43888.65,
          43572.81,
          43819.99,
          43750,
          43694.15,
          43970.62,
          43516.7,
          43663.75,
          43961.99,
          43416.85,
          43320.76,
          42870.7,
          42514.51,
          42640,
          42613.8,
          42896.64,
          42891.91,
          43197.23,
          43410.3,
          42656.81,
          42434.51,
          42225.77,
          42350.29,
          42236.3,
          41646.55,
          41299.97,
          41223.89,
          40989.99,
          40896.83,
          40598.43,
          40087.85,
          40269.6,
          39978.62,
          39852.95,
          39901.89,
          40186.36,
          40344.6,
          40464,
          40699,
          40629.87,
          40379.25,
          40376.8,
          40056.52,
          39839.3,
          40289.02,
          40275,
          40226.07,
          40350,
          40957,
          41411,
          41347.69,
          41561.31,
          41404.58,
          41500,
          41360,
          41285.23,
          41300,
          40659.82,
          40069,
          40017.26,
          40266.47,
          40449.96,
          40399,
          40870.36,
          40650.01,
          40709.35,
          40577.57,
          40699.55,
          40529.79,
          40595.67,
          40459.52,
          40340.22,
          39896.98,
          39670,
          39070.05,
          39138.49,
          39529.77,
          39620.8,
          39799.8,
          40370.8,
          41116.73,
          40909.08,
          41099,
          41263.43,
          40883.99,
          41104,
          41510.35,
          41760,
          41547.25,
          41547.65
         ],
         "low": [
          45353.81,
          44412,
          44760.28,
          45177.48,
          44674.85,
          44665.91,
          44004.13,
          43769.17,
          43705.64,
          43393.74,
          43177.11,
          43432.53,
          43227.61,
          42727.35,
          42932.47,
          43225,
          43269.5,
          43330.09,
          43024.86,
          43375.36,
          43208,
          43416.74,
          43442.95,
          42882.28,
          42751.01,
          43354.43,
          42414,
          42533.82,
          42107.14,
          42116.31,
          42322.72,
          42158.67,
          42390,
          42433.49,
          42525,
          42559.47,
          41868,
          41755,
          41800,
          42079.56,
          41234,
          41111.01,
          40916.01,
          40684.8,
          40501,
          40250,
          39803.1,
          39500,
          39200,
          39372.35,
          39357.64,
          39290,
          39706.69,
          39866.31,
          40016.09,
          40196.48,
          40154.99,
          39800,
          39922.98,
          39393.5,
          39254.63,
          39555.51,
          39706.19,
          39728.59,
          39622.87,
          40228.59,
          40365,
          40829,
          40877.61,
          41064.35,
          41176.75,
          40973.51,
          40851.5,
          40310.41,
          39886.14,
          39772.58,
          39551.94,
          39766.4,
          39953.2,
          40010.2,
          39900,
          40276,
          40277,
          40112.05,
          39991.55,
          40122.05,
          40200,
          39833.31,
          39546.17,
          39580.05,
          38673.18,
          38536.51,
          38791.73,
          38951.92,
          39233.13,
          39000,
          39740.66,
          40200,
          40421.67,
          40632.51,
          40601,
          40571,
          40611.76,
          40841.65,
          41450.46,
          41167.92,
          41212.94
         ],
         "open": [
          45975.53,
          45420.62,
          44908.5,
          45352,
          45389.98,
          44675.15,
          44771.58,
          44033,
          44205.2,
          43900.05,
          43713.92,
          43453.62,
          43783.6,
          43355.46,
          42974.71,
          43422.46,
          43386.2,
          43888.65,
          43388.14,
          43428,
          43554.03,
          43576.83,
          43555.21,
          43442.96,
          42911.59,
          43357.68,
          43376.87,
          42601.01,
          42800,
          42225.84,
          42512.96,
          42496.45,
          42609.39,
          42829.8,
          42849.99,
          43194.3,
          42649.93,
          42284.99,
          42152.83,
          42106.82,
          42219.36,
          41295.26,
          41137.99,
          41178.37,
          40952.56,
          40692.83,
          40349.99,
          39814.67,
          39993.63,
          39377.72,
          39611.47,
          39507.91,
          39748.97,
          39923.9,
          40100,
          40388.89,
          40615.65,
          40337.2,
          40284.12,
          39995.17,
          39570.01,
          39718.73,
          39758.99,
          39950,
          39951.75,
          40259.97,
          40591.98,
          41328.16,
          41046.28,
          41169,
          41185.28,
          41280.87,
          41212.62,
          41197.51,
          40464.07,
          39931.92,
          39888.25,
          39882.37,
          40146.29,
          40147.28,
          40044.54,
          40316.16,
          40501.03,
          40303,
          40112,
          40405.86,
          40427.23,
          40303.69,
          40176.06,
          39693,
          39641.52,
          38880.42,
          38958.46,
          38951.92,
          39489.62,
          39350.49,
          39762.62,
          40289.77,
          40790.82,
          40840.77,
          40899.99,
          40660.89,
          40667.91,
          40914.43,
          41480,
          41491.53,
          41363.75
         ],
         "showlegend": false,
         "type": "candlestick",
         "x": [
          "2022-04-06T00:01:02.140000",
          "2022-04-06T00:30:45.929000",
          "2022-04-06T04:19:38.633000",
          "2022-04-06T08:59:38.487000",
          "2022-04-06T11:28:52.444000",
          "2022-04-06T13:38:21.562000",
          "2022-04-06T14:04:45.740000",
          "2022-04-06T15:04:46.087000",
          "2022-04-06T16:25:36.228000",
          "2022-04-06T17:31:46.751000",
          "2022-04-06T18:30:29.490000",
          "2022-04-06T19:55:05.051000",
          "2022-04-06T23:44:49.946000",
          "2022-04-07T01:04:30.375000",
          "2022-04-07T04:49:13.372000",
          "2022-04-07T09:12:00.859000",
          "2022-04-07T12:10:33.818000",
          "2022-04-07T14:41:04.231000",
          "2022-04-07T16:58:13.068000",
          "2022-04-07T20:38:34.565000",
          "2022-04-08T01:46:38.077000",
          "2022-04-08T07:52:35.893000",
          "2022-04-08T11:04:34.892000",
          "2022-04-08T13:26:05.034000",
          "2022-04-08T14:50:19.145000",
          "2022-04-08T17:04:02.670000",
          "2022-04-08T18:16:15.064000",
          "2022-04-08T20:02:17.843000",
          "2022-04-08T23:30:48.538000",
          "2022-04-09T04:24:27.318000",
          "2022-04-09T12:35:22.543000",
          "2022-04-09T18:01:51.351000",
          "2022-04-10T03:01:07.803000",
          "2022-04-10T12:07:28.558000",
          "2022-04-10T17:35:52.850000",
          "2022-04-10T22:10:04.705000",
          "2022-04-10T23:17:52.773000",
          "2022-04-11T02:02:53.789000",
          "2022-04-11T04:00:56.565000",
          "2022-04-11T08:56:58.657000",
          "2022-04-11T10:02:29.082000",
          "2022-04-11T11:32:06.570000",
          "2022-04-11T12:51:57.628000",
          "2022-04-11T14:18:20.093000",
          "2022-04-11T16:13:43.831000",
          "2022-04-11T17:43:43.787000",
          "2022-04-11T19:31:25.330000",
          "2022-04-11T20:28:43.142000",
          "2022-04-11T22:13:26.859000",
          "2022-04-12T00:03:12.264000",
          "2022-04-12T02:08:34.325000",
          "2022-04-12T04:51:20.759000",
          "2022-04-12T07:01:36.499000",
          "2022-04-12T09:06:00.287000",
          "2022-04-12T12:10:07.234000",
          "2022-04-12T12:53:33.751000",
          "2022-04-12T14:04:23.490000",
          "2022-04-12T15:28:20.188000",
          "2022-04-12T17:46:12.854000",
          "2022-04-12T19:37:07.242000",
          "2022-04-12T22:36:15.628000",
          "2022-04-13T01:50:15.171000",
          "2022-04-13T07:08:32.729000",
          "2022-04-13T11:20:21.255000",
          "2022-04-13T13:45:13.023000",
          "2022-04-13T14:29:53.672000",
          "2022-04-13T15:34:21.110000",
          "2022-04-13T17:26:11.414000",
          "2022-04-13T20:18:15.967000",
          "2022-04-14T00:54:13.735000",
          "2022-04-14T05:41:07.876000",
          "2022-04-14T10:16:40.386000",
          "2022-04-14T13:27:10.729000",
          "2022-04-14T14:22:16.972000",
          "2022-04-14T16:00:55.278000",
          "2022-04-14T18:27:58.725000",
          "2022-04-14T22:46:57.565000",
          "2022-04-15T04:51:22.169000",
          "2022-04-15T08:51:47.602000",
          "2022-04-15T14:25:08.589000",
          "2022-04-15T16:44:49.708000",
          "2022-04-16T00:40:33.805000",
          "2022-04-16T09:54:40.546000",
          "2022-04-16T15:38:26.761000",
          "2022-04-16T23:00:00.895000",
          "2022-04-17T10:18:41.030000",
          "2022-04-17T16:55:56.417000",
          "2022-04-17T21:29:00.027000",
          "2022-04-17T23:51:56.454000",
          "2022-04-18T04:14:49.887000",
          "2022-04-18T04:52:27.138000",
          "2022-04-18T07:26:24.483000",
          "2022-04-18T11:06:20.335000",
          "2022-04-18T13:31:47.587000",
          "2022-04-18T15:07:11.453000",
          "2022-04-18T17:09:28.109000",
          "2022-04-18T17:56:48.597000",
          "2022-04-18T18:30:09.170000",
          "2022-04-18T20:15:02.922000",
          "2022-04-19T00:03:11.747000",
          "2022-04-19T03:38:25.721000",
          "2022-04-19T09:32:25.687000",
          "2022-04-19T13:03:38.681000",
          "2022-04-19T14:01:37.581000",
          "2022-04-19T15:26:19.468000",
          "2022-04-19T18:17:02.052000",
          "2022-04-19T23:30:06.808000"
         ],
         "xaxis": "x",
         "yaxis": "y"
        },
        {
         "showlegend": false,
         "type": "bar",
         "x": [
          "2022-04-06T00:01:02.140000",
          "2022-04-06T00:30:45.929000",
          "2022-04-06T04:19:38.633000",
          "2022-04-06T08:59:38.487000",
          "2022-04-06T11:28:52.444000",
          "2022-04-06T13:38:21.562000",
          "2022-04-06T14:04:45.740000",
          "2022-04-06T15:04:46.087000",
          "2022-04-06T16:25:36.228000",
          "2022-04-06T17:31:46.751000",
          "2022-04-06T18:30:29.490000",
          "2022-04-06T19:55:05.051000",
          "2022-04-06T23:44:49.946000",
          "2022-04-07T01:04:30.375000",
          "2022-04-07T04:49:13.372000",
          "2022-04-07T09:12:00.859000",
          "2022-04-07T12:10:33.818000",
          "2022-04-07T14:41:04.231000",
          "2022-04-07T16:58:13.068000",
          "2022-04-07T20:38:34.565000",
          "2022-04-08T01:46:38.077000",
          "2022-04-08T07:52:35.893000",
          "2022-04-08T11:04:34.892000",
          "2022-04-08T13:26:05.034000",
          "2022-04-08T14:50:19.145000",
          "2022-04-08T17:04:02.670000",
          "2022-04-08T18:16:15.064000",
          "2022-04-08T20:02:17.843000",
          "2022-04-08T23:30:48.538000",
          "2022-04-09T04:24:27.318000",
          "2022-04-09T12:35:22.543000",
          "2022-04-09T18:01:51.351000",
          "2022-04-10T03:01:07.803000",
          "2022-04-10T12:07:28.558000",
          "2022-04-10T17:35:52.850000",
          "2022-04-10T22:10:04.705000",
          "2022-04-10T23:17:52.773000",
          "2022-04-11T02:02:53.789000",
          "2022-04-11T04:00:56.565000",
          "2022-04-11T08:56:58.657000",
          "2022-04-11T10:02:29.082000",
          "2022-04-11T11:32:06.570000",
          "2022-04-11T12:51:57.628000",
          "2022-04-11T14:18:20.093000",
          "2022-04-11T16:13:43.831000",
          "2022-04-11T17:43:43.787000",
          "2022-04-11T19:31:25.330000",
          "2022-04-11T20:28:43.142000",
          "2022-04-11T22:13:26.859000",
          "2022-04-12T00:03:12.264000",
          "2022-04-12T02:08:34.325000",
          "2022-04-12T04:51:20.759000",
          "2022-04-12T07:01:36.499000",
          "2022-04-12T09:06:00.287000",
          "2022-04-12T12:10:07.234000",
          "2022-04-12T12:53:33.751000",
          "2022-04-12T14:04:23.490000",
          "2022-04-12T15:28:20.188000",
          "2022-04-12T17:46:12.854000",
          "2022-04-12T19:37:07.242000",
          "2022-04-12T22:36:15.628000",
          "2022-04-13T01:50:15.171000",
          "2022-04-13T07:08:32.729000",
          "2022-04-13T11:20:21.255000",
          "2022-04-13T13:45:13.023000",
          "2022-04-13T14:29:53.672000",
          "2022-04-13T15:34:21.110000",
          "2022-04-13T17:26:11.414000",
          "2022-04-13T20:18:15.967000",
          "2022-04-14T00:54:13.735000",
          "2022-04-14T05:41:07.876000",
          "2022-04-14T10:16:40.386000",
          "2022-04-14T13:27:10.729000",
          "2022-04-14T14:22:16.972000",
          "2022-04-14T16:00:55.278000",
          "2022-04-14T18:27:58.725000",
          "2022-04-14T22:46:57.565000",
          "2022-04-15T04:51:22.169000",
          "2022-04-15T08:51:47.602000",
          "2022-04-15T14:25:08.589000",
          "2022-04-15T16:44:49.708000",
          "2022-04-16T00:40:33.805000",
          "2022-04-16T09:54:40.546000",
          "2022-04-16T15:38:26.761000",
          "2022-04-16T23:00:00.895000",
          "2022-04-17T10:18:41.030000",
          "2022-04-17T16:55:56.417000",
          "2022-04-17T21:29:00.027000",
          "2022-04-17T23:51:56.454000",
          "2022-04-18T04:14:49.887000",
          "2022-04-18T04:52:27.138000",
          "2022-04-18T07:26:24.483000",
          "2022-04-18T11:06:20.335000",
          "2022-04-18T13:31:47.587000",
          "2022-04-18T15:07:11.453000",
          "2022-04-18T17:09:28.109000",
          "2022-04-18T17:56:48.597000",
          "2022-04-18T18:30:09.170000",
          "2022-04-18T20:15:02.922000",
          "2022-04-19T00:03:11.747000",
          "2022-04-19T03:38:25.721000",
          "2022-04-19T09:32:25.687000",
          "2022-04-19T13:03:38.681000",
          "2022-04-19T14:01:37.581000",
          "2022-04-19T15:26:19.468000",
          "2022-04-19T18:17:02.052000",
          "2022-04-19T23:30:06.808000"
         ],
         "xaxis": "x2",
         "y": [
          5000.003960000835,
          5000.01169000006,
          5000.2025799999055,
          5001.380629999615,
          5000.394230000073,
          5000.23316000018,
          5002.5295000002525,
          5000.084360000335,
          5000.053020000111,
          5000.193670000686,
          5000.286310001102,
          5000.026640000316,
          5000.059930001047,
          5000.484600000443,
          5000.000380000843,
          5000.015020000824,
          5000.230430000196,
          5000.1244300004355,
          5000.0169000004225,
          5000.172960000507,
          5000.030940000819,
          5000.0860000004695,
          5000.281800000531,
          5000.623650001351,
          5000.479070000661,
          5000.1199600008185,
          5000.0257300017165,
          5000.1399600005325,
          5000.167570000762,
          5002.0484700005245,
          5000.077310000386,
          5000.10749000028,
          5000.278130000457,
          5000.019920000248,
          5000.147440000085,
          5000.546270000281,
          5000.020800000197,
          5000.663010001847,
          5000.607799999881,
          5000.906150000808,
          5000.047360001309,
          5000.962990000429,
          5000.050880000875,
          5000.67456000021,
          5000.014910000416,
          5000.136660000584,
          5000.721840002101,
          5000.027720001125,
          5000.020640000433,
          5000.051780000489,
          5000.023010000179,
          5000.500440000273,
          5000.598400000772,
          5000.902940000239,
          5000.191010000345,
          5000.009860000413,
          5000.543730000405,
          5000.435940000251,
          5000.71937000116,
          5000.135720000621,
          5000.169640000304,
          5000.047480000931,
          5001.100640000581,
          5000.022930000438,
          5000.086610000701,
          5000.016560000981,
          5000.122400000326,
          5000.078770000575,
          5000.018670000562,
          5000.436470000129,
          5001.10775000004,
          5000.891740001051,
          5000.001500000419,
          5000.293550000167,
          5000.562330000133,
          5000.180389999733,
          5001.679000000209,
          5000.34654999977,
          5000.014010000381,
          5000.150890000674,
          5000.084169999995,
          5000.075969999792,
          5000.097190000081,
          5000.084129999845,
          5000.157619999893,
          5000.016499999737,
          5000.111419999562,
          5000.000530000637,
          5000.601359999997,
          5000.784069999962,
          5000.047170000147,
          5000.00660000065,
          5000.001750000157,
          5000.1452500003215,
          5000.003660000509,
          5000.318230000566,
          5000.069610000111,
          5000.0006700003805,
          5000.016840000203,
          5000.173670000644,
          5000.020210000941,
          5002.860650000522,
          5000.127660000091,
          5000.099690000172,
          5000.484580000421,
          5000.002580000905,
          5000.123530000932
         ],
         "yaxis": "y2"
        }
       ],
       "layout": {
        "annotations": [
         {
          "font": {
           "size": 16
          },
          "showarrow": false,
          "text": "OHLC",
          "x": 0.5,
          "xanchor": "center",
          "xref": "paper",
          "y": 1,
          "yanchor": "bottom",
          "yref": "paper"
         },
         {
          "font": {
           "size": 16
          },
          "showarrow": false,
          "text": "Volume",
          "x": 0.5,
          "xanchor": "center",
          "xref": "paper",
          "y": 0.27,
          "yanchor": "bottom",
          "yref": "paper"
         }
        ],
        "height": 600,
        "template": {
         "data": {
          "bar": [
           {
            "error_x": {
             "color": "#2a3f5f"
            },
            "error_y": {
             "color": "#2a3f5f"
            },
            "marker": {
             "line": {
              "color": "#E5ECF6",
              "width": 0.5
             },
             "pattern": {
              "fillmode": "overlay",
              "size": 10,
              "solidity": 0.2
             }
            },
            "type": "bar"
           }
          ],
          "barpolar": [
           {
            "marker": {
             "line": {
              "color": "#E5ECF6",
              "width": 0.5
             },
             "pattern": {
              "fillmode": "overlay",
              "size": 10,
              "solidity": 0.2
             }
            },
            "type": "barpolar"
           }
          ],
          "carpet": [
           {
            "aaxis": {
             "endlinecolor": "#2a3f5f",
             "gridcolor": "white",
             "linecolor": "white",
             "minorgridcolor": "white",
             "startlinecolor": "#2a3f5f"
            },
            "baxis": {
             "endlinecolor": "#2a3f5f",
             "gridcolor": "white",
             "linecolor": "white",
             "minorgridcolor": "white",
             "startlinecolor": "#2a3f5f"
            },
            "type": "carpet"
           }
          ],
          "choropleth": [
           {
            "colorbar": {
             "outlinewidth": 0,
             "ticks": ""
            },
            "type": "choropleth"
           }
          ],
          "contour": [
           {
            "colorbar": {
             "outlinewidth": 0,
             "ticks": ""
            },
            "colorscale": [
             [
              0,
              "#0d0887"
             ],
             [
              0.1111111111111111,
              "#46039f"
             ],
             [
              0.2222222222222222,
              "#7201a8"
             ],
             [
              0.3333333333333333,
              "#9c179e"
             ],
             [
              0.4444444444444444,
              "#bd3786"
             ],
             [
              0.5555555555555556,
              "#d8576b"
             ],
             [
              0.6666666666666666,
              "#ed7953"
             ],
             [
              0.7777777777777778,
              "#fb9f3a"
             ],
             [
              0.8888888888888888,
              "#fdca26"
             ],
             [
              1,
              "#f0f921"
             ]
            ],
            "type": "contour"
           }
          ],
          "contourcarpet": [
           {
            "colorbar": {
             "outlinewidth": 0,
             "ticks": ""
            },
            "type": "contourcarpet"
           }
          ],
          "heatmap": [
           {
            "colorbar": {
             "outlinewidth": 0,
             "ticks": ""
            },
            "colorscale": [
             [
              0,
              "#0d0887"
             ],
             [
              0.1111111111111111,
              "#46039f"
             ],
             [
              0.2222222222222222,
              "#7201a8"
             ],
             [
              0.3333333333333333,
              "#9c179e"
             ],
             [
              0.4444444444444444,
              "#bd3786"
             ],
             [
              0.5555555555555556,
              "#d8576b"
             ],
             [
              0.6666666666666666,
              "#ed7953"
             ],
             [
              0.7777777777777778,
              "#fb9f3a"
             ],
             [
              0.8888888888888888,
              "#fdca26"
             ],
             [
              1,
              "#f0f921"
             ]
            ],
            "type": "heatmap"
           }
          ],
          "heatmapgl": [
           {
            "colorbar": {
             "outlinewidth": 0,
             "ticks": ""
            },
            "colorscale": [
             [
              0,
              "#0d0887"
             ],
             [
              0.1111111111111111,
              "#46039f"
             ],
             [
              0.2222222222222222,
              "#7201a8"
             ],
             [
              0.3333333333333333,
              "#9c179e"
             ],
             [
              0.4444444444444444,
              "#bd3786"
             ],
             [
              0.5555555555555556,
              "#d8576b"
             ],
             [
              0.6666666666666666,
              "#ed7953"
             ],
             [
              0.7777777777777778,
              "#fb9f3a"
             ],
             [
              0.8888888888888888,
              "#fdca26"
             ],
             [
              1,
              "#f0f921"
             ]
            ],
            "type": "heatmapgl"
           }
          ],
          "histogram": [
           {
            "marker": {
             "pattern": {
              "fillmode": "overlay",
              "size": 10,
              "solidity": 0.2
             }
            },
            "type": "histogram"
           }
          ],
          "histogram2d": [
           {
            "colorbar": {
             "outlinewidth": 0,
             "ticks": ""
            },
            "colorscale": [
             [
              0,
              "#0d0887"
             ],
             [
              0.1111111111111111,
              "#46039f"
             ],
             [
              0.2222222222222222,
              "#7201a8"
             ],
             [
              0.3333333333333333,
              "#9c179e"
             ],
             [
              0.4444444444444444,
              "#bd3786"
             ],
             [
              0.5555555555555556,
              "#d8576b"
             ],
             [
              0.6666666666666666,
              "#ed7953"
             ],
             [
              0.7777777777777778,
              "#fb9f3a"
             ],
             [
              0.8888888888888888,
              "#fdca26"
             ],
             [
              1,
              "#f0f921"
             ]
            ],
            "type": "histogram2d"
           }
          ],
          "histogram2dcontour": [
           {
            "colorbar": {
             "outlinewidth": 0,
             "ticks": ""
            },
            "colorscale": [
             [
              0,
              "#0d0887"
             ],
             [
              0.1111111111111111,
              "#46039f"
             ],
             [
              0.2222222222222222,
              "#7201a8"
             ],
             [
              0.3333333333333333,
              "#9c179e"
             ],
             [
              0.4444444444444444,
              "#bd3786"
             ],
             [
              0.5555555555555556,
              "#d8576b"
             ],
             [
              0.6666666666666666,
              "#ed7953"
             ],
             [
              0.7777777777777778,
              "#fb9f3a"
             ],
             [
              0.8888888888888888,
              "#fdca26"
             ],
             [
              1,
              "#f0f921"
             ]
            ],
            "type": "histogram2dcontour"
           }
          ],
          "mesh3d": [
           {
            "colorbar": {
             "outlinewidth": 0,
             "ticks": ""
            },
            "type": "mesh3d"
           }
          ],
          "parcoords": [
           {
            "line": {
             "colorbar": {
              "outlinewidth": 0,
              "ticks": ""
             }
            },
            "type": "parcoords"
           }
          ],
          "pie": [
           {
            "automargin": true,
            "type": "pie"
           }
          ],
          "scatter": [
           {
            "fillpattern": {
             "fillmode": "overlay",
             "size": 10,
             "solidity": 0.2
            },
            "type": "scatter"
           }
          ],
          "scatter3d": [
           {
            "line": {
             "colorbar": {
              "outlinewidth": 0,
              "ticks": ""
             }
            },
            "marker": {
             "colorbar": {
              "outlinewidth": 0,
              "ticks": ""
             }
            },
            "type": "scatter3d"
           }
          ],
          "scattercarpet": [
           {
            "marker": {
             "colorbar": {
              "outlinewidth": 0,
              "ticks": ""
             }
            },
            "type": "scattercarpet"
           }
          ],
          "scattergeo": [
           {
            "marker": {
             "colorbar": {
              "outlinewidth": 0,
              "ticks": ""
             }
            },
            "type": "scattergeo"
           }
          ],
          "scattergl": [
           {
            "marker": {
             "colorbar": {
              "outlinewidth": 0,
              "ticks": ""
             }
            },
            "type": "scattergl"
           }
          ],
          "scattermapbox": [
           {
            "marker": {
             "colorbar": {
              "outlinewidth": 0,
              "ticks": ""
             }
            },
            "type": "scattermapbox"
           }
          ],
          "scatterpolar": [
           {
            "marker": {
             "colorbar": {
              "outlinewidth": 0,
              "ticks": ""
             }
            },
            "type": "scatterpolar"
           }
          ],
          "scatterpolargl": [
           {
            "marker": {
             "colorbar": {
              "outlinewidth": 0,
              "ticks": ""
             }
            },
            "type": "scatterpolargl"
           }
          ],
          "scatterternary": [
           {
            "marker": {
             "colorbar": {
              "outlinewidth": 0,
              "ticks": ""
             }
            },
            "type": "scatterternary"
           }
          ],
          "surface": [
           {
            "colorbar": {
             "outlinewidth": 0,
             "ticks": ""
            },
            "colorscale": [
             [
              0,
              "#0d0887"
             ],
             [
              0.1111111111111111,
              "#46039f"
             ],
             [
              0.2222222222222222,
              "#7201a8"
             ],
             [
              0.3333333333333333,
              "#9c179e"
             ],
             [
              0.4444444444444444,
              "#bd3786"
             ],
             [
              0.5555555555555556,
              "#d8576b"
             ],
             [
              0.6666666666666666,
              "#ed7953"
             ],
             [
              0.7777777777777778,
              "#fb9f3a"
             ],
             [
              0.8888888888888888,
              "#fdca26"
             ],
             [
              1,
              "#f0f921"
             ]
            ],
            "type": "surface"
           }
          ],
          "table": [
           {
            "cells": {
             "fill": {
              "color": "#EBF0F8"
             },
             "line": {
              "color": "white"
             }
            },
            "header": {
             "fill": {
              "color": "#C8D4E3"
             },
             "line": {
              "color": "white"
             }
            },
            "type": "table"
           }
          ]
         },
         "layout": {
          "annotationdefaults": {
           "arrowcolor": "#2a3f5f",
           "arrowhead": 0,
           "arrowwidth": 1
          },
          "autotypenumbers": "strict",
          "coloraxis": {
           "colorbar": {
            "outlinewidth": 0,
            "ticks": ""
           }
          },
          "colorscale": {
           "diverging": [
            [
             0,
             "#8e0152"
            ],
            [
             0.1,
             "#c51b7d"
            ],
            [
             0.2,
             "#de77ae"
            ],
            [
             0.3,
             "#f1b6da"
            ],
            [
             0.4,
             "#fde0ef"
            ],
            [
             0.5,
             "#f7f7f7"
            ],
            [
             0.6,
             "#e6f5d0"
            ],
            [
             0.7,
             "#b8e186"
            ],
            [
             0.8,
             "#7fbc41"
            ],
            [
             0.9,
             "#4d9221"
            ],
            [
             1,
             "#276419"
            ]
           ],
           "sequential": [
            [
             0,
             "#0d0887"
            ],
            [
             0.1111111111111111,
             "#46039f"
            ],
            [
             0.2222222222222222,
             "#7201a8"
            ],
            [
             0.3333333333333333,
             "#9c179e"
            ],
            [
             0.4444444444444444,
             "#bd3786"
            ],
            [
             0.5555555555555556,
             "#d8576b"
            ],
            [
             0.6666666666666666,
             "#ed7953"
            ],
            [
             0.7777777777777778,
             "#fb9f3a"
            ],
            [
             0.8888888888888888,
             "#fdca26"
            ],
            [
             1,
             "#f0f921"
            ]
           ],
           "sequentialminus": [
            [
             0,
             "#0d0887"
            ],
            [
             0.1111111111111111,
             "#46039f"
            ],
            [
             0.2222222222222222,
             "#7201a8"
            ],
            [
             0.3333333333333333,
             "#9c179e"
            ],
            [
             0.4444444444444444,
             "#bd3786"
            ],
            [
             0.5555555555555556,
             "#d8576b"
            ],
            [
             0.6666666666666666,
             "#ed7953"
            ],
            [
             0.7777777777777778,
             "#fb9f3a"
            ],
            [
             0.8888888888888888,
             "#fdca26"
            ],
            [
             1,
             "#f0f921"
            ]
           ]
          },
          "colorway": [
           "#636efa",
           "#EF553B",
           "#00cc96",
           "#ab63fa",
           "#FFA15A",
           "#19d3f3",
           "#FF6692",
           "#B6E880",
           "#FF97FF",
           "#FECB52"
          ],
          "font": {
           "color": "#2a3f5f"
          },
          "geo": {
           "bgcolor": "white",
           "lakecolor": "white",
           "landcolor": "#E5ECF6",
           "showlakes": true,
           "showland": true,
           "subunitcolor": "white"
          },
          "hoverlabel": {
           "align": "left"
          },
          "hovermode": "closest",
          "mapbox": {
           "style": "light"
          },
          "paper_bgcolor": "white",
          "plot_bgcolor": "#E5ECF6",
          "polar": {
           "angularaxis": {
            "gridcolor": "white",
            "linecolor": "white",
            "ticks": ""
           },
           "bgcolor": "#E5ECF6",
           "radialaxis": {
            "gridcolor": "white",
            "linecolor": "white",
            "ticks": ""
           }
          },
          "scene": {
           "xaxis": {
            "backgroundcolor": "#E5ECF6",
            "gridcolor": "white",
            "gridwidth": 2,
            "linecolor": "white",
            "showbackground": true,
            "ticks": "",
            "zerolinecolor": "white"
           },
           "yaxis": {
            "backgroundcolor": "#E5ECF6",
            "gridcolor": "white",
            "gridwidth": 2,
            "linecolor": "white",
            "showbackground": true,
            "ticks": "",
            "zerolinecolor": "white"
           },
           "zaxis": {
            "backgroundcolor": "#E5ECF6",
            "gridcolor": "white",
            "gridwidth": 2,
            "linecolor": "white",
            "showbackground": true,
            "ticks": "",
            "zerolinecolor": "white"
           }
          },
          "shapedefaults": {
           "line": {
            "color": "#2a3f5f"
           }
          },
          "ternary": {
           "aaxis": {
            "gridcolor": "white",
            "linecolor": "white",
            "ticks": ""
           },
           "baxis": {
            "gridcolor": "white",
            "linecolor": "white",
            "ticks": ""
           },
           "bgcolor": "#E5ECF6",
           "caxis": {
            "gridcolor": "white",
            "linecolor": "white",
            "ticks": ""
           }
          },
          "title": {
           "x": 0.05
          },
          "xaxis": {
           "automargin": true,
           "gridcolor": "white",
           "linecolor": "white",
           "ticks": "",
           "title": {
            "standoff": 15
           },
           "zerolinecolor": "white",
           "zerolinewidth": 2
          },
          "yaxis": {
           "automargin": true,
           "gridcolor": "white",
           "linecolor": "white",
           "ticks": "",
           "title": {
            "standoff": 15
           },
           "zerolinecolor": "white",
           "zerolinewidth": 2
          }
         }
        },
        "title": {
         "text": "BTCUSDT: 5000-BTC Volume Bars"
        },
        "width": 900,
        "xaxis": {
         "anchor": "y",
         "domain": [
          0,
          1
         ],
         "matches": "x2",
         "rangeslider": {
          "visible": false
         },
         "showticklabels": false
        },
        "xaxis2": {
         "anchor": "y2",
         "domain": [
          0,
          1
         ]
        },
        "yaxis": {
         "anchor": "x",
         "domain": [
          0.37,
          1
         ],
         "title": {
          "text": "Price (USD)"
         }
        },
        "yaxis2": {
         "anchor": "x2",
         "domain": [
          0,
          0.27
         ]
        }
       }
      }
     },
     "metadata": {},
     "output_type": "display_data"
    }
   ],
   "source": [
    "fig = make_subplots(rows=2,\n",
    "                    cols=1,\n",
    "                    shared_xaxes=True,\n",
    "                    vertical_spacing=0.1,\n",
    "                    subplot_titles=('OHLC', 'Volume'),\n",
    "                    row_width=[0.3, 0.7])\n",
    "\n",
    "# candlestick\n",
    "fig.add_trace(\n",
    "    go.Candlestick(\n",
    "        x=btc_vol_subset.datetime,\n",
    "        open=btc_vol_subset.open,\n",
    "        high=btc_vol_subset.high,\n",
    "        low=btc_vol_subset.low,\n",
    "        close=btc_vol_subset.close,\n",
    "        showlegend=False),\n",
    "    row=1,\n",
    "    col=1\n",
    ")\n",
    "\n",
    "# volume\n",
    "fig.add_trace(\n",
    "    go.Bar(x=btc_vol_subset.datetime,\n",
    "           y=btc_vol_subset.volume,\n",
    "           showlegend=False),\n",
    "    row=2,\n",
    "    col=1\n",
    ")\n",
    "\n",
    "fig.update_layout(title=\"BTCUSDT: 5000-BTC Volume Bars\",\n",
    "                  yaxis_title=\"Price (USD)\",\n",
    "                  width=900,\n",
    "                  height=600)\n",
    "\n",
    "# hide the slide bar\n",
    "fig.update(layout_xaxis_rangeslider_visible=False)\n",
    "pio.write_image(fig, 'btc_vol.png',scale=3, width=2000, height=800)\n",
    "fig.show()\n",
    "\n"
   ]
  },
  {
   "cell_type": "code",
   "execution_count": 10,
   "metadata": {},
   "outputs": [
    {
     "data": {
      "application/vnd.plotly.v1+json": {
       "config": {
        "plotlyServerURL": "https://plot.ly"
       },
       "data": [
        {
         "close": [
          28438.27,
          28610.63,
          28583.36,
          28541.1,
          28580,
          28571.08,
          28482.72,
          28424.99,
          28440.56,
          28425.49,
          28465.32,
          28372.85,
          28422.89,
          28417.8,
          28318.04,
          28400.07,
          28326,
          28372.37,
          28376.74,
          28381.98,
          28446.78,
          28477.72,
          28517.94,
          28452.73,
          28366.3,
          28388.34,
          28406.13,
          28476.59,
          28386.09,
          28470.01,
          28458.26,
          28416.38,
          28381.37,
          28410.57,
          28367.25,
          28357.93,
          28265.26,
          28279.53,
          28273.1,
          28124.81,
          28121.97,
          28194.39,
          28156.98,
          27943.85,
          28058.75,
          28014.8,
          28105.81,
          28171.87,
          28114.62,
          27709.94,
          27719.09,
          27753.85,
          27704.39,
          27679.57,
          27779.48,
          27958.74,
          28335,
          28327.33,
          28303.77,
          28253.73,
          28163.01,
          28258.78,
          27995.04,
          28051.48,
          27930.84,
          27986.48,
          28152,
          28081.08,
          27582.78,
          27714.56,
          27799.99,
          27800,
          27760.58,
          27816.16,
          27857.35,
          27855.06,
          27813.86,
          27890.01,
          28078.14,
          28021.3,
          28103.48,
          28198.76,
          28219.63,
          28289.52,
          28267.68,
          28111.04,
          28123,
          28030.04,
          28098.99,
          28226.99,
          28114.42,
          28189.25,
          28250.04,
          28223.62,
          28187.26,
          28165.47,
          28661.81,
          28571.41,
          28565.57,
          28544.72,
          28506.62,
          28582.84,
          28534.42,
          28525.21,
          28543.8,
          28508.76,
          28510,
          28554.38,
          28568.95,
          28404.58,
          28105.2,
          28031.09,
          27947.99,
          28023.74,
          28030.2,
          28240.64,
          28150.61,
          28181.06,
          28175.28,
          28170.01,
          27999.15,
          28064.46,
          28039.73,
          28128.42,
          28068.91,
          28036.75,
          28063.91,
          27910.97,
          27953.62,
          27904.04,
          27850,
          27945.52,
          27903.73,
          27891.16,
          27952.78,
          28090.39,
          28065.14,
          28041.4,
          27963.35,
          28017.77,
          27975.85,
          27989.16,
          28007.86,
          28033.82,
          28097.99,
          28056.51,
          28017.22,
          28038.66,
          28021.77,
          27980,
          27960.09,
          27839.78,
          27816.76,
          27869.48,
          27933.36,
          27840.9,
          27892.63,
          27896.93,
          27914.64,
          27944.1,
          27879.3,
          27911.51,
          27891.77,
          27897.52,
          27864.2,
          27891.13,
          27955.99,
          27906.33,
          27880.27,
          27903.24,
          27956.76,
          28023.39,
          27984.98,
          28140.92,
          28113.12,
          28086.22,
          28025.53,
          28032.49,
          28011.62,
          28016.09,
          27987.57,
          28020.66,
          28027.67,
          28014.7,
          28002.53,
          27935.11,
          27904.38,
          27924.13,
          27911.69,
          27929.8,
          27937.77,
          27938.38,
          28036.76,
          28077.78,
          28036.3,
          28027.71,
          28037.39,
          27999.25,
          27880.13,
          27903.02,
          27881.64,
          27898.58,
          27893.22,
          27930.2,
          27930.07,
          27905.62,
          27866.49,
          27891.91,
          27896.98,
          27906.68,
          28026.72,
          28140.4,
          28114.63,
          28437.19,
          28371.39,
          28323.76,
          28381.25,
          28304.05,
          28296,
          28278.45,
          28234.51,
          28282.16,
          28277.94,
          28284.57,
          28295.16,
          28310.29,
          28331.88,
          28305.6,
          28277.86,
          28217.46,
          28305.43,
          28439.38,
          29036.85,
          29160,
          29273.14,
          29173.06,
          29115.11,
          29222.34,
          29594,
          29637.34,
          29928.86,
          30189.9,
          30083.01,
          30115.95,
          30109.01,
          29883.84,
          30035.78,
          30106.89,
          30093.9,
          30052.38,
          30122.5,
          30055.15,
          30098.92,
          30246.31,
          30060.39,
          30194.22,
          30127.98,
          30207.57,
          30230.24,
          30130.02,
          30164.23,
          30189.52,
          30263.75,
          30200.42,
          30224.78,
          30170.8,
          29916.16,
          29922.04,
          29978.58,
          29920,
          29932.89,
          29987,
          29914.97,
          30007.68,
          29996.27,
          30016.3,
          30157.09,
          30053.73,
          30024.69,
          29964.02,
          29939.02,
          30023.92,
          29917.26,
          29798.59,
          29947.47,
          29944.12,
          29841.35,
          29888.07,
          29984.69,
          30065.13,
          30116.51,
          30072.17,
          30053.65,
          30105.08,
          30016.54,
          30068.6,
          30188.14,
          30204.85,
          30203.14,
          30159.82,
          30272.14,
          30175.75,
          30435.34,
          30441.43,
          30322.37,
          30425.85,
          30440.78,
          30335.13,
          30251.97,
          30283.7,
          30296.09,
          30373.84,
          30745.73,
          30775.34,
          30595.8,
          30690.88,
          30708.82,
          30796.28,
          30942.87,
          30733.72,
          30730.22,
          30794.16,
          30766.01,
          30801.89,
          30616.98,
          30721.54,
          30599.89,
          30237.89,
          30147.49,
          30276.62,
          30277.1,
          30324.09,
          30448.82,
          30454.09,
          30435.34,
          30466.93,
          30372.48,
          30370.01,
          30380,
          30376.14,
          30356.11,
          30427.05,
          30390.99,
          30433.3,
          30385.12,
          30459.94,
          30417.07,
          30385.3,
          30423.28,
          30335.19,
          30359.39,
          30325.27,
          30319.98,
          30246.21,
          30300.77,
          30331.74,
          30280.65,
          30263.77,
          30350.98,
          30295.09,
          30277.54,
          30236.95,
          30264.2,
          30249.37,
          30298.52,
          30306.32,
          30306.07,
          30344.97,
          30337.4,
          30279.34,
          30290.15,
          30226.45,
          30260,
          30249.99,
          30311.83,
          30332.98,
          30335,
          30300,
          30478.43,
          30309.06,
          30343.04,
          30385.62,
          30331.04,
          30304.65,
          29842.86,
          29946.22,
          30020,
          29982.8,
          29981.18,
          29997.89,
          29901.28,
          29838.3,
          29918.1,
          29876.97,
          29884.66,
          29570.81,
          29529.85,
          29402.2,
          29440.42,
          29358.31,
          29464.43,
          29462.67,
          29524.97,
          29467.24,
          29443.75,
          29452.22,
          29502.28,
          29430.27,
          29364.16,
          29373.53,
          29465.84,
          29446.99,
          29494.69,
          29542.14,
          29720.98,
          29775.62,
          29703.89,
          29897.68,
          29899.26,
          30380.59,
          30303.14,
          30381.31,
          30247.81,
          30184.86,
          30220.85,
          30025.51,
          30144.5,
          30221.52,
          30419.12,
          30371.69,
          30370.86,
          30380.01,
          30319.25,
          30233.42,
          30200.63,
          30211.23,
          30202.57,
          30268.27,
          30008.13,
          30077.76,
          29168.47,
          29200.57,
          29257.26,
          29310.65,
          29218.66,
          29333,
          29393.46,
          29260.44,
          29315.24,
          29318.14,
          29277.45,
          29227.07,
          29237.71,
          29170,
          29076.2,
          28797.1,
          28920.01
         ],
         "high": [
          28547.2,
          28625.61,
          28819.71,
          28603.78,
          28625.1,
          28589.13,
          28572.93,
          28482.72,
          28485.11,
          28464.65,
          28474.15,
          28475.97,
          28424.05,
          28473.9,
          28420.88,
          28405.31,
          28443.04,
          28383.32,
          28382.9,
          28384.23,
          28577,
          28517.44,
          28538.08,
          28555,
          28499.99,
          28434.68,
          28430.29,
          28530,
          28485.18,
          28473.16,
          28490.4,
          28477.78,
          28422.21,
          28450.9,
          28413.71,
          28390.95,
          28361,
          28346.05,
          28350,
          28275.73,
          28143.54,
          28229.9,
          28213.39,
          28172.76,
          28088.38,
          28156.34,
          28115.76,
          28203.35,
          28182.17,
          28144.12,
          27815.42,
          27777.72,
          27756.72,
          27764.86,
          27793.25,
          27962.9,
          28450,
          28398,
          28500.99,
          28319.58,
          28257.69,
          28375,
          28303.25,
          28112.99,
          28129.99,
          28084.62,
          28237,
          28238.53,
          28093.56,
          27765,
          27943.62,
          28000,
          27868.31,
          27900.24,
          27950.62,
          27965,
          27885.28,
          27939.18,
          28145,
          28143.03,
          28137.98,
          28207.27,
          28350,
          28444.44,
          28381.19,
          28399,
          28257,
          28144.58,
          28131.35,
          28235.04,
          28260,
          28199,
          28305,
          28254.11,
          28258.93,
          28211.86,
          28733,
          28740,
          28775,
          28575.79,
          28577.38,
          28624.35,
          28603.59,
          28540,
          28600,
          28595.94,
          28529.72,
          28567.85,
          28750,
          28600.5,
          28476.81,
          28127,
          28053.88,
          28120,
          28060,
          28308.04,
          28300,
          28217.37,
          28236.15,
          28212.5,
          28182.05,
          28090,
          28095.71,
          28153.69,
          28130,
          28081.06,
          28073.92,
          28088.88,
          27988.58,
          28028.6,
          27907.59,
          27954.42,
          28085,
          27979.01,
          27978.54,
          28181.05,
          28165.88,
          28084.18,
          28094.41,
          28056.67,
          28121.87,
          28052.8,
          28008.43,
          28055.62,
          28100,
          28098.2,
          28072.94,
          28049.84,
          28062.73,
          28021.77,
          27984.75,
          27960.1,
          27937.82,
          27894.99,
          27961.67,
          27935.98,
          27981,
          27929.37,
          27984.75,
          27954.51,
          27953.47,
          27941.11,
          27930,
          27905.15,
          27922.99,
          27909.27,
          27980.74,
          27973.04,
          27919.61,
          27935.15,
          27965.76,
          28059.39,
          28040.72,
          28154.99,
          28152.57,
          28122.38,
          28114.94,
          28062.28,
          28034.68,
          28032.64,
          28032.08,
          28046.26,
          28057,
          28028.7,
          28020,
          28017.04,
          27955,
          27952.17,
          27955,
          27935.09,
          27951,
          27987.41,
          28075,
          28082.1,
          28083.45,
          28054.01,
          28041.06,
          28067.46,
          27999.25,
          27915.34,
          27922.31,
          27938.86,
          27914.29,
          27949.99,
          27973.39,
          27930.08,
          27925.01,
          27918.26,
          27942.55,
          27930.1,
          28050,
          28250,
          28160.67,
          28476.34,
          28530,
          28429.55,
          28425.43,
          28381.25,
          28350,
          28319.55,
          28317.61,
          28314.27,
          28305,
          28325.43,
          28375.02,
          28350.02,
          28361.51,
          28369.99,
          28317.81,
          28297.36,
          28341.97,
          28575.04,
          29150,
          29380,
          29289.99,
          29295.46,
          29215.02,
          29278.78,
          29747.01,
          29770,
          29990,
          30308.23,
          30430,
          30124.12,
          30169.14,
          30147,
          30087.77,
          30160.53,
          30147.38,
          30094.01,
          30144.83,
          30123.91,
          30200.58,
          30250,
          30280,
          30246.26,
          30263.71,
          30220,
          30240,
          30550,
          30173.76,
          30239.59,
          30272.28,
          30274.19,
          30350.07,
          30292.44,
          30170.8,
          29989.19,
          29995.35,
          29999.23,
          29956.81,
          30070.42,
          30050.47,
          30007.83,
          30029.37,
          30019.65,
          30486,
          30340.22,
          30263.4,
          30066.96,
          30034.99,
          30091.01,
          30057.52,
          29949.76,
          29955,
          29979.74,
          29975.41,
          29939.61,
          30035.28,
          30077.49,
          30200,
          30121.7,
          30106.16,
          30128.59,
          30116.87,
          30107.1,
          30269,
          30374.87,
          30244.09,
          30235,
          30303.64,
          30328.91,
          30530,
          30595,
          30476.42,
          30435.48,
          30535.76,
          30440.79,
          30335.14,
          30328.42,
          30394.7,
          30388.71,
          30799.61,
          30893.79,
          30808.78,
          30738.64,
          30754.05,
          30836.54,
          31000,
          30963.69,
          30788.47,
          30798.29,
          30827.27,
          30806.7,
          30850,
          30749.58,
          30757.6,
          30629,
          30269.41,
          30282.08,
          30357.8,
          30346.99,
          30522.07,
          30510.15,
          30454.09,
          30481.87,
          30595.6,
          30399,
          30441.17,
          30421.94,
          30394.5,
          30434.83,
          30436.46,
          30467.92,
          30456.73,
          30464.9,
          30470,
          30439.7,
          30444,
          30442.66,
          30376.95,
          30420,
          30339.35,
          30319.99,
          30301.72,
          30331.75,
          30344.84,
          30308.76,
          30360.19,
          30359.92,
          30319.04,
          30277.54,
          30284.78,
          30269.33,
          30316,
          30340.06,
          30347.38,
          30399.4,
          30353.96,
          30337.41,
          30290.16,
          30321.6,
          30277.38,
          30260.01,
          30320,
          30362,
          30335,
          30379.62,
          30480,
          30549.99,
          30407.98,
          30390,
          30404.82,
          30349.65,
          30316.06,
          29993.89,
          30101.31,
          30040.64,
          29985.27,
          30007.56,
          30004.33,
          29940,
          29919.15,
          29922.5,
          29888.88,
          29889.16,
          29593.14,
          29536.51,
          29481.96,
          29464.06,
          29480,
          29527.26,
          29572,
          29580.17,
          29492.8,
          29471.97,
          29536.93,
          29510.6,
          29450.29,
          29414.28,
          29489.47,
          29500,
          29506.76,
          29593.39,
          29740,
          29803,
          29831,
          29939.99,
          29971.71,
          30381.68,
          30485,
          30433.18,
          30390.96,
          30284.78,
          30262.3,
          30262.86,
          30274.21,
          30236.9,
          30450,
          30442.73,
          30404.19,
          30408.44,
          30413.53,
          30348.28,
          30259.4,
          30277.32,
          30237.69,
          30325.51,
          30272.77,
          30124.21,
          30077.76,
          29327.21,
          29286.64,
          29333,
          29310.65,
          29333,
          29500,
          29428.9,
          29370,
          29325.73,
          29354.3,
          29344.59,
          29315.61,
          29240.15,
          29237.29,
          29088.18,
          28965.99
         ],
         "low": [
          28408.57,
          28410.35,
          28467.31,
          28503.29,
          28526.59,
          28530.59,
          28353.78,
          28351.35,
          28389.37,
          28420.54,
          28389.77,
          28360.65,
          28320.35,
          28377.63,
          28292.32,
          28220.27,
          28280,
          28317.39,
          28333.19,
          28343.81,
          28379.63,
          28429.93,
          28477.72,
          28445,
          28355,
          28355.54,
          28375,
          28401.41,
          28383.37,
          28381.54,
          28414.36,
          28413.3,
          28364.57,
          28368.53,
          28361,
          28306.8,
          28240.17,
          28135.8,
          28239.45,
          28037.59,
          27927,
          28109.16,
          28152.8,
          27856.43,
          27902.71,
          27981,
          27858.29,
          28044.23,
          28064.52,
          27560,
          27658.36,
          27623.45,
          27588,
          27660,
          27644.5,
          27771.09,
          27958.73,
          28300,
          28301.13,
          28215.59,
          28063.17,
          28116.02,
          27945.19,
          27951.57,
          27918.45,
          27875,
          27938.46,
          28037.2,
          27460,
          27200.24,
          27668,
          27739.75,
          27662.79,
          27693.8,
          27780.79,
          27850,
          27775.37,
          27813.86,
          27860.17,
          27962.47,
          27931.2,
          28028.79,
          28172.48,
          28164.33,
          28205.67,
          28061,
          28079.69,
          27947.59,
          27971.07,
          28079.99,
          28083.33,
          28070.7,
          28174.44,
          28160.51,
          28182.22,
          28078.63,
          28099.68,
          28543.34,
          28522.99,
          28428.69,
          28483.09,
          28480.67,
          28491.29,
          28455,
          28450.5,
          28502.16,
          28476.24,
          28480.72,
          28312.5,
          28300,
          28087,
          27860,
          27805.1,
          27919.23,
          27935.71,
          27967.8,
          28132.82,
          28134.39,
          28132.16,
          28137.67,
          27918.35,
          27878.6,
          27978.21,
          28022.48,
          28067.28,
          27969.61,
          28006.46,
          27907.77,
          27850,
          27900,
          27711,
          27846.12,
          27856.54,
          27750,
          27888.26,
          27943.76,
          28046.88,
          28014.99,
          27954.06,
          27950.9,
          27966,
          27957.04,
          27900,
          28007.86,
          27998.04,
          28036.63,
          27926.52,
          27979.75,
          27999.9,
          27863.23,
          27900,
          27766.94,
          27785,
          27790.1,
          27861.38,
          27800,
          27800,
          27833.97,
          27893.26,
          27907.69,
          27856,
          27879.3,
          27874.13,
          27869.26,
          27839.02,
          27858.3,
          27864.99,
          27894.32,
          27859.02,
          27880.02,
          27902.95,
          27939.46,
          27974.14,
          27979.03,
          28086.28,
          28063.89,
          28018.61,
          28013.15,
          27994.7,
          27990.57,
          27950,
          27970.08,
          28010.4,
          27985.38,
          27995.93,
          27897.26,
          27872.11,
          27875.96,
          27911.41,
          27900.44,
          27885.86,
          27927.71,
          27924.9,
          28030,
          28031.08,
          28018.63,
          28010,
          27991.43,
          27851,
          27840.51,
          27800,
          27881.64,
          27861.55,
          27866.87,
          27919.4,
          27873.46,
          27800,
          27835.26,
          27890.75,
          27876.68,
          27906.67,
          27998.88,
          28094.5,
          28114.63,
          28360,
          28292.54,
          28285.61,
          28244.18,
          28271.14,
          28266.01,
          28212.28,
          28196.61,
          28253.7,
          28233.8,
          28284.57,
          28275.29,
          28293.67,
          28275.01,
          28255,
          28170,
          28199.3,
          28305.42,
          28356.51,
          29000,
          29115,
          29057.04,
          29069.1,
          29090.34,
          29222.34,
          29590,
          29590,
          29754.49,
          29987.6,
          29936.91,
          30017.37,
          29800,
          29878.92,
          30035.59,
          30045,
          29974,
          30008.95,
          30050.69,
          30010.41,
          30073.01,
          29975,
          30044.65,
          30100,
          30040,
          30151.68,
          30105.01,
          29940,
          30130.23,
          30147.64,
          30160,
          30193.67,
          30122.72,
          29811.82,
          29858.19,
          29887.03,
          29891.46,
          29850,
          29924.26,
          29913.71,
          29895.98,
          29978.13,
          29930.95,
          29919,
          29964,
          30016.95,
          29637.4,
          29915.01,
          29907.14,
          29845.01,
          29760.13,
          29775.68,
          29900.77,
          29796.21,
          29823.45,
          29854.59,
          29945.64,
          29997.51,
          30040,
          30041.22,
          30041.48,
          29986.64,
          29982.93,
          30039,
          30150.5,
          30152,
          30151,
          30134.16,
          30165.01,
          30173.94,
          30300,
          30262.4,
          30283.72,
          30409.78,
          30307.09,
          30205,
          30245.01,
          30283.69,
          30280.11,
          30310.03,
          30682.09,
          30520,
          30549.33,
          30674.53,
          30698.25,
          30714.5,
          30725.01,
          30657.14,
          30700,
          30758.89,
          30727.63,
          30575,
          30610.03,
          30483.21,
          30101,
          29966,
          30131,
          30243.22,
          30200.76,
          30272.25,
          30393.26,
          30410.96,
          30370.52,
          30372.48,
          30278.08,
          30346.4,
          30362.62,
          30337.97,
          30352.52,
          30363.23,
          30389.35,
          30364.7,
          30385.12,
          30373.41,
          30365.56,
          30377.38,
          30285,
          30302.24,
          30323.41,
          30261.95,
          30202,
          30244.75,
          30226.72,
          30261.33,
          30239.86,
          30236.39,
          30282.35,
          30270.11,
          30120,
          30224.43,
          30229.34,
          30245.82,
          30295.97,
          30302.68,
          30300,
          30328.01,
          30254.99,
          30257.21,
          30220.4,
          30219.71,
          30160.4,
          30245.01,
          30300,
          30259.69,
          30300,
          30298.87,
          30281.69,
          30192,
          30267.31,
          30300.72,
          30245,
          29790.01,
          29740.64,
          29890.57,
          29950,
          29909.17,
          29930.99,
          29888,
          29832,
          29801,
          29845.95,
          29764.28,
          29366,
          29442.91,
          29250,
          29356.75,
          29240.65,
          29330.85,
          29447.63,
          29458.09,
          29458,
          29421.11,
          29391.92,
          29452.21,
          29396.88,
          29280.01,
          29096.78,
          29373.52,
          29442.54,
          29442.56,
          29494.69,
          29542.14,
          29672.87,
          29693.1,
          29700,
          29868.03,
          29888.9,
          30279.8,
          30282.63,
          30118.41,
          30099.37,
          30158.33,
          30014.14,
          29945.58,
          30100,
          30150,
          30278.79,
          30295.23,
          30305.66,
          30282.95,
          30223.12,
          30126,
          30172.59,
          30148,
          30177.66,
          30006,
          29980,
          29000,
          29040,
          29100,
          29235.53,
          29185,
          29181.65,
          29330.66,
          29100,
          29240.01,
          29080,
          29220.01,
          29200,
          29147.27,
          28813.88,
          29036.95,
          28520,
          28650.58
         ],
         "open": [
          28465.36,
          28438.26,
          28610.62,
          28583.36,
          28541.1,
          28580.01,
          28571.08,
          28482.71,
          28424.98,
          28440.56,
          28425.49,
          28465.32,
          28372.84,
          28422.88,
          28417.81,
          28318.04,
          28400.07,
          28326,
          28372.36,
          28376.74,
          28381.97,
          28446.79,
          28477.73,
          28517.95,
          28452.74,
          28366.3,
          28388.35,
          28406.13,
          28476.58,
          28386.1,
          28470.01,
          28458.26,
          28416.37,
          28381.36,
          28410.57,
          28367.25,
          28357.93,
          28265.25,
          28279.52,
          28273.1,
          28124.8,
          28121.97,
          28194.4,
          28156.97,
          27943.84,
          28058.75,
          28014.8,
          28105.8,
          28171.87,
          28114.63,
          27709.85,
          27719.09,
          27753.85,
          27704.4,
          27679.58,
          27779.47,
          27958.73,
          28335,
          28327.33,
          28303.76,
          28253.73,
          28163,
          28258.79,
          27995.04,
          28051.48,
          27930.83,
          27986.48,
          28152,
          28081.08,
          27582.77,
          27714.57,
          27800,
          27800,
          27760.58,
          27816.16,
          27857.35,
          27855.06,
          27813.86,
          27890.01,
          28078.13,
          28021.31,
          28103.49,
          28198.77,
          28219.64,
          28289.51,
          28267.69,
          28111.03,
          28123,
          28030.05,
          28098.98,
          28226.98,
          28114.42,
          28189.25,
          28250.04,
          28223.62,
          28187.25,
          28165.47,
          28661.81,
          28571.42,
          28565.58,
          28544.73,
          28506.61,
          28582.84,
          28534.43,
          28525.2,
          28543.8,
          28508.75,
          28510,
          28554.37,
          28568.57,
          28404.57,
          28105.19,
          28031.09,
          27947.99,
          28023.75,
          28030.19,
          28240.64,
          28150.61,
          28181.06,
          28175.28,
          28170.01,
          27999.14,
          28064.45,
          28039.74,
          28128.42,
          28068.91,
          28036.75,
          28063.91,
          27910.97,
          27953.61,
          27904.04,
          27849.99,
          27945.51,
          27903.73,
          27891.16,
          27952.78,
          28090.39,
          28065.15,
          28041.41,
          27963.34,
          28017.77,
          27975.85,
          27989.15,
          28007.87,
          28033.83,
          28097.99,
          28056.51,
          28017.22,
          28038.67,
          28021.77,
          27980,
          27960.09,
          27839.79,
          27816.76,
          27869.48,
          27933.36,
          27840.89,
          27892.63,
          27896.92,
          27914.64,
          27944.09,
          27879.3,
          27911.5,
          27891.76,
          27897.51,
          27864.21,
          27891.13,
          27955.99,
          27906.34,
          27880.26,
          27903.24,
          27956.77,
          28023.39,
          27984.97,
          28140.91,
          28113.13,
          28086.22,
          28025.53,
          28032.49,
          28011.61,
          28016.09,
          27987.58,
          28020.66,
          28027.66,
          28014.71,
          28002.52,
          27935.11,
          27904.37,
          27924.13,
          27911.7,
          27929.8,
          27937.77,
          27938.38,
          28036.76,
          28077.78,
          28036.31,
          28027.71,
          28037.38,
          27999.25,
          27880.12,
          27903.01,
          27881.65,
          27898.59,
          27893.23,
          27930.2,
          27930.07,
          27905.62,
          27866.48,
          27891.91,
          27896.97,
          27906.67,
          28027.18,
          28140.41,
          28114.63,
          28437.2,
          28371.38,
          28323.76,
          28381.24,
          28304.04,
          28296.01,
          28278.45,
          28234.52,
          28282.17,
          28277.94,
          28284.57,
          28295.17,
          28310.28,
          28331.88,
          28305.59,
          28277.85,
          28217.45,
          28305.42,
          28439.39,
          29036.85,
          29160,
          29273.14,
          29173.05,
          29115.11,
          29222.34,
          29594,
          29637.35,
          29928.85,
          30189.9,
          30083.01,
          30115.95,
          30109.01,
          29883.84,
          30035.78,
          30106.9,
          30093.91,
          30052.38,
          30122.49,
          30055.14,
          30098.92,
          30246.3,
          30060.39,
          30194.23,
          30127.98,
          30207.57,
          30230.23,
          30130.02,
          30164.24,
          30189.51,
          30263.74,
          30200.43,
          30224.77,
          30170.8,
          29916.16,
          29922.04,
          29978.59,
          29919.99,
          29932.88,
          29986.99,
          29914.97,
          30007.67,
          29996.28,
          30016.31,
          30157.09,
          30053.72,
          30024.69,
          29964.03,
          29939.02,
          30023.93,
          29917.27,
          29798.59,
          29947.48,
          29944.12,
          29841.35,
          29888.07,
          29984.7,
          30065.13,
          30116.51,
          30072.17,
          30053.65,
          30105.08,
          30016.53,
          30068.6,
          30188.15,
          30204.85,
          30203.13,
          30159.81,
          30272.13,
          30175.75,
          30435.33,
          30441.43,
          30322.38,
          30425.85,
          30440.79,
          30335.13,
          30251.96,
          30283.7,
          30296.09,
          30373.84,
          30745.72,
          30775.34,
          30595.8,
          30690.89,
          30708.82,
          30796.27,
          30942.86,
          30733.73,
          30730.22,
          30794.16,
          30766.01,
          30801.89,
          30616.98,
          30721.54,
          30599.89,
          30237.88,
          30147.49,
          30276.62,
          30277.11,
          30324.09,
          30448.82,
          30454.09,
          30435.33,
          30466.93,
          30372.48,
          30370.01,
          30380,
          30376.13,
          30356.1,
          30427.05,
          30390.99,
          30433.29,
          30385.13,
          30459.94,
          30417.06,
          30385.31,
          30423.29,
          30335.19,
          30359.38,
          30325.27,
          30319.98,
          30246.22,
          30300.76,
          30331.74,
          30280.65,
          30263.77,
          30350.99,
          30295.1,
          30277.53,
          30236.96,
          30264.2,
          30249.36,
          30298.53,
          30306.32,
          30306.06,
          30344.97,
          30337.4,
          30279.34,
          30290.15,
          30226.46,
          30260.01,
          30249.99,
          30311.83,
          30332.98,
          30335,
          30300,
          30478.43,
          30309.05,
          30343.04,
          30385.61,
          30331.03,
          30304.66,
          29842.86,
          29946.22,
          30020,
          29982.8,
          29981.18,
          29997.9,
          29901.27,
          29838.3,
          29918.1,
          29876.96,
          29884.67,
          29570.8,
          29529.86,
          29402.2,
          29440.41,
          29358.3,
          29464.42,
          29462.67,
          29524.96,
          29467.25,
          29443.75,
          29452.22,
          29502.28,
          29430.27,
          29364.16,
          29373.53,
          29465.83,
          29447,
          29494.7,
          29542.15,
          29720.98,
          29775.61,
          29703.89,
          29897.69,
          29899.26,
          30380.59,
          30303.14,
          30381.32,
          30247.81,
          30184.85,
          30220.85,
          30025.51,
          30144.5,
          30221.53,
          30419.12,
          30371.68,
          30370.85,
          30380.01,
          30319.25,
          30233.42,
          30200.63,
          30211.23,
          30202.57,
          30268.28,
          30008.13,
          30077.76,
          29168.47,
          29200.58,
          29257.26,
          29310.64,
          29218.66,
          29333,
          29393.46,
          29260.43,
          29315.24,
          29318.14,
          29277.46,
          29227.06,
          29237.71,
          29169.99,
          29076.2,
          28797.1
         ],
         "type": "candlestick",
         "x": [
          "2023-04-01T00:00:00",
          "2023-04-01T01:00:00",
          "2023-04-01T02:00:00",
          "2023-04-01T03:00:00",
          "2023-04-01T04:00:00",
          "2023-04-01T05:00:00",
          "2023-04-01T06:00:00",
          "2023-04-01T07:00:00",
          "2023-04-01T08:00:00",
          "2023-04-01T09:00:00",
          "2023-04-01T10:00:00",
          "2023-04-01T11:00:00",
          "2023-04-01T12:00:00",
          "2023-04-01T13:00:00",
          "2023-04-01T14:00:00",
          "2023-04-01T15:00:00",
          "2023-04-01T16:00:00",
          "2023-04-01T17:00:00",
          "2023-04-01T18:00:00",
          "2023-04-01T19:00:00",
          "2023-04-01T20:00:00",
          "2023-04-01T21:00:00",
          "2023-04-01T22:00:00",
          "2023-04-01T23:00:00",
          "2023-04-02T00:00:00",
          "2023-04-02T01:00:00",
          "2023-04-02T02:00:00",
          "2023-04-02T03:00:00",
          "2023-04-02T04:00:00",
          "2023-04-02T05:00:00",
          "2023-04-02T06:00:00",
          "2023-04-02T07:00:00",
          "2023-04-02T08:00:00",
          "2023-04-02T09:00:00",
          "2023-04-02T10:00:00",
          "2023-04-02T11:00:00",
          "2023-04-02T12:00:00",
          "2023-04-02T13:00:00",
          "2023-04-02T14:00:00",
          "2023-04-02T15:00:00",
          "2023-04-02T16:00:00",
          "2023-04-02T17:00:00",
          "2023-04-02T18:00:00",
          "2023-04-02T19:00:00",
          "2023-04-02T20:00:00",
          "2023-04-02T21:00:00",
          "2023-04-02T22:00:00",
          "2023-04-02T23:00:00",
          "2023-04-03T00:00:00",
          "2023-04-03T01:00:00",
          "2023-04-03T02:00:00",
          "2023-04-03T03:00:00",
          "2023-04-03T04:00:00",
          "2023-04-03T05:00:00",
          "2023-04-03T06:00:00",
          "2023-04-03T07:00:00",
          "2023-04-03T08:00:00",
          "2023-04-03T09:00:00",
          "2023-04-03T10:00:00",
          "2023-04-03T11:00:00",
          "2023-04-03T12:00:00",
          "2023-04-03T13:00:00",
          "2023-04-03T14:00:00",
          "2023-04-03T15:00:00",
          "2023-04-03T16:00:00",
          "2023-04-03T17:00:00",
          "2023-04-03T18:00:00",
          "2023-04-03T19:00:00",
          "2023-04-03T20:00:00",
          "2023-04-03T21:00:00",
          "2023-04-03T22:00:00",
          "2023-04-03T23:00:00",
          "2023-04-04T00:00:00",
          "2023-04-04T01:00:00",
          "2023-04-04T02:00:00",
          "2023-04-04T03:00:00",
          "2023-04-04T04:00:00",
          "2023-04-04T05:00:00",
          "2023-04-04T06:00:00",
          "2023-04-04T07:00:00",
          "2023-04-04T08:00:00",
          "2023-04-04T09:00:00",
          "2023-04-04T10:00:00",
          "2023-04-04T11:00:00",
          "2023-04-04T12:00:00",
          "2023-04-04T13:00:00",
          "2023-04-04T14:00:00",
          "2023-04-04T15:00:00",
          "2023-04-04T16:00:00",
          "2023-04-04T17:00:00",
          "2023-04-04T18:00:00",
          "2023-04-04T19:00:00",
          "2023-04-04T20:00:00",
          "2023-04-04T21:00:00",
          "2023-04-04T22:00:00",
          "2023-04-04T23:00:00",
          "2023-04-05T00:00:00",
          "2023-04-05T01:00:00",
          "2023-04-05T02:00:00",
          "2023-04-05T03:00:00",
          "2023-04-05T04:00:00",
          "2023-04-05T05:00:00",
          "2023-04-05T06:00:00",
          "2023-04-05T07:00:00",
          "2023-04-05T08:00:00",
          "2023-04-05T09:00:00",
          "2023-04-05T10:00:00",
          "2023-04-05T11:00:00",
          "2023-04-05T12:00:00",
          "2023-04-05T13:00:00",
          "2023-04-05T14:00:00",
          "2023-04-05T15:00:00",
          "2023-04-05T16:00:00",
          "2023-04-05T17:00:00",
          "2023-04-05T18:00:00",
          "2023-04-05T19:00:00",
          "2023-04-05T20:00:00",
          "2023-04-05T21:00:00",
          "2023-04-05T22:00:00",
          "2023-04-05T23:00:00",
          "2023-04-06T00:00:00",
          "2023-04-06T01:00:00",
          "2023-04-06T02:00:00",
          "2023-04-06T03:00:00",
          "2023-04-06T04:00:00",
          "2023-04-06T05:00:00",
          "2023-04-06T06:00:00",
          "2023-04-06T07:00:00",
          "2023-04-06T08:00:00",
          "2023-04-06T09:00:00",
          "2023-04-06T10:00:00",
          "2023-04-06T11:00:00",
          "2023-04-06T12:00:00",
          "2023-04-06T13:00:00",
          "2023-04-06T14:00:00",
          "2023-04-06T15:00:00",
          "2023-04-06T16:00:00",
          "2023-04-06T17:00:00",
          "2023-04-06T18:00:00",
          "2023-04-06T19:00:00",
          "2023-04-06T20:00:00",
          "2023-04-06T21:00:00",
          "2023-04-06T22:00:00",
          "2023-04-06T23:00:00",
          "2023-04-07T00:00:00",
          "2023-04-07T01:00:00",
          "2023-04-07T02:00:00",
          "2023-04-07T03:00:00",
          "2023-04-07T04:00:00",
          "2023-04-07T05:00:00",
          "2023-04-07T06:00:00",
          "2023-04-07T07:00:00",
          "2023-04-07T08:00:00",
          "2023-04-07T09:00:00",
          "2023-04-07T10:00:00",
          "2023-04-07T11:00:00",
          "2023-04-07T12:00:00",
          "2023-04-07T13:00:00",
          "2023-04-07T14:00:00",
          "2023-04-07T15:00:00",
          "2023-04-07T16:00:00",
          "2023-04-07T17:00:00",
          "2023-04-07T18:00:00",
          "2023-04-07T19:00:00",
          "2023-04-07T20:00:00",
          "2023-04-07T21:00:00",
          "2023-04-07T22:00:00",
          "2023-04-07T23:00:00",
          "2023-04-08T00:00:00",
          "2023-04-08T01:00:00",
          "2023-04-08T02:00:00",
          "2023-04-08T03:00:00",
          "2023-04-08T04:00:00",
          "2023-04-08T05:00:00",
          "2023-04-08T06:00:00",
          "2023-04-08T07:00:00",
          "2023-04-08T08:00:00",
          "2023-04-08T09:00:00",
          "2023-04-08T10:00:00",
          "2023-04-08T11:00:00",
          "2023-04-08T12:00:00",
          "2023-04-08T13:00:00",
          "2023-04-08T14:00:00",
          "2023-04-08T15:00:00",
          "2023-04-08T16:00:00",
          "2023-04-08T17:00:00",
          "2023-04-08T18:00:00",
          "2023-04-08T19:00:00",
          "2023-04-08T20:00:00",
          "2023-04-08T21:00:00",
          "2023-04-08T22:00:00",
          "2023-04-08T23:00:00",
          "2023-04-09T00:00:00",
          "2023-04-09T01:00:00",
          "2023-04-09T02:00:00",
          "2023-04-09T03:00:00",
          "2023-04-09T04:00:00",
          "2023-04-09T05:00:00",
          "2023-04-09T06:00:00",
          "2023-04-09T07:00:00",
          "2023-04-09T08:00:00",
          "2023-04-09T09:00:00",
          "2023-04-09T10:00:00",
          "2023-04-09T11:00:00",
          "2023-04-09T12:00:00",
          "2023-04-09T13:00:00",
          "2023-04-09T14:00:00",
          "2023-04-09T15:00:00",
          "2023-04-09T16:00:00",
          "2023-04-09T17:00:00",
          "2023-04-09T18:00:00",
          "2023-04-09T19:00:00",
          "2023-04-09T20:00:00",
          "2023-04-09T21:00:00",
          "2023-04-09T22:00:00",
          "2023-04-09T23:00:00",
          "2023-04-10T00:00:00",
          "2023-04-10T01:00:00",
          "2023-04-10T02:00:00",
          "2023-04-10T03:00:00",
          "2023-04-10T04:00:00",
          "2023-04-10T05:00:00",
          "2023-04-10T06:00:00",
          "2023-04-10T07:00:00",
          "2023-04-10T08:00:00",
          "2023-04-10T09:00:00",
          "2023-04-10T10:00:00",
          "2023-04-10T11:00:00",
          "2023-04-10T12:00:00",
          "2023-04-10T13:00:00",
          "2023-04-10T14:00:00",
          "2023-04-10T15:00:00",
          "2023-04-10T16:00:00",
          "2023-04-10T17:00:00",
          "2023-04-10T18:00:00",
          "2023-04-10T19:00:00",
          "2023-04-10T20:00:00",
          "2023-04-10T21:00:00",
          "2023-04-10T22:00:00",
          "2023-04-10T23:00:00",
          "2023-04-11T00:00:00",
          "2023-04-11T01:00:00",
          "2023-04-11T02:00:00",
          "2023-04-11T03:00:00",
          "2023-04-11T04:00:00",
          "2023-04-11T05:00:00",
          "2023-04-11T06:00:00",
          "2023-04-11T07:00:00",
          "2023-04-11T08:00:00",
          "2023-04-11T09:00:00",
          "2023-04-11T10:00:00",
          "2023-04-11T11:00:00",
          "2023-04-11T12:00:00",
          "2023-04-11T13:00:00",
          "2023-04-11T14:00:00",
          "2023-04-11T15:00:00",
          "2023-04-11T16:00:00",
          "2023-04-11T17:00:00",
          "2023-04-11T18:00:00",
          "2023-04-11T19:00:00",
          "2023-04-11T20:00:00",
          "2023-04-11T21:00:00",
          "2023-04-11T22:00:00",
          "2023-04-11T23:00:00",
          "2023-04-12T00:00:00",
          "2023-04-12T01:00:00",
          "2023-04-12T02:00:00",
          "2023-04-12T03:00:00",
          "2023-04-12T04:00:00",
          "2023-04-12T05:00:00",
          "2023-04-12T06:00:00",
          "2023-04-12T07:00:00",
          "2023-04-12T08:00:00",
          "2023-04-12T09:00:00",
          "2023-04-12T10:00:00",
          "2023-04-12T11:00:00",
          "2023-04-12T12:00:00",
          "2023-04-12T13:00:00",
          "2023-04-12T14:00:00",
          "2023-04-12T15:00:00",
          "2023-04-12T16:00:00",
          "2023-04-12T17:00:00",
          "2023-04-12T18:00:00",
          "2023-04-12T19:00:00",
          "2023-04-12T20:00:00",
          "2023-04-12T21:00:00",
          "2023-04-12T22:00:00",
          "2023-04-12T23:00:00",
          "2023-04-13T00:00:00",
          "2023-04-13T01:00:00",
          "2023-04-13T02:00:00",
          "2023-04-13T03:00:00",
          "2023-04-13T04:00:00",
          "2023-04-13T05:00:00",
          "2023-04-13T06:00:00",
          "2023-04-13T07:00:00",
          "2023-04-13T08:00:00",
          "2023-04-13T09:00:00",
          "2023-04-13T10:00:00",
          "2023-04-13T11:00:00",
          "2023-04-13T12:00:00",
          "2023-04-13T13:00:00",
          "2023-04-13T14:00:00",
          "2023-04-13T15:00:00",
          "2023-04-13T16:00:00",
          "2023-04-13T17:00:00",
          "2023-04-13T18:00:00",
          "2023-04-13T19:00:00",
          "2023-04-13T20:00:00",
          "2023-04-13T21:00:00",
          "2023-04-13T22:00:00",
          "2023-04-13T23:00:00",
          "2023-04-14T00:00:00",
          "2023-04-14T01:00:00",
          "2023-04-14T02:00:00",
          "2023-04-14T03:00:00",
          "2023-04-14T04:00:00",
          "2023-04-14T05:00:00",
          "2023-04-14T06:00:00",
          "2023-04-14T07:00:00",
          "2023-04-14T08:00:00",
          "2023-04-14T09:00:00",
          "2023-04-14T10:00:00",
          "2023-04-14T11:00:00",
          "2023-04-14T12:00:00",
          "2023-04-14T13:00:00",
          "2023-04-14T14:00:00",
          "2023-04-14T15:00:00",
          "2023-04-14T16:00:00",
          "2023-04-14T17:00:00",
          "2023-04-14T18:00:00",
          "2023-04-14T19:00:00",
          "2023-04-14T20:00:00",
          "2023-04-14T21:00:00",
          "2023-04-14T22:00:00",
          "2023-04-14T23:00:00",
          "2023-04-15T00:00:00",
          "2023-04-15T01:00:00",
          "2023-04-15T02:00:00",
          "2023-04-15T03:00:00",
          "2023-04-15T04:00:00",
          "2023-04-15T05:00:00",
          "2023-04-15T06:00:00",
          "2023-04-15T07:00:00",
          "2023-04-15T08:00:00",
          "2023-04-15T09:00:00",
          "2023-04-15T10:00:00",
          "2023-04-15T11:00:00",
          "2023-04-15T12:00:00",
          "2023-04-15T13:00:00",
          "2023-04-15T14:00:00",
          "2023-04-15T15:00:00",
          "2023-04-15T16:00:00",
          "2023-04-15T17:00:00",
          "2023-04-15T18:00:00",
          "2023-04-15T19:00:00",
          "2023-04-15T20:00:00",
          "2023-04-15T21:00:00",
          "2023-04-15T22:00:00",
          "2023-04-15T23:00:00",
          "2023-04-16T00:00:00",
          "2023-04-16T01:00:00",
          "2023-04-16T02:00:00",
          "2023-04-16T03:00:00",
          "2023-04-16T04:00:00",
          "2023-04-16T05:00:00",
          "2023-04-16T06:00:00",
          "2023-04-16T07:00:00",
          "2023-04-16T08:00:00",
          "2023-04-16T09:00:00",
          "2023-04-16T10:00:00",
          "2023-04-16T11:00:00",
          "2023-04-16T12:00:00",
          "2023-04-16T13:00:00",
          "2023-04-16T14:00:00",
          "2023-04-16T15:00:00",
          "2023-04-16T16:00:00",
          "2023-04-16T17:00:00",
          "2023-04-16T18:00:00",
          "2023-04-16T19:00:00",
          "2023-04-16T20:00:00",
          "2023-04-16T21:00:00",
          "2023-04-16T22:00:00",
          "2023-04-16T23:00:00",
          "2023-04-17T00:00:00",
          "2023-04-17T01:00:00",
          "2023-04-17T02:00:00",
          "2023-04-17T03:00:00",
          "2023-04-17T04:00:00",
          "2023-04-17T05:00:00",
          "2023-04-17T06:00:00",
          "2023-04-17T07:00:00",
          "2023-04-17T08:00:00",
          "2023-04-17T09:00:00",
          "2023-04-17T10:00:00",
          "2023-04-17T11:00:00",
          "2023-04-17T12:00:00",
          "2023-04-17T13:00:00",
          "2023-04-17T14:00:00",
          "2023-04-17T15:00:00",
          "2023-04-17T16:00:00",
          "2023-04-17T17:00:00",
          "2023-04-17T18:00:00",
          "2023-04-17T19:00:00",
          "2023-04-17T20:00:00",
          "2023-04-17T21:00:00",
          "2023-04-17T22:00:00",
          "2023-04-17T23:00:00",
          "2023-04-18T00:00:00",
          "2023-04-18T01:00:00",
          "2023-04-18T02:00:00",
          "2023-04-18T03:00:00",
          "2023-04-18T04:00:00",
          "2023-04-18T05:00:00",
          "2023-04-18T06:00:00",
          "2023-04-18T07:00:00",
          "2023-04-18T08:00:00",
          "2023-04-18T09:00:00",
          "2023-04-18T10:00:00",
          "2023-04-18T11:00:00",
          "2023-04-18T12:00:00",
          "2023-04-18T13:00:00",
          "2023-04-18T14:00:00",
          "2023-04-18T15:00:00",
          "2023-04-18T16:00:00",
          "2023-04-18T17:00:00",
          "2023-04-18T18:00:00",
          "2023-04-18T19:00:00",
          "2023-04-18T20:00:00",
          "2023-04-18T21:00:00",
          "2023-04-18T22:00:00",
          "2023-04-18T23:00:00",
          "2023-04-19T00:00:00",
          "2023-04-19T01:00:00",
          "2023-04-19T02:00:00",
          "2023-04-19T03:00:00",
          "2023-04-19T04:00:00",
          "2023-04-19T05:00:00",
          "2023-04-19T06:00:00",
          "2023-04-19T07:00:00",
          "2023-04-19T08:00:00",
          "2023-04-19T09:00:00",
          "2023-04-19T10:00:00",
          "2023-04-19T11:00:00",
          "2023-04-19T12:00:00",
          "2023-04-19T13:00:00",
          "2023-04-19T14:00:00",
          "2023-04-19T15:00:00",
          "2023-04-19T16:00:00",
          "2023-04-19T17:00:00",
          "2023-04-19T18:00:00",
          "2023-04-19T19:00:00",
          "2023-04-19T20:00:00",
          "2023-04-19T21:00:00",
          "2023-04-19T22:00:00",
          "2023-04-19T23:00:00",
          "2023-04-20T00:00:00"
         ]
        },
        {
         "mode": "markers",
         "name": "daily",
         "type": "scatter",
         "x": [
          "2023-04-02T13:03:00",
          "2023-04-03T01:42:00",
          "2023-04-03T08:08:00",
          "2023-04-03T17:00:00",
          "2023-04-03T20:15:00",
          "2023-04-03T22:17:00",
          "2023-04-04T10:03:00",
          "2023-04-05T00:55:00",
          "2023-04-05T14:11:00",
          "2023-04-09T21:40:00",
          "2023-04-10T16:50:00",
          "2023-04-10T22:02:00",
          "2023-04-11T01:53:00",
          "2023-04-11T19:18:00",
          "2023-04-12T02:54:00",
          "2023-04-12T12:34:00",
          "2023-04-12T15:12:00",
          "2023-04-13T09:15:00",
          "2023-04-14T00:39:00",
          "2023-04-14T15:26:00",
          "2023-04-17T00:36:00",
          "2023-04-17T11:34:00",
          "2023-04-18T06:24:00",
          "2023-04-18T11:38:00",
          "2023-04-19T08:09:00",
          "2023-04-19T08:22:00",
          "2023-04-19T21:43:00"
         ],
         "y": [
          28228.25,
          27747.99,
          28169.99,
          27910.23,
          27628.01,
          27851.86,
          28247.62,
          28625.03,
          28139.07,
          28341.37,
          28898.31,
          29495.1,
          30199.44,
          30466.58,
          29820,
          30425.82,
          29748.63,
          30344.55,
          30759.12,
          30304.12,
          29940.78,
          29429.45,
          29738.3,
          30264.27,
          29806.07,
          29163.45,
          28855.15
         ]
        }
       ],
       "layout": {
        "template": {
         "data": {
          "bar": [
           {
            "error_x": {
             "color": "#2a3f5f"
            },
            "error_y": {
             "color": "#2a3f5f"
            },
            "marker": {
             "line": {
              "color": "#E5ECF6",
              "width": 0.5
             },
             "pattern": {
              "fillmode": "overlay",
              "size": 10,
              "solidity": 0.2
             }
            },
            "type": "bar"
           }
          ],
          "barpolar": [
           {
            "marker": {
             "line": {
              "color": "#E5ECF6",
              "width": 0.5
             },
             "pattern": {
              "fillmode": "overlay",
              "size": 10,
              "solidity": 0.2
             }
            },
            "type": "barpolar"
           }
          ],
          "carpet": [
           {
            "aaxis": {
             "endlinecolor": "#2a3f5f",
             "gridcolor": "white",
             "linecolor": "white",
             "minorgridcolor": "white",
             "startlinecolor": "#2a3f5f"
            },
            "baxis": {
             "endlinecolor": "#2a3f5f",
             "gridcolor": "white",
             "linecolor": "white",
             "minorgridcolor": "white",
             "startlinecolor": "#2a3f5f"
            },
            "type": "carpet"
           }
          ],
          "choropleth": [
           {
            "colorbar": {
             "outlinewidth": 0,
             "ticks": ""
            },
            "type": "choropleth"
           }
          ],
          "contour": [
           {
            "colorbar": {
             "outlinewidth": 0,
             "ticks": ""
            },
            "colorscale": [
             [
              0,
              "#0d0887"
             ],
             [
              0.1111111111111111,
              "#46039f"
             ],
             [
              0.2222222222222222,
              "#7201a8"
             ],
             [
              0.3333333333333333,
              "#9c179e"
             ],
             [
              0.4444444444444444,
              "#bd3786"
             ],
             [
              0.5555555555555556,
              "#d8576b"
             ],
             [
              0.6666666666666666,
              "#ed7953"
             ],
             [
              0.7777777777777778,
              "#fb9f3a"
             ],
             [
              0.8888888888888888,
              "#fdca26"
             ],
             [
              1,
              "#f0f921"
             ]
            ],
            "type": "contour"
           }
          ],
          "contourcarpet": [
           {
            "colorbar": {
             "outlinewidth": 0,
             "ticks": ""
            },
            "type": "contourcarpet"
           }
          ],
          "heatmap": [
           {
            "colorbar": {
             "outlinewidth": 0,
             "ticks": ""
            },
            "colorscale": [
             [
              0,
              "#0d0887"
             ],
             [
              0.1111111111111111,
              "#46039f"
             ],
             [
              0.2222222222222222,
              "#7201a8"
             ],
             [
              0.3333333333333333,
              "#9c179e"
             ],
             [
              0.4444444444444444,
              "#bd3786"
             ],
             [
              0.5555555555555556,
              "#d8576b"
             ],
             [
              0.6666666666666666,
              "#ed7953"
             ],
             [
              0.7777777777777778,
              "#fb9f3a"
             ],
             [
              0.8888888888888888,
              "#fdca26"
             ],
             [
              1,
              "#f0f921"
             ]
            ],
            "type": "heatmap"
           }
          ],
          "heatmapgl": [
           {
            "colorbar": {
             "outlinewidth": 0,
             "ticks": ""
            },
            "colorscale": [
             [
              0,
              "#0d0887"
             ],
             [
              0.1111111111111111,
              "#46039f"
             ],
             [
              0.2222222222222222,
              "#7201a8"
             ],
             [
              0.3333333333333333,
              "#9c179e"
             ],
             [
              0.4444444444444444,
              "#bd3786"
             ],
             [
              0.5555555555555556,
              "#d8576b"
             ],
             [
              0.6666666666666666,
              "#ed7953"
             ],
             [
              0.7777777777777778,
              "#fb9f3a"
             ],
             [
              0.8888888888888888,
              "#fdca26"
             ],
             [
              1,
              "#f0f921"
             ]
            ],
            "type": "heatmapgl"
           }
          ],
          "histogram": [
           {
            "marker": {
             "pattern": {
              "fillmode": "overlay",
              "size": 10,
              "solidity": 0.2
             }
            },
            "type": "histogram"
           }
          ],
          "histogram2d": [
           {
            "colorbar": {
             "outlinewidth": 0,
             "ticks": ""
            },
            "colorscale": [
             [
              0,
              "#0d0887"
             ],
             [
              0.1111111111111111,
              "#46039f"
             ],
             [
              0.2222222222222222,
              "#7201a8"
             ],
             [
              0.3333333333333333,
              "#9c179e"
             ],
             [
              0.4444444444444444,
              "#bd3786"
             ],
             [
              0.5555555555555556,
              "#d8576b"
             ],
             [
              0.6666666666666666,
              "#ed7953"
             ],
             [
              0.7777777777777778,
              "#fb9f3a"
             ],
             [
              0.8888888888888888,
              "#fdca26"
             ],
             [
              1,
              "#f0f921"
             ]
            ],
            "type": "histogram2d"
           }
          ],
          "histogram2dcontour": [
           {
            "colorbar": {
             "outlinewidth": 0,
             "ticks": ""
            },
            "colorscale": [
             [
              0,
              "#0d0887"
             ],
             [
              0.1111111111111111,
              "#46039f"
             ],
             [
              0.2222222222222222,
              "#7201a8"
             ],
             [
              0.3333333333333333,
              "#9c179e"
             ],
             [
              0.4444444444444444,
              "#bd3786"
             ],
             [
              0.5555555555555556,
              "#d8576b"
             ],
             [
              0.6666666666666666,
              "#ed7953"
             ],
             [
              0.7777777777777778,
              "#fb9f3a"
             ],
             [
              0.8888888888888888,
              "#fdca26"
             ],
             [
              1,
              "#f0f921"
             ]
            ],
            "type": "histogram2dcontour"
           }
          ],
          "mesh3d": [
           {
            "colorbar": {
             "outlinewidth": 0,
             "ticks": ""
            },
            "type": "mesh3d"
           }
          ],
          "parcoords": [
           {
            "line": {
             "colorbar": {
              "outlinewidth": 0,
              "ticks": ""
             }
            },
            "type": "parcoords"
           }
          ],
          "pie": [
           {
            "automargin": true,
            "type": "pie"
           }
          ],
          "scatter": [
           {
            "fillpattern": {
             "fillmode": "overlay",
             "size": 10,
             "solidity": 0.2
            },
            "type": "scatter"
           }
          ],
          "scatter3d": [
           {
            "line": {
             "colorbar": {
              "outlinewidth": 0,
              "ticks": ""
             }
            },
            "marker": {
             "colorbar": {
              "outlinewidth": 0,
              "ticks": ""
             }
            },
            "type": "scatter3d"
           }
          ],
          "scattercarpet": [
           {
            "marker": {
             "colorbar": {
              "outlinewidth": 0,
              "ticks": ""
             }
            },
            "type": "scattercarpet"
           }
          ],
          "scattergeo": [
           {
            "marker": {
             "colorbar": {
              "outlinewidth": 0,
              "ticks": ""
             }
            },
            "type": "scattergeo"
           }
          ],
          "scattergl": [
           {
            "marker": {
             "colorbar": {
              "outlinewidth": 0,
              "ticks": ""
             }
            },
            "type": "scattergl"
           }
          ],
          "scattermapbox": [
           {
            "marker": {
             "colorbar": {
              "outlinewidth": 0,
              "ticks": ""
             }
            },
            "type": "scattermapbox"
           }
          ],
          "scatterpolar": [
           {
            "marker": {
             "colorbar": {
              "outlinewidth": 0,
              "ticks": ""
             }
            },
            "type": "scatterpolar"
           }
          ],
          "scatterpolargl": [
           {
            "marker": {
             "colorbar": {
              "outlinewidth": 0,
              "ticks": ""
             }
            },
            "type": "scatterpolargl"
           }
          ],
          "scatterternary": [
           {
            "marker": {
             "colorbar": {
              "outlinewidth": 0,
              "ticks": ""
             }
            },
            "type": "scatterternary"
           }
          ],
          "surface": [
           {
            "colorbar": {
             "outlinewidth": 0,
             "ticks": ""
            },
            "colorscale": [
             [
              0,
              "#0d0887"
             ],
             [
              0.1111111111111111,
              "#46039f"
             ],
             [
              0.2222222222222222,
              "#7201a8"
             ],
             [
              0.3333333333333333,
              "#9c179e"
             ],
             [
              0.4444444444444444,
              "#bd3786"
             ],
             [
              0.5555555555555556,
              "#d8576b"
             ],
             [
              0.6666666666666666,
              "#ed7953"
             ],
             [
              0.7777777777777778,
              "#fb9f3a"
             ],
             [
              0.8888888888888888,
              "#fdca26"
             ],
             [
              1,
              "#f0f921"
             ]
            ],
            "type": "surface"
           }
          ],
          "table": [
           {
            "cells": {
             "fill": {
              "color": "#EBF0F8"
             },
             "line": {
              "color": "white"
             }
            },
            "header": {
             "fill": {
              "color": "#C8D4E3"
             },
             "line": {
              "color": "white"
             }
            },
            "type": "table"
           }
          ]
         },
         "layout": {
          "annotationdefaults": {
           "arrowcolor": "#2a3f5f",
           "arrowhead": 0,
           "arrowwidth": 1
          },
          "autotypenumbers": "strict",
          "coloraxis": {
           "colorbar": {
            "outlinewidth": 0,
            "ticks": ""
           }
          },
          "colorscale": {
           "diverging": [
            [
             0,
             "#8e0152"
            ],
            [
             0.1,
             "#c51b7d"
            ],
            [
             0.2,
             "#de77ae"
            ],
            [
             0.3,
             "#f1b6da"
            ],
            [
             0.4,
             "#fde0ef"
            ],
            [
             0.5,
             "#f7f7f7"
            ],
            [
             0.6,
             "#e6f5d0"
            ],
            [
             0.7,
             "#b8e186"
            ],
            [
             0.8,
             "#7fbc41"
            ],
            [
             0.9,
             "#4d9221"
            ],
            [
             1,
             "#276419"
            ]
           ],
           "sequential": [
            [
             0,
             "#0d0887"
            ],
            [
             0.1111111111111111,
             "#46039f"
            ],
            [
             0.2222222222222222,
             "#7201a8"
            ],
            [
             0.3333333333333333,
             "#9c179e"
            ],
            [
             0.4444444444444444,
             "#bd3786"
            ],
            [
             0.5555555555555556,
             "#d8576b"
            ],
            [
             0.6666666666666666,
             "#ed7953"
            ],
            [
             0.7777777777777778,
             "#fb9f3a"
            ],
            [
             0.8888888888888888,
             "#fdca26"
            ],
            [
             1,
             "#f0f921"
            ]
           ],
           "sequentialminus": [
            [
             0,
             "#0d0887"
            ],
            [
             0.1111111111111111,
             "#46039f"
            ],
            [
             0.2222222222222222,
             "#7201a8"
            ],
            [
             0.3333333333333333,
             "#9c179e"
            ],
            [
             0.4444444444444444,
             "#bd3786"
            ],
            [
             0.5555555555555556,
             "#d8576b"
            ],
            [
             0.6666666666666666,
             "#ed7953"
            ],
            [
             0.7777777777777778,
             "#fb9f3a"
            ],
            [
             0.8888888888888888,
             "#fdca26"
            ],
            [
             1,
             "#f0f921"
            ]
           ]
          },
          "colorway": [
           "#636efa",
           "#EF553B",
           "#00cc96",
           "#ab63fa",
           "#FFA15A",
           "#19d3f3",
           "#FF6692",
           "#B6E880",
           "#FF97FF",
           "#FECB52"
          ],
          "font": {
           "color": "#2a3f5f"
          },
          "geo": {
           "bgcolor": "white",
           "lakecolor": "white",
           "landcolor": "#E5ECF6",
           "showlakes": true,
           "showland": true,
           "subunitcolor": "white"
          },
          "hoverlabel": {
           "align": "left"
          },
          "hovermode": "closest",
          "mapbox": {
           "style": "light"
          },
          "paper_bgcolor": "white",
          "plot_bgcolor": "#E5ECF6",
          "polar": {
           "angularaxis": {
            "gridcolor": "white",
            "linecolor": "white",
            "ticks": ""
           },
           "bgcolor": "#E5ECF6",
           "radialaxis": {
            "gridcolor": "white",
            "linecolor": "white",
            "ticks": ""
           }
          },
          "scene": {
           "xaxis": {
            "backgroundcolor": "#E5ECF6",
            "gridcolor": "white",
            "gridwidth": 2,
            "linecolor": "white",
            "showbackground": true,
            "ticks": "",
            "zerolinecolor": "white"
           },
           "yaxis": {
            "backgroundcolor": "#E5ECF6",
            "gridcolor": "white",
            "gridwidth": 2,
            "linecolor": "white",
            "showbackground": true,
            "ticks": "",
            "zerolinecolor": "white"
           },
           "zaxis": {
            "backgroundcolor": "#E5ECF6",
            "gridcolor": "white",
            "gridwidth": 2,
            "linecolor": "white",
            "showbackground": true,
            "ticks": "",
            "zerolinecolor": "white"
           }
          },
          "shapedefaults": {
           "line": {
            "color": "#2a3f5f"
           }
          },
          "ternary": {
           "aaxis": {
            "gridcolor": "white",
            "linecolor": "white",
            "ticks": ""
           },
           "baxis": {
            "gridcolor": "white",
            "linecolor": "white",
            "ticks": ""
           },
           "bgcolor": "#E5ECF6",
           "caxis": {
            "gridcolor": "white",
            "linecolor": "white",
            "ticks": ""
           }
          },
          "title": {
           "x": 0.05
          },
          "xaxis": {
           "automargin": true,
           "gridcolor": "white",
           "linecolor": "white",
           "ticks": "",
           "title": {
            "standoff": 15
           },
           "zerolinecolor": "white",
           "zerolinewidth": 2
          },
          "yaxis": {
           "automargin": true,
           "gridcolor": "white",
           "linecolor": "white",
           "ticks": "",
           "title": {
            "standoff": 15
           },
           "zerolinecolor": "white",
           "zerolinewidth": 2
          }
         }
        }
       }
      }
     },
     "metadata": {},
     "output_type": "display_data"
    }
   ],
   "source": [
    "fig = go.Figure(data=[go.Candlestick(x=btc_60_min_subset['datetime'],\n",
    "                open=btc_60_min_subset['open'],\n",
    "                high=btc_60_min_subset['high'],\n",
    "                low=btc_60_min_subset['low'],\n",
    "                close=btc_60_min_subset['close'])])\n",
    "fig.add_trace(go.Scatter(mode=\"markers\", x=btc_cumsum_subset[\"datetime\"], y=btc_cumsum_subset[\"close\"], name=\"daily\"))\n",
    "\n",
    "fig.show()"
   ]
  },
  {
   "cell_type": "code",
   "execution_count": 35,
   "metadata": {},
   "outputs": [
    {
     "data": {
      "application/vnd.plotly.v1+json": {
       "config": {
        "plotlyServerURL": "https://plot.ly"
       },
       "data": [
        {
         "line": {
          "color": "cornflowerblue",
          "width": 7
         },
         "name": "1h close price",
         "type": "scatter",
         "x": [
          "2022-04-06T00:00:00",
          "2022-04-06T01:00:00",
          "2022-04-06T02:00:00",
          "2022-04-06T03:00:00",
          "2022-04-06T04:00:00",
          "2022-04-06T05:00:00",
          "2022-04-06T06:00:00",
          "2022-04-06T07:00:00",
          "2022-04-06T08:00:00",
          "2022-04-06T09:00:00",
          "2022-04-06T10:00:00",
          "2022-04-06T11:00:00",
          "2022-04-06T12:00:00",
          "2022-04-06T13:00:00",
          "2022-04-06T14:00:00",
          "2022-04-06T15:00:00",
          "2022-04-06T16:00:00",
          "2022-04-06T17:00:00",
          "2022-04-06T18:00:00",
          "2022-04-06T19:00:00",
          "2022-04-06T20:00:00",
          "2022-04-06T21:00:00",
          "2022-04-06T22:00:00",
          "2022-04-06T23:00:00",
          "2022-04-07T00:00:00",
          "2022-04-07T01:00:00",
          "2022-04-07T02:00:00",
          "2022-04-07T03:00:00",
          "2022-04-07T04:00:00",
          "2022-04-07T05:00:00",
          "2022-04-07T06:00:00",
          "2022-04-07T07:00:00",
          "2022-04-07T08:00:00",
          "2022-04-07T09:00:00",
          "2022-04-07T10:00:00",
          "2022-04-07T11:00:00",
          "2022-04-07T12:00:00",
          "2022-04-07T13:00:00",
          "2022-04-07T14:00:00",
          "2022-04-07T15:00:00",
          "2022-04-07T16:00:00",
          "2022-04-07T17:00:00",
          "2022-04-07T18:00:00",
          "2022-04-07T19:00:00",
          "2022-04-07T20:00:00",
          "2022-04-07T21:00:00",
          "2022-04-07T22:00:00",
          "2022-04-07T23:00:00",
          "2022-04-08T00:00:00",
          "2022-04-08T01:00:00",
          "2022-04-08T02:00:00",
          "2022-04-08T03:00:00",
          "2022-04-08T04:00:00",
          "2022-04-08T05:00:00",
          "2022-04-08T06:00:00",
          "2022-04-08T07:00:00",
          "2022-04-08T08:00:00",
          "2022-04-08T09:00:00",
          "2022-04-08T10:00:00",
          "2022-04-08T11:00:00",
          "2022-04-08T12:00:00",
          "2022-04-08T13:00:00",
          "2022-04-08T14:00:00",
          "2022-04-08T15:00:00",
          "2022-04-08T16:00:00",
          "2022-04-08T17:00:00",
          "2022-04-08T18:00:00",
          "2022-04-08T19:00:00",
          "2022-04-08T20:00:00",
          "2022-04-08T21:00:00",
          "2022-04-08T22:00:00",
          "2022-04-08T23:00:00",
          "2022-04-09T00:00:00",
          "2022-04-09T01:00:00",
          "2022-04-09T02:00:00",
          "2022-04-09T03:00:00",
          "2022-04-09T04:00:00",
          "2022-04-09T05:00:00",
          "2022-04-09T06:00:00",
          "2022-04-09T07:00:00",
          "2022-04-09T08:00:00",
          "2022-04-09T09:00:00",
          "2022-04-09T10:00:00",
          "2022-04-09T11:00:00",
          "2022-04-09T12:00:00",
          "2022-04-09T13:00:00",
          "2022-04-09T14:00:00",
          "2022-04-09T15:00:00",
          "2022-04-09T16:00:00",
          "2022-04-09T17:00:00",
          "2022-04-09T18:00:00",
          "2022-04-09T19:00:00",
          "2022-04-09T20:00:00",
          "2022-04-09T21:00:00",
          "2022-04-09T22:00:00",
          "2022-04-09T23:00:00",
          "2022-04-10T00:00:00",
          "2022-04-10T01:00:00",
          "2022-04-10T02:00:00",
          "2022-04-10T03:00:00",
          "2022-04-10T04:00:00",
          "2022-04-10T05:00:00",
          "2022-04-10T06:00:00",
          "2022-04-10T07:00:00",
          "2022-04-10T08:00:00",
          "2022-04-10T09:00:00",
          "2022-04-10T10:00:00",
          "2022-04-10T11:00:00",
          "2022-04-10T12:00:00",
          "2022-04-10T13:00:00",
          "2022-04-10T14:00:00",
          "2022-04-10T15:00:00",
          "2022-04-10T16:00:00",
          "2022-04-10T17:00:00",
          "2022-04-10T18:00:00",
          "2022-04-10T19:00:00",
          "2022-04-10T20:00:00",
          "2022-04-10T21:00:00",
          "2022-04-10T22:00:00",
          "2022-04-10T23:00:00",
          "2022-04-11T00:00:00",
          "2022-04-11T01:00:00",
          "2022-04-11T02:00:00",
          "2022-04-11T03:00:00",
          "2022-04-11T04:00:00",
          "2022-04-11T05:00:00",
          "2022-04-11T06:00:00",
          "2022-04-11T07:00:00",
          "2022-04-11T08:00:00",
          "2022-04-11T09:00:00",
          "2022-04-11T10:00:00",
          "2022-04-11T11:00:00",
          "2022-04-11T12:00:00",
          "2022-04-11T13:00:00",
          "2022-04-11T14:00:00",
          "2022-04-11T15:00:00",
          "2022-04-11T16:00:00",
          "2022-04-11T17:00:00",
          "2022-04-11T18:00:00",
          "2022-04-11T19:00:00",
          "2022-04-11T20:00:00",
          "2022-04-11T21:00:00",
          "2022-04-11T22:00:00",
          "2022-04-11T23:00:00",
          "2022-04-12T00:00:00",
          "2022-04-12T01:00:00",
          "2022-04-12T02:00:00",
          "2022-04-12T03:00:00",
          "2022-04-12T04:00:00",
          "2022-04-12T05:00:00",
          "2022-04-12T06:00:00",
          "2022-04-12T07:00:00",
          "2022-04-12T08:00:00",
          "2022-04-12T09:00:00",
          "2022-04-12T10:00:00",
          "2022-04-12T11:00:00",
          "2022-04-12T12:00:00",
          "2022-04-12T13:00:00",
          "2022-04-12T14:00:00",
          "2022-04-12T15:00:00",
          "2022-04-12T16:00:00",
          "2022-04-12T17:00:00",
          "2022-04-12T18:00:00",
          "2022-04-12T19:00:00",
          "2022-04-12T20:00:00",
          "2022-04-12T21:00:00",
          "2022-04-12T22:00:00",
          "2022-04-12T23:00:00",
          "2022-04-13T00:00:00",
          "2022-04-13T01:00:00",
          "2022-04-13T02:00:00",
          "2022-04-13T03:00:00",
          "2022-04-13T04:00:00",
          "2022-04-13T05:00:00",
          "2022-04-13T06:00:00",
          "2022-04-13T07:00:00",
          "2022-04-13T08:00:00",
          "2022-04-13T09:00:00",
          "2022-04-13T10:00:00",
          "2022-04-13T11:00:00",
          "2022-04-13T12:00:00",
          "2022-04-13T13:00:00",
          "2022-04-13T14:00:00",
          "2022-04-13T15:00:00",
          "2022-04-13T16:00:00",
          "2022-04-13T17:00:00",
          "2022-04-13T18:00:00",
          "2022-04-13T19:00:00",
          "2022-04-13T20:00:00",
          "2022-04-13T21:00:00",
          "2022-04-13T22:00:00",
          "2022-04-13T23:00:00",
          "2022-04-14T00:00:00",
          "2022-04-14T01:00:00",
          "2022-04-14T02:00:00",
          "2022-04-14T03:00:00",
          "2022-04-14T04:00:00",
          "2022-04-14T05:00:00",
          "2022-04-14T06:00:00",
          "2022-04-14T07:00:00",
          "2022-04-14T08:00:00",
          "2022-04-14T09:00:00",
          "2022-04-14T10:00:00",
          "2022-04-14T11:00:00",
          "2022-04-14T12:00:00",
          "2022-04-14T13:00:00",
          "2022-04-14T14:00:00",
          "2022-04-14T15:00:00",
          "2022-04-14T16:00:00",
          "2022-04-14T17:00:00",
          "2022-04-14T18:00:00",
          "2022-04-14T19:00:00",
          "2022-04-14T20:00:00",
          "2022-04-14T21:00:00",
          "2022-04-14T22:00:00",
          "2022-04-14T23:00:00",
          "2022-04-15T00:00:00",
          "2022-04-15T01:00:00",
          "2022-04-15T02:00:00",
          "2022-04-15T03:00:00",
          "2022-04-15T04:00:00",
          "2022-04-15T05:00:00",
          "2022-04-15T06:00:00",
          "2022-04-15T07:00:00",
          "2022-04-15T08:00:00",
          "2022-04-15T09:00:00",
          "2022-04-15T10:00:00",
          "2022-04-15T11:00:00",
          "2022-04-15T12:00:00",
          "2022-04-15T13:00:00",
          "2022-04-15T14:00:00",
          "2022-04-15T15:00:00",
          "2022-04-15T16:00:00",
          "2022-04-15T17:00:00",
          "2022-04-15T18:00:00",
          "2022-04-15T19:00:00",
          "2022-04-15T20:00:00",
          "2022-04-15T21:00:00",
          "2022-04-15T22:00:00",
          "2022-04-15T23:00:00",
          "2022-04-16T00:00:00",
          "2022-04-16T01:00:00",
          "2022-04-16T02:00:00",
          "2022-04-16T03:00:00",
          "2022-04-16T04:00:00",
          "2022-04-16T05:00:00",
          "2022-04-16T06:00:00",
          "2022-04-16T07:00:00",
          "2022-04-16T08:00:00",
          "2022-04-16T09:00:00",
          "2022-04-16T10:00:00",
          "2022-04-16T11:00:00",
          "2022-04-16T12:00:00",
          "2022-04-16T13:00:00",
          "2022-04-16T14:00:00",
          "2022-04-16T15:00:00",
          "2022-04-16T16:00:00",
          "2022-04-16T17:00:00",
          "2022-04-16T18:00:00",
          "2022-04-16T19:00:00",
          "2022-04-16T20:00:00",
          "2022-04-16T21:00:00",
          "2022-04-16T22:00:00",
          "2022-04-16T23:00:00",
          "2022-04-17T00:00:00",
          "2022-04-17T01:00:00",
          "2022-04-17T02:00:00",
          "2022-04-17T03:00:00",
          "2022-04-17T04:00:00",
          "2022-04-17T05:00:00",
          "2022-04-17T06:00:00",
          "2022-04-17T07:00:00",
          "2022-04-17T08:00:00",
          "2022-04-17T09:00:00",
          "2022-04-17T10:00:00",
          "2022-04-17T11:00:00",
          "2022-04-17T12:00:00",
          "2022-04-17T13:00:00",
          "2022-04-17T14:00:00",
          "2022-04-17T15:00:00",
          "2022-04-17T16:00:00",
          "2022-04-17T17:00:00",
          "2022-04-17T18:00:00",
          "2022-04-17T19:00:00",
          "2022-04-17T20:00:00",
          "2022-04-17T21:00:00",
          "2022-04-17T22:00:00",
          "2022-04-17T23:00:00",
          "2022-04-18T00:00:00",
          "2022-04-18T01:00:00",
          "2022-04-18T02:00:00",
          "2022-04-18T03:00:00",
          "2022-04-18T04:00:00",
          "2022-04-18T05:00:00",
          "2022-04-18T06:00:00",
          "2022-04-18T07:00:00",
          "2022-04-18T08:00:00",
          "2022-04-18T09:00:00",
          "2022-04-18T10:00:00",
          "2022-04-18T11:00:00",
          "2022-04-18T12:00:00",
          "2022-04-18T13:00:00",
          "2022-04-18T14:00:00",
          "2022-04-18T15:00:00",
          "2022-04-18T16:00:00",
          "2022-04-18T17:00:00",
          "2022-04-18T18:00:00",
          "2022-04-18T19:00:00",
          "2022-04-18T20:00:00",
          "2022-04-18T21:00:00",
          "2022-04-18T22:00:00",
          "2022-04-18T23:00:00",
          "2022-04-19T00:00:00",
          "2022-04-19T01:00:00",
          "2022-04-19T02:00:00",
          "2022-04-19T03:00:00",
          "2022-04-19T04:00:00",
          "2022-04-19T05:00:00",
          "2022-04-19T06:00:00",
          "2022-04-19T07:00:00",
          "2022-04-19T08:00:00",
          "2022-04-19T09:00:00",
          "2022-04-19T10:00:00",
          "2022-04-19T11:00:00",
          "2022-04-19T12:00:00",
          "2022-04-19T13:00:00",
          "2022-04-19T14:00:00",
          "2022-04-19T15:00:00",
          "2022-04-19T16:00:00",
          "2022-04-19T17:00:00",
          "2022-04-19T18:00:00",
          "2022-04-19T19:00:00",
          "2022-04-19T20:00:00",
          "2022-04-19T21:00:00",
          "2022-04-19T22:00:00",
          "2022-04-19T23:00:00",
          "2022-04-20T00:00:00"
         ],
         "y": [
          45005.88,
          45188.86,
          45220.87,
          45215.88,
          45335.34,
          45375,
          45464.26,
          45276.04,
          45366.85,
          45330.2,
          45072.53,
          44819.19,
          44751,
          44165.9,
          44258.99,
          44168.35,
          43781.3,
          43815.28,
          43837.63,
          43754.57,
          43877.45,
          43845.82,
          43511.33,
          43170.47,
          42894.3,
          43374.97,
          43350.91,
          43294.04,
          43395.57,
          43399.99,
          43380.94,
          43445.33,
          43521.92,
          43457.98,
          43409.73,
          43766.74,
          43554.97,
          43659.98,
          43420.69,
          43331.81,
          43494,
          43657.68,
          43702.95,
          43388.92,
          43567.36,
          43520.07,
          43629.73,
          43444.19,
          43327.46,
          43607.61,
          43615.63,
          43605.96,
          43543.02,
          43654.3,
          43573.45,
          43763.52,
          43700.33,
          43588.73,
          43558.51,
          43298.79,
          43151.75,
          42906.67,
          43750.14,
          43648.01,
          43433.71,
          43004.38,
          42957.57,
          42730.84,
          42798.74,
          42563.36,
          42300.99,
          42252.01,
          42435.02,
          42433.4,
          42180,
          42380,
          42406.82,
          42586.04,
          42440,
          42481.09,
          42463.51,
          42443.11,
          42480.56,
          42445.1,
          42506.35,
          42456.86,
          42460,
          42260.77,
          42445.64,
          42575.67,
          42467.82,
          42511.94,
          42423.18,
          42558.06,
          42543.42,
          42753.97,
          42632.32,
          42767.23,
          42833.03,
          42785.72,
          42740.86,
          42656.7,
          42785.32,
          42633.59,
          42642.54,
          42523.95,
          42530,
          42680.36,
          42590,
          42575.53,
          42698.38,
          42747.47,
          42784.43,
          43103.62,
          43107.6,
          43235.77,
          43101.23,
          42706,
          42111.94,
          42158.85,
          42303.26,
          42159.32,
          41929.34,
          42111.22,
          42259.43,
          42287.6,
          42250,
          42305.75,
          42200,
          41416.22,
          41595.99,
          41067.63,
          41145.46,
          41141.13,
          40803.87,
          40581.51,
          40764.79,
          40459.07,
          40509.98,
          39985.33,
          39838.26,
          39395.29,
          39766.39,
          39530.45,
          39544.31,
          39504.54,
          39490,
          39747.13,
          39921.19,
          40105.78,
          39935.23,
          40183.97,
          40182.03,
          40212.26,
          40149.99,
          40378,
          40618.37,
          40401.03,
          39990.39,
          40179.13,
          40097.23,
          40014.72,
          39667.85,
          39303.1,
          39519.99,
          39693.79,
          39827.96,
          40074.94,
          39936.17,
          39882.9,
          40059.14,
          40076.05,
          40134.51,
          40187.9,
          39958.45,
          40130,
          40162.32,
          40079.99,
          39808.11,
          39722.64,
          39700.01,
          40521.75,
          40642.1,
          41158.18,
          41005.58,
          41043.91,
          41363.01,
          41059.3,
          41241.16,
          41219.72,
          41279.05,
          41147.79,
          41186.23,
          41470.01,
          41419.99,
          41320,
          41290.81,
          41308.44,
          41195.39,
          41271.66,
          41172.72,
          41186.69,
          40946.47,
          40919.99,
          41149.98,
          40605.62,
          40435.04,
          39964.02,
          39951.1,
          39986.83,
          39659,
          39775.82,
          39909.99,
          39970,
          39843.71,
          39942.38,
          39859.99,
          39941,
          40017.2,
          40200.94,
          40103.26,
          40132.73,
          40040,
          40239.43,
          40153.97,
          40112.16,
          40268.24,
          40220,
          40149.99,
          40039.87,
          40450,
          40412.2,
          40383.09,
          40436.01,
          40388.11,
          40313.35,
          40396.69,
          40426,
          40467.48,
          40551.9,
          40560,
          40579.99,
          40522.34,
          40434.12,
          40539.47,
          40456.82,
          40419.52,
          40393.77,
          40369.99,
          40328.79,
          40413.91,
          40416.95,
          40449.11,
          40438.15,
          40493.32,
          40062.68,
          40203.33,
          40153,
          40183.9,
          40210,
          40280,
          40485.28,
          40405.86,
          40378.71,
          40374.13,
          40387.43,
          40166.93,
          40230.86,
          40282.58,
          40364.48,
          40323.16,
          40285.15,
          40390.16,
          40419.82,
          40412.88,
          40464.77,
          40421.72,
          40306.56,
          40359.19,
          40445.3,
          40200.01,
          40101.72,
          40119.99,
          40370.46,
          40263.19,
          40208.14,
          40000,
          39678.12,
          39732.92,
          39752.13,
          39796.91,
          39813.17,
          38819.06,
          38922.21,
          38980.39,
          38919.85,
          38874.87,
          38976.39,
          38923.98,
          38998.54,
          39400.02,
          39326.13,
          39340,
          39254.5,
          39464.46,
          40211.03,
          40646.01,
          40680.68,
          40664.26,
          40801.3,
          40923.74,
          40801.13,
          40880.79,
          40750.05,
          40611,
          40693.79,
          40864.27,
          40660.96,
          40711.6,
          40683.14,
          40725.91,
          40665.4,
          40795.62,
          40687.3,
          40975.11,
          41451.52,
          41565.91,
          41445.87,
          41342.26,
          41345.63,
          41400.55,
          41417.24,
          41293.15,
          41313.07,
          41395.39,
          41493.18,
          41295.37
         ]
        },
        {
         "marker": {
          "size": 11
         },
         "mode": "markers",
         "name": "Sampled points",
         "type": "scatter",
         "x": [
          "2022-04-06T00:08:00",
          "2022-04-06T04:56:00",
          "2022-04-06T13:44:00",
          "2022-04-06T15:32:00",
          "2022-04-06T18:24:00",
          "2022-04-07T00:51:00",
          "2022-04-07T11:08:00",
          "2022-04-08T08:48:00",
          "2022-04-08T13:02:00",
          "2022-04-08T14:52:00",
          "2022-04-08T17:16:00",
          "2022-04-08T22:20:00",
          "2022-04-10T17:22:00",
          "2022-04-10T22:17:00",
          "2022-04-11T09:58:00",
          "2022-04-11T13:32:00",
          "2022-04-11T17:16:00",
          "2022-04-11T20:06:00",
          "2022-04-11T21:49:00",
          "2022-04-12T05:24:00",
          "2022-04-12T18:15:00",
          "2022-04-12T23:24:00",
          "2022-04-13T13:46:00",
          "2022-04-13T15:22:00",
          "2022-04-14T13:51:00",
          "2022-04-14T16:36:00",
          "2022-04-15T07:53:00",
          "2022-04-17T18:08:00",
          "2022-04-17T23:32:00",
          "2022-04-18T04:19:00",
          "2022-04-18T12:56:00",
          "2022-04-18T17:10:00",
          "2022-04-18T18:15:00",
          "2022-04-19T13:48:00"
         ],
         "y": [
          45250.68,
          45366.53,
          44575.15,
          43744.54,
          43346.07,
          42861.78,
          43697.22,
          43965,
          43086.95,
          43753.54,
          43003.95,
          42287.12,
          43146.08,
          42388,
          41702.14,
          40798.32,
          40333.6,
          39588.09,
          39435.57,
          40110.65,
          39791.63,
          40116.36,
          40403.14,
          41195.32,
          40594.09,
          39799.89,
          40443.82,
          39890.69,
          39586.58,
          38945.96,
          39465.93,
          40251.63,
          40684.98,
          41296.32
         ]
        }
       ],
       "layout": {
        "legend": {
         "bordercolor": "LightSteelBlue",
         "borderwidth": 1,
         "font": {
          "color": "black",
          "family": "Arial",
          "size": 20
         },
         "orientation": "h",
         "x": 1,
         "xanchor": "right",
         "y": 1.02,
         "yanchor": "bottom"
        },
        "template": {
         "data": {
          "bar": [
           {
            "error_x": {
             "color": "#2a3f5f"
            },
            "error_y": {
             "color": "#2a3f5f"
            },
            "marker": {
             "line": {
              "color": "white",
              "width": 0.5
             },
             "pattern": {
              "fillmode": "overlay",
              "size": 10,
              "solidity": 0.2
             }
            },
            "type": "bar"
           }
          ],
          "barpolar": [
           {
            "marker": {
             "line": {
              "color": "white",
              "width": 0.5
             },
             "pattern": {
              "fillmode": "overlay",
              "size": 10,
              "solidity": 0.2
             }
            },
            "type": "barpolar"
           }
          ],
          "carpet": [
           {
            "aaxis": {
             "endlinecolor": "#2a3f5f",
             "gridcolor": "#C8D4E3",
             "linecolor": "#C8D4E3",
             "minorgridcolor": "#C8D4E3",
             "startlinecolor": "#2a3f5f"
            },
            "baxis": {
             "endlinecolor": "#2a3f5f",
             "gridcolor": "#C8D4E3",
             "linecolor": "#C8D4E3",
             "minorgridcolor": "#C8D4E3",
             "startlinecolor": "#2a3f5f"
            },
            "type": "carpet"
           }
          ],
          "choropleth": [
           {
            "colorbar": {
             "outlinewidth": 0,
             "ticks": ""
            },
            "type": "choropleth"
           }
          ],
          "contour": [
           {
            "colorbar": {
             "outlinewidth": 0,
             "ticks": ""
            },
            "colorscale": [
             [
              0,
              "#0d0887"
             ],
             [
              0.1111111111111111,
              "#46039f"
             ],
             [
              0.2222222222222222,
              "#7201a8"
             ],
             [
              0.3333333333333333,
              "#9c179e"
             ],
             [
              0.4444444444444444,
              "#bd3786"
             ],
             [
              0.5555555555555556,
              "#d8576b"
             ],
             [
              0.6666666666666666,
              "#ed7953"
             ],
             [
              0.7777777777777778,
              "#fb9f3a"
             ],
             [
              0.8888888888888888,
              "#fdca26"
             ],
             [
              1,
              "#f0f921"
             ]
            ],
            "type": "contour"
           }
          ],
          "contourcarpet": [
           {
            "colorbar": {
             "outlinewidth": 0,
             "ticks": ""
            },
            "type": "contourcarpet"
           }
          ],
          "heatmap": [
           {
            "colorbar": {
             "outlinewidth": 0,
             "ticks": ""
            },
            "colorscale": [
             [
              0,
              "#0d0887"
             ],
             [
              0.1111111111111111,
              "#46039f"
             ],
             [
              0.2222222222222222,
              "#7201a8"
             ],
             [
              0.3333333333333333,
              "#9c179e"
             ],
             [
              0.4444444444444444,
              "#bd3786"
             ],
             [
              0.5555555555555556,
              "#d8576b"
             ],
             [
              0.6666666666666666,
              "#ed7953"
             ],
             [
              0.7777777777777778,
              "#fb9f3a"
             ],
             [
              0.8888888888888888,
              "#fdca26"
             ],
             [
              1,
              "#f0f921"
             ]
            ],
            "type": "heatmap"
           }
          ],
          "heatmapgl": [
           {
            "colorbar": {
             "outlinewidth": 0,
             "ticks": ""
            },
            "colorscale": [
             [
              0,
              "#0d0887"
             ],
             [
              0.1111111111111111,
              "#46039f"
             ],
             [
              0.2222222222222222,
              "#7201a8"
             ],
             [
              0.3333333333333333,
              "#9c179e"
             ],
             [
              0.4444444444444444,
              "#bd3786"
             ],
             [
              0.5555555555555556,
              "#d8576b"
             ],
             [
              0.6666666666666666,
              "#ed7953"
             ],
             [
              0.7777777777777778,
              "#fb9f3a"
             ],
             [
              0.8888888888888888,
              "#fdca26"
             ],
             [
              1,
              "#f0f921"
             ]
            ],
            "type": "heatmapgl"
           }
          ],
          "histogram": [
           {
            "marker": {
             "pattern": {
              "fillmode": "overlay",
              "size": 10,
              "solidity": 0.2
             }
            },
            "type": "histogram"
           }
          ],
          "histogram2d": [
           {
            "colorbar": {
             "outlinewidth": 0,
             "ticks": ""
            },
            "colorscale": [
             [
              0,
              "#0d0887"
             ],
             [
              0.1111111111111111,
              "#46039f"
             ],
             [
              0.2222222222222222,
              "#7201a8"
             ],
             [
              0.3333333333333333,
              "#9c179e"
             ],
             [
              0.4444444444444444,
              "#bd3786"
             ],
             [
              0.5555555555555556,
              "#d8576b"
             ],
             [
              0.6666666666666666,
              "#ed7953"
             ],
             [
              0.7777777777777778,
              "#fb9f3a"
             ],
             [
              0.8888888888888888,
              "#fdca26"
             ],
             [
              1,
              "#f0f921"
             ]
            ],
            "type": "histogram2d"
           }
          ],
          "histogram2dcontour": [
           {
            "colorbar": {
             "outlinewidth": 0,
             "ticks": ""
            },
            "colorscale": [
             [
              0,
              "#0d0887"
             ],
             [
              0.1111111111111111,
              "#46039f"
             ],
             [
              0.2222222222222222,
              "#7201a8"
             ],
             [
              0.3333333333333333,
              "#9c179e"
             ],
             [
              0.4444444444444444,
              "#bd3786"
             ],
             [
              0.5555555555555556,
              "#d8576b"
             ],
             [
              0.6666666666666666,
              "#ed7953"
             ],
             [
              0.7777777777777778,
              "#fb9f3a"
             ],
             [
              0.8888888888888888,
              "#fdca26"
             ],
             [
              1,
              "#f0f921"
             ]
            ],
            "type": "histogram2dcontour"
           }
          ],
          "mesh3d": [
           {
            "colorbar": {
             "outlinewidth": 0,
             "ticks": ""
            },
            "type": "mesh3d"
           }
          ],
          "parcoords": [
           {
            "line": {
             "colorbar": {
              "outlinewidth": 0,
              "ticks": ""
             }
            },
            "type": "parcoords"
           }
          ],
          "pie": [
           {
            "automargin": true,
            "type": "pie"
           }
          ],
          "scatter": [
           {
            "fillpattern": {
             "fillmode": "overlay",
             "size": 10,
             "solidity": 0.2
            },
            "type": "scatter"
           }
          ],
          "scatter3d": [
           {
            "line": {
             "colorbar": {
              "outlinewidth": 0,
              "ticks": ""
             }
            },
            "marker": {
             "colorbar": {
              "outlinewidth": 0,
              "ticks": ""
             }
            },
            "type": "scatter3d"
           }
          ],
          "scattercarpet": [
           {
            "marker": {
             "colorbar": {
              "outlinewidth": 0,
              "ticks": ""
             }
            },
            "type": "scattercarpet"
           }
          ],
          "scattergeo": [
           {
            "marker": {
             "colorbar": {
              "outlinewidth": 0,
              "ticks": ""
             }
            },
            "type": "scattergeo"
           }
          ],
          "scattergl": [
           {
            "marker": {
             "colorbar": {
              "outlinewidth": 0,
              "ticks": ""
             }
            },
            "type": "scattergl"
           }
          ],
          "scattermapbox": [
           {
            "marker": {
             "colorbar": {
              "outlinewidth": 0,
              "ticks": ""
             }
            },
            "type": "scattermapbox"
           }
          ],
          "scatterpolar": [
           {
            "marker": {
             "colorbar": {
              "outlinewidth": 0,
              "ticks": ""
             }
            },
            "type": "scatterpolar"
           }
          ],
          "scatterpolargl": [
           {
            "marker": {
             "colorbar": {
              "outlinewidth": 0,
              "ticks": ""
             }
            },
            "type": "scatterpolargl"
           }
          ],
          "scatterternary": [
           {
            "marker": {
             "colorbar": {
              "outlinewidth": 0,
              "ticks": ""
             }
            },
            "type": "scatterternary"
           }
          ],
          "surface": [
           {
            "colorbar": {
             "outlinewidth": 0,
             "ticks": ""
            },
            "colorscale": [
             [
              0,
              "#0d0887"
             ],
             [
              0.1111111111111111,
              "#46039f"
             ],
             [
              0.2222222222222222,
              "#7201a8"
             ],
             [
              0.3333333333333333,
              "#9c179e"
             ],
             [
              0.4444444444444444,
              "#bd3786"
             ],
             [
              0.5555555555555556,
              "#d8576b"
             ],
             [
              0.6666666666666666,
              "#ed7953"
             ],
             [
              0.7777777777777778,
              "#fb9f3a"
             ],
             [
              0.8888888888888888,
              "#fdca26"
             ],
             [
              1,
              "#f0f921"
             ]
            ],
            "type": "surface"
           }
          ],
          "table": [
           {
            "cells": {
             "fill": {
              "color": "#EBF0F8"
             },
             "line": {
              "color": "white"
             }
            },
            "header": {
             "fill": {
              "color": "#C8D4E3"
             },
             "line": {
              "color": "white"
             }
            },
            "type": "table"
           }
          ]
         },
         "layout": {
          "annotationdefaults": {
           "arrowcolor": "#2a3f5f",
           "arrowhead": 0,
           "arrowwidth": 1
          },
          "autotypenumbers": "strict",
          "coloraxis": {
           "colorbar": {
            "outlinewidth": 0,
            "ticks": ""
           }
          },
          "colorscale": {
           "diverging": [
            [
             0,
             "#8e0152"
            ],
            [
             0.1,
             "#c51b7d"
            ],
            [
             0.2,
             "#de77ae"
            ],
            [
             0.3,
             "#f1b6da"
            ],
            [
             0.4,
             "#fde0ef"
            ],
            [
             0.5,
             "#f7f7f7"
            ],
            [
             0.6,
             "#e6f5d0"
            ],
            [
             0.7,
             "#b8e186"
            ],
            [
             0.8,
             "#7fbc41"
            ],
            [
             0.9,
             "#4d9221"
            ],
            [
             1,
             "#276419"
            ]
           ],
           "sequential": [
            [
             0,
             "#0d0887"
            ],
            [
             0.1111111111111111,
             "#46039f"
            ],
            [
             0.2222222222222222,
             "#7201a8"
            ],
            [
             0.3333333333333333,
             "#9c179e"
            ],
            [
             0.4444444444444444,
             "#bd3786"
            ],
            [
             0.5555555555555556,
             "#d8576b"
            ],
            [
             0.6666666666666666,
             "#ed7953"
            ],
            [
             0.7777777777777778,
             "#fb9f3a"
            ],
            [
             0.8888888888888888,
             "#fdca26"
            ],
            [
             1,
             "#f0f921"
            ]
           ],
           "sequentialminus": [
            [
             0,
             "#0d0887"
            ],
            [
             0.1111111111111111,
             "#46039f"
            ],
            [
             0.2222222222222222,
             "#7201a8"
            ],
            [
             0.3333333333333333,
             "#9c179e"
            ],
            [
             0.4444444444444444,
             "#bd3786"
            ],
            [
             0.5555555555555556,
             "#d8576b"
            ],
            [
             0.6666666666666666,
             "#ed7953"
            ],
            [
             0.7777777777777778,
             "#fb9f3a"
            ],
            [
             0.8888888888888888,
             "#fdca26"
            ],
            [
             1,
             "#f0f921"
            ]
           ]
          },
          "colorway": [
           "#636efa",
           "#EF553B",
           "#00cc96",
           "#ab63fa",
           "#FFA15A",
           "#19d3f3",
           "#FF6692",
           "#B6E880",
           "#FF97FF",
           "#FECB52"
          ],
          "font": {
           "color": "#2a3f5f"
          },
          "geo": {
           "bgcolor": "white",
           "lakecolor": "white",
           "landcolor": "white",
           "showlakes": true,
           "showland": true,
           "subunitcolor": "#C8D4E3"
          },
          "hoverlabel": {
           "align": "left"
          },
          "hovermode": "closest",
          "mapbox": {
           "style": "light"
          },
          "paper_bgcolor": "white",
          "plot_bgcolor": "white",
          "polar": {
           "angularaxis": {
            "gridcolor": "#EBF0F8",
            "linecolor": "#EBF0F8",
            "ticks": ""
           },
           "bgcolor": "white",
           "radialaxis": {
            "gridcolor": "#EBF0F8",
            "linecolor": "#EBF0F8",
            "ticks": ""
           }
          },
          "scene": {
           "xaxis": {
            "backgroundcolor": "white",
            "gridcolor": "#DFE8F3",
            "gridwidth": 2,
            "linecolor": "#EBF0F8",
            "showbackground": true,
            "ticks": "",
            "zerolinecolor": "#EBF0F8"
           },
           "yaxis": {
            "backgroundcolor": "white",
            "gridcolor": "#DFE8F3",
            "gridwidth": 2,
            "linecolor": "#EBF0F8",
            "showbackground": true,
            "ticks": "",
            "zerolinecolor": "#EBF0F8"
           },
           "zaxis": {
            "backgroundcolor": "white",
            "gridcolor": "#DFE8F3",
            "gridwidth": 2,
            "linecolor": "#EBF0F8",
            "showbackground": true,
            "ticks": "",
            "zerolinecolor": "#EBF0F8"
           }
          },
          "shapedefaults": {
           "line": {
            "color": "#2a3f5f"
           }
          },
          "ternary": {
           "aaxis": {
            "gridcolor": "#DFE8F3",
            "linecolor": "#A2B1C6",
            "ticks": ""
           },
           "baxis": {
            "gridcolor": "#DFE8F3",
            "linecolor": "#A2B1C6",
            "ticks": ""
           },
           "bgcolor": "white",
           "caxis": {
            "gridcolor": "#DFE8F3",
            "linecolor": "#A2B1C6",
            "ticks": ""
           }
          },
          "title": {
           "x": 0.05
          },
          "xaxis": {
           "automargin": true,
           "gridcolor": "#EBF0F8",
           "linecolor": "#EBF0F8",
           "ticks": "",
           "title": {
            "standoff": 15
           },
           "zerolinecolor": "#EBF0F8",
           "zerolinewidth": 2
          },
          "yaxis": {
           "automargin": true,
           "gridcolor": "#EBF0F8",
           "linecolor": "#EBF0F8",
           "ticks": "",
           "title": {
            "standoff": 15
           },
           "zerolinecolor": "#EBF0F8",
           "zerolinewidth": 2
          }
         }
        },
        "xaxis": {
         "rangeslider": {
          "visible": false
         },
         "tickfont": {
          "color": "black",
          "family": "Arial",
          "size": 21
         },
         "title": {
          "font": {
           "family": "Arial",
           "size": 22
          }
         }
        },
        "yaxis": {
         "tickfont": {
          "color": "black",
          "family": "Arial",
          "size": 21
         },
         "title": {
          "font": {
           "family": "Arial",
           "size": 22
          }
         }
        }
       }
      }
     },
     "metadata": {},
     "output_type": "display_data"
    }
   ],
   "source": [
    "fig = go.Figure([go.Scatter(x=btc_60_min_subset['datetime'], y=btc_60_min_subset['close'], name=\"1h close price\",\n",
    "                              line=dict(width=7,\n",
    "                                        color='cornflowerblue'))\n",
    "                 ])\n",
    "fig.add_trace(go.Scatter(mode=\"markers\", x=btc_cumsum_subset[\"datetime\"], y=btc_cumsum_subset[\"close\"], name=\"Sampled points\",\n",
    "                         marker=dict(size=11)\n",
    "                         ))\n",
    "fig.update_layout(xaxis_rangeslider_visible=False, \n",
    "                  template='plotly_white', \n",
    "                  legend=dict(\n",
    "\n",
    "                                orientation=\"h\",\n",
    "                                yanchor=\"bottom\",\n",
    "                                y=1.02,\n",
    "                                xanchor=\"right\",\n",
    "                                x=1,\n",
    "                                bordercolor=\"LightSteelBlue\",\n",
    "                                borderwidth=1,\n",
    "                                 font=dict(\n",
    "                                        family=\"Arial\",\n",
    "                                        size=20,\n",
    "                                        color=\"black\"\n",
    "                                    )\n",
    "                                )\n",
    "                )\n",
    "\n",
    "fig.update_xaxes(\n",
    "                 # ticks=\"outside\",\n",
    "                 #tickwidth=2,\n",
    "                 #tickcolor='black',\n",
    "                 tickfont=dict(family='Arial', color='black', size=21),\n",
    "                 title_font=dict(size=22, family='Arial'),\n",
    "                )\n",
    "fig.update_yaxes(\n",
    "                 # ticks=\"outside\",\n",
    "                 # tickwidth=2,\n",
    "                 # tickcolor='black',\n",
    "                 tickfont=dict(family='Arial', color='black', size=21),\n",
    "                 title_font=dict(size=22, family='Arial'),\n",
    "                )\n",
    "\n",
    "# fig.write_image(\"btc_cumsum.png\", scale=2)\n",
    "pio.write_image(fig, 'btc_cumsum.png',scale=3, width=1600, height=800)\n",
    "fig.show()"
   ]
  },
  {
   "cell_type": "code",
   "execution_count": 38,
   "metadata": {},
   "outputs": [
    {
     "data": {
      "application/vnd.plotly.v1+json": {
       "config": {
        "plotlyServerURL": "https://plot.ly"
       },
       "data": [
        {
         "line": {
          "color": "cornflowerblue",
          "width": 7
         },
         "name": "1h close price",
         "type": "scatter",
         "x": [
          "2022-04-06T00:00:00",
          "2022-04-06T01:00:00",
          "2022-04-06T02:00:00",
          "2022-04-06T03:00:00",
          "2022-04-06T04:00:00",
          "2022-04-06T05:00:00",
          "2022-04-06T06:00:00",
          "2022-04-06T07:00:00",
          "2022-04-06T08:00:00",
          "2022-04-06T09:00:00",
          "2022-04-06T10:00:00",
          "2022-04-06T11:00:00",
          "2022-04-06T12:00:00",
          "2022-04-06T13:00:00",
          "2022-04-06T14:00:00",
          "2022-04-06T15:00:00",
          "2022-04-06T16:00:00",
          "2022-04-06T17:00:00",
          "2022-04-06T18:00:00",
          "2022-04-06T19:00:00",
          "2022-04-06T20:00:00",
          "2022-04-06T21:00:00",
          "2022-04-06T22:00:00",
          "2022-04-06T23:00:00",
          "2022-04-07T00:00:00",
          "2022-04-07T01:00:00",
          "2022-04-07T02:00:00",
          "2022-04-07T03:00:00",
          "2022-04-07T04:00:00",
          "2022-04-07T05:00:00",
          "2022-04-07T06:00:00",
          "2022-04-07T07:00:00",
          "2022-04-07T08:00:00",
          "2022-04-07T09:00:00",
          "2022-04-07T10:00:00",
          "2022-04-07T11:00:00",
          "2022-04-07T12:00:00",
          "2022-04-07T13:00:00",
          "2022-04-07T14:00:00",
          "2022-04-07T15:00:00",
          "2022-04-07T16:00:00",
          "2022-04-07T17:00:00",
          "2022-04-07T18:00:00",
          "2022-04-07T19:00:00",
          "2022-04-07T20:00:00",
          "2022-04-07T21:00:00",
          "2022-04-07T22:00:00",
          "2022-04-07T23:00:00",
          "2022-04-08T00:00:00",
          "2022-04-08T01:00:00",
          "2022-04-08T02:00:00",
          "2022-04-08T03:00:00",
          "2022-04-08T04:00:00",
          "2022-04-08T05:00:00",
          "2022-04-08T06:00:00",
          "2022-04-08T07:00:00",
          "2022-04-08T08:00:00",
          "2022-04-08T09:00:00",
          "2022-04-08T10:00:00",
          "2022-04-08T11:00:00",
          "2022-04-08T12:00:00",
          "2022-04-08T13:00:00",
          "2022-04-08T14:00:00",
          "2022-04-08T15:00:00",
          "2022-04-08T16:00:00",
          "2022-04-08T17:00:00",
          "2022-04-08T18:00:00",
          "2022-04-08T19:00:00",
          "2022-04-08T20:00:00",
          "2022-04-08T21:00:00",
          "2022-04-08T22:00:00",
          "2022-04-08T23:00:00",
          "2022-04-09T00:00:00",
          "2022-04-09T01:00:00",
          "2022-04-09T02:00:00",
          "2022-04-09T03:00:00",
          "2022-04-09T04:00:00",
          "2022-04-09T05:00:00",
          "2022-04-09T06:00:00",
          "2022-04-09T07:00:00",
          "2022-04-09T08:00:00",
          "2022-04-09T09:00:00",
          "2022-04-09T10:00:00",
          "2022-04-09T11:00:00",
          "2022-04-09T12:00:00",
          "2022-04-09T13:00:00",
          "2022-04-09T14:00:00",
          "2022-04-09T15:00:00",
          "2022-04-09T16:00:00",
          "2022-04-09T17:00:00",
          "2022-04-09T18:00:00",
          "2022-04-09T19:00:00",
          "2022-04-09T20:00:00",
          "2022-04-09T21:00:00",
          "2022-04-09T22:00:00",
          "2022-04-09T23:00:00",
          "2022-04-10T00:00:00",
          "2022-04-10T01:00:00",
          "2022-04-10T02:00:00",
          "2022-04-10T03:00:00",
          "2022-04-10T04:00:00",
          "2022-04-10T05:00:00",
          "2022-04-10T06:00:00",
          "2022-04-10T07:00:00",
          "2022-04-10T08:00:00",
          "2022-04-10T09:00:00",
          "2022-04-10T10:00:00",
          "2022-04-10T11:00:00",
          "2022-04-10T12:00:00",
          "2022-04-10T13:00:00",
          "2022-04-10T14:00:00",
          "2022-04-10T15:00:00",
          "2022-04-10T16:00:00",
          "2022-04-10T17:00:00",
          "2022-04-10T18:00:00",
          "2022-04-10T19:00:00",
          "2022-04-10T20:00:00",
          "2022-04-10T21:00:00",
          "2022-04-10T22:00:00",
          "2022-04-10T23:00:00",
          "2022-04-11T00:00:00",
          "2022-04-11T01:00:00",
          "2022-04-11T02:00:00",
          "2022-04-11T03:00:00",
          "2022-04-11T04:00:00",
          "2022-04-11T05:00:00",
          "2022-04-11T06:00:00",
          "2022-04-11T07:00:00",
          "2022-04-11T08:00:00",
          "2022-04-11T09:00:00",
          "2022-04-11T10:00:00",
          "2022-04-11T11:00:00",
          "2022-04-11T12:00:00",
          "2022-04-11T13:00:00",
          "2022-04-11T14:00:00",
          "2022-04-11T15:00:00",
          "2022-04-11T16:00:00",
          "2022-04-11T17:00:00",
          "2022-04-11T18:00:00",
          "2022-04-11T19:00:00",
          "2022-04-11T20:00:00",
          "2022-04-11T21:00:00",
          "2022-04-11T22:00:00",
          "2022-04-11T23:00:00",
          "2022-04-12T00:00:00",
          "2022-04-12T01:00:00",
          "2022-04-12T02:00:00",
          "2022-04-12T03:00:00",
          "2022-04-12T04:00:00",
          "2022-04-12T05:00:00",
          "2022-04-12T06:00:00",
          "2022-04-12T07:00:00",
          "2022-04-12T08:00:00",
          "2022-04-12T09:00:00",
          "2022-04-12T10:00:00",
          "2022-04-12T11:00:00",
          "2022-04-12T12:00:00",
          "2022-04-12T13:00:00",
          "2022-04-12T14:00:00",
          "2022-04-12T15:00:00",
          "2022-04-12T16:00:00",
          "2022-04-12T17:00:00",
          "2022-04-12T18:00:00",
          "2022-04-12T19:00:00",
          "2022-04-12T20:00:00",
          "2022-04-12T21:00:00",
          "2022-04-12T22:00:00",
          "2022-04-12T23:00:00",
          "2022-04-13T00:00:00",
          "2022-04-13T01:00:00",
          "2022-04-13T02:00:00",
          "2022-04-13T03:00:00",
          "2022-04-13T04:00:00",
          "2022-04-13T05:00:00",
          "2022-04-13T06:00:00",
          "2022-04-13T07:00:00",
          "2022-04-13T08:00:00",
          "2022-04-13T09:00:00",
          "2022-04-13T10:00:00",
          "2022-04-13T11:00:00",
          "2022-04-13T12:00:00",
          "2022-04-13T13:00:00",
          "2022-04-13T14:00:00",
          "2022-04-13T15:00:00",
          "2022-04-13T16:00:00",
          "2022-04-13T17:00:00",
          "2022-04-13T18:00:00",
          "2022-04-13T19:00:00",
          "2022-04-13T20:00:00",
          "2022-04-13T21:00:00",
          "2022-04-13T22:00:00",
          "2022-04-13T23:00:00",
          "2022-04-14T00:00:00",
          "2022-04-14T01:00:00",
          "2022-04-14T02:00:00",
          "2022-04-14T03:00:00",
          "2022-04-14T04:00:00",
          "2022-04-14T05:00:00",
          "2022-04-14T06:00:00",
          "2022-04-14T07:00:00",
          "2022-04-14T08:00:00",
          "2022-04-14T09:00:00",
          "2022-04-14T10:00:00",
          "2022-04-14T11:00:00",
          "2022-04-14T12:00:00",
          "2022-04-14T13:00:00",
          "2022-04-14T14:00:00",
          "2022-04-14T15:00:00",
          "2022-04-14T16:00:00",
          "2022-04-14T17:00:00",
          "2022-04-14T18:00:00",
          "2022-04-14T19:00:00",
          "2022-04-14T20:00:00",
          "2022-04-14T21:00:00",
          "2022-04-14T22:00:00",
          "2022-04-14T23:00:00",
          "2022-04-15T00:00:00",
          "2022-04-15T01:00:00",
          "2022-04-15T02:00:00",
          "2022-04-15T03:00:00",
          "2022-04-15T04:00:00",
          "2022-04-15T05:00:00",
          "2022-04-15T06:00:00",
          "2022-04-15T07:00:00",
          "2022-04-15T08:00:00",
          "2022-04-15T09:00:00",
          "2022-04-15T10:00:00",
          "2022-04-15T11:00:00",
          "2022-04-15T12:00:00",
          "2022-04-15T13:00:00",
          "2022-04-15T14:00:00",
          "2022-04-15T15:00:00",
          "2022-04-15T16:00:00",
          "2022-04-15T17:00:00",
          "2022-04-15T18:00:00",
          "2022-04-15T19:00:00",
          "2022-04-15T20:00:00",
          "2022-04-15T21:00:00",
          "2022-04-15T22:00:00",
          "2022-04-15T23:00:00",
          "2022-04-16T00:00:00",
          "2022-04-16T01:00:00",
          "2022-04-16T02:00:00",
          "2022-04-16T03:00:00",
          "2022-04-16T04:00:00",
          "2022-04-16T05:00:00",
          "2022-04-16T06:00:00",
          "2022-04-16T07:00:00",
          "2022-04-16T08:00:00",
          "2022-04-16T09:00:00",
          "2022-04-16T10:00:00",
          "2022-04-16T11:00:00",
          "2022-04-16T12:00:00",
          "2022-04-16T13:00:00",
          "2022-04-16T14:00:00",
          "2022-04-16T15:00:00",
          "2022-04-16T16:00:00",
          "2022-04-16T17:00:00",
          "2022-04-16T18:00:00",
          "2022-04-16T19:00:00",
          "2022-04-16T20:00:00",
          "2022-04-16T21:00:00",
          "2022-04-16T22:00:00",
          "2022-04-16T23:00:00",
          "2022-04-17T00:00:00",
          "2022-04-17T01:00:00",
          "2022-04-17T02:00:00",
          "2022-04-17T03:00:00",
          "2022-04-17T04:00:00",
          "2022-04-17T05:00:00",
          "2022-04-17T06:00:00",
          "2022-04-17T07:00:00",
          "2022-04-17T08:00:00",
          "2022-04-17T09:00:00",
          "2022-04-17T10:00:00",
          "2022-04-17T11:00:00",
          "2022-04-17T12:00:00",
          "2022-04-17T13:00:00",
          "2022-04-17T14:00:00",
          "2022-04-17T15:00:00",
          "2022-04-17T16:00:00",
          "2022-04-17T17:00:00",
          "2022-04-17T18:00:00",
          "2022-04-17T19:00:00",
          "2022-04-17T20:00:00",
          "2022-04-17T21:00:00",
          "2022-04-17T22:00:00",
          "2022-04-17T23:00:00",
          "2022-04-18T00:00:00",
          "2022-04-18T01:00:00",
          "2022-04-18T02:00:00",
          "2022-04-18T03:00:00",
          "2022-04-18T04:00:00",
          "2022-04-18T05:00:00",
          "2022-04-18T06:00:00",
          "2022-04-18T07:00:00",
          "2022-04-18T08:00:00",
          "2022-04-18T09:00:00",
          "2022-04-18T10:00:00",
          "2022-04-18T11:00:00",
          "2022-04-18T12:00:00",
          "2022-04-18T13:00:00",
          "2022-04-18T14:00:00",
          "2022-04-18T15:00:00",
          "2022-04-18T16:00:00",
          "2022-04-18T17:00:00",
          "2022-04-18T18:00:00",
          "2022-04-18T19:00:00",
          "2022-04-18T20:00:00",
          "2022-04-18T21:00:00",
          "2022-04-18T22:00:00",
          "2022-04-18T23:00:00",
          "2022-04-19T00:00:00",
          "2022-04-19T01:00:00",
          "2022-04-19T02:00:00",
          "2022-04-19T03:00:00",
          "2022-04-19T04:00:00",
          "2022-04-19T05:00:00",
          "2022-04-19T06:00:00",
          "2022-04-19T07:00:00",
          "2022-04-19T08:00:00",
          "2022-04-19T09:00:00",
          "2022-04-19T10:00:00",
          "2022-04-19T11:00:00",
          "2022-04-19T12:00:00",
          "2022-04-19T13:00:00",
          "2022-04-19T14:00:00",
          "2022-04-19T15:00:00",
          "2022-04-19T16:00:00",
          "2022-04-19T17:00:00",
          "2022-04-19T18:00:00",
          "2022-04-19T19:00:00",
          "2022-04-19T20:00:00",
          "2022-04-19T21:00:00",
          "2022-04-19T22:00:00",
          "2022-04-19T23:00:00",
          "2022-04-20T00:00:00"
         ],
         "y": [
          45005.88,
          45188.86,
          45220.87,
          45215.88,
          45335.34,
          45375,
          45464.26,
          45276.04,
          45366.85,
          45330.2,
          45072.53,
          44819.19,
          44751,
          44165.9,
          44258.99,
          44168.35,
          43781.3,
          43815.28,
          43837.63,
          43754.57,
          43877.45,
          43845.82,
          43511.33,
          43170.47,
          42894.3,
          43374.97,
          43350.91,
          43294.04,
          43395.57,
          43399.99,
          43380.94,
          43445.33,
          43521.92,
          43457.98,
          43409.73,
          43766.74,
          43554.97,
          43659.98,
          43420.69,
          43331.81,
          43494,
          43657.68,
          43702.95,
          43388.92,
          43567.36,
          43520.07,
          43629.73,
          43444.19,
          43327.46,
          43607.61,
          43615.63,
          43605.96,
          43543.02,
          43654.3,
          43573.45,
          43763.52,
          43700.33,
          43588.73,
          43558.51,
          43298.79,
          43151.75,
          42906.67,
          43750.14,
          43648.01,
          43433.71,
          43004.38,
          42957.57,
          42730.84,
          42798.74,
          42563.36,
          42300.99,
          42252.01,
          42435.02,
          42433.4,
          42180,
          42380,
          42406.82,
          42586.04,
          42440,
          42481.09,
          42463.51,
          42443.11,
          42480.56,
          42445.1,
          42506.35,
          42456.86,
          42460,
          42260.77,
          42445.64,
          42575.67,
          42467.82,
          42511.94,
          42423.18,
          42558.06,
          42543.42,
          42753.97,
          42632.32,
          42767.23,
          42833.03,
          42785.72,
          42740.86,
          42656.7,
          42785.32,
          42633.59,
          42642.54,
          42523.95,
          42530,
          42680.36,
          42590,
          42575.53,
          42698.38,
          42747.47,
          42784.43,
          43103.62,
          43107.6,
          43235.77,
          43101.23,
          42706,
          42111.94,
          42158.85,
          42303.26,
          42159.32,
          41929.34,
          42111.22,
          42259.43,
          42287.6,
          42250,
          42305.75,
          42200,
          41416.22,
          41595.99,
          41067.63,
          41145.46,
          41141.13,
          40803.87,
          40581.51,
          40764.79,
          40459.07,
          40509.98,
          39985.33,
          39838.26,
          39395.29,
          39766.39,
          39530.45,
          39544.31,
          39504.54,
          39490,
          39747.13,
          39921.19,
          40105.78,
          39935.23,
          40183.97,
          40182.03,
          40212.26,
          40149.99,
          40378,
          40618.37,
          40401.03,
          39990.39,
          40179.13,
          40097.23,
          40014.72,
          39667.85,
          39303.1,
          39519.99,
          39693.79,
          39827.96,
          40074.94,
          39936.17,
          39882.9,
          40059.14,
          40076.05,
          40134.51,
          40187.9,
          39958.45,
          40130,
          40162.32,
          40079.99,
          39808.11,
          39722.64,
          39700.01,
          40521.75,
          40642.1,
          41158.18,
          41005.58,
          41043.91,
          41363.01,
          41059.3,
          41241.16,
          41219.72,
          41279.05,
          41147.79,
          41186.23,
          41470.01,
          41419.99,
          41320,
          41290.81,
          41308.44,
          41195.39,
          41271.66,
          41172.72,
          41186.69,
          40946.47,
          40919.99,
          41149.98,
          40605.62,
          40435.04,
          39964.02,
          39951.1,
          39986.83,
          39659,
          39775.82,
          39909.99,
          39970,
          39843.71,
          39942.38,
          39859.99,
          39941,
          40017.2,
          40200.94,
          40103.26,
          40132.73,
          40040,
          40239.43,
          40153.97,
          40112.16,
          40268.24,
          40220,
          40149.99,
          40039.87,
          40450,
          40412.2,
          40383.09,
          40436.01,
          40388.11,
          40313.35,
          40396.69,
          40426,
          40467.48,
          40551.9,
          40560,
          40579.99,
          40522.34,
          40434.12,
          40539.47,
          40456.82,
          40419.52,
          40393.77,
          40369.99,
          40328.79,
          40413.91,
          40416.95,
          40449.11,
          40438.15,
          40493.32,
          40062.68,
          40203.33,
          40153,
          40183.9,
          40210,
          40280,
          40485.28,
          40405.86,
          40378.71,
          40374.13,
          40387.43,
          40166.93,
          40230.86,
          40282.58,
          40364.48,
          40323.16,
          40285.15,
          40390.16,
          40419.82,
          40412.88,
          40464.77,
          40421.72,
          40306.56,
          40359.19,
          40445.3,
          40200.01,
          40101.72,
          40119.99,
          40370.46,
          40263.19,
          40208.14,
          40000,
          39678.12,
          39732.92,
          39752.13,
          39796.91,
          39813.17,
          38819.06,
          38922.21,
          38980.39,
          38919.85,
          38874.87,
          38976.39,
          38923.98,
          38998.54,
          39400.02,
          39326.13,
          39340,
          39254.5,
          39464.46,
          40211.03,
          40646.01,
          40680.68,
          40664.26,
          40801.3,
          40923.74,
          40801.13,
          40880.79,
          40750.05,
          40611,
          40693.79,
          40864.27,
          40660.96,
          40711.6,
          40683.14,
          40725.91,
          40665.4,
          40795.62,
          40687.3,
          40975.11,
          41451.52,
          41565.91,
          41445.87,
          41342.26,
          41345.63,
          41400.55,
          41417.24,
          41293.15,
          41313.07,
          41395.39,
          41493.18,
          41295.37
         ]
        },
        {
         "marker": {
          "size": 11
         },
         "mode": "markers",
         "name": "Sampled points",
         "type": "scatter",
         "x": [
          "2022-04-06T00:20:00",
          "2022-04-06T04:56:00",
          "2022-04-06T13:48:00",
          "2022-04-06T17:11:00",
          "2022-04-08T21:53:00",
          "2022-04-10T20:06:00",
          "2022-04-10T22:17:00",
          "2022-04-11T09:59:00",
          "2022-04-11T15:59:00",
          "2022-04-11T20:06:00",
          "2022-04-12T11:33:00",
          "2022-04-12T19:07:00",
          "2022-04-13T13:46:00",
          "2022-04-13T15:23:00",
          "2022-04-14T14:06:00",
          "2022-04-18T04:19:00",
          "2022-04-18T17:09:00",
          "2022-04-18T18:15:00",
          "2022-04-19T14:02:00"
         ],
         "y": [
          44470,
          45366.53,
          44343.84,
          43441.73,
          42510.62,
          43387.99,
          42388,
          41416.22,
          40581.51,
          39588.09,
          40377.55,
          39560.91,
          40403.14,
          41242.26,
          40380.86,
          38945.96,
          39778.65,
          40684.98,
          41524.72
         ]
        }
       ],
       "layout": {
        "legend": {
         "bordercolor": "LightSteelBlue",
         "borderwidth": 1,
         "font": {
          "color": "black",
          "family": "Arial",
          "size": 20
         },
         "orientation": "h",
         "x": 1,
         "xanchor": "right",
         "y": 1.02,
         "yanchor": "bottom"
        },
        "template": {
         "data": {
          "bar": [
           {
            "error_x": {
             "color": "#2a3f5f"
            },
            "error_y": {
             "color": "#2a3f5f"
            },
            "marker": {
             "line": {
              "color": "white",
              "width": 0.5
             },
             "pattern": {
              "fillmode": "overlay",
              "size": 10,
              "solidity": 0.2
             }
            },
            "type": "bar"
           }
          ],
          "barpolar": [
           {
            "marker": {
             "line": {
              "color": "white",
              "width": 0.5
             },
             "pattern": {
              "fillmode": "overlay",
              "size": 10,
              "solidity": 0.2
             }
            },
            "type": "barpolar"
           }
          ],
          "carpet": [
           {
            "aaxis": {
             "endlinecolor": "#2a3f5f",
             "gridcolor": "#C8D4E3",
             "linecolor": "#C8D4E3",
             "minorgridcolor": "#C8D4E3",
             "startlinecolor": "#2a3f5f"
            },
            "baxis": {
             "endlinecolor": "#2a3f5f",
             "gridcolor": "#C8D4E3",
             "linecolor": "#C8D4E3",
             "minorgridcolor": "#C8D4E3",
             "startlinecolor": "#2a3f5f"
            },
            "type": "carpet"
           }
          ],
          "choropleth": [
           {
            "colorbar": {
             "outlinewidth": 0,
             "ticks": ""
            },
            "type": "choropleth"
           }
          ],
          "contour": [
           {
            "colorbar": {
             "outlinewidth": 0,
             "ticks": ""
            },
            "colorscale": [
             [
              0,
              "#0d0887"
             ],
             [
              0.1111111111111111,
              "#46039f"
             ],
             [
              0.2222222222222222,
              "#7201a8"
             ],
             [
              0.3333333333333333,
              "#9c179e"
             ],
             [
              0.4444444444444444,
              "#bd3786"
             ],
             [
              0.5555555555555556,
              "#d8576b"
             ],
             [
              0.6666666666666666,
              "#ed7953"
             ],
             [
              0.7777777777777778,
              "#fb9f3a"
             ],
             [
              0.8888888888888888,
              "#fdca26"
             ],
             [
              1,
              "#f0f921"
             ]
            ],
            "type": "contour"
           }
          ],
          "contourcarpet": [
           {
            "colorbar": {
             "outlinewidth": 0,
             "ticks": ""
            },
            "type": "contourcarpet"
           }
          ],
          "heatmap": [
           {
            "colorbar": {
             "outlinewidth": 0,
             "ticks": ""
            },
            "colorscale": [
             [
              0,
              "#0d0887"
             ],
             [
              0.1111111111111111,
              "#46039f"
             ],
             [
              0.2222222222222222,
              "#7201a8"
             ],
             [
              0.3333333333333333,
              "#9c179e"
             ],
             [
              0.4444444444444444,
              "#bd3786"
             ],
             [
              0.5555555555555556,
              "#d8576b"
             ],
             [
              0.6666666666666666,
              "#ed7953"
             ],
             [
              0.7777777777777778,
              "#fb9f3a"
             ],
             [
              0.8888888888888888,
              "#fdca26"
             ],
             [
              1,
              "#f0f921"
             ]
            ],
            "type": "heatmap"
           }
          ],
          "heatmapgl": [
           {
            "colorbar": {
             "outlinewidth": 0,
             "ticks": ""
            },
            "colorscale": [
             [
              0,
              "#0d0887"
             ],
             [
              0.1111111111111111,
              "#46039f"
             ],
             [
              0.2222222222222222,
              "#7201a8"
             ],
             [
              0.3333333333333333,
              "#9c179e"
             ],
             [
              0.4444444444444444,
              "#bd3786"
             ],
             [
              0.5555555555555556,
              "#d8576b"
             ],
             [
              0.6666666666666666,
              "#ed7953"
             ],
             [
              0.7777777777777778,
              "#fb9f3a"
             ],
             [
              0.8888888888888888,
              "#fdca26"
             ],
             [
              1,
              "#f0f921"
             ]
            ],
            "type": "heatmapgl"
           }
          ],
          "histogram": [
           {
            "marker": {
             "pattern": {
              "fillmode": "overlay",
              "size": 10,
              "solidity": 0.2
             }
            },
            "type": "histogram"
           }
          ],
          "histogram2d": [
           {
            "colorbar": {
             "outlinewidth": 0,
             "ticks": ""
            },
            "colorscale": [
             [
              0,
              "#0d0887"
             ],
             [
              0.1111111111111111,
              "#46039f"
             ],
             [
              0.2222222222222222,
              "#7201a8"
             ],
             [
              0.3333333333333333,
              "#9c179e"
             ],
             [
              0.4444444444444444,
              "#bd3786"
             ],
             [
              0.5555555555555556,
              "#d8576b"
             ],
             [
              0.6666666666666666,
              "#ed7953"
             ],
             [
              0.7777777777777778,
              "#fb9f3a"
             ],
             [
              0.8888888888888888,
              "#fdca26"
             ],
             [
              1,
              "#f0f921"
             ]
            ],
            "type": "histogram2d"
           }
          ],
          "histogram2dcontour": [
           {
            "colorbar": {
             "outlinewidth": 0,
             "ticks": ""
            },
            "colorscale": [
             [
              0,
              "#0d0887"
             ],
             [
              0.1111111111111111,
              "#46039f"
             ],
             [
              0.2222222222222222,
              "#7201a8"
             ],
             [
              0.3333333333333333,
              "#9c179e"
             ],
             [
              0.4444444444444444,
              "#bd3786"
             ],
             [
              0.5555555555555556,
              "#d8576b"
             ],
             [
              0.6666666666666666,
              "#ed7953"
             ],
             [
              0.7777777777777778,
              "#fb9f3a"
             ],
             [
              0.8888888888888888,
              "#fdca26"
             ],
             [
              1,
              "#f0f921"
             ]
            ],
            "type": "histogram2dcontour"
           }
          ],
          "mesh3d": [
           {
            "colorbar": {
             "outlinewidth": 0,
             "ticks": ""
            },
            "type": "mesh3d"
           }
          ],
          "parcoords": [
           {
            "line": {
             "colorbar": {
              "outlinewidth": 0,
              "ticks": ""
             }
            },
            "type": "parcoords"
           }
          ],
          "pie": [
           {
            "automargin": true,
            "type": "pie"
           }
          ],
          "scatter": [
           {
            "fillpattern": {
             "fillmode": "overlay",
             "size": 10,
             "solidity": 0.2
            },
            "type": "scatter"
           }
          ],
          "scatter3d": [
           {
            "line": {
             "colorbar": {
              "outlinewidth": 0,
              "ticks": ""
             }
            },
            "marker": {
             "colorbar": {
              "outlinewidth": 0,
              "ticks": ""
             }
            },
            "type": "scatter3d"
           }
          ],
          "scattercarpet": [
           {
            "marker": {
             "colorbar": {
              "outlinewidth": 0,
              "ticks": ""
             }
            },
            "type": "scattercarpet"
           }
          ],
          "scattergeo": [
           {
            "marker": {
             "colorbar": {
              "outlinewidth": 0,
              "ticks": ""
             }
            },
            "type": "scattergeo"
           }
          ],
          "scattergl": [
           {
            "marker": {
             "colorbar": {
              "outlinewidth": 0,
              "ticks": ""
             }
            },
            "type": "scattergl"
           }
          ],
          "scattermapbox": [
           {
            "marker": {
             "colorbar": {
              "outlinewidth": 0,
              "ticks": ""
             }
            },
            "type": "scattermapbox"
           }
          ],
          "scatterpolar": [
           {
            "marker": {
             "colorbar": {
              "outlinewidth": 0,
              "ticks": ""
             }
            },
            "type": "scatterpolar"
           }
          ],
          "scatterpolargl": [
           {
            "marker": {
             "colorbar": {
              "outlinewidth": 0,
              "ticks": ""
             }
            },
            "type": "scatterpolargl"
           }
          ],
          "scatterternary": [
           {
            "marker": {
             "colorbar": {
              "outlinewidth": 0,
              "ticks": ""
             }
            },
            "type": "scatterternary"
           }
          ],
          "surface": [
           {
            "colorbar": {
             "outlinewidth": 0,
             "ticks": ""
            },
            "colorscale": [
             [
              0,
              "#0d0887"
             ],
             [
              0.1111111111111111,
              "#46039f"
             ],
             [
              0.2222222222222222,
              "#7201a8"
             ],
             [
              0.3333333333333333,
              "#9c179e"
             ],
             [
              0.4444444444444444,
              "#bd3786"
             ],
             [
              0.5555555555555556,
              "#d8576b"
             ],
             [
              0.6666666666666666,
              "#ed7953"
             ],
             [
              0.7777777777777778,
              "#fb9f3a"
             ],
             [
              0.8888888888888888,
              "#fdca26"
             ],
             [
              1,
              "#f0f921"
             ]
            ],
            "type": "surface"
           }
          ],
          "table": [
           {
            "cells": {
             "fill": {
              "color": "#EBF0F8"
             },
             "line": {
              "color": "white"
             }
            },
            "header": {
             "fill": {
              "color": "#C8D4E3"
             },
             "line": {
              "color": "white"
             }
            },
            "type": "table"
           }
          ]
         },
         "layout": {
          "annotationdefaults": {
           "arrowcolor": "#2a3f5f",
           "arrowhead": 0,
           "arrowwidth": 1
          },
          "autotypenumbers": "strict",
          "coloraxis": {
           "colorbar": {
            "outlinewidth": 0,
            "ticks": ""
           }
          },
          "colorscale": {
           "diverging": [
            [
             0,
             "#8e0152"
            ],
            [
             0.1,
             "#c51b7d"
            ],
            [
             0.2,
             "#de77ae"
            ],
            [
             0.3,
             "#f1b6da"
            ],
            [
             0.4,
             "#fde0ef"
            ],
            [
             0.5,
             "#f7f7f7"
            ],
            [
             0.6,
             "#e6f5d0"
            ],
            [
             0.7,
             "#b8e186"
            ],
            [
             0.8,
             "#7fbc41"
            ],
            [
             0.9,
             "#4d9221"
            ],
            [
             1,
             "#276419"
            ]
           ],
           "sequential": [
            [
             0,
             "#0d0887"
            ],
            [
             0.1111111111111111,
             "#46039f"
            ],
            [
             0.2222222222222222,
             "#7201a8"
            ],
            [
             0.3333333333333333,
             "#9c179e"
            ],
            [
             0.4444444444444444,
             "#bd3786"
            ],
            [
             0.5555555555555556,
             "#d8576b"
            ],
            [
             0.6666666666666666,
             "#ed7953"
            ],
            [
             0.7777777777777778,
             "#fb9f3a"
            ],
            [
             0.8888888888888888,
             "#fdca26"
            ],
            [
             1,
             "#f0f921"
            ]
           ],
           "sequentialminus": [
            [
             0,
             "#0d0887"
            ],
            [
             0.1111111111111111,
             "#46039f"
            ],
            [
             0.2222222222222222,
             "#7201a8"
            ],
            [
             0.3333333333333333,
             "#9c179e"
            ],
            [
             0.4444444444444444,
             "#bd3786"
            ],
            [
             0.5555555555555556,
             "#d8576b"
            ],
            [
             0.6666666666666666,
             "#ed7953"
            ],
            [
             0.7777777777777778,
             "#fb9f3a"
            ],
            [
             0.8888888888888888,
             "#fdca26"
            ],
            [
             1,
             "#f0f921"
            ]
           ]
          },
          "colorway": [
           "#636efa",
           "#EF553B",
           "#00cc96",
           "#ab63fa",
           "#FFA15A",
           "#19d3f3",
           "#FF6692",
           "#B6E880",
           "#FF97FF",
           "#FECB52"
          ],
          "font": {
           "color": "#2a3f5f"
          },
          "geo": {
           "bgcolor": "white",
           "lakecolor": "white",
           "landcolor": "white",
           "showlakes": true,
           "showland": true,
           "subunitcolor": "#C8D4E3"
          },
          "hoverlabel": {
           "align": "left"
          },
          "hovermode": "closest",
          "mapbox": {
           "style": "light"
          },
          "paper_bgcolor": "white",
          "plot_bgcolor": "white",
          "polar": {
           "angularaxis": {
            "gridcolor": "#EBF0F8",
            "linecolor": "#EBF0F8",
            "ticks": ""
           },
           "bgcolor": "white",
           "radialaxis": {
            "gridcolor": "#EBF0F8",
            "linecolor": "#EBF0F8",
            "ticks": ""
           }
          },
          "scene": {
           "xaxis": {
            "backgroundcolor": "white",
            "gridcolor": "#DFE8F3",
            "gridwidth": 2,
            "linecolor": "#EBF0F8",
            "showbackground": true,
            "ticks": "",
            "zerolinecolor": "#EBF0F8"
           },
           "yaxis": {
            "backgroundcolor": "white",
            "gridcolor": "#DFE8F3",
            "gridwidth": 2,
            "linecolor": "#EBF0F8",
            "showbackground": true,
            "ticks": "",
            "zerolinecolor": "#EBF0F8"
           },
           "zaxis": {
            "backgroundcolor": "white",
            "gridcolor": "#DFE8F3",
            "gridwidth": 2,
            "linecolor": "#EBF0F8",
            "showbackground": true,
            "ticks": "",
            "zerolinecolor": "#EBF0F8"
           }
          },
          "shapedefaults": {
           "line": {
            "color": "#2a3f5f"
           }
          },
          "ternary": {
           "aaxis": {
            "gridcolor": "#DFE8F3",
            "linecolor": "#A2B1C6",
            "ticks": ""
           },
           "baxis": {
            "gridcolor": "#DFE8F3",
            "linecolor": "#A2B1C6",
            "ticks": ""
           },
           "bgcolor": "white",
           "caxis": {
            "gridcolor": "#DFE8F3",
            "linecolor": "#A2B1C6",
            "ticks": ""
           }
          },
          "title": {
           "x": 0.05
          },
          "xaxis": {
           "automargin": true,
           "gridcolor": "#EBF0F8",
           "linecolor": "#EBF0F8",
           "ticks": "",
           "title": {
            "standoff": 15
           },
           "zerolinecolor": "#EBF0F8",
           "zerolinewidth": 2
          },
          "yaxis": {
           "automargin": true,
           "gridcolor": "#EBF0F8",
           "linecolor": "#EBF0F8",
           "ticks": "",
           "title": {
            "standoff": 15
           },
           "zerolinecolor": "#EBF0F8",
           "zerolinewidth": 2
          }
         }
        },
        "xaxis": {
         "rangeslider": {
          "visible": false
         },
         "tickfont": {
          "color": "black",
          "family": "Arial",
          "size": 21
         },
         "title": {
          "font": {
           "family": "Arial",
           "size": 22
          }
         }
        },
        "yaxis": {
         "tickfont": {
          "color": "black",
          "family": "Arial",
          "size": 21
         },
         "title": {
          "font": {
           "family": "Arial",
           "size": 22
          }
         }
        }
       }
      }
     },
     "metadata": {},
     "output_type": "display_data"
    }
   ],
   "source": [
    "fig = go.Figure([go.Scatter(x=btc_60_min_subset['datetime'], y=btc_60_min_subset['close'], name=\"1h close price\",\n",
    "                              line=dict(width=7,\n",
    "                                        color='cornflowerblue'))\n",
    "                 ])\n",
    "fig.add_trace(go.Scatter(mode=\"markers\", x=btc_range_subset[\"datetime\"], y=btc_range_subset[\"close\"], name=\"Sampled points\",\n",
    "                         marker=dict(size=11)\n",
    "                         ))\n",
    "fig.update_layout(xaxis_rangeslider_visible=False, \n",
    "                  template='plotly_white', \n",
    "                  legend=dict(\n",
    "\n",
    "                                orientation=\"h\",\n",
    "                                yanchor=\"bottom\",\n",
    "                                y=1.02,\n",
    "                                xanchor=\"right\",\n",
    "                                x=1,\n",
    "                                bordercolor=\"LightSteelBlue\",\n",
    "                                borderwidth=1,\n",
    "                                 font=dict(\n",
    "                                        family=\"Arial\",\n",
    "                                        size=20,\n",
    "                                        color=\"black\"\n",
    "                                    )\n",
    "                                )\n",
    "                )\n",
    "\n",
    "fig.update_xaxes(\n",
    "                 # ticks=\"outside\",\n",
    "                 #tickwidth=2,\n",
    "                 #tickcolor='black',\n",
    "                 tickfont=dict(family='Arial', color='black', size=21),\n",
    "                 title_font=dict(size=22, family='Arial'),\n",
    "                )\n",
    "fig.update_yaxes(\n",
    "                 # ticks=\"outside\",\n",
    "                 # tickwidth=2,\n",
    "                 # tickcolor='black',\n",
    "                 tickfont=dict(family='Arial', color='black', size=21),\n",
    "                 title_font=dict(size=22, family='Arial'),\n",
    "                )\n",
    "\n",
    "# fig.write_image(\"btc_cumsum.png\", scale=2)\n",
    "pio.write_image(fig, 'btc_range.png',scale=3, width=1600, height=800)\n",
    "fig.show()"
   ]
  },
  {
   "cell_type": "code",
   "execution_count": 69,
   "metadata": {},
   "outputs": [],
   "source": [
    "btc_1_min['minute'] = btc_1_min['datetime'].dt.minute"
   ]
  },
  {
   "cell_type": "code",
   "execution_count": 71,
   "metadata": {},
   "outputs": [],
   "source": [
    "btc_1_min['5_min_bucket'] = btc_1_min['minute'].apply(lambda x: x // 5)"
   ]
  },
  {
   "cell_type": "code",
   "execution_count": 94,
   "metadata": {},
   "outputs": [],
   "source": [
    "def bucket_to_5_min(df):\n",
    "    if df['minute'] < 5:\n",
    "        return '0-4'\n",
    "    elif df['minute'] < 10:\n",
    "        return '5-9'\n",
    "    elif df['minute'] < 15:\n",
    "        return '10-14'\n",
    "    elif df['minute'] < 20:\n",
    "        return '15- 19'\n",
    "    elif df['minute'] < 25:\n",
    "        return '20-24'\n",
    "    elif df['minute'] < 30:\n",
    "        return '25-29'\n",
    "    elif df['minute'] < 35:\n",
    "        return '30-34'\n",
    "    elif df['minute'] < 40:\n",
    "        return '35-39'\n",
    "    elif df['minute'] < 45:\n",
    "        return '40-44'\n",
    "    elif df['minute'] < 50:\n",
    "        return '45-49'\n",
    "    elif df['minute'] < 55:\n",
    "        return '50-54'\n",
    "    else:\n",
    "        return '55-59'"
   ]
  },
  {
   "cell_type": "code",
   "execution_count": null,
   "metadata": {},
   "outputs": [],
   "source": []
  },
  {
   "cell_type": "code",
   "execution_count": 76,
   "metadata": {},
   "outputs": [],
   "source": [
    "btc_1_min['5_min_bucket'] = btc_1_min.apply(bucket_to_5_min, axis=1)"
   ]
  },
  {
   "cell_type": "code",
   "execution_count": 87,
   "metadata": {},
   "outputs": [],
   "source": [
    "btc_1_min.set_index('datetime', inplace=True)"
   ]
  },
  {
   "cell_type": "code",
   "execution_count": 88,
   "metadata": {},
   "outputs": [],
   "source": [
    "btc_5_vol =  btc_1_min['volume'].resample('5min').agg({'volume':'sum'})"
   ]
  },
  {
   "cell_type": "code",
   "execution_count": 90,
   "metadata": {},
   "outputs": [],
   "source": [
    "btc_5_vol.reset_index(inplace=True)"
   ]
  },
  {
   "cell_type": "code",
   "execution_count": 92,
   "metadata": {},
   "outputs": [],
   "source": [
    "btc_5_vol['minute'] = btc_5_vol['datetime'].dt.minute"
   ]
  },
  {
   "cell_type": "code",
   "execution_count": 95,
   "metadata": {},
   "outputs": [],
   "source": [
    "btc_5_vol['5_min_bucket'] = btc_5_vol.apply(bucket_to_5_min, axis=1)"
   ]
  },
  {
   "cell_type": "code",
   "execution_count": 97,
   "metadata": {},
   "outputs": [
    {
     "data": {
      "text/html": [
       "<div>\n",
       "<style scoped>\n",
       "    .dataframe tbody tr th:only-of-type {\n",
       "        vertical-align: middle;\n",
       "    }\n",
       "\n",
       "    .dataframe tbody tr th {\n",
       "        vertical-align: top;\n",
       "    }\n",
       "\n",
       "    .dataframe thead th {\n",
       "        text-align: right;\n",
       "    }\n",
       "</style>\n",
       "<table border=\"1\" class=\"dataframe\">\n",
       "  <thead>\n",
       "    <tr style=\"text-align: right;\">\n",
       "      <th></th>\n",
       "      <th>datetime</th>\n",
       "      <th>volume</th>\n",
       "      <th>minute</th>\n",
       "      <th>5_min_bucket</th>\n",
       "    </tr>\n",
       "  </thead>\n",
       "  <tbody>\n",
       "    <tr>\n",
       "      <th>0</th>\n",
       "      <td>2018-01-01 00:00:00</td>\n",
       "      <td>33.617798</td>\n",
       "      <td>0</td>\n",
       "      <td>0-4</td>\n",
       "    </tr>\n",
       "    <tr>\n",
       "      <th>1</th>\n",
       "      <td>2018-01-01 00:05:00</td>\n",
       "      <td>40.528679</td>\n",
       "      <td>5</td>\n",
       "      <td>5-9</td>\n",
       "    </tr>\n",
       "    <tr>\n",
       "      <th>2</th>\n",
       "      <td>2018-01-01 00:10:00</td>\n",
       "      <td>49.469536</td>\n",
       "      <td>10</td>\n",
       "      <td>10-14</td>\n",
       "    </tr>\n",
       "    <tr>\n",
       "      <th>3</th>\n",
       "      <td>2018-01-01 00:15:00</td>\n",
       "      <td>32.725614</td>\n",
       "      <td>15</td>\n",
       "      <td>15- 19</td>\n",
       "    </tr>\n",
       "    <tr>\n",
       "      <th>4</th>\n",
       "      <td>2018-01-01 00:20:00</td>\n",
       "      <td>26.614135</td>\n",
       "      <td>20</td>\n",
       "      <td>20-24</td>\n",
       "    </tr>\n",
       "    <tr>\n",
       "      <th>...</th>\n",
       "      <td>...</td>\n",
       "      <td>...</td>\n",
       "      <td>...</td>\n",
       "      <td>...</td>\n",
       "    </tr>\n",
       "    <tr>\n",
       "      <th>578011</th>\n",
       "      <td>2023-06-30 23:35:00</td>\n",
       "      <td>101.136210</td>\n",
       "      <td>35</td>\n",
       "      <td>35-39</td>\n",
       "    </tr>\n",
       "    <tr>\n",
       "      <th>578012</th>\n",
       "      <td>2023-06-30 23:40:00</td>\n",
       "      <td>88.521000</td>\n",
       "      <td>40</td>\n",
       "      <td>40-44</td>\n",
       "    </tr>\n",
       "    <tr>\n",
       "      <th>578013</th>\n",
       "      <td>2023-06-30 23:45:00</td>\n",
       "      <td>74.937380</td>\n",
       "      <td>45</td>\n",
       "      <td>45-49</td>\n",
       "    </tr>\n",
       "    <tr>\n",
       "      <th>578014</th>\n",
       "      <td>2023-06-30 23:50:00</td>\n",
       "      <td>47.192300</td>\n",
       "      <td>50</td>\n",
       "      <td>50-54</td>\n",
       "    </tr>\n",
       "    <tr>\n",
       "      <th>578015</th>\n",
       "      <td>2023-06-30 23:55:00</td>\n",
       "      <td>43.626240</td>\n",
       "      <td>55</td>\n",
       "      <td>55-59</td>\n",
       "    </tr>\n",
       "  </tbody>\n",
       "</table>\n",
       "<p>578016 rows × 4 columns</p>\n",
       "</div>"
      ],
      "text/plain": [
       "                  datetime      volume  minute 5_min_bucket\n",
       "0      2018-01-01 00:00:00   33.617798       0          0-4\n",
       "1      2018-01-01 00:05:00   40.528679       5          5-9\n",
       "2      2018-01-01 00:10:00   49.469536      10        10-14\n",
       "3      2018-01-01 00:15:00   32.725614      15       15- 19\n",
       "4      2018-01-01 00:20:00   26.614135      20        20-24\n",
       "...                    ...         ...     ...          ...\n",
       "578011 2023-06-30 23:35:00  101.136210      35        35-39\n",
       "578012 2023-06-30 23:40:00   88.521000      40        40-44\n",
       "578013 2023-06-30 23:45:00   74.937380      45        45-49\n",
       "578014 2023-06-30 23:50:00   47.192300      50        50-54\n",
       "578015 2023-06-30 23:55:00   43.626240      55        55-59\n",
       "\n",
       "[578016 rows x 4 columns]"
      ]
     },
     "execution_count": 97,
     "metadata": {},
     "output_type": "execute_result"
    }
   ],
   "source": [
    "btc_5_vol"
   ]
  },
  {
   "cell_type": "code",
   "execution_count": 98,
   "metadata": {},
   "outputs": [
    {
     "data": {
      "text/html": [
       "<div>\n",
       "<style scoped>\n",
       "    .dataframe tbody tr th:only-of-type {\n",
       "        vertical-align: middle;\n",
       "    }\n",
       "\n",
       "    .dataframe tbody tr th {\n",
       "        vertical-align: top;\n",
       "    }\n",
       "\n",
       "    .dataframe thead th {\n",
       "        text-align: right;\n",
       "    }\n",
       "</style>\n",
       "<table border=\"1\" class=\"dataframe\">\n",
       "  <thead>\n",
       "    <tr style=\"text-align: right;\">\n",
       "      <th></th>\n",
       "      <th>open</th>\n",
       "      <th>high</th>\n",
       "      <th>low</th>\n",
       "      <th>close</th>\n",
       "      <th>volume</th>\n",
       "      <th>minute</th>\n",
       "      <th>5_min_bucket</th>\n",
       "    </tr>\n",
       "    <tr>\n",
       "      <th>datetime</th>\n",
       "      <th></th>\n",
       "      <th></th>\n",
       "      <th></th>\n",
       "      <th></th>\n",
       "      <th></th>\n",
       "      <th></th>\n",
       "      <th></th>\n",
       "    </tr>\n",
       "  </thead>\n",
       "  <tbody>\n",
       "    <tr>\n",
       "      <th>2018-01-01 00:00:00</th>\n",
       "      <td>13715.65</td>\n",
       "      <td>13715.65</td>\n",
       "      <td>13681.00</td>\n",
       "      <td>13707.92</td>\n",
       "      <td>2.844266</td>\n",
       "      <td>0</td>\n",
       "      <td>0-5</td>\n",
       "    </tr>\n",
       "    <tr>\n",
       "      <th>2018-01-01 00:01:00</th>\n",
       "      <td>13707.91</td>\n",
       "      <td>13707.91</td>\n",
       "      <td>13666.11</td>\n",
       "      <td>13694.92</td>\n",
       "      <td>2.113138</td>\n",
       "      <td>1</td>\n",
       "      <td>0-5</td>\n",
       "    </tr>\n",
       "    <tr>\n",
       "      <th>2018-01-01 00:02:00</th>\n",
       "      <td>13682.00</td>\n",
       "      <td>13694.94</td>\n",
       "      <td>13680.00</td>\n",
       "      <td>13680.00</td>\n",
       "      <td>1.346411</td>\n",
       "      <td>2</td>\n",
       "      <td>0-5</td>\n",
       "    </tr>\n",
       "    <tr>\n",
       "      <th>2018-01-01 00:03:00</th>\n",
       "      <td>13679.98</td>\n",
       "      <td>13679.98</td>\n",
       "      <td>13601.00</td>\n",
       "      <td>13645.99</td>\n",
       "      <td>11.589417</td>\n",
       "      <td>3</td>\n",
       "      <td>0-5</td>\n",
       "    </tr>\n",
       "    <tr>\n",
       "      <th>2018-01-01 00:04:00</th>\n",
       "      <td>13645.98</td>\n",
       "      <td>13646.00</td>\n",
       "      <td>13576.28</td>\n",
       "      <td>13600.00</td>\n",
       "      <td>15.724566</td>\n",
       "      <td>4</td>\n",
       "      <td>0-5</td>\n",
       "    </tr>\n",
       "    <tr>\n",
       "      <th>...</th>\n",
       "      <td>...</td>\n",
       "      <td>...</td>\n",
       "      <td>...</td>\n",
       "      <td>...</td>\n",
       "      <td>...</td>\n",
       "      <td>...</td>\n",
       "      <td>...</td>\n",
       "    </tr>\n",
       "    <tr>\n",
       "      <th>2023-06-30 23:54:00</th>\n",
       "      <td>30492.00</td>\n",
       "      <td>30492.01</td>\n",
       "      <td>30491.23</td>\n",
       "      <td>30491.23</td>\n",
       "      <td>5.239710</td>\n",
       "      <td>54</td>\n",
       "      <td>50-55</td>\n",
       "    </tr>\n",
       "    <tr>\n",
       "      <th>2023-06-30 23:55:00</th>\n",
       "      <td>30491.24</td>\n",
       "      <td>30491.24</td>\n",
       "      <td>30478.93</td>\n",
       "      <td>30481.97</td>\n",
       "      <td>6.508940</td>\n",
       "      <td>55</td>\n",
       "      <td>55-60</td>\n",
       "    </tr>\n",
       "    <tr>\n",
       "      <th>2023-06-30 23:56:00</th>\n",
       "      <td>30481.97</td>\n",
       "      <td>30481.99</td>\n",
       "      <td>30471.29</td>\n",
       "      <td>30471.30</td>\n",
       "      <td>9.348110</td>\n",
       "      <td>56</td>\n",
       "      <td>55-60</td>\n",
       "    </tr>\n",
       "    <tr>\n",
       "      <th>2023-06-30 23:57:00</th>\n",
       "      <td>30471.30</td>\n",
       "      <td>30476.00</td>\n",
       "      <td>30470.50</td>\n",
       "      <td>30476.00</td>\n",
       "      <td>6.197940</td>\n",
       "      <td>57</td>\n",
       "      <td>55-60</td>\n",
       "    </tr>\n",
       "    <tr>\n",
       "      <th>2023-06-30 23:58:00</th>\n",
       "      <td>30475.99</td>\n",
       "      <td>30476.00</td>\n",
       "      <td>30468.00</td>\n",
       "      <td>30469.50</td>\n",
       "      <td>21.571250</td>\n",
       "      <td>58</td>\n",
       "      <td>55-60</td>\n",
       "    </tr>\n",
       "  </tbody>\n",
       "</table>\n",
       "<p>2890079 rows × 7 columns</p>\n",
       "</div>"
      ],
      "text/plain": [
       "                         open      high       low     close     volume  \\\n",
       "datetime                                                                 \n",
       "2018-01-01 00:00:00  13715.65  13715.65  13681.00  13707.92   2.844266   \n",
       "2018-01-01 00:01:00  13707.91  13707.91  13666.11  13694.92   2.113138   \n",
       "2018-01-01 00:02:00  13682.00  13694.94  13680.00  13680.00   1.346411   \n",
       "2018-01-01 00:03:00  13679.98  13679.98  13601.00  13645.99  11.589417   \n",
       "2018-01-01 00:04:00  13645.98  13646.00  13576.28  13600.00  15.724566   \n",
       "...                       ...       ...       ...       ...        ...   \n",
       "2023-06-30 23:54:00  30492.00  30492.01  30491.23  30491.23   5.239710   \n",
       "2023-06-30 23:55:00  30491.24  30491.24  30478.93  30481.97   6.508940   \n",
       "2023-06-30 23:56:00  30481.97  30481.99  30471.29  30471.30   9.348110   \n",
       "2023-06-30 23:57:00  30471.30  30476.00  30470.50  30476.00   6.197940   \n",
       "2023-06-30 23:58:00  30475.99  30476.00  30468.00  30469.50  21.571250   \n",
       "\n",
       "                     minute 5_min_bucket  \n",
       "datetime                                  \n",
       "2018-01-01 00:00:00       0          0-5  \n",
       "2018-01-01 00:01:00       1          0-5  \n",
       "2018-01-01 00:02:00       2          0-5  \n",
       "2018-01-01 00:03:00       3          0-5  \n",
       "2018-01-01 00:04:00       4          0-5  \n",
       "...                     ...          ...  \n",
       "2023-06-30 23:54:00      54        50-55  \n",
       "2023-06-30 23:55:00      55        55-60  \n",
       "2023-06-30 23:56:00      56        55-60  \n",
       "2023-06-30 23:57:00      57        55-60  \n",
       "2023-06-30 23:58:00      58        55-60  \n",
       "\n",
       "[2890079 rows x 7 columns]"
      ]
     },
     "execution_count": 98,
     "metadata": {},
     "output_type": "execute_result"
    }
   ],
   "source": [
    "btc_1_min"
   ]
  },
  {
   "cell_type": "code",
   "execution_count": 99,
   "metadata": {},
   "outputs": [
    {
     "data": {
      "text/plain": [
       "33.61779799999999"
      ]
     },
     "execution_count": 99,
     "metadata": {},
     "output_type": "execute_result"
    }
   ],
   "source": [
    "2.844266+2.113138+1.346411+11.589417+15.724566"
   ]
  },
  {
   "cell_type": "code",
   "execution_count": 100,
   "metadata": {},
   "outputs": [],
   "source": [
    "groupby_5_min =  btc_1_min.groupby('5_min_bucket')['volume'].mean().reset_index()"
   ]
  },
  {
   "cell_type": "code",
   "execution_count": 101,
   "metadata": {},
   "outputs": [
    {
     "data": {
      "text/html": [
       "<div>\n",
       "<style scoped>\n",
       "    .dataframe tbody tr th:only-of-type {\n",
       "        vertical-align: middle;\n",
       "    }\n",
       "\n",
       "    .dataframe tbody tr th {\n",
       "        vertical-align: top;\n",
       "    }\n",
       "\n",
       "    .dataframe thead th {\n",
       "        text-align: right;\n",
       "    }\n",
       "</style>\n",
       "<table border=\"1\" class=\"dataframe\">\n",
       "  <thead>\n",
       "    <tr style=\"text-align: right;\">\n",
       "      <th></th>\n",
       "      <th>5_min_bucket</th>\n",
       "      <th>volume</th>\n",
       "    </tr>\n",
       "  </thead>\n",
       "  <tbody>\n",
       "    <tr>\n",
       "      <th>0</th>\n",
       "      <td>0-5</td>\n",
       "      <td>65.155992</td>\n",
       "    </tr>\n",
       "    <tr>\n",
       "      <th>1</th>\n",
       "      <td>10-15</td>\n",
       "      <td>56.148518</td>\n",
       "    </tr>\n",
       "    <tr>\n",
       "      <th>2</th>\n",
       "      <td>15-20</td>\n",
       "      <td>57.854900</td>\n",
       "    </tr>\n",
       "    <tr>\n",
       "      <th>3</th>\n",
       "      <td>20-25</td>\n",
       "      <td>55.324464</td>\n",
       "    </tr>\n",
       "    <tr>\n",
       "      <th>4</th>\n",
       "      <td>25-30</td>\n",
       "      <td>53.904543</td>\n",
       "    </tr>\n",
       "    <tr>\n",
       "      <th>5</th>\n",
       "      <td>30-35</td>\n",
       "      <td>59.727305</td>\n",
       "    </tr>\n",
       "    <tr>\n",
       "      <th>6</th>\n",
       "      <td>35-40</td>\n",
       "      <td>55.905770</td>\n",
       "    </tr>\n",
       "    <tr>\n",
       "      <th>7</th>\n",
       "      <td>40-45</td>\n",
       "      <td>54.420316</td>\n",
       "    </tr>\n",
       "    <tr>\n",
       "      <th>8</th>\n",
       "      <td>45-50</td>\n",
       "      <td>56.066028</td>\n",
       "    </tr>\n",
       "    <tr>\n",
       "      <th>9</th>\n",
       "      <td>5-10</td>\n",
       "      <td>58.578042</td>\n",
       "    </tr>\n",
       "    <tr>\n",
       "      <th>10</th>\n",
       "      <td>50-55</td>\n",
       "      <td>53.873971</td>\n",
       "    </tr>\n",
       "    <tr>\n",
       "      <th>11</th>\n",
       "      <td>55-60</td>\n",
       "      <td>53.141053</td>\n",
       "    </tr>\n",
       "  </tbody>\n",
       "</table>\n",
       "</div>"
      ],
      "text/plain": [
       "   5_min_bucket     volume\n",
       "0           0-5  65.155992\n",
       "1         10-15  56.148518\n",
       "2         15-20  57.854900\n",
       "3         20-25  55.324464\n",
       "4         25-30  53.904543\n",
       "5         30-35  59.727305\n",
       "6         35-40  55.905770\n",
       "7         40-45  54.420316\n",
       "8         45-50  56.066028\n",
       "9          5-10  58.578042\n",
       "10        50-55  53.873971\n",
       "11        55-60  53.141053"
      ]
     },
     "execution_count": 101,
     "metadata": {},
     "output_type": "execute_result"
    }
   ],
   "source": [
    "groupby_5_min"
   ]
  },
  {
   "cell_type": "code",
   "execution_count": 84,
   "metadata": {},
   "outputs": [
    {
     "data": {
      "text/html": [
       "<div>\n",
       "<style scoped>\n",
       "    .dataframe tbody tr th:only-of-type {\n",
       "        vertical-align: middle;\n",
       "    }\n",
       "\n",
       "    .dataframe tbody tr th {\n",
       "        vertical-align: top;\n",
       "    }\n",
       "\n",
       "    .dataframe thead th {\n",
       "        text-align: right;\n",
       "    }\n",
       "</style>\n",
       "<table border=\"1\" class=\"dataframe\">\n",
       "  <thead>\n",
       "    <tr style=\"text-align: right;\">\n",
       "      <th></th>\n",
       "      <th>5_min_bucket</th>\n",
       "      <th>volume</th>\n",
       "    </tr>\n",
       "  </thead>\n",
       "  <tbody>\n",
       "    <tr>\n",
       "      <th>0</th>\n",
       "      <td>0-5</td>\n",
       "      <td>65.155992</td>\n",
       "    </tr>\n",
       "    <tr>\n",
       "      <th>1</th>\n",
       "      <td>10-15</td>\n",
       "      <td>56.148518</td>\n",
       "    </tr>\n",
       "    <tr>\n",
       "      <th>2</th>\n",
       "      <td>15-20</td>\n",
       "      <td>57.854900</td>\n",
       "    </tr>\n",
       "    <tr>\n",
       "      <th>3</th>\n",
       "      <td>20-25</td>\n",
       "      <td>55.324464</td>\n",
       "    </tr>\n",
       "    <tr>\n",
       "      <th>4</th>\n",
       "      <td>25-30</td>\n",
       "      <td>53.904543</td>\n",
       "    </tr>\n",
       "    <tr>\n",
       "      <th>5</th>\n",
       "      <td>30-35</td>\n",
       "      <td>59.727305</td>\n",
       "    </tr>\n",
       "    <tr>\n",
       "      <th>6</th>\n",
       "      <td>35-40</td>\n",
       "      <td>55.905770</td>\n",
       "    </tr>\n",
       "    <tr>\n",
       "      <th>7</th>\n",
       "      <td>40-45</td>\n",
       "      <td>54.420316</td>\n",
       "    </tr>\n",
       "    <tr>\n",
       "      <th>8</th>\n",
       "      <td>45-50</td>\n",
       "      <td>56.066028</td>\n",
       "    </tr>\n",
       "    <tr>\n",
       "      <th>9</th>\n",
       "      <td>5-10</td>\n",
       "      <td>58.578042</td>\n",
       "    </tr>\n",
       "    <tr>\n",
       "      <th>10</th>\n",
       "      <td>50-55</td>\n",
       "      <td>53.873971</td>\n",
       "    </tr>\n",
       "    <tr>\n",
       "      <th>11</th>\n",
       "      <td>55-60</td>\n",
       "      <td>53.141053</td>\n",
       "    </tr>\n",
       "  </tbody>\n",
       "</table>\n",
       "</div>"
      ],
      "text/plain": [
       "   5_min_bucket     volume\n",
       "0           0-5  65.155992\n",
       "1         10-15  56.148518\n",
       "2         15-20  57.854900\n",
       "3         20-25  55.324464\n",
       "4         25-30  53.904543\n",
       "5         30-35  59.727305\n",
       "6         35-40  55.905770\n",
       "7         40-45  54.420316\n",
       "8         45-50  56.066028\n",
       "9          5-10  58.578042\n",
       "10        50-55  53.873971\n",
       "11        55-60  53.141053"
      ]
     },
     "execution_count": 84,
     "metadata": {},
     "output_type": "execute_result"
    }
   ],
   "source": [
    "groupby_5_min"
   ]
  },
  {
   "cell_type": "code",
   "execution_count": 104,
   "metadata": {},
   "outputs": [],
   "source": [
    "groupby_5_min_ordered = groupby_5_min.iloc[[0,9, 1, 2, 3, 4, 5, 6, 7, 8, 10, 11]]"
   ]
  },
  {
   "cell_type": "code",
   "execution_count": 120,
   "metadata": {},
   "outputs": [
    {
     "data": {
      "application/vnd.plotly.v1+json": {
       "config": {
        "plotlyServerURL": "https://plot.ly"
       },
       "data": [
        {
         "marker": {
          "color": "lightsteelblue"
         },
         "type": "bar",
         "x": [
          "0-5",
          "5-10",
          "10-15",
          "15-20",
          "20-25",
          "25-30",
          "30-35",
          "35-40",
          "40-45",
          "45-50",
          "50-55",
          "55-60"
         ],
         "y": [
          65.15599193428002,
          58.57804168086697,
          56.148518147284506,
          57.85490029918203,
          55.324463522840894,
          53.90454318202956,
          59.727305299269226,
          55.90577013467032,
          54.42031591844378,
          56.066028009421196,
          53.87397066082046,
          53.14105291334875
         ]
        }
       ],
       "layout": {
        "paper_bgcolor": "white",
        "plot_bgcolor": "white",
        "template": {
         "data": {
          "bar": [
           {
            "error_x": {
             "color": "#2a3f5f"
            },
            "error_y": {
             "color": "#2a3f5f"
            },
            "marker": {
             "line": {
              "color": "#E5ECF6",
              "width": 0.5
             },
             "pattern": {
              "fillmode": "overlay",
              "size": 10,
              "solidity": 0.2
             }
            },
            "type": "bar"
           }
          ],
          "barpolar": [
           {
            "marker": {
             "line": {
              "color": "#E5ECF6",
              "width": 0.5
             },
             "pattern": {
              "fillmode": "overlay",
              "size": 10,
              "solidity": 0.2
             }
            },
            "type": "barpolar"
           }
          ],
          "carpet": [
           {
            "aaxis": {
             "endlinecolor": "#2a3f5f",
             "gridcolor": "white",
             "linecolor": "white",
             "minorgridcolor": "white",
             "startlinecolor": "#2a3f5f"
            },
            "baxis": {
             "endlinecolor": "#2a3f5f",
             "gridcolor": "white",
             "linecolor": "white",
             "minorgridcolor": "white",
             "startlinecolor": "#2a3f5f"
            },
            "type": "carpet"
           }
          ],
          "choropleth": [
           {
            "colorbar": {
             "outlinewidth": 0,
             "ticks": ""
            },
            "type": "choropleth"
           }
          ],
          "contour": [
           {
            "colorbar": {
             "outlinewidth": 0,
             "ticks": ""
            },
            "colorscale": [
             [
              0,
              "#0d0887"
             ],
             [
              0.1111111111111111,
              "#46039f"
             ],
             [
              0.2222222222222222,
              "#7201a8"
             ],
             [
              0.3333333333333333,
              "#9c179e"
             ],
             [
              0.4444444444444444,
              "#bd3786"
             ],
             [
              0.5555555555555556,
              "#d8576b"
             ],
             [
              0.6666666666666666,
              "#ed7953"
             ],
             [
              0.7777777777777778,
              "#fb9f3a"
             ],
             [
              0.8888888888888888,
              "#fdca26"
             ],
             [
              1,
              "#f0f921"
             ]
            ],
            "type": "contour"
           }
          ],
          "contourcarpet": [
           {
            "colorbar": {
             "outlinewidth": 0,
             "ticks": ""
            },
            "type": "contourcarpet"
           }
          ],
          "heatmap": [
           {
            "colorbar": {
             "outlinewidth": 0,
             "ticks": ""
            },
            "colorscale": [
             [
              0,
              "#0d0887"
             ],
             [
              0.1111111111111111,
              "#46039f"
             ],
             [
              0.2222222222222222,
              "#7201a8"
             ],
             [
              0.3333333333333333,
              "#9c179e"
             ],
             [
              0.4444444444444444,
              "#bd3786"
             ],
             [
              0.5555555555555556,
              "#d8576b"
             ],
             [
              0.6666666666666666,
              "#ed7953"
             ],
             [
              0.7777777777777778,
              "#fb9f3a"
             ],
             [
              0.8888888888888888,
              "#fdca26"
             ],
             [
              1,
              "#f0f921"
             ]
            ],
            "type": "heatmap"
           }
          ],
          "heatmapgl": [
           {
            "colorbar": {
             "outlinewidth": 0,
             "ticks": ""
            },
            "colorscale": [
             [
              0,
              "#0d0887"
             ],
             [
              0.1111111111111111,
              "#46039f"
             ],
             [
              0.2222222222222222,
              "#7201a8"
             ],
             [
              0.3333333333333333,
              "#9c179e"
             ],
             [
              0.4444444444444444,
              "#bd3786"
             ],
             [
              0.5555555555555556,
              "#d8576b"
             ],
             [
              0.6666666666666666,
              "#ed7953"
             ],
             [
              0.7777777777777778,
              "#fb9f3a"
             ],
             [
              0.8888888888888888,
              "#fdca26"
             ],
             [
              1,
              "#f0f921"
             ]
            ],
            "type": "heatmapgl"
           }
          ],
          "histogram": [
           {
            "marker": {
             "pattern": {
              "fillmode": "overlay",
              "size": 10,
              "solidity": 0.2
             }
            },
            "type": "histogram"
           }
          ],
          "histogram2d": [
           {
            "colorbar": {
             "outlinewidth": 0,
             "ticks": ""
            },
            "colorscale": [
             [
              0,
              "#0d0887"
             ],
             [
              0.1111111111111111,
              "#46039f"
             ],
             [
              0.2222222222222222,
              "#7201a8"
             ],
             [
              0.3333333333333333,
              "#9c179e"
             ],
             [
              0.4444444444444444,
              "#bd3786"
             ],
             [
              0.5555555555555556,
              "#d8576b"
             ],
             [
              0.6666666666666666,
              "#ed7953"
             ],
             [
              0.7777777777777778,
              "#fb9f3a"
             ],
             [
              0.8888888888888888,
              "#fdca26"
             ],
             [
              1,
              "#f0f921"
             ]
            ],
            "type": "histogram2d"
           }
          ],
          "histogram2dcontour": [
           {
            "colorbar": {
             "outlinewidth": 0,
             "ticks": ""
            },
            "colorscale": [
             [
              0,
              "#0d0887"
             ],
             [
              0.1111111111111111,
              "#46039f"
             ],
             [
              0.2222222222222222,
              "#7201a8"
             ],
             [
              0.3333333333333333,
              "#9c179e"
             ],
             [
              0.4444444444444444,
              "#bd3786"
             ],
             [
              0.5555555555555556,
              "#d8576b"
             ],
             [
              0.6666666666666666,
              "#ed7953"
             ],
             [
              0.7777777777777778,
              "#fb9f3a"
             ],
             [
              0.8888888888888888,
              "#fdca26"
             ],
             [
              1,
              "#f0f921"
             ]
            ],
            "type": "histogram2dcontour"
           }
          ],
          "mesh3d": [
           {
            "colorbar": {
             "outlinewidth": 0,
             "ticks": ""
            },
            "type": "mesh3d"
           }
          ],
          "parcoords": [
           {
            "line": {
             "colorbar": {
              "outlinewidth": 0,
              "ticks": ""
             }
            },
            "type": "parcoords"
           }
          ],
          "pie": [
           {
            "automargin": true,
            "type": "pie"
           }
          ],
          "scatter": [
           {
            "fillpattern": {
             "fillmode": "overlay",
             "size": 10,
             "solidity": 0.2
            },
            "type": "scatter"
           }
          ],
          "scatter3d": [
           {
            "line": {
             "colorbar": {
              "outlinewidth": 0,
              "ticks": ""
             }
            },
            "marker": {
             "colorbar": {
              "outlinewidth": 0,
              "ticks": ""
             }
            },
            "type": "scatter3d"
           }
          ],
          "scattercarpet": [
           {
            "marker": {
             "colorbar": {
              "outlinewidth": 0,
              "ticks": ""
             }
            },
            "type": "scattercarpet"
           }
          ],
          "scattergeo": [
           {
            "marker": {
             "colorbar": {
              "outlinewidth": 0,
              "ticks": ""
             }
            },
            "type": "scattergeo"
           }
          ],
          "scattergl": [
           {
            "marker": {
             "colorbar": {
              "outlinewidth": 0,
              "ticks": ""
             }
            },
            "type": "scattergl"
           }
          ],
          "scattermapbox": [
           {
            "marker": {
             "colorbar": {
              "outlinewidth": 0,
              "ticks": ""
             }
            },
            "type": "scattermapbox"
           }
          ],
          "scatterpolar": [
           {
            "marker": {
             "colorbar": {
              "outlinewidth": 0,
              "ticks": ""
             }
            },
            "type": "scatterpolar"
           }
          ],
          "scatterpolargl": [
           {
            "marker": {
             "colorbar": {
              "outlinewidth": 0,
              "ticks": ""
             }
            },
            "type": "scatterpolargl"
           }
          ],
          "scatterternary": [
           {
            "marker": {
             "colorbar": {
              "outlinewidth": 0,
              "ticks": ""
             }
            },
            "type": "scatterternary"
           }
          ],
          "surface": [
           {
            "colorbar": {
             "outlinewidth": 0,
             "ticks": ""
            },
            "colorscale": [
             [
              0,
              "#0d0887"
             ],
             [
              0.1111111111111111,
              "#46039f"
             ],
             [
              0.2222222222222222,
              "#7201a8"
             ],
             [
              0.3333333333333333,
              "#9c179e"
             ],
             [
              0.4444444444444444,
              "#bd3786"
             ],
             [
              0.5555555555555556,
              "#d8576b"
             ],
             [
              0.6666666666666666,
              "#ed7953"
             ],
             [
              0.7777777777777778,
              "#fb9f3a"
             ],
             [
              0.8888888888888888,
              "#fdca26"
             ],
             [
              1,
              "#f0f921"
             ]
            ],
            "type": "surface"
           }
          ],
          "table": [
           {
            "cells": {
             "fill": {
              "color": "#EBF0F8"
             },
             "line": {
              "color": "white"
             }
            },
            "header": {
             "fill": {
              "color": "#C8D4E3"
             },
             "line": {
              "color": "white"
             }
            },
            "type": "table"
           }
          ]
         },
         "layout": {
          "annotationdefaults": {
           "arrowcolor": "#2a3f5f",
           "arrowhead": 0,
           "arrowwidth": 1
          },
          "autotypenumbers": "strict",
          "coloraxis": {
           "colorbar": {
            "outlinewidth": 0,
            "ticks": ""
           }
          },
          "colorscale": {
           "diverging": [
            [
             0,
             "#8e0152"
            ],
            [
             0.1,
             "#c51b7d"
            ],
            [
             0.2,
             "#de77ae"
            ],
            [
             0.3,
             "#f1b6da"
            ],
            [
             0.4,
             "#fde0ef"
            ],
            [
             0.5,
             "#f7f7f7"
            ],
            [
             0.6,
             "#e6f5d0"
            ],
            [
             0.7,
             "#b8e186"
            ],
            [
             0.8,
             "#7fbc41"
            ],
            [
             0.9,
             "#4d9221"
            ],
            [
             1,
             "#276419"
            ]
           ],
           "sequential": [
            [
             0,
             "#0d0887"
            ],
            [
             0.1111111111111111,
             "#46039f"
            ],
            [
             0.2222222222222222,
             "#7201a8"
            ],
            [
             0.3333333333333333,
             "#9c179e"
            ],
            [
             0.4444444444444444,
             "#bd3786"
            ],
            [
             0.5555555555555556,
             "#d8576b"
            ],
            [
             0.6666666666666666,
             "#ed7953"
            ],
            [
             0.7777777777777778,
             "#fb9f3a"
            ],
            [
             0.8888888888888888,
             "#fdca26"
            ],
            [
             1,
             "#f0f921"
            ]
           ],
           "sequentialminus": [
            [
             0,
             "#0d0887"
            ],
            [
             0.1111111111111111,
             "#46039f"
            ],
            [
             0.2222222222222222,
             "#7201a8"
            ],
            [
             0.3333333333333333,
             "#9c179e"
            ],
            [
             0.4444444444444444,
             "#bd3786"
            ],
            [
             0.5555555555555556,
             "#d8576b"
            ],
            [
             0.6666666666666666,
             "#ed7953"
            ],
            [
             0.7777777777777778,
             "#fb9f3a"
            ],
            [
             0.8888888888888888,
             "#fdca26"
            ],
            [
             1,
             "#f0f921"
            ]
           ]
          },
          "colorway": [
           "#636efa",
           "#EF553B",
           "#00cc96",
           "#ab63fa",
           "#FFA15A",
           "#19d3f3",
           "#FF6692",
           "#B6E880",
           "#FF97FF",
           "#FECB52"
          ],
          "font": {
           "color": "#2a3f5f"
          },
          "geo": {
           "bgcolor": "white",
           "lakecolor": "white",
           "landcolor": "#E5ECF6",
           "showlakes": true,
           "showland": true,
           "subunitcolor": "white"
          },
          "hoverlabel": {
           "align": "left"
          },
          "hovermode": "closest",
          "mapbox": {
           "style": "light"
          },
          "paper_bgcolor": "white",
          "plot_bgcolor": "#E5ECF6",
          "polar": {
           "angularaxis": {
            "gridcolor": "white",
            "linecolor": "white",
            "ticks": ""
           },
           "bgcolor": "#E5ECF6",
           "radialaxis": {
            "gridcolor": "white",
            "linecolor": "white",
            "ticks": ""
           }
          },
          "scene": {
           "xaxis": {
            "backgroundcolor": "#E5ECF6",
            "gridcolor": "white",
            "gridwidth": 2,
            "linecolor": "white",
            "showbackground": true,
            "ticks": "",
            "zerolinecolor": "white"
           },
           "yaxis": {
            "backgroundcolor": "#E5ECF6",
            "gridcolor": "white",
            "gridwidth": 2,
            "linecolor": "white",
            "showbackground": true,
            "ticks": "",
            "zerolinecolor": "white"
           },
           "zaxis": {
            "backgroundcolor": "#E5ECF6",
            "gridcolor": "white",
            "gridwidth": 2,
            "linecolor": "white",
            "showbackground": true,
            "ticks": "",
            "zerolinecolor": "white"
           }
          },
          "shapedefaults": {
           "line": {
            "color": "#2a3f5f"
           }
          },
          "ternary": {
           "aaxis": {
            "gridcolor": "white",
            "linecolor": "white",
            "ticks": ""
           },
           "baxis": {
            "gridcolor": "white",
            "linecolor": "white",
            "ticks": ""
           },
           "bgcolor": "#E5ECF6",
           "caxis": {
            "gridcolor": "white",
            "linecolor": "white",
            "ticks": ""
           }
          },
          "title": {
           "x": 0.05
          },
          "xaxis": {
           "automargin": true,
           "gridcolor": "white",
           "linecolor": "white",
           "ticks": "",
           "title": {
            "standoff": 15
           },
           "zerolinecolor": "white",
           "zerolinewidth": 2
          },
          "yaxis": {
           "automargin": true,
           "gridcolor": "white",
           "linecolor": "white",
           "ticks": "",
           "title": {
            "standoff": 15
           },
           "zerolinecolor": "white",
           "zerolinewidth": 2
          }
         }
        },
        "xaxis": {
         "gridcolor": "lightgray",
         "linecolor": "gray",
         "linewidth": 1,
         "mirror": true,
         "showgrid": true,
         "showline": true
        },
        "yaxis": {
         "gridcolor": "lightgray",
         "linecolor": "gray",
         "linewidth": 1,
         "mirror": true,
         "showgrid": true,
         "showline": true,
         "title": {
          "text": "Volume in BTC"
         }
        }
       }
      }
     },
     "metadata": {},
     "output_type": "display_data"
    }
   ],
   "source": [
    "fig = go.Figure(data=[\n",
    "    go.Bar( x=groupby_5_min_ordered['5_min_bucket'], y=groupby_5_min_ordered['volume']),\n",
    "])\n",
    "fig.update_traces(marker_color='lightsteelblue')\n",
    "fig.update_yaxes(showline=True,\n",
    "            mirror=True,\n",
    "         linewidth=1,\n",
    "         linecolor='gray',\n",
    "         showgrid=True,\n",
    "         gridcolor='lightgray')\n",
    "fig.update_xaxes(showline=True,\n",
    "            linewidth=1,\n",
    "            linecolor='gray',\n",
    "            mirror=True,\n",
    "            showgrid=True,\n",
    "         gridcolor='lightgray')\n",
    "fig.update_yaxes(title_text=\"Volume in BTC\")\n",
    "\n",
    "fig.update_layout(\n",
    "                  paper_bgcolor='white',\n",
    "                  plot_bgcolor='white')\n",
    "fig.show()\n",
    "pio.write_image(fig, 'btc_volume_per_minutes.png',scale=3, width=1600, height=600)"
   ]
  },
  {
   "cell_type": "code",
   "execution_count": 3,
   "metadata": {},
   "outputs": [
    {
     "name": "stderr",
     "output_type": "stream",
     "text": [
      "build_model for keras_tuner_CNN_LSTM not implemented!\n"
     ]
    }
   ],
   "source": [
    "from ml_investing_wne import config\n",
    "from ml_investing_wne.utils import get_logger\n",
    "from ml_investing_wne.experiment_factory import create_asset, experiment_factory\n",
    "\n",
    "asset = create_asset()\n",
    "experiment = experiment_factory(asset).get_experiment()"
   ]
  },
  {
   "cell_type": "code",
   "execution_count": 4,
   "metadata": {},
   "outputs": [
    {
     "data": {
      "text/html": [
       "<div>\n",
       "<style scoped>\n",
       "    .dataframe tbody tr th:only-of-type {\n",
       "        vertical-align: middle;\n",
       "    }\n",
       "\n",
       "    .dataframe tbody tr th {\n",
       "        vertical-align: top;\n",
       "    }\n",
       "\n",
       "    .dataframe thead th {\n",
       "        text-align: right;\n",
       "    }\n",
       "</style>\n",
       "<table border=\"1\" class=\"dataframe\">\n",
       "  <thead>\n",
       "    <tr style=\"text-align: right;\">\n",
       "      <th></th>\n",
       "      <th>datetime</th>\n",
       "      <th>prc_change</th>\n",
       "      <th>barrier_touched</th>\n",
       "      <th>barrier_touched_date</th>\n",
       "      <th>top_barrier</th>\n",
       "      <th>bottom_barrier</th>\n",
       "      <th>time_step</th>\n",
       "    </tr>\n",
       "  </thead>\n",
       "  <tbody>\n",
       "    <tr>\n",
       "      <th>0</th>\n",
       "      <td>2018-01-01 02:00:00</td>\n",
       "      <td>0.025</td>\n",
       "      <td>top</td>\n",
       "      <td>2018-01-01 05:00:00</td>\n",
       "      <td>13663.43450</td>\n",
       "      <td>12996.92550</td>\n",
       "      <td>3</td>\n",
       "    </tr>\n",
       "    <tr>\n",
       "      <th>1</th>\n",
       "      <td>2018-01-01 03:00:00</td>\n",
       "      <td>0.025</td>\n",
       "      <td>top</td>\n",
       "      <td>2018-01-01 06:00:00</td>\n",
       "      <td>13745.28075</td>\n",
       "      <td>13074.77925</td>\n",
       "      <td>3</td>\n",
       "    </tr>\n",
       "    <tr>\n",
       "      <th>2</th>\n",
       "      <td>2018-01-01 04:00:00</td>\n",
       "      <td>-0.025</td>\n",
       "      <td>bottom</td>\n",
       "      <td>2018-01-01 11:00:00</td>\n",
       "      <td>13941.03525</td>\n",
       "      <td>13260.98475</td>\n",
       "      <td>7</td>\n",
       "    </tr>\n",
       "    <tr>\n",
       "      <th>3</th>\n",
       "      <td>2018-01-01 05:00:00</td>\n",
       "      <td>-0.025</td>\n",
       "      <td>bottom</td>\n",
       "      <td>2018-01-01 11:00:00</td>\n",
       "      <td>13897.96475</td>\n",
       "      <td>13220.01525</td>\n",
       "      <td>6</td>\n",
       "    </tr>\n",
       "    <tr>\n",
       "      <th>4</th>\n",
       "      <td>2018-01-01 06:00:00</td>\n",
       "      <td>-0.025</td>\n",
       "      <td>bottom</td>\n",
       "      <td>2018-01-01 08:00:00</td>\n",
       "      <td>14124.92025</td>\n",
       "      <td>13435.89975</td>\n",
       "      <td>2</td>\n",
       "    </tr>\n",
       "    <tr>\n",
       "      <th>...</th>\n",
       "      <td>...</td>\n",
       "      <td>...</td>\n",
       "      <td>...</td>\n",
       "      <td>...</td>\n",
       "      <td>...</td>\n",
       "      <td>...</td>\n",
       "      <td>...</td>\n",
       "    </tr>\n",
       "    <tr>\n",
       "      <th>48135</th>\n",
       "      <td>2023-06-29 17:00:00</td>\n",
       "      <td>-0.025</td>\n",
       "      <td>bottom</td>\n",
       "      <td>2023-06-30 13:00:00</td>\n",
       "      <td>31306.91325</td>\n",
       "      <td>29779.74675</td>\n",
       "      <td>20</td>\n",
       "    </tr>\n",
       "    <tr>\n",
       "      <th>48136</th>\n",
       "      <td>2023-06-29 18:00:00</td>\n",
       "      <td>-0.025</td>\n",
       "      <td>bottom</td>\n",
       "      <td>2023-06-30 13:00:00</td>\n",
       "      <td>31330.97000</td>\n",
       "      <td>29802.63000</td>\n",
       "      <td>19</td>\n",
       "    </tr>\n",
       "    <tr>\n",
       "      <th>48137</th>\n",
       "      <td>2023-06-29 19:00:00</td>\n",
       "      <td>-0.025</td>\n",
       "      <td>bottom</td>\n",
       "      <td>2023-06-30 13:00:00</td>\n",
       "      <td>31349.61475</td>\n",
       "      <td>29820.36525</td>\n",
       "      <td>18</td>\n",
       "    </tr>\n",
       "    <tr>\n",
       "      <th>48138</th>\n",
       "      <td>2023-06-29 20:00:00</td>\n",
       "      <td>0.025</td>\n",
       "      <td>top</td>\n",
       "      <td>2023-06-30 04:00:00</td>\n",
       "      <td>31158.95450</td>\n",
       "      <td>29639.00550</td>\n",
       "      <td>8</td>\n",
       "    </tr>\n",
       "    <tr>\n",
       "      <th>48139</th>\n",
       "      <td>2023-06-29 21:00:00</td>\n",
       "      <td>0.025</td>\n",
       "      <td>top</td>\n",
       "      <td>2023-06-30 04:00:00</td>\n",
       "      <td>31177.77350</td>\n",
       "      <td>29656.90650</td>\n",
       "      <td>7</td>\n",
       "    </tr>\n",
       "  </tbody>\n",
       "</table>\n",
       "<p>48140 rows × 7 columns</p>\n",
       "</div>"
      ],
      "text/plain": [
       "                 datetime  prc_change barrier_touched barrier_touched_date  \\\n",
       "0     2018-01-01 02:00:00       0.025             top  2018-01-01 05:00:00   \n",
       "1     2018-01-01 03:00:00       0.025             top  2018-01-01 06:00:00   \n",
       "2     2018-01-01 04:00:00      -0.025          bottom  2018-01-01 11:00:00   \n",
       "3     2018-01-01 05:00:00      -0.025          bottom  2018-01-01 11:00:00   \n",
       "4     2018-01-01 06:00:00      -0.025          bottom  2018-01-01 08:00:00   \n",
       "...                   ...         ...             ...                  ...   \n",
       "48135 2023-06-29 17:00:00      -0.025          bottom  2023-06-30 13:00:00   \n",
       "48136 2023-06-29 18:00:00      -0.025          bottom  2023-06-30 13:00:00   \n",
       "48137 2023-06-29 19:00:00      -0.025          bottom  2023-06-30 13:00:00   \n",
       "48138 2023-06-29 20:00:00       0.025             top  2023-06-30 04:00:00   \n",
       "48139 2023-06-29 21:00:00       0.025             top  2023-06-30 04:00:00   \n",
       "\n",
       "       top_barrier  bottom_barrier  time_step  \n",
       "0      13663.43450     12996.92550          3  \n",
       "1      13745.28075     13074.77925          3  \n",
       "2      13941.03525     13260.98475          7  \n",
       "3      13897.96475     13220.01525          6  \n",
       "4      14124.92025     13435.89975          2  \n",
       "...            ...             ...        ...  \n",
       "48135  31306.91325     29779.74675         20  \n",
       "48136  31330.97000     29802.63000         19  \n",
       "48137  31349.61475     29820.36525         18  \n",
       "48138  31158.95450     29639.00550          8  \n",
       "48139  31177.77350     29656.90650          7  \n",
       "\n",
       "[48140 rows x 7 columns]"
      ]
     },
     "execution_count": 4,
     "metadata": {},
     "output_type": "execute_result"
    }
   ],
   "source": [
    "experiment.df_3_barriers_additional_info"
   ]
  },
  {
   "cell_type": "code",
   "execution_count": 42,
   "metadata": {},
   "outputs": [],
   "source": [
    "date_start = datetime.datetime(2022, 4, 10)\n",
    "date_end = datetime.datetime(2022, 4, 15)"
   ]
  },
  {
   "cell_type": "code",
   "execution_count": 43,
   "metadata": {},
   "outputs": [],
   "source": [
    "df_3_barriers_additional_info_subset = experiment.df_3_barriers_additional_info.loc[(experiment.df_3_barriers_additional_info['datetime'] >= date_start) & (experiment.df_3_barriers_additional_info['datetime'] <= date_end)]"
   ]
  },
  {
   "cell_type": "code",
   "execution_count": 44,
   "metadata": {},
   "outputs": [
    {
     "data": {
      "text/html": [
       "<div>\n",
       "<style scoped>\n",
       "    .dataframe tbody tr th:only-of-type {\n",
       "        vertical-align: middle;\n",
       "    }\n",
       "\n",
       "    .dataframe tbody tr th {\n",
       "        vertical-align: top;\n",
       "    }\n",
       "\n",
       "    .dataframe thead th {\n",
       "        text-align: right;\n",
       "    }\n",
       "</style>\n",
       "<table border=\"1\" class=\"dataframe\">\n",
       "  <thead>\n",
       "    <tr style=\"text-align: right;\">\n",
       "      <th></th>\n",
       "      <th>datetime</th>\n",
       "      <th>prc_change</th>\n",
       "      <th>barrier_touched</th>\n",
       "      <th>barrier_touched_date</th>\n",
       "      <th>top_barrier</th>\n",
       "      <th>bottom_barrier</th>\n",
       "      <th>time_step</th>\n",
       "    </tr>\n",
       "  </thead>\n",
       "  <tbody>\n",
       "    <tr>\n",
       "      <th>37438</th>\n",
       "      <td>2022-04-10 00:00:00</td>\n",
       "      <td>-0.007719</td>\n",
       "      <td>vertical</td>\n",
       "      <td>2022-04-11 00:00:00</td>\n",
       "      <td>43698.12800</td>\n",
       "      <td>41566.51200</td>\n",
       "      <td>24</td>\n",
       "    </tr>\n",
       "    <tr>\n",
       "      <th>37439</th>\n",
       "      <td>2022-04-10 01:00:00</td>\n",
       "      <td>-0.014214</td>\n",
       "      <td>vertical</td>\n",
       "      <td>2022-04-11 01:00:00</td>\n",
       "      <td>43836.41075</td>\n",
       "      <td>41698.04925</td>\n",
       "      <td>24</td>\n",
       "    </tr>\n",
       "    <tr>\n",
       "      <th>37440</th>\n",
       "      <td>2022-04-10 02:00:00</td>\n",
       "      <td>-0.025000</td>\n",
       "      <td>bottom</td>\n",
       "      <td>2022-04-11 00:00:00</td>\n",
       "      <td>43903.85575</td>\n",
       "      <td>41762.20425</td>\n",
       "      <td>22</td>\n",
       "    </tr>\n",
       "    <tr>\n",
       "      <th>37441</th>\n",
       "      <td>2022-04-10 03:00:00</td>\n",
       "      <td>-0.015765</td>\n",
       "      <td>vertical</td>\n",
       "      <td>2022-04-11 03:00:00</td>\n",
       "      <td>43855.36300</td>\n",
       "      <td>41716.07700</td>\n",
       "      <td>24</td>\n",
       "    </tr>\n",
       "    <tr>\n",
       "      <th>37442</th>\n",
       "      <td>2022-04-10 04:00:00</td>\n",
       "      <td>-0.011264</td>\n",
       "      <td>vertical</td>\n",
       "      <td>2022-04-11 04:00:00</td>\n",
       "      <td>43809.38150</td>\n",
       "      <td>41672.33850</td>\n",
       "      <td>24</td>\n",
       "    </tr>\n",
       "    <tr>\n",
       "      <th>...</th>\n",
       "      <td>...</td>\n",
       "      <td>...</td>\n",
       "      <td>...</td>\n",
       "      <td>...</td>\n",
       "      <td>...</td>\n",
       "      <td>...</td>\n",
       "      <td>...</td>\n",
       "    </tr>\n",
       "    <tr>\n",
       "      <th>37554</th>\n",
       "      <td>2022-04-14 20:00:00</td>\n",
       "      <td>0.012195</td>\n",
       "      <td>vertical</td>\n",
       "      <td>2022-04-15 20:00:00</td>\n",
       "      <td>40907.73975</td>\n",
       "      <td>38912.24025</td>\n",
       "      <td>24</td>\n",
       "    </tr>\n",
       "    <tr>\n",
       "      <th>37555</th>\n",
       "      <td>2022-04-14 21:00:00</td>\n",
       "      <td>0.011409</td>\n",
       "      <td>vertical</td>\n",
       "      <td>2022-04-15 21:00:00</td>\n",
       "      <td>40969.25000</td>\n",
       "      <td>38970.75000</td>\n",
       "      <td>24</td>\n",
       "    </tr>\n",
       "    <tr>\n",
       "      <th>37556</th>\n",
       "      <td>2022-04-14 22:00:00</td>\n",
       "      <td>0.025000</td>\n",
       "      <td>top</td>\n",
       "      <td>2022-04-15 14:00:00</td>\n",
       "      <td>40839.80275</td>\n",
       "      <td>38847.61725</td>\n",
       "      <td>16</td>\n",
       "    </tr>\n",
       "    <tr>\n",
       "      <th>37557</th>\n",
       "      <td>2022-04-14 23:00:00</td>\n",
       "      <td>0.015260</td>\n",
       "      <td>vertical</td>\n",
       "      <td>2022-04-15 23:00:00</td>\n",
       "      <td>40940.93950</td>\n",
       "      <td>38943.82050</td>\n",
       "      <td>24</td>\n",
       "    </tr>\n",
       "    <tr>\n",
       "      <th>37558</th>\n",
       "      <td>2022-04-15 00:00:00</td>\n",
       "      <td>0.025000</td>\n",
       "      <td>top</td>\n",
       "      <td>2022-04-15 14:00:00</td>\n",
       "      <td>40856.48975</td>\n",
       "      <td>38863.49025</td>\n",
       "      <td>14</td>\n",
       "    </tr>\n",
       "  </tbody>\n",
       "</table>\n",
       "<p>121 rows × 7 columns</p>\n",
       "</div>"
      ],
      "text/plain": [
       "                 datetime  prc_change barrier_touched barrier_touched_date  \\\n",
       "37438 2022-04-10 00:00:00   -0.007719        vertical  2022-04-11 00:00:00   \n",
       "37439 2022-04-10 01:00:00   -0.014214        vertical  2022-04-11 01:00:00   \n",
       "37440 2022-04-10 02:00:00   -0.025000          bottom  2022-04-11 00:00:00   \n",
       "37441 2022-04-10 03:00:00   -0.015765        vertical  2022-04-11 03:00:00   \n",
       "37442 2022-04-10 04:00:00   -0.011264        vertical  2022-04-11 04:00:00   \n",
       "...                   ...         ...             ...                  ...   \n",
       "37554 2022-04-14 20:00:00    0.012195        vertical  2022-04-15 20:00:00   \n",
       "37555 2022-04-14 21:00:00    0.011409        vertical  2022-04-15 21:00:00   \n",
       "37556 2022-04-14 22:00:00    0.025000             top  2022-04-15 14:00:00   \n",
       "37557 2022-04-14 23:00:00    0.015260        vertical  2022-04-15 23:00:00   \n",
       "37558 2022-04-15 00:00:00    0.025000             top  2022-04-15 14:00:00   \n",
       "\n",
       "       top_barrier  bottom_barrier  time_step  \n",
       "37438  43698.12800     41566.51200         24  \n",
       "37439  43836.41075     41698.04925         24  \n",
       "37440  43903.85575     41762.20425         22  \n",
       "37441  43855.36300     41716.07700         24  \n",
       "37442  43809.38150     41672.33850         24  \n",
       "...            ...             ...        ...  \n",
       "37554  40907.73975     38912.24025         24  \n",
       "37555  40969.25000     38970.75000         24  \n",
       "37556  40839.80275     38847.61725         16  \n",
       "37557  40940.93950     38943.82050         24  \n",
       "37558  40856.48975     38863.49025         14  \n",
       "\n",
       "[121 rows x 7 columns]"
      ]
     },
     "execution_count": 44,
     "metadata": {},
     "output_type": "execute_result"
    }
   ],
   "source": [
    "df_3_barriers_additional_info_subset"
   ]
  },
  {
   "cell_type": "code",
   "execution_count": 45,
   "metadata": {},
   "outputs": [
    {
     "data": {
      "text/html": [
       "<div>\n",
       "<style scoped>\n",
       "    .dataframe tbody tr th:only-of-type {\n",
       "        vertical-align: middle;\n",
       "    }\n",
       "\n",
       "    .dataframe tbody tr th {\n",
       "        vertical-align: top;\n",
       "    }\n",
       "\n",
       "    .dataframe thead th {\n",
       "        text-align: right;\n",
       "    }\n",
       "</style>\n",
       "<table border=\"1\" class=\"dataframe\">\n",
       "  <thead>\n",
       "    <tr style=\"text-align: right;\">\n",
       "      <th></th>\n",
       "      <th>datetime</th>\n",
       "      <th>prc_change</th>\n",
       "      <th>barrier_touched</th>\n",
       "      <th>barrier_touched_date</th>\n",
       "      <th>top_barrier</th>\n",
       "      <th>bottom_barrier</th>\n",
       "      <th>time_step</th>\n",
       "    </tr>\n",
       "  </thead>\n",
       "  <tbody>\n",
       "  </tbody>\n",
       "</table>\n",
       "</div>"
      ],
      "text/plain": [
       "Empty DataFrame\n",
       "Columns: [datetime, prc_change, barrier_touched, barrier_touched_date, top_barrier, bottom_barrier, time_step]\n",
       "Index: []"
      ]
     },
     "execution_count": 45,
     "metadata": {},
     "output_type": "execute_result"
    }
   ],
   "source": [
    "df_3_barriers_additional_info_subset.iloc[150:200]"
   ]
  },
  {
   "cell_type": "code",
   "execution_count": 46,
   "metadata": {},
   "outputs": [],
   "source": [
    "experiment.df.reset_index(inplace=True)"
   ]
  },
  {
   "cell_type": "code",
   "execution_count": 47,
   "metadata": {},
   "outputs": [],
   "source": [
    "triple_barrier_subset =  experiment.df.loc[(experiment.df['datetime'] >= date_start) & (experiment.df['datetime'] <= date_end)]"
   ]
  },
  {
   "cell_type": "code",
   "execution_count": 48,
   "metadata": {},
   "outputs": [
    {
     "data": {
      "text/html": [
       "<div>\n",
       "<style scoped>\n",
       "    .dataframe tbody tr th:only-of-type {\n",
       "        vertical-align: middle;\n",
       "    }\n",
       "\n",
       "    .dataframe tbody tr th {\n",
       "        vertical-align: top;\n",
       "    }\n",
       "\n",
       "    .dataframe thead th {\n",
       "        text-align: right;\n",
       "    }\n",
       "</style>\n",
       "<table border=\"1\" class=\"dataframe\">\n",
       "  <thead>\n",
       "    <tr style=\"text-align: right;\">\n",
       "      <th></th>\n",
       "      <th>index</th>\n",
       "      <th>datetime</th>\n",
       "      <th>open</th>\n",
       "      <th>close</th>\n",
       "      <th>high</th>\n",
       "      <th>low</th>\n",
       "      <th>volume</th>\n",
       "      <th>y_pred</th>\n",
       "      <th>EMA_5</th>\n",
       "      <th>VAR_5</th>\n",
       "      <th>...</th>\n",
       "      <th>BBU_5_2.0</th>\n",
       "      <th>BBB_5_2.0</th>\n",
       "      <th>BBP_5_2.0</th>\n",
       "      <th>roc_1</th>\n",
       "      <th>CMF_20</th>\n",
       "      <th>MFI_14</th>\n",
       "      <th>hour_sin</th>\n",
       "      <th>hour_cos</th>\n",
       "      <th>weekday_sin</th>\n",
       "      <th>weekday_cos</th>\n",
       "    </tr>\n",
       "  </thead>\n",
       "  <tbody>\n",
       "    <tr>\n",
       "      <th>37369</th>\n",
       "      <td>37369</td>\n",
       "      <td>2022-04-10 00:00:00</td>\n",
       "      <td>42753.96</td>\n",
       "      <td>42632.32</td>\n",
       "      <td>42776.62</td>\n",
       "      <td>42591.00</td>\n",
       "      <td>609.62172</td>\n",
       "      <td>0.0</td>\n",
       "      <td>42605.330258</td>\n",
       "      <td>14847.733795</td>\n",
       "      <td>...</td>\n",
       "      <td>42800.164191</td>\n",
       "      <td>1.023781</td>\n",
       "      <td>0.614991</td>\n",
       "      <td>-0.002845</td>\n",
       "      <td>0.113876</td>\n",
       "      <td>51.406434</td>\n",
       "      <td>0.000000e+00</td>\n",
       "      <td>1.000000</td>\n",
       "      <td>-2.449294e-16</td>\n",
       "      <td>1.0</td>\n",
       "    </tr>\n",
       "    <tr>\n",
       "      <th>37370</th>\n",
       "      <td>37370</td>\n",
       "      <td>2022-04-10 01:00:00</td>\n",
       "      <td>42632.31</td>\n",
       "      <td>42767.23</td>\n",
       "      <td>42786.02</td>\n",
       "      <td>42597.90</td>\n",
       "      <td>489.67289</td>\n",
       "      <td>0.0</td>\n",
       "      <td>42659.296838</td>\n",
       "      <td>11168.119045</td>\n",
       "      <td>...</td>\n",
       "      <td>42840.044918</td>\n",
       "      <td>0.886474</td>\n",
       "      <td>0.807414</td>\n",
       "      <td>0.003165</td>\n",
       "      <td>0.116091</td>\n",
       "      <td>50.976186</td>\n",
       "      <td>2.697968e-01</td>\n",
       "      <td>0.962917</td>\n",
       "      <td>-2.449294e-16</td>\n",
       "      <td>1.0</td>\n",
       "    </tr>\n",
       "    <tr>\n",
       "      <th>37371</th>\n",
       "      <td>37371</td>\n",
       "      <td>2022-04-10 02:00:00</td>\n",
       "      <td>42767.22</td>\n",
       "      <td>42833.03</td>\n",
       "      <td>42896.64</td>\n",
       "      <td>42731.10</td>\n",
       "      <td>507.70146</td>\n",
       "      <td>0.0</td>\n",
       "      <td>42717.207892</td>\n",
       "      <td>13511.963325</td>\n",
       "      <td>...</td>\n",
       "      <td>42913.932170</td>\n",
       "      <td>0.973813</td>\n",
       "      <td>0.805466</td>\n",
       "      <td>0.001539</td>\n",
       "      <td>0.153307</td>\n",
       "      <td>49.991422</td>\n",
       "      <td>5.195840e-01</td>\n",
       "      <td>0.854419</td>\n",
       "      <td>-2.449294e-16</td>\n",
       "      <td>1.0</td>\n",
       "    </tr>\n",
       "    <tr>\n",
       "      <th>37372</th>\n",
       "      <td>37372</td>\n",
       "      <td>2022-04-10 03:00:00</td>\n",
       "      <td>42833.03</td>\n",
       "      <td>42785.72</td>\n",
       "      <td>42891.91</td>\n",
       "      <td>42775.74</td>\n",
       "      <td>507.09099</td>\n",
       "      <td>0.0</td>\n",
       "      <td>42740.045261</td>\n",
       "      <td>5557.981225</td>\n",
       "      <td>...</td>\n",
       "      <td>42887.816438</td>\n",
       "      <td>0.623853</td>\n",
       "      <td>0.617222</td>\n",
       "      <td>-0.001105</td>\n",
       "      <td>0.097601</td>\n",
       "      <td>50.328831</td>\n",
       "      <td>7.308360e-01</td>\n",
       "      <td>0.682553</td>\n",
       "      <td>-2.449294e-16</td>\n",
       "      <td>1.0</td>\n",
       "    </tr>\n",
       "    <tr>\n",
       "      <th>37373</th>\n",
       "      <td>37373</td>\n",
       "      <td>2022-04-10 04:00:00</td>\n",
       "      <td>42785.72</td>\n",
       "      <td>42740.86</td>\n",
       "      <td>42791.24</td>\n",
       "      <td>42706.35</td>\n",
       "      <td>345.20871</td>\n",
       "      <td>0.0</td>\n",
       "      <td>42740.316841</td>\n",
       "      <td>5595.528265</td>\n",
       "      <td>...</td>\n",
       "      <td>42885.644146</td>\n",
       "      <td>0.625995</td>\n",
       "      <td>0.459002</td>\n",
       "      <td>-0.001048</td>\n",
       "      <td>0.079196</td>\n",
       "      <td>53.329553</td>\n",
       "      <td>8.878852e-01</td>\n",
       "      <td>0.460065</td>\n",
       "      <td>-2.449294e-16</td>\n",
       "      <td>1.0</td>\n",
       "    </tr>\n",
       "    <tr>\n",
       "      <th>...</th>\n",
       "      <td>...</td>\n",
       "      <td>...</td>\n",
       "      <td>...</td>\n",
       "      <td>...</td>\n",
       "      <td>...</td>\n",
       "      <td>...</td>\n",
       "      <td>...</td>\n",
       "      <td>...</td>\n",
       "      <td>...</td>\n",
       "      <td>...</td>\n",
       "      <td>...</td>\n",
       "      <td>...</td>\n",
       "      <td>...</td>\n",
       "      <td>...</td>\n",
       "      <td>...</td>\n",
       "      <td>...</td>\n",
       "      <td>...</td>\n",
       "      <td>...</td>\n",
       "      <td>...</td>\n",
       "      <td>...</td>\n",
       "      <td>...</td>\n",
       "    </tr>\n",
       "    <tr>\n",
       "      <th>37485</th>\n",
       "      <td>37485</td>\n",
       "      <td>2022-04-14 20:00:00</td>\n",
       "      <td>39775.81</td>\n",
       "      <td>39909.99</td>\n",
       "      <td>39910.00</td>\n",
       "      <td>39662.46</td>\n",
       "      <td>1191.67137</td>\n",
       "      <td>1.0</td>\n",
       "      <td>39930.633222</td>\n",
       "      <td>18577.937465</td>\n",
       "      <td>...</td>\n",
       "      <td>40100.370476</td>\n",
       "      <td>1.223500</td>\n",
       "      <td>0.609592</td>\n",
       "      <td>0.003373</td>\n",
       "      <td>-0.154044</td>\n",
       "      <td>19.305765</td>\n",
       "      <td>-7.308360e-01</td>\n",
       "      <td>0.682553</td>\n",
       "      <td>1.224647e-16</td>\n",
       "      <td>-1.0</td>\n",
       "    </tr>\n",
       "    <tr>\n",
       "      <th>37486</th>\n",
       "      <td>37486</td>\n",
       "      <td>2022-04-14 21:00:00</td>\n",
       "      <td>39909.99</td>\n",
       "      <td>39970.00</td>\n",
       "      <td>40000.00</td>\n",
       "      <td>39861.31</td>\n",
       "      <td>629.27941</td>\n",
       "      <td>1.0</td>\n",
       "      <td>39943.755481</td>\n",
       "      <td>19542.895865</td>\n",
       "      <td>...</td>\n",
       "      <td>40110.402522</td>\n",
       "      <td>1.254754</td>\n",
       "      <td>0.719279</td>\n",
       "      <td>0.001504</td>\n",
       "      <td>-0.184177</td>\n",
       "      <td>18.325053</td>\n",
       "      <td>-5.195840e-01</td>\n",
       "      <td>0.854419</td>\n",
       "      <td>1.224647e-16</td>\n",
       "      <td>-1.0</td>\n",
       "    </tr>\n",
       "    <tr>\n",
       "      <th>37487</th>\n",
       "      <td>37487</td>\n",
       "      <td>2022-04-14 22:00:00</td>\n",
       "      <td>39969.99</td>\n",
       "      <td>39843.71</td>\n",
       "      <td>40017.26</td>\n",
       "      <td>39806.25</td>\n",
       "      <td>877.56531</td>\n",
       "      <td>1.0</td>\n",
       "      <td>39910.406988</td>\n",
       "      <td>14587.079625</td>\n",
       "      <td>...</td>\n",
       "      <td>40047.756435</td>\n",
       "      <td>1.084826</td>\n",
       "      <td>0.527785</td>\n",
       "      <td>-0.003160</td>\n",
       "      <td>-0.207066</td>\n",
       "      <td>18.442922</td>\n",
       "      <td>-2.697968e-01</td>\n",
       "      <td>0.962917</td>\n",
       "      <td>1.224647e-16</td>\n",
       "      <td>-1.0</td>\n",
       "    </tr>\n",
       "    <tr>\n",
       "      <th>37488</th>\n",
       "      <td>37488</td>\n",
       "      <td>2022-04-14 23:00:00</td>\n",
       "      <td>39843.71</td>\n",
       "      <td>39942.38</td>\n",
       "      <td>39946.94</td>\n",
       "      <td>39828.95</td>\n",
       "      <td>407.47573</td>\n",
       "      <td>1.0</td>\n",
       "      <td>39921.064658</td>\n",
       "      <td>6177.494745</td>\n",
       "      <td>...</td>\n",
       "      <td>40028.978660</td>\n",
       "      <td>0.704960</td>\n",
       "      <td>0.692036</td>\n",
       "      <td>0.002476</td>\n",
       "      <td>-0.184703</td>\n",
       "      <td>20.919371</td>\n",
       "      <td>-2.449294e-16</td>\n",
       "      <td>1.000000</td>\n",
       "      <td>1.224647e-16</td>\n",
       "      <td>-1.0</td>\n",
       "    </tr>\n",
       "    <tr>\n",
       "      <th>37489</th>\n",
       "      <td>37489</td>\n",
       "      <td>2022-04-15 00:00:00</td>\n",
       "      <td>39942.37</td>\n",
       "      <td>39859.99</td>\n",
       "      <td>40180.00</td>\n",
       "      <td>39766.40</td>\n",
       "      <td>1357.42561</td>\n",
       "      <td>1.0</td>\n",
       "      <td>39900.706439</td>\n",
       "      <td>2857.324925</td>\n",
       "      <td>...</td>\n",
       "      <td>40000.835335</td>\n",
       "      <td>0.479242</td>\n",
       "      <td>0.263526</td>\n",
       "      <td>-0.002063</td>\n",
       "      <td>-0.195236</td>\n",
       "      <td>26.401440</td>\n",
       "      <td>0.000000e+00</td>\n",
       "      <td>1.000000</td>\n",
       "      <td>-8.660254e-01</td>\n",
       "      <td>-0.5</td>\n",
       "    </tr>\n",
       "  </tbody>\n",
       "</table>\n",
       "<p>121 rows × 39 columns</p>\n",
       "</div>"
      ],
      "text/plain": [
       "       index            datetime      open     close      high       low  \\\n",
       "37369  37369 2022-04-10 00:00:00  42753.96  42632.32  42776.62  42591.00   \n",
       "37370  37370 2022-04-10 01:00:00  42632.31  42767.23  42786.02  42597.90   \n",
       "37371  37371 2022-04-10 02:00:00  42767.22  42833.03  42896.64  42731.10   \n",
       "37372  37372 2022-04-10 03:00:00  42833.03  42785.72  42891.91  42775.74   \n",
       "37373  37373 2022-04-10 04:00:00  42785.72  42740.86  42791.24  42706.35   \n",
       "...      ...                 ...       ...       ...       ...       ...   \n",
       "37485  37485 2022-04-14 20:00:00  39775.81  39909.99  39910.00  39662.46   \n",
       "37486  37486 2022-04-14 21:00:00  39909.99  39970.00  40000.00  39861.31   \n",
       "37487  37487 2022-04-14 22:00:00  39969.99  39843.71  40017.26  39806.25   \n",
       "37488  37488 2022-04-14 23:00:00  39843.71  39942.38  39946.94  39828.95   \n",
       "37489  37489 2022-04-15 00:00:00  39942.37  39859.99  40180.00  39766.40   \n",
       "\n",
       "           volume  y_pred         EMA_5         VAR_5  ...     BBU_5_2.0  \\\n",
       "37369   609.62172     0.0  42605.330258  14847.733795  ...  42800.164191   \n",
       "37370   489.67289     0.0  42659.296838  11168.119045  ...  42840.044918   \n",
       "37371   507.70146     0.0  42717.207892  13511.963325  ...  42913.932170   \n",
       "37372   507.09099     0.0  42740.045261   5557.981225  ...  42887.816438   \n",
       "37373   345.20871     0.0  42740.316841   5595.528265  ...  42885.644146   \n",
       "...           ...     ...           ...           ...  ...           ...   \n",
       "37485  1191.67137     1.0  39930.633222  18577.937465  ...  40100.370476   \n",
       "37486   629.27941     1.0  39943.755481  19542.895865  ...  40110.402522   \n",
       "37487   877.56531     1.0  39910.406988  14587.079625  ...  40047.756435   \n",
       "37488   407.47573     1.0  39921.064658   6177.494745  ...  40028.978660   \n",
       "37489  1357.42561     1.0  39900.706439   2857.324925  ...  40000.835335   \n",
       "\n",
       "       BBB_5_2.0  BBP_5_2.0     roc_1    CMF_20     MFI_14      hour_sin  \\\n",
       "37369   1.023781   0.614991 -0.002845  0.113876  51.406434  0.000000e+00   \n",
       "37370   0.886474   0.807414  0.003165  0.116091  50.976186  2.697968e-01   \n",
       "37371   0.973813   0.805466  0.001539  0.153307  49.991422  5.195840e-01   \n",
       "37372   0.623853   0.617222 -0.001105  0.097601  50.328831  7.308360e-01   \n",
       "37373   0.625995   0.459002 -0.001048  0.079196  53.329553  8.878852e-01   \n",
       "...          ...        ...       ...       ...        ...           ...   \n",
       "37485   1.223500   0.609592  0.003373 -0.154044  19.305765 -7.308360e-01   \n",
       "37486   1.254754   0.719279  0.001504 -0.184177  18.325053 -5.195840e-01   \n",
       "37487   1.084826   0.527785 -0.003160 -0.207066  18.442922 -2.697968e-01   \n",
       "37488   0.704960   0.692036  0.002476 -0.184703  20.919371 -2.449294e-16   \n",
       "37489   0.479242   0.263526 -0.002063 -0.195236  26.401440  0.000000e+00   \n",
       "\n",
       "       hour_cos   weekday_sin  weekday_cos  \n",
       "37369  1.000000 -2.449294e-16          1.0  \n",
       "37370  0.962917 -2.449294e-16          1.0  \n",
       "37371  0.854419 -2.449294e-16          1.0  \n",
       "37372  0.682553 -2.449294e-16          1.0  \n",
       "37373  0.460065 -2.449294e-16          1.0  \n",
       "...         ...           ...          ...  \n",
       "37485  0.682553  1.224647e-16         -1.0  \n",
       "37486  0.854419  1.224647e-16         -1.0  \n",
       "37487  0.962917  1.224647e-16         -1.0  \n",
       "37488  1.000000  1.224647e-16         -1.0  \n",
       "37489  1.000000 -8.660254e-01         -0.5  \n",
       "\n",
       "[121 rows x 39 columns]"
      ]
     },
     "execution_count": 48,
     "metadata": {},
     "output_type": "execute_result"
    }
   ],
   "source": [
    "triple_barrier_subset"
   ]
  },
  {
   "cell_type": "code",
   "execution_count": 50,
   "metadata": {},
   "outputs": [
    {
     "data": {
      "application/vnd.plotly.v1+json": {
       "config": {
        "plotlyServerURL": "https://plot.ly"
       },
       "data": [
        {
         "close": [
          42632.32,
          42767.23,
          42833.03,
          42785.72,
          42740.86,
          42656.7,
          42785.32,
          42633.59,
          42642.54,
          42523.95,
          42530,
          42680.36,
          42590,
          42575.53,
          42698.38,
          42747.47,
          42784.43,
          43103.62,
          43107.6,
          43235.77,
          43101.23,
          42706,
          42111.94,
          42158.85,
          42303.26,
          42159.32,
          41929.34,
          42111.22,
          42259.43,
          42287.6,
          42250,
          42305.75,
          42200,
          41416.22,
          41595.99,
          41067.63,
          41145.46,
          41141.13,
          40803.87,
          40581.51,
          40764.79,
          40459.07,
          40509.98,
          39985.33,
          39838.26,
          39395.29,
          39766.39,
          39530.45,
          39544.31,
          39504.54,
          39490,
          39747.13,
          39921.19,
          40105.78,
          39935.23,
          40183.97,
          40182.03,
          40212.26,
          40149.99,
          40378,
          40618.37,
          40401.03,
          39990.39,
          40179.13,
          40097.23,
          40014.72,
          39667.85,
          39303.1,
          39519.99,
          39693.79,
          39827.96,
          40074.94,
          39936.17,
          39882.9,
          40059.14,
          40076.05,
          40134.51,
          40187.9,
          39958.45,
          40130,
          40162.32,
          40079.99,
          39808.11,
          39722.64,
          39700.01,
          40521.75,
          40642.1,
          41158.18,
          41005.58,
          41043.91,
          41363.01,
          41059.3,
          41241.16,
          41219.72,
          41279.05,
          41147.79,
          41186.23,
          41470.01,
          41419.99,
          41320,
          41290.81,
          41308.44,
          41195.39,
          41271.66,
          41172.72,
          41186.69,
          40946.47,
          40919.99,
          41149.98,
          40605.62,
          40435.04,
          39964.02,
          39951.1,
          39986.83,
          39659,
          39775.82,
          39909.99,
          39970,
          39843.71,
          39942.38,
          39859.99
         ],
         "high": [
          42776.62,
          42786.02,
          42896.64,
          42891.91,
          42791.24,
          42799,
          42793.21,
          42796.01,
          42716.75,
          42655.94,
          42563.62,
          42715.84,
          42850,
          42663.68,
          42748.08,
          42776.77,
          42799,
          43310.15,
          43258.83,
          43290,
          43410.3,
          43198.2,
          42740.88,
          42434.51,
          42394.71,
          42414.71,
          42225.77,
          42148.69,
          42283.45,
          42312.75,
          42340.09,
          42350.29,
          42350,
          42202.79,
          41646.55,
          41595.99,
          41246.61,
          41184,
          41220.9,
          40989.99,
          40832.55,
          40896.83,
          40520.45,
          40598.43,
          40269.6,
          39916.45,
          39978.62,
          39840.39,
          39852.95,
          39727.8,
          39550.48,
          39750.01,
          39950,
          40145,
          40186.36,
          40196.39,
          40344.6,
          40245.48,
          40273.24,
          40464,
          40699,
          40627.48,
          40436.31,
          40370,
          40376.8,
          40227.03,
          40056.52,
          39721.7,
          39597.94,
          39750.15,
          39927,
          40289.02,
          40189,
          39936.17,
          40189.27,
          40275,
          40142.6,
          40211.9,
          40228.41,
          40226.07,
          40200.03,
          40212.75,
          40142.11,
          39990,
          39935.3,
          40569.99,
          40957,
          41411,
          41347.69,
          41141.57,
          41374.2,
          41561.31,
          41319.86,
          41337,
          41404.58,
          41340,
          41272.19,
          41500,
          41473.24,
          41450,
          41413.11,
          41343.62,
          41332.7,
          41360,
          41324.93,
          41218.7,
          41225,
          41070.76,
          41186.9,
          41300,
          40659.82,
          40483.66,
          40069,
          40060.05,
          40028.94,
          39847.79,
          39910,
          40000,
          40017.26,
          39946.94,
          40180
         ],
         "low": [
          42591,
          42597.9,
          42731.1,
          42775.74,
          42706.35,
          42650,
          42645.5,
          42575.4,
          42564.2,
          42489.01,
          42433.49,
          42517.01,
          42525,
          42525.44,
          42541.5,
          42650.02,
          42659.64,
          42784.43,
          43080,
          43075,
          43101.19,
          42654.93,
          41868,
          41980.28,
          41755,
          42153.06,
          41800,
          41828.74,
          42084.56,
          42183.5,
          42153.8,
          42161.45,
          42079.56,
          41392.8,
          41215,
          40968.11,
          40916.01,
          40684.8,
          40716.37,
          40560,
          40485.12,
          40250,
          40238,
          39770.35,
          39500,
          39275.68,
          39200,
          39372.35,
          39357.64,
          39408.16,
          39290,
          39478.73,
          39624.71,
          39870.71,
          39834.98,
          39866.31,
          40108.31,
          40016.09,
          40094.66,
          40105,
          40196.48,
          40154.99,
          39800,
          39959.21,
          39922.98,
          39940.02,
          39632,
          39261.39,
          39254.63,
          39473.91,
          39555.51,
          39819,
          39892.43,
          39588.54,
          39706.19,
          40013.79,
          39931.51,
          40063.51,
          39858.34,
          39910.07,
          40005,
          40029.86,
          39728.59,
          39656.1,
          39648.78,
          39622.87,
          40365,
          40640,
          40938.14,
          40829,
          40990.62,
          41024.49,
          41000,
          41080.01,
          41151.71,
          41075.04,
          41064.35,
          41177.94,
          41347.58,
          41271.08,
          41230.56,
          41242.97,
          41161.12,
          41156.9,
          41165,
          40973.51,
          40941.69,
          40851.5,
          40873.66,
          40516.48,
          40310.41,
          39925.21,
          39772.58,
          39842,
          39626.06,
          39551.94,
          39662.46,
          39861.31,
          39806.25,
          39828.95,
          39766.4
         ],
         "open": [
          42753.96,
          42632.31,
          42767.22,
          42833.03,
          42785.72,
          42740.86,
          42656.7,
          42785.33,
          42633.59,
          42642.55,
          42523.94,
          42530,
          42680.35,
          42589.99,
          42575.54,
          42698.38,
          42747.48,
          42784.43,
          43103.61,
          43107.61,
          43235.77,
          43101.23,
          42706.71,
          42111.93,
          42158.85,
          42303.26,
          42159.32,
          41929.33,
          42111.21,
          42259.44,
          42287.61,
          42249.99,
          42305.74,
          42200,
          41416.22,
          41595.98,
          41067.64,
          41145.45,
          41141.13,
          40803.86,
          40581.52,
          40764.79,
          40459.07,
          40509.97,
          39985.34,
          39838.26,
          39395.29,
          39766.39,
          39530.45,
          39544.32,
          39504.54,
          39489.99,
          39747.14,
          39921.18,
          40105.78,
          39935.24,
          40183.97,
          40182.02,
          40212.25,
          40150,
          40378,
          40618.37,
          40401.03,
          39990.38,
          40179.12,
          40097.23,
          40014.71,
          39667.85,
          39303.1,
          39519.99,
          39693.8,
          39827.97,
          40074.95,
          39936.17,
          39882.9,
          40059.15,
          40076.05,
          40134.5,
          40187.89,
          39958.44,
          40129.99,
          40162.32,
          40080,
          39808.1,
          39722.63,
          39700.01,
          40521.75,
          40642.1,
          41158.18,
          41005.59,
          41043.91,
          41363.01,
          41059.31,
          41241.17,
          41219.73,
          41279.04,
          41147.78,
          41186.22,
          41470,
          41420,
          41320,
          41290.81,
          41308.45,
          41195.39,
          41271.66,
          41172.72,
          41186.7,
          40946.47,
          40919.99,
          41149.98,
          40605.63,
          40435.03,
          39964.01,
          39951.11,
          39986.84,
          39658.99,
          39775.81,
          39909.99,
          39969.99,
          39843.71,
          39942.37
         ],
         "showlegend": false,
         "type": "candlestick",
         "x": [
          "2022-04-10T00:00:00",
          "2022-04-10T01:00:00",
          "2022-04-10T02:00:00",
          "2022-04-10T03:00:00",
          "2022-04-10T04:00:00",
          "2022-04-10T05:00:00",
          "2022-04-10T06:00:00",
          "2022-04-10T07:00:00",
          "2022-04-10T08:00:00",
          "2022-04-10T09:00:00",
          "2022-04-10T10:00:00",
          "2022-04-10T11:00:00",
          "2022-04-10T12:00:00",
          "2022-04-10T13:00:00",
          "2022-04-10T14:00:00",
          "2022-04-10T15:00:00",
          "2022-04-10T16:00:00",
          "2022-04-10T17:00:00",
          "2022-04-10T18:00:00",
          "2022-04-10T19:00:00",
          "2022-04-10T20:00:00",
          "2022-04-10T21:00:00",
          "2022-04-10T22:00:00",
          "2022-04-10T23:00:00",
          "2022-04-11T00:00:00",
          "2022-04-11T01:00:00",
          "2022-04-11T02:00:00",
          "2022-04-11T03:00:00",
          "2022-04-11T04:00:00",
          "2022-04-11T05:00:00",
          "2022-04-11T06:00:00",
          "2022-04-11T07:00:00",
          "2022-04-11T08:00:00",
          "2022-04-11T09:00:00",
          "2022-04-11T10:00:00",
          "2022-04-11T11:00:00",
          "2022-04-11T12:00:00",
          "2022-04-11T13:00:00",
          "2022-04-11T14:00:00",
          "2022-04-11T15:00:00",
          "2022-04-11T16:00:00",
          "2022-04-11T17:00:00",
          "2022-04-11T18:00:00",
          "2022-04-11T19:00:00",
          "2022-04-11T20:00:00",
          "2022-04-11T21:00:00",
          "2022-04-11T22:00:00",
          "2022-04-11T23:00:00",
          "2022-04-12T00:00:00",
          "2022-04-12T01:00:00",
          "2022-04-12T02:00:00",
          "2022-04-12T03:00:00",
          "2022-04-12T04:00:00",
          "2022-04-12T05:00:00",
          "2022-04-12T06:00:00",
          "2022-04-12T07:00:00",
          "2022-04-12T08:00:00",
          "2022-04-12T09:00:00",
          "2022-04-12T10:00:00",
          "2022-04-12T11:00:00",
          "2022-04-12T12:00:00",
          "2022-04-12T13:00:00",
          "2022-04-12T14:00:00",
          "2022-04-12T15:00:00",
          "2022-04-12T16:00:00",
          "2022-04-12T17:00:00",
          "2022-04-12T18:00:00",
          "2022-04-12T19:00:00",
          "2022-04-12T20:00:00",
          "2022-04-12T21:00:00",
          "2022-04-12T22:00:00",
          "2022-04-12T23:00:00",
          "2022-04-13T00:00:00",
          "2022-04-13T01:00:00",
          "2022-04-13T02:00:00",
          "2022-04-13T03:00:00",
          "2022-04-13T04:00:00",
          "2022-04-13T05:00:00",
          "2022-04-13T06:00:00",
          "2022-04-13T07:00:00",
          "2022-04-13T08:00:00",
          "2022-04-13T09:00:00",
          "2022-04-13T10:00:00",
          "2022-04-13T11:00:00",
          "2022-04-13T12:00:00",
          "2022-04-13T13:00:00",
          "2022-04-13T14:00:00",
          "2022-04-13T15:00:00",
          "2022-04-13T16:00:00",
          "2022-04-13T17:00:00",
          "2022-04-13T18:00:00",
          "2022-04-13T19:00:00",
          "2022-04-13T20:00:00",
          "2022-04-13T21:00:00",
          "2022-04-13T22:00:00",
          "2022-04-13T23:00:00",
          "2022-04-14T00:00:00",
          "2022-04-14T01:00:00",
          "2022-04-14T02:00:00",
          "2022-04-14T03:00:00",
          "2022-04-14T04:00:00",
          "2022-04-14T05:00:00",
          "2022-04-14T06:00:00",
          "2022-04-14T07:00:00",
          "2022-04-14T08:00:00",
          "2022-04-14T09:00:00",
          "2022-04-14T10:00:00",
          "2022-04-14T11:00:00",
          "2022-04-14T12:00:00",
          "2022-04-14T13:00:00",
          "2022-04-14T14:00:00",
          "2022-04-14T15:00:00",
          "2022-04-14T16:00:00",
          "2022-04-14T17:00:00",
          "2022-04-14T18:00:00",
          "2022-04-14T19:00:00",
          "2022-04-14T20:00:00",
          "2022-04-14T21:00:00",
          "2022-04-14T22:00:00",
          "2022-04-14T23:00:00",
          "2022-04-15T00:00:00"
         ]
        }
       ],
       "layout": {
        "height": 600,
        "paper_bgcolor": "white",
        "plot_bgcolor": "white",
        "shapes": [
         {
          "layer": "above",
          "line": {
           "color": "blue",
           "dash": "dashdot",
           "width": 1.5
          },
          "type": "rect",
          "x0": "2022-04-13T05:00:00",
          "x1": "2022-04-14T05:00:00",
          "y0": 39183.2025,
          "y1": 41192.5975
         }
        ],
        "template": {
         "data": {
          "bar": [
           {
            "error_x": {
             "color": "#2a3f5f"
            },
            "error_y": {
             "color": "#2a3f5f"
            },
            "marker": {
             "line": {
              "color": "#E5ECF6",
              "width": 0.5
             },
             "pattern": {
              "fillmode": "overlay",
              "size": 10,
              "solidity": 0.2
             }
            },
            "type": "bar"
           }
          ],
          "barpolar": [
           {
            "marker": {
             "line": {
              "color": "#E5ECF6",
              "width": 0.5
             },
             "pattern": {
              "fillmode": "overlay",
              "size": 10,
              "solidity": 0.2
             }
            },
            "type": "barpolar"
           }
          ],
          "carpet": [
           {
            "aaxis": {
             "endlinecolor": "#2a3f5f",
             "gridcolor": "white",
             "linecolor": "white",
             "minorgridcolor": "white",
             "startlinecolor": "#2a3f5f"
            },
            "baxis": {
             "endlinecolor": "#2a3f5f",
             "gridcolor": "white",
             "linecolor": "white",
             "minorgridcolor": "white",
             "startlinecolor": "#2a3f5f"
            },
            "type": "carpet"
           }
          ],
          "choropleth": [
           {
            "colorbar": {
             "outlinewidth": 0,
             "ticks": ""
            },
            "type": "choropleth"
           }
          ],
          "contour": [
           {
            "colorbar": {
             "outlinewidth": 0,
             "ticks": ""
            },
            "colorscale": [
             [
              0,
              "#0d0887"
             ],
             [
              0.1111111111111111,
              "#46039f"
             ],
             [
              0.2222222222222222,
              "#7201a8"
             ],
             [
              0.3333333333333333,
              "#9c179e"
             ],
             [
              0.4444444444444444,
              "#bd3786"
             ],
             [
              0.5555555555555556,
              "#d8576b"
             ],
             [
              0.6666666666666666,
              "#ed7953"
             ],
             [
              0.7777777777777778,
              "#fb9f3a"
             ],
             [
              0.8888888888888888,
              "#fdca26"
             ],
             [
              1,
              "#f0f921"
             ]
            ],
            "type": "contour"
           }
          ],
          "contourcarpet": [
           {
            "colorbar": {
             "outlinewidth": 0,
             "ticks": ""
            },
            "type": "contourcarpet"
           }
          ],
          "heatmap": [
           {
            "colorbar": {
             "outlinewidth": 0,
             "ticks": ""
            },
            "colorscale": [
             [
              0,
              "#0d0887"
             ],
             [
              0.1111111111111111,
              "#46039f"
             ],
             [
              0.2222222222222222,
              "#7201a8"
             ],
             [
              0.3333333333333333,
              "#9c179e"
             ],
             [
              0.4444444444444444,
              "#bd3786"
             ],
             [
              0.5555555555555556,
              "#d8576b"
             ],
             [
              0.6666666666666666,
              "#ed7953"
             ],
             [
              0.7777777777777778,
              "#fb9f3a"
             ],
             [
              0.8888888888888888,
              "#fdca26"
             ],
             [
              1,
              "#f0f921"
             ]
            ],
            "type": "heatmap"
           }
          ],
          "heatmapgl": [
           {
            "colorbar": {
             "outlinewidth": 0,
             "ticks": ""
            },
            "colorscale": [
             [
              0,
              "#0d0887"
             ],
             [
              0.1111111111111111,
              "#46039f"
             ],
             [
              0.2222222222222222,
              "#7201a8"
             ],
             [
              0.3333333333333333,
              "#9c179e"
             ],
             [
              0.4444444444444444,
              "#bd3786"
             ],
             [
              0.5555555555555556,
              "#d8576b"
             ],
             [
              0.6666666666666666,
              "#ed7953"
             ],
             [
              0.7777777777777778,
              "#fb9f3a"
             ],
             [
              0.8888888888888888,
              "#fdca26"
             ],
             [
              1,
              "#f0f921"
             ]
            ],
            "type": "heatmapgl"
           }
          ],
          "histogram": [
           {
            "marker": {
             "pattern": {
              "fillmode": "overlay",
              "size": 10,
              "solidity": 0.2
             }
            },
            "type": "histogram"
           }
          ],
          "histogram2d": [
           {
            "colorbar": {
             "outlinewidth": 0,
             "ticks": ""
            },
            "colorscale": [
             [
              0,
              "#0d0887"
             ],
             [
              0.1111111111111111,
              "#46039f"
             ],
             [
              0.2222222222222222,
              "#7201a8"
             ],
             [
              0.3333333333333333,
              "#9c179e"
             ],
             [
              0.4444444444444444,
              "#bd3786"
             ],
             [
              0.5555555555555556,
              "#d8576b"
             ],
             [
              0.6666666666666666,
              "#ed7953"
             ],
             [
              0.7777777777777778,
              "#fb9f3a"
             ],
             [
              0.8888888888888888,
              "#fdca26"
             ],
             [
              1,
              "#f0f921"
             ]
            ],
            "type": "histogram2d"
           }
          ],
          "histogram2dcontour": [
           {
            "colorbar": {
             "outlinewidth": 0,
             "ticks": ""
            },
            "colorscale": [
             [
              0,
              "#0d0887"
             ],
             [
              0.1111111111111111,
              "#46039f"
             ],
             [
              0.2222222222222222,
              "#7201a8"
             ],
             [
              0.3333333333333333,
              "#9c179e"
             ],
             [
              0.4444444444444444,
              "#bd3786"
             ],
             [
              0.5555555555555556,
              "#d8576b"
             ],
             [
              0.6666666666666666,
              "#ed7953"
             ],
             [
              0.7777777777777778,
              "#fb9f3a"
             ],
             [
              0.8888888888888888,
              "#fdca26"
             ],
             [
              1,
              "#f0f921"
             ]
            ],
            "type": "histogram2dcontour"
           }
          ],
          "mesh3d": [
           {
            "colorbar": {
             "outlinewidth": 0,
             "ticks": ""
            },
            "type": "mesh3d"
           }
          ],
          "parcoords": [
           {
            "line": {
             "colorbar": {
              "outlinewidth": 0,
              "ticks": ""
             }
            },
            "type": "parcoords"
           }
          ],
          "pie": [
           {
            "automargin": true,
            "type": "pie"
           }
          ],
          "scatter": [
           {
            "fillpattern": {
             "fillmode": "overlay",
             "size": 10,
             "solidity": 0.2
            },
            "type": "scatter"
           }
          ],
          "scatter3d": [
           {
            "line": {
             "colorbar": {
              "outlinewidth": 0,
              "ticks": ""
             }
            },
            "marker": {
             "colorbar": {
              "outlinewidth": 0,
              "ticks": ""
             }
            },
            "type": "scatter3d"
           }
          ],
          "scattercarpet": [
           {
            "marker": {
             "colorbar": {
              "outlinewidth": 0,
              "ticks": ""
             }
            },
            "type": "scattercarpet"
           }
          ],
          "scattergeo": [
           {
            "marker": {
             "colorbar": {
              "outlinewidth": 0,
              "ticks": ""
             }
            },
            "type": "scattergeo"
           }
          ],
          "scattergl": [
           {
            "marker": {
             "colorbar": {
              "outlinewidth": 0,
              "ticks": ""
             }
            },
            "type": "scattergl"
           }
          ],
          "scattermapbox": [
           {
            "marker": {
             "colorbar": {
              "outlinewidth": 0,
              "ticks": ""
             }
            },
            "type": "scattermapbox"
           }
          ],
          "scatterpolar": [
           {
            "marker": {
             "colorbar": {
              "outlinewidth": 0,
              "ticks": ""
             }
            },
            "type": "scatterpolar"
           }
          ],
          "scatterpolargl": [
           {
            "marker": {
             "colorbar": {
              "outlinewidth": 0,
              "ticks": ""
             }
            },
            "type": "scatterpolargl"
           }
          ],
          "scatterternary": [
           {
            "marker": {
             "colorbar": {
              "outlinewidth": 0,
              "ticks": ""
             }
            },
            "type": "scatterternary"
           }
          ],
          "surface": [
           {
            "colorbar": {
             "outlinewidth": 0,
             "ticks": ""
            },
            "colorscale": [
             [
              0,
              "#0d0887"
             ],
             [
              0.1111111111111111,
              "#46039f"
             ],
             [
              0.2222222222222222,
              "#7201a8"
             ],
             [
              0.3333333333333333,
              "#9c179e"
             ],
             [
              0.4444444444444444,
              "#bd3786"
             ],
             [
              0.5555555555555556,
              "#d8576b"
             ],
             [
              0.6666666666666666,
              "#ed7953"
             ],
             [
              0.7777777777777778,
              "#fb9f3a"
             ],
             [
              0.8888888888888888,
              "#fdca26"
             ],
             [
              1,
              "#f0f921"
             ]
            ],
            "type": "surface"
           }
          ],
          "table": [
           {
            "cells": {
             "fill": {
              "color": "#EBF0F8"
             },
             "line": {
              "color": "white"
             }
            },
            "header": {
             "fill": {
              "color": "#C8D4E3"
             },
             "line": {
              "color": "white"
             }
            },
            "type": "table"
           }
          ]
         },
         "layout": {
          "annotationdefaults": {
           "arrowcolor": "#2a3f5f",
           "arrowhead": 0,
           "arrowwidth": 1
          },
          "autotypenumbers": "strict",
          "coloraxis": {
           "colorbar": {
            "outlinewidth": 0,
            "ticks": ""
           }
          },
          "colorscale": {
           "diverging": [
            [
             0,
             "#8e0152"
            ],
            [
             0.1,
             "#c51b7d"
            ],
            [
             0.2,
             "#de77ae"
            ],
            [
             0.3,
             "#f1b6da"
            ],
            [
             0.4,
             "#fde0ef"
            ],
            [
             0.5,
             "#f7f7f7"
            ],
            [
             0.6,
             "#e6f5d0"
            ],
            [
             0.7,
             "#b8e186"
            ],
            [
             0.8,
             "#7fbc41"
            ],
            [
             0.9,
             "#4d9221"
            ],
            [
             1,
             "#276419"
            ]
           ],
           "sequential": [
            [
             0,
             "#0d0887"
            ],
            [
             0.1111111111111111,
             "#46039f"
            ],
            [
             0.2222222222222222,
             "#7201a8"
            ],
            [
             0.3333333333333333,
             "#9c179e"
            ],
            [
             0.4444444444444444,
             "#bd3786"
            ],
            [
             0.5555555555555556,
             "#d8576b"
            ],
            [
             0.6666666666666666,
             "#ed7953"
            ],
            [
             0.7777777777777778,
             "#fb9f3a"
            ],
            [
             0.8888888888888888,
             "#fdca26"
            ],
            [
             1,
             "#f0f921"
            ]
           ],
           "sequentialminus": [
            [
             0,
             "#0d0887"
            ],
            [
             0.1111111111111111,
             "#46039f"
            ],
            [
             0.2222222222222222,
             "#7201a8"
            ],
            [
             0.3333333333333333,
             "#9c179e"
            ],
            [
             0.4444444444444444,
             "#bd3786"
            ],
            [
             0.5555555555555556,
             "#d8576b"
            ],
            [
             0.6666666666666666,
             "#ed7953"
            ],
            [
             0.7777777777777778,
             "#fb9f3a"
            ],
            [
             0.8888888888888888,
             "#fdca26"
            ],
            [
             1,
             "#f0f921"
            ]
           ]
          },
          "colorway": [
           "#636efa",
           "#EF553B",
           "#00cc96",
           "#ab63fa",
           "#FFA15A",
           "#19d3f3",
           "#FF6692",
           "#B6E880",
           "#FF97FF",
           "#FECB52"
          ],
          "font": {
           "color": "#2a3f5f"
          },
          "geo": {
           "bgcolor": "white",
           "lakecolor": "white",
           "landcolor": "#E5ECF6",
           "showlakes": true,
           "showland": true,
           "subunitcolor": "white"
          },
          "hoverlabel": {
           "align": "left"
          },
          "hovermode": "closest",
          "mapbox": {
           "style": "light"
          },
          "paper_bgcolor": "white",
          "plot_bgcolor": "#E5ECF6",
          "polar": {
           "angularaxis": {
            "gridcolor": "white",
            "linecolor": "white",
            "ticks": ""
           },
           "bgcolor": "#E5ECF6",
           "radialaxis": {
            "gridcolor": "white",
            "linecolor": "white",
            "ticks": ""
           }
          },
          "scene": {
           "xaxis": {
            "backgroundcolor": "#E5ECF6",
            "gridcolor": "white",
            "gridwidth": 2,
            "linecolor": "white",
            "showbackground": true,
            "ticks": "",
            "zerolinecolor": "white"
           },
           "yaxis": {
            "backgroundcolor": "#E5ECF6",
            "gridcolor": "white",
            "gridwidth": 2,
            "linecolor": "white",
            "showbackground": true,
            "ticks": "",
            "zerolinecolor": "white"
           },
           "zaxis": {
            "backgroundcolor": "#E5ECF6",
            "gridcolor": "white",
            "gridwidth": 2,
            "linecolor": "white",
            "showbackground": true,
            "ticks": "",
            "zerolinecolor": "white"
           }
          },
          "shapedefaults": {
           "line": {
            "color": "#2a3f5f"
           }
          },
          "ternary": {
           "aaxis": {
            "gridcolor": "white",
            "linecolor": "white",
            "ticks": ""
           },
           "baxis": {
            "gridcolor": "white",
            "linecolor": "white",
            "ticks": ""
           },
           "bgcolor": "#E5ECF6",
           "caxis": {
            "gridcolor": "white",
            "linecolor": "white",
            "ticks": ""
           }
          },
          "title": {
           "x": 0.05
          },
          "xaxis": {
           "automargin": true,
           "gridcolor": "white",
           "linecolor": "white",
           "ticks": "",
           "title": {
            "standoff": 15
           },
           "zerolinecolor": "white",
           "zerolinewidth": 2
          },
          "yaxis": {
           "automargin": true,
           "gridcolor": "white",
           "linecolor": "white",
           "ticks": "",
           "title": {
            "standoff": 15
           },
           "zerolinecolor": "white",
           "zerolinewidth": 2
          }
         }
        },
        "width": 900,
        "xaxis": {
         "gridcolor": "lightgray",
         "linecolor": "lightgray",
         "linewidth": 1,
         "mirror": true,
         "rangeslider": {
          "visible": false
         },
         "showgrid": true
        },
        "yaxis": {
         "gridcolor": "lightgray",
         "linecolor": "gray",
         "linewidth": 1,
         "mirror": true,
         "showgrid": true,
         "showline": true,
         "title": {
          "text": "Price (USD)"
         }
        }
       }
      }
     },
     "metadata": {},
     "output_type": "display_data"
    }
   ],
   "source": [
    "fig =  go.Figure(data=[\n",
    "    go.Candlestick(\n",
    "            x=triple_barrier_subset.datetime,\n",
    "            open=triple_barrier_subset.open,\n",
    "            high=triple_barrier_subset.high,\n",
    "            low=triple_barrier_subset.low,\n",
    "            close=triple_barrier_subset.close,\n",
    "            showlegend=False),\n",
    "])\n",
    "fig.add_shape(\n",
    "    type=\"rect\",\n",
    "    # starting coordinates\n",
    "    x0= datetime.datetime(2022, 4, 13, 5,0,0), y0=39183.20250,\n",
    "    # ending coordinates\n",
    "    x1= datetime.datetime(2022, 4, 14, 5,0,0), y1=41192.59750,\n",
    "    # Make sure the points are on top of the line\n",
    "    layer=\"above\",\n",
    "    # Style it like the axis lines\n",
    "    line=dict(dash=\"dashdot\", color=\"blue\", width=1.5)\n",
    ")\n",
    "\n",
    "fig.update_yaxes(showline=True,\n",
    "            mirror=True,\n",
    "            linewidth=1,\n",
    "            linecolor='gray',\n",
    "            showgrid=True,\n",
    "            gridcolor='lightgray')\n",
    "fig.update_xaxes(\n",
    "                linewidth=1,\n",
    "                linecolor='lightgray',\n",
    "                mirror=True,\n",
    "                showgrid=True,\n",
    "            gridcolor='lightgray')\n",
    "\n",
    "fig.update_yaxes(title_text=\"Price (USD)\")\n",
    "\n",
    "fig.update_layout(# title=\"BTCUSDT: 60-minute OHLCV\",\n",
    "                    paper_bgcolor='white',\n",
    "                    plot_bgcolor='white',\n",
    "                    width=900,\n",
    "                    height=600)\n",
    "\n",
    "\n",
    "    # hide the slide bar\n",
    "fig.update(layout_xaxis_rangeslider_visible=False)\n",
    "pio.write_image(fig,  'triple_barrier' + '.png',scale=3, width=1600, height=800)\n",
    "fig.show()"
   ]
  },
  {
   "cell_type": "code",
   "execution_count": 39,
   "metadata": {},
   "outputs": [],
   "source": [
    "from numpy.fft import fft,ifft\n",
    "import numpy as np\n",
    "\n",
    "def calculate_acf(x):\n",
    "    \"\"\"Calculate the autocorrelation function using fast fourier transform\"\"\"\n",
    "    N = float(len(x))\n",
    "    pow2 = int(2**np.ceil(np.log2(len(x))))\n",
    "    x_new = np.zeros(pow2,float)\n",
    "    x_new[:len(x)] = x\n",
    "    FT = fft(x_new)\n",
    "    acf = (ifft(FT*np.conjugate(FT)).real)/N\n",
    "    acf /= acf.max()\n",
    "    acf = acf[:len(acf)/2]\n",
    "    return acf"
   ]
  },
  {
   "cell_type": "code",
   "execution_count": 55,
   "metadata": {},
   "outputs": [],
   "source": [
    "x = btc_60_min_subset.iloc[0:96]['close'].values"
   ]
  },
  {
   "cell_type": "code",
   "execution_count": 56,
   "metadata": {},
   "outputs": [
    {
     "name": "stdout",
     "output_type": "stream",
     "text": [
      "96.0\n"
     ]
    }
   ],
   "source": [
    "N = float(len(x))\n",
    "print(N)"
   ]
  },
  {
   "cell_type": "code",
   "execution_count": 57,
   "metadata": {},
   "outputs": [
    {
     "name": "stdout",
     "output_type": "stream",
     "text": [
      "128\n"
     ]
    }
   ],
   "source": [
    "pow2 = int(2**np.ceil(np.log2(len(x))))\n",
    "print(pow2)"
   ]
  },
  {
   "cell_type": "code",
   "execution_count": 58,
   "metadata": {},
   "outputs": [
    {
     "name": "stdout",
     "output_type": "stream",
     "text": [
      "[0. 0. 0. 0. 0. 0. 0. 0. 0. 0. 0. 0. 0. 0. 0. 0. 0. 0. 0. 0. 0. 0. 0. 0.\n",
      " 0. 0. 0. 0. 0. 0. 0. 0. 0. 0. 0. 0. 0. 0. 0. 0. 0. 0. 0. 0. 0. 0. 0. 0.\n",
      " 0. 0. 0. 0. 0. 0. 0. 0. 0. 0. 0. 0. 0. 0. 0. 0. 0. 0. 0. 0. 0. 0. 0. 0.\n",
      " 0. 0. 0. 0. 0. 0. 0. 0. 0. 0. 0. 0. 0. 0. 0. 0. 0. 0. 0. 0. 0. 0. 0. 0.\n",
      " 0. 0. 0. 0. 0. 0. 0. 0. 0. 0. 0. 0. 0. 0. 0. 0. 0. 0. 0. 0. 0. 0. 0. 0.\n",
      " 0. 0. 0. 0. 0. 0. 0. 0.]\n"
     ]
    }
   ],
   "source": [
    "x_new = np.zeros(pow2,float)\n",
    "print(x_new)"
   ]
  },
  {
   "cell_type": "code",
   "execution_count": 59,
   "metadata": {},
   "outputs": [
    {
     "name": "stdout",
     "output_type": "stream",
     "text": [
      "[45005.88 45188.86 45220.87 45215.88 45335.34 45375.   45464.26 45276.04\n",
      " 45366.85 45330.2  45072.53 44819.19 44751.   44165.9  44258.99 44168.35\n",
      " 43781.3  43815.28 43837.63 43754.57 43877.45 43845.82 43511.33 43170.47\n",
      " 42894.3  43374.97 43350.91 43294.04 43395.57 43399.99 43380.94 43445.33\n",
      " 43521.92 43457.98 43409.73 43766.74 43554.97 43659.98 43420.69 43331.81\n",
      " 43494.   43657.68 43702.95 43388.92 43567.36 43520.07 43629.73 43444.19\n",
      " 43327.46 43607.61 43615.63 43605.96 43543.02 43654.3  43573.45 43763.52\n",
      " 43700.33 43588.73 43558.51 43298.79 43151.75 42906.67 43750.14 43648.01\n",
      " 43433.71 43004.38 42957.57 42730.84 42798.74 42563.36 42300.99 42252.01\n",
      " 42435.02 42433.4  42180.   42380.   42406.82 42586.04 42440.   42481.09\n",
      " 42463.51 42443.11 42480.56 42445.1  42506.35 42456.86 42460.   42260.77\n",
      " 42445.64 42575.67 42467.82 42511.94 42423.18 42558.06 42543.42 42753.97\n",
      "     0.       0.       0.       0.       0.       0.       0.       0.\n",
      "     0.       0.       0.       0.       0.       0.       0.       0.\n",
      "     0.       0.       0.       0.       0.       0.       0.       0.\n",
      "     0.       0.       0.       0.       0.       0.       0.       0.  ]\n"
     ]
    }
   ],
   "source": [
    "x_new[:len(x)] = x\n",
    "print(x_new)"
   ]
  },
  {
   "cell_type": "code",
   "execution_count": 61,
   "metadata": {},
   "outputs": [
    {
     "name": "stdout",
     "output_type": "stream",
     "text": [
      "[ 4.17014757e+06+0.00000000e+00j -8.22073685e+05-9.36044921e+05j\n",
      "  6.24145043e+04-8.77420352e+05j  3.19780964e+05-2.99461528e+05j\n",
      "  5.31366468e+03-1.69152842e+04j -1.53555977e+05-2.12976466e+05j\n",
      "  4.16413120e+04-2.94906803e+05j  1.42215301e+05-1.11350204e+05j\n",
      "  1.70664369e+03-7.45372848e+03j -7.66161450e+04-1.21333921e+05j\n",
      "  4.27565278e+04-1.75319351e+05j  9.68913849e+04-5.70876667e+04j\n",
      "  3.85587159e+03-3.17251219e+03j -4.24579257e+04-8.86022409e+04j\n",
      "  4.61873428e+04-1.23218095e+05j  7.65914125e+04-3.89467472e+04j\n",
      "  9.61003672e+02-3.24366719e+03j -2.76846611e+04-7.13571021e+04j\n",
      "  4.58849534e+04-9.08306822e+04j  6.44142112e+04-2.56916394e+04j\n",
      "  2.27390068e+03-1.91146363e+03j -1.65096287e+04-6.22519365e+04j\n",
      "  4.27660423e+04-7.22370514e+04j  5.59267011e+04-1.51091191e+04j\n",
      "  1.58789372e+03+1.57001331e+03j -6.23434848e+03-5.49883185e+04j\n",
      "  4.39482120e+04-5.97827501e+04j  4.87853443e+04-8.71119341e+03j\n",
      "  1.81267283e+03+6.04555680e+02j -2.86776508e+03-4.96931087e+04j\n",
      "  4.43454086e+04-4.69072147e+04j  4.51709992e+04-3.39745039e+03j\n",
      "  5.92820000e+02-1.96239000e+03j  1.75264917e+03-4.24020256e+04j\n",
      "  4.33921340e+04-3.94429919e+04j  4.16660595e+04+1.72980881e+03j\n",
      "  1.08032832e+03-1.16472762e+03j  6.42767453e+03-3.99652344e+04j\n",
      "  4.13572621e+04-3.31654194e+04j  3.77793177e+04+6.01498713e+03j\n",
      "  1.54344879e+02+4.40355442e+02j  9.75792371e+03-3.53747840e+04j\n",
      "  4.33641369e+04-2.64969928e+04j  3.51981131e+04+9.66302936e+03j\n",
      "  1.84469665e+03-5.72266391e+02j  1.24587325e+04-3.36791971e+04j\n",
      "  4.37247528e+04-2.13678762e+04j  3.16284676e+04+1.06351700e+04j\n",
      "  1.55736328e+02-1.00212719e+03j  1.37435263e+04-2.93156661e+04j\n",
      "  4.32068123e+04-1.55620947e+04j  3.01228022e+04+1.46865222e+04j\n",
      "  1.56113646e+03-9.08391310e+02j  1.60432075e+04-2.76351498e+04j\n",
      "  4.30805188e+04-1.08897096e+04j  2.83718500e+04+1.67366637e+04j\n",
      "  1.34167770e+03-9.02626345e+02j  1.68375487e+04-2.51930481e+04j\n",
      "  4.53333901e+04-6.74632191e+03j  2.36015887e+04+1.90616935e+04j\n",
      "  1.37164879e+03+2.85156090e+02j  2.04410944e+04-2.22550161e+04j\n",
      "  4.52794096e+04-2.23176794e+03j  2.27027013e+04+2.08609787e+04j\n",
      "  1.39267000e+03+0.00000000e+00j  2.27027013e+04-2.08609787e+04j\n",
      "  4.52794096e+04+2.23176794e+03j  2.04410944e+04+2.22550161e+04j\n",
      "  1.37164879e+03-2.85156090e+02j  2.36015887e+04-1.90616935e+04j\n",
      "  4.53333901e+04+6.74632191e+03j  1.68375487e+04+2.51930481e+04j\n",
      "  1.34167770e+03+9.02626345e+02j  2.83718500e+04-1.67366637e+04j\n",
      "  4.30805188e+04+1.08897096e+04j  1.60432075e+04+2.76351498e+04j\n",
      "  1.56113646e+03+9.08391310e+02j  3.01228022e+04-1.46865222e+04j\n",
      "  4.32068123e+04+1.55620947e+04j  1.37435263e+04+2.93156661e+04j\n",
      "  1.55736328e+02+1.00212719e+03j  3.16284676e+04-1.06351700e+04j\n",
      "  4.37247528e+04+2.13678762e+04j  1.24587325e+04+3.36791971e+04j\n",
      "  1.84469665e+03+5.72266391e+02j  3.51981131e+04-9.66302936e+03j\n",
      "  4.33641369e+04+2.64969928e+04j  9.75792371e+03+3.53747840e+04j\n",
      "  1.54344879e+02-4.40355442e+02j  3.77793177e+04-6.01498713e+03j\n",
      "  4.13572621e+04+3.31654194e+04j  6.42767453e+03+3.99652344e+04j\n",
      "  1.08032832e+03+1.16472762e+03j  4.16660595e+04-1.72980881e+03j\n",
      "  4.33921340e+04+3.94429919e+04j  1.75264917e+03+4.24020256e+04j\n",
      "  5.92820000e+02+1.96239000e+03j  4.51709992e+04+3.39745039e+03j\n",
      "  4.43454086e+04+4.69072147e+04j -2.86776508e+03+4.96931087e+04j\n",
      "  1.81267283e+03-6.04555680e+02j  4.87853443e+04+8.71119341e+03j\n",
      "  4.39482120e+04+5.97827501e+04j -6.23434848e+03+5.49883185e+04j\n",
      "  1.58789372e+03-1.57001331e+03j  5.59267011e+04+1.51091191e+04j\n",
      "  4.27660423e+04+7.22370514e+04j -1.65096287e+04+6.22519365e+04j\n",
      "  2.27390068e+03+1.91146363e+03j  6.44142112e+04+2.56916394e+04j\n",
      "  4.58849534e+04+9.08306822e+04j -2.76846611e+04+7.13571021e+04j\n",
      "  9.61003672e+02+3.24366719e+03j  7.65914125e+04+3.89467472e+04j\n",
      "  4.61873428e+04+1.23218095e+05j -4.24579257e+04+8.86022409e+04j\n",
      "  3.85587159e+03+3.17251219e+03j  9.68913849e+04+5.70876667e+04j\n",
      "  4.27565278e+04+1.75319351e+05j -7.66161450e+04+1.21333921e+05j\n",
      "  1.70664369e+03+7.45372848e+03j  1.42215301e+05+1.11350204e+05j\n",
      "  4.16413120e+04+2.94906803e+05j -1.53555977e+05+2.12976466e+05j\n",
      "  5.31366468e+03+1.69152842e+04j  3.19780964e+05+2.99461528e+05j\n",
      "  6.24145043e+04+8.77420352e+05j -8.22073685e+05+9.36044921e+05j]\n",
      "(128,)\n"
     ]
    }
   ],
   "source": [
    "FT = fft(x_new)\n",
    "print(FT)\n",
    "print(FT.shape)"
   ]
  },
  {
   "cell_type": "code",
   "execution_count": 65,
   "metadata": {},
   "outputs": [
    {
     "name": "stdout",
     "output_type": "stream",
     "text": [
      "[1.88770459e+09 1.86761560e+09 1.84753758e+09 1.82743833e+09\n",
      " 1.80740454e+09 1.78727095e+09 1.76713584e+09 1.74690809e+09\n",
      " 1.72682444e+09 1.70678623e+09 1.68667096e+09 1.66667738e+09\n",
      " 1.64677837e+09 1.62694552e+09 1.60736605e+09 1.58775914e+09\n",
      " 1.56818896e+09 1.54879202e+09 1.52939701e+09 1.50992840e+09\n",
      " 1.49058532e+09 1.47119360e+09 1.45190483e+09 1.43265901e+09\n",
      " 1.41357230e+09 1.39469919e+09 1.37558262e+09 1.35635968e+09\n",
      " 1.33705190e+09 1.31773056e+09 1.29830830e+09 1.27887714e+09\n",
      " 1.25922057e+09 1.25947854e+09 1.25970274e+09 1.26034817e+09\n",
      " 1.26065059e+09 1.26108201e+09 1.26134085e+09 1.26178982e+09\n",
      " 1.26209225e+09 1.26224534e+09 1.26248169e+09 1.26254387e+09\n",
      " 1.26271131e+09 1.26270607e+09 1.26247381e+09 1.26222123e+09\n",
      " 1.26214505e+09 1.26190322e+09 1.26144616e+09 1.26111279e+09\n",
      " 1.26064041e+09 1.26031811e+09 1.25969669e+09 1.25909478e+09\n",
      " 1.25832920e+09 1.25745601e+09 1.25683058e+09 1.25622116e+09\n",
      " 1.25586778e+09 1.25550111e+09 1.25551530e+09 1.25513071e+09\n",
      " 1.25499525e+09 1.25513071e+09 1.25551530e+09 1.25550111e+09\n",
      " 1.25586778e+09 1.25622116e+09 1.25683058e+09 1.25745601e+09\n",
      " 1.25832920e+09 1.25909478e+09 1.25969669e+09 1.26031811e+09\n",
      " 1.26064041e+09 1.26111279e+09 1.26144616e+09 1.26190322e+09\n",
      " 1.26214505e+09 1.26222123e+09 1.26247381e+09 1.26270607e+09\n",
      " 1.26271131e+09 1.26254387e+09 1.26248169e+09 1.26224534e+09\n",
      " 1.26209225e+09 1.26178982e+09 1.26134085e+09 1.26108201e+09\n",
      " 1.26065059e+09 1.26034817e+09 1.25970274e+09 1.25947854e+09\n",
      " 1.25922057e+09 1.27887714e+09 1.29830830e+09 1.31773056e+09\n",
      " 1.33705190e+09 1.35635968e+09 1.37558262e+09 1.39469919e+09\n",
      " 1.41357230e+09 1.43265901e+09 1.45190483e+09 1.47119360e+09\n",
      " 1.49058532e+09 1.50992840e+09 1.52939701e+09 1.54879202e+09\n",
      " 1.56818896e+09 1.58775914e+09 1.60736605e+09 1.62694552e+09\n",
      " 1.64677837e+09 1.66667738e+09 1.68667096e+09 1.70678623e+09\n",
      " 1.72682444e+09 1.74690809e+09 1.76713584e+09 1.78727095e+09\n",
      " 1.80740454e+09 1.82743833e+09 1.84753758e+09 1.86761560e+09]\n",
      "(128,)\n"
     ]
    }
   ],
   "source": [
    "acf = (ifft(FT*np.conjugate(FT)).real)/N\n",
    "print(acf)\n",
    "print(acf.shape)"
   ]
  },
  {
   "cell_type": "code",
   "execution_count": 66,
   "metadata": {},
   "outputs": [
    {
     "data": {
      "text/plain": [
       "array([1.        , 0.98935798, 0.97872177, 0.96807432, 0.95746154,\n",
       "       0.94679589, 0.93612944, 0.92541391, 0.91477472, 0.9041596 ,\n",
       "       0.89350366, 0.88291218, 0.8723708 , 0.86186447, 0.85149237,\n",
       "       0.84110572, 0.83073854, 0.82046313, 0.81018874, 0.79987536,\n",
       "       0.78962849, 0.77935584, 0.76913773, 0.75894238, 0.74883131,\n",
       "       0.7388334 , 0.72870651, 0.71852327, 0.7082951 , 0.69805973,\n",
       "       0.68777091, 0.67747737, 0.66706442, 0.66720108, 0.66731985,\n",
       "       0.66766176, 0.66782196, 0.66805051, 0.66818762, 0.66842546,\n",
       "       0.66858568, 0.66866678, 0.66879198, 0.66882492, 0.66891362,\n",
       "       0.66891085, 0.6687878 , 0.668654  , 0.66861365, 0.66848554,\n",
       "       0.66824341, 0.66806681, 0.66781657, 0.66764584, 0.66731664,\n",
       "       0.66699778, 0.66659223, 0.66612966, 0.66579834, 0.6654755 ,\n",
       "       0.6652883 , 0.66509406, 0.66510158, 0.66489784, 0.66482609,\n",
       "       0.66489784, 0.66510158, 0.66509406, 0.6652883 , 0.6654755 ,\n",
       "       0.66579834, 0.66612966, 0.66659223, 0.66699778, 0.66731664,\n",
       "       0.66764584, 0.66781657, 0.66806681, 0.66824341, 0.66848554,\n",
       "       0.66861365, 0.668654  , 0.6687878 , 0.66891085, 0.66891362,\n",
       "       0.66882492, 0.66879198, 0.66866678, 0.66858568, 0.66842546,\n",
       "       0.66818762, 0.66805051, 0.66782196, 0.66766176, 0.66731985,\n",
       "       0.66720108, 0.66706442, 0.67747737, 0.68777091, 0.69805973,\n",
       "       0.7082951 , 0.71852327, 0.72870651, 0.7388334 , 0.74883131,\n",
       "       0.75894238, 0.76913773, 0.77935584, 0.78962849, 0.79987536,\n",
       "       0.81018874, 0.82046313, 0.83073854, 0.84110572, 0.85149237,\n",
       "       0.86186447, 0.8723708 , 0.88291218, 0.89350366, 0.9041596 ,\n",
       "       0.91477472, 0.92541391, 0.93612944, 0.94679589, 0.95746154,\n",
       "       0.96807432, 0.97872177, 0.98935798])"
      ]
     },
     "execution_count": 66,
     "metadata": {},
     "output_type": "execute_result"
    }
   ],
   "source": [
    "acf /= acf.max()\n",
    "acf"
   ]
  },
  {
   "cell_type": "code",
   "execution_count": 67,
   "metadata": {},
   "outputs": [
    {
     "ename": "TypeError",
     "evalue": "slice indices must be integers or None or have an __index__ method",
     "output_type": "error",
     "traceback": [
      "\u001b[0;31m---------------------------------------------------------------------------\u001b[0m",
      "\u001b[0;31mTypeError\u001b[0m                                 Traceback (most recent call last)",
      "\u001b[1;32m/Users/i0495036/Documents/sandbox/ml_investing_wne/src/ml_investing_wne/notebooks/charts.ipynb Cell 70\u001b[0m line \u001b[0;36m1\n\u001b[0;32m----> <a href='vscode-notebook-cell:/Users/i0495036/Documents/sandbox/ml_investing_wne/src/ml_investing_wne/notebooks/charts.ipynb#Y131sZmlsZQ%3D%3D?line=0'>1</a>\u001b[0m acf[:\u001b[39mlen\u001b[39;49m(acf)\u001b[39m/\u001b[39;49m\u001b[39m2\u001b[39;49m]\n",
      "\u001b[0;31mTypeError\u001b[0m: slice indices must be integers or None or have an __index__ method"
     ]
    }
   ],
   "source": [
    "acf[:len(acf)/2]\n"
   ]
  },
  {
   "cell_type": "code",
   "execution_count": 68,
   "metadata": {},
   "outputs": [
    {
     "data": {
      "text/plain": [
       "128"
      ]
     },
     "execution_count": 68,
     "metadata": {},
     "output_type": "execute_result"
    }
   ],
   "source": [
    "len(acf)"
   ]
  },
  {
   "cell_type": "code",
   "execution_count": 69,
   "metadata": {},
   "outputs": [
    {
     "data": {
      "text/plain": [
       "array([1.        , 0.98935798, 0.97872177, 0.96807432, 0.95746154,\n",
       "       0.94679589, 0.93612944, 0.92541391, 0.91477472, 0.9041596 ,\n",
       "       0.89350366, 0.88291218, 0.8723708 , 0.86186447, 0.85149237,\n",
       "       0.84110572, 0.83073854, 0.82046313, 0.81018874, 0.79987536,\n",
       "       0.78962849, 0.77935584, 0.76913773, 0.75894238, 0.74883131,\n",
       "       0.7388334 , 0.72870651, 0.71852327, 0.7082951 , 0.69805973,\n",
       "       0.68777091, 0.67747737, 0.66706442, 0.66720108, 0.66731985,\n",
       "       0.66766176, 0.66782196, 0.66805051, 0.66818762, 0.66842546,\n",
       "       0.66858568, 0.66866678, 0.66879198, 0.66882492, 0.66891362,\n",
       "       0.66891085, 0.6687878 , 0.668654  , 0.66861365, 0.66848554,\n",
       "       0.66824341, 0.66806681, 0.66781657, 0.66764584, 0.66731664,\n",
       "       0.66699778, 0.66659223, 0.66612966, 0.66579834, 0.6654755 ,\n",
       "       0.6652883 , 0.66509406, 0.66510158, 0.66489784])"
      ]
     },
     "execution_count": 69,
     "metadata": {},
     "output_type": "execute_result"
    }
   ],
   "source": [
    "acf[:64]"
   ]
  },
  {
   "cell_type": "code",
   "execution_count": 73,
   "metadata": {},
   "outputs": [],
   "source": [
    "num_features = 5\n",
    "num_time_steps = 10\n",
    "num_units = 2"
   ]
  },
  {
   "cell_type": "code",
   "execution_count": 71,
   "metadata": {},
   "outputs": [
    {
     "name": "stdout",
     "output_type": "stream",
     "text": [
      "Metal device set to: Apple M1 Pro\n",
      "\n",
      "systemMemory: 16.00 GB\n",
      "maxCacheSize: 5.33 GB\n",
      "\n"
     ]
    },
    {
     "data": {
      "text/plain": [
       "<tf.Tensor: shape=(10, 5), dtype=float32, numpy=\n",
       "array([[ 0.752128  ,  0.58190143, -0.85806507,  0.83843315,  0.4434809 ],\n",
       "       [ 0.45494288, -0.48045647, -0.6309235 ,  0.1607992 ,  1.631469  ],\n",
       "       [ 0.23049983,  1.0528619 ,  0.5287202 , -0.41238347,  0.34228382],\n",
       "       [-0.10912318, -0.3351543 , -0.71351576, -1.8900998 ,  0.09756958],\n",
       "       [ 0.8339692 ,  2.1634748 , -2.4662013 , -2.4128075 ,  1.0765666 ],\n",
       "       [-1.565686  ,  0.7204284 ,  0.27559698,  0.4102806 , -1.36026   ],\n",
       "       [ 0.31963864, -0.7100614 , -1.1758131 , -0.72569275,  0.90928257],\n",
       "       [ 0.8523571 , -1.9354502 ,  0.8790813 , -0.9691846 ,  0.9641668 ],\n",
       "       [-0.18498927,  2.4048433 ,  0.34091362, -1.477502  ,  1.0938154 ],\n",
       "       [ 1.5502012 ,  0.7772661 ,  1.801668  ,  0.212072  ,  0.14870471]],\n",
       "      dtype=float32)>"
      ]
     },
     "execution_count": 71,
     "metadata": {},
     "output_type": "execute_result"
    }
   ],
   "source": [
    "import tensorflow as tf\n",
    "from tensorflow.keras.layers import Input, Dense, Concatenate\n",
    "dummy_data = tf.random.normal((num_time_steps, num_features))\n",
    "dummy_data"
   ]
  },
  {
   "cell_type": "code",
   "execution_count": 72,
   "metadata": {},
   "outputs": [],
   "source": []
  },
  {
   "cell_type": "code",
   "execution_count": 75,
   "metadata": {},
   "outputs": [],
   "source": [
    "def time_mixing_mlp(input_shape, num_units):\n",
    "    # Define a time-mixing MLP shared across all features\n",
    "    inputs = Input(shape=input_shape)\n",
    "    time_mlp = Dense(num_units, activation='relu')(inputs)\n",
    "    return tf.keras.Model(inputs=inputs, outputs=time_mlp)"
   ]
  },
  {
   "cell_type": "code",
   "execution_count": 76,
   "metadata": {},
   "outputs": [],
   "source": [
    "time_mlp_model = time_mixing_mlp((num_features,), num_units)"
   ]
  },
  {
   "cell_type": "code",
   "execution_count": 77,
   "metadata": {},
   "outputs": [],
   "source": [
    "output = time_mlp_model(dummy_data)"
   ]
  },
  {
   "cell_type": "code",
   "execution_count": 82,
   "metadata": {},
   "outputs": [
    {
     "data": {
      "text/plain": [
       "[<tf.Variable 'dense_1/kernel:0' shape=(5, 2) dtype=float32, numpy=\n",
       " array([[ 0.72168005,  0.18989992],\n",
       "        [-0.16390973,  0.03801239],\n",
       "        [ 0.5881523 ,  0.74908054],\n",
       "        [ 0.7392732 ,  0.23445809],\n",
       "        [-0.08684462, -0.5995467 ]], dtype=float32)>,\n",
       " <tf.Variable 'dense_1/bias:0' shape=(2,) dtype=float32, numpy=array([0., 0.], dtype=float32)>]"
      ]
     },
     "execution_count": 82,
     "metadata": {},
     "output_type": "execute_result"
    }
   ],
   "source": [
    "time_mlp_model.layers[1].weights"
   ]
  },
  {
   "cell_type": "code",
   "execution_count": 84,
   "metadata": {},
   "outputs": [
    {
     "data": {
      "text/plain": [
       "<tf.Variable 'dense_1/bias:0' shape=(2,) dtype=float32, numpy=array([0., 0.], dtype=float32)>"
      ]
     },
     "execution_count": 84,
     "metadata": {},
     "output_type": "execute_result"
    }
   ],
   "source": [
    "time_mlp_model.layers[1].bias"
   ]
  },
  {
   "cell_type": "code",
   "execution_count": 78,
   "metadata": {},
   "outputs": [
    {
     "data": {
      "text/plain": [
       "<tf.Tensor: shape=(10, 2), dtype=float32, numpy=\n",
       "array([[0.5240607 , 0.        ],\n",
       "       [0.01318581, 0.        ],\n",
       "       [0.        , 0.17794594],\n",
       "       [0.        , 0.        ],\n",
       "       [0.        , 0.        ],\n",
       "       [0.        , 0.8482389 ],\n",
       "       [0.        , 0.        ],\n",
       "       [0.6491771 , 0.        ],\n",
       "       [0.        , 0.        ],\n",
       "       [2.1948678 , 1.6340898 ]], dtype=float32)>"
      ]
     },
     "execution_count": 78,
     "metadata": {},
     "output_type": "execute_result"
    }
   ],
   "source": [
    "output"
   ]
  },
  {
   "cell_type": "code",
   "execution_count": 85,
   "metadata": {},
   "outputs": [
    {
     "data": {
      "text/plain": [
       "0.5240607494471471"
      ]
     },
     "execution_count": 85,
     "metadata": {},
     "output_type": "execute_result"
    }
   ],
   "source": [
    "0.752128 *  0.72168005 + 0.58190143*(-0.16390973) + -0.85806507*0.5881523 +  0.83843315*0.7392732 +  0.4434809 *-0.08684462"
   ]
  },
  {
   "cell_type": "code",
   "execution_count": 86,
   "metadata": {},
   "outputs": [
    {
     "data": {
      "text/plain": [
       "0.013185816805607181"
      ]
     },
     "execution_count": 86,
     "metadata": {},
     "output_type": "execute_result"
    }
   ],
   "source": [
    "0.45494288 *  0.72168005 -0.48045647*(-0.16390973) + -0.6309235*0.5881523 +  0.1607992*0.7392732 + 1.631469 *-0.08684462"
   ]
  },
  {
   "cell_type": "code",
   "execution_count": 87,
   "metadata": {},
   "outputs": [
    {
     "data": {
      "text/html": [
       "<div>\n",
       "<style scoped>\n",
       "    .dataframe tbody tr th:only-of-type {\n",
       "        vertical-align: middle;\n",
       "    }\n",
       "\n",
       "    .dataframe tbody tr th {\n",
       "        vertical-align: top;\n",
       "    }\n",
       "\n",
       "    .dataframe thead th {\n",
       "        text-align: right;\n",
       "    }\n",
       "</style>\n",
       "<table border=\"1\" class=\"dataframe\">\n",
       "  <thead>\n",
       "    <tr style=\"text-align: right;\">\n",
       "      <th></th>\n",
       "      <th>datetime</th>\n",
       "      <th>open</th>\n",
       "      <th>high</th>\n",
       "      <th>low</th>\n",
       "      <th>close</th>\n",
       "      <th>volume</th>\n",
       "    </tr>\n",
       "  </thead>\n",
       "  <tbody>\n",
       "    <tr>\n",
       "      <th>0</th>\n",
       "      <td>2018-01-01 00:00:00</td>\n",
       "      <td>13715.65</td>\n",
       "      <td>13715.65</td>\n",
       "      <td>13681.00</td>\n",
       "      <td>13707.92</td>\n",
       "      <td>2.844266</td>\n",
       "    </tr>\n",
       "    <tr>\n",
       "      <th>1</th>\n",
       "      <td>2018-01-01 00:01:00</td>\n",
       "      <td>13707.91</td>\n",
       "      <td>13707.91</td>\n",
       "      <td>13666.11</td>\n",
       "      <td>13694.92</td>\n",
       "      <td>2.113138</td>\n",
       "    </tr>\n",
       "    <tr>\n",
       "      <th>2</th>\n",
       "      <td>2018-01-01 00:02:00</td>\n",
       "      <td>13682.00</td>\n",
       "      <td>13694.94</td>\n",
       "      <td>13680.00</td>\n",
       "      <td>13680.00</td>\n",
       "      <td>1.346411</td>\n",
       "    </tr>\n",
       "    <tr>\n",
       "      <th>3</th>\n",
       "      <td>2018-01-01 00:03:00</td>\n",
       "      <td>13679.98</td>\n",
       "      <td>13679.98</td>\n",
       "      <td>13601.00</td>\n",
       "      <td>13645.99</td>\n",
       "      <td>11.589417</td>\n",
       "    </tr>\n",
       "    <tr>\n",
       "      <th>4</th>\n",
       "      <td>2018-01-01 00:04:00</td>\n",
       "      <td>13645.98</td>\n",
       "      <td>13646.00</td>\n",
       "      <td>13576.28</td>\n",
       "      <td>13600.00</td>\n",
       "      <td>15.724566</td>\n",
       "    </tr>\n",
       "    <tr>\n",
       "      <th>...</th>\n",
       "      <td>...</td>\n",
       "      <td>...</td>\n",
       "      <td>...</td>\n",
       "      <td>...</td>\n",
       "      <td>...</td>\n",
       "      <td>...</td>\n",
       "    </tr>\n",
       "    <tr>\n",
       "      <th>2934714</th>\n",
       "      <td>2023-07-31 23:54:00</td>\n",
       "      <td>29238.56</td>\n",
       "      <td>29238.57</td>\n",
       "      <td>29238.56</td>\n",
       "      <td>29238.57</td>\n",
       "      <td>1.003730</td>\n",
       "    </tr>\n",
       "    <tr>\n",
       "      <th>2934715</th>\n",
       "      <td>2023-07-31 23:55:00</td>\n",
       "      <td>29238.57</td>\n",
       "      <td>29238.57</td>\n",
       "      <td>29232.31</td>\n",
       "      <td>29232.31</td>\n",
       "      <td>7.491080</td>\n",
       "    </tr>\n",
       "    <tr>\n",
       "      <th>2934716</th>\n",
       "      <td>2023-07-31 23:56:00</td>\n",
       "      <td>29232.32</td>\n",
       "      <td>29232.32</td>\n",
       "      <td>29232.30</td>\n",
       "      <td>29232.30</td>\n",
       "      <td>14.103630</td>\n",
       "    </tr>\n",
       "    <tr>\n",
       "      <th>2934717</th>\n",
       "      <td>2023-07-31 23:57:00</td>\n",
       "      <td>29232.30</td>\n",
       "      <td>29232.31</td>\n",
       "      <td>29232.25</td>\n",
       "      <td>29232.25</td>\n",
       "      <td>35.757110</td>\n",
       "    </tr>\n",
       "    <tr>\n",
       "      <th>2934718</th>\n",
       "      <td>2023-07-31 23:58:00</td>\n",
       "      <td>29232.25</td>\n",
       "      <td>29232.26</td>\n",
       "      <td>29232.25</td>\n",
       "      <td>29232.25</td>\n",
       "      <td>3.229800</td>\n",
       "    </tr>\n",
       "  </tbody>\n",
       "</table>\n",
       "<p>2934719 rows × 6 columns</p>\n",
       "</div>"
      ],
      "text/plain": [
       "                   datetime      open      high       low     close     volume\n",
       "0       2018-01-01 00:00:00  13715.65  13715.65  13681.00  13707.92   2.844266\n",
       "1       2018-01-01 00:01:00  13707.91  13707.91  13666.11  13694.92   2.113138\n",
       "2       2018-01-01 00:02:00  13682.00  13694.94  13680.00  13680.00   1.346411\n",
       "3       2018-01-01 00:03:00  13679.98  13679.98  13601.00  13645.99  11.589417\n",
       "4       2018-01-01 00:04:00  13645.98  13646.00  13576.28  13600.00  15.724566\n",
       "...                     ...       ...       ...       ...       ...        ...\n",
       "2934714 2023-07-31 23:54:00  29238.56  29238.57  29238.56  29238.57   1.003730\n",
       "2934715 2023-07-31 23:55:00  29238.57  29238.57  29232.31  29232.31   7.491080\n",
       "2934716 2023-07-31 23:56:00  29232.32  29232.32  29232.30  29232.30  14.103630\n",
       "2934717 2023-07-31 23:57:00  29232.30  29232.31  29232.25  29232.25  35.757110\n",
       "2934718 2023-07-31 23:58:00  29232.25  29232.26  29232.25  29232.25   3.229800\n",
       "\n",
       "[2934719 rows x 6 columns]"
      ]
     },
     "execution_count": 87,
     "metadata": {},
     "output_type": "execute_result"
    }
   ],
   "source": [
    "btc_1_min"
   ]
  },
  {
   "cell_type": "code",
   "execution_count": 89,
   "metadata": {},
   "outputs": [
    {
     "data": {
      "text/plain": [
       "['open', 'high']"
      ]
     },
     "execution_count": 89,
     "metadata": {},
     "output_type": "execute_result"
    }
   ],
   "source": [
    "columns_to_drop = [col for col in ['open','high','bla'] if col in btc_1_min.columns]\n",
    "columns_to_drop"
   ]
  },
  {
   "cell_type": "code",
   "execution_count": null,
   "metadata": {},
   "outputs": [],
   "source": []
  }
 ],
 "metadata": {
  "kernelspec": {
   "display_name": "Python 3",
   "language": "python",
   "name": "python3"
  },
  "language_info": {
   "codemirror_mode": {
    "name": "ipython",
    "version": 3
   },
   "file_extension": ".py",
   "mimetype": "text/x-python",
   "name": "python",
   "nbconvert_exporter": "python",
   "pygments_lexer": "ipython3",
   "version": "3.8.16"
  },
  "orig_nbformat": 4
 },
 "nbformat": 4,
 "nbformat_minor": 2
}
