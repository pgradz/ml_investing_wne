{
 "cells": [
  {
   "cell_type": "code",
   "execution_count": 1,
   "metadata": {},
   "outputs": [],
   "source": [
    "import random\n",
    "import numpy as np\n",
    "import tensorflow as tf\n",
    "import mlflow.keras\n",
    "\n",
    "from ml_investing_wne import config\n",
    "from ml_investing_wne.utils import get_logger\n",
    "from ml_investing_wne.experiment_factory import create_asset, experiment_factory\n",
    "\n",
    "random.seed(config.seed)\n",
    "np.random.seed(config.seed)\n",
    "tf.random.set_seed(config.seed)"
   ]
  },
  {
   "cell_type": "code",
   "execution_count": 2,
   "metadata": {},
   "outputs": [],
   "source": [
    "import pandas as pd\n",
    "pd.set_option('display.max_columns', None)\n",
    "import numpy as np"
   ]
  },
  {
   "cell_type": "code",
   "execution_count": 3,
   "metadata": {},
   "outputs": [],
   "source": [
    "config.currency = 'MATICUSDT'"
   ]
  },
  {
   "cell_type": "code",
   "execution_count": 4,
   "metadata": {},
   "outputs": [],
   "source": [
    "asset = create_asset()\n",
    "experiment = experiment_factory(asset).get_experiment()"
   ]
  },
  {
   "cell_type": "code",
   "execution_count": 5,
   "metadata": {},
   "outputs": [
    {
     "data": {
      "text/html": [
       "<div>\n",
       "<style scoped>\n",
       "    .dataframe tbody tr th:only-of-type {\n",
       "        vertical-align: middle;\n",
       "    }\n",
       "\n",
       "    .dataframe tbody tr th {\n",
       "        vertical-align: top;\n",
       "    }\n",
       "\n",
       "    .dataframe thead th {\n",
       "        text-align: right;\n",
       "    }\n",
       "</style>\n",
       "<table border=\"1\" class=\"dataframe\">\n",
       "  <thead>\n",
       "    <tr style=\"text-align: right;\">\n",
       "      <th></th>\n",
       "      <th>open</th>\n",
       "      <th>high</th>\n",
       "      <th>low</th>\n",
       "      <th>close</th>\n",
       "      <th>volume</th>\n",
       "      <th>y_pred</th>\n",
       "      <th>SMA_3</th>\n",
       "      <th>EMA_3</th>\n",
       "      <th>VAR_3</th>\n",
       "      <th>SMA_5</th>\n",
       "      <th>EMA_5</th>\n",
       "      <th>VAR_5</th>\n",
       "      <th>SMA_10</th>\n",
       "      <th>EMA_10</th>\n",
       "      <th>VAR_10</th>\n",
       "      <th>SMA_13</th>\n",
       "      <th>EMA_13</th>\n",
       "      <th>VAR_13</th>\n",
       "      <th>SMA_20</th>\n",
       "      <th>EMA_20</th>\n",
       "      <th>VAR_20</th>\n",
       "      <th>MACD_12_26_9</th>\n",
       "      <th>MACDh_12_26_9</th>\n",
       "      <th>MACDs_12_26_9</th>\n",
       "      <th>RSI_14</th>\n",
       "      <th>RSI_10</th>\n",
       "      <th>RSI_6</th>\n",
       "      <th>STOCHk_14_3_3</th>\n",
       "      <th>STOCHd_14_3_3</th>\n",
       "      <th>WILLR_14</th>\n",
       "      <th>BBL_5_2.0</th>\n",
       "      <th>BBM_5_2.0</th>\n",
       "      <th>BBU_5_2.0</th>\n",
       "      <th>BBB_5_2.0</th>\n",
       "      <th>BBP_5_2.0</th>\n",
       "      <th>roc_1</th>\n",
       "      <th>hour</th>\n",
       "      <th>weekday</th>\n",
       "      <th>hour_sin</th>\n",
       "      <th>hour_cos</th>\n",
       "      <th>weekday_sin</th>\n",
       "      <th>weekday_cos</th>\n",
       "    </tr>\n",
       "    <tr>\n",
       "      <th>datetime</th>\n",
       "      <th></th>\n",
       "      <th></th>\n",
       "      <th></th>\n",
       "      <th></th>\n",
       "      <th></th>\n",
       "      <th></th>\n",
       "      <th></th>\n",
       "      <th></th>\n",
       "      <th></th>\n",
       "      <th></th>\n",
       "      <th></th>\n",
       "      <th></th>\n",
       "      <th></th>\n",
       "      <th></th>\n",
       "      <th></th>\n",
       "      <th></th>\n",
       "      <th></th>\n",
       "      <th></th>\n",
       "      <th></th>\n",
       "      <th></th>\n",
       "      <th></th>\n",
       "      <th></th>\n",
       "      <th></th>\n",
       "      <th></th>\n",
       "      <th></th>\n",
       "      <th></th>\n",
       "      <th></th>\n",
       "      <th></th>\n",
       "      <th></th>\n",
       "      <th></th>\n",
       "      <th></th>\n",
       "      <th></th>\n",
       "      <th></th>\n",
       "      <th></th>\n",
       "      <th></th>\n",
       "      <th></th>\n",
       "      <th></th>\n",
       "      <th></th>\n",
       "      <th></th>\n",
       "      <th></th>\n",
       "      <th></th>\n",
       "      <th></th>\n",
       "    </tr>\n",
       "  </thead>\n",
       "  <tbody>\n",
       "    <tr>\n",
       "      <th>2019-05-02 09:00:00</th>\n",
       "      <td>0.00445</td>\n",
       "      <td>0.00449</td>\n",
       "      <td>0.00428</td>\n",
       "      <td>0.00434</td>\n",
       "      <td>14439013.5</td>\n",
       "      <td>1.0</td>\n",
       "      <td>0.004427</td>\n",
       "      <td>0.004402</td>\n",
       "      <td>6.033333e-09</td>\n",
       "      <td>0.00447</td>\n",
       "      <td>0.00441</td>\n",
       "      <td>7.150000e-09</td>\n",
       "      <td>0.004372</td>\n",
       "      <td>0.00438</td>\n",
       "      <td>1.432889e-08</td>\n",
       "      <td>0.00434</td>\n",
       "      <td>0.004362</td>\n",
       "      <td>1.565000e-08</td>\n",
       "      <td>0.004298</td>\n",
       "      <td>0.004334</td>\n",
       "      <td>1.412211e-08</td>\n",
       "      <td>0.00005</td>\n",
       "      <td>0.000024</td>\n",
       "      <td>0.000026</td>\n",
       "      <td>50.156909</td>\n",
       "      <td>49.810634</td>\n",
       "      <td>45.056809</td>\n",
       "      <td>55.555556</td>\n",
       "      <td>64.132554</td>\n",
       "      <td>-59.649123</td>\n",
       "      <td>0.004319</td>\n",
       "      <td>0.00447</td>\n",
       "      <td>0.004621</td>\n",
       "      <td>6.767846</td>\n",
       "      <td>0.07028</td>\n",
       "      <td>0.975281</td>\n",
       "      <td>9</td>\n",
       "      <td>3</td>\n",
       "      <td>0.631088</td>\n",
       "      <td>-0.775711</td>\n",
       "      <td>1.224647e-16</td>\n",
       "      <td>-1.0</td>\n",
       "    </tr>\n",
       "  </tbody>\n",
       "</table>\n",
       "</div>"
      ],
      "text/plain": [
       "                        open     high      low    close      volume  y_pred  \\\n",
       "datetime                                                                      \n",
       "2019-05-02 09:00:00  0.00445  0.00449  0.00428  0.00434  14439013.5     1.0   \n",
       "\n",
       "                        SMA_3     EMA_3         VAR_3    SMA_5    EMA_5  \\\n",
       "datetime                                                                  \n",
       "2019-05-02 09:00:00  0.004427  0.004402  6.033333e-09  0.00447  0.00441   \n",
       "\n",
       "                            VAR_5    SMA_10   EMA_10        VAR_10   SMA_13  \\\n",
       "datetime                                                                      \n",
       "2019-05-02 09:00:00  7.150000e-09  0.004372  0.00438  1.432889e-08  0.00434   \n",
       "\n",
       "                       EMA_13        VAR_13    SMA_20    EMA_20        VAR_20  \\\n",
       "datetime                                                                        \n",
       "2019-05-02 09:00:00  0.004362  1.565000e-08  0.004298  0.004334  1.412211e-08   \n",
       "\n",
       "                     MACD_12_26_9  MACDh_12_26_9  MACDs_12_26_9     RSI_14  \\\n",
       "datetime                                                                     \n",
       "2019-05-02 09:00:00       0.00005       0.000024       0.000026  50.156909   \n",
       "\n",
       "                        RSI_10      RSI_6  STOCHk_14_3_3  STOCHd_14_3_3  \\\n",
       "datetime                                                                  \n",
       "2019-05-02 09:00:00  49.810634  45.056809      55.555556      64.132554   \n",
       "\n",
       "                      WILLR_14  BBL_5_2.0  BBM_5_2.0  BBU_5_2.0  BBB_5_2.0  \\\n",
       "datetime                                                                     \n",
       "2019-05-02 09:00:00 -59.649123   0.004319    0.00447   0.004621   6.767846   \n",
       "\n",
       "                     BBP_5_2.0     roc_1  hour  weekday  hour_sin  hour_cos  \\\n",
       "datetime                                                                      \n",
       "2019-05-02 09:00:00    0.07028  0.975281     9        3  0.631088 -0.775711   \n",
       "\n",
       "                      weekday_sin  weekday_cos  \n",
       "datetime                                        \n",
       "2019-05-02 09:00:00  1.224647e-16         -1.0  "
      ]
     },
     "execution_count": 5,
     "metadata": {},
     "output_type": "execute_result"
    }
   ],
   "source": [
    "experiment.df.head(1)"
   ]
  },
  {
   "cell_type": "code",
   "execution_count": null,
   "metadata": {},
   "outputs": [],
   "source": []
  },
  {
   "cell_type": "code",
   "execution_count": 6,
   "metadata": {},
   "outputs": [
    {
     "data": {
      "text/html": [
       "<div>\n",
       "<style scoped>\n",
       "    .dataframe tbody tr th:only-of-type {\n",
       "        vertical-align: middle;\n",
       "    }\n",
       "\n",
       "    .dataframe tbody tr th {\n",
       "        vertical-align: top;\n",
       "    }\n",
       "\n",
       "    .dataframe thead th {\n",
       "        text-align: right;\n",
       "    }\n",
       "</style>\n",
       "<table border=\"1\" class=\"dataframe\">\n",
       "  <thead>\n",
       "    <tr style=\"text-align: right;\">\n",
       "      <th></th>\n",
       "      <th>close</th>\n",
       "      <th>volume</th>\n",
       "      <th>roc_1</th>\n",
       "      <th>y_pred</th>\n",
       "      <th>close_btc</th>\n",
       "      <th>volume_btc</th>\n",
       "      <th>roc_1_btc</th>\n",
       "    </tr>\n",
       "    <tr>\n",
       "      <th>datetime</th>\n",
       "      <th></th>\n",
       "      <th></th>\n",
       "      <th></th>\n",
       "      <th></th>\n",
       "      <th></th>\n",
       "      <th></th>\n",
       "      <th></th>\n",
       "    </tr>\n",
       "  </thead>\n",
       "  <tbody>\n",
       "    <tr>\n",
       "      <th>2019-05-02 09:00:00</th>\n",
       "      <td>0.00434</td>\n",
       "      <td>14439013.5</td>\n",
       "      <td>0.975281</td>\n",
       "      <td>1.0</td>\n",
       "      <td>5422.87</td>\n",
       "      <td>1950.77849</td>\n",
       "      <td>0.995373</td>\n",
       "    </tr>\n",
       "  </tbody>\n",
       "</table>\n",
       "</div>"
      ],
      "text/plain": [
       "                       close      volume     roc_1  y_pred  close_btc  \\\n",
       "datetime                                                                \n",
       "2019-05-02 09:00:00  0.00434  14439013.5  0.975281     1.0    5422.87   \n",
       "\n",
       "                     volume_btc  roc_1_btc  \n",
       "datetime                                    \n",
       "2019-05-02 09:00:00  1950.77849   0.995373  "
      ]
     },
     "execution_count": 6,
     "metadata": {},
     "output_type": "execute_result"
    }
   ],
   "source": [
    "config.currency = 'BTCUSDT'\n",
    "btc = create_asset()\n",
    "experiment_btc = experiment_factory(btc).get_experiment()\n",
    "experiment_btc.df.rename(columns={'close':'close_btc', 'volume':'volume_btc', 'roc_1': 'roc_1_btc'}, inplace=True)\n",
    "experiment.df =  experiment.df[['close', 'volume', 'roc_1','y_pred']].merge(experiment_btc.df[['close_btc', 'volume_btc','roc_1_btc']], left_index=True, right_index=True)\n",
    "experiment.df.head(1)"
   ]
  },
  {
   "cell_type": "code",
   "execution_count": 7,
   "metadata": {},
   "outputs": [
    {
     "data": {
      "text/html": [
       "<div>\n",
       "<style scoped>\n",
       "    .dataframe tbody tr th:only-of-type {\n",
       "        vertical-align: middle;\n",
       "    }\n",
       "\n",
       "    .dataframe tbody tr th {\n",
       "        vertical-align: top;\n",
       "    }\n",
       "\n",
       "    .dataframe thead th {\n",
       "        text-align: right;\n",
       "    }\n",
       "</style>\n",
       "<table border=\"1\" class=\"dataframe\">\n",
       "  <thead>\n",
       "    <tr style=\"text-align: right;\">\n",
       "      <th></th>\n",
       "      <th>close</th>\n",
       "      <th>volume</th>\n",
       "      <th>roc_1</th>\n",
       "      <th>y_pred</th>\n",
       "      <th>close_eth</th>\n",
       "      <th>volume_eth</th>\n",
       "      <th>roc_1_eth</th>\n",
       "    </tr>\n",
       "    <tr>\n",
       "      <th>datetime</th>\n",
       "      <th></th>\n",
       "      <th></th>\n",
       "      <th></th>\n",
       "      <th></th>\n",
       "      <th></th>\n",
       "      <th></th>\n",
       "      <th></th>\n",
       "    </tr>\n",
       "  </thead>\n",
       "  <tbody>\n",
       "    <tr>\n",
       "      <th>2019-05-02 09:00:00</th>\n",
       "      <td>0.00434</td>\n",
       "      <td>14439013.5</td>\n",
       "      <td>0.975281</td>\n",
       "      <td>1.0</td>\n",
       "      <td>160.62</td>\n",
       "      <td>11527.49815</td>\n",
       "      <td>0.993444</td>\n",
       "    </tr>\n",
       "  </tbody>\n",
       "</table>\n",
       "</div>"
      ],
      "text/plain": [
       "                       close      volume     roc_1  y_pred  close_eth  \\\n",
       "datetime                                                                \n",
       "2019-05-02 09:00:00  0.00434  14439013.5  0.975281     1.0     160.62   \n",
       "\n",
       "                      volume_eth  roc_1_eth  \n",
       "datetime                                     \n",
       "2019-05-02 09:00:00  11527.49815   0.993444  "
      ]
     },
     "execution_count": 7,
     "metadata": {},
     "output_type": "execute_result"
    }
   ],
   "source": [
    "config.currency = 'ETHUSDT'\n",
    "eth = create_asset()\n",
    "experiment_eth = experiment_factory(eth).get_experiment()\n",
    "experiment_eth.df.rename(columns={'close':'close_eth', 'volume':'volume_eth', 'roc_1': 'roc_1_eth'}, inplace=True)\n",
    "experiment.df = experiment.df[['close', 'volume', 'roc_1','y_pred']].merge(experiment_eth.df[['close_eth', 'volume_eth','roc_1_eth']], left_index=True, right_index=True)\n",
    "experiment.df.head(1)"
   ]
  },
  {
   "cell_type": "code",
   "execution_count": 8,
   "metadata": {},
   "outputs": [
    {
     "data": {
      "text/html": [
       "<div>\n",
       "<style scoped>\n",
       "    .dataframe tbody tr th:only-of-type {\n",
       "        vertical-align: middle;\n",
       "    }\n",
       "\n",
       "    .dataframe tbody tr th {\n",
       "        vertical-align: top;\n",
       "    }\n",
       "\n",
       "    .dataframe thead th {\n",
       "        text-align: right;\n",
       "    }\n",
       "</style>\n",
       "<table border=\"1\" class=\"dataframe\">\n",
       "  <thead>\n",
       "    <tr style=\"text-align: right;\">\n",
       "      <th></th>\n",
       "      <th>open</th>\n",
       "      <th>high</th>\n",
       "      <th>low</th>\n",
       "      <th>close</th>\n",
       "      <th>volume</th>\n",
       "      <th>y_pred</th>\n",
       "      <th>SMA_3</th>\n",
       "      <th>EMA_3</th>\n",
       "      <th>VAR_3</th>\n",
       "      <th>SMA_5</th>\n",
       "      <th>EMA_5</th>\n",
       "      <th>VAR_5</th>\n",
       "      <th>SMA_10</th>\n",
       "      <th>EMA_10</th>\n",
       "      <th>VAR_10</th>\n",
       "      <th>SMA_13</th>\n",
       "      <th>EMA_13</th>\n",
       "      <th>VAR_13</th>\n",
       "      <th>SMA_20</th>\n",
       "      <th>EMA_20</th>\n",
       "      <th>VAR_20</th>\n",
       "      <th>MACD_12_26_9</th>\n",
       "      <th>MACDh_12_26_9</th>\n",
       "      <th>MACDs_12_26_9</th>\n",
       "      <th>RSI_14</th>\n",
       "      <th>RSI_10</th>\n",
       "      <th>RSI_6</th>\n",
       "      <th>STOCHk_14_3_3</th>\n",
       "      <th>STOCHd_14_3_3</th>\n",
       "      <th>WILLR_14</th>\n",
       "      <th>BBL_5_2.0</th>\n",
       "      <th>BBM_5_2.0</th>\n",
       "      <th>BBU_5_2.0</th>\n",
       "      <th>BBB_5_2.0</th>\n",
       "      <th>BBP_5_2.0</th>\n",
       "      <th>roc_1</th>\n",
       "      <th>hour</th>\n",
       "      <th>weekday</th>\n",
       "      <th>hour_sin</th>\n",
       "      <th>hour_cos</th>\n",
       "      <th>weekday_sin</th>\n",
       "      <th>weekday_cos</th>\n",
       "    </tr>\n",
       "    <tr>\n",
       "      <th>datetime</th>\n",
       "      <th></th>\n",
       "      <th></th>\n",
       "      <th></th>\n",
       "      <th></th>\n",
       "      <th></th>\n",
       "      <th></th>\n",
       "      <th></th>\n",
       "      <th></th>\n",
       "      <th></th>\n",
       "      <th></th>\n",
       "      <th></th>\n",
       "      <th></th>\n",
       "      <th></th>\n",
       "      <th></th>\n",
       "      <th></th>\n",
       "      <th></th>\n",
       "      <th></th>\n",
       "      <th></th>\n",
       "      <th></th>\n",
       "      <th></th>\n",
       "      <th></th>\n",
       "      <th></th>\n",
       "      <th></th>\n",
       "      <th></th>\n",
       "      <th></th>\n",
       "      <th></th>\n",
       "      <th></th>\n",
       "      <th></th>\n",
       "      <th></th>\n",
       "      <th></th>\n",
       "      <th></th>\n",
       "      <th></th>\n",
       "      <th></th>\n",
       "      <th></th>\n",
       "      <th></th>\n",
       "      <th></th>\n",
       "      <th></th>\n",
       "      <th></th>\n",
       "      <th></th>\n",
       "      <th></th>\n",
       "      <th></th>\n",
       "      <th></th>\n",
       "    </tr>\n",
       "  </thead>\n",
       "  <tbody>\n",
       "    <tr>\n",
       "      <th>2020-08-12 15:00:00</th>\n",
       "      <td>3.8272</td>\n",
       "      <td>3.85</td>\n",
       "      <td>3.7</td>\n",
       "      <td>3.7678</td>\n",
       "      <td>41862.48</td>\n",
       "      <td>0.997107</td>\n",
       "      <td>3.774267</td>\n",
       "      <td>3.765427</td>\n",
       "      <td>0.001088</td>\n",
       "      <td>3.7365</td>\n",
       "      <td>3.737033</td>\n",
       "      <td>0.003228</td>\n",
       "      <td>3.63245</td>\n",
       "      <td>3.639884</td>\n",
       "      <td>0.043328</td>\n",
       "      <td>3.5458</td>\n",
       "      <td>3.58585</td>\n",
       "      <td>0.059718</td>\n",
       "      <td>3.41861</td>\n",
       "      <td>3.486056</td>\n",
       "      <td>0.071249</td>\n",
       "      <td>0.184378</td>\n",
       "      <td>0.041884</td>\n",
       "      <td>0.142494</td>\n",
       "      <td>65.520463</td>\n",
       "      <td>65.920484</td>\n",
       "      <td>65.706771</td>\n",
       "      <td>81.529221</td>\n",
       "      <td>77.636479</td>\n",
       "      <td>-19.742647</td>\n",
       "      <td>3.634871</td>\n",
       "      <td>3.7365</td>\n",
       "      <td>3.838129</td>\n",
       "      <td>5.439778</td>\n",
       "      <td>0.653992</td>\n",
       "      <td>0.988924</td>\n",
       "      <td>15</td>\n",
       "      <td>2</td>\n",
       "      <td>-0.81697</td>\n",
       "      <td>-0.57668</td>\n",
       "      <td>0.866025</td>\n",
       "      <td>-0.5</td>\n",
       "    </tr>\n",
       "  </tbody>\n",
       "</table>\n",
       "</div>"
      ],
      "text/plain": [
       "                       open  high  low   close    volume    y_pred     SMA_3  \\\n",
       "datetime                                                                       \n",
       "2020-08-12 15:00:00  3.8272  3.85  3.7  3.7678  41862.48  0.997107  3.774267   \n",
       "\n",
       "                        EMA_3     VAR_3   SMA_5     EMA_5     VAR_5   SMA_10  \\\n",
       "datetime                                                                       \n",
       "2020-08-12 15:00:00  3.765427  0.001088  3.7365  3.737033  0.003228  3.63245   \n",
       "\n",
       "                       EMA_10    VAR_10  SMA_13   EMA_13    VAR_13   SMA_20  \\\n",
       "datetime                                                                      \n",
       "2020-08-12 15:00:00  3.639884  0.043328  3.5458  3.58585  0.059718  3.41861   \n",
       "\n",
       "                       EMA_20    VAR_20  MACD_12_26_9  MACDh_12_26_9  \\\n",
       "datetime                                                               \n",
       "2020-08-12 15:00:00  3.486056  0.071249      0.184378       0.041884   \n",
       "\n",
       "                     MACDs_12_26_9     RSI_14     RSI_10      RSI_6  \\\n",
       "datetime                                                              \n",
       "2020-08-12 15:00:00       0.142494  65.520463  65.920484  65.706771   \n",
       "\n",
       "                     STOCHk_14_3_3  STOCHd_14_3_3   WILLR_14  BBL_5_2.0  \\\n",
       "datetime                                                                  \n",
       "2020-08-12 15:00:00      81.529221      77.636479 -19.742647   3.634871   \n",
       "\n",
       "                     BBM_5_2.0  BBU_5_2.0  BBB_5_2.0  BBP_5_2.0     roc_1  \\\n",
       "datetime                                                                    \n",
       "2020-08-12 15:00:00     3.7365   3.838129   5.439778   0.653992  0.988924   \n",
       "\n",
       "                     hour  weekday  hour_sin  hour_cos  weekday_sin  \\\n",
       "datetime                                                              \n",
       "2020-08-12 15:00:00    15        2  -0.81697  -0.57668     0.866025   \n",
       "\n",
       "                     weekday_cos  \n",
       "datetime                          \n",
       "2020-08-12 15:00:00         -0.5  "
      ]
     },
     "execution_count": 8,
     "metadata": {},
     "output_type": "execute_result"
    }
   ],
   "source": [
    "config.currency = 'SOLUSDT'\n",
    "sol = create_asset()\n",
    "experiment_sol = experiment_factory(sol).get_experiment()\n",
    "experiment_sol.df.head(1)\n"
   ]
  },
  {
   "cell_type": "code",
   "execution_count": 9,
   "metadata": {},
   "outputs": [
    {
     "data": {
      "text/html": [
       "<div>\n",
       "<style scoped>\n",
       "    .dataframe tbody tr th:only-of-type {\n",
       "        vertical-align: middle;\n",
       "    }\n",
       "\n",
       "    .dataframe tbody tr th {\n",
       "        vertical-align: top;\n",
       "    }\n",
       "\n",
       "    .dataframe thead th {\n",
       "        text-align: right;\n",
       "    }\n",
       "</style>\n",
       "<table border=\"1\" class=\"dataframe\">\n",
       "  <thead>\n",
       "    <tr style=\"text-align: right;\">\n",
       "      <th></th>\n",
       "      <th>close</th>\n",
       "      <th>volume</th>\n",
       "      <th>roc_1</th>\n",
       "      <th>y_pred</th>\n",
       "      <th>close_eth</th>\n",
       "      <th>volume_eth</th>\n",
       "      <th>roc_1_eth</th>\n",
       "    </tr>\n",
       "    <tr>\n",
       "      <th>datetime</th>\n",
       "      <th></th>\n",
       "      <th></th>\n",
       "      <th></th>\n",
       "      <th></th>\n",
       "      <th></th>\n",
       "      <th></th>\n",
       "      <th></th>\n",
       "    </tr>\n",
       "  </thead>\n",
       "  <tbody>\n",
       "    <tr>\n",
       "      <th>2020-08-12 15:00:00</th>\n",
       "      <td>3.7678</td>\n",
       "      <td>41862.48</td>\n",
       "      <td>0.988924</td>\n",
       "      <td>0.997107</td>\n",
       "      <td>385.01</td>\n",
       "      <td>26819.45798</td>\n",
       "      <td>0.998133</td>\n",
       "    </tr>\n",
       "  </tbody>\n",
       "</table>\n",
       "</div>"
      ],
      "text/plain": [
       "                      close    volume     roc_1    y_pred  close_eth  \\\n",
       "datetime                                                               \n",
       "2020-08-12 15:00:00  3.7678  41862.48  0.988924  0.997107     385.01   \n",
       "\n",
       "                      volume_eth  roc_1_eth  \n",
       "datetime                                     \n",
       "2020-08-12 15:00:00  26819.45798   0.998133  "
      ]
     },
     "execution_count": 9,
     "metadata": {},
     "output_type": "execute_result"
    }
   ],
   "source": [
    "experiment_sol.df =  experiment_sol.df[['close', 'volume', 'roc_1','y_pred']].merge(experiment_btc.df[['close_btc', 'volume_btc','roc_1_btc']], left_index=True, right_index=True)\n",
    "experiment_sol.df = experiment_sol.df[['close', 'volume', 'roc_1','y_pred']].merge(experiment_eth.df[['close_eth', 'volume_eth','roc_1_eth']], left_index=True, right_index=True)\n",
    "experiment_sol.df.head(1)"
   ]
  },
  {
   "cell_type": "code",
   "execution_count": 10,
   "metadata": {},
   "outputs": [
    {
     "data": {
      "text/html": [
       "<div>\n",
       "<style scoped>\n",
       "    .dataframe tbody tr th:only-of-type {\n",
       "        vertical-align: middle;\n",
       "    }\n",
       "\n",
       "    .dataframe tbody tr th {\n",
       "        vertical-align: top;\n",
       "    }\n",
       "\n",
       "    .dataframe thead th {\n",
       "        text-align: right;\n",
       "    }\n",
       "</style>\n",
       "<table border=\"1\" class=\"dataframe\">\n",
       "  <thead>\n",
       "    <tr style=\"text-align: right;\">\n",
       "      <th></th>\n",
       "      <th>open</th>\n",
       "      <th>high</th>\n",
       "      <th>low</th>\n",
       "      <th>close</th>\n",
       "      <th>volume</th>\n",
       "      <th>y_pred</th>\n",
       "      <th>SMA_3</th>\n",
       "      <th>EMA_3</th>\n",
       "      <th>VAR_3</th>\n",
       "      <th>SMA_5</th>\n",
       "      <th>EMA_5</th>\n",
       "      <th>VAR_5</th>\n",
       "      <th>SMA_10</th>\n",
       "      <th>EMA_10</th>\n",
       "      <th>VAR_10</th>\n",
       "      <th>SMA_13</th>\n",
       "      <th>EMA_13</th>\n",
       "      <th>VAR_13</th>\n",
       "      <th>SMA_20</th>\n",
       "      <th>EMA_20</th>\n",
       "      <th>VAR_20</th>\n",
       "      <th>MACD_12_26_9</th>\n",
       "      <th>MACDh_12_26_9</th>\n",
       "      <th>MACDs_12_26_9</th>\n",
       "      <th>RSI_14</th>\n",
       "      <th>RSI_10</th>\n",
       "      <th>RSI_6</th>\n",
       "      <th>STOCHk_14_3_3</th>\n",
       "      <th>STOCHd_14_3_3</th>\n",
       "      <th>WILLR_14</th>\n",
       "      <th>BBL_5_2.0</th>\n",
       "      <th>BBM_5_2.0</th>\n",
       "      <th>BBU_5_2.0</th>\n",
       "      <th>BBB_5_2.0</th>\n",
       "      <th>BBP_5_2.0</th>\n",
       "      <th>roc_1</th>\n",
       "      <th>hour</th>\n",
       "      <th>weekday</th>\n",
       "      <th>hour_sin</th>\n",
       "      <th>hour_cos</th>\n",
       "      <th>weekday_sin</th>\n",
       "      <th>weekday_cos</th>\n",
       "    </tr>\n",
       "    <tr>\n",
       "      <th>datetime</th>\n",
       "      <th></th>\n",
       "      <th></th>\n",
       "      <th></th>\n",
       "      <th></th>\n",
       "      <th></th>\n",
       "      <th></th>\n",
       "      <th></th>\n",
       "      <th></th>\n",
       "      <th></th>\n",
       "      <th></th>\n",
       "      <th></th>\n",
       "      <th></th>\n",
       "      <th></th>\n",
       "      <th></th>\n",
       "      <th></th>\n",
       "      <th></th>\n",
       "      <th></th>\n",
       "      <th></th>\n",
       "      <th></th>\n",
       "      <th></th>\n",
       "      <th></th>\n",
       "      <th></th>\n",
       "      <th></th>\n",
       "      <th></th>\n",
       "      <th></th>\n",
       "      <th></th>\n",
       "      <th></th>\n",
       "      <th></th>\n",
       "      <th></th>\n",
       "      <th></th>\n",
       "      <th></th>\n",
       "      <th></th>\n",
       "      <th></th>\n",
       "      <th></th>\n",
       "      <th></th>\n",
       "      <th></th>\n",
       "      <th></th>\n",
       "      <th></th>\n",
       "      <th></th>\n",
       "      <th></th>\n",
       "      <th></th>\n",
       "      <th></th>\n",
       "    </tr>\n",
       "  </thead>\n",
       "  <tbody>\n",
       "    <tr>\n",
       "      <th>2018-01-02 09:00:00</th>\n",
       "      <td>238.49</td>\n",
       "      <td>242.18</td>\n",
       "      <td>238.22</td>\n",
       "      <td>238.92</td>\n",
       "      <td>794.23867</td>\n",
       "      <td>1.00406</td>\n",
       "      <td>239.05</td>\n",
       "      <td>238.608819</td>\n",
       "      <td>0.7959</td>\n",
       "      <td>237.864</td>\n",
       "      <td>238.045674</td>\n",
       "      <td>6.37643</td>\n",
       "      <td>237.348</td>\n",
       "      <td>235.833273</td>\n",
       "      <td>20.367329</td>\n",
       "      <td>234.280769</td>\n",
       "      <td>234.480893</td>\n",
       "      <td>49.627691</td>\n",
       "      <td>229.666</td>\n",
       "      <td>232.088666</td>\n",
       "      <td>73.973488</td>\n",
       "      <td>4.813046</td>\n",
       "      <td>0.619765</td>\n",
       "      <td>4.193281</td>\n",
       "      <td>61.367471</td>\n",
       "      <td>61.765526</td>\n",
       "      <td>61.649417</td>\n",
       "      <td>64.153694</td>\n",
       "      <td>63.26147</td>\n",
       "      <td>-36.650869</td>\n",
       "      <td>233.346858</td>\n",
       "      <td>237.864</td>\n",
       "      <td>242.381142</td>\n",
       "      <td>3.798088</td>\n",
       "      <td>0.616888</td>\n",
       "      <td>1.002896</td>\n",
       "      <td>9</td>\n",
       "      <td>1</td>\n",
       "      <td>0.631088</td>\n",
       "      <td>-0.775711</td>\n",
       "      <td>0.866025</td>\n",
       "      <td>0.5</td>\n",
       "    </tr>\n",
       "  </tbody>\n",
       "</table>\n",
       "</div>"
      ],
      "text/plain": [
       "                       open    high     low   close     volume   y_pred  \\\n",
       "datetime                                                                  \n",
       "2018-01-02 09:00:00  238.49  242.18  238.22  238.92  794.23867  1.00406   \n",
       "\n",
       "                      SMA_3       EMA_3   VAR_3    SMA_5       EMA_5    VAR_5  \\\n",
       "datetime                                                                        \n",
       "2018-01-02 09:00:00  239.05  238.608819  0.7959  237.864  238.045674  6.37643   \n",
       "\n",
       "                      SMA_10      EMA_10     VAR_10      SMA_13      EMA_13  \\\n",
       "datetime                                                                      \n",
       "2018-01-02 09:00:00  237.348  235.833273  20.367329  234.280769  234.480893   \n",
       "\n",
       "                        VAR_13   SMA_20      EMA_20     VAR_20  MACD_12_26_9  \\\n",
       "datetime                                                                       \n",
       "2018-01-02 09:00:00  49.627691  229.666  232.088666  73.973488      4.813046   \n",
       "\n",
       "                     MACDh_12_26_9  MACDs_12_26_9     RSI_14     RSI_10  \\\n",
       "datetime                                                                  \n",
       "2018-01-02 09:00:00       0.619765       4.193281  61.367471  61.765526   \n",
       "\n",
       "                         RSI_6  STOCHk_14_3_3  STOCHd_14_3_3   WILLR_14  \\\n",
       "datetime                                                                  \n",
       "2018-01-02 09:00:00  61.649417      64.153694       63.26147 -36.650869   \n",
       "\n",
       "                      BBL_5_2.0  BBM_5_2.0   BBU_5_2.0  BBB_5_2.0  BBP_5_2.0  \\\n",
       "datetime                                                                       \n",
       "2018-01-02 09:00:00  233.346858    237.864  242.381142   3.798088   0.616888   \n",
       "\n",
       "                        roc_1  hour  weekday  hour_sin  hour_cos  weekday_sin  \\\n",
       "datetime                                                                        \n",
       "2018-01-02 09:00:00  1.002896     9        1  0.631088 -0.775711     0.866025   \n",
       "\n",
       "                     weekday_cos  \n",
       "datetime                          \n",
       "2018-01-02 09:00:00          0.5  "
      ]
     },
     "execution_count": 10,
     "metadata": {},
     "output_type": "execute_result"
    }
   ],
   "source": [
    "config.currency = 'LTCUSDT'\n",
    "ltc = create_asset()\n",
    "experiment_ltc = experiment_factory(ltc).get_experiment()\n",
    "experiment_ltc.df.head(1)"
   ]
  },
  {
   "cell_type": "code",
   "execution_count": 11,
   "metadata": {},
   "outputs": [
    {
     "data": {
      "text/html": [
       "<div>\n",
       "<style scoped>\n",
       "    .dataframe tbody tr th:only-of-type {\n",
       "        vertical-align: middle;\n",
       "    }\n",
       "\n",
       "    .dataframe tbody tr th {\n",
       "        vertical-align: top;\n",
       "    }\n",
       "\n",
       "    .dataframe thead th {\n",
       "        text-align: right;\n",
       "    }\n",
       "</style>\n",
       "<table border=\"1\" class=\"dataframe\">\n",
       "  <thead>\n",
       "    <tr style=\"text-align: right;\">\n",
       "      <th></th>\n",
       "      <th>close</th>\n",
       "      <th>volume</th>\n",
       "      <th>roc_1</th>\n",
       "      <th>y_pred</th>\n",
       "      <th>close_eth</th>\n",
       "      <th>volume_eth</th>\n",
       "      <th>roc_1_eth</th>\n",
       "    </tr>\n",
       "    <tr>\n",
       "      <th>datetime</th>\n",
       "      <th></th>\n",
       "      <th></th>\n",
       "      <th></th>\n",
       "      <th></th>\n",
       "      <th></th>\n",
       "      <th></th>\n",
       "      <th></th>\n",
       "    </tr>\n",
       "  </thead>\n",
       "  <tbody>\n",
       "    <tr>\n",
       "      <th>2018-01-02 09:00:00</th>\n",
       "      <td>238.92</td>\n",
       "      <td>794.23867</td>\n",
       "      <td>1.002896</td>\n",
       "      <td>1.00406</td>\n",
       "      <td>837.05</td>\n",
       "      <td>3004.66842</td>\n",
       "      <td>1.000753</td>\n",
       "    </tr>\n",
       "  </tbody>\n",
       "</table>\n",
       "</div>"
      ],
      "text/plain": [
       "                      close     volume     roc_1   y_pred  close_eth  \\\n",
       "datetime                                                               \n",
       "2018-01-02 09:00:00  238.92  794.23867  1.002896  1.00406     837.05   \n",
       "\n",
       "                     volume_eth  roc_1_eth  \n",
       "datetime                                    \n",
       "2018-01-02 09:00:00  3004.66842   1.000753  "
      ]
     },
     "execution_count": 11,
     "metadata": {},
     "output_type": "execute_result"
    }
   ],
   "source": [
    "experiment_ltc.df =  experiment_ltc.df[['close', 'volume', 'roc_1','y_pred']].merge(experiment_btc.df[['close_btc', 'volume_btc','roc_1_btc']], left_index=True, right_index=True)\n",
    "experiment_ltc.df = experiment_ltc.df[['close', 'volume', 'roc_1','y_pred']].merge(experiment_eth.df[['close_eth', 'volume_eth','roc_1_eth']], left_index=True, right_index=True)\n",
    "experiment_ltc.df.head(1)"
   ]
  },
  {
   "cell_type": "code",
   "execution_count": 12,
   "metadata": {},
   "outputs": [],
   "source": [
    "experiment.train_test_val_split()"
   ]
  },
  {
   "cell_type": "code",
   "execution_count": 13,
   "metadata": {},
   "outputs": [],
   "source": [
    "experiment_sol.train_test_val_split()"
   ]
  },
  {
   "cell_type": "code",
   "execution_count": 14,
   "metadata": {},
   "outputs": [],
   "source": [
    "experiment_ltc.train_test_val_split()"
   ]
  },
  {
   "cell_type": "code",
   "execution_count": 15,
   "metadata": {},
   "outputs": [],
   "source": [
    "experiment.X = np.concatenate([experiment.X, experiment_sol.X, experiment_ltc.X])\n",
    "experiment.X_val = np.concatenate([experiment.X_val, experiment_sol.X_val, experiment_ltc.X_val])\n",
    "experiment.X_test = np.concatenate([experiment.X_test, experiment_sol.X_test, experiment_ltc.X_test])\n",
    "\n",
    "experiment.y_cat = np.concatenate([experiment.y_cat, experiment_sol.y_cat, experiment_ltc.y_cat])\n",
    "experiment.y_val_cat = np.concatenate([experiment.y_val_cat, experiment_sol.y_val_cat, experiment_ltc.y_val_cat])\n",
    "experiment.y_test_cat = np.concatenate([experiment.y_test_cat, experiment_sol.y_test_cat, experiment_ltc.y_test_cat])\n",
    "\n",
    "experiment.y_test = np.concatenate([experiment.y_test, experiment_sol.y_test, experiment_ltc.y_test])\n"
   ]
  },
  {
   "cell_type": "code",
   "execution_count": 16,
   "metadata": {},
   "outputs": [
    {
     "data": {
      "text/plain": [
       "(70296, 48, 6)"
      ]
     },
     "execution_count": 16,
     "metadata": {},
     "output_type": "execute_result"
    }
   ],
   "source": [
    "experiment.X.shape"
   ]
  },
  {
   "cell_type": "code",
   "execution_count": null,
   "metadata": {},
   "outputs": [],
   "source": []
  },
  {
   "cell_type": "code",
   "execution_count": 17,
   "metadata": {},
   "outputs": [
    {
     "name": "stderr",
     "output_type": "stream",
     "text": [
      "2023/03/20 11:11:32 INFO mlflow.tracking.fluent: Experiment with name 'Binance_resnet_260min_1_48' does not exist. Creating a new experiment.\n",
      "2023-03-20 11:11:32.691748: I tensorflow/core/common_runtime/pluggable_device/pluggable_device_factory.cc:305] Could not identify NUMA node of platform GPU ID 0, defaulting to 0. Your kernel may not have been built with NUMA support.\n",
      "2023-03-20 11:11:32.691861: I tensorflow/core/common_runtime/pluggable_device/pluggable_device_factory.cc:271] Created TensorFlow device (/job:localhost/replica:0/task:0/device:GPU:0 with 0 MB memory) -> physical PluggableDevice (device: 0, name: METAL, pci bus id: <undefined>)\n"
     ]
    },
    {
     "name": "stdout",
     "output_type": "stream",
     "text": [
      "Metal device set to: Apple M1 Pro\n",
      "\n",
      "systemMemory: 16.00 GB\n",
      "maxCacheSize: 5.33 GB\n",
      "\n"
     ]
    },
    {
     "name": "stderr",
     "output_type": "stream",
     "text": [
      "2023/03/20 11:11:33 INFO mlflow.utils.autologging_utils: Created MLflow autologging run with ID '4b5f21f8d51f4a7093441e5cde6271d8', which will track hyperparameters, performance metrics, model artifacts, and lineage information for the current tensorflow workflow\n"
     ]
    },
    {
     "name": "stdout",
     "output_type": "stream",
     "text": [
      "Epoch 1/100\n"
     ]
    },
    {
     "name": "stderr",
     "output_type": "stream",
     "text": [
      "2023-03-20 11:11:33.203316: W tensorflow/core/platform/profile_utils/cpu_utils.cc:128] Failed to get CPU frequency: 0 Hz\n",
      "2023-03-20 11:11:34.416062: I tensorflow/core/grappler/optimizers/custom_graph_optimizer_registry.cc:113] Plugin optimizer for device_type GPU is enabled.\n",
      "2023-03-20 11:12:18.153948: I tensorflow/core/grappler/optimizers/custom_graph_optimizer_registry.cc:113] Plugin optimizer for device_type GPU is enabled.\n"
     ]
    },
    {
     "name": "stdout",
     "output_type": "stream",
     "text": [
      "\n",
      "Epoch 1: val_accuracy improved from -inf to 0.50229, saving model to /Users/i0495036/Documents/sandbox/ml_investing_wne/src/ml_investing_wne/models/resnet_Binance_LTCUSDT_60min_1.h5\n",
      "1099/1099 - 48s - loss: 0.6982 - accuracy: 0.5095 - val_loss: 0.7010 - val_accuracy: 0.5023 - 48s/epoch - 44ms/step\n",
      "Epoch 2/100\n",
      "\n",
      "Epoch 2: val_accuracy improved from 0.50229 to 0.52457, saving model to /Users/i0495036/Documents/sandbox/ml_investing_wne/src/ml_investing_wne/models/resnet_Binance_LTCUSDT_60min_1.h5\n",
      "1099/1099 - 45s - loss: 0.6915 - accuracy: 0.5311 - val_loss: 0.6923 - val_accuracy: 0.5246 - 45s/epoch - 41ms/step\n",
      "Epoch 3/100\n",
      "\n",
      "Epoch 3: val_accuracy improved from 0.52457 to 0.53037, saving model to /Users/i0495036/Documents/sandbox/ml_investing_wne/src/ml_investing_wne/models/resnet_Binance_LTCUSDT_60min_1.h5\n",
      "1099/1099 - 44s - loss: 0.6896 - accuracy: 0.5399 - val_loss: 0.6907 - val_accuracy: 0.5304 - 44s/epoch - 40ms/step\n",
      "Epoch 4/100\n",
      "\n",
      "Epoch 4: val_accuracy did not improve from 0.53037\n",
      "1099/1099 - 45s - loss: 0.6881 - accuracy: 0.5428 - val_loss: 0.6922 - val_accuracy: 0.5298 - 45s/epoch - 41ms/step\n",
      "Epoch 5/100\n",
      "\n",
      "Epoch 5: val_accuracy did not improve from 0.53037\n",
      "1099/1099 - 45s - loss: 0.6870 - accuracy: 0.5467 - val_loss: 0.6946 - val_accuracy: 0.5158 - 45s/epoch - 41ms/step\n",
      "Epoch 6/100\n",
      "\n",
      "Epoch 6: val_accuracy did not improve from 0.53037\n",
      "1099/1099 - 44s - loss: 0.6856 - accuracy: 0.5501 - val_loss: 0.6928 - val_accuracy: 0.5251 - 44s/epoch - 40ms/step\n",
      "Epoch 7/100\n",
      "\n",
      "Epoch 7: val_accuracy did not improve from 0.53037\n",
      "1099/1099 - 45s - loss: 0.6842 - accuracy: 0.5553 - val_loss: 0.6936 - val_accuracy: 0.5265 - 45s/epoch - 41ms/step\n",
      "Epoch 8/100\n",
      "\n",
      "Epoch 8: val_accuracy did not improve from 0.53037\n",
      "1099/1099 - 44s - loss: 0.6822 - accuracy: 0.5600 - val_loss: 0.6966 - val_accuracy: 0.5301 - 44s/epoch - 40ms/step\n",
      "Epoch 9/100\n",
      "\n",
      "Epoch 9: val_accuracy did not improve from 0.53037\n",
      "1099/1099 - 45s - loss: 0.6796 - accuracy: 0.5671 - val_loss: 0.7037 - val_accuracy: 0.5112 - 45s/epoch - 41ms/step\n",
      "Epoch 10/100\n",
      "\n",
      "Epoch 10: val_accuracy did not improve from 0.53037\n",
      "1099/1099 - 44s - loss: 0.6769 - accuracy: 0.5723 - val_loss: 0.6970 - val_accuracy: 0.5250 - 44s/epoch - 40ms/step\n",
      "Epoch 11/100\n",
      "\n",
      "Epoch 11: val_accuracy did not improve from 0.53037\n",
      "1099/1099 - 45s - loss: 0.6730 - accuracy: 0.5801 - val_loss: 0.7152 - val_accuracy: 0.5092 - 45s/epoch - 41ms/step\n",
      "Epoch 12/100\n",
      "\n",
      "Epoch 12: val_accuracy did not improve from 0.53037\n",
      "1099/1099 - 45s - loss: 0.6688 - accuracy: 0.5873 - val_loss: 0.7054 - val_accuracy: 0.5214 - 45s/epoch - 41ms/step\n",
      "Epoch 13/100\n",
      "\n",
      "Epoch 13: val_accuracy did not improve from 0.53037\n",
      "1099/1099 - 44s - loss: 0.6642 - accuracy: 0.5942 - val_loss: 0.7139 - val_accuracy: 0.5195 - 44s/epoch - 40ms/step\n",
      "Epoch 14/100\n",
      "\n",
      "Epoch 14: val_accuracy did not improve from 0.53037\n",
      "1099/1099 - 44s - loss: 0.6593 - accuracy: 0.6020 - val_loss: 0.7126 - val_accuracy: 0.5163 - 44s/epoch - 40ms/step\n",
      "Epoch 15/100\n",
      "\n",
      "Epoch 15: val_accuracy did not improve from 0.53037\n",
      "1099/1099 - 44s - loss: 0.6530 - accuracy: 0.6108 - val_loss: 0.7190 - val_accuracy: 0.5179 - 44s/epoch - 40ms/step\n",
      "Epoch 16/100\n",
      "\n",
      "Epoch 16: val_accuracy did not improve from 0.53037\n",
      "1099/1099 - 44s - loss: 0.6461 - accuracy: 0.6212 - val_loss: 0.7201 - val_accuracy: 0.5190 - 44s/epoch - 40ms/step\n",
      "Epoch 17/100\n",
      "\n",
      "Epoch 17: val_accuracy did not improve from 0.53037\n",
      "1099/1099 - 44s - loss: 0.6389 - accuracy: 0.6305 - val_loss: 0.7244 - val_accuracy: 0.5265 - 44s/epoch - 40ms/step\n",
      "Epoch 18/100\n",
      "\n",
      "Epoch 18: val_accuracy did not improve from 0.53037\n",
      "1099/1099 - 45s - loss: 0.6309 - accuracy: 0.6404 - val_loss: 0.7474 - val_accuracy: 0.5171 - 45s/epoch - 41ms/step\n",
      "Epoch 19/100\n",
      "\n",
      "Epoch 19: val_accuracy did not improve from 0.53037\n",
      "1099/1099 - 45s - loss: 0.6227 - accuracy: 0.6479 - val_loss: 0.7595 - val_accuracy: 0.5104 - 45s/epoch - 41ms/step\n",
      "Epoch 20/100\n",
      "\n",
      "Epoch 20: val_accuracy did not improve from 0.53037\n",
      "1099/1099 - 45s - loss: 0.6124 - accuracy: 0.6607 - val_loss: 0.7992 - val_accuracy: 0.5168 - 45s/epoch - 41ms/step\n",
      "Epoch 21/100\n",
      "\n",
      "Epoch 21: val_accuracy did not improve from 0.53037\n",
      "1099/1099 - 45s - loss: 0.6023 - accuracy: 0.6701 - val_loss: 0.8195 - val_accuracy: 0.5105 - 45s/epoch - 41ms/step\n",
      "Epoch 22/100\n",
      "\n",
      "Epoch 22: val_accuracy did not improve from 0.53037\n",
      "1099/1099 - 45s - loss: 0.5903 - accuracy: 0.6799 - val_loss: 0.8156 - val_accuracy: 0.5180 - 45s/epoch - 41ms/step\n",
      "Epoch 23/100\n",
      "\n",
      "Epoch 23: val_accuracy did not improve from 0.53037\n",
      "1099/1099 - 44s - loss: 0.5786 - accuracy: 0.6919 - val_loss: 0.8060 - val_accuracy: 0.5180 - 44s/epoch - 40ms/step\n",
      "Epoch 24/100\n",
      "\n",
      "Epoch 24: val_accuracy did not improve from 0.53037\n",
      "1099/1099 - 45s - loss: 0.5665 - accuracy: 0.7008 - val_loss: 0.8971 - val_accuracy: 0.5180 - 45s/epoch - 41ms/step\n",
      "Epoch 25/100\n",
      "\n",
      "Epoch 25: val_accuracy did not improve from 0.53037\n",
      "1099/1099 - 46s - loss: 0.5533 - accuracy: 0.7105 - val_loss: 0.9069 - val_accuracy: 0.5121 - 46s/epoch - 42ms/step\n",
      "Epoch 26/100\n",
      "\n",
      "Epoch 26: val_accuracy did not improve from 0.53037\n",
      "1099/1099 - 46s - loss: 0.5414 - accuracy: 0.7213 - val_loss: 0.9102 - val_accuracy: 0.5146 - 46s/epoch - 42ms/step\n",
      "Epoch 27/100\n",
      "\n",
      "Epoch 27: val_accuracy did not improve from 0.53037\n",
      "1099/1099 - 48s - loss: 0.5283 - accuracy: 0.7310 - val_loss: 0.9316 - val_accuracy: 0.5203 - 48s/epoch - 44ms/step\n",
      "Epoch 28/100\n",
      "\n",
      "Epoch 28: val_accuracy did not improve from 0.53037\n",
      "1099/1099 - 47s - loss: 0.5143 - accuracy: 0.7426 - val_loss: 0.9063 - val_accuracy: 0.5142 - 47s/epoch - 42ms/step\n"
     ]
    },
    {
     "name": "stderr",
     "output_type": "stream",
     "text": [
      "2023-03-20 11:32:35.723366: I tensorflow/core/grappler/optimizers/custom_graph_optimizer_registry.cc:113] Plugin optimizer for device_type GPU is enabled.\n"
     ]
    },
    {
     "name": "stdout",
     "output_type": "stream",
     "text": [
      "1/1 [==============================] - 1s 512ms/step\n"
     ]
    },
    {
     "name": "stderr",
     "output_type": "stream",
     "text": [
      "WARNING:absl:Found untraced functions such as _jit_compiled_convolution_op, _jit_compiled_convolution_op, _jit_compiled_convolution_op, _jit_compiled_convolution_op, _jit_compiled_convolution_op while saving (showing 5 of 11). These functions will not be directly callable after loading.\n"
     ]
    },
    {
     "name": "stdout",
     "output_type": "stream",
     "text": [
      "INFO:tensorflow:Assets written to: /var/folders/9g/0tl60q4d1zbb_1ggbb19w_4c0000gp/T/tmpdtwl128s/model/data/model/assets\n"
     ]
    },
    {
     "name": "stderr",
     "output_type": "stream",
     "text": [
      "INFO:tensorflow:Assets written to: /var/folders/9g/0tl60q4d1zbb_1ggbb19w_4c0000gp/T/tmpdtwl128s/model/data/model/assets\n",
      "2023/03/20 11:32:47 WARNING mlflow.utils.autologging_utils: MLflow autologging encountered a warning: \"/Users/i0495036/Documents/sandbox/ml_investing_wne/env/lib/python3.8/site-packages/_distutils_hack/__init__.py:33: UserWarning: Setuptools is replacing distutils.\"\n",
      "WARNING:absl:Found untraced functions such as _jit_compiled_convolution_op, _jit_compiled_convolution_op, _jit_compiled_convolution_op, _jit_compiled_convolution_op, _jit_compiled_convolution_op while saving (showing 5 of 11). These functions will not be directly callable after loading.\n"
     ]
    },
    {
     "name": "stdout",
     "output_type": "stream",
     "text": [
      "INFO:tensorflow:Assets written to: /Users/i0495036/Documents/sandbox/ml_investing_wne/src/ml_investing_wne/models/production/resnet_Binance_LTCUSDT_60min_1_48/assets\n"
     ]
    },
    {
     "name": "stderr",
     "output_type": "stream",
     "text": [
      "INFO:tensorflow:Assets written to: /Users/i0495036/Documents/sandbox/ml_investing_wne/src/ml_investing_wne/models/production/resnet_Binance_LTCUSDT_60min_1_48/assets\n"
     ]
    }
   ],
   "source": [
    "experiment.train_model()"
   ]
  },
  {
   "cell_type": "code",
   "execution_count": 18,
   "metadata": {},
   "outputs": [
    {
     "name": "stdout",
     "output_type": "stream",
     "text": [
      "41/41 [==============================] - 2s 32ms/step - loss: 0.6927 - accuracy: 0.5226\n",
      "41/41 [==============================] - 1s 28ms/step\n"
     ]
    },
    {
     "ename": "ValueError",
     "evalue": "Length of values (1284) does not match length of index (428)",
     "output_type": "error",
     "traceback": [
      "\u001b[0;31m---------------------------------------------------------------------------\u001b[0m",
      "\u001b[0;31mValueError\u001b[0m                                Traceback (most recent call last)",
      "Cell \u001b[0;32mIn[18], line 1\u001b[0m\n\u001b[0;32m----> 1\u001b[0m experiment\u001b[39m.\u001b[39;49mevaluate_model()\n",
      "File \u001b[0;32m~/Documents/sandbox/ml_investing_wne/src/ml_investing_wne/experiment.py:297\u001b[0m, in \u001b[0;36mExperiment.evaluate_model\u001b[0;34m(self)\u001b[0m\n\u001b[1;32m    294\u001b[0m upper_bounds \u001b[39m=\u001b[39m [\u001b[39m1\u001b[39m \u001b[39m-\u001b[39m lower \u001b[39mfor\u001b[39;00m lower \u001b[39min\u001b[39;00m lower_bounds]\n\u001b[1;32m    296\u001b[0m \u001b[39mfor\u001b[39;00m lower_bound, upper_bound \u001b[39min\u001b[39;00m \u001b[39mzip\u001b[39m(lower_bounds, upper_bounds):\n\u001b[0;32m--> 297\u001b[0m     portfolio_result, hit_ratio, time_active \u001b[39m=\u001b[39m \u001b[39mself\u001b[39;49m\u001b[39m.\u001b[39;49mcompute_profitability_classes(df, y_pred, \n\u001b[1;32m    298\u001b[0m                                                                             start_date,\n\u001b[1;32m    299\u001b[0m                                                                             end_date, \n\u001b[1;32m    300\u001b[0m                                                                             lower_bound,\n\u001b[1;32m    301\u001b[0m                                                                             upper_bound)\n\u001b[1;32m    302\u001b[0m     mlflow\u001b[39m.\u001b[39mlog_metric(\u001b[39mf\u001b[39m\u001b[39m\"\u001b[39m\u001b[39mportfolio_result_\u001b[39m\u001b[39m{\u001b[39;00mlower_bound\u001b[39m}\u001b[39;00m\u001b[39m_\u001b[39m\u001b[39m{\u001b[39;00mupper_bound\u001b[39m}\u001b[39;00m\u001b[39m\"\u001b[39m, portfolio_result)\n\u001b[1;32m    303\u001b[0m     mlflow\u001b[39m.\u001b[39mlog_metric(\u001b[39mf\u001b[39m\u001b[39m\"\u001b[39m\u001b[39mhit_ratio_\u001b[39m\u001b[39m{\u001b[39;00mlower_bound\u001b[39m}\u001b[39;00m\u001b[39m_\u001b[39m\u001b[39m{\u001b[39;00mupper_bound\u001b[39m}\u001b[39;00m\u001b[39m\"\u001b[39m, hit_ratio)\n",
      "File \u001b[0;32m~/Documents/sandbox/ml_investing_wne/src/ml_investing_wne/experiment.py:362\u001b[0m, in \u001b[0;36mExperiment.compute_profitability_classes\u001b[0;34m(self, df, y_pred, date_start, date_end, lower_bound, upper_bound, hours_exclude)\u001b[0m\n\u001b[1;32m    360\u001b[0m \u001b[39m# TODO: here triple barriers fails\u001b[39;00m\n\u001b[1;32m    361\u001b[0m prediction \u001b[39m=\u001b[39m prediction\u001b[39m.\u001b[39mloc[prediction\u001b[39m.\u001b[39mdatetime\u001b[39m.\u001b[39misin(\u001b[39mself\u001b[39m\u001b[39m.\u001b[39mtest_y_index)]\n\u001b[0;32m--> 362\u001b[0m prediction[\u001b[39m'\u001b[39;49m\u001b[39mprediction\u001b[39;49m\u001b[39m'\u001b[39;49m] \u001b[39m=\u001b[39m y_pred[:, \u001b[39m1\u001b[39m]\n\u001b[1;32m    363\u001b[0m conditions \u001b[39m=\u001b[39m [\n\u001b[1;32m    364\u001b[0m     (prediction[\u001b[39m'\u001b[39m\u001b[39mprediction\u001b[39m\u001b[39m'\u001b[39m] \u001b[39m<\u001b[39m\u001b[39m=\u001b[39m lower_bound),\n\u001b[1;32m    365\u001b[0m     (prediction[\u001b[39m'\u001b[39m\u001b[39mprediction\u001b[39m\u001b[39m'\u001b[39m] \u001b[39m>\u001b[39m lower_bound) \u001b[39m&\u001b[39m (prediction[\u001b[39m'\u001b[39m\u001b[39mprediction\u001b[39m\u001b[39m'\u001b[39m] \u001b[39m<\u001b[39m\u001b[39m=\u001b[39m upper_bound),\n\u001b[1;32m    366\u001b[0m     (prediction[\u001b[39m'\u001b[39m\u001b[39mprediction\u001b[39m\u001b[39m'\u001b[39m] \u001b[39m>\u001b[39m upper_bound)\n\u001b[1;32m    367\u001b[0m ]\n\u001b[1;32m    368\u001b[0m values \u001b[39m=\u001b[39m [\u001b[39m0\u001b[39m, \u001b[39m0.5\u001b[39m, \u001b[39m1\u001b[39m]\n",
      "File \u001b[0;32m~/Documents/sandbox/ml_investing_wne/env/lib/python3.8/site-packages/pandas/core/frame.py:3978\u001b[0m, in \u001b[0;36mDataFrame.__setitem__\u001b[0;34m(self, key, value)\u001b[0m\n\u001b[1;32m   3975\u001b[0m     \u001b[39mself\u001b[39m\u001b[39m.\u001b[39m_setitem_array([key], value)\n\u001b[1;32m   3976\u001b[0m \u001b[39melse\u001b[39;00m:\n\u001b[1;32m   3977\u001b[0m     \u001b[39m# set column\u001b[39;00m\n\u001b[0;32m-> 3978\u001b[0m     \u001b[39mself\u001b[39;49m\u001b[39m.\u001b[39;49m_set_item(key, value)\n",
      "File \u001b[0;32m~/Documents/sandbox/ml_investing_wne/env/lib/python3.8/site-packages/pandas/core/frame.py:4172\u001b[0m, in \u001b[0;36mDataFrame._set_item\u001b[0;34m(self, key, value)\u001b[0m\n\u001b[1;32m   4162\u001b[0m \u001b[39mdef\u001b[39;00m \u001b[39m_set_item\u001b[39m(\u001b[39mself\u001b[39m, key, value) \u001b[39m-\u001b[39m\u001b[39m>\u001b[39m \u001b[39mNone\u001b[39;00m:\n\u001b[1;32m   4163\u001b[0m \u001b[39m    \u001b[39m\u001b[39m\"\"\"\u001b[39;00m\n\u001b[1;32m   4164\u001b[0m \u001b[39m    Add series to DataFrame in specified column.\u001b[39;00m\n\u001b[1;32m   4165\u001b[0m \n\u001b[0;32m   (...)\u001b[0m\n\u001b[1;32m   4170\u001b[0m \u001b[39m    ensure homogeneity.\u001b[39;00m\n\u001b[1;32m   4171\u001b[0m \u001b[39m    \"\"\"\u001b[39;00m\n\u001b[0;32m-> 4172\u001b[0m     value \u001b[39m=\u001b[39m \u001b[39mself\u001b[39;49m\u001b[39m.\u001b[39;49m_sanitize_column(value)\n\u001b[1;32m   4174\u001b[0m     \u001b[39mif\u001b[39;00m (\n\u001b[1;32m   4175\u001b[0m         key \u001b[39min\u001b[39;00m \u001b[39mself\u001b[39m\u001b[39m.\u001b[39mcolumns\n\u001b[1;32m   4176\u001b[0m         \u001b[39mand\u001b[39;00m value\u001b[39m.\u001b[39mndim \u001b[39m==\u001b[39m \u001b[39m1\u001b[39m\n\u001b[1;32m   4177\u001b[0m         \u001b[39mand\u001b[39;00m \u001b[39mnot\u001b[39;00m is_extension_array_dtype(value)\n\u001b[1;32m   4178\u001b[0m     ):\n\u001b[1;32m   4179\u001b[0m         \u001b[39m# broadcast across multiple columns if necessary\u001b[39;00m\n\u001b[1;32m   4180\u001b[0m         \u001b[39mif\u001b[39;00m \u001b[39mnot\u001b[39;00m \u001b[39mself\u001b[39m\u001b[39m.\u001b[39mcolumns\u001b[39m.\u001b[39mis_unique \u001b[39mor\u001b[39;00m \u001b[39misinstance\u001b[39m(\u001b[39mself\u001b[39m\u001b[39m.\u001b[39mcolumns, MultiIndex):\n",
      "File \u001b[0;32m~/Documents/sandbox/ml_investing_wne/env/lib/python3.8/site-packages/pandas/core/frame.py:4912\u001b[0m, in \u001b[0;36mDataFrame._sanitize_column\u001b[0;34m(self, value)\u001b[0m\n\u001b[1;32m   4909\u001b[0m     \u001b[39mreturn\u001b[39;00m _reindex_for_setitem(Series(value), \u001b[39mself\u001b[39m\u001b[39m.\u001b[39mindex)\n\u001b[1;32m   4911\u001b[0m \u001b[39mif\u001b[39;00m is_list_like(value):\n\u001b[0;32m-> 4912\u001b[0m     com\u001b[39m.\u001b[39;49mrequire_length_match(value, \u001b[39mself\u001b[39;49m\u001b[39m.\u001b[39;49mindex)\n\u001b[1;32m   4913\u001b[0m \u001b[39mreturn\u001b[39;00m sanitize_array(value, \u001b[39mself\u001b[39m\u001b[39m.\u001b[39mindex, copy\u001b[39m=\u001b[39m\u001b[39mTrue\u001b[39;00m, allow_2d\u001b[39m=\u001b[39m\u001b[39mTrue\u001b[39;00m)\n",
      "File \u001b[0;32m~/Documents/sandbox/ml_investing_wne/env/lib/python3.8/site-packages/pandas/core/common.py:561\u001b[0m, in \u001b[0;36mrequire_length_match\u001b[0;34m(data, index)\u001b[0m\n\u001b[1;32m    557\u001b[0m \u001b[39m\u001b[39m\u001b[39m\"\"\"\u001b[39;00m\n\u001b[1;32m    558\u001b[0m \u001b[39mCheck the length of data matches the length of the index.\u001b[39;00m\n\u001b[1;32m    559\u001b[0m \u001b[39m\"\"\"\u001b[39;00m\n\u001b[1;32m    560\u001b[0m \u001b[39mif\u001b[39;00m \u001b[39mlen\u001b[39m(data) \u001b[39m!=\u001b[39m \u001b[39mlen\u001b[39m(index):\n\u001b[0;32m--> 561\u001b[0m     \u001b[39mraise\u001b[39;00m \u001b[39mValueError\u001b[39;00m(\n\u001b[1;32m    562\u001b[0m         \u001b[39m\"\u001b[39m\u001b[39mLength of values \u001b[39m\u001b[39m\"\u001b[39m\n\u001b[1;32m    563\u001b[0m         \u001b[39mf\u001b[39m\u001b[39m\"\u001b[39m\u001b[39m(\u001b[39m\u001b[39m{\u001b[39;00m\u001b[39mlen\u001b[39m(data)\u001b[39m}\u001b[39;00m\u001b[39m) \u001b[39m\u001b[39m\"\u001b[39m\n\u001b[1;32m    564\u001b[0m         \u001b[39m\"\u001b[39m\u001b[39mdoes not match length of index \u001b[39m\u001b[39m\"\u001b[39m\n\u001b[1;32m    565\u001b[0m         \u001b[39mf\u001b[39m\u001b[39m\"\u001b[39m\u001b[39m(\u001b[39m\u001b[39m{\u001b[39;00m\u001b[39mlen\u001b[39m(index)\u001b[39m}\u001b[39;00m\u001b[39m)\u001b[39m\u001b[39m\"\u001b[39m\n\u001b[1;32m    566\u001b[0m     )\n",
      "\u001b[0;31mValueError\u001b[0m: Length of values (1284) does not match length of index (428)"
     ]
    }
   ],
   "source": [
    "experiment.evaluate_model()"
   ]
  },
  {
   "cell_type": "code",
   "execution_count": 18,
   "metadata": {},
   "outputs": [],
   "source": [
    "from sklearn.metrics import precision_recall_curve"
   ]
  },
  {
   "cell_type": "code",
   "execution_count": 19,
   "metadata": {},
   "outputs": [
    {
     "name": "stdout",
     "output_type": "stream",
     "text": [
      "482/482 [==============================] - 4s 7ms/step\n"
     ]
    },
    {
     "data": {
      "text/plain": [
       "array([0, 0, 0, ..., 0, 0, 0])"
      ]
     },
     "execution_count": 19,
     "metadata": {},
     "output_type": "execute_result"
    }
   ],
   "source": [
    "y_pred = experiment.model.predict(experiment.X_test)\n",
    "y_pred_class = y_pred.argmax(axis=-1)\n",
    "y_pred_class"
   ]
  },
  {
   "cell_type": "code",
   "execution_count": 20,
   "metadata": {},
   "outputs": [
    {
     "data": {
      "text/plain": [
       "array([0.4863161 , 0.48754528, 0.4835512 , ..., 0.4690254 , 0.4616663 ,\n",
       "       0.44067994], dtype=float32)"
      ]
     },
     "execution_count": 20,
     "metadata": {},
     "output_type": "execute_result"
    }
   ],
   "source": [
    "y_pred[:,1]"
   ]
  },
  {
   "cell_type": "code",
   "execution_count": 21,
   "metadata": {},
   "outputs": [],
   "source": [
    "precision, recall, thresholds = precision_recall_curve(experiment.y_test, y_pred[:,1])"
   ]
  },
  {
   "cell_type": "code",
   "execution_count": 22,
   "metadata": {},
   "outputs": [
    {
     "data": {
      "text/plain": [
       "0.5392190152801358"
      ]
     },
     "execution_count": 22,
     "metadata": {},
     "output_type": "execute_result"
    }
   ],
   "source": [
    "precision[9500]"
   ]
  },
  {
   "cell_type": "code",
   "execution_count": 23,
   "metadata": {},
   "outputs": [
    {
     "data": {
      "text/plain": [
       "0.48047656"
      ]
     },
     "execution_count": 23,
     "metadata": {},
     "output_type": "execute_result"
    }
   ],
   "source": [
    "thresholds[9500]"
   ]
  },
  {
   "cell_type": "code",
   "execution_count": 24,
   "metadata": {},
   "outputs": [
    {
     "data": {
      "text/plain": [
       "Text(0.5, 1.0, 'Train Precision-Recall curve')"
      ]
     },
     "execution_count": 24,
     "metadata": {},
     "output_type": "execute_result"
    },
    {
     "data": {
      "image/png": "[encoded data removed]",
      "text/plain": [
       "<Figure size 640x480 with 1 Axes>"
      ]
     },
     "metadata": {},
     "output_type": "display_data"
    }
   ],
   "source": [
    "import matplotlib.pyplot as plt\n",
    "plt.fill_between(recall, precision)\n",
    "plt.ylabel(\"Precision\")\n",
    "plt.xlabel(\"Recall\")\n",
    "plt.title(\"Train Precision-Recall curve\")"
   ]
  },
  {
   "cell_type": "code",
   "execution_count": null,
   "metadata": {},
   "outputs": [],
   "source": []
  }
 ],
 "metadata": {
  "kernelspec": {
   "display_name": "Python 3",
   "language": "python",
   "name": "python3"
  },
  "language_info": {
   "codemirror_mode": {
    "name": "ipython",
    "version": 3
   },
   "file_extension": ".py",
   "mimetype": "text/x-python",
   "name": "python",
   "nbconvert_exporter": "python",
   "pygments_lexer": "ipython3",
   "version": "3.8.16"
  },
  "orig_nbformat": 4,
  "vscode": {
   "interpreter": {
    "hash": "ba39a2516a49d18ef4fd625987b2285f33cb199dbc7ed06ad8ee703432213e31"
   }
  }
 },
 "nbformat": 4,
 "nbformat_minor": 2
}
