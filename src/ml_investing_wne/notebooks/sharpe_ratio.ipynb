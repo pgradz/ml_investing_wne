{
 "cells": [
  {
   "cell_type": "code",
   "execution_count": 1,
   "metadata": {},
   "outputs": [
    {
     "name": "stdout",
     "output_type": "stream",
     "text": [
      "1.5566235649883113\n"
     ]
    }
   ],
   "source": [
    "import math\n",
    "\n",
    "def sharpe_ratio(returns, risk_free_rate, periods):\n",
    "  \"\"\"Computes the Sharpe ratio of a trading strategy.\n",
    "\n",
    "  Args:\n",
    "    returns: A list of daily returns.\n",
    "    risk_free_rate: The risk-free rate.\n",
    "    periods: The number of trading days in a year.\n",
    "\n",
    "  Returns:\n",
    "    The Sharpe ratio.\n",
    "  \"\"\"\n",
    "\n",
    "  daily_returns = []\n",
    "  for day in returns:\n",
    "    if len(day) > 1:\n",
    "      daily_returns.extend(day)\n",
    "    else:\n",
    "      daily_returns.append(day)\n",
    "\n",
    "  mean_return = sum(daily_returns) / len(daily_returns)\n",
    "  std_dev = math.sqrt(sum([(r - mean_return)**2 for r in daily_returns]) / len(daily_returns))\n",
    "  sharpe_ratio = (mean_return - risk_free_rate) / std_dev\n",
    "  return sharpe_ratio * math.sqrt(periods)\n",
    "\n",
    "if __name__ == \"__main__\":\n",
    "  returns = [[0.01, 0.02], [0.03, -0.01], [-0.02, 0.01]]\n",
    "  risk_free_rate = 0.005\n",
    "  periods = 252\n",
    "\n",
    "  sharpe_ratio = sharpe_ratio(returns, risk_free_rate, periods)\n",
    "  print(sharpe_ratio)"
   ]
  },
  {
   "cell_type": "code",
   "execution_count": 2,
   "metadata": {},
   "outputs": [],
   "source": [
    "daily_returns = []"
   ]
  },
  {
   "cell_type": "code",
   "execution_count": 3,
   "metadata": {},
   "outputs": [],
   "source": [
    "daily_returns.extend([0.01, 0.02])"
   ]
  },
  {
   "cell_type": "code",
   "execution_count": 6,
   "metadata": {},
   "outputs": [],
   "source": [
    "daily_returns.extend([0.03, -0.01])"
   ]
  },
  {
   "cell_type": "code",
   "execution_count": 7,
   "metadata": {},
   "outputs": [
    {
     "data": {
      "text/plain": [
       "[0.01, 0.02, 0.03, -0.01]"
      ]
     },
     "execution_count": 7,
     "metadata": {},
     "output_type": "execute_result"
    }
   ],
   "source": [
    "daily_returns"
   ]
  },
  {
   "cell_type": "code",
   "execution_count": 8,
   "metadata": {},
   "outputs": [],
   "source": [
    "daily_returns.append([-0.02, 0.01])"
   ]
  },
  {
   "cell_type": "code",
   "execution_count": 9,
   "metadata": {},
   "outputs": [
    {
     "data": {
      "text/plain": [
       "[0.01, 0.02, 0.03, -0.01, [-0.02, 0.01]]"
      ]
     },
     "execution_count": 9,
     "metadata": {},
     "output_type": "execute_result"
    }
   ],
   "source": [
    "daily_returns"
   ]
  },
  {
   "cell_type": "code",
   "execution_count": null,
   "metadata": {},
   "outputs": [],
   "source": [
    "\n",
    "Yes, the code that I provided will still work if on some days there were no trades at all. The only change you need to make is to the daily_returns list. If there is a day with no trades, you simply add a 0 to the list. For example, if there are 5 days of trading and 2 days with no trades, the daily_returns list would look like this:\n",
    "\n",
    "Python\n",
    "daily_returns = [0.01, 0.02, 0, 0, 0.03]\n",
    "Zachowaj ostrożność podczas korzystania z kodu. Więcej informacji\n",
    "The Sharpe ratio will then be calculated as usual, ignoring the days with no trades.\n",
    "\n",
    "Here is an example of how to modify the code to handle days with no trades:\n",
    "\n",
    "Python\n",
    "import math\n",
    "\n",
    "def sharpe_ratio(returns, risk_free_rate, periods):\n",
    "  \"\"\"Computes the Sharpe ratio of a trading strategy.\n",
    "\n",
    "  Args:\n",
    "    returns: A list of daily returns.\n",
    "    risk_free_rate: The risk-free rate.\n",
    "    periods: The number of trading days in a year.\n",
    "\n",
    "  Returns:\n",
    "    The Sharpe ratio.\n",
    "  \"\"\"\n",
    "\n",
    "  daily_returns = []\n",
    "  for day in returns:\n",
    "    if len(day) > 1:\n",
    "      daily_returns.extend(day)\n",
    "    else:\n",
    "      daily_returns.append(0)\n",
    "\n",
    "  mean_return = sum(daily_returns) / len(daily_returns)\n",
    "  std_dev = math.sqrt(sum([(r - mean_return)**2 for r in daily_returns]) / len(daily_returns))\n",
    "  sharpe_ratio = (mean_return - risk_free_rate) / std_dev\n",
    "  return sharpe_ratio * math.sqrt(periods)\n",
    "\n",
    "if __name__ == \"__main__\":\n",
    "  returns = [[0.01, 0.02], [0.03, -0.01], [0, 0], [0, 0], [0.03]]\n",
    "  risk_free_rate = 0.005\n",
    "  periods = 252\n",
    "\n",
    "  sharpe_ratio = sharpe_ratio(returns, risk_free_rate, periods)\n",
    "  print(sharpe_ratio)"
   ]
  }
 ],
 "metadata": {
  "kernelspec": {
   "display_name": "Python 3.9.16 ('codeserver_py39': conda)",
   "language": "python",
   "name": "python3"
  },
  "language_info": {
   "codemirror_mode": {
    "name": "ipython",
    "version": 3
   },
   "file_extension": ".py",
   "mimetype": "text/x-python",
   "name": "python",
   "nbconvert_exporter": "python",
   "pygments_lexer": "ipython3",
   "version": "3.9.16"
  },
  "orig_nbformat": 4,
  "vscode": {
   "interpreter": {
    "hash": "aca522a4f3a95a8cc19c0c49aa2b52717208ab4d9caac282bf163cf809ab5536"
   }
  }
 },
 "nbformat": 4,
 "nbformat_minor": 2
}
