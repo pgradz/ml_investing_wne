{
 "cells": [
  {
   "cell_type": "code",
   "execution_count": 1,
   "id": "0f32cc74-69c7-4e4e-8d47-920e1151df53",
   "metadata": {},
   "outputs": [
    {
     "name": "stderr",
     "output_type": "stream",
     "text": [
      "2022-10-22 11:15:46.311946: W tensorflow/stream_executor/platform/default/dso_loader.cc:64] Could not load dynamic library 'libcudart.so.11.0'; dlerror: libcudart.so.11.0: cannot open shared object file: No such file or directory\n",
      "2022-10-22 11:15:46.311987: I tensorflow/stream_executor/cuda/cudart_stub.cc:29] Ignore above cudart dlerror if you do not have a GPU set up on your machine.\n"
     ]
    }
   ],
   "source": [
    "import datetime\n",
    "import os\n",
    "import random\n",
    "import numpy as np\n",
    "from keras.callbacks import ModelCheckpoint, EarlyStopping, CSVLogger\n",
    "from tensorflow.keras.utils import plot_model\n",
    "from tensorflow.keras.models import load_model\n",
    "import tensorflow as tf\n",
    "import mlflow.keras\n",
    "import importlib\n",
    "import joblib\n",
    "from sklearn.metrics import roc_auc_score, f1_score\n",
    "\n",
    "import ml_investing_wne.config as config\n",
    "from ml_investing_wne.data_engineering.load_data import get_hist_data\n",
    "from ml_investing_wne.data_engineering.prepare_dataset import prepare_processed_dataset\n",
    "from ml_investing_wne.train_test_val_split import train_test_val_split\n",
    "from ml_investing_wne.helper import confusion_matrix_plot, compute_profitability_classes\n",
    "from ml_investing_wne.utils import get_logger\n",
    "\n",
    "seed = 12345\n",
    "random.seed(seed)\n",
    "np.random.seed(seed)\n",
    "tf.random.set_seed(seed)\n",
    "                   \n",
    "logger = get_logger()"
   ]
  },
  {
   "cell_type": "code",
   "execution_count": 2,
   "id": "9d8007e4-e090-47b6-a3c7-b6a70af444f2",
   "metadata": {},
   "outputs": [
    {
     "name": "stderr",
     "output_type": "stream",
     "text": [
      "2022-10-22 11:16:18,861 - ml_investing_wne.data_engineering.prepare_dataset - exported to /home/jupyter/ml_investing_wne/src/ml_investing_wne/data/processed/EURCHF/EURCHF_processed_720min.csv\n",
      "2022-10-22 11:16:18,919 - ml_investing_wne.train_test_val_split - first sequence begins: 2010-01-24 12:00:00\n",
      "2022-10-22 11:16:18,920 - ml_investing_wne.train_test_val_split - first sequence ends: 2010-03-25 00:00:00\n",
      "2022-10-22 11:16:18,945 - ml_investing_wne.train_test_val_split - last sequence begins: 2019-10-30 12:00:00\n",
      "2022-10-22 11:16:18,947 - ml_investing_wne.train_test_val_split - last sequence ends: 2019-12-30 12:00:00\n",
      "2022-10-22 11:16:19,001 - ml_investing_wne.train_test_val_split - first sequence begins: 2019-11-13 12:00:00\n",
      "2022-10-22 11:16:19,002 - ml_investing_wne.train_test_val_split - first sequence ends: 2020-01-14 00:00:00\n",
      "2022-10-22 11:16:19,006 - ml_investing_wne.train_test_val_split - last sequence begins: 2020-10-29 12:00:00\n",
      "2022-10-22 11:16:19,006 - ml_investing_wne.train_test_val_split - last sequence ends: 2020-12-30 12:00:00\n",
      "2022-10-22 11:16:19,011 - ml_investing_wne.train_test_val_split - first sequence begins: 2020-11-13 12:00:00\n",
      "2022-10-22 11:16:19,011 - ml_investing_wne.train_test_val_split - first sequence ends: 2021-01-15 12:00:00\n",
      "2022-10-22 11:16:19,015 - ml_investing_wne.train_test_val_split - last sequence begins: 2021-10-26 00:00:00\n",
      "2022-10-22 11:16:19,015 - ml_investing_wne.train_test_val_split - last sequence ends: 2021-12-24 12:00:00\n"
     ]
    }
   ],
   "source": [
    "df = get_hist_data(currency=config.currency)\n",
    "df = prepare_processed_dataset(df=df)\n",
    "X, y, X_val, y_val, X_test, y_test, y_cat, y_val_cat, y_test_cat, train = train_test_val_split(df)\n"
   ]
  },
  {
   "cell_type": "code",
   "execution_count": 3,
   "id": "90e6c731-0422-440b-9730-d13a6b565885",
   "metadata": {},
   "outputs": [
    {
     "name": "stderr",
     "output_type": "stream",
     "text": [
      "2022-10-22 11:16:23.484972: W tensorflow/stream_executor/platform/default/dso_loader.cc:64] Could not load dynamic library 'libcuda.so.1'; dlerror: libcuda.so.1: cannot open shared object file: No such file or directory\n",
      "2022-10-22 11:16:23.485027: W tensorflow/stream_executor/cuda/cuda_driver.cc:269] failed call to cuInit: UNKNOWN ERROR (303)\n",
      "2022-10-22 11:16:23.485066: I tensorflow/stream_executor/cuda/cuda_diagnostics.cc:156] kernel driver does not appear to be running on this host (python-20220811): /proc/driver/nvidia/version does not exist\n",
      "2022-10-22 11:16:23.485416: I tensorflow/core/platform/cpu_feature_guard.cc:142] This TensorFlow binary is optimized with oneAPI Deep Neural Network Library (oneDNN) to use the following CPU instructions in performance-critical operations:  AVX2 AVX512F FMA\n",
      "To enable them in other operations, rebuild TensorFlow with the appropriate compiler flags.\n"
     ]
    }
   ],
   "source": [
    "model = load_model(os.path.join(config.package_directory, 'models', 'production',\n",
    "                        '{}_{}_{}_{}_{}_{}'.format(config.model, 'hist_data',\n",
    "                                                   config.currency, config.freq,\n",
    "                                                   str(config.steps_ahead),\n",
    "                                                   config.seq_len)))"
   ]
  },
  {
   "cell_type": "code",
   "execution_count": 4,
   "id": "f5ffe319-b49b-4a66-9552-8d0b52232fd9",
   "metadata": {},
   "outputs": [
    {
     "name": "stderr",
     "output_type": "stream",
     "text": [
      "2022-10-22 11:16:49.532274: I tensorflow/compiler/mlir/mlir_graph_optimization_pass.cc:185] None of the MLIR Optimization Passes are enabled (registered 2)\n"
     ]
    },
    {
     "name": "stdout",
     "output_type": "stream",
     "text": [
      "18/18 [==============================] - 3s 66ms/step - loss: 0.6796 - accuracy: 0.5960\n"
     ]
    },
    {
     "data": {
      "text/plain": [
       "[0.6796161532402039, 0.5960144996643066]"
      ]
     },
     "execution_count": 4,
     "metadata": {},
     "output_type": "execute_result"
    }
   ],
   "source": [
    "model.evaluate(X_val, y_val_cat)"
   ]
  },
  {
   "cell_type": "code",
   "execution_count": 5,
   "id": "5695ddf8-e2b0-48f7-a4ea-6a42be634cda",
   "metadata": {},
   "outputs": [
    {
     "name": "stdout",
     "output_type": "stream",
     "text": [
      "17/17 [==============================] - 1s 66ms/step - loss: 0.6759 - accuracy: 0.6000\n"
     ]
    },
    {
     "data": {
      "text/plain": [
       "[0.6759060621261597, 0.6000000238418579]"
      ]
     },
     "execution_count": 5,
     "metadata": {},
     "output_type": "execute_result"
    }
   ],
   "source": [
    "model.evaluate(X_test, y_test_cat)"
   ]
  },
  {
   "cell_type": "code",
   "execution_count": 6,
   "id": "47b0ec3d-7207-43ec-9889-59541abc65b1",
   "metadata": {},
   "outputs": [
    {
     "data": {
      "text/html": [
       "<div>\n",
       "<style scoped>\n",
       "    .dataframe tbody tr th:only-of-type {\n",
       "        vertical-align: middle;\n",
       "    }\n",
       "\n",
       "    .dataframe tbody tr th {\n",
       "        vertical-align: top;\n",
       "    }\n",
       "\n",
       "    .dataframe thead th {\n",
       "        text-align: right;\n",
       "    }\n",
       "</style>\n",
       "<table border=\"1\" class=\"dataframe\">\n",
       "  <thead>\n",
       "    <tr style=\"text-align: right;\">\n",
       "      <th></th>\n",
       "      <th>datetime</th>\n",
       "      <th>open</th>\n",
       "      <th>high</th>\n",
       "      <th>low</th>\n",
       "      <th>close</th>\n",
       "      <th>y_pred</th>\n",
       "      <th>SMA_3</th>\n",
       "      <th>EMA_3</th>\n",
       "      <th>VAR_3</th>\n",
       "      <th>SMA_5</th>\n",
       "      <th>...</th>\n",
       "      <th>BBU_5_2.0</th>\n",
       "      <th>BBB_5_2.0</th>\n",
       "      <th>BBP_5_2.0</th>\n",
       "      <th>roc_1</th>\n",
       "      <th>hour</th>\n",
       "      <th>weekday</th>\n",
       "      <th>hour_sin</th>\n",
       "      <th>hour_cos</th>\n",
       "      <th>weekday_sin</th>\n",
       "      <th>weekday_cos</th>\n",
       "    </tr>\n",
       "  </thead>\n",
       "  <tbody>\n",
       "    <tr>\n",
       "      <th>0</th>\n",
       "      <td>2010-01-24 12:00:00</td>\n",
       "      <td>1.4724</td>\n",
       "      <td>1.4740</td>\n",
       "      <td>1.4714</td>\n",
       "      <td>1.4715</td>\n",
       "      <td>0</td>\n",
       "      <td>1.472133</td>\n",
       "      <td>1.471879</td>\n",
       "      <td>7.233333e-07</td>\n",
       "      <td>1.47142</td>\n",
       "      <td>...</td>\n",
       "      <td>1.473481</td>\n",
       "      <td>0.280094</td>\n",
       "      <td>0.519411</td>\n",
       "      <td>0.998914</td>\n",
       "      <td>12</td>\n",
       "      <td>6</td>\n",
       "      <td>-2.449294e-16</td>\n",
       "      <td>1.0</td>\n",
       "      <td>-2.449294e-16</td>\n",
       "      <td>1.0</td>\n",
       "    </tr>\n",
       "    <tr>\n",
       "      <th>1</th>\n",
       "      <td>2010-01-25 00:00:00</td>\n",
       "      <td>1.4716</td>\n",
       "      <td>1.4733</td>\n",
       "      <td>1.4712</td>\n",
       "      <td>1.4715</td>\n",
       "      <td>0</td>\n",
       "      <td>1.472033</td>\n",
       "      <td>1.471689</td>\n",
       "      <td>8.533333e-07</td>\n",
       "      <td>1.47162</td>\n",
       "      <td>...</td>\n",
       "      <td>1.473468</td>\n",
       "      <td>0.251126</td>\n",
       "      <td>0.467529</td>\n",
       "      <td>1.000000</td>\n",
       "      <td>0</td>\n",
       "      <td>0</td>\n",
       "      <td>0.000000e+00</td>\n",
       "      <td>1.0</td>\n",
       "      <td>0.000000e+00</td>\n",
       "      <td>1.0</td>\n",
       "    </tr>\n",
       "  </tbody>\n",
       "</table>\n",
       "<p>2 rows × 42 columns</p>\n",
       "</div>"
      ],
      "text/plain": [
       "             datetime    open    high     low   close  y_pred     SMA_3  \\\n",
       "0 2010-01-24 12:00:00  1.4724  1.4740  1.4714  1.4715       0  1.472133   \n",
       "1 2010-01-25 00:00:00  1.4716  1.4733  1.4712  1.4715       0  1.472033   \n",
       "\n",
       "      EMA_3         VAR_3    SMA_5  ...  BBU_5_2.0  BBB_5_2.0  BBP_5_2.0  \\\n",
       "0  1.471879  7.233333e-07  1.47142  ...   1.473481   0.280094   0.519411   \n",
       "1  1.471689  8.533333e-07  1.47162  ...   1.473468   0.251126   0.467529   \n",
       "\n",
       "      roc_1  hour  weekday      hour_sin  hour_cos   weekday_sin  weekday_cos  \n",
       "0  0.998914    12        6 -2.449294e-16       1.0 -2.449294e-16          1.0  \n",
       "1  1.000000     0        0  0.000000e+00       1.0  0.000000e+00          1.0  \n",
       "\n",
       "[2 rows x 42 columns]"
      ]
     },
     "execution_count": 6,
     "metadata": {},
     "output_type": "execute_result"
    }
   ],
   "source": [
    "df.head(2)"
   ]
  },
  {
   "cell_type": "code",
   "execution_count": 7,
   "id": "995a77f3-eaac-403b-93f2-3d0909824c1a",
   "metadata": {},
   "outputs": [],
   "source": [
    "# this part is for backtesting"
   ]
  },
  {
   "cell_type": "code",
   "execution_count": 8,
   "id": "d34d0694-456d-43cc-91cf-cd2b7822984d",
   "metadata": {},
   "outputs": [
    {
     "name": "stdout",
     "output_type": "stream",
     "text": [
      "2021-01-15 12:00:00 2021-12-24 12:00:00\n"
     ]
    }
   ],
   "source": [
    "start_date = joblib.load(os.path.join(config.package_directory, 'models',\n",
    "                                      'first_sequence_ends_{}_{}_{}.save'.format('test',\n",
    "                                                                                 config.currency,\n",
    "                                                                                 config.freq)))\n",
    "end_date = joblib.load(os.path.join(config.package_directory, 'models',\n",
    "                                    'last_sequence_ends_{}_{}_{}.save'.format('test',\n",
    "                                                                              config.currency,\n",
    "                                                                              config.freq)))\n",
    "print(start_date, end_date)"
   ]
  },
  {
   "cell_type": "code",
   "execution_count": 9,
   "id": "26017af5-0276-49f1-b7ba-86d0f3048f6a",
   "metadata": {},
   "outputs": [
    {
     "data": {
      "text/plain": [
       "(540, 7)"
      ]
     },
     "execution_count": 9,
     "metadata": {},
     "output_type": "execute_result"
    }
   ],
   "source": [
    "df['change'] = df['close'].shift(-config.steps_ahead) / df['close'] - 1\n",
    "prediction = df.loc[(df.datetime >= start_date) & (df.datetime <= end_date), ['datetime', 'open', 'high', 'low', 'close', 'y_pred', 'change']]\n",
    "prediction.shape"
   ]
  },
  {
   "cell_type": "code",
   "execution_count": 10,
   "id": "b60a5a15-a741-46f3-aaf4-999d0e1a3923",
   "metadata": {},
   "outputs": [],
   "source": [
    "y_pred = model.predict(X_test)\n",
    "y_pred_class = y_pred.argmax(axis=-1)"
   ]
  },
  {
   "cell_type": "code",
   "execution_count": 11,
   "id": "a60f0846-8bd3-41b1-955f-18718fb33e67",
   "metadata": {},
   "outputs": [],
   "source": [
    "prediction['prediction_1'] = y_pred[:,1]"
   ]
  },
  {
   "cell_type": "code",
   "execution_count": 24,
   "id": "6e65178c-04bf-4a85-a47b-92eaa8798100",
   "metadata": {},
   "outputs": [],
   "source": [
    "prediction.to_csv(os.path.join(config.processed_data_path, config.currency,\n",
    "                               'Backtest_{}_{}.csv'.format(config.freq, config.model)), index=False)"
   ]
  }
 ],
 "metadata": {
  "environment": {
   "kernel": "python3",
   "name": "common-cpu.m95",
   "type": "gcloud",
   "uri": "gcr.io/deeplearning-platform-release/base-cpu:m95"
  },
  "kernelspec": {
   "display_name": "Python 3.8.12 ('venv': venv)",
   "language": "python",
   "name": "python3"
  },
  "language_info": {
   "codemirror_mode": {
    "name": "ipython",
    "version": 3
   },
   "file_extension": ".py",
   "mimetype": "text/x-python",
   "name": "python",
   "nbconvert_exporter": "python",
   "pygments_lexer": "ipython3",
   "version": "3.8.12"
  },
  "vscode": {
   "interpreter": {
    "hash": "40fa23d89b9b1c49769aff46680f764eee324141ae966b6198b581676b17e30e"
   }
  }
 },
 "nbformat": 4,
 "nbformat_minor": 5
}
